{
  "cells": [
    {
      "cell_type": "markdown",
      "metadata": {
        "colab_type": "text",
        "id": "view-in-github"
      },
      "source": [
        "<a href=\"https://colab.research.google.com/github/JakeOh/202110_itw_lab_python/blob/main/py25_movielens.ipynb\" target=\"_parent\"><img src=\"https://colab.research.google.com/assets/colab-badge.svg\" alt=\"Open In Colab\"/></a>"
      ]
    },
    {
      "cell_type": "code",
      "execution_count": 120,
      "metadata": {
        "id": "55I_5TeYFCGu"
      },
      "outputs": [],
      "source": [
        "import numpy as np\n",
        "import pandas as pd\n",
        "import matplotlib.pyplot as plt\n",
        "import seaborn as sns"
      ]
    },
    {
      "cell_type": "code",
      "execution_count": 121,
      "metadata": {
        "id": "EoxKYDttEpSY"
      },
      "outputs": [],
      "source": [
        "# 파일이 저장된 경로\n",
        "movies_file = 'https://github.com/wesm/pydata-book/raw/2nd-edition/datasets/movielens/movies.dat'"
      ]
    },
    {
      "cell_type": "markdown",
      "metadata": {
        "id": "YsiLi_DWFS_2"
      },
      "source": [
        "* movies.dat 파일을 읽고 DataFrame 생성.\n",
        "* DataFrame 탐색.\n",
        "* 장르가 'Animation'인 영화는 몇 개?\n",
        "* 장르가 로맨틱 코미디인 영화는 몇 개?\n",
        "* 어떤 장르의 영화가 가장 많은가?"
      ]
    },
    {
      "cell_type": "code",
      "execution_count": 122,
      "metadata": {
        "id": "B7yIMtvyKPKV"
      },
      "outputs": [],
      "source": [
        "movies_colnames = ['movie_id', 'title', 'genres']"
      ]
    },
    {
      "cell_type": "code",
      "execution_count": 123,
      "metadata": {
        "id": "6fhx3JCoE8UI"
      },
      "outputs": [],
      "source": [
        "movies = pd.read_csv(movies_file, sep='::', engine='python', names=movies_colnames)"
      ]
    },
    {
      "cell_type": "code",
      "execution_count": 124,
      "metadata": {
        "colab": {
          "base_uri": "https://localhost:8080/",
          "height": 206
        },
        "id": "m9wSIm1kJu4X",
        "outputId": "65048e24-c681-456a-cdb0-17cef86f966f"
      },
      "outputs": [
        {
          "data": {
            "text/html": [
              "<div>\n",
              "<style scoped>\n",
              "    .dataframe tbody tr th:only-of-type {\n",
              "        vertical-align: middle;\n",
              "    }\n",
              "\n",
              "    .dataframe tbody tr th {\n",
              "        vertical-align: top;\n",
              "    }\n",
              "\n",
              "    .dataframe thead th {\n",
              "        text-align: right;\n",
              "    }\n",
              "</style>\n",
              "<table border=\"1\" class=\"dataframe\">\n",
              "  <thead>\n",
              "    <tr style=\"text-align: right;\">\n",
              "      <th></th>\n",
              "      <th>movie_id</th>\n",
              "      <th>title</th>\n",
              "      <th>genres</th>\n",
              "    </tr>\n",
              "  </thead>\n",
              "  <tbody>\n",
              "    <tr>\n",
              "      <th>0</th>\n",
              "      <td>1</td>\n",
              "      <td>Toy Story (1995)</td>\n",
              "      <td>Animation|Children's|Comedy</td>\n",
              "    </tr>\n",
              "    <tr>\n",
              "      <th>1</th>\n",
              "      <td>2</td>\n",
              "      <td>Jumanji (1995)</td>\n",
              "      <td>Adventure|Children's|Fantasy</td>\n",
              "    </tr>\n",
              "    <tr>\n",
              "      <th>2</th>\n",
              "      <td>3</td>\n",
              "      <td>Grumpier Old Men (1995)</td>\n",
              "      <td>Comedy|Romance</td>\n",
              "    </tr>\n",
              "    <tr>\n",
              "      <th>3</th>\n",
              "      <td>4</td>\n",
              "      <td>Waiting to Exhale (1995)</td>\n",
              "      <td>Comedy|Drama</td>\n",
              "    </tr>\n",
              "    <tr>\n",
              "      <th>4</th>\n",
              "      <td>5</td>\n",
              "      <td>Father of the Bride Part II (1995)</td>\n",
              "      <td>Comedy</td>\n",
              "    </tr>\n",
              "  </tbody>\n",
              "</table>\n",
              "</div>"
            ],
            "text/plain": [
              "   movie_id                               title                        genres\n",
              "0         1                    Toy Story (1995)   Animation|Children's|Comedy\n",
              "1         2                      Jumanji (1995)  Adventure|Children's|Fantasy\n",
              "2         3             Grumpier Old Men (1995)                Comedy|Romance\n",
              "3         4            Waiting to Exhale (1995)                  Comedy|Drama\n",
              "4         5  Father of the Bride Part II (1995)                        Comedy"
            ]
          },
          "execution_count": 124,
          "metadata": {},
          "output_type": "execute_result"
        }
      ],
      "source": [
        "movies.head()"
      ]
    },
    {
      "cell_type": "code",
      "execution_count": 125,
      "metadata": {
        "colab": {
          "base_uri": "https://localhost:8080/"
        },
        "id": "GYWG-oB5KBB0",
        "outputId": "420887f8-1569-4781-b182-7a78d3ad3913"
      },
      "outputs": [
        {
          "name": "stdout",
          "output_type": "stream",
          "text": [
            "<class 'pandas.core.frame.DataFrame'>\n",
            "RangeIndex: 3883 entries, 0 to 3882\n",
            "Data columns (total 3 columns):\n",
            " #   Column    Non-Null Count  Dtype \n",
            "---  ------    --------------  ----- \n",
            " 0   movie_id  3883 non-null   int64 \n",
            " 1   title     3883 non-null   object\n",
            " 2   genres    3883 non-null   object\n",
            "dtypes: int64(1), object(2)\n",
            "memory usage: 91.1+ KB\n"
          ]
        }
      ],
      "source": [
        "movies.info()"
      ]
    },
    {
      "cell_type": "code",
      "execution_count": 126,
      "metadata": {
        "colab": {
          "base_uri": "https://localhost:8080/",
          "height": 206
        },
        "id": "RN-3ll02KoM0",
        "outputId": "7d2d2724-b668-4d2f-f9ce-4599a0629020"
      },
      "outputs": [
        {
          "data": {
            "text/html": [
              "<div>\n",
              "<style scoped>\n",
              "    .dataframe tbody tr th:only-of-type {\n",
              "        vertical-align: middle;\n",
              "    }\n",
              "\n",
              "    .dataframe tbody tr th {\n",
              "        vertical-align: top;\n",
              "    }\n",
              "\n",
              "    .dataframe thead th {\n",
              "        text-align: right;\n",
              "    }\n",
              "</style>\n",
              "<table border=\"1\" class=\"dataframe\">\n",
              "  <thead>\n",
              "    <tr style=\"text-align: right;\">\n",
              "      <th></th>\n",
              "      <th>movie_id</th>\n",
              "      <th>title</th>\n",
              "      <th>genres</th>\n",
              "    </tr>\n",
              "  </thead>\n",
              "  <tbody>\n",
              "    <tr>\n",
              "      <th>3878</th>\n",
              "      <td>3948</td>\n",
              "      <td>Meet the Parents (2000)</td>\n",
              "      <td>Comedy</td>\n",
              "    </tr>\n",
              "    <tr>\n",
              "      <th>3879</th>\n",
              "      <td>3949</td>\n",
              "      <td>Requiem for a Dream (2000)</td>\n",
              "      <td>Drama</td>\n",
              "    </tr>\n",
              "    <tr>\n",
              "      <th>3880</th>\n",
              "      <td>3950</td>\n",
              "      <td>Tigerland (2000)</td>\n",
              "      <td>Drama</td>\n",
              "    </tr>\n",
              "    <tr>\n",
              "      <th>3881</th>\n",
              "      <td>3951</td>\n",
              "      <td>Two Family House (2000)</td>\n",
              "      <td>Drama</td>\n",
              "    </tr>\n",
              "    <tr>\n",
              "      <th>3882</th>\n",
              "      <td>3952</td>\n",
              "      <td>Contender, The (2000)</td>\n",
              "      <td>Drama|Thriller</td>\n",
              "    </tr>\n",
              "  </tbody>\n",
              "</table>\n",
              "</div>"
            ],
            "text/plain": [
              "      movie_id                       title          genres\n",
              "3878      3948     Meet the Parents (2000)          Comedy\n",
              "3879      3949  Requiem for a Dream (2000)           Drama\n",
              "3880      3950            Tigerland (2000)           Drama\n",
              "3881      3951     Two Family House (2000)           Drama\n",
              "3882      3952       Contender, The (2000)  Drama|Thriller"
            ]
          },
          "execution_count": 126,
          "metadata": {},
          "output_type": "execute_result"
        }
      ],
      "source": [
        "movies.tail()"
      ]
    },
    {
      "cell_type": "code",
      "execution_count": 127,
      "metadata": {
        "colab": {
          "base_uri": "https://localhost:8080/",
          "height": 423
        },
        "id": "Qi_ssKekKzP8",
        "outputId": "f1ce14c8-a18c-45f6-d9c2-47b502c013d4"
      },
      "outputs": [
        {
          "data": {
            "text/html": [
              "<div>\n",
              "<style scoped>\n",
              "    .dataframe tbody tr th:only-of-type {\n",
              "        vertical-align: middle;\n",
              "    }\n",
              "\n",
              "    .dataframe tbody tr th {\n",
              "        vertical-align: top;\n",
              "    }\n",
              "\n",
              "    .dataframe thead th {\n",
              "        text-align: right;\n",
              "    }\n",
              "</style>\n",
              "<table border=\"1\" class=\"dataframe\">\n",
              "  <thead>\n",
              "    <tr style=\"text-align: right;\">\n",
              "      <th></th>\n",
              "      <th>movie_id</th>\n",
              "      <th>title</th>\n",
              "      <th>genres</th>\n",
              "    </tr>\n",
              "  </thead>\n",
              "  <tbody>\n",
              "    <tr>\n",
              "      <th>0</th>\n",
              "      <td>1</td>\n",
              "      <td>Toy Story (1995)</td>\n",
              "      <td>Animation|Children's|Comedy</td>\n",
              "    </tr>\n",
              "    <tr>\n",
              "      <th>12</th>\n",
              "      <td>13</td>\n",
              "      <td>Balto (1995)</td>\n",
              "      <td>Animation|Children's</td>\n",
              "    </tr>\n",
              "    <tr>\n",
              "      <th>47</th>\n",
              "      <td>48</td>\n",
              "      <td>Pocahontas (1995)</td>\n",
              "      <td>Animation|Children's|Musical|Romance</td>\n",
              "    </tr>\n",
              "    <tr>\n",
              "      <th>236</th>\n",
              "      <td>239</td>\n",
              "      <td>Goofy Movie, A (1995)</td>\n",
              "      <td>Animation|Children's|Comedy|Romance</td>\n",
              "    </tr>\n",
              "    <tr>\n",
              "      <th>241</th>\n",
              "      <td>244</td>\n",
              "      <td>Gumby: The Movie (1995)</td>\n",
              "      <td>Animation|Children's</td>\n",
              "    </tr>\n",
              "    <tr>\n",
              "      <th>...</th>\n",
              "      <td>...</td>\n",
              "      <td>...</td>\n",
              "      <td>...</td>\n",
              "    </tr>\n",
              "    <tr>\n",
              "      <th>3690</th>\n",
              "      <td>3759</td>\n",
              "      <td>Fun and Fancy Free (1947)</td>\n",
              "      <td>Animation|Children's|Musical</td>\n",
              "    </tr>\n",
              "    <tr>\n",
              "      <th>3706</th>\n",
              "      <td>3775</td>\n",
              "      <td>Make Mine Music (1946)</td>\n",
              "      <td>Animation|Children's|Musical</td>\n",
              "    </tr>\n",
              "    <tr>\n",
              "      <th>3707</th>\n",
              "      <td>3776</td>\n",
              "      <td>Melody Time (1948)</td>\n",
              "      <td>Animation|Children's|Musical</td>\n",
              "    </tr>\n",
              "    <tr>\n",
              "      <th>3730</th>\n",
              "      <td>3799</td>\n",
              "      <td>Pokémon the Movie 2000 (2000)</td>\n",
              "      <td>Animation|Children's</td>\n",
              "    </tr>\n",
              "    <tr>\n",
              "      <th>3875</th>\n",
              "      <td>3945</td>\n",
              "      <td>Digimon: The Movie (2000)</td>\n",
              "      <td>Adventure|Animation|Children's</td>\n",
              "    </tr>\n",
              "  </tbody>\n",
              "</table>\n",
              "<p>105 rows × 3 columns</p>\n",
              "</div>"
            ],
            "text/plain": [
              "      movie_id                          title  \\\n",
              "0            1               Toy Story (1995)   \n",
              "12          13                   Balto (1995)   \n",
              "47          48              Pocahontas (1995)   \n",
              "236        239          Goofy Movie, A (1995)   \n",
              "241        244        Gumby: The Movie (1995)   \n",
              "...        ...                            ...   \n",
              "3690      3759      Fun and Fancy Free (1947)   \n",
              "3706      3775         Make Mine Music (1946)   \n",
              "3707      3776             Melody Time (1948)   \n",
              "3730      3799  Pokémon the Movie 2000 (2000)   \n",
              "3875      3945      Digimon: The Movie (2000)   \n",
              "\n",
              "                                    genres  \n",
              "0              Animation|Children's|Comedy  \n",
              "12                    Animation|Children's  \n",
              "47    Animation|Children's|Musical|Romance  \n",
              "236    Animation|Children's|Comedy|Romance  \n",
              "241                   Animation|Children's  \n",
              "...                                    ...  \n",
              "3690          Animation|Children's|Musical  \n",
              "3706          Animation|Children's|Musical  \n",
              "3707          Animation|Children's|Musical  \n",
              "3730                  Animation|Children's  \n",
              "3875        Adventure|Animation|Children's  \n",
              "\n",
              "[105 rows x 3 columns]"
            ]
          },
          "execution_count": 127,
          "metadata": {},
          "output_type": "execute_result"
        }
      ],
      "source": [
        "# Animation 장르의 영화\n",
        "animations = movies[movies['genres'].str.contains('Animation')]\n",
        "animations"
      ]
    },
    {
      "cell_type": "code",
      "execution_count": 128,
      "metadata": {
        "colab": {
          "base_uri": "https://localhost:8080/"
        },
        "id": "MbTmDfiILQpF",
        "outputId": "57768c0a-817b-498d-fd87-9e2e7d23044b"
      },
      "outputs": [
        {
          "data": {
            "text/plain": [
              "105"
            ]
          },
          "execution_count": 128,
          "metadata": {},
          "output_type": "execute_result"
        }
      ],
      "source": [
        "len(animations)"
      ]
    },
    {
      "cell_type": "code",
      "execution_count": 129,
      "metadata": {
        "colab": {
          "base_uri": "https://localhost:8080/",
          "height": 423
        },
        "id": "d-wCNea5L16F",
        "outputId": "14e97041-ba65-44c1-900d-e4e54dec719d"
      },
      "outputs": [
        {
          "data": {
            "text/html": [
              "<div>\n",
              "<style scoped>\n",
              "    .dataframe tbody tr th:only-of-type {\n",
              "        vertical-align: middle;\n",
              "    }\n",
              "\n",
              "    .dataframe tbody tr th {\n",
              "        vertical-align: top;\n",
              "    }\n",
              "\n",
              "    .dataframe thead th {\n",
              "        text-align: right;\n",
              "    }\n",
              "</style>\n",
              "<table border=\"1\" class=\"dataframe\">\n",
              "  <thead>\n",
              "    <tr style=\"text-align: right;\">\n",
              "      <th></th>\n",
              "      <th>movie_id</th>\n",
              "      <th>title</th>\n",
              "      <th>genres</th>\n",
              "    </tr>\n",
              "  </thead>\n",
              "  <tbody>\n",
              "    <tr>\n",
              "      <th>2</th>\n",
              "      <td>3</td>\n",
              "      <td>Grumpier Old Men (1995)</td>\n",
              "      <td>Comedy|Romance</td>\n",
              "    </tr>\n",
              "    <tr>\n",
              "      <th>6</th>\n",
              "      <td>7</td>\n",
              "      <td>Sabrina (1995)</td>\n",
              "      <td>Comedy|Romance</td>\n",
              "    </tr>\n",
              "    <tr>\n",
              "      <th>10</th>\n",
              "      <td>11</td>\n",
              "      <td>American President, The (1995)</td>\n",
              "      <td>Comedy|Drama|Romance</td>\n",
              "    </tr>\n",
              "    <tr>\n",
              "      <th>38</th>\n",
              "      <td>39</td>\n",
              "      <td>Clueless (1995)</td>\n",
              "      <td>Comedy|Romance</td>\n",
              "    </tr>\n",
              "    <tr>\n",
              "      <th>63</th>\n",
              "      <td>64</td>\n",
              "      <td>Two if by Sea (1996)</td>\n",
              "      <td>Comedy|Romance</td>\n",
              "    </tr>\n",
              "    <tr>\n",
              "      <th>...</th>\n",
              "      <td>...</td>\n",
              "      <td>...</td>\n",
              "      <td>...</td>\n",
              "    </tr>\n",
              "    <tr>\n",
              "      <th>3679</th>\n",
              "      <td>3748</td>\n",
              "      <td>Match, The (1999)</td>\n",
              "      <td>Comedy|Romance</td>\n",
              "    </tr>\n",
              "    <tr>\n",
              "      <th>3759</th>\n",
              "      <td>3829</td>\n",
              "      <td>Mad About Mambo (2000)</td>\n",
              "      <td>Comedy|Romance</td>\n",
              "    </tr>\n",
              "    <tr>\n",
              "      <th>3804</th>\n",
              "      <td>3874</td>\n",
              "      <td>Couch in New York, A (1996)</td>\n",
              "      <td>Comedy|Romance</td>\n",
              "    </tr>\n",
              "    <tr>\n",
              "      <th>3815</th>\n",
              "      <td>3885</td>\n",
              "      <td>Love &amp; Sex (2000)</td>\n",
              "      <td>Comedy|Romance</td>\n",
              "    </tr>\n",
              "    <tr>\n",
              "      <th>3839</th>\n",
              "      <td>3909</td>\n",
              "      <td>Woman on Top (2000)</td>\n",
              "      <td>Comedy|Romance</td>\n",
              "    </tr>\n",
              "  </tbody>\n",
              "</table>\n",
              "<p>204 rows × 3 columns</p>\n",
              "</div>"
            ],
            "text/plain": [
              "      movie_id                           title                genres\n",
              "2            3         Grumpier Old Men (1995)        Comedy|Romance\n",
              "6            7                  Sabrina (1995)        Comedy|Romance\n",
              "10          11  American President, The (1995)  Comedy|Drama|Romance\n",
              "38          39                 Clueless (1995)        Comedy|Romance\n",
              "63          64            Two if by Sea (1996)        Comedy|Romance\n",
              "...        ...                             ...                   ...\n",
              "3679      3748               Match, The (1999)        Comedy|Romance\n",
              "3759      3829          Mad About Mambo (2000)        Comedy|Romance\n",
              "3804      3874     Couch in New York, A (1996)        Comedy|Romance\n",
              "3815      3885               Love & Sex (2000)        Comedy|Romance\n",
              "3839      3909             Woman on Top (2000)        Comedy|Romance\n",
              "\n",
              "[204 rows x 3 columns]"
            ]
          },
          "execution_count": 129,
          "metadata": {},
          "output_type": "execute_result"
        }
      ],
      "source": [
        "# 로맨틱 코미디 장르 - 장르 컬럼에 'Romance'와 'Comedy'가 포함되어 있는 영화들.\n",
        "romantic_comedies = movies[(movies['genres'].str.contains('Romance')) &\n",
        "                          (movies['genres'].str.contains('Comedy'))]\n",
        "romantic_comedies"
      ]
    },
    {
      "cell_type": "code",
      "execution_count": 130,
      "metadata": {
        "colab": {
          "base_uri": "https://localhost:8080/"
        },
        "id": "yx2TP0s7NDfc",
        "outputId": "2b28ca27-83b0-4cb0-93e4-771013cf568c"
      },
      "outputs": [
        {
          "data": {
            "text/plain": [
              "204"
            ]
          },
          "execution_count": 130,
          "metadata": {},
          "output_type": "execute_result"
        }
      ],
      "source": [
        "len(romantic_comedies)"
      ]
    },
    {
      "cell_type": "code",
      "execution_count": 131,
      "metadata": {
        "colab": {
          "base_uri": "https://localhost:8080/"
        },
        "id": "z9l9KRvRNcoU",
        "outputId": "ac83571d-ec5d-49a5-ab2c-804566cd1ead"
      },
      "outputs": [
        {
          "data": {
            "text/plain": [
              "Drama                                  843\n",
              "Comedy                                 521\n",
              "Horror                                 178\n",
              "Comedy|Drama                           162\n",
              "Comedy|Romance                         142\n",
              "                                      ... \n",
              "Action|Comedy|Crime|Horror|Thriller      1\n",
              "Action|Drama|Thriller|War                1\n",
              "Action|Adventure|Children's              1\n",
              "Action|Adventure|Children's|Fantasy      1\n",
              "Adventure|Crime|Sci-Fi|Thriller          1\n",
              "Name: genres, Length: 301, dtype: int64"
            ]
          },
          "execution_count": 131,
          "metadata": {},
          "output_type": "execute_result"
        }
      ],
      "source": [
        "# 가장 많이 나오는 장르\n",
        "movies['genres'].value_counts()"
      ]
    },
    {
      "cell_type": "code",
      "execution_count": 132,
      "metadata": {
        "colab": {
          "base_uri": "https://localhost:8080/"
        },
        "id": "bc4SUfy1OZjk",
        "outputId": "b71fa8d2-26c2-4c62-e17c-97f6fe6deeab"
      },
      "outputs": [
        {
          "data": {
            "text/plain": [
              "6408"
            ]
          },
          "execution_count": 132,
          "metadata": {},
          "output_type": "execute_result"
        }
      ],
      "source": [
        "genres = []  # 개별 영화 장르를 저장할 빈 리스트\n",
        "for s in movies['genres']:\n",
        "    genres.extend(s.split(sep='|'))\n",
        "\n",
        "len(genres)"
      ]
    },
    {
      "cell_type": "code",
      "execution_count": 133,
      "metadata": {
        "colab": {
          "base_uri": "https://localhost:8080/"
        },
        "id": "m6S48DvSP7ar",
        "outputId": "4af4fb65-5a2d-42a8-98ec-9c6c89238551"
      },
      "outputs": [
        {
          "data": {
            "text/plain": [
              "Drama          1603\n",
              "Comedy         1200\n",
              "Action          503\n",
              "Thriller        492\n",
              "Romance         471\n",
              "Horror          343\n",
              "Adventure       283\n",
              "Sci-Fi          276\n",
              "Children's      251\n",
              "Crime           211\n",
              "War             143\n",
              "Documentary     127\n",
              "Musical         114\n",
              "Mystery         106\n",
              "Animation       105\n",
              "Fantasy          68\n",
              "Western          68\n",
              "Film-Noir        44\n",
              "dtype: int64"
            ]
          },
          "execution_count": 133,
          "metadata": {},
          "output_type": "execute_result"
        }
      ],
      "source": [
        "genre_counts = pd.value_counts(genres)\n",
        "genre_counts  #> Series"
      ]
    },
    {
      "cell_type": "code",
      "execution_count": 134,
      "metadata": {
        "colab": {
          "base_uri": "https://localhost:8080/"
        },
        "id": "Xfkws5E6RMjU",
        "outputId": "357f908e-1f59-49ad-9f7d-191de78e48cf"
      },
      "outputs": [
        {
          "data": {
            "text/plain": [
              "Drama        1603\n",
              "Comedy       1200\n",
              "Action        503\n",
              "Thriller      492\n",
              "Romance       471\n",
              "Horror        343\n",
              "Adventure     283\n",
              "dtype: int64"
            ]
          },
          "execution_count": 134,
          "metadata": {},
          "output_type": "execute_result"
        }
      ],
      "source": [
        "# 장르 상위 7개 시각화\n",
        "top7 = genre_counts.head(n=7)\n",
        "top7"
      ]
    },
    {
      "cell_type": "code",
      "execution_count": 135,
      "metadata": {
        "colab": {
          "base_uri": "https://localhost:8080/",
          "height": 265
        },
        "id": "e3eVKHkASKCa",
        "outputId": "28fb2ea2-8fe2-4a9d-b2df-4297ef8410d5"
      },
      "outputs": [
        {
          "data": {
            "image/png": "[encoded data removed]",
            "text/plain": [
              "<Figure size 432x288 with 1 Axes>"
            ]
          },
          "metadata": {
            "needs_background": "light"
          },
          "output_type": "display_data"
        }
      ],
      "source": [
        "sns.barplot(x= top7.values, y=top7.index)\n",
        "plt.show()"
      ]
    },
    {
      "cell_type": "code",
      "execution_count": 136,
      "metadata": {
        "colab": {
          "base_uri": "https://localhost:8080/"
        },
        "id": "KkTkgE4TSZYp",
        "outputId": "fc92f76a-0956-47d4-ba10-0bc9a5fa140c"
      },
      "outputs": [
        {
          "data": {
            "text/plain": [
              "Documentary    127\n",
              "Musical        114\n",
              "Mystery        106\n",
              "Animation      105\n",
              "Fantasy         68\n",
              "Western         68\n",
              "Film-Noir       44\n",
              "dtype: int64"
            ]
          },
          "execution_count": 136,
          "metadata": {},
          "output_type": "execute_result"
        }
      ],
      "source": [
        "bottom7 = genre_counts.tail(n=7)\n",
        "bottom7"
      ]
    },
    {
      "cell_type": "code",
      "execution_count": 137,
      "metadata": {
        "colab": {
          "base_uri": "https://localhost:8080/",
          "height": 265
        },
        "id": "PLyBW3dUSn95",
        "outputId": "a9d594c6-58f8-44e5-a9c3-aa29c552476c"
      },
      "outputs": [
        {
          "data": {
            "image/png": "[encoded data removed]",
            "text/plain": [
              "<Figure size 432x288 with 1 Axes>"
            ]
          },
          "metadata": {
            "needs_background": "light"
          },
          "output_type": "display_data"
        }
      ],
      "source": [
        "sns.barplot(x=bottom7.values, y=bottom7.index)\n",
        "plt.show()"
      ]
    },
    {
      "cell_type": "code",
      "execution_count": 138,
      "metadata": {
        "colab": {
          "base_uri": "https://localhost:8080/",
          "height": 614
        },
        "id": "gm-GsYsvSxVZ",
        "outputId": "eaa99663-27a4-4f55-9c05-4d8d6ff4b2a6"
      },
      "outputs": [
        {
          "data": {
            "text/html": [
              "<div>\n",
              "<style scoped>\n",
              "    .dataframe tbody tr th:only-of-type {\n",
              "        vertical-align: middle;\n",
              "    }\n",
              "\n",
              "    .dataframe tbody tr th {\n",
              "        vertical-align: top;\n",
              "    }\n",
              "\n",
              "    .dataframe thead th {\n",
              "        text-align: right;\n",
              "    }\n",
              "</style>\n",
              "<table border=\"1\" class=\"dataframe\">\n",
              "  <thead>\n",
              "    <tr style=\"text-align: right;\">\n",
              "      <th></th>\n",
              "      <th>genre</th>\n",
              "      <th>counts</th>\n",
              "    </tr>\n",
              "  </thead>\n",
              "  <tbody>\n",
              "    <tr>\n",
              "      <th>0</th>\n",
              "      <td>Drama</td>\n",
              "      <td>1603</td>\n",
              "    </tr>\n",
              "    <tr>\n",
              "      <th>1</th>\n",
              "      <td>Comedy</td>\n",
              "      <td>1200</td>\n",
              "    </tr>\n",
              "    <tr>\n",
              "      <th>2</th>\n",
              "      <td>Action</td>\n",
              "      <td>503</td>\n",
              "    </tr>\n",
              "    <tr>\n",
              "      <th>3</th>\n",
              "      <td>Thriller</td>\n",
              "      <td>492</td>\n",
              "    </tr>\n",
              "    <tr>\n",
              "      <th>4</th>\n",
              "      <td>Romance</td>\n",
              "      <td>471</td>\n",
              "    </tr>\n",
              "    <tr>\n",
              "      <th>5</th>\n",
              "      <td>Horror</td>\n",
              "      <td>343</td>\n",
              "    </tr>\n",
              "    <tr>\n",
              "      <th>6</th>\n",
              "      <td>Adventure</td>\n",
              "      <td>283</td>\n",
              "    </tr>\n",
              "    <tr>\n",
              "      <th>7</th>\n",
              "      <td>Sci-Fi</td>\n",
              "      <td>276</td>\n",
              "    </tr>\n",
              "    <tr>\n",
              "      <th>8</th>\n",
              "      <td>Children's</td>\n",
              "      <td>251</td>\n",
              "    </tr>\n",
              "    <tr>\n",
              "      <th>9</th>\n",
              "      <td>Crime</td>\n",
              "      <td>211</td>\n",
              "    </tr>\n",
              "    <tr>\n",
              "      <th>10</th>\n",
              "      <td>War</td>\n",
              "      <td>143</td>\n",
              "    </tr>\n",
              "    <tr>\n",
              "      <th>11</th>\n",
              "      <td>Documentary</td>\n",
              "      <td>127</td>\n",
              "    </tr>\n",
              "    <tr>\n",
              "      <th>12</th>\n",
              "      <td>Musical</td>\n",
              "      <td>114</td>\n",
              "    </tr>\n",
              "    <tr>\n",
              "      <th>13</th>\n",
              "      <td>Mystery</td>\n",
              "      <td>106</td>\n",
              "    </tr>\n",
              "    <tr>\n",
              "      <th>14</th>\n",
              "      <td>Animation</td>\n",
              "      <td>105</td>\n",
              "    </tr>\n",
              "    <tr>\n",
              "      <th>15</th>\n",
              "      <td>Fantasy</td>\n",
              "      <td>68</td>\n",
              "    </tr>\n",
              "    <tr>\n",
              "      <th>16</th>\n",
              "      <td>Western</td>\n",
              "      <td>68</td>\n",
              "    </tr>\n",
              "    <tr>\n",
              "      <th>17</th>\n",
              "      <td>Film-Noir</td>\n",
              "      <td>44</td>\n",
              "    </tr>\n",
              "  </tbody>\n",
              "</table>\n",
              "</div>"
            ],
            "text/plain": [
              "          genre  counts\n",
              "0         Drama    1603\n",
              "1        Comedy    1200\n",
              "2        Action     503\n",
              "3      Thriller     492\n",
              "4       Romance     471\n",
              "5        Horror     343\n",
              "6     Adventure     283\n",
              "7        Sci-Fi     276\n",
              "8    Children's     251\n",
              "9         Crime     211\n",
              "10          War     143\n",
              "11  Documentary     127\n",
              "12      Musical     114\n",
              "13      Mystery     106\n",
              "14    Animation     105\n",
              "15      Fantasy      68\n",
              "16      Western      68\n",
              "17    Film-Noir      44"
            ]
          },
          "execution_count": 138,
          "metadata": {},
          "output_type": "execute_result"
        }
      ],
      "source": [
        "genre_counts_df = genre_counts.reset_index()\n",
        "genre_counts_df.columns = ['genre', 'counts']\n",
        "genre_counts_df"
      ]
    },
    {
      "cell_type": "code",
      "execution_count": 139,
      "metadata": {
        "colab": {
          "base_uri": "https://localhost:8080/",
          "height": 279
        },
        "id": "62YTc_jPTJgc",
        "outputId": "49b3a8f5-bb02-471e-ed7b-0f85b0674f43"
      },
      "outputs": [
        {
          "data": {
            "image/png": "[encoded data removed]",
            "text/plain": [
              "<Figure size 432x288 with 1 Axes>"
            ]
          },
          "metadata": {
            "needs_background": "light"
          },
          "output_type": "display_data"
        }
      ],
      "source": [
        "sns.barplot(x='counts', y='genre', data=genre_counts_df)\n",
        "plt.show()"
      ]
    },
    {
      "cell_type": "code",
      "execution_count": 140,
      "metadata": {
        "colab": {
          "base_uri": "https://localhost:8080/",
          "height": 206
        },
        "id": "exo1gFGSUTLt",
        "outputId": "122a72bc-2a59-4c42-d273-d859ceae6669"
      },
      "outputs": [
        {
          "data": {
            "text/html": [
              "<div>\n",
              "<style scoped>\n",
              "    .dataframe tbody tr th:only-of-type {\n",
              "        vertical-align: middle;\n",
              "    }\n",
              "\n",
              "    .dataframe tbody tr th {\n",
              "        vertical-align: top;\n",
              "    }\n",
              "\n",
              "    .dataframe thead th {\n",
              "        text-align: right;\n",
              "    }\n",
              "</style>\n",
              "<table border=\"1\" class=\"dataframe\">\n",
              "  <thead>\n",
              "    <tr style=\"text-align: right;\">\n",
              "      <th></th>\n",
              "      <th>movie_id</th>\n",
              "      <th>title</th>\n",
              "      <th>genres</th>\n",
              "      <th>year</th>\n",
              "    </tr>\n",
              "  </thead>\n",
              "  <tbody>\n",
              "    <tr>\n",
              "      <th>0</th>\n",
              "      <td>1</td>\n",
              "      <td>Toy Story (1995)</td>\n",
              "      <td>Animation|Children's|Comedy</td>\n",
              "      <td>1995</td>\n",
              "    </tr>\n",
              "    <tr>\n",
              "      <th>1</th>\n",
              "      <td>2</td>\n",
              "      <td>Jumanji (1995)</td>\n",
              "      <td>Adventure|Children's|Fantasy</td>\n",
              "      <td>1995</td>\n",
              "    </tr>\n",
              "    <tr>\n",
              "      <th>2</th>\n",
              "      <td>3</td>\n",
              "      <td>Grumpier Old Men (1995)</td>\n",
              "      <td>Comedy|Romance</td>\n",
              "      <td>1995</td>\n",
              "    </tr>\n",
              "    <tr>\n",
              "      <th>3</th>\n",
              "      <td>4</td>\n",
              "      <td>Waiting to Exhale (1995)</td>\n",
              "      <td>Comedy|Drama</td>\n",
              "      <td>1995</td>\n",
              "    </tr>\n",
              "    <tr>\n",
              "      <th>4</th>\n",
              "      <td>5</td>\n",
              "      <td>Father of the Bride Part II (1995)</td>\n",
              "      <td>Comedy</td>\n",
              "      <td>1995</td>\n",
              "    </tr>\n",
              "  </tbody>\n",
              "</table>\n",
              "</div>"
            ],
            "text/plain": [
              "   movie_id                               title                        genres  \\\n",
              "0         1                    Toy Story (1995)   Animation|Children's|Comedy   \n",
              "1         2                      Jumanji (1995)  Adventure|Children's|Fantasy   \n",
              "2         3             Grumpier Old Men (1995)                Comedy|Romance   \n",
              "3         4            Waiting to Exhale (1995)                  Comedy|Drama   \n",
              "4         5  Father of the Bride Part II (1995)                        Comedy   \n",
              "\n",
              "   year  \n",
              "0  1995  \n",
              "1  1995  \n",
              "2  1995  \n",
              "3  1995  \n",
              "4  1995  "
            ]
          },
          "execution_count": 140,
          "metadata": {},
          "output_type": "execute_result"
        }
      ],
      "source": [
        "# 연도별 영화 개봉 숫자 시각화\n",
        "# 영화 제목 컬럼(title)에서 연도에 해당하는 4자리 문자열을 잘라내고 정수타입으로 변환해서 새로운 컬럼 만듦.\n",
        "movies['year'] = movies['title'].str[-5:-1].astype('int')\n",
        "movies.head()"
      ]
    },
    {
      "cell_type": "code",
      "execution_count": 141,
      "metadata": {
        "colab": {
          "base_uri": "https://localhost:8080/"
        },
        "id": "bWV1HvciCHTY",
        "outputId": "eff04483-1dc6-4087-97ca-2da53ca579f5"
      },
      "outputs": [
        {
          "name": "stdout",
          "output_type": "stream",
          "text": [
            "<class 'pandas.core.frame.DataFrame'>\n",
            "RangeIndex: 3883 entries, 0 to 3882\n",
            "Data columns (total 4 columns):\n",
            " #   Column    Non-Null Count  Dtype \n",
            "---  ------    --------------  ----- \n",
            " 0   movie_id  3883 non-null   int64 \n",
            " 1   title     3883 non-null   object\n",
            " 2   genres    3883 non-null   object\n",
            " 3   year      3883 non-null   int32 \n",
            "dtypes: int32(1), int64(1), object(2)\n",
            "memory usage: 106.3+ KB\n"
          ]
        }
      ],
      "source": [
        "movies.info()"
      ]
    },
    {
      "cell_type": "code",
      "execution_count": 142,
      "metadata": {
        "colab": {
          "base_uri": "https://localhost:8080/"
        },
        "id": "8Rj6pAmgCh5I",
        "outputId": "4012dc3d-8c70-47dc-98b7-080313b50df9"
      },
      "outputs": [
        {
          "data": {
            "text/plain": [
              "1996    345\n",
              "1995    342\n",
              "1998    337\n",
              "1997    315\n",
              "1999    283\n",
              "       ... \n",
              "1923      3\n",
              "1919      3\n",
              "1922      2\n",
              "1920      2\n",
              "1921      1\n",
              "Name: year, Length: 81, dtype: int64"
            ]
          },
          "execution_count": 142,
          "metadata": {},
          "output_type": "execute_result"
        }
      ],
      "source": [
        "year_counts = movies['year'].value_counts()\n",
        "year_counts"
      ]
    },
    {
      "cell_type": "code",
      "execution_count": 143,
      "metadata": {
        "colab": {
          "base_uri": "https://localhost:8080/",
          "height": 265
        },
        "id": "kxzqUpgiCnVw",
        "outputId": "d0a14348-ec23-4391-de00-a993349627a3"
      },
      "outputs": [
        {
          "data": {
            "image/png": "[encoded data removed]",
            "text/plain": [
              "<Figure size 432x288 with 1 Axes>"
            ]
          },
          "metadata": {
            "needs_background": "light"
          },
          "output_type": "display_data"
        }
      ],
      "source": [
        "plt.plot(year_counts.index, year_counts.values)\n",
        "plt.show()"
      ]
    },
    {
      "cell_type": "code",
      "execution_count": 144,
      "metadata": {
        "colab": {
          "base_uri": "https://localhost:8080/"
        },
        "id": "DtvtFeMVEQQA",
        "outputId": "db7568cb-3e41-4c25-979a-c9176c48096d"
      },
      "outputs": [
        {
          "data": {
            "text/plain": [
              "1919      3\n",
              "1920      2\n",
              "1921      1\n",
              "1922      2\n",
              "1923      3\n",
              "       ... \n",
              "1996    345\n",
              "1997    315\n",
              "1998    337\n",
              "1999    283\n",
              "2000    156\n",
              "Name: year, Length: 81, dtype: int64"
            ]
          },
          "execution_count": 144,
          "metadata": {},
          "output_type": "execute_result"
        }
      ],
      "source": [
        "year_counts = year_counts.sort_index()  # Series를 인덱스의 오름차순 정렬을 하고 저장.\n",
        "year_counts"
      ]
    },
    {
      "cell_type": "code",
      "execution_count": 145,
      "metadata": {
        "colab": {
          "base_uri": "https://localhost:8080/",
          "height": 279
        },
        "id": "-xi4WelMEuk3",
        "outputId": "4309d699-21d0-455b-83c4-d4c838db48ca"
      },
      "outputs": [
        {
          "data": {
            "image/png": "[encoded data removed]",
            "text/plain": [
              "<Figure size 432x288 with 1 Axes>"
            ]
          },
          "metadata": {
            "needs_background": "light"
          },
          "output_type": "display_data"
        }
      ],
      "source": [
        "plt.plot(year_counts.index, year_counts.values)\n",
        "plt.xlabel('Year')\n",
        "plt.ylabel('Counts')\n",
        "plt.show()"
      ]
    },
    {
      "cell_type": "code",
      "execution_count": 146,
      "metadata": {
        "colab": {
          "base_uri": "https://localhost:8080/",
          "height": 265
        },
        "id": "1sJL3CQ0FAxw",
        "outputId": "35b0917c-dcc1-4954-ec7d-19362df3746c"
      },
      "outputs": [
        {
          "data": {
            "image/png": "[encoded data removed]",
            "text/plain": [
              "<Figure size 432x288 with 1 Axes>"
            ]
          },
          "metadata": {
            "needs_background": "light"
          },
          "output_type": "display_data"
        }
      ],
      "source": [
        "plt.bar(x=year_counts.index, height=year_counts.values)\n",
        "plt.show()"
      ]
    },
    {
      "cell_type": "markdown",
      "metadata": {
        "id": "75-Ab_IPKiWX"
      },
      "source": [
        "# DataFrame 합치기(merge)"
      ]
    },
    {
      "cell_type": "code",
      "execution_count": 147,
      "metadata": {
        "id": "ilDRjboGEz-n"
      },
      "outputs": [],
      "source": [
        "# 데이터 파일의 GitHub 경로\n",
        "movies_file = 'https://github.com/wesm/pydata-book/raw/2nd-edition/datasets/movielens/movies.dat'\n",
        "ratings_file = 'https://github.com/wesm/pydata-book/raw/2nd-edition/datasets/movielens/ratings.dat'\n",
        "users_file = 'https://github.com/wesm/pydata-book/raw/2nd-edition/datasets/movielens/users.dat'"
      ]
    },
    {
      "cell_type": "code",
      "execution_count": 148,
      "metadata": {
        "id": "7mmUvPVaLE1P"
      },
      "outputs": [],
      "source": [
        "# 데이터 파일의 컬럼 이름들\n",
        "movies_colnames = ['movie_id', 'title', 'genres']\n",
        "ratings_colnames = ['user_id', 'movie_id', 'rating', 'timestamp']\n",
        "users_colnames = ['user_id', 'gender', 'age', 'occupation', 'zip_code']"
      ]
    },
    {
      "cell_type": "code",
      "execution_count": 149,
      "metadata": {
        "id": "-1d-kn2JLxHP"
      },
      "outputs": [],
      "source": [
        "# 데이터 프레임 생성\n",
        "movies = pd.read_csv(movies_file, sep='::', engine='python', names=movies_colnames)"
      ]
    },
    {
      "cell_type": "code",
      "execution_count": 150,
      "metadata": {
        "colab": {
          "base_uri": "https://localhost:8080/"
        },
        "id": "1KEwHdN-MQfF",
        "outputId": "b1730206-d120-41c1-fccf-8212fa362768"
      },
      "outputs": [
        {
          "name": "stdout",
          "output_type": "stream",
          "text": [
            "<class 'pandas.core.frame.DataFrame'>\n",
            "RangeIndex: 3883 entries, 0 to 3882\n",
            "Data columns (total 3 columns):\n",
            " #   Column    Non-Null Count  Dtype \n",
            "---  ------    --------------  ----- \n",
            " 0   movie_id  3883 non-null   int64 \n",
            " 1   title     3883 non-null   object\n",
            " 2   genres    3883 non-null   object\n",
            "dtypes: int64(1), object(2)\n",
            "memory usage: 91.1+ KB\n"
          ]
        }
      ],
      "source": [
        "movies.info()"
      ]
    },
    {
      "cell_type": "code",
      "execution_count": 151,
      "metadata": {
        "colab": {
          "base_uri": "https://localhost:8080/",
          "height": 206
        },
        "id": "DZVgWJ8rMRnu",
        "outputId": "7e89ac59-ded3-479e-d526-93c468241797"
      },
      "outputs": [
        {
          "data": {
            "text/html": [
              "<div>\n",
              "<style scoped>\n",
              "    .dataframe tbody tr th:only-of-type {\n",
              "        vertical-align: middle;\n",
              "    }\n",
              "\n",
              "    .dataframe tbody tr th {\n",
              "        vertical-align: top;\n",
              "    }\n",
              "\n",
              "    .dataframe thead th {\n",
              "        text-align: right;\n",
              "    }\n",
              "</style>\n",
              "<table border=\"1\" class=\"dataframe\">\n",
              "  <thead>\n",
              "    <tr style=\"text-align: right;\">\n",
              "      <th></th>\n",
              "      <th>movie_id</th>\n",
              "      <th>title</th>\n",
              "      <th>genres</th>\n",
              "    </tr>\n",
              "  </thead>\n",
              "  <tbody>\n",
              "    <tr>\n",
              "      <th>0</th>\n",
              "      <td>1</td>\n",
              "      <td>Toy Story (1995)</td>\n",
              "      <td>Animation|Children's|Comedy</td>\n",
              "    </tr>\n",
              "    <tr>\n",
              "      <th>1</th>\n",
              "      <td>2</td>\n",
              "      <td>Jumanji (1995)</td>\n",
              "      <td>Adventure|Children's|Fantasy</td>\n",
              "    </tr>\n",
              "    <tr>\n",
              "      <th>2</th>\n",
              "      <td>3</td>\n",
              "      <td>Grumpier Old Men (1995)</td>\n",
              "      <td>Comedy|Romance</td>\n",
              "    </tr>\n",
              "    <tr>\n",
              "      <th>3</th>\n",
              "      <td>4</td>\n",
              "      <td>Waiting to Exhale (1995)</td>\n",
              "      <td>Comedy|Drama</td>\n",
              "    </tr>\n",
              "    <tr>\n",
              "      <th>4</th>\n",
              "      <td>5</td>\n",
              "      <td>Father of the Bride Part II (1995)</td>\n",
              "      <td>Comedy</td>\n",
              "    </tr>\n",
              "  </tbody>\n",
              "</table>\n",
              "</div>"
            ],
            "text/plain": [
              "   movie_id                               title                        genres\n",
              "0         1                    Toy Story (1995)   Animation|Children's|Comedy\n",
              "1         2                      Jumanji (1995)  Adventure|Children's|Fantasy\n",
              "2         3             Grumpier Old Men (1995)                Comedy|Romance\n",
              "3         4            Waiting to Exhale (1995)                  Comedy|Drama\n",
              "4         5  Father of the Bride Part II (1995)                        Comedy"
            ]
          },
          "execution_count": 151,
          "metadata": {},
          "output_type": "execute_result"
        }
      ],
      "source": [
        "movies.head()"
      ]
    },
    {
      "cell_type": "code",
      "execution_count": 152,
      "metadata": {
        "id": "3_tm5dd0MWx-"
      },
      "outputs": [],
      "source": [
        "ratings = pd.read_csv(ratings_file, sep='::', engine='python', names=ratings_colnames)"
      ]
    },
    {
      "cell_type": "code",
      "execution_count": 153,
      "metadata": {
        "colab": {
          "base_uri": "https://localhost:8080/"
        },
        "id": "PQS_pGgtMoi1",
        "outputId": "53e09491-f25a-4f1e-9c9e-9eda14afa5cc"
      },
      "outputs": [
        {
          "name": "stdout",
          "output_type": "stream",
          "text": [
            "<class 'pandas.core.frame.DataFrame'>\n",
            "RangeIndex: 1000209 entries, 0 to 1000208\n",
            "Data columns (total 4 columns):\n",
            " #   Column     Non-Null Count    Dtype\n",
            "---  ------     --------------    -----\n",
            " 0   user_id    1000209 non-null  int64\n",
            " 1   movie_id   1000209 non-null  int64\n",
            " 2   rating     1000209 non-null  int64\n",
            " 3   timestamp  1000209 non-null  int64\n",
            "dtypes: int64(4)\n",
            "memory usage: 30.5 MB\n"
          ]
        }
      ],
      "source": [
        "ratings.info()"
      ]
    },
    {
      "cell_type": "code",
      "execution_count": 154,
      "metadata": {
        "colab": {
          "base_uri": "https://localhost:8080/",
          "height": 206
        },
        "id": "0-x_sd-eNH9P",
        "outputId": "aa7e3d23-d16a-4dff-c3c5-328cc244acc7"
      },
      "outputs": [
        {
          "data": {
            "text/html": [
              "<div>\n",
              "<style scoped>\n",
              "    .dataframe tbody tr th:only-of-type {\n",
              "        vertical-align: middle;\n",
              "    }\n",
              "\n",
              "    .dataframe tbody tr th {\n",
              "        vertical-align: top;\n",
              "    }\n",
              "\n",
              "    .dataframe thead th {\n",
              "        text-align: right;\n",
              "    }\n",
              "</style>\n",
              "<table border=\"1\" class=\"dataframe\">\n",
              "  <thead>\n",
              "    <tr style=\"text-align: right;\">\n",
              "      <th></th>\n",
              "      <th>user_id</th>\n",
              "      <th>movie_id</th>\n",
              "      <th>rating</th>\n",
              "      <th>timestamp</th>\n",
              "    </tr>\n",
              "  </thead>\n",
              "  <tbody>\n",
              "    <tr>\n",
              "      <th>0</th>\n",
              "      <td>1</td>\n",
              "      <td>1193</td>\n",
              "      <td>5</td>\n",
              "      <td>978300760</td>\n",
              "    </tr>\n",
              "    <tr>\n",
              "      <th>1</th>\n",
              "      <td>1</td>\n",
              "      <td>661</td>\n",
              "      <td>3</td>\n",
              "      <td>978302109</td>\n",
              "    </tr>\n",
              "    <tr>\n",
              "      <th>2</th>\n",
              "      <td>1</td>\n",
              "      <td>914</td>\n",
              "      <td>3</td>\n",
              "      <td>978301968</td>\n",
              "    </tr>\n",
              "    <tr>\n",
              "      <th>3</th>\n",
              "      <td>1</td>\n",
              "      <td>3408</td>\n",
              "      <td>4</td>\n",
              "      <td>978300275</td>\n",
              "    </tr>\n",
              "    <tr>\n",
              "      <th>4</th>\n",
              "      <td>1</td>\n",
              "      <td>2355</td>\n",
              "      <td>5</td>\n",
              "      <td>978824291</td>\n",
              "    </tr>\n",
              "  </tbody>\n",
              "</table>\n",
              "</div>"
            ],
            "text/plain": [
              "   user_id  movie_id  rating  timestamp\n",
              "0        1      1193       5  978300760\n",
              "1        1       661       3  978302109\n",
              "2        1       914       3  978301968\n",
              "3        1      3408       4  978300275\n",
              "4        1      2355       5  978824291"
            ]
          },
          "execution_count": 154,
          "metadata": {},
          "output_type": "execute_result"
        }
      ],
      "source": [
        "ratings.head()"
      ]
    },
    {
      "cell_type": "code",
      "execution_count": 155,
      "metadata": {
        "colab": {
          "base_uri": "https://localhost:8080/",
          "height": 81
        },
        "id": "Zt-D_1grNotH",
        "outputId": "8a2bb74c-b932-49d1-9da4-b3d8ea90ed07"
      },
      "outputs": [
        {
          "data": {
            "text/html": [
              "<div>\n",
              "<style scoped>\n",
              "    .dataframe tbody tr th:only-of-type {\n",
              "        vertical-align: middle;\n",
              "    }\n",
              "\n",
              "    .dataframe tbody tr th {\n",
              "        vertical-align: top;\n",
              "    }\n",
              "\n",
              "    .dataframe thead th {\n",
              "        text-align: right;\n",
              "    }\n",
              "</style>\n",
              "<table border=\"1\" class=\"dataframe\">\n",
              "  <thead>\n",
              "    <tr style=\"text-align: right;\">\n",
              "      <th></th>\n",
              "      <th>movie_id</th>\n",
              "      <th>title</th>\n",
              "      <th>genres</th>\n",
              "    </tr>\n",
              "  </thead>\n",
              "  <tbody>\n",
              "    <tr>\n",
              "      <th>1176</th>\n",
              "      <td>1193</td>\n",
              "      <td>One Flew Over the Cuckoo's Nest (1975)</td>\n",
              "      <td>Drama</td>\n",
              "    </tr>\n",
              "  </tbody>\n",
              "</table>\n",
              "</div>"
            ],
            "text/plain": [
              "      movie_id                                   title genres\n",
              "1176      1193  One Flew Over the Cuckoo's Nest (1975)  Drama"
            ]
          },
          "execution_count": 155,
          "metadata": {},
          "output_type": "execute_result"
        }
      ],
      "source": [
        "movies[movies['movie_id'] == 1193]"
      ]
    },
    {
      "cell_type": "code",
      "execution_count": 156,
      "metadata": {
        "id": "5M6EycElN13m"
      },
      "outputs": [],
      "source": [
        "users = pd.read_csv(users_file, sep='::', engine='python', names=users_colnames)"
      ]
    },
    {
      "cell_type": "code",
      "execution_count": 157,
      "metadata": {
        "colab": {
          "base_uri": "https://localhost:8080/"
        },
        "id": "7dUKu3B2N_-9",
        "outputId": "425ea659-9ab8-48dd-fb91-95c042443873"
      },
      "outputs": [
        {
          "name": "stdout",
          "output_type": "stream",
          "text": [
            "<class 'pandas.core.frame.DataFrame'>\n",
            "RangeIndex: 6040 entries, 0 to 6039\n",
            "Data columns (total 5 columns):\n",
            " #   Column      Non-Null Count  Dtype \n",
            "---  ------      --------------  ----- \n",
            " 0   user_id     6040 non-null   int64 \n",
            " 1   gender      6040 non-null   object\n",
            " 2   age         6040 non-null   int64 \n",
            " 3   occupation  6040 non-null   int64 \n",
            " 4   zip_code    6040 non-null   object\n",
            "dtypes: int64(3), object(2)\n",
            "memory usage: 236.1+ KB\n"
          ]
        }
      ],
      "source": [
        "users.info()"
      ]
    },
    {
      "cell_type": "code",
      "execution_count": 158,
      "metadata": {
        "colab": {
          "base_uri": "https://localhost:8080/",
          "height": 206
        },
        "id": "wEAIqOLxOCU-",
        "outputId": "f5099d55-ec95-464d-cbe2-722bf1a90f49"
      },
      "outputs": [
        {
          "data": {
            "text/html": [
              "<div>\n",
              "<style scoped>\n",
              "    .dataframe tbody tr th:only-of-type {\n",
              "        vertical-align: middle;\n",
              "    }\n",
              "\n",
              "    .dataframe tbody tr th {\n",
              "        vertical-align: top;\n",
              "    }\n",
              "\n",
              "    .dataframe thead th {\n",
              "        text-align: right;\n",
              "    }\n",
              "</style>\n",
              "<table border=\"1\" class=\"dataframe\">\n",
              "  <thead>\n",
              "    <tr style=\"text-align: right;\">\n",
              "      <th></th>\n",
              "      <th>user_id</th>\n",
              "      <th>gender</th>\n",
              "      <th>age</th>\n",
              "      <th>occupation</th>\n",
              "      <th>zip_code</th>\n",
              "    </tr>\n",
              "  </thead>\n",
              "  <tbody>\n",
              "    <tr>\n",
              "      <th>0</th>\n",
              "      <td>1</td>\n",
              "      <td>F</td>\n",
              "      <td>1</td>\n",
              "      <td>10</td>\n",
              "      <td>48067</td>\n",
              "    </tr>\n",
              "    <tr>\n",
              "      <th>1</th>\n",
              "      <td>2</td>\n",
              "      <td>M</td>\n",
              "      <td>56</td>\n",
              "      <td>16</td>\n",
              "      <td>70072</td>\n",
              "    </tr>\n",
              "    <tr>\n",
              "      <th>2</th>\n",
              "      <td>3</td>\n",
              "      <td>M</td>\n",
              "      <td>25</td>\n",
              "      <td>15</td>\n",
              "      <td>55117</td>\n",
              "    </tr>\n",
              "    <tr>\n",
              "      <th>3</th>\n",
              "      <td>4</td>\n",
              "      <td>M</td>\n",
              "      <td>45</td>\n",
              "      <td>7</td>\n",
              "      <td>02460</td>\n",
              "    </tr>\n",
              "    <tr>\n",
              "      <th>4</th>\n",
              "      <td>5</td>\n",
              "      <td>M</td>\n",
              "      <td>25</td>\n",
              "      <td>20</td>\n",
              "      <td>55455</td>\n",
              "    </tr>\n",
              "  </tbody>\n",
              "</table>\n",
              "</div>"
            ],
            "text/plain": [
              "   user_id gender  age  occupation zip_code\n",
              "0        1      F    1          10    48067\n",
              "1        2      M   56          16    70072\n",
              "2        3      M   25          15    55117\n",
              "3        4      M   45           7    02460\n",
              "4        5      M   25          20    55455"
            ]
          },
          "execution_count": 158,
          "metadata": {},
          "output_type": "execute_result"
        }
      ],
      "source": [
        "users.head()"
      ]
    },
    {
      "cell_type": "code",
      "execution_count": 159,
      "metadata": {
        "id": "LIeypsJkOKj9"
      },
      "outputs": [],
      "source": [
        "# ratings와 movies를 merge(SQL의 join과 비슷한 기능)\n",
        "# how 파라미터: join 방식(inner, left, right, outer). 기본값은 'innner'\n",
        "# on 파라미터: join을 할 때 사용할 컬럼(들)의 이름.\n",
        "df = pd.merge(left=ratings, right=movies, how='inner', on='movie_id')"
      ]
    },
    {
      "cell_type": "code",
      "execution_count": 160,
      "metadata": {
        "colab": {
          "base_uri": "https://localhost:8080/",
          "height": 206
        },
        "id": "s-zO_5g0QgJ9",
        "outputId": "60728614-fa7b-473a-92af-9cfedffb3bb6"
      },
      "outputs": [
        {
          "data": {
            "text/html": [
              "<div>\n",
              "<style scoped>\n",
              "    .dataframe tbody tr th:only-of-type {\n",
              "        vertical-align: middle;\n",
              "    }\n",
              "\n",
              "    .dataframe tbody tr th {\n",
              "        vertical-align: top;\n",
              "    }\n",
              "\n",
              "    .dataframe thead th {\n",
              "        text-align: right;\n",
              "    }\n",
              "</style>\n",
              "<table border=\"1\" class=\"dataframe\">\n",
              "  <thead>\n",
              "    <tr style=\"text-align: right;\">\n",
              "      <th></th>\n",
              "      <th>user_id</th>\n",
              "      <th>movie_id</th>\n",
              "      <th>rating</th>\n",
              "      <th>timestamp</th>\n",
              "      <th>title</th>\n",
              "      <th>genres</th>\n",
              "    </tr>\n",
              "  </thead>\n",
              "  <tbody>\n",
              "    <tr>\n",
              "      <th>0</th>\n",
              "      <td>1</td>\n",
              "      <td>1193</td>\n",
              "      <td>5</td>\n",
              "      <td>978300760</td>\n",
              "      <td>One Flew Over the Cuckoo's Nest (1975)</td>\n",
              "      <td>Drama</td>\n",
              "    </tr>\n",
              "    <tr>\n",
              "      <th>1</th>\n",
              "      <td>2</td>\n",
              "      <td>1193</td>\n",
              "      <td>5</td>\n",
              "      <td>978298413</td>\n",
              "      <td>One Flew Over the Cuckoo's Nest (1975)</td>\n",
              "      <td>Drama</td>\n",
              "    </tr>\n",
              "    <tr>\n",
              "      <th>2</th>\n",
              "      <td>12</td>\n",
              "      <td>1193</td>\n",
              "      <td>4</td>\n",
              "      <td>978220179</td>\n",
              "      <td>One Flew Over the Cuckoo's Nest (1975)</td>\n",
              "      <td>Drama</td>\n",
              "    </tr>\n",
              "    <tr>\n",
              "      <th>3</th>\n",
              "      <td>15</td>\n",
              "      <td>1193</td>\n",
              "      <td>4</td>\n",
              "      <td>978199279</td>\n",
              "      <td>One Flew Over the Cuckoo's Nest (1975)</td>\n",
              "      <td>Drama</td>\n",
              "    </tr>\n",
              "    <tr>\n",
              "      <th>4</th>\n",
              "      <td>17</td>\n",
              "      <td>1193</td>\n",
              "      <td>5</td>\n",
              "      <td>978158471</td>\n",
              "      <td>One Flew Over the Cuckoo's Nest (1975)</td>\n",
              "      <td>Drama</td>\n",
              "    </tr>\n",
              "  </tbody>\n",
              "</table>\n",
              "</div>"
            ],
            "text/plain": [
              "   user_id  movie_id  rating  timestamp  \\\n",
              "0        1      1193       5  978300760   \n",
              "1        2      1193       5  978298413   \n",
              "2       12      1193       4  978220179   \n",
              "3       15      1193       4  978199279   \n",
              "4       17      1193       5  978158471   \n",
              "\n",
              "                                    title genres  \n",
              "0  One Flew Over the Cuckoo's Nest (1975)  Drama  \n",
              "1  One Flew Over the Cuckoo's Nest (1975)  Drama  \n",
              "2  One Flew Over the Cuckoo's Nest (1975)  Drama  \n",
              "3  One Flew Over the Cuckoo's Nest (1975)  Drama  \n",
              "4  One Flew Over the Cuckoo's Nest (1975)  Drama  "
            ]
          },
          "execution_count": 160,
          "metadata": {},
          "output_type": "execute_result"
        }
      ],
      "source": [
        "df.head()"
      ]
    },
    {
      "cell_type": "code",
      "execution_count": 161,
      "metadata": {
        "colab": {
          "base_uri": "https://localhost:8080/"
        },
        "id": "_xbeBi3VQhG9",
        "outputId": "c97ee51a-072d-4db3-d19b-a93cd886b998"
      },
      "outputs": [
        {
          "name": "stdout",
          "output_type": "stream",
          "text": [
            "<class 'pandas.core.frame.DataFrame'>\n",
            "Int64Index: 1000209 entries, 0 to 1000208\n",
            "Data columns (total 6 columns):\n",
            " #   Column     Non-Null Count    Dtype \n",
            "---  ------     --------------    ----- \n",
            " 0   user_id    1000209 non-null  int64 \n",
            " 1   movie_id   1000209 non-null  int64 \n",
            " 2   rating     1000209 non-null  int64 \n",
            " 3   timestamp  1000209 non-null  int64 \n",
            " 4   title      1000209 non-null  object\n",
            " 5   genres     1000209 non-null  object\n",
            "dtypes: int64(4), object(2)\n",
            "memory usage: 53.4+ MB\n"
          ]
        }
      ],
      "source": [
        "df.info()"
      ]
    },
    {
      "cell_type": "code",
      "execution_count": 162,
      "metadata": {
        "id": "Xyg513JoR8BF"
      },
      "outputs": [],
      "source": [
        "# df와 users 데이터프레임을 merge\n",
        "df = pd.merge(left=df, right=users, on='user_id')"
      ]
    },
    {
      "cell_type": "code",
      "execution_count": 163,
      "metadata": {
        "colab": {
          "base_uri": "https://localhost:8080/",
          "height": 206
        },
        "id": "QVchE_uFSIhW",
        "outputId": "b1e54c13-cb63-46e0-c02b-227f1e46da04"
      },
      "outputs": [
        {
          "data": {
            "text/html": [
              "<div>\n",
              "<style scoped>\n",
              "    .dataframe tbody tr th:only-of-type {\n",
              "        vertical-align: middle;\n",
              "    }\n",
              "\n",
              "    .dataframe tbody tr th {\n",
              "        vertical-align: top;\n",
              "    }\n",
              "\n",
              "    .dataframe thead th {\n",
              "        text-align: right;\n",
              "    }\n",
              "</style>\n",
              "<table border=\"1\" class=\"dataframe\">\n",
              "  <thead>\n",
              "    <tr style=\"text-align: right;\">\n",
              "      <th></th>\n",
              "      <th>user_id</th>\n",
              "      <th>movie_id</th>\n",
              "      <th>rating</th>\n",
              "      <th>timestamp</th>\n",
              "      <th>title</th>\n",
              "      <th>genres</th>\n",
              "      <th>gender</th>\n",
              "      <th>age</th>\n",
              "      <th>occupation</th>\n",
              "      <th>zip_code</th>\n",
              "    </tr>\n",
              "  </thead>\n",
              "  <tbody>\n",
              "    <tr>\n",
              "      <th>0</th>\n",
              "      <td>1</td>\n",
              "      <td>1193</td>\n",
              "      <td>5</td>\n",
              "      <td>978300760</td>\n",
              "      <td>One Flew Over the Cuckoo's Nest (1975)</td>\n",
              "      <td>Drama</td>\n",
              "      <td>F</td>\n",
              "      <td>1</td>\n",
              "      <td>10</td>\n",
              "      <td>48067</td>\n",
              "    </tr>\n",
              "    <tr>\n",
              "      <th>1</th>\n",
              "      <td>1</td>\n",
              "      <td>661</td>\n",
              "      <td>3</td>\n",
              "      <td>978302109</td>\n",
              "      <td>James and the Giant Peach (1996)</td>\n",
              "      <td>Animation|Children's|Musical</td>\n",
              "      <td>F</td>\n",
              "      <td>1</td>\n",
              "      <td>10</td>\n",
              "      <td>48067</td>\n",
              "    </tr>\n",
              "    <tr>\n",
              "      <th>2</th>\n",
              "      <td>1</td>\n",
              "      <td>914</td>\n",
              "      <td>3</td>\n",
              "      <td>978301968</td>\n",
              "      <td>My Fair Lady (1964)</td>\n",
              "      <td>Musical|Romance</td>\n",
              "      <td>F</td>\n",
              "      <td>1</td>\n",
              "      <td>10</td>\n",
              "      <td>48067</td>\n",
              "    </tr>\n",
              "    <tr>\n",
              "      <th>3</th>\n",
              "      <td>1</td>\n",
              "      <td>3408</td>\n",
              "      <td>4</td>\n",
              "      <td>978300275</td>\n",
              "      <td>Erin Brockovich (2000)</td>\n",
              "      <td>Drama</td>\n",
              "      <td>F</td>\n",
              "      <td>1</td>\n",
              "      <td>10</td>\n",
              "      <td>48067</td>\n",
              "    </tr>\n",
              "    <tr>\n",
              "      <th>4</th>\n",
              "      <td>1</td>\n",
              "      <td>2355</td>\n",
              "      <td>5</td>\n",
              "      <td>978824291</td>\n",
              "      <td>Bug's Life, A (1998)</td>\n",
              "      <td>Animation|Children's|Comedy</td>\n",
              "      <td>F</td>\n",
              "      <td>1</td>\n",
              "      <td>10</td>\n",
              "      <td>48067</td>\n",
              "    </tr>\n",
              "  </tbody>\n",
              "</table>\n",
              "</div>"
            ],
            "text/plain": [
              "   user_id  movie_id  rating  timestamp  \\\n",
              "0        1      1193       5  978300760   \n",
              "1        1       661       3  978302109   \n",
              "2        1       914       3  978301968   \n",
              "3        1      3408       4  978300275   \n",
              "4        1      2355       5  978824291   \n",
              "\n",
              "                                    title                        genres  \\\n",
              "0  One Flew Over the Cuckoo's Nest (1975)                         Drama   \n",
              "1        James and the Giant Peach (1996)  Animation|Children's|Musical   \n",
              "2                     My Fair Lady (1964)               Musical|Romance   \n",
              "3                  Erin Brockovich (2000)                         Drama   \n",
              "4                    Bug's Life, A (1998)   Animation|Children's|Comedy   \n",
              "\n",
              "  gender  age  occupation zip_code  \n",
              "0      F    1          10    48067  \n",
              "1      F    1          10    48067  \n",
              "2      F    1          10    48067  \n",
              "3      F    1          10    48067  \n",
              "4      F    1          10    48067  "
            ]
          },
          "execution_count": 163,
          "metadata": {},
          "output_type": "execute_result"
        }
      ],
      "source": [
        "df.head()"
      ]
    },
    {
      "cell_type": "code",
      "execution_count": 164,
      "metadata": {
        "colab": {
          "base_uri": "https://localhost:8080/"
        },
        "id": "VXzNpbLiSJul",
        "outputId": "641574fa-974d-49ed-faba-11328333a369"
      },
      "outputs": [
        {
          "name": "stdout",
          "output_type": "stream",
          "text": [
            "<class 'pandas.core.frame.DataFrame'>\n",
            "Int64Index: 1000209 entries, 0 to 1000208\n",
            "Data columns (total 10 columns):\n",
            " #   Column      Non-Null Count    Dtype \n",
            "---  ------      --------------    ----- \n",
            " 0   user_id     1000209 non-null  int64 \n",
            " 1   movie_id    1000209 non-null  int64 \n",
            " 2   rating      1000209 non-null  int64 \n",
            " 3   timestamp   1000209 non-null  int64 \n",
            " 4   title       1000209 non-null  object\n",
            " 5   genres      1000209 non-null  object\n",
            " 6   gender      1000209 non-null  object\n",
            " 7   age         1000209 non-null  int64 \n",
            " 8   occupation  1000209 non-null  int64 \n",
            " 9   zip_code    1000209 non-null  object\n",
            "dtypes: int64(6), object(4)\n",
            "memory usage: 83.9+ MB\n"
          ]
        }
      ],
      "source": [
        "df.info()"
      ]
    },
    {
      "cell_type": "code",
      "execution_count": 165,
      "metadata": {
        "colab": {
          "base_uri": "https://localhost:8080/",
          "height": 423
        },
        "id": "YOeUsZUVWcSA",
        "outputId": "15a2ffbb-367e-4dd8-e667-4c5c37b2270e"
      },
      "outputs": [
        {
          "data": {
            "text/html": [
              "<div>\n",
              "<style scoped>\n",
              "    .dataframe tbody tr th:only-of-type {\n",
              "        vertical-align: middle;\n",
              "    }\n",
              "\n",
              "    .dataframe tbody tr th {\n",
              "        vertical-align: top;\n",
              "    }\n",
              "\n",
              "    .dataframe thead th {\n",
              "        text-align: right;\n",
              "    }\n",
              "</style>\n",
              "<table border=\"1\" class=\"dataframe\">\n",
              "  <thead>\n",
              "    <tr style=\"text-align: right;\">\n",
              "      <th></th>\n",
              "      <th>user_id</th>\n",
              "      <th>movie_id</th>\n",
              "      <th>rating</th>\n",
              "      <th>timestamp</th>\n",
              "      <th>title</th>\n",
              "      <th>genres</th>\n",
              "      <th>gender</th>\n",
              "      <th>age</th>\n",
              "      <th>occupation</th>\n",
              "      <th>zip_code</th>\n",
              "    </tr>\n",
              "  </thead>\n",
              "  <tbody>\n",
              "    <tr>\n",
              "      <th>0</th>\n",
              "      <td>1</td>\n",
              "      <td>1193</td>\n",
              "      <td>5</td>\n",
              "      <td>978300760</td>\n",
              "      <td>One Flew Over the Cuckoo's Nest (1975)</td>\n",
              "      <td>Drama</td>\n",
              "      <td>F</td>\n",
              "      <td>1</td>\n",
              "      <td>10</td>\n",
              "      <td>48067</td>\n",
              "    </tr>\n",
              "    <tr>\n",
              "      <th>1</th>\n",
              "      <td>1</td>\n",
              "      <td>661</td>\n",
              "      <td>3</td>\n",
              "      <td>978302109</td>\n",
              "      <td>James and the Giant Peach (1996)</td>\n",
              "      <td>Animation|Children's|Musical</td>\n",
              "      <td>F</td>\n",
              "      <td>1</td>\n",
              "      <td>10</td>\n",
              "      <td>48067</td>\n",
              "    </tr>\n",
              "    <tr>\n",
              "      <th>2</th>\n",
              "      <td>1</td>\n",
              "      <td>914</td>\n",
              "      <td>3</td>\n",
              "      <td>978301968</td>\n",
              "      <td>My Fair Lady (1964)</td>\n",
              "      <td>Musical|Romance</td>\n",
              "      <td>F</td>\n",
              "      <td>1</td>\n",
              "      <td>10</td>\n",
              "      <td>48067</td>\n",
              "    </tr>\n",
              "    <tr>\n",
              "      <th>3</th>\n",
              "      <td>1</td>\n",
              "      <td>3408</td>\n",
              "      <td>4</td>\n",
              "      <td>978300275</td>\n",
              "      <td>Erin Brockovich (2000)</td>\n",
              "      <td>Drama</td>\n",
              "      <td>F</td>\n",
              "      <td>1</td>\n",
              "      <td>10</td>\n",
              "      <td>48067</td>\n",
              "    </tr>\n",
              "    <tr>\n",
              "      <th>4</th>\n",
              "      <td>1</td>\n",
              "      <td>2355</td>\n",
              "      <td>5</td>\n",
              "      <td>978824291</td>\n",
              "      <td>Bug's Life, A (1998)</td>\n",
              "      <td>Animation|Children's|Comedy</td>\n",
              "      <td>F</td>\n",
              "      <td>1</td>\n",
              "      <td>10</td>\n",
              "      <td>48067</td>\n",
              "    </tr>\n",
              "    <tr>\n",
              "      <th>...</th>\n",
              "      <td>...</td>\n",
              "      <td>...</td>\n",
              "      <td>...</td>\n",
              "      <td>...</td>\n",
              "      <td>...</td>\n",
              "      <td>...</td>\n",
              "      <td>...</td>\n",
              "      <td>...</td>\n",
              "      <td>...</td>\n",
              "      <td>...</td>\n",
              "    </tr>\n",
              "    <tr>\n",
              "      <th>1000204</th>\n",
              "      <td>4211</td>\n",
              "      <td>3791</td>\n",
              "      <td>2</td>\n",
              "      <td>965319075</td>\n",
              "      <td>Footloose (1984)</td>\n",
              "      <td>Drama</td>\n",
              "      <td>M</td>\n",
              "      <td>45</td>\n",
              "      <td>5</td>\n",
              "      <td>77662</td>\n",
              "    </tr>\n",
              "    <tr>\n",
              "      <th>1000205</th>\n",
              "      <td>4211</td>\n",
              "      <td>3806</td>\n",
              "      <td>3</td>\n",
              "      <td>965319138</td>\n",
              "      <td>MacKenna's Gold (1969)</td>\n",
              "      <td>Western</td>\n",
              "      <td>M</td>\n",
              "      <td>45</td>\n",
              "      <td>5</td>\n",
              "      <td>77662</td>\n",
              "    </tr>\n",
              "    <tr>\n",
              "      <th>1000206</th>\n",
              "      <td>4211</td>\n",
              "      <td>3840</td>\n",
              "      <td>4</td>\n",
              "      <td>965319197</td>\n",
              "      <td>Pumpkinhead (1988)</td>\n",
              "      <td>Horror</td>\n",
              "      <td>M</td>\n",
              "      <td>45</td>\n",
              "      <td>5</td>\n",
              "      <td>77662</td>\n",
              "    </tr>\n",
              "    <tr>\n",
              "      <th>1000207</th>\n",
              "      <td>4211</td>\n",
              "      <td>3766</td>\n",
              "      <td>2</td>\n",
              "      <td>965319138</td>\n",
              "      <td>Missing in Action (1984)</td>\n",
              "      <td>Action|War</td>\n",
              "      <td>M</td>\n",
              "      <td>45</td>\n",
              "      <td>5</td>\n",
              "      <td>77662</td>\n",
              "    </tr>\n",
              "    <tr>\n",
              "      <th>1000208</th>\n",
              "      <td>4211</td>\n",
              "      <td>3834</td>\n",
              "      <td>2</td>\n",
              "      <td>965318885</td>\n",
              "      <td>Bronco Billy (1980)</td>\n",
              "      <td>Adventure|Drama|Romance</td>\n",
              "      <td>M</td>\n",
              "      <td>45</td>\n",
              "      <td>5</td>\n",
              "      <td>77662</td>\n",
              "    </tr>\n",
              "  </tbody>\n",
              "</table>\n",
              "<p>1000209 rows × 10 columns</p>\n",
              "</div>"
            ],
            "text/plain": [
              "         user_id  movie_id  rating  timestamp  \\\n",
              "0              1      1193       5  978300760   \n",
              "1              1       661       3  978302109   \n",
              "2              1       914       3  978301968   \n",
              "3              1      3408       4  978300275   \n",
              "4              1      2355       5  978824291   \n",
              "...          ...       ...     ...        ...   \n",
              "1000204     4211      3791       2  965319075   \n",
              "1000205     4211      3806       3  965319138   \n",
              "1000206     4211      3840       4  965319197   \n",
              "1000207     4211      3766       2  965319138   \n",
              "1000208     4211      3834       2  965318885   \n",
              "\n",
              "                                          title                        genres  \\\n",
              "0        One Flew Over the Cuckoo's Nest (1975)                         Drama   \n",
              "1              James and the Giant Peach (1996)  Animation|Children's|Musical   \n",
              "2                           My Fair Lady (1964)               Musical|Romance   \n",
              "3                        Erin Brockovich (2000)                         Drama   \n",
              "4                          Bug's Life, A (1998)   Animation|Children's|Comedy   \n",
              "...                                         ...                           ...   \n",
              "1000204                        Footloose (1984)                         Drama   \n",
              "1000205                  MacKenna's Gold (1969)                       Western   \n",
              "1000206                      Pumpkinhead (1988)                        Horror   \n",
              "1000207                Missing in Action (1984)                    Action|War   \n",
              "1000208                     Bronco Billy (1980)       Adventure|Drama|Romance   \n",
              "\n",
              "        gender  age  occupation zip_code  \n",
              "0            F    1          10    48067  \n",
              "1            F    1          10    48067  \n",
              "2            F    1          10    48067  \n",
              "3            F    1          10    48067  \n",
              "4            F    1          10    48067  \n",
              "...        ...  ...         ...      ...  \n",
              "1000204      M   45           5    77662  \n",
              "1000205      M   45           5    77662  \n",
              "1000206      M   45           5    77662  \n",
              "1000207      M   45           5    77662  \n",
              "1000208      M   45           5    77662  \n",
              "\n",
              "[1000209 rows x 10 columns]"
            ]
          },
          "execution_count": 165,
          "metadata": {},
          "output_type": "execute_result"
        }
      ],
      "source": [
        "pd.merge(left=pd.merge(left=ratings, right=movies, on='movie_id'),\n",
        "         right=users, on='user_id')"
      ]
    },
    {
      "cell_type": "markdown",
      "metadata": {
        "id": "qtT1qQ-6XVm1"
      },
      "source": [
        "## 영화 별점 분석"
      ]
    },
    {
      "cell_type": "code",
      "execution_count": 166,
      "metadata": {
        "colab": {
          "base_uri": "https://localhost:8080/"
        },
        "id": "EUftPtFKXeqU",
        "outputId": "56472b9e-f352-4058-8a86-3b680c3b4636"
      },
      "outputs": [
        {
          "data": {
            "text/plain": [
              "count    1.000209e+06\n",
              "mean     3.581564e+00\n",
              "std      1.117102e+00\n",
              "min      1.000000e+00\n",
              "25%      3.000000e+00\n",
              "50%      4.000000e+00\n",
              "75%      4.000000e+00\n",
              "max      5.000000e+00\n",
              "Name: rating, dtype: float64"
            ]
          },
          "execution_count": 166,
          "metadata": {},
          "output_type": "execute_result"
        }
      ],
      "source": [
        "df['rating'].describe()"
      ]
    },
    {
      "cell_type": "code",
      "execution_count": 167,
      "metadata": {
        "colab": {
          "base_uri": "https://localhost:8080/",
          "height": 252
        },
        "id": "mEllVddDXlGk",
        "outputId": "a854caeb-1422-4175-8921-99466486a90c"
      },
      "outputs": [
        {
          "data": {
            "image/png": "[encoded data removed]",
            "text/plain": [
              "<Figure size 432x288 with 1 Axes>"
            ]
          },
          "metadata": {
            "needs_background": "light"
          },
          "output_type": "display_data"
        }
      ],
      "source": [
        "sns.boxplot(y='rating', data=df)\n",
        "plt.show()"
      ]
    },
    {
      "cell_type": "code",
      "execution_count": 168,
      "metadata": {
        "colab": {
          "base_uri": "https://localhost:8080/"
        },
        "id": "0DYurBUsYGK8",
        "outputId": "d90611ae-76b9-44cd-f592-50053ffa53b3"
      },
      "outputs": [
        {
          "data": {
            "text/plain": [
              "4    348971\n",
              "3    261197\n",
              "5    226310\n",
              "2    107557\n",
              "1     56174\n",
              "Name: rating, dtype: int64"
            ]
          },
          "execution_count": 168,
          "metadata": {},
          "output_type": "execute_result"
        }
      ],
      "source": [
        "# 영화 별점의 빈도수\n",
        "rating_counts = df['rating'].value_counts()\n",
        "rating_counts"
      ]
    },
    {
      "cell_type": "code",
      "execution_count": 169,
      "metadata": {
        "colab": {
          "base_uri": "https://localhost:8080/",
          "height": 279
        },
        "id": "c_skrhYcYxOd",
        "outputId": "5531ad1a-d710-4495-f30c-bb194636f229"
      },
      "outputs": [
        {
          "data": {
            "image/png": "[encoded data removed]",
            "text/plain": [
              "<Figure size 432x288 with 1 Axes>"
            ]
          },
          "metadata": {
            "needs_background": "light"
          },
          "output_type": "display_data"
        }
      ],
      "source": [
        "sns.barplot(x=rating_counts.index, y=rating_counts.values)\n",
        "plt.xlabel('Rating')\n",
        "plt.ylabel('Counts')\n",
        "plt.show()"
      ]
    },
    {
      "cell_type": "markdown",
      "metadata": {
        "id": "wjH4FMMNabf9"
      },
      "source": [
        "## 성별 분석"
      ]
    },
    {
      "cell_type": "code",
      "execution_count": 170,
      "metadata": {
        "colab": {
          "base_uri": "https://localhost:8080/"
        },
        "id": "JhinqrqBZSw8",
        "outputId": "b8ac3d37-28c8-4a9e-929b-b36a6ad92f94"
      },
      "outputs": [
        {
          "data": {
            "text/plain": [
              "M    753769\n",
              "F    246440\n",
              "Name: gender, dtype: int64"
            ]
          },
          "execution_count": 170,
          "metadata": {},
          "output_type": "execute_result"
        }
      ],
      "source": [
        "# 성별 빈도수\n",
        "gender_counts = df['gender'].value_counts()\n",
        "gender_counts"
      ]
    },
    {
      "cell_type": "code",
      "execution_count": 171,
      "metadata": {
        "colab": {
          "base_uri": "https://localhost:8080/",
          "height": 265
        },
        "id": "yiNziQDCakt0",
        "outputId": "3495a26a-ef94-41af-a2cd-3c0f085dd67e"
      },
      "outputs": [
        {
          "data": {
            "image/png": "[encoded data removed]",
            "text/plain": [
              "<Figure size 432x288 with 1 Axes>"
            ]
          },
          "metadata": {
            "needs_background": "light"
          },
          "output_type": "display_data"
        }
      ],
      "source": [
        "sns.barplot(x=gender_counts.index, y=gender_counts.values)\n",
        "plt.show()"
      ]
    },
    {
      "cell_type": "markdown",
      "metadata": {
        "id": "DUoKrDD5a6ae"
      },
      "source": [
        "## 연령대 분석"
      ]
    },
    {
      "cell_type": "code",
      "execution_count": 172,
      "metadata": {
        "colab": {
          "base_uri": "https://localhost:8080/"
        },
        "id": "4jS5zw1Oa02U",
        "outputId": "d3bb4672-e8cf-4780-eb83-7756aac112dc"
      },
      "outputs": [
        {
          "data": {
            "text/plain": [
              "25    395556\n",
              "35    199003\n",
              "18    183536\n",
              "45     83633\n",
              "50     72490\n",
              "56     38780\n",
              "1      27211\n",
              "Name: age, dtype: int64"
            ]
          },
          "execution_count": 172,
          "metadata": {},
          "output_type": "execute_result"
        }
      ],
      "source": [
        "age_counts = df['age'].value_counts()\n",
        "age_counts"
      ]
    },
    {
      "cell_type": "code",
      "execution_count": 173,
      "metadata": {
        "colab": {
          "base_uri": "https://localhost:8080/",
          "height": 279
        },
        "id": "CEAvG9GocPSl",
        "outputId": "a7ff2adb-c9ce-4b78-ca6a-04be1fa338ca"
      },
      "outputs": [
        {
          "data": {
            "image/png": "[encoded data removed]",
            "text/plain": [
              "<Figure size 432x288 with 1 Axes>"
            ]
          },
          "metadata": {
            "needs_background": "light"
          },
          "output_type": "display_data"
        }
      ],
      "source": [
        "sns.barplot(x=age_counts.index, y=age_counts.values)\n",
        "plt.xlabel('age')\n",
        "plt.show()"
      ]
    },
    {
      "cell_type": "markdown",
      "metadata": {
        "id": "EKSbOXj9a9PE"
      },
      "source": [
        "## 직업군 분석"
      ]
    },
    {
      "cell_type": "code",
      "execution_count": 174,
      "metadata": {
        "colab": {
          "base_uri": "https://localhost:8080/"
        },
        "id": "pYrft_Pia-9s",
        "outputId": "e46ce984-52fd-47c6-d32a-287ba6cd17ae"
      },
      "outputs": [
        {
          "data": {
            "text/plain": [
              "4     131032\n",
              "0     130499\n",
              "7     105425\n",
              "1      85351\n",
              "17     72816\n",
              "20     60397\n",
              "12     57214\n",
              "2      50068\n",
              "14     49109\n",
              "16     46021\n",
              "6      37205\n",
              "3      31623\n",
              "10     23290\n",
              "15     22951\n",
              "5      21850\n",
              "11     20563\n",
              "19     14904\n",
              "13     13754\n",
              "18     12086\n",
              "9      11345\n",
              "8       2706\n",
              "Name: occupation, dtype: int64"
            ]
          },
          "execution_count": 174,
          "metadata": {},
          "output_type": "execute_result"
        }
      ],
      "source": [
        "occ_counts = df['occupation'].value_counts()\n",
        "occ_counts"
      ]
    },
    {
      "cell_type": "code",
      "execution_count": 175,
      "metadata": {
        "colab": {
          "base_uri": "https://localhost:8080/",
          "height": 279
        },
        "id": "HCxnAgi8c0Td",
        "outputId": "964fde65-05cb-48d9-f6f8-64045bd4bf7c"
      },
      "outputs": [
        {
          "data": {
            "image/png": "[encoded data removed]",
            "text/plain": [
              "<Figure size 432x288 with 1 Axes>"
            ]
          },
          "metadata": {
            "needs_background": "light"
          },
          "output_type": "display_data"
        }
      ],
      "source": [
        "sns.barplot(x=occ_counts.index, y=occ_counts.values)\n",
        "plt.xlabel('occupation')\n",
        "plt.show()"
      ]
    },
    {
      "cell_type": "markdown",
      "metadata": {
        "id": "w1I4sI_nwoJB"
      },
      "source": [
        "# 영화 별점 평균 상위/하위 10개 영화"
      ]
    },
    {
      "cell_type": "code",
      "execution_count": 176,
      "metadata": {
        "colab": {
          "base_uri": "https://localhost:8080/"
        },
        "id": "XS1YnW4Hc-dT",
        "outputId": "3eb57bbe-d643-414f-ecaf-05ed93b00915"
      },
      "outputs": [
        {
          "data": {
            "text/plain": [
              "title\n",
              "$1,000,000 Duck (1971)                        3.027027\n",
              "'Night Mother (1986)                          3.371429\n",
              "'Til There Was You (1997)                     2.692308\n",
              "'burbs, The (1989)                            2.910891\n",
              "...And Justice for All (1979)                 3.713568\n",
              "                                                ...   \n",
              "Zed & Two Noughts, A (1985)                   3.413793\n",
              "Zero Effect (1998)                            3.750831\n",
              "Zero Kelvin (Kjærlighetens kjøtere) (1995)    3.500000\n",
              "Zeus and Roxanne (1997)                       2.521739\n",
              "eXistenZ (1999)                               3.256098\n",
              "Name: rating, Length: 3706, dtype: float64"
            ]
          },
          "execution_count": 176,
          "metadata": {},
          "output_type": "execute_result"
        }
      ],
      "source": [
        "# 영화 제목별 별점의 평균\n",
        "by_title = df.groupby(by='title')['rating'].mean()\n",
        "by_title"
      ]
    },
    {
      "cell_type": "code",
      "execution_count": 177,
      "metadata": {
        "colab": {
          "base_uri": "https://localhost:8080/"
        },
        "id": "0wKQLW72xOPa",
        "outputId": "10383153-8e54-414c-ac1f-d1973a3692e4"
      },
      "outputs": [
        {
          "data": {
            "text/plain": [
              "title\n",
              "Ulysses (Ulisse) (1954)                      5.0\n",
              "Lured (1947)                                 5.0\n",
              "Follow the Bitch (1998)                      5.0\n",
              "Bittersweet Motel (2000)                     5.0\n",
              "Song of Freedom (1936)                       5.0\n",
              "One Little Indian (1973)                     5.0\n",
              "Smashing Time (1967)                         5.0\n",
              "Schlafes Bruder (Brother of Sleep) (1995)    5.0\n",
              "Gate of Heavenly Peace, The (1995)           5.0\n",
              "Baby, The (1973)                             5.0\n",
              "Name: rating, dtype: float64"
            ]
          },
          "execution_count": 177,
          "metadata": {},
          "output_type": "execute_result"
        }
      ],
      "source": [
        "# by_title을 value의 내림차순 정렬 -> 첫 10개 선택: 별점 평균 상위 10개\n",
        "by_title.sort_values(ascending=False).head(n=10)"
      ]
    },
    {
      "cell_type": "code",
      "execution_count": 178,
      "metadata": {
        "colab": {
          "base_uri": "https://localhost:8080/"
        },
        "id": "-PfAEJdVx9oh",
        "outputId": "99be5fe5-6d45-4de1-a45e-85f65d8dd0b9"
      },
      "outputs": [
        {
          "data": {
            "text/plain": [
              "title\n",
              "Elstree Calling (1930)                                        1.0\n",
              "Get Over It (1996)                                            1.0\n",
              "Venice/Venice (1992)                                          1.0\n",
              "Windows (1980)                                                1.0\n",
              "Kestrel's Eye (Falkens öga) (1998)                            1.0\n",
              "McCullochs, The (1975)                                        1.0\n",
              "Sleepover (1995)                                              1.0\n",
              "Torso (Corpi Presentano Tracce di Violenza Carnale) (1973)    1.0\n",
              "Spring Fever USA (a.k.a. Lauderdale) (1989)                   1.0\n",
              "Santa with Muscles (1996)                                     1.0\n",
              "Name: rating, dtype: float64"
            ]
          },
          "execution_count": 178,
          "metadata": {},
          "output_type": "execute_result"
        }
      ],
      "source": [
        "# 별점 평균 하위 10개: by_title을 value의 오름차순 정렬 -> 첫 10개 선택\n",
        "by_title.sort_values(ascending=True).head(n=10)"
      ]
    },
    {
      "cell_type": "markdown",
      "metadata": {
        "id": "PlncXZ9zzhbi"
      },
      "source": [
        "별점의 개수가 1~2개 밖에 없는 영화들의 별점 평균을 계산하는 것은 큰 의미가 없을 것 같다. 일정 개수 이상의 별점 건수가 있는 영화들만 선택해서 별점 분석을 하는 것이 더 의미가 있을 것 같다.\n",
        "\n",
        "영화별 별점 개수를 분석해 보자."
      ]
    },
    {
      "cell_type": "code",
      "execution_count": 179,
      "metadata": {
        "colab": {
          "base_uri": "https://localhost:8080/"
        },
        "id": "SBt8G8z_yjpx",
        "outputId": "c0e11ece-08fb-4707-ac76-2f5716d4ffb4"
      },
      "outputs": [
        {
          "data": {
            "text/plain": [
              "American Beauty (1999)                                   3428\n",
              "Star Wars: Episode IV - A New Hope (1977)                2991\n",
              "Star Wars: Episode V - The Empire Strikes Back (1980)    2990\n",
              "Star Wars: Episode VI - Return of the Jedi (1983)        2883\n",
              "Jurassic Park (1993)                                     2672\n",
              "                                                         ... \n",
              "Waiting Game, The (2000)                                    1\n",
              "Shadows (Cienie) (1988)                                     1\n",
              "Juno and Paycock (1930)                                     1\n",
              "Resurrection Man (1998)                                     1\n",
              "Windows (1980)                                              1\n",
              "Name: title, Length: 3706, dtype: int64"
            ]
          },
          "execution_count": 179,
          "metadata": {},
          "output_type": "execute_result"
        }
      ],
      "source": [
        "# 영화 제목별 별점 리뷰 개수\n",
        "title_counts = df['title'].value_counts()\n",
        "title_counts"
      ]
    },
    {
      "cell_type": "code",
      "execution_count": 180,
      "metadata": {
        "colab": {
          "base_uri": "https://localhost:8080/"
        },
        "id": "e3nkk4QB0sAx",
        "outputId": "0b1b11e9-0e77-459a-ca15-f14f373df9fd"
      },
      "outputs": [
        {
          "data": {
            "text/plain": [
              "American Beauty (1999)                                   3428\n",
              "Star Wars: Episode IV - A New Hope (1977)                2991\n",
              "Star Wars: Episode V - The Empire Strikes Back (1980)    2990\n",
              "Star Wars: Episode VI - Return of the Jedi (1983)        2883\n",
              "Jurassic Park (1993)                                     2672\n",
              "Saving Private Ryan (1998)                               2653\n",
              "Terminator 2: Judgment Day (1991)                        2649\n",
              "Matrix, The (1999)                                       2590\n",
              "Back to the Future (1985)                                2583\n",
              "Silence of the Lambs, The (1991)                         2578\n",
              "Men in Black (1997)                                      2538\n",
              "Raiders of the Lost Ark (1981)                           2514\n",
              "Fargo (1996)                                             2513\n",
              "Sixth Sense, The (1999)                                  2459\n",
              "Braveheart (1995)                                        2443\n",
              "Shakespeare in Love (1998)                               2369\n",
              "Princess Bride, The (1987)                               2318\n",
              "Schindler's List (1993)                                  2304\n",
              "L.A. Confidential (1997)                                 2288\n",
              "Groundhog Day (1993)                                     2278\n",
              "Name: title, dtype: int64"
            ]
          },
          "execution_count": 180,
          "metadata": {},
          "output_type": "execute_result"
        }
      ],
      "source": [
        "title_counts.head(20)"
      ]
    },
    {
      "cell_type": "code",
      "execution_count": 181,
      "metadata": {
        "colab": {
          "base_uri": "https://localhost:8080/"
        },
        "id": "cBfYlb2O0taI",
        "outputId": "16774440-85cc-4694-fcf1-e04d860991a0"
      },
      "outputs": [
        {
          "data": {
            "text/plain": [
              "Tashunga (1995)                                       1\n",
              "Wooden Man's Bride, The (Wu Kui) (1994)               1\n",
              "One Little Indian (1973)                              1\n",
              "Broken Vessels (1998)                                 1\n",
              "Smoking/No Smoking (1993)                             1\n",
              "Nemesis 2: Nebula (1995)                              1\n",
              "Happy Weekend (1996)                                  1\n",
              "Song of Freedom (1936)                                1\n",
              "Silence of the Palace, The (Saimt el Qusur) (1994)    1\n",
              "Chain of Fools (2000)                                 1\n",
              "Superweib, Das (1996)                                 1\n",
              "Outside Ozona (1998)                                  1\n",
              "Terror in a Texas Town (1958)                         1\n",
              "Hippie Revolution, The (1996)                         1\n",
              "McCullochs, The (1975)                                1\n",
              "Waiting Game, The (2000)                              1\n",
              "Shadows (Cienie) (1988)                               1\n",
              "Juno and Paycock (1930)                               1\n",
              "Resurrection Man (1998)                               1\n",
              "Windows (1980)                                        1\n",
              "Name: title, dtype: int64"
            ]
          },
          "execution_count": 181,
          "metadata": {},
          "output_type": "execute_result"
        }
      ],
      "source": [
        "title_counts.tail(n=20)"
      ]
    },
    {
      "cell_type": "code",
      "execution_count": 182,
      "metadata": {
        "colab": {
          "base_uri": "https://localhost:8080/"
        },
        "id": "rw-b8dFV1TMp",
        "outputId": "0507963a-d559-44ce-c85f-2b8b12b34a48"
      },
      "outputs": [
        {
          "data": {
            "text/plain": [
              "count    3706.000000\n",
              "mean      269.889099\n",
              "std       384.047838\n",
              "min         1.000000\n",
              "25%        33.000000\n",
              "50%       123.500000\n",
              "75%       350.000000\n",
              "max      3428.000000\n",
              "Name: title, dtype: float64"
            ]
          },
          "execution_count": 182,
          "metadata": {},
          "output_type": "execute_result"
        }
      ],
      "source": [
        "title_counts.describe()"
      ]
    },
    {
      "cell_type": "code",
      "execution_count": 183,
      "metadata": {
        "id": "EbGOIKDb1tJQ"
      },
      "outputs": [],
      "source": [
        "# 150건 이상의 별점 리뷰를 받은 영화 제목들\n",
        "indexer = title_counts[title_counts >= 150].index"
      ]
    },
    {
      "cell_type": "code",
      "execution_count": 184,
      "metadata": {
        "colab": {
          "base_uri": "https://localhost:8080/"
        },
        "id": "D3ZlGjEw3EzI",
        "outputId": "2877a41e-52b7-4340-96cf-a0b473d1967c"
      },
      "outputs": [
        {
          "data": {
            "text/plain": [
              "Index(['American Beauty (1999)', 'Star Wars: Episode IV - A New Hope (1977)',\n",
              "       'Star Wars: Episode V - The Empire Strikes Back (1980)',\n",
              "       'Star Wars: Episode VI - Return of the Jedi (1983)',\n",
              "       'Jurassic Park (1993)', 'Saving Private Ryan (1998)',\n",
              "       'Terminator 2: Judgment Day (1991)', 'Matrix, The (1999)',\n",
              "       'Back to the Future (1985)', 'Silence of the Lambs, The (1991)',\n",
              "       ...\n",
              "       'Alligator (1980)', 'Cowboy Way, The (1994)', 'Twelfth Night (1996)',\n",
              "       'Program, The (1993)', 'Love and Death on Long Island (1997)',\n",
              "       'Asphalt Jungle, The (1950)',\n",
              "       'Tales from the Crypt Presents: Bordello of Blood (1996)',\n",
              "       'Golden Voyage of Sinbad, The (1974)', 'In the Army Now (1994)',\n",
              "       'Police Academy 5: Assignment: Miami Beach (1988)'],\n",
              "      dtype='object', length=1683)"
            ]
          },
          "execution_count": 184,
          "metadata": {},
          "output_type": "execute_result"
        }
      ],
      "source": [
        "indexer"
      ]
    },
    {
      "cell_type": "code",
      "execution_count": 185,
      "metadata": {
        "colab": {
          "base_uri": "https://localhost:8080/"
        },
        "id": "P7Zbc2Rk3l2w",
        "outputId": "762a2157-7761-435a-bc54-21a87a5b0522"
      },
      "outputs": [
        {
          "data": {
            "text/plain": [
              "1683"
            ]
          },
          "execution_count": 185,
          "metadata": {},
          "output_type": "execute_result"
        }
      ],
      "source": [
        "len(indexer)  #> 150건 이상의 별점 리뷰를 받은 영화는 1,683개"
      ]
    },
    {
      "cell_type": "code",
      "execution_count": 186,
      "metadata": {
        "colab": {
          "base_uri": "https://localhost:8080/"
        },
        "id": "3Nk7zruc3p_3",
        "outputId": "36347adb-7f93-43d0-a5ea-4a11933ebe72"
      },
      "outputs": [
        {
          "data": {
            "text/plain": [
              "American Beauty (1999)                                     4.317386\n",
              "Star Wars: Episode IV - A New Hope (1977)                  4.453694\n",
              "Star Wars: Episode V - The Empire Strikes Back (1980)      4.292977\n",
              "Star Wars: Episode VI - Return of the Jedi (1983)          4.022893\n",
              "Jurassic Park (1993)                                       3.763847\n",
              "                                                             ...   \n",
              "Asphalt Jungle, The (1950)                                 3.927152\n",
              "Tales from the Crypt Presents: Bordello of Blood (1996)    2.589404\n",
              "Golden Voyage of Sinbad, The (1974)                        3.397351\n",
              "In the Army Now (1994)                                     2.225166\n",
              "Police Academy 5: Assignment: Miami Beach (1988)           1.766667\n",
              "Name: rating, Length: 1683, dtype: float64"
            ]
          },
          "execution_count": 186,
          "metadata": {},
          "output_type": "execute_result"
        }
      ],
      "source": [
        "by_title_150 = by_title.loc[indexer]\n",
        "by_title_150"
      ]
    },
    {
      "cell_type": "code",
      "execution_count": 187,
      "metadata": {
        "colab": {
          "base_uri": "https://localhost:8080/"
        },
        "id": "-UnJvXnp365p",
        "outputId": "fbb4d870-e88c-4cfe-9f8d-644e4ab63699"
      },
      "outputs": [
        {
          "data": {
            "text/plain": [
              "Seven Samurai (The Magnificent Seven) (Shichinin no samurai) (1954)    4.560510\n",
              "Shawshank Redemption, The (1994)                                       4.554558\n",
              "Godfather, The (1972)                                                  4.524966\n",
              "Close Shave, A (1995)                                                  4.520548\n",
              "Usual Suspects, The (1995)                                             4.517106\n",
              "Schindler's List (1993)                                                4.510417\n",
              "Wrong Trousers, The (1993)                                             4.507937\n",
              "Sunset Blvd. (a.k.a. Sunset Boulevard) (1950)                          4.491489\n",
              "Raiders of the Lost Ark (1981)                                         4.477725\n",
              "Rear Window (1954)                                                     4.476190\n",
              "Name: rating, dtype: float64"
            ]
          },
          "execution_count": 187,
          "metadata": {},
          "output_type": "execute_result"
        }
      ],
      "source": [
        "# 별점 리뷰를 150건 이상 받은 영화들 중에서 별점 평균 상위 10위 이내인 영화 & 평점 평균\n",
        "by_title_150.sort_values(ascending=False).head(n=10)"
      ]
    },
    {
      "cell_type": "code",
      "execution_count": 188,
      "metadata": {
        "colab": {
          "base_uri": "https://localhost:8080/"
        },
        "id": "dcLE37X85iYB",
        "outputId": "7f29affa-055b-4fd0-f1e0-2e367d68c625"
      },
      "outputs": [
        {
          "data": {
            "text/plain": [
              "Battlefield Earth (2000)                            1.611111\n",
              "Baby Geniuses (1999)                                1.701220\n",
              "Police Academy 5: Assignment: Miami Beach (1988)    1.766667\n",
              "Stop! Or My Mom Will Shoot (1992)                   1.782123\n",
              "Jaws 3-D (1983)                                     1.852381\n",
              "Speed 2: Cruise Control (1997)                      1.871935\n",
              "Spice World (1997)                                  1.873684\n",
              "Super Mario Bros. (1993)                            1.874286\n",
              "Home Alone 3 (1997)                                 1.876623\n",
              "Superman IV: The Quest for Peace (1987)             1.888554\n",
              "Name: rating, dtype: float64"
            ]
          },
          "execution_count": 188,
          "metadata": {},
          "output_type": "execute_result"
        }
      ],
      "source": [
        "# 별점 리뷰를 150건 이상 받은 영화들 중에서 별점 평균 하위 10위 이내인 영화\n",
        "by_title_150.sort_values(ascending=True).head(n=10)"
      ]
    },
    {
      "cell_type": "markdown",
      "metadata": {
        "id": "nB705XfI_qmA"
      },
      "source": [
        "# 성별 영화의 선호도\n",
        "\n",
        "성별(gender), 제목별(title) 별점(rating)의 평균"
      ]
    },
    {
      "cell_type": "code",
      "execution_count": 189,
      "metadata": {
        "colab": {
          "base_uri": "https://localhost:8080/"
        },
        "id": "agK4I97ABeXv",
        "outputId": "4fe31eb4-18f6-4342-d286-22350ea1a170"
      },
      "outputs": [
        {
          "data": {
            "text/plain": [
              "title                                       gender\n",
              "$1,000,000 Duck (1971)                      F         3.375000\n",
              "                                            M         2.761905\n",
              "'Night Mother (1986)                        F         3.388889\n",
              "                                            M         3.352941\n",
              "'Til There Was You (1997)                   F         2.675676\n",
              "                                                        ...   \n",
              "Zero Kelvin (Kjærlighetens kjøtere) (1995)  M         3.500000\n",
              "Zeus and Roxanne (1997)                     F         2.777778\n",
              "                                            M         2.357143\n",
              "eXistenZ (1999)                             F         3.098592\n",
              "                                            M         3.289086\n",
              "Name: rating, Length: 7152, dtype: float64"
            ]
          },
          "execution_count": 189,
          "metadata": {},
          "output_type": "execute_result"
        }
      ],
      "source": [
        "df.groupby(by=['title', 'gender'])['rating'].mean()"
      ]
    },
    {
      "cell_type": "code",
      "execution_count": 190,
      "metadata": {
        "colab": {
          "base_uri": "https://localhost:8080/",
          "height": 455
        },
        "id": "DpXKwpIo6GzX",
        "outputId": "0a2defa8-60f5-4bb9-83e2-0d900d09490e"
      },
      "outputs": [
        {
          "data": {
            "text/html": [
              "<div>\n",
              "<style scoped>\n",
              "    .dataframe tbody tr th:only-of-type {\n",
              "        vertical-align: middle;\n",
              "    }\n",
              "\n",
              "    .dataframe tbody tr th {\n",
              "        vertical-align: top;\n",
              "    }\n",
              "\n",
              "    .dataframe thead th {\n",
              "        text-align: right;\n",
              "    }\n",
              "</style>\n",
              "<table border=\"1\" class=\"dataframe\">\n",
              "  <thead>\n",
              "    <tr style=\"text-align: right;\">\n",
              "      <th>gender</th>\n",
              "      <th>F</th>\n",
              "      <th>M</th>\n",
              "    </tr>\n",
              "    <tr>\n",
              "      <th>title</th>\n",
              "      <th></th>\n",
              "      <th></th>\n",
              "    </tr>\n",
              "  </thead>\n",
              "  <tbody>\n",
              "    <tr>\n",
              "      <th>$1,000,000 Duck (1971)</th>\n",
              "      <td>3.375000</td>\n",
              "      <td>2.761905</td>\n",
              "    </tr>\n",
              "    <tr>\n",
              "      <th>'Night Mother (1986)</th>\n",
              "      <td>3.388889</td>\n",
              "      <td>3.352941</td>\n",
              "    </tr>\n",
              "    <tr>\n",
              "      <th>'Til There Was You (1997)</th>\n",
              "      <td>2.675676</td>\n",
              "      <td>2.733333</td>\n",
              "    </tr>\n",
              "    <tr>\n",
              "      <th>'burbs, The (1989)</th>\n",
              "      <td>2.793478</td>\n",
              "      <td>2.962085</td>\n",
              "    </tr>\n",
              "    <tr>\n",
              "      <th>...And Justice for All (1979)</th>\n",
              "      <td>3.828571</td>\n",
              "      <td>3.689024</td>\n",
              "    </tr>\n",
              "    <tr>\n",
              "      <th>...</th>\n",
              "      <td>...</td>\n",
              "      <td>...</td>\n",
              "    </tr>\n",
              "    <tr>\n",
              "      <th>Zed &amp; Two Noughts, A (1985)</th>\n",
              "      <td>3.500000</td>\n",
              "      <td>3.380952</td>\n",
              "    </tr>\n",
              "    <tr>\n",
              "      <th>Zero Effect (1998)</th>\n",
              "      <td>3.864407</td>\n",
              "      <td>3.723140</td>\n",
              "    </tr>\n",
              "    <tr>\n",
              "      <th>Zero Kelvin (Kjærlighetens kjøtere) (1995)</th>\n",
              "      <td>NaN</td>\n",
              "      <td>3.500000</td>\n",
              "    </tr>\n",
              "    <tr>\n",
              "      <th>Zeus and Roxanne (1997)</th>\n",
              "      <td>2.777778</td>\n",
              "      <td>2.357143</td>\n",
              "    </tr>\n",
              "    <tr>\n",
              "      <th>eXistenZ (1999)</th>\n",
              "      <td>3.098592</td>\n",
              "      <td>3.289086</td>\n",
              "    </tr>\n",
              "  </tbody>\n",
              "</table>\n",
              "<p>3706 rows × 2 columns</p>\n",
              "</div>"
            ],
            "text/plain": [
              "gender                                             F         M\n",
              "title                                                         \n",
              "$1,000,000 Duck (1971)                      3.375000  2.761905\n",
              "'Night Mother (1986)                        3.388889  3.352941\n",
              "'Til There Was You (1997)                   2.675676  2.733333\n",
              "'burbs, The (1989)                          2.793478  2.962085\n",
              "...And Justice for All (1979)               3.828571  3.689024\n",
              "...                                              ...       ...\n",
              "Zed & Two Noughts, A (1985)                 3.500000  3.380952\n",
              "Zero Effect (1998)                          3.864407  3.723140\n",
              "Zero Kelvin (Kjærlighetens kjøtere) (1995)       NaN  3.500000\n",
              "Zeus and Roxanne (1997)                     2.777778  2.357143\n",
              "eXistenZ (1999)                             3.098592  3.289086\n",
              "\n",
              "[3706 rows x 2 columns]"
            ]
          },
          "execution_count": 190,
          "metadata": {},
          "output_type": "execute_result"
        }
      ],
      "source": [
        "# unstack(): 행의 인덱스를 컬럼 이름으로 변환.\n",
        "# stack(): 컬럼 이름을 행의 인덱스로 변환.\n",
        "df.groupby(by=['title', 'gender'])['rating'].mean().unstack()"
      ]
    },
    {
      "cell_type": "code",
      "execution_count": 191,
      "metadata": {
        "id": "rSUfWkECANAg"
      },
      "outputs": [],
      "source": [
        "by_gender = df.pivot_table(values='rating', index='title', columns='gender', aggfunc='mean')\n",
        "# aggfunc='mean'은 생략 가능: aggfunc 파라미터의 기본값은 'mean'이기 때문에"
      ]
    },
    {
      "cell_type": "code",
      "execution_count": 192,
      "metadata": {
        "colab": {
          "base_uri": "https://localhost:8080/",
          "height": 455
        },
        "id": "f432l8GHDB05",
        "outputId": "5f406694-fe70-424f-eb33-9498832116d7"
      },
      "outputs": [
        {
          "data": {
            "text/html": [
              "<div>\n",
              "<style scoped>\n",
              "    .dataframe tbody tr th:only-of-type {\n",
              "        vertical-align: middle;\n",
              "    }\n",
              "\n",
              "    .dataframe tbody tr th {\n",
              "        vertical-align: top;\n",
              "    }\n",
              "\n",
              "    .dataframe thead th {\n",
              "        text-align: right;\n",
              "    }\n",
              "</style>\n",
              "<table border=\"1\" class=\"dataframe\">\n",
              "  <thead>\n",
              "    <tr style=\"text-align: right;\">\n",
              "      <th>gender</th>\n",
              "      <th>F</th>\n",
              "      <th>M</th>\n",
              "    </tr>\n",
              "    <tr>\n",
              "      <th>title</th>\n",
              "      <th></th>\n",
              "      <th></th>\n",
              "    </tr>\n",
              "  </thead>\n",
              "  <tbody>\n",
              "    <tr>\n",
              "      <th>$1,000,000 Duck (1971)</th>\n",
              "      <td>3.375000</td>\n",
              "      <td>2.761905</td>\n",
              "    </tr>\n",
              "    <tr>\n",
              "      <th>'Night Mother (1986)</th>\n",
              "      <td>3.388889</td>\n",
              "      <td>3.352941</td>\n",
              "    </tr>\n",
              "    <tr>\n",
              "      <th>'Til There Was You (1997)</th>\n",
              "      <td>2.675676</td>\n",
              "      <td>2.733333</td>\n",
              "    </tr>\n",
              "    <tr>\n",
              "      <th>'burbs, The (1989)</th>\n",
              "      <td>2.793478</td>\n",
              "      <td>2.962085</td>\n",
              "    </tr>\n",
              "    <tr>\n",
              "      <th>...And Justice for All (1979)</th>\n",
              "      <td>3.828571</td>\n",
              "      <td>3.689024</td>\n",
              "    </tr>\n",
              "    <tr>\n",
              "      <th>...</th>\n",
              "      <td>...</td>\n",
              "      <td>...</td>\n",
              "    </tr>\n",
              "    <tr>\n",
              "      <th>Zed &amp; Two Noughts, A (1985)</th>\n",
              "      <td>3.500000</td>\n",
              "      <td>3.380952</td>\n",
              "    </tr>\n",
              "    <tr>\n",
              "      <th>Zero Effect (1998)</th>\n",
              "      <td>3.864407</td>\n",
              "      <td>3.723140</td>\n",
              "    </tr>\n",
              "    <tr>\n",
              "      <th>Zero Kelvin (Kjærlighetens kjøtere) (1995)</th>\n",
              "      <td>NaN</td>\n",
              "      <td>3.500000</td>\n",
              "    </tr>\n",
              "    <tr>\n",
              "      <th>Zeus and Roxanne (1997)</th>\n",
              "      <td>2.777778</td>\n",
              "      <td>2.357143</td>\n",
              "    </tr>\n",
              "    <tr>\n",
              "      <th>eXistenZ (1999)</th>\n",
              "      <td>3.098592</td>\n",
              "      <td>3.289086</td>\n",
              "    </tr>\n",
              "  </tbody>\n",
              "</table>\n",
              "<p>3706 rows × 2 columns</p>\n",
              "</div>"
            ],
            "text/plain": [
              "gender                                             F         M\n",
              "title                                                         \n",
              "$1,000,000 Duck (1971)                      3.375000  2.761905\n",
              "'Night Mother (1986)                        3.388889  3.352941\n",
              "'Til There Was You (1997)                   2.675676  2.733333\n",
              "'burbs, The (1989)                          2.793478  2.962085\n",
              "...And Justice for All (1979)               3.828571  3.689024\n",
              "...                                              ...       ...\n",
              "Zed & Two Noughts, A (1985)                 3.500000  3.380952\n",
              "Zero Effect (1998)                          3.864407  3.723140\n",
              "Zero Kelvin (Kjærlighetens kjøtere) (1995)       NaN  3.500000\n",
              "Zeus and Roxanne (1997)                     2.777778  2.357143\n",
              "eXistenZ (1999)                             3.098592  3.289086\n",
              "\n",
              "[3706 rows x 2 columns]"
            ]
          },
          "execution_count": 192,
          "metadata": {},
          "output_type": "execute_result"
        }
      ],
      "source": [
        "by_gender"
      ]
    },
    {
      "cell_type": "code",
      "execution_count": 193,
      "metadata": {
        "colab": {
          "base_uri": "https://localhost:8080/",
          "height": 423
        },
        "id": "SYuZSXn9DvaO",
        "outputId": "01081f7e-3ef2-4a95-b5dc-8d1879f6a07a"
      },
      "outputs": [
        {
          "data": {
            "text/html": [
              "<div>\n",
              "<style scoped>\n",
              "    .dataframe tbody tr th:only-of-type {\n",
              "        vertical-align: middle;\n",
              "    }\n",
              "\n",
              "    .dataframe tbody tr th {\n",
              "        vertical-align: top;\n",
              "    }\n",
              "\n",
              "    .dataframe thead th {\n",
              "        text-align: right;\n",
              "    }\n",
              "</style>\n",
              "<table border=\"1\" class=\"dataframe\">\n",
              "  <thead>\n",
              "    <tr style=\"text-align: right;\">\n",
              "      <th>gender</th>\n",
              "      <th>F</th>\n",
              "      <th>M</th>\n",
              "    </tr>\n",
              "  </thead>\n",
              "  <tbody>\n",
              "    <tr>\n",
              "      <th>American Beauty (1999)</th>\n",
              "      <td>4.238901</td>\n",
              "      <td>4.347301</td>\n",
              "    </tr>\n",
              "    <tr>\n",
              "      <th>Star Wars: Episode IV - A New Hope (1977)</th>\n",
              "      <td>4.302937</td>\n",
              "      <td>4.495307</td>\n",
              "    </tr>\n",
              "    <tr>\n",
              "      <th>Star Wars: Episode V - The Empire Strikes Back (1980)</th>\n",
              "      <td>4.106481</td>\n",
              "      <td>4.344577</td>\n",
              "    </tr>\n",
              "    <tr>\n",
              "      <th>Star Wars: Episode VI - Return of the Jedi (1983)</th>\n",
              "      <td>3.865237</td>\n",
              "      <td>4.069058</td>\n",
              "    </tr>\n",
              "    <tr>\n",
              "      <th>Jurassic Park (1993)</th>\n",
              "      <td>3.579407</td>\n",
              "      <td>3.814197</td>\n",
              "    </tr>\n",
              "    <tr>\n",
              "      <th>...</th>\n",
              "      <td>...</td>\n",
              "      <td>...</td>\n",
              "    </tr>\n",
              "    <tr>\n",
              "      <th>Asphalt Jungle, The (1950)</th>\n",
              "      <td>3.571429</td>\n",
              "      <td>4.008130</td>\n",
              "    </tr>\n",
              "    <tr>\n",
              "      <th>Tales from the Crypt Presents: Bordello of Blood (1996)</th>\n",
              "      <td>2.727273</td>\n",
              "      <td>2.565891</td>\n",
              "    </tr>\n",
              "    <tr>\n",
              "      <th>Golden Voyage of Sinbad, The (1974)</th>\n",
              "      <td>3.157895</td>\n",
              "      <td>3.431818</td>\n",
              "    </tr>\n",
              "    <tr>\n",
              "      <th>In the Army Now (1994)</th>\n",
              "      <td>2.384615</td>\n",
              "      <td>2.192000</td>\n",
              "    </tr>\n",
              "    <tr>\n",
              "      <th>Police Academy 5: Assignment: Miami Beach (1988)</th>\n",
              "      <td>1.935484</td>\n",
              "      <td>1.722689</td>\n",
              "    </tr>\n",
              "  </tbody>\n",
              "</table>\n",
              "<p>1683 rows × 2 columns</p>\n",
              "</div>"
            ],
            "text/plain": [
              "gender                                                     F         M\n",
              "American Beauty (1999)                              4.238901  4.347301\n",
              "Star Wars: Episode IV - A New Hope (1977)           4.302937  4.495307\n",
              "Star Wars: Episode V - The Empire Strikes Back ...  4.106481  4.344577\n",
              "Star Wars: Episode VI - Return of the Jedi (1983)   3.865237  4.069058\n",
              "Jurassic Park (1993)                                3.579407  3.814197\n",
              "...                                                      ...       ...\n",
              "Asphalt Jungle, The (1950)                          3.571429  4.008130\n",
              "Tales from the Crypt Presents: Bordello of Bloo...  2.727273  2.565891\n",
              "Golden Voyage of Sinbad, The (1974)                 3.157895  3.431818\n",
              "In the Army Now (1994)                              2.384615  2.192000\n",
              "Police Academy 5: Assignment: Miami Beach (1988)    1.935484  1.722689\n",
              "\n",
              "[1683 rows x 2 columns]"
            ]
          },
          "execution_count": 193,
          "metadata": {},
          "output_type": "execute_result"
        }
      ],
      "source": [
        "# 150번 이상의 별점 리뷰를 받은 영화들\n",
        "by_gender_150 = by_gender.loc[indexer]\n",
        "by_gender_150"
      ]
    },
    {
      "cell_type": "code",
      "execution_count": 194,
      "metadata": {
        "colab": {
          "base_uri": "https://localhost:8080/",
          "height": 363
        },
        "id": "O06crtrwEokP",
        "outputId": "e91e7a2d-bdde-4537-9d1e-f286de4ef395"
      },
      "outputs": [
        {
          "data": {
            "text/html": [
              "<div>\n",
              "<style scoped>\n",
              "    .dataframe tbody tr th:only-of-type {\n",
              "        vertical-align: middle;\n",
              "    }\n",
              "\n",
              "    .dataframe tbody tr th {\n",
              "        vertical-align: top;\n",
              "    }\n",
              "\n",
              "    .dataframe thead th {\n",
              "        text-align: right;\n",
              "    }\n",
              "</style>\n",
              "<table border=\"1\" class=\"dataframe\">\n",
              "  <thead>\n",
              "    <tr style=\"text-align: right;\">\n",
              "      <th>gender</th>\n",
              "      <th>F</th>\n",
              "      <th>M</th>\n",
              "    </tr>\n",
              "  </thead>\n",
              "  <tbody>\n",
              "    <tr>\n",
              "      <th>Close Shave, A (1995)</th>\n",
              "      <td>4.644444</td>\n",
              "      <td>4.473795</td>\n",
              "    </tr>\n",
              "    <tr>\n",
              "      <th>Wrong Trousers, The (1993)</th>\n",
              "      <td>4.588235</td>\n",
              "      <td>4.478261</td>\n",
              "    </tr>\n",
              "    <tr>\n",
              "      <th>General, The (1927)</th>\n",
              "      <td>4.575758</td>\n",
              "      <td>4.329480</td>\n",
              "    </tr>\n",
              "    <tr>\n",
              "      <th>Sunset Blvd. (a.k.a. Sunset Boulevard) (1950)</th>\n",
              "      <td>4.572650</td>\n",
              "      <td>4.464589</td>\n",
              "    </tr>\n",
              "    <tr>\n",
              "      <th>Wallace &amp; Gromit: The Best of Aardman Animation (1996)</th>\n",
              "      <td>4.563107</td>\n",
              "      <td>4.385075</td>\n",
              "    </tr>\n",
              "    <tr>\n",
              "      <th>Schindler's List (1993)</th>\n",
              "      <td>4.562602</td>\n",
              "      <td>4.491415</td>\n",
              "    </tr>\n",
              "    <tr>\n",
              "      <th>Grand Illusion (Grande illusion, La) (1937)</th>\n",
              "      <td>4.560976</td>\n",
              "      <td>4.266129</td>\n",
              "    </tr>\n",
              "    <tr>\n",
              "      <th>Shawshank Redemption, The (1994)</th>\n",
              "      <td>4.539075</td>\n",
              "      <td>4.560625</td>\n",
              "    </tr>\n",
              "    <tr>\n",
              "      <th>Grand Day Out, A (1992)</th>\n",
              "      <td>4.537879</td>\n",
              "      <td>4.293255</td>\n",
              "    </tr>\n",
              "    <tr>\n",
              "      <th>To Kill a Mockingbird (1962)</th>\n",
              "      <td>4.536667</td>\n",
              "      <td>4.372611</td>\n",
              "    </tr>\n",
              "  </tbody>\n",
              "</table>\n",
              "</div>"
            ],
            "text/plain": [
              "gender                                                     F         M\n",
              "Close Shave, A (1995)                               4.644444  4.473795\n",
              "Wrong Trousers, The (1993)                          4.588235  4.478261\n",
              "General, The (1927)                                 4.575758  4.329480\n",
              "Sunset Blvd. (a.k.a. Sunset Boulevard) (1950)       4.572650  4.464589\n",
              "Wallace & Gromit: The Best of Aardman Animation...  4.563107  4.385075\n",
              "Schindler's List (1993)                             4.562602  4.491415\n",
              "Grand Illusion (Grande illusion, La) (1937)         4.560976  4.266129\n",
              "Shawshank Redemption, The (1994)                    4.539075  4.560625\n",
              "Grand Day Out, A (1992)                             4.537879  4.293255\n",
              "To Kill a Mockingbird (1962)                        4.536667  4.372611"
            ]
          },
          "execution_count": 194,
          "metadata": {},
          "output_type": "execute_result"
        }
      ],
      "source": [
        "# 여성 별점 평균 상위 10개 영화\n",
        "by_gender_150.sort_values(by='F', ascending=False).head(n=10)"
      ]
    },
    {
      "cell_type": "code",
      "execution_count": 195,
      "metadata": {
        "colab": {
          "base_uri": "https://localhost:8080/",
          "height": 363
        },
        "id": "Clq1bTYAFc83",
        "outputId": "2b539193-bc4c-45f7-b049-1e16e780ec11"
      },
      "outputs": [
        {
          "data": {
            "text/html": [
              "<div>\n",
              "<style scoped>\n",
              "    .dataframe tbody tr th:only-of-type {\n",
              "        vertical-align: middle;\n",
              "    }\n",
              "\n",
              "    .dataframe tbody tr th {\n",
              "        vertical-align: top;\n",
              "    }\n",
              "\n",
              "    .dataframe thead th {\n",
              "        text-align: right;\n",
              "    }\n",
              "</style>\n",
              "<table border=\"1\" class=\"dataframe\">\n",
              "  <thead>\n",
              "    <tr style=\"text-align: right;\">\n",
              "      <th>gender</th>\n",
              "      <th>F</th>\n",
              "      <th>M</th>\n",
              "    </tr>\n",
              "  </thead>\n",
              "  <tbody>\n",
              "    <tr>\n",
              "      <th>Godfather, The (1972)</th>\n",
              "      <td>4.314700</td>\n",
              "      <td>4.583333</td>\n",
              "    </tr>\n",
              "    <tr>\n",
              "      <th>Seven Samurai (The Magnificent Seven) (Shichinin no samurai) (1954)</th>\n",
              "      <td>4.481132</td>\n",
              "      <td>4.576628</td>\n",
              "    </tr>\n",
              "    <tr>\n",
              "      <th>Shawshank Redemption, The (1994)</th>\n",
              "      <td>4.539075</td>\n",
              "      <td>4.560625</td>\n",
              "    </tr>\n",
              "    <tr>\n",
              "      <th>Raiders of the Lost Ark (1981)</th>\n",
              "      <td>4.332168</td>\n",
              "      <td>4.520597</td>\n",
              "    </tr>\n",
              "    <tr>\n",
              "      <th>Usual Suspects, The (1995)</th>\n",
              "      <td>4.513317</td>\n",
              "      <td>4.518248</td>\n",
              "    </tr>\n",
              "    <tr>\n",
              "      <th>Star Wars: Episode IV - A New Hope (1977)</th>\n",
              "      <td>4.302937</td>\n",
              "      <td>4.495307</td>\n",
              "    </tr>\n",
              "    <tr>\n",
              "      <th>Schindler's List (1993)</th>\n",
              "      <td>4.562602</td>\n",
              "      <td>4.491415</td>\n",
              "    </tr>\n",
              "    <tr>\n",
              "      <th>Paths of Glory (1957)</th>\n",
              "      <td>4.392857</td>\n",
              "      <td>4.485149</td>\n",
              "    </tr>\n",
              "    <tr>\n",
              "      <th>Wrong Trousers, The (1993)</th>\n",
              "      <td>4.588235</td>\n",
              "      <td>4.478261</td>\n",
              "    </tr>\n",
              "    <tr>\n",
              "      <th>Close Shave, A (1995)</th>\n",
              "      <td>4.644444</td>\n",
              "      <td>4.473795</td>\n",
              "    </tr>\n",
              "  </tbody>\n",
              "</table>\n",
              "</div>"
            ],
            "text/plain": [
              "gender                                                     F         M\n",
              "Godfather, The (1972)                               4.314700  4.583333\n",
              "Seven Samurai (The Magnificent Seven) (Shichini...  4.481132  4.576628\n",
              "Shawshank Redemption, The (1994)                    4.539075  4.560625\n",
              "Raiders of the Lost Ark (1981)                      4.332168  4.520597\n",
              "Usual Suspects, The (1995)                          4.513317  4.518248\n",
              "Star Wars: Episode IV - A New Hope (1977)           4.302937  4.495307\n",
              "Schindler's List (1993)                             4.562602  4.491415\n",
              "Paths of Glory (1957)                               4.392857  4.485149\n",
              "Wrong Trousers, The (1993)                          4.588235  4.478261\n",
              "Close Shave, A (1995)                               4.644444  4.473795"
            ]
          },
          "execution_count": 195,
          "metadata": {},
          "output_type": "execute_result"
        }
      ],
      "source": [
        "# 남성 별점 평균 상위 10개 영화\n",
        "by_gender_150.sort_values(by='M', ascending=False).head(n=10)"
      ]
    },
    {
      "cell_type": "markdown",
      "metadata": {
        "id": "CZztGMakHBMv"
      },
      "source": [
        "성별 선호도의 차이가 큰 영화 --> 성별 별점 평균의 차이 파생 변수(새로운 컬럼) 추가"
      ]
    },
    {
      "cell_type": "code",
      "execution_count": 196,
      "metadata": {
        "id": "04pnb1jWH2Up"
      },
      "outputs": [],
      "source": [
        "by_gender_150['diff'] = by_gender_150['M'] - by_gender_150['F']"
      ]
    },
    {
      "cell_type": "code",
      "execution_count": 197,
      "metadata": {
        "colab": {
          "base_uri": "https://localhost:8080/",
          "height": 423
        },
        "id": "7GJpPpN5IA3e",
        "outputId": "f2f59346-f26d-43fe-f096-7ecde24b3767"
      },
      "outputs": [
        {
          "data": {
            "text/html": [
              "<div>\n",
              "<style scoped>\n",
              "    .dataframe tbody tr th:only-of-type {\n",
              "        vertical-align: middle;\n",
              "    }\n",
              "\n",
              "    .dataframe tbody tr th {\n",
              "        vertical-align: top;\n",
              "    }\n",
              "\n",
              "    .dataframe thead th {\n",
              "        text-align: right;\n",
              "    }\n",
              "</style>\n",
              "<table border=\"1\" class=\"dataframe\">\n",
              "  <thead>\n",
              "    <tr style=\"text-align: right;\">\n",
              "      <th>gender</th>\n",
              "      <th>F</th>\n",
              "      <th>M</th>\n",
              "      <th>diff</th>\n",
              "    </tr>\n",
              "  </thead>\n",
              "  <tbody>\n",
              "    <tr>\n",
              "      <th>American Beauty (1999)</th>\n",
              "      <td>4.238901</td>\n",
              "      <td>4.347301</td>\n",
              "      <td>0.108400</td>\n",
              "    </tr>\n",
              "    <tr>\n",
              "      <th>Star Wars: Episode IV - A New Hope (1977)</th>\n",
              "      <td>4.302937</td>\n",
              "      <td>4.495307</td>\n",
              "      <td>0.192371</td>\n",
              "    </tr>\n",
              "    <tr>\n",
              "      <th>Star Wars: Episode V - The Empire Strikes Back (1980)</th>\n",
              "      <td>4.106481</td>\n",
              "      <td>4.344577</td>\n",
              "      <td>0.238096</td>\n",
              "    </tr>\n",
              "    <tr>\n",
              "      <th>Star Wars: Episode VI - Return of the Jedi (1983)</th>\n",
              "      <td>3.865237</td>\n",
              "      <td>4.069058</td>\n",
              "      <td>0.203821</td>\n",
              "    </tr>\n",
              "    <tr>\n",
              "      <th>Jurassic Park (1993)</th>\n",
              "      <td>3.579407</td>\n",
              "      <td>3.814197</td>\n",
              "      <td>0.234791</td>\n",
              "    </tr>\n",
              "    <tr>\n",
              "      <th>...</th>\n",
              "      <td>...</td>\n",
              "      <td>...</td>\n",
              "      <td>...</td>\n",
              "    </tr>\n",
              "    <tr>\n",
              "      <th>Asphalt Jungle, The (1950)</th>\n",
              "      <td>3.571429</td>\n",
              "      <td>4.008130</td>\n",
              "      <td>0.436702</td>\n",
              "    </tr>\n",
              "    <tr>\n",
              "      <th>Tales from the Crypt Presents: Bordello of Blood (1996)</th>\n",
              "      <td>2.727273</td>\n",
              "      <td>2.565891</td>\n",
              "      <td>-0.161381</td>\n",
              "    </tr>\n",
              "    <tr>\n",
              "      <th>Golden Voyage of Sinbad, The (1974)</th>\n",
              "      <td>3.157895</td>\n",
              "      <td>3.431818</td>\n",
              "      <td>0.273923</td>\n",
              "    </tr>\n",
              "    <tr>\n",
              "      <th>In the Army Now (1994)</th>\n",
              "      <td>2.384615</td>\n",
              "      <td>2.192000</td>\n",
              "      <td>-0.192615</td>\n",
              "    </tr>\n",
              "    <tr>\n",
              "      <th>Police Academy 5: Assignment: Miami Beach (1988)</th>\n",
              "      <td>1.935484</td>\n",
              "      <td>1.722689</td>\n",
              "      <td>-0.212795</td>\n",
              "    </tr>\n",
              "  </tbody>\n",
              "</table>\n",
              "<p>1683 rows × 3 columns</p>\n",
              "</div>"
            ],
            "text/plain": [
              "gender                                                     F         M  \\\n",
              "American Beauty (1999)                              4.238901  4.347301   \n",
              "Star Wars: Episode IV - A New Hope (1977)           4.302937  4.495307   \n",
              "Star Wars: Episode V - The Empire Strikes Back ...  4.106481  4.344577   \n",
              "Star Wars: Episode VI - Return of the Jedi (1983)   3.865237  4.069058   \n",
              "Jurassic Park (1993)                                3.579407  3.814197   \n",
              "...                                                      ...       ...   \n",
              "Asphalt Jungle, The (1950)                          3.571429  4.008130   \n",
              "Tales from the Crypt Presents: Bordello of Bloo...  2.727273  2.565891   \n",
              "Golden Voyage of Sinbad, The (1974)                 3.157895  3.431818   \n",
              "In the Army Now (1994)                              2.384615  2.192000   \n",
              "Police Academy 5: Assignment: Miami Beach (1988)    1.935484  1.722689   \n",
              "\n",
              "gender                                                  diff  \n",
              "American Beauty (1999)                              0.108400  \n",
              "Star Wars: Episode IV - A New Hope (1977)           0.192371  \n",
              "Star Wars: Episode V - The Empire Strikes Back ...  0.238096  \n",
              "Star Wars: Episode VI - Return of the Jedi (1983)   0.203821  \n",
              "Jurassic Park (1993)                                0.234791  \n",
              "...                                                      ...  \n",
              "Asphalt Jungle, The (1950)                          0.436702  \n",
              "Tales from the Crypt Presents: Bordello of Bloo... -0.161381  \n",
              "Golden Voyage of Sinbad, The (1974)                 0.273923  \n",
              "In the Army Now (1994)                             -0.192615  \n",
              "Police Academy 5: Assignment: Miami Beach (1988)   -0.212795  \n",
              "\n",
              "[1683 rows x 3 columns]"
            ]
          },
          "execution_count": 197,
          "metadata": {},
          "output_type": "execute_result"
        }
      ],
      "source": [
        "by_gender_150"
      ]
    },
    {
      "cell_type": "code",
      "execution_count": 198,
      "metadata": {
        "colab": {
          "base_uri": "https://localhost:8080/",
          "height": 363
        },
        "id": "t__2qyDZICwG",
        "outputId": "e2a0622e-1d51-4080-f98d-73865e5228dc"
      },
      "outputs": [
        {
          "data": {
            "text/html": [
              "<div>\n",
              "<style scoped>\n",
              "    .dataframe tbody tr th:only-of-type {\n",
              "        vertical-align: middle;\n",
              "    }\n",
              "\n",
              "    .dataframe tbody tr th {\n",
              "        vertical-align: top;\n",
              "    }\n",
              "\n",
              "    .dataframe thead th {\n",
              "        text-align: right;\n",
              "    }\n",
              "</style>\n",
              "<table border=\"1\" class=\"dataframe\">\n",
              "  <thead>\n",
              "    <tr style=\"text-align: right;\">\n",
              "      <th>gender</th>\n",
              "      <th>F</th>\n",
              "      <th>M</th>\n",
              "      <th>diff</th>\n",
              "    </tr>\n",
              "  </thead>\n",
              "  <tbody>\n",
              "    <tr>\n",
              "      <th>Dirty Dancing (1987)</th>\n",
              "      <td>3.790378</td>\n",
              "      <td>2.959596</td>\n",
              "      <td>-0.830782</td>\n",
              "    </tr>\n",
              "    <tr>\n",
              "      <th>Home Alone 3 (1997)</th>\n",
              "      <td>2.486486</td>\n",
              "      <td>1.683761</td>\n",
              "      <td>-0.802726</td>\n",
              "    </tr>\n",
              "    <tr>\n",
              "      <th>To Wong Foo, Thanks for Everything! Julie Newmar (1995)</th>\n",
              "      <td>3.486842</td>\n",
              "      <td>2.795276</td>\n",
              "      <td>-0.691567</td>\n",
              "    </tr>\n",
              "    <tr>\n",
              "      <th>Jumpin' Jack Flash (1986)</th>\n",
              "      <td>3.254717</td>\n",
              "      <td>2.578358</td>\n",
              "      <td>-0.676359</td>\n",
              "    </tr>\n",
              "    <tr>\n",
              "      <th>Dracula: Dead and Loving It (1995)</th>\n",
              "      <td>2.892857</td>\n",
              "      <td>2.250000</td>\n",
              "      <td>-0.642857</td>\n",
              "    </tr>\n",
              "    <tr>\n",
              "      <th>Grease (1978)</th>\n",
              "      <td>3.975265</td>\n",
              "      <td>3.367041</td>\n",
              "      <td>-0.608224</td>\n",
              "    </tr>\n",
              "    <tr>\n",
              "      <th>Police Academy 4: Citizens on Patrol (1987)</th>\n",
              "      <td>2.406250</td>\n",
              "      <td>1.802817</td>\n",
              "      <td>-0.603433</td>\n",
              "    </tr>\n",
              "    <tr>\n",
              "      <th>Brokedown Palace (1999)</th>\n",
              "      <td>3.312500</td>\n",
              "      <td>2.723577</td>\n",
              "      <td>-0.588923</td>\n",
              "    </tr>\n",
              "    <tr>\n",
              "      <th>Relic, The (1997)</th>\n",
              "      <td>3.309524</td>\n",
              "      <td>2.723077</td>\n",
              "      <td>-0.586447</td>\n",
              "    </tr>\n",
              "    <tr>\n",
              "      <th>Angels in the Outfield (1994)</th>\n",
              "      <td>3.162500</td>\n",
              "      <td>2.580838</td>\n",
              "      <td>-0.581662</td>\n",
              "    </tr>\n",
              "  </tbody>\n",
              "</table>\n",
              "</div>"
            ],
            "text/plain": [
              "gender                                                     F         M  \\\n",
              "Dirty Dancing (1987)                                3.790378  2.959596   \n",
              "Home Alone 3 (1997)                                 2.486486  1.683761   \n",
              "To Wong Foo, Thanks for Everything! Julie Newma...  3.486842  2.795276   \n",
              "Jumpin' Jack Flash (1986)                           3.254717  2.578358   \n",
              "Dracula: Dead and Loving It (1995)                  2.892857  2.250000   \n",
              "Grease (1978)                                       3.975265  3.367041   \n",
              "Police Academy 4: Citizens on Patrol (1987)         2.406250  1.802817   \n",
              "Brokedown Palace (1999)                             3.312500  2.723577   \n",
              "Relic, The (1997)                                   3.309524  2.723077   \n",
              "Angels in the Outfield (1994)                       3.162500  2.580838   \n",
              "\n",
              "gender                                                  diff  \n",
              "Dirty Dancing (1987)                               -0.830782  \n",
              "Home Alone 3 (1997)                                -0.802726  \n",
              "To Wong Foo, Thanks for Everything! Julie Newma... -0.691567  \n",
              "Jumpin' Jack Flash (1986)                          -0.676359  \n",
              "Dracula: Dead and Loving It (1995)                 -0.642857  \n",
              "Grease (1978)                                      -0.608224  \n",
              "Police Academy 4: Citizens on Patrol (1987)        -0.603433  \n",
              "Brokedown Palace (1999)                            -0.588923  \n",
              "Relic, The (1997)                                  -0.586447  \n",
              "Angels in the Outfield (1994)                      -0.581662  "
            ]
          },
          "execution_count": 198,
          "metadata": {},
          "output_type": "execute_result"
        }
      ],
      "source": [
        "by_gender_150.sort_values(by='diff').head(n=10)\n",
        "#> 남성들에 비해서 상대적으로 여성들의 선호도가 높은 영화들."
      ]
    },
    {
      "cell_type": "code",
      "execution_count": 199,
      "metadata": {
        "colab": {
          "base_uri": "https://localhost:8080/",
          "height": 363
        },
        "id": "AEe9pcaHJBB3",
        "outputId": "909165a2-9443-423b-bbca-0c9eddd463c0"
      },
      "outputs": [
        {
          "data": {
            "text/html": [
              "<div>\n",
              "<style scoped>\n",
              "    .dataframe tbody tr th:only-of-type {\n",
              "        vertical-align: middle;\n",
              "    }\n",
              "\n",
              "    .dataframe tbody tr th {\n",
              "        vertical-align: top;\n",
              "    }\n",
              "\n",
              "    .dataframe thead th {\n",
              "        text-align: right;\n",
              "    }\n",
              "</style>\n",
              "<table border=\"1\" class=\"dataframe\">\n",
              "  <thead>\n",
              "    <tr style=\"text-align: right;\">\n",
              "      <th>gender</th>\n",
              "      <th>F</th>\n",
              "      <th>M</th>\n",
              "      <th>diff</th>\n",
              "    </tr>\n",
              "  </thead>\n",
              "  <tbody>\n",
              "    <tr>\n",
              "      <th>Lifeforce (1985)</th>\n",
              "      <td>2.250000</td>\n",
              "      <td>2.994152</td>\n",
              "      <td>0.744152</td>\n",
              "    </tr>\n",
              "    <tr>\n",
              "      <th>Quest for Fire (1981)</th>\n",
              "      <td>2.578947</td>\n",
              "      <td>3.309677</td>\n",
              "      <td>0.730730</td>\n",
              "    </tr>\n",
              "    <tr>\n",
              "      <th>Good, The Bad and The Ugly, The (1966)</th>\n",
              "      <td>3.494949</td>\n",
              "      <td>4.221300</td>\n",
              "      <td>0.726351</td>\n",
              "    </tr>\n",
              "    <tr>\n",
              "      <th>No Escape (1994)</th>\n",
              "      <td>2.300000</td>\n",
              "      <td>2.994048</td>\n",
              "      <td>0.694048</td>\n",
              "    </tr>\n",
              "    <tr>\n",
              "      <th>Kentucky Fried Movie, The (1977)</th>\n",
              "      <td>2.878788</td>\n",
              "      <td>3.555147</td>\n",
              "      <td>0.676359</td>\n",
              "    </tr>\n",
              "    <tr>\n",
              "      <th>Tora! Tora! Tora! (1970)</th>\n",
              "      <td>3.090909</td>\n",
              "      <td>3.737705</td>\n",
              "      <td>0.646796</td>\n",
              "    </tr>\n",
              "    <tr>\n",
              "      <th>Up in Smoke (1978)</th>\n",
              "      <td>2.944444</td>\n",
              "      <td>3.585227</td>\n",
              "      <td>0.640783</td>\n",
              "    </tr>\n",
              "    <tr>\n",
              "      <th>Dumb &amp; Dumber (1994)</th>\n",
              "      <td>2.697987</td>\n",
              "      <td>3.336595</td>\n",
              "      <td>0.638608</td>\n",
              "    </tr>\n",
              "    <tr>\n",
              "      <th>Friday the 13th: The Final Chapter (1984)</th>\n",
              "      <td>1.636364</td>\n",
              "      <td>2.258503</td>\n",
              "      <td>0.622140</td>\n",
              "    </tr>\n",
              "    <tr>\n",
              "      <th>Longest Day, The (1962)</th>\n",
              "      <td>3.411765</td>\n",
              "      <td>4.031447</td>\n",
              "      <td>0.619682</td>\n",
              "    </tr>\n",
              "  </tbody>\n",
              "</table>\n",
              "</div>"
            ],
            "text/plain": [
              "gender                                            F         M      diff\n",
              "Lifeforce (1985)                           2.250000  2.994152  0.744152\n",
              "Quest for Fire (1981)                      2.578947  3.309677  0.730730\n",
              "Good, The Bad and The Ugly, The (1966)     3.494949  4.221300  0.726351\n",
              "No Escape (1994)                           2.300000  2.994048  0.694048\n",
              "Kentucky Fried Movie, The (1977)           2.878788  3.555147  0.676359\n",
              "Tora! Tora! Tora! (1970)                   3.090909  3.737705  0.646796\n",
              "Up in Smoke (1978)                         2.944444  3.585227  0.640783\n",
              "Dumb & Dumber (1994)                       2.697987  3.336595  0.638608\n",
              "Friday the 13th: The Final Chapter (1984)  1.636364  2.258503  0.622140\n",
              "Longest Day, The (1962)                    3.411765  4.031447  0.619682"
            ]
          },
          "execution_count": 199,
          "metadata": {},
          "output_type": "execute_result"
        }
      ],
      "source": [
        "by_gender_150.sort_values(by='diff', ascending=False).head(n=10)\n",
        "#> 여성들에 비해서 상대적으로 남성들의 선호도가 높은 영화"
      ]
    },
    {
      "cell_type": "markdown",
      "metadata": {
        "id": "BGnaSfO3Mtj2"
      },
      "source": [
        "## 성별에 상관 없이 선호도가 차이 큰 영화\n",
        "\n",
        "별점 표준편차가 큰 영화"
      ]
    },
    {
      "cell_type": "code",
      "execution_count": 200,
      "metadata": {
        "id": "HebaYmhQJIrG"
      },
      "outputs": [],
      "source": [
        "by_title = df.groupby(by='title')['rating'].agg(['mean', 'std'])"
      ]
    },
    {
      "cell_type": "code",
      "execution_count": 201,
      "metadata": {
        "colab": {
          "base_uri": "https://localhost:8080/",
          "height": 455
        },
        "id": "HeaclWJNN5Xl",
        "outputId": "aaf358a0-961a-47c1-d2e6-044ea5ca40bf"
      },
      "outputs": [
        {
          "data": {
            "text/html": [
              "<div>\n",
              "<style scoped>\n",
              "    .dataframe tbody tr th:only-of-type {\n",
              "        vertical-align: middle;\n",
              "    }\n",
              "\n",
              "    .dataframe tbody tr th {\n",
              "        vertical-align: top;\n",
              "    }\n",
              "\n",
              "    .dataframe thead th {\n",
              "        text-align: right;\n",
              "    }\n",
              "</style>\n",
              "<table border=\"1\" class=\"dataframe\">\n",
              "  <thead>\n",
              "    <tr style=\"text-align: right;\">\n",
              "      <th></th>\n",
              "      <th>mean</th>\n",
              "      <th>std</th>\n",
              "    </tr>\n",
              "    <tr>\n",
              "      <th>title</th>\n",
              "      <th></th>\n",
              "      <th></th>\n",
              "    </tr>\n",
              "  </thead>\n",
              "  <tbody>\n",
              "    <tr>\n",
              "      <th>$1,000,000 Duck (1971)</th>\n",
              "      <td>3.027027</td>\n",
              "      <td>1.092563</td>\n",
              "    </tr>\n",
              "    <tr>\n",
              "      <th>'Night Mother (1986)</th>\n",
              "      <td>3.371429</td>\n",
              "      <td>1.118636</td>\n",
              "    </tr>\n",
              "    <tr>\n",
              "      <th>'Til There Was You (1997)</th>\n",
              "      <td>2.692308</td>\n",
              "      <td>1.020159</td>\n",
              "    </tr>\n",
              "    <tr>\n",
              "      <th>'burbs, The (1989)</th>\n",
              "      <td>2.910891</td>\n",
              "      <td>1.107760</td>\n",
              "    </tr>\n",
              "    <tr>\n",
              "      <th>...And Justice for All (1979)</th>\n",
              "      <td>3.713568</td>\n",
              "      <td>0.878110</td>\n",
              "    </tr>\n",
              "    <tr>\n",
              "      <th>...</th>\n",
              "      <td>...</td>\n",
              "      <td>...</td>\n",
              "    </tr>\n",
              "    <tr>\n",
              "      <th>Zed &amp; Two Noughts, A (1985)</th>\n",
              "      <td>3.413793</td>\n",
              "      <td>1.052794</td>\n",
              "    </tr>\n",
              "    <tr>\n",
              "      <th>Zero Effect (1998)</th>\n",
              "      <td>3.750831</td>\n",
              "      <td>1.042932</td>\n",
              "    </tr>\n",
              "    <tr>\n",
              "      <th>Zero Kelvin (Kjærlighetens kjøtere) (1995)</th>\n",
              "      <td>3.500000</td>\n",
              "      <td>0.707107</td>\n",
              "    </tr>\n",
              "    <tr>\n",
              "      <th>Zeus and Roxanne (1997)</th>\n",
              "      <td>2.521739</td>\n",
              "      <td>1.122884</td>\n",
              "    </tr>\n",
              "    <tr>\n",
              "      <th>eXistenZ (1999)</th>\n",
              "      <td>3.256098</td>\n",
              "      <td>1.178568</td>\n",
              "    </tr>\n",
              "  </tbody>\n",
              "</table>\n",
              "<p>3706 rows × 2 columns</p>\n",
              "</div>"
            ],
            "text/plain": [
              "                                                mean       std\n",
              "title                                                         \n",
              "$1,000,000 Duck (1971)                      3.027027  1.092563\n",
              "'Night Mother (1986)                        3.371429  1.118636\n",
              "'Til There Was You (1997)                   2.692308  1.020159\n",
              "'burbs, The (1989)                          2.910891  1.107760\n",
              "...And Justice for All (1979)               3.713568  0.878110\n",
              "...                                              ...       ...\n",
              "Zed & Two Noughts, A (1985)                 3.413793  1.052794\n",
              "Zero Effect (1998)                          3.750831  1.042932\n",
              "Zero Kelvin (Kjærlighetens kjøtere) (1995)  3.500000  0.707107\n",
              "Zeus and Roxanne (1997)                     2.521739  1.122884\n",
              "eXistenZ (1999)                             3.256098  1.178568\n",
              "\n",
              "[3706 rows x 2 columns]"
            ]
          },
          "execution_count": 201,
          "metadata": {},
          "output_type": "execute_result"
        }
      ],
      "source": [
        "by_title"
      ]
    },
    {
      "cell_type": "code",
      "execution_count": 202,
      "metadata": {
        "id": "EO3uHIaDODtu"
      },
      "outputs": [],
      "source": [
        "# 150건 이상의 별점 리뷰가 있는 영화들을 선택\n",
        "by_title_150 = by_title.loc[indexer]"
      ]
    },
    {
      "cell_type": "code",
      "execution_count": 203,
      "metadata": {
        "colab": {
          "base_uri": "https://localhost:8080/",
          "height": 423
        },
        "id": "2g4pEjbEONJt",
        "outputId": "d4c6a1e9-29f4-4c1a-d25d-f1676da8cb6e"
      },
      "outputs": [
        {
          "data": {
            "text/html": [
              "<div>\n",
              "<style scoped>\n",
              "    .dataframe tbody tr th:only-of-type {\n",
              "        vertical-align: middle;\n",
              "    }\n",
              "\n",
              "    .dataframe tbody tr th {\n",
              "        vertical-align: top;\n",
              "    }\n",
              "\n",
              "    .dataframe thead th {\n",
              "        text-align: right;\n",
              "    }\n",
              "</style>\n",
              "<table border=\"1\" class=\"dataframe\">\n",
              "  <thead>\n",
              "    <tr style=\"text-align: right;\">\n",
              "      <th></th>\n",
              "      <th>mean</th>\n",
              "      <th>std</th>\n",
              "    </tr>\n",
              "  </thead>\n",
              "  <tbody>\n",
              "    <tr>\n",
              "      <th>American Beauty (1999)</th>\n",
              "      <td>4.317386</td>\n",
              "      <td>0.975133</td>\n",
              "    </tr>\n",
              "    <tr>\n",
              "      <th>Star Wars: Episode IV - A New Hope (1977)</th>\n",
              "      <td>4.453694</td>\n",
              "      <td>0.800781</td>\n",
              "    </tr>\n",
              "    <tr>\n",
              "      <th>Star Wars: Episode V - The Empire Strikes Back (1980)</th>\n",
              "      <td>4.292977</td>\n",
              "      <td>0.844432</td>\n",
              "    </tr>\n",
              "    <tr>\n",
              "      <th>Star Wars: Episode VI - Return of the Jedi (1983)</th>\n",
              "      <td>4.022893</td>\n",
              "      <td>0.927356</td>\n",
              "    </tr>\n",
              "    <tr>\n",
              "      <th>Jurassic Park (1993)</th>\n",
              "      <td>3.763847</td>\n",
              "      <td>0.969777</td>\n",
              "    </tr>\n",
              "    <tr>\n",
              "      <th>...</th>\n",
              "      <td>...</td>\n",
              "      <td>...</td>\n",
              "    </tr>\n",
              "    <tr>\n",
              "      <th>Asphalt Jungle, The (1950)</th>\n",
              "      <td>3.927152</td>\n",
              "      <td>0.833461</td>\n",
              "    </tr>\n",
              "    <tr>\n",
              "      <th>Tales from the Crypt Presents: Bordello of Blood (1996)</th>\n",
              "      <td>2.589404</td>\n",
              "      <td>1.156267</td>\n",
              "    </tr>\n",
              "    <tr>\n",
              "      <th>Golden Voyage of Sinbad, The (1974)</th>\n",
              "      <td>3.397351</td>\n",
              "      <td>0.879996</td>\n",
              "    </tr>\n",
              "    <tr>\n",
              "      <th>In the Army Now (1994)</th>\n",
              "      <td>2.225166</td>\n",
              "      <td>1.020929</td>\n",
              "    </tr>\n",
              "    <tr>\n",
              "      <th>Police Academy 5: Assignment: Miami Beach (1988)</th>\n",
              "      <td>1.766667</td>\n",
              "      <td>1.006133</td>\n",
              "    </tr>\n",
              "  </tbody>\n",
              "</table>\n",
              "<p>1683 rows × 2 columns</p>\n",
              "</div>"
            ],
            "text/plain": [
              "                                                        mean       std\n",
              "American Beauty (1999)                              4.317386  0.975133\n",
              "Star Wars: Episode IV - A New Hope (1977)           4.453694  0.800781\n",
              "Star Wars: Episode V - The Empire Strikes Back ...  4.292977  0.844432\n",
              "Star Wars: Episode VI - Return of the Jedi (1983)   4.022893  0.927356\n",
              "Jurassic Park (1993)                                3.763847  0.969777\n",
              "...                                                      ...       ...\n",
              "Asphalt Jungle, The (1950)                          3.927152  0.833461\n",
              "Tales from the Crypt Presents: Bordello of Bloo...  2.589404  1.156267\n",
              "Golden Voyage of Sinbad, The (1974)                 3.397351  0.879996\n",
              "In the Army Now (1994)                              2.225166  1.020929\n",
              "Police Academy 5: Assignment: Miami Beach (1988)    1.766667  1.006133\n",
              "\n",
              "[1683 rows x 2 columns]"
            ]
          },
          "execution_count": 203,
          "metadata": {},
          "output_type": "execute_result"
        }
      ],
      "source": [
        "by_title_150"
      ]
    },
    {
      "cell_type": "code",
      "execution_count": 204,
      "metadata": {
        "colab": {
          "base_uri": "https://localhost:8080/",
          "height": 363
        },
        "id": "ks0SO4kiOU2e",
        "outputId": "86724034-0022-48b3-98b3-d6feea8cf610"
      },
      "outputs": [
        {
          "data": {
            "text/html": [
              "<div>\n",
              "<style scoped>\n",
              "    .dataframe tbody tr th:only-of-type {\n",
              "        vertical-align: middle;\n",
              "    }\n",
              "\n",
              "    .dataframe tbody tr th {\n",
              "        vertical-align: top;\n",
              "    }\n",
              "\n",
              "    .dataframe thead th {\n",
              "        text-align: right;\n",
              "    }\n",
              "</style>\n",
              "<table border=\"1\" class=\"dataframe\">\n",
              "  <thead>\n",
              "    <tr style=\"text-align: right;\">\n",
              "      <th></th>\n",
              "      <th>mean</th>\n",
              "      <th>std</th>\n",
              "    </tr>\n",
              "  </thead>\n",
              "  <tbody>\n",
              "    <tr>\n",
              "      <th>Plan 9 from Outer Space (1958)</th>\n",
              "      <td>2.634538</td>\n",
              "      <td>1.455998</td>\n",
              "    </tr>\n",
              "    <tr>\n",
              "      <th>Texas Chainsaw Massacre, The (1974)</th>\n",
              "      <td>3.222672</td>\n",
              "      <td>1.332448</td>\n",
              "    </tr>\n",
              "    <tr>\n",
              "      <th>Dumb &amp; Dumber (1994)</th>\n",
              "      <td>3.192424</td>\n",
              "      <td>1.321333</td>\n",
              "    </tr>\n",
              "    <tr>\n",
              "      <th>Blair Witch Project, The (1999)</th>\n",
              "      <td>3.031528</td>\n",
              "      <td>1.316368</td>\n",
              "    </tr>\n",
              "    <tr>\n",
              "      <th>Natural Born Killers (1994)</th>\n",
              "      <td>3.144286</td>\n",
              "      <td>1.307198</td>\n",
              "    </tr>\n",
              "    <tr>\n",
              "      <th>Idle Hands (1999)</th>\n",
              "      <td>2.724638</td>\n",
              "      <td>1.298439</td>\n",
              "    </tr>\n",
              "    <tr>\n",
              "      <th>Pink Flamingos (1972)</th>\n",
              "      <td>3.240506</td>\n",
              "      <td>1.293937</td>\n",
              "    </tr>\n",
              "    <tr>\n",
              "      <th>Transformers: The Movie, The (1986)</th>\n",
              "      <td>3.380952</td>\n",
              "      <td>1.292917</td>\n",
              "    </tr>\n",
              "    <tr>\n",
              "      <th>Very Bad Things (1998)</th>\n",
              "      <td>2.774194</td>\n",
              "      <td>1.280074</td>\n",
              "    </tr>\n",
              "    <tr>\n",
              "      <th>Tank Girl (1995)</th>\n",
              "      <td>2.614525</td>\n",
              "      <td>1.277695</td>\n",
              "    </tr>\n",
              "  </tbody>\n",
              "</table>\n",
              "</div>"
            ],
            "text/plain": [
              "                                         mean       std\n",
              "Plan 9 from Outer Space (1958)       2.634538  1.455998\n",
              "Texas Chainsaw Massacre, The (1974)  3.222672  1.332448\n",
              "Dumb & Dumber (1994)                 3.192424  1.321333\n",
              "Blair Witch Project, The (1999)      3.031528  1.316368\n",
              "Natural Born Killers (1994)          3.144286  1.307198\n",
              "Idle Hands (1999)                    2.724638  1.298439\n",
              "Pink Flamingos (1972)                3.240506  1.293937\n",
              "Transformers: The Movie, The (1986)  3.380952  1.292917\n",
              "Very Bad Things (1998)               2.774194  1.280074\n",
              "Tank Girl (1995)                     2.614525  1.277695"
            ]
          },
          "execution_count": 204,
          "metadata": {},
          "output_type": "execute_result"
        }
      ],
      "source": [
        "# 표준편차 내림차순 정렬, 상위 10개 선택\n",
        "by_title_150.sort_values(by='std', ascending=False).head(n=10)"
      ]
    },
    {
      "cell_type": "code",
      "execution_count": 205,
      "metadata": {
        "colab": {
          "base_uri": "https://localhost:8080/",
          "height": 363
        },
        "id": "0Kc7ESVCOvh9",
        "outputId": "dbb7fb42-96db-4b5f-c56a-d117af6a90f6"
      },
      "outputs": [
        {
          "data": {
            "text/html": [
              "<div>\n",
              "<style scoped>\n",
              "    .dataframe tbody tr th:only-of-type {\n",
              "        vertical-align: middle;\n",
              "    }\n",
              "\n",
              "    .dataframe tbody tr th {\n",
              "        vertical-align: top;\n",
              "    }\n",
              "\n",
              "    .dataframe thead th {\n",
              "        text-align: right;\n",
              "    }\n",
              "</style>\n",
              "<table border=\"1\" class=\"dataframe\">\n",
              "  <thead>\n",
              "    <tr style=\"text-align: right;\">\n",
              "      <th></th>\n",
              "      <th>mean</th>\n",
              "      <th>std</th>\n",
              "    </tr>\n",
              "  </thead>\n",
              "  <tbody>\n",
              "    <tr>\n",
              "      <th>Close Shave, A (1995)</th>\n",
              "      <td>4.520548</td>\n",
              "      <td>0.667143</td>\n",
              "    </tr>\n",
              "    <tr>\n",
              "      <th>Rear Window (1954)</th>\n",
              "      <td>4.476190</td>\n",
              "      <td>0.688946</td>\n",
              "    </tr>\n",
              "    <tr>\n",
              "      <th>Great Escape, The (1963)</th>\n",
              "      <td>4.376437</td>\n",
              "      <td>0.692585</td>\n",
              "    </tr>\n",
              "    <tr>\n",
              "      <th>Shawshank Redemption, The (1994)</th>\n",
              "      <td>4.554558</td>\n",
              "      <td>0.700443</td>\n",
              "    </tr>\n",
              "    <tr>\n",
              "      <th>Wrong Trousers, The (1993)</th>\n",
              "      <td>4.507937</td>\n",
              "      <td>0.708666</td>\n",
              "    </tr>\n",
              "    <tr>\n",
              "      <th>Central Station (Central do Brasil) (1998)</th>\n",
              "      <td>4.283721</td>\n",
              "      <td>0.709393</td>\n",
              "    </tr>\n",
              "    <tr>\n",
              "      <th>Never Cry Wolf (1983)</th>\n",
              "      <td>3.981132</td>\n",
              "      <td>0.721782</td>\n",
              "    </tr>\n",
              "    <tr>\n",
              "      <th>Soldier's Story, A (1984)</th>\n",
              "      <td>3.737805</td>\n",
              "      <td>0.725206</td>\n",
              "    </tr>\n",
              "    <tr>\n",
              "      <th>Raiders of the Lost Ark (1981)</th>\n",
              "      <td>4.477725</td>\n",
              "      <td>0.725647</td>\n",
              "    </tr>\n",
              "    <tr>\n",
              "      <th>Seven Days in May (1964)</th>\n",
              "      <td>4.254545</td>\n",
              "      <td>0.729639</td>\n",
              "    </tr>\n",
              "  </tbody>\n",
              "</table>\n",
              "</div>"
            ],
            "text/plain": [
              "                                                mean       std\n",
              "Close Shave, A (1995)                       4.520548  0.667143\n",
              "Rear Window (1954)                          4.476190  0.688946\n",
              "Great Escape, The (1963)                    4.376437  0.692585\n",
              "Shawshank Redemption, The (1994)            4.554558  0.700443\n",
              "Wrong Trousers, The (1993)                  4.507937  0.708666\n",
              "Central Station (Central do Brasil) (1998)  4.283721  0.709393\n",
              "Never Cry Wolf (1983)                       3.981132  0.721782\n",
              "Soldier's Story, A (1984)                   3.737805  0.725206\n",
              "Raiders of the Lost Ark (1981)              4.477725  0.725647\n",
              "Seven Days in May (1964)                    4.254545  0.729639"
            ]
          },
          "execution_count": 205,
          "metadata": {},
          "output_type": "execute_result"
        }
      ],
      "source": [
        "# 선호도의 차이가 적은 영화: 표준편차 오름차순 정렬, 상위 10개 선택\n",
        "by_title_150.sort_values(by='std', ascending=True).head(n=10)"
      ]
    },
    {
      "cell_type": "markdown",
      "metadata": {
        "id": "nzLxW-vyQVwv"
      },
      "source": [
        "# 영화 장르 분석\n",
        "\n",
        "* 150개 이상의 별점 리뷰를 받은 영화들 중에서\n",
        "    * 별점 평균이 4.0 이상인 영화들의 장르 상위 10개\n",
        "    * 성별 별점 평균이 4.0 이상인 영화들의 장르 상위 10개\n",
        "    * 연령대별 별점 평균이 4.0 이상인 영화들의 장르 상위 10개"
      ]
    },
    {
      "cell_type": "code",
      "execution_count": 206,
      "metadata": {
        "id": "J8M0MUPcPq-F"
      },
      "outputs": [],
      "source": [
        "# DataFrame에서 영화 제목(title) 컬럼을 인덱스로 만듦.\n",
        "df_with_index = df.set_index('title')"
      ]
    },
    {
      "cell_type": "code",
      "execution_count": 207,
      "metadata": {
        "colab": {
          "base_uri": "https://localhost:8080/",
          "height": 237
        },
        "id": "lnkccvjLSaLv",
        "outputId": "ba948950-fabf-4736-d564-0e369083fe7b"
      },
      "outputs": [
        {
          "data": {
            "text/html": [
              "<div>\n",
              "<style scoped>\n",
              "    .dataframe tbody tr th:only-of-type {\n",
              "        vertical-align: middle;\n",
              "    }\n",
              "\n",
              "    .dataframe tbody tr th {\n",
              "        vertical-align: top;\n",
              "    }\n",
              "\n",
              "    .dataframe thead th {\n",
              "        text-align: right;\n",
              "    }\n",
              "</style>\n",
              "<table border=\"1\" class=\"dataframe\">\n",
              "  <thead>\n",
              "    <tr style=\"text-align: right;\">\n",
              "      <th></th>\n",
              "      <th>user_id</th>\n",
              "      <th>movie_id</th>\n",
              "      <th>rating</th>\n",
              "      <th>timestamp</th>\n",
              "      <th>genres</th>\n",
              "      <th>gender</th>\n",
              "      <th>age</th>\n",
              "      <th>occupation</th>\n",
              "      <th>zip_code</th>\n",
              "    </tr>\n",
              "    <tr>\n",
              "      <th>title</th>\n",
              "      <th></th>\n",
              "      <th></th>\n",
              "      <th></th>\n",
              "      <th></th>\n",
              "      <th></th>\n",
              "      <th></th>\n",
              "      <th></th>\n",
              "      <th></th>\n",
              "      <th></th>\n",
              "    </tr>\n",
              "  </thead>\n",
              "  <tbody>\n",
              "    <tr>\n",
              "      <th>One Flew Over the Cuckoo's Nest (1975)</th>\n",
              "      <td>1</td>\n",
              "      <td>1193</td>\n",
              "      <td>5</td>\n",
              "      <td>978300760</td>\n",
              "      <td>Drama</td>\n",
              "      <td>F</td>\n",
              "      <td>1</td>\n",
              "      <td>10</td>\n",
              "      <td>48067</td>\n",
              "    </tr>\n",
              "    <tr>\n",
              "      <th>James and the Giant Peach (1996)</th>\n",
              "      <td>1</td>\n",
              "      <td>661</td>\n",
              "      <td>3</td>\n",
              "      <td>978302109</td>\n",
              "      <td>Animation|Children's|Musical</td>\n",
              "      <td>F</td>\n",
              "      <td>1</td>\n",
              "      <td>10</td>\n",
              "      <td>48067</td>\n",
              "    </tr>\n",
              "    <tr>\n",
              "      <th>My Fair Lady (1964)</th>\n",
              "      <td>1</td>\n",
              "      <td>914</td>\n",
              "      <td>3</td>\n",
              "      <td>978301968</td>\n",
              "      <td>Musical|Romance</td>\n",
              "      <td>F</td>\n",
              "      <td>1</td>\n",
              "      <td>10</td>\n",
              "      <td>48067</td>\n",
              "    </tr>\n",
              "    <tr>\n",
              "      <th>Erin Brockovich (2000)</th>\n",
              "      <td>1</td>\n",
              "      <td>3408</td>\n",
              "      <td>4</td>\n",
              "      <td>978300275</td>\n",
              "      <td>Drama</td>\n",
              "      <td>F</td>\n",
              "      <td>1</td>\n",
              "      <td>10</td>\n",
              "      <td>48067</td>\n",
              "    </tr>\n",
              "    <tr>\n",
              "      <th>Bug's Life, A (1998)</th>\n",
              "      <td>1</td>\n",
              "      <td>2355</td>\n",
              "      <td>5</td>\n",
              "      <td>978824291</td>\n",
              "      <td>Animation|Children's|Comedy</td>\n",
              "      <td>F</td>\n",
              "      <td>1</td>\n",
              "      <td>10</td>\n",
              "      <td>48067</td>\n",
              "    </tr>\n",
              "  </tbody>\n",
              "</table>\n",
              "</div>"
            ],
            "text/plain": [
              "                                        user_id  movie_id  rating  timestamp  \\\n",
              "title                                                                          \n",
              "One Flew Over the Cuckoo's Nest (1975)        1      1193       5  978300760   \n",
              "James and the Giant Peach (1996)              1       661       3  978302109   \n",
              "My Fair Lady (1964)                           1       914       3  978301968   \n",
              "Erin Brockovich (2000)                        1      3408       4  978300275   \n",
              "Bug's Life, A (1998)                          1      2355       5  978824291   \n",
              "\n",
              "                                                              genres gender  \\\n",
              "title                                                                         \n",
              "One Flew Over the Cuckoo's Nest (1975)                         Drama      F   \n",
              "James and the Giant Peach (1996)        Animation|Children's|Musical      F   \n",
              "My Fair Lady (1964)                                  Musical|Romance      F   \n",
              "Erin Brockovich (2000)                                         Drama      F   \n",
              "Bug's Life, A (1998)                     Animation|Children's|Comedy      F   \n",
              "\n",
              "                                        age  occupation zip_code  \n",
              "title                                                             \n",
              "One Flew Over the Cuckoo's Nest (1975)    1          10    48067  \n",
              "James and the Giant Peach (1996)          1          10    48067  \n",
              "My Fair Lady (1964)                       1          10    48067  \n",
              "Erin Brockovich (2000)                    1          10    48067  \n",
              "Bug's Life, A (1998)                      1          10    48067  "
            ]
          },
          "execution_count": 207,
          "metadata": {},
          "output_type": "execute_result"
        }
      ],
      "source": [
        "df_with_index.head()"
      ]
    },
    {
      "cell_type": "code",
      "execution_count": 208,
      "metadata": {
        "id": "c80u3LiETh2X"
      },
      "outputs": [],
      "source": [
        "# 150개 이상의 별점 리뷰를 갖는 영화들만 선택한 부분집합\n",
        "df_150 = df_with_index.loc[indexer]"
      ]
    },
    {
      "cell_type": "code",
      "execution_count": 209,
      "metadata": {
        "colab": {
          "base_uri": "https://localhost:8080/",
          "height": 455
        },
        "id": "tTsl5AjwTrft",
        "outputId": "a87ea275-2510-4153-c32f-e7f86c70fff6"
      },
      "outputs": [
        {
          "data": {
            "text/html": [
              "<div>\n",
              "<style scoped>\n",
              "    .dataframe tbody tr th:only-of-type {\n",
              "        vertical-align: middle;\n",
              "    }\n",
              "\n",
              "    .dataframe tbody tr th {\n",
              "        vertical-align: top;\n",
              "    }\n",
              "\n",
              "    .dataframe thead th {\n",
              "        text-align: right;\n",
              "    }\n",
              "</style>\n",
              "<table border=\"1\" class=\"dataframe\">\n",
              "  <thead>\n",
              "    <tr style=\"text-align: right;\">\n",
              "      <th></th>\n",
              "      <th>user_id</th>\n",
              "      <th>movie_id</th>\n",
              "      <th>rating</th>\n",
              "      <th>timestamp</th>\n",
              "      <th>genres</th>\n",
              "      <th>gender</th>\n",
              "      <th>age</th>\n",
              "      <th>occupation</th>\n",
              "      <th>zip_code</th>\n",
              "    </tr>\n",
              "  </thead>\n",
              "  <tbody>\n",
              "    <tr>\n",
              "      <th>American Beauty (1999)</th>\n",
              "      <td>2</td>\n",
              "      <td>2858</td>\n",
              "      <td>4</td>\n",
              "      <td>978298434</td>\n",
              "      <td>Comedy|Drama</td>\n",
              "      <td>M</td>\n",
              "      <td>56</td>\n",
              "      <td>16</td>\n",
              "      <td>70072</td>\n",
              "    </tr>\n",
              "    <tr>\n",
              "      <th>American Beauty (1999)</th>\n",
              "      <td>15</td>\n",
              "      <td>2858</td>\n",
              "      <td>4</td>\n",
              "      <td>978196348</td>\n",
              "      <td>Comedy|Drama</td>\n",
              "      <td>M</td>\n",
              "      <td>25</td>\n",
              "      <td>7</td>\n",
              "      <td>22903</td>\n",
              "    </tr>\n",
              "    <tr>\n",
              "      <th>American Beauty (1999)</th>\n",
              "      <td>17</td>\n",
              "      <td>2858</td>\n",
              "      <td>5</td>\n",
              "      <td>978159467</td>\n",
              "      <td>Comedy|Drama</td>\n",
              "      <td>M</td>\n",
              "      <td>50</td>\n",
              "      <td>1</td>\n",
              "      <td>95350</td>\n",
              "    </tr>\n",
              "    <tr>\n",
              "      <th>American Beauty (1999)</th>\n",
              "      <td>18</td>\n",
              "      <td>2858</td>\n",
              "      <td>5</td>\n",
              "      <td>978156168</td>\n",
              "      <td>Comedy|Drama</td>\n",
              "      <td>F</td>\n",
              "      <td>18</td>\n",
              "      <td>3</td>\n",
              "      <td>95825</td>\n",
              "    </tr>\n",
              "    <tr>\n",
              "      <th>American Beauty (1999)</th>\n",
              "      <td>19</td>\n",
              "      <td>2858</td>\n",
              "      <td>5</td>\n",
              "      <td>982210072</td>\n",
              "      <td>Comedy|Drama</td>\n",
              "      <td>M</td>\n",
              "      <td>1</td>\n",
              "      <td>10</td>\n",
              "      <td>48073</td>\n",
              "    </tr>\n",
              "    <tr>\n",
              "      <th>...</th>\n",
              "      <td>...</td>\n",
              "      <td>...</td>\n",
              "      <td>...</td>\n",
              "      <td>...</td>\n",
              "      <td>...</td>\n",
              "      <td>...</td>\n",
              "      <td>...</td>\n",
              "      <td>...</td>\n",
              "      <td>...</td>\n",
              "    </tr>\n",
              "    <tr>\n",
              "      <th>Police Academy 5: Assignment: Miami Beach (1988)</th>\n",
              "      <td>4001</td>\n",
              "      <td>2382</td>\n",
              "      <td>1</td>\n",
              "      <td>965570751</td>\n",
              "      <td>Comedy</td>\n",
              "      <td>F</td>\n",
              "      <td>25</td>\n",
              "      <td>1</td>\n",
              "      <td>01860</td>\n",
              "    </tr>\n",
              "    <tr>\n",
              "      <th>Police Academy 5: Assignment: Miami Beach (1988)</th>\n",
              "      <td>790</td>\n",
              "      <td>2382</td>\n",
              "      <td>2</td>\n",
              "      <td>975428605</td>\n",
              "      <td>Comedy</td>\n",
              "      <td>M</td>\n",
              "      <td>25</td>\n",
              "      <td>17</td>\n",
              "      <td>45694</td>\n",
              "    </tr>\n",
              "    <tr>\n",
              "      <th>Police Academy 5: Assignment: Miami Beach (1988)</th>\n",
              "      <td>3831</td>\n",
              "      <td>2382</td>\n",
              "      <td>1</td>\n",
              "      <td>965931831</td>\n",
              "      <td>Comedy</td>\n",
              "      <td>F</td>\n",
              "      <td>18</td>\n",
              "      <td>6</td>\n",
              "      <td>84780</td>\n",
              "    </tr>\n",
              "    <tr>\n",
              "      <th>Police Academy 5: Assignment: Miami Beach (1988)</th>\n",
              "      <td>4284</td>\n",
              "      <td>2382</td>\n",
              "      <td>2</td>\n",
              "      <td>965277159</td>\n",
              "      <td>Comedy</td>\n",
              "      <td>M</td>\n",
              "      <td>50</td>\n",
              "      <td>7</td>\n",
              "      <td>40601</td>\n",
              "    </tr>\n",
              "    <tr>\n",
              "      <th>Police Academy 5: Assignment: Miami Beach (1988)</th>\n",
              "      <td>4014</td>\n",
              "      <td>2382</td>\n",
              "      <td>4</td>\n",
              "      <td>965538969</td>\n",
              "      <td>Comedy</td>\n",
              "      <td>M</td>\n",
              "      <td>25</td>\n",
              "      <td>0</td>\n",
              "      <td>48316-5601</td>\n",
              "    </tr>\n",
              "  </tbody>\n",
              "</table>\n",
              "<p>900589 rows × 9 columns</p>\n",
              "</div>"
            ],
            "text/plain": [
              "                                                  user_id  movie_id  rating  \\\n",
              "American Beauty (1999)                                  2      2858       4   \n",
              "American Beauty (1999)                                 15      2858       4   \n",
              "American Beauty (1999)                                 17      2858       5   \n",
              "American Beauty (1999)                                 18      2858       5   \n",
              "American Beauty (1999)                                 19      2858       5   \n",
              "...                                                   ...       ...     ...   \n",
              "Police Academy 5: Assignment: Miami Beach (1988)     4001      2382       1   \n",
              "Police Academy 5: Assignment: Miami Beach (1988)      790      2382       2   \n",
              "Police Academy 5: Assignment: Miami Beach (1988)     3831      2382       1   \n",
              "Police Academy 5: Assignment: Miami Beach (1988)     4284      2382       2   \n",
              "Police Academy 5: Assignment: Miami Beach (1988)     4014      2382       4   \n",
              "\n",
              "                                                  timestamp        genres  \\\n",
              "American Beauty (1999)                            978298434  Comedy|Drama   \n",
              "American Beauty (1999)                            978196348  Comedy|Drama   \n",
              "American Beauty (1999)                            978159467  Comedy|Drama   \n",
              "American Beauty (1999)                            978156168  Comedy|Drama   \n",
              "American Beauty (1999)                            982210072  Comedy|Drama   \n",
              "...                                                     ...           ...   \n",
              "Police Academy 5: Assignment: Miami Beach (1988)  965570751        Comedy   \n",
              "Police Academy 5: Assignment: Miami Beach (1988)  975428605        Comedy   \n",
              "Police Academy 5: Assignment: Miami Beach (1988)  965931831        Comedy   \n",
              "Police Academy 5: Assignment: Miami Beach (1988)  965277159        Comedy   \n",
              "Police Academy 5: Assignment: Miami Beach (1988)  965538969        Comedy   \n",
              "\n",
              "                                                 gender  age  occupation  \\\n",
              "American Beauty (1999)                                M   56          16   \n",
              "American Beauty (1999)                                M   25           7   \n",
              "American Beauty (1999)                                M   50           1   \n",
              "American Beauty (1999)                                F   18           3   \n",
              "American Beauty (1999)                                M    1          10   \n",
              "...                                                 ...  ...         ...   \n",
              "Police Academy 5: Assignment: Miami Beach (1988)      F   25           1   \n",
              "Police Academy 5: Assignment: Miami Beach (1988)      M   25          17   \n",
              "Police Academy 5: Assignment: Miami Beach (1988)      F   18           6   \n",
              "Police Academy 5: Assignment: Miami Beach (1988)      M   50           7   \n",
              "Police Academy 5: Assignment: Miami Beach (1988)      M   25           0   \n",
              "\n",
              "                                                    zip_code  \n",
              "American Beauty (1999)                                 70072  \n",
              "American Beauty (1999)                                 22903  \n",
              "American Beauty (1999)                                 95350  \n",
              "American Beauty (1999)                                 95825  \n",
              "American Beauty (1999)                                 48073  \n",
              "...                                                      ...  \n",
              "Police Academy 5: Assignment: Miami Beach (1988)       01860  \n",
              "Police Academy 5: Assignment: Miami Beach (1988)       45694  \n",
              "Police Academy 5: Assignment: Miami Beach (1988)       84780  \n",
              "Police Academy 5: Assignment: Miami Beach (1988)       40601  \n",
              "Police Academy 5: Assignment: Miami Beach (1988)  48316-5601  \n",
              "\n",
              "[900589 rows x 9 columns]"
            ]
          },
          "execution_count": 209,
          "metadata": {},
          "output_type": "execute_result"
        }
      ],
      "source": [
        "df_150"
      ]
    },
    {
      "cell_type": "code",
      "execution_count": 210,
      "metadata": {
        "colab": {
          "base_uri": "https://localhost:8080/",
          "height": 423
        },
        "id": "xyAOwQXYTsiF",
        "outputId": "ff842dcf-d9fc-4b90-8596-f573479ee54c"
      },
      "outputs": [
        {
          "data": {
            "text/html": [
              "<div>\n",
              "<style scoped>\n",
              "    .dataframe tbody tr th:only-of-type {\n",
              "        vertical-align: middle;\n",
              "    }\n",
              "\n",
              "    .dataframe tbody tr th {\n",
              "        vertical-align: top;\n",
              "    }\n",
              "\n",
              "    .dataframe thead th {\n",
              "        text-align: right;\n",
              "    }\n",
              "</style>\n",
              "<table border=\"1\" class=\"dataframe\">\n",
              "  <thead>\n",
              "    <tr style=\"text-align: right;\">\n",
              "      <th></th>\n",
              "      <th>title</th>\n",
              "      <th>user_id</th>\n",
              "      <th>movie_id</th>\n",
              "      <th>rating</th>\n",
              "      <th>timestamp</th>\n",
              "      <th>genres</th>\n",
              "      <th>gender</th>\n",
              "      <th>age</th>\n",
              "      <th>occupation</th>\n",
              "      <th>zip_code</th>\n",
              "    </tr>\n",
              "  </thead>\n",
              "  <tbody>\n",
              "    <tr>\n",
              "      <th>0</th>\n",
              "      <td>One Flew Over the Cuckoo's Nest (1975)</td>\n",
              "      <td>1</td>\n",
              "      <td>1193</td>\n",
              "      <td>5</td>\n",
              "      <td>978300760</td>\n",
              "      <td>Drama</td>\n",
              "      <td>F</td>\n",
              "      <td>1</td>\n",
              "      <td>10</td>\n",
              "      <td>48067</td>\n",
              "    </tr>\n",
              "    <tr>\n",
              "      <th>1</th>\n",
              "      <td>James and the Giant Peach (1996)</td>\n",
              "      <td>1</td>\n",
              "      <td>661</td>\n",
              "      <td>3</td>\n",
              "      <td>978302109</td>\n",
              "      <td>Animation|Children's|Musical</td>\n",
              "      <td>F</td>\n",
              "      <td>1</td>\n",
              "      <td>10</td>\n",
              "      <td>48067</td>\n",
              "    </tr>\n",
              "    <tr>\n",
              "      <th>2</th>\n",
              "      <td>My Fair Lady (1964)</td>\n",
              "      <td>1</td>\n",
              "      <td>914</td>\n",
              "      <td>3</td>\n",
              "      <td>978301968</td>\n",
              "      <td>Musical|Romance</td>\n",
              "      <td>F</td>\n",
              "      <td>1</td>\n",
              "      <td>10</td>\n",
              "      <td>48067</td>\n",
              "    </tr>\n",
              "    <tr>\n",
              "      <th>3</th>\n",
              "      <td>Erin Brockovich (2000)</td>\n",
              "      <td>1</td>\n",
              "      <td>3408</td>\n",
              "      <td>4</td>\n",
              "      <td>978300275</td>\n",
              "      <td>Drama</td>\n",
              "      <td>F</td>\n",
              "      <td>1</td>\n",
              "      <td>10</td>\n",
              "      <td>48067</td>\n",
              "    </tr>\n",
              "    <tr>\n",
              "      <th>4</th>\n",
              "      <td>Bug's Life, A (1998)</td>\n",
              "      <td>1</td>\n",
              "      <td>2355</td>\n",
              "      <td>5</td>\n",
              "      <td>978824291</td>\n",
              "      <td>Animation|Children's|Comedy</td>\n",
              "      <td>F</td>\n",
              "      <td>1</td>\n",
              "      <td>10</td>\n",
              "      <td>48067</td>\n",
              "    </tr>\n",
              "    <tr>\n",
              "      <th>...</th>\n",
              "      <td>...</td>\n",
              "      <td>...</td>\n",
              "      <td>...</td>\n",
              "      <td>...</td>\n",
              "      <td>...</td>\n",
              "      <td>...</td>\n",
              "      <td>...</td>\n",
              "      <td>...</td>\n",
              "      <td>...</td>\n",
              "      <td>...</td>\n",
              "    </tr>\n",
              "    <tr>\n",
              "      <th>1000204</th>\n",
              "      <td>Footloose (1984)</td>\n",
              "      <td>4211</td>\n",
              "      <td>3791</td>\n",
              "      <td>2</td>\n",
              "      <td>965319075</td>\n",
              "      <td>Drama</td>\n",
              "      <td>M</td>\n",
              "      <td>45</td>\n",
              "      <td>5</td>\n",
              "      <td>77662</td>\n",
              "    </tr>\n",
              "    <tr>\n",
              "      <th>1000205</th>\n",
              "      <td>MacKenna's Gold (1969)</td>\n",
              "      <td>4211</td>\n",
              "      <td>3806</td>\n",
              "      <td>3</td>\n",
              "      <td>965319138</td>\n",
              "      <td>Western</td>\n",
              "      <td>M</td>\n",
              "      <td>45</td>\n",
              "      <td>5</td>\n",
              "      <td>77662</td>\n",
              "    </tr>\n",
              "    <tr>\n",
              "      <th>1000206</th>\n",
              "      <td>Pumpkinhead (1988)</td>\n",
              "      <td>4211</td>\n",
              "      <td>3840</td>\n",
              "      <td>4</td>\n",
              "      <td>965319197</td>\n",
              "      <td>Horror</td>\n",
              "      <td>M</td>\n",
              "      <td>45</td>\n",
              "      <td>5</td>\n",
              "      <td>77662</td>\n",
              "    </tr>\n",
              "    <tr>\n",
              "      <th>1000207</th>\n",
              "      <td>Missing in Action (1984)</td>\n",
              "      <td>4211</td>\n",
              "      <td>3766</td>\n",
              "      <td>2</td>\n",
              "      <td>965319138</td>\n",
              "      <td>Action|War</td>\n",
              "      <td>M</td>\n",
              "      <td>45</td>\n",
              "      <td>5</td>\n",
              "      <td>77662</td>\n",
              "    </tr>\n",
              "    <tr>\n",
              "      <th>1000208</th>\n",
              "      <td>Bronco Billy (1980)</td>\n",
              "      <td>4211</td>\n",
              "      <td>3834</td>\n",
              "      <td>2</td>\n",
              "      <td>965318885</td>\n",
              "      <td>Adventure|Drama|Romance</td>\n",
              "      <td>M</td>\n",
              "      <td>45</td>\n",
              "      <td>5</td>\n",
              "      <td>77662</td>\n",
              "    </tr>\n",
              "  </tbody>\n",
              "</table>\n",
              "<p>1000209 rows × 10 columns</p>\n",
              "</div>"
            ],
            "text/plain": [
              "                                          title  user_id  movie_id  rating  \\\n",
              "0        One Flew Over the Cuckoo's Nest (1975)        1      1193       5   \n",
              "1              James and the Giant Peach (1996)        1       661       3   \n",
              "2                           My Fair Lady (1964)        1       914       3   \n",
              "3                        Erin Brockovich (2000)        1      3408       4   \n",
              "4                          Bug's Life, A (1998)        1      2355       5   \n",
              "...                                         ...      ...       ...     ...   \n",
              "1000204                        Footloose (1984)     4211      3791       2   \n",
              "1000205                  MacKenna's Gold (1969)     4211      3806       3   \n",
              "1000206                      Pumpkinhead (1988)     4211      3840       4   \n",
              "1000207                Missing in Action (1984)     4211      3766       2   \n",
              "1000208                     Bronco Billy (1980)     4211      3834       2   \n",
              "\n",
              "         timestamp                        genres gender  age  occupation  \\\n",
              "0        978300760                         Drama      F    1          10   \n",
              "1        978302109  Animation|Children's|Musical      F    1          10   \n",
              "2        978301968               Musical|Romance      F    1          10   \n",
              "3        978300275                         Drama      F    1          10   \n",
              "4        978824291   Animation|Children's|Comedy      F    1          10   \n",
              "...            ...                           ...    ...  ...         ...   \n",
              "1000204  965319075                         Drama      M   45           5   \n",
              "1000205  965319138                       Western      M   45           5   \n",
              "1000206  965319197                        Horror      M   45           5   \n",
              "1000207  965319138                    Action|War      M   45           5   \n",
              "1000208  965318885       Adventure|Drama|Romance      M   45           5   \n",
              "\n",
              "        zip_code  \n",
              "0          48067  \n",
              "1          48067  \n",
              "2          48067  \n",
              "3          48067  \n",
              "4          48067  \n",
              "...          ...  \n",
              "1000204    77662  \n",
              "1000205    77662  \n",
              "1000206    77662  \n",
              "1000207    77662  \n",
              "1000208    77662  \n",
              "\n",
              "[1000209 rows x 10 columns]"
            ]
          },
          "execution_count": 210,
          "metadata": {},
          "output_type": "execute_result"
        }
      ],
      "source": [
        "df_with_index.reset_index()"
      ]
    },
    {
      "cell_type": "markdown",
      "metadata": {
        "id": "znKTNN3zaPg2"
      },
      "source": [
        "150개 이상의 별점 리뷰가 있고, 별점들의 평균이 4.0 이상인 영화 제목들"
      ]
    },
    {
      "cell_type": "code",
      "execution_count": 211,
      "metadata": {
        "id": "82QSGn-YaOxM"
      },
      "outputs": [],
      "source": [
        "title_over_4 = by_title_150[by_title_150['mean'] >= 4.0].index"
      ]
    },
    {
      "cell_type": "code",
      "execution_count": 212,
      "metadata": {
        "colab": {
          "base_uri": "https://localhost:8080/"
        },
        "id": "GMNT68kzbUG8",
        "outputId": "efca8233-9c85-486b-b54c-ce3de9c395b3"
      },
      "outputs": [
        {
          "data": {
            "text/plain": [
              "Index(['American Beauty (1999)', 'Star Wars: Episode IV - A New Hope (1977)',\n",
              "       'Star Wars: Episode V - The Empire Strikes Back (1980)',\n",
              "       'Star Wars: Episode VI - Return of the Jedi (1983)',\n",
              "       'Saving Private Ryan (1998)', 'Terminator 2: Judgment Day (1991)',\n",
              "       'Matrix, The (1999)', 'Silence of the Lambs, The (1991)',\n",
              "       'Raiders of the Lost Ark (1981)', 'Fargo (1996)',\n",
              "       ...\n",
              "       'Matewan (1987)', 'Shall We Dance? (1937)',\n",
              "       'Once Upon a Time in the West (1969)', 'Suspicion (1941)',\n",
              "       'Everest (1998)', 'Grand Illusion (Grande illusion, La) (1937)',\n",
              "       'Seven Days in May (1964)', 'Sullivan's Travels (1942)',\n",
              "       'Paradise Lost: The Child Murders at Robin Hood Hills (1996)',\n",
              "       'Pawnbroker, The (1965)'],\n",
              "      dtype='object', length=283)"
            ]
          },
          "execution_count": 212,
          "metadata": {},
          "output_type": "execute_result"
        }
      ],
      "source": [
        "title_over_4  #> 150개 이상의 별점 리뷰를 가지고 있고, 별점들의 평균이 4.0 이상인 영화 제목들 - 283개"
      ]
    },
    {
      "cell_type": "code",
      "execution_count": 213,
      "metadata": {
        "id": "tdCTvF1wbWVD"
      },
      "outputs": [],
      "source": [
        "movies_with_index = movies.set_index('title')"
      ]
    },
    {
      "cell_type": "code",
      "execution_count": 214,
      "metadata": {
        "colab": {
          "base_uri": "https://localhost:8080/",
          "height": 455
        },
        "id": "p6Jx4SL9cUMU",
        "outputId": "7e72a51c-7115-4fd6-e472-55f707b18951"
      },
      "outputs": [
        {
          "data": {
            "text/html": [
              "<div>\n",
              "<style scoped>\n",
              "    .dataframe tbody tr th:only-of-type {\n",
              "        vertical-align: middle;\n",
              "    }\n",
              "\n",
              "    .dataframe tbody tr th {\n",
              "        vertical-align: top;\n",
              "    }\n",
              "\n",
              "    .dataframe thead th {\n",
              "        text-align: right;\n",
              "    }\n",
              "</style>\n",
              "<table border=\"1\" class=\"dataframe\">\n",
              "  <thead>\n",
              "    <tr style=\"text-align: right;\">\n",
              "      <th></th>\n",
              "      <th>movie_id</th>\n",
              "      <th>genres</th>\n",
              "    </tr>\n",
              "    <tr>\n",
              "      <th>title</th>\n",
              "      <th></th>\n",
              "      <th></th>\n",
              "    </tr>\n",
              "  </thead>\n",
              "  <tbody>\n",
              "    <tr>\n",
              "      <th>Toy Story (1995)</th>\n",
              "      <td>1</td>\n",
              "      <td>Animation|Children's|Comedy</td>\n",
              "    </tr>\n",
              "    <tr>\n",
              "      <th>Jumanji (1995)</th>\n",
              "      <td>2</td>\n",
              "      <td>Adventure|Children's|Fantasy</td>\n",
              "    </tr>\n",
              "    <tr>\n",
              "      <th>Grumpier Old Men (1995)</th>\n",
              "      <td>3</td>\n",
              "      <td>Comedy|Romance</td>\n",
              "    </tr>\n",
              "    <tr>\n",
              "      <th>Waiting to Exhale (1995)</th>\n",
              "      <td>4</td>\n",
              "      <td>Comedy|Drama</td>\n",
              "    </tr>\n",
              "    <tr>\n",
              "      <th>Father of the Bride Part II (1995)</th>\n",
              "      <td>5</td>\n",
              "      <td>Comedy</td>\n",
              "    </tr>\n",
              "    <tr>\n",
              "      <th>...</th>\n",
              "      <td>...</td>\n",
              "      <td>...</td>\n",
              "    </tr>\n",
              "    <tr>\n",
              "      <th>Meet the Parents (2000)</th>\n",
              "      <td>3948</td>\n",
              "      <td>Comedy</td>\n",
              "    </tr>\n",
              "    <tr>\n",
              "      <th>Requiem for a Dream (2000)</th>\n",
              "      <td>3949</td>\n",
              "      <td>Drama</td>\n",
              "    </tr>\n",
              "    <tr>\n",
              "      <th>Tigerland (2000)</th>\n",
              "      <td>3950</td>\n",
              "      <td>Drama</td>\n",
              "    </tr>\n",
              "    <tr>\n",
              "      <th>Two Family House (2000)</th>\n",
              "      <td>3951</td>\n",
              "      <td>Drama</td>\n",
              "    </tr>\n",
              "    <tr>\n",
              "      <th>Contender, The (2000)</th>\n",
              "      <td>3952</td>\n",
              "      <td>Drama|Thriller</td>\n",
              "    </tr>\n",
              "  </tbody>\n",
              "</table>\n",
              "<p>3883 rows × 2 columns</p>\n",
              "</div>"
            ],
            "text/plain": [
              "                                    movie_id                        genres\n",
              "title                                                                     \n",
              "Toy Story (1995)                           1   Animation|Children's|Comedy\n",
              "Jumanji (1995)                             2  Adventure|Children's|Fantasy\n",
              "Grumpier Old Men (1995)                    3                Comedy|Romance\n",
              "Waiting to Exhale (1995)                   4                  Comedy|Drama\n",
              "Father of the Bride Part II (1995)         5                        Comedy\n",
              "...                                      ...                           ...\n",
              "Meet the Parents (2000)                 3948                        Comedy\n",
              "Requiem for a Dream (2000)              3949                         Drama\n",
              "Tigerland (2000)                        3950                         Drama\n",
              "Two Family House (2000)                 3951                         Drama\n",
              "Contender, The (2000)                   3952                Drama|Thriller\n",
              "\n",
              "[3883 rows x 2 columns]"
            ]
          },
          "execution_count": 214,
          "metadata": {},
          "output_type": "execute_result"
        }
      ],
      "source": [
        "movies_with_index"
      ]
    },
    {
      "cell_type": "code",
      "execution_count": 215,
      "metadata": {
        "id": "YVKclbuZcufM"
      },
      "outputs": [],
      "source": [
        "movies_over_4 = movies_with_index.loc[title_over_4]"
      ]
    },
    {
      "cell_type": "code",
      "execution_count": 216,
      "metadata": {
        "colab": {
          "base_uri": "https://localhost:8080/",
          "height": 423
        },
        "id": "pJjQdDZWdO0Q",
        "outputId": "66a0d2ae-73d0-4de5-959e-7b6270919429"
      },
      "outputs": [
        {
          "data": {
            "text/html": [
              "<div>\n",
              "<style scoped>\n",
              "    .dataframe tbody tr th:only-of-type {\n",
              "        vertical-align: middle;\n",
              "    }\n",
              "\n",
              "    .dataframe tbody tr th {\n",
              "        vertical-align: top;\n",
              "    }\n",
              "\n",
              "    .dataframe thead th {\n",
              "        text-align: right;\n",
              "    }\n",
              "</style>\n",
              "<table border=\"1\" class=\"dataframe\">\n",
              "  <thead>\n",
              "    <tr style=\"text-align: right;\">\n",
              "      <th></th>\n",
              "      <th>movie_id</th>\n",
              "      <th>genres</th>\n",
              "    </tr>\n",
              "  </thead>\n",
              "  <tbody>\n",
              "    <tr>\n",
              "      <th>American Beauty (1999)</th>\n",
              "      <td>2858</td>\n",
              "      <td>Comedy|Drama</td>\n",
              "    </tr>\n",
              "    <tr>\n",
              "      <th>Star Wars: Episode IV - A New Hope (1977)</th>\n",
              "      <td>260</td>\n",
              "      <td>Action|Adventure|Fantasy|Sci-Fi</td>\n",
              "    </tr>\n",
              "    <tr>\n",
              "      <th>Star Wars: Episode V - The Empire Strikes Back (1980)</th>\n",
              "      <td>1196</td>\n",
              "      <td>Action|Adventure|Drama|Sci-Fi|War</td>\n",
              "    </tr>\n",
              "    <tr>\n",
              "      <th>Star Wars: Episode VI - Return of the Jedi (1983)</th>\n",
              "      <td>1210</td>\n",
              "      <td>Action|Adventure|Romance|Sci-Fi|War</td>\n",
              "    </tr>\n",
              "    <tr>\n",
              "      <th>Saving Private Ryan (1998)</th>\n",
              "      <td>2028</td>\n",
              "      <td>Action|Drama|War</td>\n",
              "    </tr>\n",
              "    <tr>\n",
              "      <th>...</th>\n",
              "      <td>...</td>\n",
              "      <td>...</td>\n",
              "    </tr>\n",
              "    <tr>\n",
              "      <th>Grand Illusion (Grande illusion, La) (1937)</th>\n",
              "      <td>3134</td>\n",
              "      <td>Drama|War</td>\n",
              "    </tr>\n",
              "    <tr>\n",
              "      <th>Seven Days in May (1964)</th>\n",
              "      <td>3634</td>\n",
              "      <td>Thriller</td>\n",
              "    </tr>\n",
              "    <tr>\n",
              "      <th>Sullivan's Travels (1942)</th>\n",
              "      <td>2936</td>\n",
              "      <td>Comedy</td>\n",
              "    </tr>\n",
              "    <tr>\n",
              "      <th>Paradise Lost: The Child Murders at Robin Hood Hills (1996)</th>\n",
              "      <td>1361</td>\n",
              "      <td>Documentary</td>\n",
              "    </tr>\n",
              "    <tr>\n",
              "      <th>Pawnbroker, The (1965)</th>\n",
              "      <td>3789</td>\n",
              "      <td>Drama</td>\n",
              "    </tr>\n",
              "  </tbody>\n",
              "</table>\n",
              "<p>283 rows × 2 columns</p>\n",
              "</div>"
            ],
            "text/plain": [
              "                                                    movie_id  \\\n",
              "American Beauty (1999)                                  2858   \n",
              "Star Wars: Episode IV - A New Hope (1977)                260   \n",
              "Star Wars: Episode V - The Empire Strikes Back ...      1196   \n",
              "Star Wars: Episode VI - Return of the Jedi (1983)       1210   \n",
              "Saving Private Ryan (1998)                              2028   \n",
              "...                                                      ...   \n",
              "Grand Illusion (Grande illusion, La) (1937)             3134   \n",
              "Seven Days in May (1964)                                3634   \n",
              "Sullivan's Travels (1942)                               2936   \n",
              "Paradise Lost: The Child Murders at Robin Hood ...      1361   \n",
              "Pawnbroker, The (1965)                                  3789   \n",
              "\n",
              "                                                                                 genres  \n",
              "American Beauty (1999)                                                     Comedy|Drama  \n",
              "Star Wars: Episode IV - A New Hope (1977)               Action|Adventure|Fantasy|Sci-Fi  \n",
              "Star Wars: Episode V - The Empire Strikes Back ...    Action|Adventure|Drama|Sci-Fi|War  \n",
              "Star Wars: Episode VI - Return of the Jedi (1983)   Action|Adventure|Romance|Sci-Fi|War  \n",
              "Saving Private Ryan (1998)                                             Action|Drama|War  \n",
              "...                                                                                 ...  \n",
              "Grand Illusion (Grande illusion, La) (1937)                                   Drama|War  \n",
              "Seven Days in May (1964)                                                       Thriller  \n",
              "Sullivan's Travels (1942)                                                        Comedy  \n",
              "Paradise Lost: The Child Murders at Robin Hood ...                          Documentary  \n",
              "Pawnbroker, The (1965)                                                            Drama  \n",
              "\n",
              "[283 rows x 2 columns]"
            ]
          },
          "execution_count": 216,
          "metadata": {},
          "output_type": "execute_result"
        }
      ],
      "source": [
        "movies_over_4"
      ]
    },
    {
      "cell_type": "code",
      "execution_count": 217,
      "metadata": {
        "id": "0gBRR84CdP_t"
      },
      "outputs": [],
      "source": [
        "# 별점 평균 4.0 이상인 영화의 장르들을 저장할 리스트\n",
        "genres_over_4 = []\n",
        "for s in movies_over_4['genres']:\n",
        "    genres_over_4.extend(s.split(sep='|'))"
      ]
    },
    {
      "cell_type": "code",
      "execution_count": 218,
      "metadata": {
        "colab": {
          "base_uri": "https://localhost:8080/"
        },
        "id": "0OCZdtJ0d-VL",
        "outputId": "a506b6cb-aa60-4350-c975-613c1fd09346"
      },
      "outputs": [
        {
          "data": {
            "text/plain": [
              "526"
            ]
          },
          "execution_count": 218,
          "metadata": {},
          "output_type": "execute_result"
        }
      ],
      "source": [
        "len(genres_over_4)"
      ]
    },
    {
      "cell_type": "code",
      "execution_count": 219,
      "metadata": {
        "id": "EElAEnjEeAEL"
      },
      "outputs": [],
      "source": [
        "# 장르의 빈도수 상위 10개\n",
        "genre_counts = pd.value_counts(genres_over_4).head(n=10)"
      ]
    },
    {
      "cell_type": "code",
      "execution_count": 220,
      "metadata": {
        "colab": {
          "base_uri": "https://localhost:8080/"
        },
        "id": "I9in-chweP9z",
        "outputId": "e493a0f1-680b-497c-9383-d11127546e10"
      },
      "outputs": [
        {
          "data": {
            "text/plain": [
              "Drama        134\n",
              "Comedy        82\n",
              "Thriller      51\n",
              "Romance       38\n",
              "War           36\n",
              "Action        36\n",
              "Crime         26\n",
              "Mystery       21\n",
              "Sci-Fi        19\n",
              "Adventure     17\n",
              "dtype: int64"
            ]
          },
          "execution_count": 220,
          "metadata": {},
          "output_type": "execute_result"
        }
      ],
      "source": [
        "genre_counts"
      ]
    },
    {
      "cell_type": "code",
      "execution_count": 221,
      "metadata": {
        "colab": {
          "base_uri": "https://localhost:8080/",
          "height": 265
        },
        "id": "r4F9K9gueQ47",
        "outputId": "afa1df98-e28c-41f9-b7df-63b065eb9035"
      },
      "outputs": [
        {
          "data": {
            "image/png": "[encoded data removed]",
            "text/plain": [
              "<Figure size 432x288 with 1 Axes>"
            ]
          },
          "metadata": {
            "needs_background": "light"
          },
          "output_type": "display_data"
        }
      ],
      "source": [
        "sns.barplot(x=genre_counts.values, y=genre_counts.index)\n",
        "plt.show()"
      ]
    },
    {
      "cell_type": "markdown",
      "metadata": {
        "id": "_sfIeOzgfAKd"
      },
      "source": [
        "150개 이상의 별점 리뷰를 가지고 있고, 여성들의 별점 평균이 4.0 이상인 영화들에 나오는 장르들."
      ]
    },
    {
      "cell_type": "code",
      "execution_count": 222,
      "metadata": {
        "id": "Sqgt-AtMfMqL"
      },
      "outputs": [],
      "source": [
        "idx_female = by_gender_150[by_gender_150['F'] >= 4.0].index"
      ]
    },
    {
      "cell_type": "code",
      "execution_count": 223,
      "metadata": {
        "colab": {
          "base_uri": "https://localhost:8080/"
        },
        "id": "8ccvZWVEgqd7",
        "outputId": "6dae6249-3f6b-45e2-a65e-6a36add13ff6"
      },
      "outputs": [
        {
          "data": {
            "text/plain": [
              "Index(['American Beauty (1999)', 'Star Wars: Episode IV - A New Hope (1977)',\n",
              "       'Star Wars: Episode V - The Empire Strikes Back (1980)',\n",
              "       'Saving Private Ryan (1998)', 'Matrix, The (1999)',\n",
              "       'Silence of the Lambs, The (1991)', 'Raiders of the Lost Ark (1981)',\n",
              "       'Fargo (1996)', 'Sixth Sense, The (1999)', 'Braveheart (1995)',\n",
              "       ...\n",
              "       'Once Were Warriors (1994)', 'Suspicion (1941)', 'Everest (1998)',\n",
              "       'Grand Illusion (Grande illusion, La) (1937)',\n",
              "       'Seven Days in May (1964)', 'Sullivan's Travels (1942)',\n",
              "       'Paradise Lost: The Child Murders at Robin Hood Hills (1996)',\n",
              "       'Pawnbroker, The (1965)', 'Dead Man (1995)', 'Twelfth Night (1996)'],\n",
              "      dtype='object', length=279)"
            ]
          },
          "execution_count": 223,
          "metadata": {},
          "output_type": "execute_result"
        }
      ],
      "source": [
        "idx_female"
      ]
    },
    {
      "cell_type": "code",
      "execution_count": 224,
      "metadata": {
        "id": "22J8M_ZIgsB9"
      },
      "outputs": [],
      "source": [
        "female_movies = movies_with_index.loc[idx_female]"
      ]
    },
    {
      "cell_type": "code",
      "execution_count": 225,
      "metadata": {
        "colab": {
          "base_uri": "https://localhost:8080/",
          "height": 423
        },
        "id": "W8_rcaosgwlb",
        "outputId": "020a4710-2ffe-42dc-87fe-139e7a33e4a6"
      },
      "outputs": [
        {
          "data": {
            "text/html": [
              "<div>\n",
              "<style scoped>\n",
              "    .dataframe tbody tr th:only-of-type {\n",
              "        vertical-align: middle;\n",
              "    }\n",
              "\n",
              "    .dataframe tbody tr th {\n",
              "        vertical-align: top;\n",
              "    }\n",
              "\n",
              "    .dataframe thead th {\n",
              "        text-align: right;\n",
              "    }\n",
              "</style>\n",
              "<table border=\"1\" class=\"dataframe\">\n",
              "  <thead>\n",
              "    <tr style=\"text-align: right;\">\n",
              "      <th></th>\n",
              "      <th>movie_id</th>\n",
              "      <th>genres</th>\n",
              "    </tr>\n",
              "  </thead>\n",
              "  <tbody>\n",
              "    <tr>\n",
              "      <th>American Beauty (1999)</th>\n",
              "      <td>2858</td>\n",
              "      <td>Comedy|Drama</td>\n",
              "    </tr>\n",
              "    <tr>\n",
              "      <th>Star Wars: Episode IV - A New Hope (1977)</th>\n",
              "      <td>260</td>\n",
              "      <td>Action|Adventure|Fantasy|Sci-Fi</td>\n",
              "    </tr>\n",
              "    <tr>\n",
              "      <th>Star Wars: Episode V - The Empire Strikes Back (1980)</th>\n",
              "      <td>1196</td>\n",
              "      <td>Action|Adventure|Drama|Sci-Fi|War</td>\n",
              "    </tr>\n",
              "    <tr>\n",
              "      <th>Saving Private Ryan (1998)</th>\n",
              "      <td>2028</td>\n",
              "      <td>Action|Drama|War</td>\n",
              "    </tr>\n",
              "    <tr>\n",
              "      <th>Matrix, The (1999)</th>\n",
              "      <td>2571</td>\n",
              "      <td>Action|Sci-Fi|Thriller</td>\n",
              "    </tr>\n",
              "    <tr>\n",
              "      <th>...</th>\n",
              "      <td>...</td>\n",
              "      <td>...</td>\n",
              "    </tr>\n",
              "    <tr>\n",
              "      <th>Sullivan's Travels (1942)</th>\n",
              "      <td>2936</td>\n",
              "      <td>Comedy</td>\n",
              "    </tr>\n",
              "    <tr>\n",
              "      <th>Paradise Lost: The Child Murders at Robin Hood Hills (1996)</th>\n",
              "      <td>1361</td>\n",
              "      <td>Documentary</td>\n",
              "    </tr>\n",
              "    <tr>\n",
              "      <th>Pawnbroker, The (1965)</th>\n",
              "      <td>3789</td>\n",
              "      <td>Drama</td>\n",
              "    </tr>\n",
              "    <tr>\n",
              "      <th>Dead Man (1995)</th>\n",
              "      <td>714</td>\n",
              "      <td>Western</td>\n",
              "    </tr>\n",
              "    <tr>\n",
              "      <th>Twelfth Night (1996)</th>\n",
              "      <td>892</td>\n",
              "      <td>Comedy|Drama|Romance</td>\n",
              "    </tr>\n",
              "  </tbody>\n",
              "</table>\n",
              "<p>279 rows × 2 columns</p>\n",
              "</div>"
            ],
            "text/plain": [
              "                                                    movie_id  \\\n",
              "American Beauty (1999)                                  2858   \n",
              "Star Wars: Episode IV - A New Hope (1977)                260   \n",
              "Star Wars: Episode V - The Empire Strikes Back ...      1196   \n",
              "Saving Private Ryan (1998)                              2028   \n",
              "Matrix, The (1999)                                      2571   \n",
              "...                                                      ...   \n",
              "Sullivan's Travels (1942)                               2936   \n",
              "Paradise Lost: The Child Murders at Robin Hood ...      1361   \n",
              "Pawnbroker, The (1965)                                  3789   \n",
              "Dead Man (1995)                                          714   \n",
              "Twelfth Night (1996)                                     892   \n",
              "\n",
              "                                                                               genres  \n",
              "American Beauty (1999)                                                   Comedy|Drama  \n",
              "Star Wars: Episode IV - A New Hope (1977)             Action|Adventure|Fantasy|Sci-Fi  \n",
              "Star Wars: Episode V - The Empire Strikes Back ...  Action|Adventure|Drama|Sci-Fi|War  \n",
              "Saving Private Ryan (1998)                                           Action|Drama|War  \n",
              "Matrix, The (1999)                                             Action|Sci-Fi|Thriller  \n",
              "...                                                                               ...  \n",
              "Sullivan's Travels (1942)                                                      Comedy  \n",
              "Paradise Lost: The Child Murders at Robin Hood ...                        Documentary  \n",
              "Pawnbroker, The (1965)                                                          Drama  \n",
              "Dead Man (1995)                                                               Western  \n",
              "Twelfth Night (1996)                                             Comedy|Drama|Romance  \n",
              "\n",
              "[279 rows x 2 columns]"
            ]
          },
          "execution_count": 225,
          "metadata": {},
          "output_type": "execute_result"
        }
      ],
      "source": [
        "female_movies"
      ]
    },
    {
      "cell_type": "code",
      "execution_count": 226,
      "metadata": {
        "id": "DHQDOvI7g_kT"
      },
      "outputs": [],
      "source": [
        "female_genres = []  # 여성 별점 평균 4.0 이상인 영화의 장르들을 저장할 리스트\n",
        "for s in female_movies['genres']:\n",
        "    female_genres.extend(s.split(sep='|'))"
      ]
    },
    {
      "cell_type": "code",
      "execution_count": 227,
      "metadata": {
        "colab": {
          "base_uri": "https://localhost:8080/"
        },
        "id": "cVsnC2tthhWk",
        "outputId": "32b592c1-13a8-4360-fa3d-9826de2958c5"
      },
      "outputs": [
        {
          "data": {
            "text/plain": [
              "511"
            ]
          },
          "execution_count": 227,
          "metadata": {},
          "output_type": "execute_result"
        }
      ],
      "source": [
        "len(female_genres)"
      ]
    },
    {
      "cell_type": "code",
      "execution_count": 228,
      "metadata": {
        "id": "XL2ay5cKhjNz"
      },
      "outputs": [],
      "source": [
        "# 여성 별점 평균 4.0 이상인 영화의 장르 개수 상위 10개\n",
        "female_genre_counts = pd.value_counts(female_genres).head(n=10)"
      ]
    },
    {
      "cell_type": "code",
      "execution_count": 229,
      "metadata": {
        "colab": {
          "base_uri": "https://localhost:8080/"
        },
        "id": "3mFQ8GBxh3Gb",
        "outputId": "98c44948-aa8f-49f4-e3c9-e690c27a0f9c"
      },
      "outputs": [
        {
          "data": {
            "text/plain": [
              "Drama        145\n",
              "Comedy        82\n",
              "Romance       47\n",
              "Thriller      40\n",
              "War           32\n",
              "Action        24\n",
              "Mystery       22\n",
              "Crime         21\n",
              "Musical       17\n",
              "Adventure     15\n",
              "dtype: int64"
            ]
          },
          "execution_count": 229,
          "metadata": {},
          "output_type": "execute_result"
        }
      ],
      "source": [
        "female_genre_counts"
      ]
    },
    {
      "cell_type": "code",
      "execution_count": 230,
      "metadata": {
        "colab": {
          "base_uri": "https://localhost:8080/",
          "height": 265
        },
        "id": "-NC15Cx3h4_o",
        "outputId": "1eaf27bb-506d-49a4-afdc-db60bfc6ac2b"
      },
      "outputs": [
        {
          "data": {
            "image/png": "[encoded data removed]",
            "text/plain": [
              "<Figure size 432x288 with 1 Axes>"
            ]
          },
          "metadata": {
            "needs_background": "light"
          },
          "output_type": "display_data"
        }
      ],
      "source": [
        "sns.barplot(x=female_genre_counts.values, y=female_genre_counts.index)\n",
        "plt.show()"
      ]
    },
    {
      "cell_type": "markdown",
      "metadata": {
        "id": "M0imueYljF0E"
      },
      "source": [
        "150개 이상의 별점 리뷰를 가지고 있고, 남성들의 별점 평균이 4.0 이상인 영화 장르의 상위 10개"
      ]
    },
    {
      "cell_type": "code",
      "execution_count": 231,
      "metadata": {
        "id": "LVqLx3s7iOeD"
      },
      "outputs": [],
      "source": [
        "# 150개 이상의 별점 리뷰를 가지고 있고, 남성들의 별점 평균이 4.0 이상인 영화의 제목들\n",
        "idx_male = by_gender_150[by_gender_150['M'] >= 4.0].index"
      ]
    },
    {
      "cell_type": "code",
      "execution_count": 232,
      "metadata": {
        "id": "HR-yRASFjwAr"
      },
      "outputs": [],
      "source": [
        "# 남성 별점 평균이 4.0 이상인 영화들\n",
        "movies_male = movies_with_index.loc[idx_male]"
      ]
    },
    {
      "cell_type": "code",
      "execution_count": 233,
      "metadata": {
        "id": "B6ofg6cakHsk"
      },
      "outputs": [],
      "source": [
        "male_genres = []\n",
        "for s in movies_male['genres']:\n",
        "    male_genres.extend(s.split(sep='|'))"
      ]
    },
    {
      "cell_type": "code",
      "execution_count": 234,
      "metadata": {
        "id": "jAvW5xOlkWVz"
      },
      "outputs": [],
      "source": [
        "# 남성들의 선호도가 높은 영화 장르 상위 10개\n",
        "male_genre_counts = pd.value_counts(male_genres).head(n=10)"
      ]
    },
    {
      "cell_type": "code",
      "execution_count": 235,
      "metadata": {
        "colab": {
          "base_uri": "https://localhost:8080/"
        },
        "id": "Nbb48vvxkkdL",
        "outputId": "c5617708-888f-46d9-e460-8469ef5b98a8"
      },
      "outputs": [
        {
          "data": {
            "text/plain": [
              "Drama        131\n",
              "Comedy        80\n",
              "Thriller      49\n",
              "Action        39\n",
              "War           36\n",
              "Romance       32\n",
              "Crime         26\n",
              "Sci-Fi        19\n",
              "Mystery       19\n",
              "Adventure     17\n",
              "dtype: int64"
            ]
          },
          "execution_count": 235,
          "metadata": {},
          "output_type": "execute_result"
        }
      ],
      "source": [
        "male_genre_counts"
      ]
    },
    {
      "cell_type": "code",
      "execution_count": 236,
      "metadata": {
        "colab": {
          "base_uri": "https://localhost:8080/",
          "height": 265
        },
        "id": "UcVYAjFdkrgr",
        "outputId": "3a785d5c-17e9-447e-cec0-70c0cf62b6bf"
      },
      "outputs": [
        {
          "data": {
            "image/png": "[encoded data removed]",
            "text/plain": [
              "<Figure size 432x288 with 1 Axes>"
            ]
          },
          "metadata": {
            "needs_background": "light"
          },
          "output_type": "display_data"
        }
      ],
      "source": [
        "sns.barplot(x=male_genre_counts.values, y=male_genre_counts.index)\n",
        "plt.show()"
      ]
    },
    {
      "cell_type": "markdown",
      "metadata": {
        "id": "Ufekuj9ImCg8"
      },
      "source": [
        "## 150건 이상의 리뷰가 있는 영화들 중에서 선호도의 차이(별점의 표주편차)가 큰 영화 상위 50개 자주 등장하는 영화 장르 5개."
      ]
    },
    {
      "cell_type": "code",
      "execution_count": 305,
      "metadata": {
        "id": "0sdI2L38ne52"
      },
      "outputs": [],
      "source": [
        "title_counts=df['title'].value_counts().index\n",
        "\n",
        "\n",
        "result=df.groupby('title')['rating'].agg(['std'])\n",
        "result=result.sort_values(by='std', ascending=False).head(50)\n"
      ]
    },
    {
      "cell_type": "markdown",
      "metadata": {
        "id": "4QeAB36bmdgb"
      },
      "source": [
        "## 연령대별(`18~24, 25~34, 35~44`)에서 평점 평균 상위 영화 제목, 장르"
      ]
    },
    {
      "cell_type": "code",
      "execution_count": null,
      "metadata": {
        "id": "AAKtCv_lnfSr"
      },
      "outputs": [],
      "source": []
    },
    {
      "cell_type": "markdown",
      "metadata": {
        "id": "XB6FDt4xnKz7"
      },
      "source": [
        "## \"college/grad student\" 직업군에서 평점 평균 상위 영화 제목, 장르"
      ]
    },
    {
      "cell_type": "code",
      "execution_count": null,
      "metadata": {
        "id": "YXiToqwnlO0T"
      },
      "outputs": [],
      "source": []
    }
  ],
  "metadata": {
    "colab": {
      "authorship_tag": "ABX9TyMJfE2Vtf0J6tQ5pcotuiyd",
      "collapsed_sections": [],
      "include_colab_link": true,
      "name": "py25_movielens.ipynb",
      "provenance": []
    },
    "kernelspec": {
      "display_name": "Python 3",
      "name": "python3"
    },
    "language_info": {
      "name": "python",
      "version": "3.9.7"
    }
  },
  "nbformat": 4,
  "nbformat_minor": 0
}
