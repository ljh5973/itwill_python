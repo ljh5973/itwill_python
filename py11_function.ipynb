{
  "nbformat": 4,
  "nbformat_minor": 0,
  "metadata": {
    "colab": {
      "name": "py11_function.ipynb",
      "provenance": [],
      "collapsed_sections": [],
      "authorship_tag": "ABX9TyMWFjxMB0xGpJWXDXY0KU+A",
      "include_colab_link": true
    },
    "kernelspec": {
      "name": "python3",
      "display_name": "Python 3"
    },
    "language_info": {
      "name": "python"
    }
  },
  "cells": [
    {
      "cell_type": "markdown",
      "metadata": {
        "id": "view-in-github",
        "colab_type": "text"
      },
      "source": [
        "<a href=\"https://colab.research.google.com/github/JakeOh/202110_itw_lab_python/blob/main/py11_function.ipynb\" target=\"_parent\"><img src=\"https://colab.research.google.com/assets/colab-badge.svg\" alt=\"Open In Colab\"/></a>"
      ]
    },
    {
      "cell_type": "markdown",
      "source": [
        "# 1급 객체(first-class object)로서의 함수\n",
        "\n",
        "함수는 객체이다.\n",
        "* 함수는 변수에 할당할 수 있음.\n",
        "* 함수는 argument로 다른 함수에 전달할 수 있음.\n",
        "* 함수의 반환 값이 함수가 될 수 있음. 함수는 함수를 반환할 수 있음.\n",
        "* 함수 내부에서 다른 함수를 정의할 수 있음."
      ],
      "metadata": {
        "id": "ODOW279eDXQa"
      }
    },
    {
      "cell_type": "code",
      "execution_count": 1,
      "metadata": {
        "colab": {
          "base_uri": "https://localhost:8080/"
        },
        "id": "if6KKtsmDKF2",
        "outputId": "1d240491-754d-4ae3-ab39-3289029506b4"
      },
      "outputs": [
        {
          "output_type": "stream",
          "name": "stdout",
          "text": [
            "1\n"
          ]
        }
      ],
      "source": [
        "x = 1  # 객체는 변수에 할당(저장)할 수 있음.\n",
        "print(x)  # 객체는 함수의 argument로 전달할 수 있음."
      ]
    },
    {
      "cell_type": "code",
      "source": [
        "# 함수 정의\n",
        "def twice(x):\n",
        "    return 2 * x"
      ],
      "metadata": {
        "id": "PhiiobpSEuAM"
      },
      "execution_count": 2,
      "outputs": []
    },
    {
      "cell_type": "code",
      "source": [
        "print(twice)  #> twice는 함수 객체(function object)"
      ],
      "metadata": {
        "colab": {
          "base_uri": "https://localhost:8080/"
        },
        "id": "wvXF7dujFQyS",
        "outputId": "1990f6f8-cd29-4d69-8799-939bb9f6fba8"
      },
      "execution_count": 3,
      "outputs": [
        {
          "output_type": "stream",
          "name": "stdout",
          "text": [
            "<function twice at 0x7f270f6154d0>\n"
          ]
        }
      ]
    },
    {
      "cell_type": "code",
      "source": [
        "result = twice(5)  # 함수 호출 결과(리턴 값)을 변수 result에 저장.\n",
        "result"
      ],
      "metadata": {
        "colab": {
          "base_uri": "https://localhost:8080/"
        },
        "id": "DckpQFpgFdvg",
        "outputId": "204c5faf-0f53-49d1-d74b-dbad4bc51b8c"
      },
      "execution_count": 4,
      "outputs": [
        {
          "output_type": "execute_result",
          "data": {
            "text/plain": [
              "10"
            ]
          },
          "metadata": {},
          "execution_count": 4
        }
      ]
    },
    {
      "cell_type": "code",
      "source": [
        "double = twice  # 함수는 변수에 할당할 수 있음.\n",
        "print(double)"
      ],
      "metadata": {
        "colab": {
          "base_uri": "https://localhost:8080/"
        },
        "id": "mmJQ5C0RF6uY",
        "outputId": "c9df6812-222c-49dc-a00e-22f447e0776a"
      },
      "execution_count": 5,
      "outputs": [
        {
          "output_type": "stream",
          "name": "stdout",
          "text": [
            "<function twice at 0x7f270f6154d0>\n"
          ]
        }
      ]
    },
    {
      "cell_type": "code",
      "source": [
        "double(5)  # double 함수 호출 결과는 twice 함수 호출 결과와 동일."
      ],
      "metadata": {
        "colab": {
          "base_uri": "https://localhost:8080/"
        },
        "id": "aXPFZs4uGHyi",
        "outputId": "4f2be000-1e97-4649-90c9-55afe869ea64"
      },
      "execution_count": 6,
      "outputs": [
        {
          "output_type": "execute_result",
          "data": {
            "text/plain": [
              "10"
            ]
          },
          "metadata": {},
          "execution_count": 6
        }
      ]
    },
    {
      "cell_type": "markdown",
      "source": [
        "argument로 함수를 전달받는 함수"
      ],
      "metadata": {
        "id": "iQgbtQv5HbyK"
      }
    },
    {
      "cell_type": "code",
      "source": [
        "def calculator(x, y, fn):\n",
        "    \"\"\"\n",
        "    x, y: 숫자(int, float)\n",
        "    fn: 숫자 2개를 argument로 전달받고, 숫자를 리턴하는 함수\n",
        "    \"\"\"\n",
        "    result = fn(x, y)\n",
        "    return result"
      ],
      "metadata": {
        "id": "HYw9d-7NG0kY"
      },
      "execution_count": 7,
      "outputs": []
    },
    {
      "cell_type": "code",
      "source": [
        "def plus(x, y):\n",
        "    return x + y"
      ],
      "metadata": {
        "id": "CNF54ps6IHys"
      },
      "execution_count": 8,
      "outputs": []
    },
    {
      "cell_type": "code",
      "source": [
        "calculator(1, 2, plus)"
      ],
      "metadata": {
        "colab": {
          "base_uri": "https://localhost:8080/"
        },
        "id": "tiZikLE4IM9w",
        "outputId": "428e81f1-d67c-4620-b003-3f534ac05ff1"
      },
      "execution_count": 9,
      "outputs": [
        {
          "output_type": "execute_result",
          "data": {
            "text/plain": [
              "3"
            ]
          },
          "metadata": {},
          "execution_count": 9
        }
      ]
    },
    {
      "cell_type": "code",
      "source": [
        "def minus(x, y):\n",
        "    return x - y"
      ],
      "metadata": {
        "id": "gq1yy-gBIZXI"
      },
      "execution_count": 10,
      "outputs": []
    },
    {
      "cell_type": "code",
      "source": [
        "calculator(1, 2, minus)"
      ],
      "metadata": {
        "colab": {
          "base_uri": "https://localhost:8080/"
        },
        "id": "W3dN1az5JACU",
        "outputId": "c1afa98d-8d44-47f3-8f73-b6c23941a468"
      },
      "execution_count": 11,
      "outputs": [
        {
          "output_type": "execute_result",
          "data": {
            "text/plain": [
              "-1"
            ]
          },
          "metadata": {},
          "execution_count": 11
        }
      ]
    },
    {
      "cell_type": "markdown",
      "source": [
        "함수 내부에서 함수를 정의(선언)하고, 함수를 리턴."
      ],
      "metadata": {
        "id": "tsdvmzJiKJYA"
      }
    },
    {
      "cell_type": "code",
      "source": [
        "def make_increment(n):\n",
        "    # 내부 함수(inner function), 지역 함수(local function): 함수 내부에서 정의하는 함수\n",
        "    def add_n(x):\n",
        "        return x + n\n",
        "\n",
        "    # make_increment 함수는 add_n 함수 (객체)를 리턴.\n",
        "    return add_n"
      ],
      "metadata": {
        "id": "sk10fX2HJHB4"
      },
      "execution_count": 12,
      "outputs": []
    },
    {
      "cell_type": "code",
      "source": [
        "increase_by_2 = make_increment(2)\n",
        "print(increase_by_2)"
      ],
      "metadata": {
        "colab": {
          "base_uri": "https://localhost:8080/"
        },
        "id": "C0r0oyovLJ7B",
        "outputId": "6e89f7cb-7c99-47c6-d8a4-d67689dc686a"
      },
      "execution_count": 13,
      "outputs": [
        {
          "output_type": "stream",
          "name": "stdout",
          "text": [
            "<function make_increment.<locals>.add_n at 0x7f270f615e60>\n"
          ]
        }
      ]
    },
    {
      "cell_type": "code",
      "source": [
        "increase_by_2(10)"
      ],
      "metadata": {
        "colab": {
          "base_uri": "https://localhost:8080/"
        },
        "id": "SU9LOi8PLV8w",
        "outputId": "d4854d01-8838-42f4-f4f5-39c7fefb9a41"
      },
      "execution_count": 14,
      "outputs": [
        {
          "output_type": "execute_result",
          "data": {
            "text/plain": [
              "12"
            ]
          },
          "metadata": {},
          "execution_count": 14
        }
      ]
    },
    {
      "cell_type": "code",
      "source": [
        "increase_by_10 = make_increment(10)\n",
        "print(increase_by_10)"
      ],
      "metadata": {
        "colab": {
          "base_uri": "https://localhost:8080/"
        },
        "id": "NdxnPtztL5DY",
        "outputId": "48314e3f-4c87-48f2-94a0-fd565f9fa081"
      },
      "execution_count": 15,
      "outputs": [
        {
          "output_type": "stream",
          "name": "stdout",
          "text": [
            "<function make_increment.<locals>.add_n at 0x7f270f615dd0>\n"
          ]
        }
      ]
    },
    {
      "cell_type": "code",
      "source": [
        "increase_by_10(10)"
      ],
      "metadata": {
        "colab": {
          "base_uri": "https://localhost:8080/"
        },
        "id": "kRaw4H9XMLsI",
        "outputId": "1d06a0c3-ebad-4f3b-d528-ae41bee75e0d"
      },
      "execution_count": 16,
      "outputs": [
        {
          "output_type": "execute_result",
          "data": {
            "text/plain": [
              "20"
            ]
          },
          "metadata": {},
          "execution_count": 16
        }
      ]
    },
    {
      "cell_type": "markdown",
      "source": [
        "# 람다 표현식(Lambda expression)"
      ],
      "metadata": {
        "id": "jLyRAs9lRvu4"
      }
    },
    {
      "cell_type": "markdown",
      "source": [
        "```\n",
        "lambda param1, param2, ...: expression(리턴 값) \n",
        "```\n",
        "\n",
        "* 이름이 없는 함수(anonymous function).\n",
        "* 함수 이름 없이, 함수의 파라미터 선언과 반환 값 또는 반환 식으로 함수를 정의하는 방법."
      ],
      "metadata": {
        "id": "GfmhOvgiR3L4"
      }
    },
    {
      "cell_type": "code",
      "source": [
        "plus_one = lambda x: x + 1  # x를 argument로 전달받아서 x+1을 리턴하는 함수"
      ],
      "metadata": {
        "id": "QsjS5p-HMkLJ"
      },
      "execution_count": 17,
      "outputs": []
    },
    {
      "cell_type": "code",
      "source": [
        "plus_one(1)  # 함수 호출"
      ],
      "metadata": {
        "colab": {
          "base_uri": "https://localhost:8080/"
        },
        "id": "SzzuanodSvPA",
        "outputId": "08c7783a-f999-4627-fccd-142275733297"
      },
      "execution_count": 18,
      "outputs": [
        {
          "output_type": "execute_result",
          "data": {
            "text/plain": [
              "2"
            ]
          },
          "metadata": {},
          "execution_count": 18
        }
      ]
    },
    {
      "cell_type": "code",
      "source": [
        "plus = lambda x, y: x + y  # argument x, y를 전달받아서 x+y를 리턴하는 함수"
      ],
      "metadata": {
        "id": "AjXRAgs7TCcw"
      },
      "execution_count": 19,
      "outputs": []
    },
    {
      "cell_type": "code",
      "source": [
        "plus(1, 2)"
      ],
      "metadata": {
        "colab": {
          "base_uri": "https://localhost:8080/"
        },
        "id": "WzuWgTOQUIRJ",
        "outputId": "c4e70746-8464-49ff-e9b7-ab2a5b07bd17"
      },
      "execution_count": 20,
      "outputs": [
        {
          "output_type": "execute_result",
          "data": {
            "text/plain": [
              "3"
            ]
          },
          "metadata": {},
          "execution_count": 20
        }
      ]
    },
    {
      "cell_type": "markdown",
      "source": [
        "lambda 표현식은 함수의 argument로 전달하기 위해서 사용."
      ],
      "metadata": {
        "id": "Knt6x2foUcKA"
      }
    },
    {
      "cell_type": "code",
      "source": [
        "calculator(1, 2, lambda x, y: x - y)"
      ],
      "metadata": {
        "colab": {
          "base_uri": "https://localhost:8080/"
        },
        "id": "MYjt7YAJULY_",
        "outputId": "be5d1f6c-28b6-47f6-ced0-eb2e467dc4b6"
      },
      "execution_count": 21,
      "outputs": [
        {
          "output_type": "execute_result",
          "data": {
            "text/plain": [
              "-1"
            ]
          },
          "metadata": {},
          "execution_count": 21
        }
      ]
    },
    {
      "cell_type": "code",
      "source": [
        "calculator(2, 3, lambda x, y: x * y)"
      ],
      "metadata": {
        "colab": {
          "base_uri": "https://localhost:8080/"
        },
        "id": "Xhn8zHCgUyCf",
        "outputId": "211c159b-a419-4758-903f-9649d5d6019a"
      },
      "execution_count": 22,
      "outputs": [
        {
          "output_type": "execute_result",
          "data": {
            "text/plain": [
              "6"
            ]
          },
          "metadata": {},
          "execution_count": 22
        }
      ]
    },
    {
      "cell_type": "code",
      "source": [
        "# calculator 함수에 x가 y보다 큰 지(True) 아닌 지(False)를 리턴하는 lambda를 전달.\n",
        "calculator(1, 2, lambda x, y: x > y)"
      ],
      "metadata": {
        "colab": {
          "base_uri": "https://localhost:8080/"
        },
        "id": "DT7mA_xRVDLn",
        "outputId": "98979c04-b7e1-475e-ed13-e85c64bc9af9"
      },
      "execution_count": 23,
      "outputs": [
        {
          "output_type": "execute_result",
          "data": {
            "text/plain": [
              "False"
            ]
          },
          "metadata": {},
          "execution_count": 23
        }
      ]
    },
    {
      "cell_type": "code",
      "source": [
        "calculator(2, 1, lambda x, y: x > y)"
      ],
      "metadata": {
        "colab": {
          "base_uri": "https://localhost:8080/"
        },
        "id": "06yRqJ19V6Pg",
        "outputId": "104391cb-21ea-494c-9212-c33eb23f0987"
      },
      "execution_count": 24,
      "outputs": [
        {
          "output_type": "execute_result",
          "data": {
            "text/plain": [
              "True"
            ]
          },
          "metadata": {},
          "execution_count": 24
        }
      ]
    },
    {
      "cell_type": "code",
      "source": [
        "# calculator 함수에 x, y 중에서 더 큰 수를 리턴하는 lambda를 전달.\n",
        "calculator(1, 2, lambda x, y: max(x, y))"
      ],
      "metadata": {
        "colab": {
          "base_uri": "https://localhost:8080/"
        },
        "id": "s7XvJBFWV-Yf",
        "outputId": "3ea52ea4-d7c2-41e9-8e14-0036abc4445e"
      },
      "execution_count": 25,
      "outputs": [
        {
          "output_type": "execute_result",
          "data": {
            "text/plain": [
              "2"
            ]
          },
          "metadata": {},
          "execution_count": 25
        }
      ]
    },
    {
      "cell_type": "code",
      "source": [
        "# if-else 표현식: 값1 if 조건 else 값2\n",
        "calculator(1, 2, lambda x, y: x if x > y else y)"
      ],
      "metadata": {
        "colab": {
          "base_uri": "https://localhost:8080/"
        },
        "id": "JhUawmoxW1Ax",
        "outputId": "a42b1572-ad4b-482c-df68-19629171f35b"
      },
      "execution_count": 26,
      "outputs": [
        {
          "output_type": "execute_result",
          "data": {
            "text/plain": [
              "2"
            ]
          },
          "metadata": {},
          "execution_count": 26
        }
      ]
    },
    {
      "cell_type": "markdown",
      "source": [
        "## lambda 표현식 응용\n",
        "\n",
        "* filtering\n",
        "    * 성별 컬럼에서 값이 'Male' 또는 'Female'인 데이터들만 선택.\n",
        "* mapping\n",
        "    * 성별 컬럼의 값이 'Male'이면 1, 'Female'이면 0으로 매핑."
      ],
      "metadata": {
        "id": "n2gZ3YSUX324"
      }
    },
    {
      "cell_type": "code",
      "source": [
        "numbers = [1, -2, 3, -4, -5, 6, 7, 8]"
      ],
      "metadata": {
        "id": "v8mGF4ygXqJM"
      },
      "execution_count": 27,
      "outputs": []
    },
    {
      "cell_type": "code",
      "source": [
        "# numbers의 원소들 중에서 양수들만 선택한 리스트.\n",
        "# filter(True/False를 리턴하는 함수, 리스트)\n",
        "result = filter(lambda x: x > 0, numbers)\n",
        "result  # 필터링이 끝난 객체"
      ],
      "metadata": {
        "colab": {
          "base_uri": "https://localhost:8080/"
        },
        "id": "KaFTTGW6efqY",
        "outputId": "8a66e077-99bf-4b30-fa76-d593b889ed82"
      },
      "execution_count": 28,
      "outputs": [
        {
          "output_type": "execute_result",
          "data": {
            "text/plain": [
              "<filter at 0x7f270f633290>"
            ]
          },
          "metadata": {},
          "execution_count": 28
        }
      ]
    },
    {
      "cell_type": "code",
      "source": [
        "list(result)  # 필터링이 끝난 객체를 list 타입으로 변환"
      ],
      "metadata": {
        "colab": {
          "base_uri": "https://localhost:8080/"
        },
        "id": "tkw5_9PafJmA",
        "outputId": "a38f5b76-b07f-4aa5-c2bd-4e175e91760c"
      },
      "execution_count": 29,
      "outputs": [
        {
          "output_type": "execute_result",
          "data": {
            "text/plain": [
              "[1, 3, 6, 7, 8]"
            ]
          },
          "metadata": {},
          "execution_count": 29
        }
      ]
    },
    {
      "cell_type": "code",
      "source": [
        "# numbers에서 음수들만 선택한 리스트.\n",
        "result = filter(lambda x: x < 0, numbers)\n",
        "list(result)  # 필터링이 끝난 객체를 list 타입으로 변환"
      ],
      "metadata": {
        "colab": {
          "base_uri": "https://localhost:8080/"
        },
        "id": "KEJaJuLifnOY",
        "outputId": "b78cee18-1e31-4e77-8fdd-4c54facfa4db"
      },
      "execution_count": 30,
      "outputs": [
        {
          "output_type": "execute_result",
          "data": {
            "text/plain": [
              "[-2, -4, -5]"
            ]
          },
          "metadata": {},
          "execution_count": 30
        }
      ]
    },
    {
      "cell_type": "code",
      "source": [
        "# numbers에서 홀수들만 필터링.\n",
        "result = filter(lambda x: x % 2 == 1, numbers)\n",
        "list(result)"
      ],
      "metadata": {
        "colab": {
          "base_uri": "https://localhost:8080/"
        },
        "id": "qDgcUjyqgo8I",
        "outputId": "7e580b97-33d3-4d96-f6f6-7f4b5a74db9d"
      },
      "execution_count": 31,
      "outputs": [
        {
          "output_type": "execute_result",
          "data": {
            "text/plain": [
              "[1, 3, -5, 7]"
            ]
          },
          "metadata": {},
          "execution_count": 31
        }
      ]
    },
    {
      "cell_type": "code",
      "source": [
        "# numbers에서 짝수는 'even', 홀수는 'odd'로 매핑.\n",
        "result = map(lambda x: 'even' if x % 2 == 0 else 'odd', numbers)\n",
        "print(result)  # 매핑이 끝난 객체\n",
        "list(result)  # 매핑이 끝난 객체를 list 타입으로 변환"
      ],
      "metadata": {
        "colab": {
          "base_uri": "https://localhost:8080/"
        },
        "id": "-Nkx7Qsoh-Go",
        "outputId": "6899483e-52c9-4342-9db5-51c77ebdb1f8"
      },
      "execution_count": 32,
      "outputs": [
        {
          "output_type": "stream",
          "name": "stdout",
          "text": [
            "<map object at 0x7f270f622c90>\n"
          ]
        },
        {
          "output_type": "execute_result",
          "data": {
            "text/plain": [
              "['odd', 'even', 'odd', 'even', 'odd', 'even', 'odd', 'even']"
            ]
          },
          "metadata": {},
          "execution_count": 32
        }
      ]
    },
    {
      "cell_type": "code",
      "source": [
        "genders = ['Male', 'Female', 'Female', 'Male']"
      ],
      "metadata": {
        "id": "YnjWpN6-it3Q"
      },
      "execution_count": 33,
      "outputs": []
    },
    {
      "cell_type": "code",
      "source": [
        "# genders에서 'Female'만 선택(filter)\n",
        "result = filter(lambda x: x == 'Female', genders)\n",
        "list(result)"
      ],
      "metadata": {
        "colab": {
          "base_uri": "https://localhost:8080/"
        },
        "id": "qBUlSFoHjqsw",
        "outputId": "ccaea561-fa6a-4beb-e7a0-cac0f31cc2ce"
      },
      "execution_count": 34,
      "outputs": [
        {
          "output_type": "execute_result",
          "data": {
            "text/plain": [
              "['Female', 'Female']"
            ]
          },
          "metadata": {},
          "execution_count": 34
        }
      ]
    },
    {
      "cell_type": "code",
      "source": [
        "# genders의 원소가 'Male'이면 1, 'Female'이면 0을 매핑\n",
        "result = map(lambda x: 0 if x == 'Female' else 1, genders)\n",
        "list(result)"
      ],
      "metadata": {
        "colab": {
          "base_uri": "https://localhost:8080/"
        },
        "id": "O7H5DlP3jv1X",
        "outputId": "4aa9d424-8d1f-4ce4-b9e0-927095140881"
      },
      "execution_count": 35,
      "outputs": [
        {
          "output_type": "execute_result",
          "data": {
            "text/plain": [
              "[1, 0, 0, 1]"
            ]
          },
          "metadata": {},
          "execution_count": 35
        }
      ]
    },
    {
      "cell_type": "markdown",
      "source": [
        "filter 함수를 직접 구현"
      ],
      "metadata": {
        "id": "YNtA-y3Al1Zp"
      }
    },
    {
      "cell_type": "code",
      "source": [
        "def my_filter(iterable, fn):\n",
        "    \"\"\"리스트 iterable의 원소를 함수 fn의 argument로 전달했을 때, \n",
        "    fn이 True를 리턴하는 원소들로 이루어진 리스트를 리턴.\n",
        "\n",
        "    iterable: 리스트.\n",
        "    fn: argument가 1개이고 리턴 타입은 bool인 함수.\n",
        "    \"\"\"\n",
        "    # result = []  # 조건을 만족하는 원소들(필터링한 원소들)을 저장할 빈 리스트\n",
        "    # for x in iterable:  # 리스트의 원소들을 차례로 반복하면서\n",
        "    #     if fn(x):  # 조건을 만족하면\n",
        "    #         result.append(x)  # 결과 리스트에 추가\n",
        "    # return result\n",
        "\n",
        "    return [x for x in iterable if fn(x)]"
      ],
      "metadata": {
        "id": "FIzoX-LglRw4"
      },
      "execution_count": 36,
      "outputs": []
    },
    {
      "cell_type": "code",
      "source": [
        "numbers"
      ],
      "metadata": {
        "colab": {
          "base_uri": "https://localhost:8080/"
        },
        "id": "KmuXPPZPnjN2",
        "outputId": "d8833080-973e-4536-e728-b6cbf4955fa0"
      },
      "execution_count": 37,
      "outputs": [
        {
          "output_type": "execute_result",
          "data": {
            "text/plain": [
              "[1, -2, 3, -4, -5, 6, 7, 8]"
            ]
          },
          "metadata": {},
          "execution_count": 37
        }
      ]
    },
    {
      "cell_type": "code",
      "source": [
        "# numbers에서 양수들만 필터링.\n",
        "my_filter(numbers, lambda x: x > 0)"
      ],
      "metadata": {
        "colab": {
          "base_uri": "https://localhost:8080/"
        },
        "id": "mMhsj9fKnXSY",
        "outputId": "6ad16f4f-c70e-4ecf-b00f-4ee98b396e89"
      },
      "execution_count": 38,
      "outputs": [
        {
          "output_type": "execute_result",
          "data": {
            "text/plain": [
              "[1, 3, 6, 7, 8]"
            ]
          },
          "metadata": {},
          "execution_count": 38
        }
      ]
    },
    {
      "cell_type": "code",
      "source": [
        "languages = ['Java', 'HTML', 'CSS', 'JavaScript', 'Python']\n",
        "\n",
        "# my_filter 함수를 사용해서 글자수가 5글자 이상인 원소들만 필터링\n",
        "my_filter(languages, lambda x: len(x) >= 5)"
      ],
      "metadata": {
        "colab": {
          "base_uri": "https://localhost:8080/"
        },
        "id": "S-E3iknBpnfM",
        "outputId": "9120d387-f96b-4046-af34-f03046f04dd0"
      },
      "execution_count": 39,
      "outputs": [
        {
          "output_type": "execute_result",
          "data": {
            "text/plain": [
              "['JavaScript', 'Python']"
            ]
          },
          "metadata": {},
          "execution_count": 39
        }
      ]
    },
    {
      "cell_type": "code",
      "source": [
        "def my_mapper(iterable, fn):\n",
        "    \"\"\"iterable의 원소를 차례로 함수 fn의 argument로 전달해서, 함수 fn의 리턴값들로 이루어진 리스트를 리턴.\n",
        "\n",
        "    iterable: 리스트.\n",
        "    fn: argument가 1개이고 값을 반환하는 함수.\n",
        "    \"\"\"\n",
        "    # result  = []  # 함수 fn의 리턴값들을 저장할 빈 리스트\n",
        "    # for x in iterable:  # 리스트의 원소들을 반복하면서\n",
        "    #     result.append(fn(x))  # 함수에 원소를 argument로 전달했을 때 리턴값을 리스트 result에 추가.\n",
        "    # return result\n",
        "\n",
        "    return [fn(x) for x in iterable]"
      ],
      "metadata": {
        "id": "Xkh4hsWbqHIH"
      },
      "execution_count": 42,
      "outputs": []
    },
    {
      "cell_type": "code",
      "source": [
        "numbers"
      ],
      "metadata": {
        "id": "O-bs3UJir7Zn",
        "colab": {
          "base_uri": "https://localhost:8080/"
        },
        "outputId": "404f093f-0f1d-40a5-bd1f-8f01cc5474fe"
      },
      "execution_count": 43,
      "outputs": [
        {
          "output_type": "execute_result",
          "data": {
            "text/plain": [
              "[1, -2, 3, -4, -5, 6, 7, 8]"
            ]
          },
          "metadata": {},
          "execution_count": 43
        }
      ]
    },
    {
      "cell_type": "code",
      "source": [
        "# numbers의 원소가 짝수이면 '짝수', 홀수이면 '홀수'를 매핑한 리스트\n",
        "my_mapper(numbers, lambda x: '짝수' if x % 2 == 0 else '홀수')"
      ],
      "metadata": {
        "colab": {
          "base_uri": "https://localhost:8080/"
        },
        "id": "t79f-kitWNrR",
        "outputId": "15ce57f5-c545-471c-f7dc-ffdb6085aa3c"
      },
      "execution_count": 44,
      "outputs": [
        {
          "output_type": "execute_result",
          "data": {
            "text/plain": [
              "['홀수', '짝수', '홀수', '짝수', '홀수', '짝수', '홀수', '짝수']"
            ]
          },
          "metadata": {},
          "execution_count": 44
        }
      ]
    },
    {
      "cell_type": "code",
      "source": [
        "genders = ['남성', '여성', '여성', '남성']\n",
        "# genders의 값이 '남성'이면 0, '여성'이면 1로 매핑시킨 리스트\n",
        "my_mapper(genders, lambda x: 0 if x == '남성' else 1)"
      ],
      "metadata": {
        "colab": {
          "base_uri": "https://localhost:8080/"
        },
        "id": "cvwBjZBUXJI5",
        "outputId": "a6a68be7-9d82-486d-96a7-9b37931eca4f"
      },
      "execution_count": 45,
      "outputs": [
        {
          "output_type": "execute_result",
          "data": {
            "text/plain": [
              "[0, 1, 1, 0]"
            ]
          },
          "metadata": {},
          "execution_count": 45
        }
      ]
    },
    {
      "cell_type": "code",
      "source": [
        "def my_mapper2(iterable, fn):\n",
        "    \"\"\"iterable의 원소를 key로 하고, \n",
        "    iterable의 원소를 함수 fn의 argument로 사용했을 때의 리턴 값을 value로 하는 dict를 리턴.\n",
        "\n",
        "    iterable: 리스트.\n",
        "    fn: argument가 1개이고 값을 반환하는 함수.\n",
        "    \"\"\"\n",
        "    # result = {}  # 빈 사전(dictionary)\n",
        "    # for x in iterable:  # 리스트 iterable의 원소들을 하나씩 반복하면서\n",
        "    #     result[x] = fn(x)  # 원소를 key로 함수의 리턴값을 value로 해서 dict에 추가.\n",
        "    # return result\n",
        "\n",
        "    return {x: fn(x) for x in iterable}"
      ],
      "metadata": {
        "id": "dZlzTCz6rWVe"
      },
      "execution_count": 47,
      "outputs": []
    },
    {
      "cell_type": "code",
      "source": [
        "# numbers의 값을 키로 하고 짝수/홀수인 지를 value로 하는 dict\n",
        "my_mapper2(numbers, lambda x: '짝수' if x % 2 == 0 else '홀수')"
      ],
      "metadata": {
        "id": "_0lt-eLur75O",
        "colab": {
          "base_uri": "https://localhost:8080/"
        },
        "outputId": "052e37d5-6e7f-46a8-eb76-c5a99de6d3e6"
      },
      "execution_count": 48,
      "outputs": [
        {
          "output_type": "execute_result",
          "data": {
            "text/plain": [
              "{-5: '홀수', -4: '짝수', -2: '짝수', 1: '홀수', 3: '홀수', 6: '짝수', 7: '홀수', 8: '짝수'}"
            ]
          },
          "metadata": {},
          "execution_count": 48
        }
      ]
    },
    {
      "cell_type": "code",
      "source": [
        "# languages의 원소를 키로 하고, 그 원소(문자열)의 길이를 value로 하는 dict\n",
        "my_mapper2(languages, lambda x: len(x))"
      ],
      "metadata": {
        "colab": {
          "base_uri": "https://localhost:8080/"
        },
        "id": "S7snylL7aRR4",
        "outputId": "aa17fab5-3024-4e4d-e087-e477f4510978"
      },
      "execution_count": 50,
      "outputs": [
        {
          "output_type": "execute_result",
          "data": {
            "text/plain": [
              "{'CSS': 3, 'HTML': 4, 'Java': 4, 'JavaScript': 10, 'Python': 6}"
            ]
          },
          "metadata": {},
          "execution_count": 50
        }
      ]
    }
  ]
}