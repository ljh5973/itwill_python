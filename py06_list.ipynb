{
  "nbformat": 4,
  "nbformat_minor": 0,
  "metadata": {
    "colab": {
      "name": "py06_list.ipynb",
      "provenance": [],
      "collapsed_sections": [],
      "authorship_tag": "ABX9TyPLfK0I0J+QAnjvGnV/regB",
      "include_colab_link": true
    },
    "kernelspec": {
      "name": "python3",
      "display_name": "Python 3"
    },
    "language_info": {
      "name": "python"
    }
  },
  "cells": [
    {
      "cell_type": "markdown",
      "metadata": {
        "id": "view-in-github",
        "colab_type": "text"
      },
      "source": [
        "<a href=\"https://colab.research.google.com/github/JakeOh/202110_itw_lab_python/blob/main/py06_list.ipynb\" target=\"_parent\"><img src=\"https://colab.research.google.com/assets/colab-badge.svg\" alt=\"Open In Colab\"/></a>"
      ]
    },
    {
      "cell_type": "markdown",
      "source": [
        "# List(리스트)"
      ],
      "metadata": {
        "id": "0dFku9cgpWI_"
      }
    },
    {
      "cell_type": "markdown",
      "source": [
        "list: 여러 개의 값들을 하나의 변수에 저장하기 위한 데이터 타입.\n",
        "\n",
        "* element(원소, 요소): 리스트에 저장되는 각각의 값.\n",
        "* index(인덱스): 리스트에 원소들이 저장된 위치(번호).\n",
        "    * 리스트의 인덱스는 **0**부터 시작.\n",
        "    * 리스트에서 마지막 원소의 인덱스는 **(원소의 개수 - 1)**\n",
        "* 리스트는 원소들을 추가/삭제/변경할 수 있음.\n",
        "    * tuple과 다른 점!\n"
      ],
      "metadata": {
        "id": "100NwpKVpcgr"
      }
    },
    {
      "cell_type": "code",
      "execution_count": 1,
      "metadata": {
        "id": "iEdRnt4fpJiy"
      },
      "outputs": [],
      "source": [
        "# 숫자들을 저장하는 리스트\n",
        "numbers = [1, 20, 3, 40, 7]"
      ]
    },
    {
      "cell_type": "code",
      "source": [
        "print(numbers)"
      ],
      "metadata": {
        "colab": {
          "base_uri": "https://localhost:8080/"
        },
        "id": "bnU90insrASs",
        "outputId": "7a4eff97-35b7-4a2c-8f98-8a74f1205c91"
      },
      "execution_count": 2,
      "outputs": [
        {
          "output_type": "stream",
          "name": "stdout",
          "text": [
            "[1, 20, 3, 40, 7]\n"
          ]
        }
      ]
    },
    {
      "cell_type": "code",
      "source": [
        "numbers"
      ],
      "metadata": {
        "colab": {
          "base_uri": "https://localhost:8080/"
        },
        "id": "pYbpj-bvrCFj",
        "outputId": "5f0b94e2-a704-4d0b-d178-c1473b23b82b"
      },
      "execution_count": 3,
      "outputs": [
        {
          "output_type": "execute_result",
          "data": {
            "text/plain": [
              "[1, 20, 3, 40, 7]"
            ]
          },
          "metadata": {},
          "execution_count": 3
        }
      ]
    },
    {
      "cell_type": "markdown",
      "source": [
        "ipynb의 코드 셀에서 가장 마지막 줄의 문장이 식(expression: 변수, 값, 함수 호출 등)이면 식을 평가한 결과를 자동으로 출력해줌."
      ],
      "metadata": {
        "id": "0r84VomlroRb"
      }
    },
    {
      "cell_type": "code",
      "source": [
        "type(numbers)"
      ],
      "metadata": {
        "colab": {
          "base_uri": "https://localhost:8080/"
        },
        "id": "8hZ8ApYJrDgK",
        "outputId": "81b6c26a-00f4-4454-d6ba-e519aa4d0f5b"
      },
      "execution_count": 4,
      "outputs": [
        {
          "output_type": "execute_result",
          "data": {
            "text/plain": [
              "list"
            ]
          },
          "metadata": {},
          "execution_count": 4
        }
      ]
    },
    {
      "cell_type": "markdown",
      "source": [
        "# Indexing\n",
        "\n",
        "인덱스를 사용해서 리스트의 원소를 사용하는 방법."
      ],
      "metadata": {
        "id": "uW2wECKdsAK1"
      }
    },
    {
      "cell_type": "code",
      "source": [
        "numbers"
      ],
      "metadata": {
        "colab": {
          "base_uri": "https://localhost:8080/"
        },
        "id": "cXThiH1Sr0lD",
        "outputId": "a0456121-a4b8-40ac-d049-943598274a6c"
      },
      "execution_count": 5,
      "outputs": [
        {
          "output_type": "execute_result",
          "data": {
            "text/plain": [
              "[1, 20, 3, 40, 7]"
            ]
          },
          "metadata": {},
          "execution_count": 5
        }
      ]
    },
    {
      "cell_type": "code",
      "source": [
        "numbers[0]  # list의 첫번째 원소"
      ],
      "metadata": {
        "colab": {
          "base_uri": "https://localhost:8080/"
        },
        "id": "7MWrzRzcsNai",
        "outputId": "3b64a952-c2b5-4738-bacd-1ce67325f8c2"
      },
      "execution_count": 6,
      "outputs": [
        {
          "output_type": "execute_result",
          "data": {
            "text/plain": [
              "1"
            ]
          },
          "metadata": {},
          "execution_count": 6
        }
      ]
    },
    {
      "cell_type": "code",
      "source": [
        "numbers[4] # list의 마지막 원소"
      ],
      "metadata": {
        "colab": {
          "base_uri": "https://localhost:8080/"
        },
        "id": "HYs99hCbsmuk",
        "outputId": "45d270bb-b3bc-4852-d5aa-2f65454d947b"
      },
      "execution_count": 7,
      "outputs": [
        {
          "output_type": "execute_result",
          "data": {
            "text/plain": [
              "7"
            ]
          },
          "metadata": {},
          "execution_count": 7
        }
      ]
    },
    {
      "cell_type": "code",
      "source": [
        "numbers[-1]"
      ],
      "metadata": {
        "colab": {
          "base_uri": "https://localhost:8080/"
        },
        "id": "0XBveKJ_sxda",
        "outputId": "fcc7cc59-df7a-479b-fbaf-59b054b086c8"
      },
      "execution_count": 8,
      "outputs": [
        {
          "output_type": "execute_result",
          "data": {
            "text/plain": [
              "7"
            ]
          },
          "metadata": {},
          "execution_count": 8
        }
      ]
    },
    {
      "cell_type": "code",
      "source": [
        "numbers[-2] # list에서 끝에서 두번째 원소"
      ],
      "metadata": {
        "colab": {
          "base_uri": "https://localhost:8080/"
        },
        "id": "3vla_0AetWnr",
        "outputId": "9f63ee7f-2edd-449a-b93b-3a9df50692ca"
      },
      "execution_count": 9,
      "outputs": [
        {
          "output_type": "execute_result",
          "data": {
            "text/plain": [
              "40"
            ]
          },
          "metadata": {},
          "execution_count": 9
        }
      ]
    },
    {
      "cell_type": "code",
      "source": [
        "# numbers[5]  #> IndexError"
      ],
      "metadata": {
        "id": "ACLbFwoftoLi"
      },
      "execution_count": 10,
      "outputs": []
    },
    {
      "cell_type": "markdown",
      "source": [
        "# Slicing"
      ],
      "metadata": {
        "id": "y56f531quKAS"
      }
    },
    {
      "cell_type": "code",
      "source": [
        "numbers[1:4]"
      ],
      "metadata": {
        "colab": {
          "base_uri": "https://localhost:8080/"
        },
        "id": "7xY5JC0CuO0r",
        "outputId": "db8358b4-1381-4426-9cb5-7f912c601d12"
      },
      "execution_count": 11,
      "outputs": [
        {
          "output_type": "execute_result",
          "data": {
            "text/plain": [
              "[20, 3, 40]"
            ]
          },
          "metadata": {},
          "execution_count": 11
        }
      ]
    },
    {
      "cell_type": "markdown",
      "source": [
        "```\n",
        "list[start:end]\n",
        "```\n",
        "\n",
        "* start <= index < end 범위의 인덱스 위치의 원소들을 선택.\n",
        "* start가 생략되면 리스트의 첫번째 원소부터 선택. (0 <= index < end 범위의 원소들을 선택.)\n",
        "* end가 생략되면 리스트이 마지막 원소까지 선택. (start <= index 범위의 모든 원소들을 선택.)\n",
        "* slicing의 결과는 새로운 list.\n"
      ],
      "metadata": {
        "id": "fLDK0mqGu9Iu"
      }
    },
    {
      "cell_type": "code",
      "source": [
        "numbers[:3]  # 리스트에서 첫번째 원소부터 순서대로 3개를 선택"
      ],
      "metadata": {
        "colab": {
          "base_uri": "https://localhost:8080/"
        },
        "id": "BaSA8dfBudqC",
        "outputId": "1a67d62a-a32d-4a95-9ec7-c66d650a2d4d"
      },
      "execution_count": 12,
      "outputs": [
        {
          "output_type": "execute_result",
          "data": {
            "text/plain": [
              "[1, 20, 3]"
            ]
          },
          "metadata": {},
          "execution_count": 12
        }
      ]
    },
    {
      "cell_type": "code",
      "source": [
        "numbers[2:] # 리스트에서 끝에서 3개의 원소를 선택"
      ],
      "metadata": {
        "colab": {
          "base_uri": "https://localhost:8080/"
        },
        "id": "ccoyKa7ywLFz",
        "outputId": "d02824d0-01d2-4732-e8e9-c5c2bd04ce09"
      },
      "execution_count": 13,
      "outputs": [
        {
          "output_type": "execute_result",
          "data": {
            "text/plain": [
              "[3, 40, 7]"
            ]
          },
          "metadata": {},
          "execution_count": 13
        }
      ]
    },
    {
      "cell_type": "code",
      "source": [
        "numbers[-3:]"
      ],
      "metadata": {
        "colab": {
          "base_uri": "https://localhost:8080/"
        },
        "id": "Ml2gZJrVwqfr",
        "outputId": "ed0a40c9-f004-40bf-c968-ddb3104351d1"
      },
      "execution_count": 14,
      "outputs": [
        {
          "output_type": "execute_result",
          "data": {
            "text/plain": [
              "[3, 40, 7]"
            ]
          },
          "metadata": {},
          "execution_count": 14
        }
      ]
    },
    {
      "cell_type": "code",
      "source": [
        "numbers[0]  #> indexing의 결과: 값(int)"
      ],
      "metadata": {
        "colab": {
          "base_uri": "https://localhost:8080/"
        },
        "id": "TUZmRwU_yHoT",
        "outputId": "6ce34519-1e41-4f4f-e32c-ea8ff556e69f"
      },
      "execution_count": 15,
      "outputs": [
        {
          "output_type": "execute_result",
          "data": {
            "text/plain": [
              "1"
            ]
          },
          "metadata": {},
          "execution_count": 15
        }
      ]
    },
    {
      "cell_type": "code",
      "source": [
        "numbers[0:1]  #> slicing의 결과: 원소가 1개인 list"
      ],
      "metadata": {
        "colab": {
          "base_uri": "https://localhost:8080/"
        },
        "id": "nAbmJxKKyKnJ",
        "outputId": "e45ad1d0-fbab-4286-d302-814292c88f34"
      },
      "execution_count": 16,
      "outputs": [
        {
          "output_type": "execute_result",
          "data": {
            "text/plain": [
              "[1]"
            ]
          },
          "metadata": {},
          "execution_count": 16
        }
      ]
    },
    {
      "cell_type": "markdown",
      "source": [
        "# 문자열(str)\n",
        "\n",
        "문자들의 리스트\n",
        "\n",
        "* 문자열 객체도 리스트 객체처럼 indexing과 slicing을 사용할 수 있다."
      ],
      "metadata": {
        "id": "0RWRxADS18B7"
      }
    },
    {
      "cell_type": "code",
      "source": [
        "message = 'Hello, Python!'  # 14개의 문자들을 원소로 갖는 문자열"
      ],
      "metadata": {
        "id": "1S3w185F2S9S"
      },
      "execution_count": 17,
      "outputs": []
    },
    {
      "cell_type": "code",
      "source": [
        "message[0]  # 문자열에서 첫번째 문자"
      ],
      "metadata": {
        "colab": {
          "base_uri": "https://localhost:8080/",
          "height": 35
        },
        "id": "rYMVENAJ2hm7",
        "outputId": "84799e48-779a-4c15-e486-129f0b902b33"
      },
      "execution_count": 18,
      "outputs": [
        {
          "output_type": "execute_result",
          "data": {
            "application/vnd.google.colaboratory.intrinsic+json": {
              "type": "string"
            },
            "text/plain": [
              "'H'"
            ]
          },
          "metadata": {},
          "execution_count": 18
        }
      ]
    },
    {
      "cell_type": "code",
      "source": [
        "message[13]  # 문자열에서 가장 마지막 문자"
      ],
      "metadata": {
        "colab": {
          "base_uri": "https://localhost:8080/",
          "height": 35
        },
        "id": "wHjjTOo82lPq",
        "outputId": "98a77b7f-8601-4390-816a-3744b122e31d"
      },
      "execution_count": 19,
      "outputs": [
        {
          "output_type": "execute_result",
          "data": {
            "application/vnd.google.colaboratory.intrinsic+json": {
              "type": "string"
            },
            "text/plain": [
              "'!'"
            ]
          },
          "metadata": {},
          "execution_count": 19
        }
      ]
    },
    {
      "cell_type": "code",
      "source": [
        "message[-1]"
      ],
      "metadata": {
        "colab": {
          "base_uri": "https://localhost:8080/",
          "height": 35
        },
        "id": "KeVC7Yle236z",
        "outputId": "e256bdcf-5be5-466c-b0dc-1975727e7423"
      },
      "execution_count": 20,
      "outputs": [
        {
          "output_type": "execute_result",
          "data": {
            "application/vnd.google.colaboratory.intrinsic+json": {
              "type": "string"
            },
            "text/plain": [
              "'!'"
            ]
          },
          "metadata": {},
          "execution_count": 20
        }
      ]
    },
    {
      "cell_type": "code",
      "source": [
        "message[:3]  # 문자열에서 첫 3글자"
      ],
      "metadata": {
        "colab": {
          "base_uri": "https://localhost:8080/",
          "height": 35
        },
        "id": "Es2ze9913AQ8",
        "outputId": "726e954d-858b-4743-ba8f-205ba5fafceb"
      },
      "execution_count": 21,
      "outputs": [
        {
          "output_type": "execute_result",
          "data": {
            "application/vnd.google.colaboratory.intrinsic+json": {
              "type": "string"
            },
            "text/plain": [
              "'Hel'"
            ]
          },
          "metadata": {},
          "execution_count": 21
        }
      ]
    },
    {
      "cell_type": "code",
      "source": [
        "message[-3:]  # 문자열에서 마지막 3글자"
      ],
      "metadata": {
        "colab": {
          "base_uri": "https://localhost:8080/",
          "height": 35
        },
        "id": "OgCNk7rn3HxC",
        "outputId": "7c33d60c-8a2f-4d1b-8cc8-eceacf6f5aa6"
      },
      "execution_count": 22,
      "outputs": [
        {
          "output_type": "execute_result",
          "data": {
            "application/vnd.google.colaboratory.intrinsic+json": {
              "type": "string"
            },
            "text/plain": [
              "'on!'"
            ]
          },
          "metadata": {},
          "execution_count": 22
        }
      ]
    },
    {
      "cell_type": "markdown",
      "source": [
        "# list의 산술 연산\n",
        "\n",
        "* `+`: concatenate. 두 개의 리스트를 하나의 리스트로 합침.\n",
        "* `*`: replicate. 리스트의 원소드를 곱해주는 숫자만큼 복사해서 원소의 개수를 늘림."
      ],
      "metadata": {
        "id": "i2j7ckl93ojW"
      }
    },
    {
      "cell_type": "code",
      "source": [
        "'Hello' + 'Python'"
      ],
      "metadata": {
        "colab": {
          "base_uri": "https://localhost:8080/",
          "height": 35
        },
        "id": "EfBt6b243QqL",
        "outputId": "8481e527-fb5b-4364-c4ee-405317f8f448"
      },
      "execution_count": 23,
      "outputs": [
        {
          "output_type": "execute_result",
          "data": {
            "application/vnd.google.colaboratory.intrinsic+json": {
              "type": "string"
            },
            "text/plain": [
              "'HelloPython'"
            ]
          },
          "metadata": {},
          "execution_count": 23
        }
      ]
    },
    {
      "cell_type": "code",
      "source": [
        "[1, 2, 3] + [10, 20, 30]"
      ],
      "metadata": {
        "colab": {
          "base_uri": "https://localhost:8080/"
        },
        "id": "kJFUqD6r3-xD",
        "outputId": "69c89325-5306-4add-f4bf-e724a74e2e46"
      },
      "execution_count": 24,
      "outputs": [
        {
          "output_type": "execute_result",
          "data": {
            "text/plain": [
              "[1, 2, 3, 10, 20, 30]"
            ]
          },
          "metadata": {},
          "execution_count": 24
        }
      ]
    },
    {
      "cell_type": "code",
      "source": [
        "'Hello' * 3"
      ],
      "metadata": {
        "colab": {
          "base_uri": "https://localhost:8080/",
          "height": 35
        },
        "id": "9JqtWt-P4HXS",
        "outputId": "bf7a8d01-9e1f-4324-92a5-414bac0e0ecf"
      },
      "execution_count": 25,
      "outputs": [
        {
          "output_type": "execute_result",
          "data": {
            "application/vnd.google.colaboratory.intrinsic+json": {
              "type": "string"
            },
            "text/plain": [
              "'HelloHelloHello'"
            ]
          },
          "metadata": {},
          "execution_count": 25
        }
      ]
    },
    {
      "cell_type": "code",
      "source": [
        "[1, 2, 3] * 3"
      ],
      "metadata": {
        "colab": {
          "base_uri": "https://localhost:8080/"
        },
        "id": "FG5p9HwF4Swy",
        "outputId": "fffe296a-cecb-4d59-b871-e6d50d4b4c66"
      },
      "execution_count": 26,
      "outputs": [
        {
          "output_type": "execute_result",
          "data": {
            "text/plain": [
              "[1, 2, 3, 1, 2, 3, 1, 2, 3]"
            ]
          },
          "metadata": {},
          "execution_count": 26
        }
      ]
    },
    {
      "cell_type": "markdown",
      "source": [
        "# list의 기능들(메서드)"
      ],
      "metadata": {
        "id": "2q3rXLYf4pjT"
      }
    },
    {
      "cell_type": "markdown",
      "source": [
        "## element 추가"
      ],
      "metadata": {
        "id": "RF3jChHi4yo7"
      }
    },
    {
      "cell_type": "code",
      "source": [
        "numbers"
      ],
      "metadata": {
        "colab": {
          "base_uri": "https://localhost:8080/"
        },
        "id": "u1mp3y_S44w6",
        "outputId": "316f1ce6-aad7-4dd6-c894-b8718c677b2a"
      },
      "execution_count": 27,
      "outputs": [
        {
          "output_type": "execute_result",
          "data": {
            "text/plain": [
              "[1, 20, 3, 40, 7]"
            ]
          },
          "metadata": {},
          "execution_count": 27
        }
      ]
    },
    {
      "cell_type": "markdown",
      "source": [
        "`list.append(arg)`\n",
        "\n",
        "리스트의 가장 마지막에 새로운 원소(arg)를 추가"
      ],
      "metadata": {
        "id": "01nSC4VR5B0b"
      }
    },
    {
      "cell_type": "code",
      "source": [
        "numbers.append(100)"
      ],
      "metadata": {
        "id": "a5OO_jy048Hb"
      },
      "execution_count": 28,
      "outputs": []
    },
    {
      "cell_type": "code",
      "source": [
        "numbers"
      ],
      "metadata": {
        "colab": {
          "base_uri": "https://localhost:8080/"
        },
        "id": "soFK3ULK5XET",
        "outputId": "937cf6bd-9f1e-450d-b586-3b17a9cf9280"
      },
      "execution_count": 29,
      "outputs": [
        {
          "output_type": "execute_result",
          "data": {
            "text/plain": [
              "[1, 20, 3, 40, 7, 100]"
            ]
          },
          "metadata": {},
          "execution_count": 29
        }
      ]
    },
    {
      "cell_type": "markdown",
      "source": [
        "`list.insert(index, value)`\n",
        "\n",
        "list의 index 위치에 value를 추가(삽입)"
      ],
      "metadata": {
        "id": "NrJn9gw45jHU"
      }
    },
    {
      "cell_type": "code",
      "source": [
        "numbers.insert(1, 100)"
      ],
      "metadata": {
        "id": "_FKTz7uG5dL6"
      },
      "execution_count": 30,
      "outputs": []
    },
    {
      "cell_type": "code",
      "source": [
        "numbers"
      ],
      "metadata": {
        "colab": {
          "base_uri": "https://localhost:8080/"
        },
        "id": "AqKM0tHd6HFz",
        "outputId": "17e284e9-a93d-4a0f-953c-3026d30dff52"
      },
      "execution_count": 31,
      "outputs": [
        {
          "output_type": "execute_result",
          "data": {
            "text/plain": [
              "[1, 100, 20, 3, 40, 7, 100]"
            ]
          },
          "metadata": {},
          "execution_count": 31
        }
      ]
    },
    {
      "cell_type": "markdown",
      "source": [
        "`list.extend(iterable)`\n",
        "\n",
        "리스트 이어 붙이기(concatenate). `+` 연산과 동일한 기능."
      ],
      "metadata": {
        "id": "wRI7YRwo6TOD"
      }
    },
    {
      "cell_type": "code",
      "source": [
        "numbers.extend([2, 4, 6])  # numbers + [2, 4, 6]"
      ],
      "metadata": {
        "id": "kcCscaS66ImC"
      },
      "execution_count": 32,
      "outputs": []
    },
    {
      "cell_type": "code",
      "source": [
        "numbers"
      ],
      "metadata": {
        "colab": {
          "base_uri": "https://localhost:8080/"
        },
        "id": "lXBjcbJC6ujD",
        "outputId": "63ffe148-489b-4417-a7fe-9257f609c255"
      },
      "execution_count": 33,
      "outputs": [
        {
          "output_type": "execute_result",
          "data": {
            "text/plain": [
              "[1, 100, 20, 3, 40, 7, 100, 2, 4, 6]"
            ]
          },
          "metadata": {},
          "execution_count": 33
        }
      ]
    },
    {
      "cell_type": "code",
      "source": [
        "# 주의!!!\n",
        "numbers.append([1, 3, 5])  #> 리스트의 가장 마지막에 다른 리스트가 원소로 추가."
      ],
      "metadata": {
        "id": "BRuUcMjH6vu9"
      },
      "execution_count": 34,
      "outputs": []
    },
    {
      "cell_type": "code",
      "source": [
        "numbers"
      ],
      "metadata": {
        "colab": {
          "base_uri": "https://localhost:8080/"
        },
        "id": "n1ClBMD_7Hfz",
        "outputId": "b94f947e-07bb-461c-fa72-4ac389244fb7"
      },
      "execution_count": 35,
      "outputs": [
        {
          "output_type": "execute_result",
          "data": {
            "text/plain": [
              "[1, 100, 20, 3, 40, 7, 100, 2, 4, 6, [1, 3, 5]]"
            ]
          },
          "metadata": {},
          "execution_count": 35
        }
      ]
    },
    {
      "cell_type": "markdown",
      "source": [
        "## element 삭제"
      ],
      "metadata": {
        "id": "75JjIq22M8DL"
      }
    },
    {
      "cell_type": "markdown",
      "source": [
        "`list.remove(value)`\n",
        "\n",
        "list에서 처음 등장하는 value 한 개를 삭제."
      ],
      "metadata": {
        "id": "lHQIA06oNAJy"
      }
    },
    {
      "cell_type": "code",
      "source": [
        "numbers.remove(100)"
      ],
      "metadata": {
        "id": "O9Sw9HBR7IZS"
      },
      "execution_count": 36,
      "outputs": []
    },
    {
      "cell_type": "code",
      "source": [
        "numbers"
      ],
      "metadata": {
        "colab": {
          "base_uri": "https://localhost:8080/"
        },
        "id": "3qfoP4v_NiMD",
        "outputId": "aec3e086-eff2-4df7-e86f-8ab906671131"
      },
      "execution_count": 37,
      "outputs": [
        {
          "output_type": "execute_result",
          "data": {
            "text/plain": [
              "[1, 20, 3, 40, 7, 100, 2, 4, 6, [1, 3, 5]]"
            ]
          },
          "metadata": {},
          "execution_count": 37
        }
      ]
    },
    {
      "cell_type": "markdown",
      "source": [
        "`list.pop(index)`\n",
        "\n",
        "list에서 index 위치에 있는 값을 삭제하고, 삭제한 값을 리턴. index를 전달하지 않으면, list에서 *가장 마지막 원소*를 삭제."
      ],
      "metadata": {
        "id": "KBZTT98oNq7e"
      }
    },
    {
      "cell_type": "code",
      "source": [
        "numbers.pop(0)"
      ],
      "metadata": {
        "colab": {
          "base_uri": "https://localhost:8080/"
        },
        "id": "5y9Y90KhNjOC",
        "outputId": "d39fd597-159b-4ba9-c435-88762d507f57"
      },
      "execution_count": 38,
      "outputs": [
        {
          "output_type": "execute_result",
          "data": {
            "text/plain": [
              "1"
            ]
          },
          "metadata": {},
          "execution_count": 38
        }
      ]
    },
    {
      "cell_type": "code",
      "source": [
        "numbers"
      ],
      "metadata": {
        "colab": {
          "base_uri": "https://localhost:8080/"
        },
        "id": "AM2CcL8zOQvD",
        "outputId": "851e93ad-1f07-468b-b733-e38cc2fd32bd"
      },
      "execution_count": 39,
      "outputs": [
        {
          "output_type": "execute_result",
          "data": {
            "text/plain": [
              "[20, 3, 40, 7, 100, 2, 4, 6, [1, 3, 5]]"
            ]
          },
          "metadata": {},
          "execution_count": 39
        }
      ]
    },
    {
      "cell_type": "code",
      "source": [
        "numbers.pop()"
      ],
      "metadata": {
        "colab": {
          "base_uri": "https://localhost:8080/"
        },
        "id": "G8D9FLRaObga",
        "outputId": "7016248b-64f7-4b19-bb1a-35b10bc0b689"
      },
      "execution_count": 40,
      "outputs": [
        {
          "output_type": "execute_result",
          "data": {
            "text/plain": [
              "[1, 3, 5]"
            ]
          },
          "metadata": {},
          "execution_count": 40
        }
      ]
    },
    {
      "cell_type": "code",
      "source": [
        "numbers"
      ],
      "metadata": {
        "colab": {
          "base_uri": "https://localhost:8080/"
        },
        "id": "U5oKCg02OjEr",
        "outputId": "8bf7e833-a4da-4f2a-d6ee-9b521295f48f"
      },
      "execution_count": 41,
      "outputs": [
        {
          "output_type": "execute_result",
          "data": {
            "text/plain": [
              "[20, 3, 40, 7, 100, 2, 4, 6]"
            ]
          },
          "metadata": {},
          "execution_count": 41
        }
      ]
    },
    {
      "cell_type": "markdown",
      "source": [
        "`list.clear()`\n",
        "\n",
        "list의 모든 원소들을 삭제."
      ],
      "metadata": {
        "id": "EKdEnbBoO7nz"
      }
    },
    {
      "cell_type": "code",
      "source": [
        "numbers.clear()"
      ],
      "metadata": {
        "id": "b60ibb5qOpz7"
      },
      "execution_count": 42,
      "outputs": []
    },
    {
      "cell_type": "code",
      "source": [
        "numbers  #> empty list(빈 리스트)"
      ],
      "metadata": {
        "colab": {
          "base_uri": "https://localhost:8080/"
        },
        "id": "OsJC5ZjyPKI7",
        "outputId": "5422469c-73d6-4e20-900b-6e367c3c39a7"
      },
      "execution_count": 43,
      "outputs": [
        {
          "output_type": "execute_result",
          "data": {
            "text/plain": [
              "[]"
            ]
          },
          "metadata": {},
          "execution_count": 43
        }
      ]
    },
    {
      "cell_type": "markdown",
      "source": [
        "## list의 값 수정\n",
        "\n",
        "```\n",
        "list[index] = value\n",
        "```"
      ],
      "metadata": {
        "id": "cMrnJ3ofPeZE"
      }
    },
    {
      "cell_type": "code",
      "source": [
        "numbers = [1, 3, 5, 7]\n",
        "numbers"
      ],
      "metadata": {
        "colab": {
          "base_uri": "https://localhost:8080/"
        },
        "id": "x6i6hN9DPLka",
        "outputId": "280dde98-210f-412f-e7c3-c1eb11c962d4"
      },
      "execution_count": 44,
      "outputs": [
        {
          "output_type": "execute_result",
          "data": {
            "text/plain": [
              "[1, 3, 5, 7]"
            ]
          },
          "metadata": {},
          "execution_count": 44
        }
      ]
    },
    {
      "cell_type": "code",
      "source": [
        "numbers[1] = 100  # 인덱스 1 위치의 값(3)을 100으로 변경"
      ],
      "metadata": {
        "id": "UDfQrBfMPwv8"
      },
      "execution_count": 45,
      "outputs": []
    },
    {
      "cell_type": "code",
      "source": [
        "numbers"
      ],
      "metadata": {
        "colab": {
          "base_uri": "https://localhost:8080/"
        },
        "id": "gRfUprIRP857",
        "outputId": "b7730081-fd06-4e24-b739-c3ce034792d0"
      },
      "execution_count": 46,
      "outputs": [
        {
          "output_type": "execute_result",
          "data": {
            "text/plain": [
              "[1, 100, 5, 7]"
            ]
          },
          "metadata": {},
          "execution_count": 46
        }
      ]
    },
    {
      "cell_type": "markdown",
      "source": [
        "# list와 for 반복문"
      ],
      "metadata": {
        "id": "ZMLIOBi9QGcD"
      }
    },
    {
      "cell_type": "code",
      "source": [
        "for x in 'hello':\n",
        "    print(x)"
      ],
      "metadata": {
        "colab": {
          "base_uri": "https://localhost:8080/"
        },
        "id": "tb7lb1ddP9lq",
        "outputId": "d9e86e2e-0f53-419c-97d9-921729ea9bc3"
      },
      "execution_count": 47,
      "outputs": [
        {
          "output_type": "stream",
          "name": "stdout",
          "text": [
            "h\n",
            "e\n",
            "l\n",
            "l\n",
            "o\n"
          ]
        }
      ]
    },
    {
      "cell_type": "code",
      "source": [
        "for x in numbers:\n",
        "    print(x)"
      ],
      "metadata": {
        "colab": {
          "base_uri": "https://localhost:8080/"
        },
        "id": "ylqKh0zxQaVb",
        "outputId": "eb99ed90-ebc6-4e66-e427-18a278ddf0ad"
      },
      "execution_count": 48,
      "outputs": [
        {
          "output_type": "stream",
          "name": "stdout",
          "text": [
            "1\n",
            "100\n",
            "5\n",
            "7\n"
          ]
        }
      ]
    },
    {
      "cell_type": "markdown",
      "source": [
        "리스트에서 인덱스와 그 인덱스의 원소가 모두 필요한 경우"
      ],
      "metadata": {
        "id": "w1cwJFogRPCF"
      }
    },
    {
      "cell_type": "code",
      "source": [
        "len(numbers)  # 리스트 numbers의 원소의 개수를 리턴."
      ],
      "metadata": {
        "colab": {
          "base_uri": "https://localhost:8080/"
        },
        "id": "dkByXKZ4Qt6K",
        "outputId": "c135a50c-5144-4151-f100-d4f04b284d6e"
      },
      "execution_count": 49,
      "outputs": [
        {
          "output_type": "execute_result",
          "data": {
            "text/plain": [
              "4"
            ]
          },
          "metadata": {},
          "execution_count": 49
        }
      ]
    },
    {
      "cell_type": "code",
      "source": [
        "for i in range(len(numbers)):\n",
        "    print(i, ':', numbers[i])"
      ],
      "metadata": {
        "colab": {
          "base_uri": "https://localhost:8080/"
        },
        "id": "-EUDeGifRsNL",
        "outputId": "9909a201-1ef5-42e6-f025-473dd8ad6f88"
      },
      "execution_count": 50,
      "outputs": [
        {
          "output_type": "stream",
          "name": "stdout",
          "text": [
            "0 : 1\n",
            "1 : 100\n",
            "2 : 5\n",
            "3 : 7\n"
          ]
        }
      ]
    },
    {
      "cell_type": "code",
      "source": [
        "# list에서 리스트의 인덱스와 그 인덱스 위치의 값을 동시에 반복(iteration)\n",
        "for index, value in enumerate(numbers):\n",
        "    print(index, ':', value)"
      ],
      "metadata": {
        "colab": {
          "base_uri": "https://localhost:8080/"
        },
        "id": "AbnH0EokR9s6",
        "outputId": "42542618-f910-4100-83ef-b113905004bd"
      },
      "execution_count": 51,
      "outputs": [
        {
          "output_type": "stream",
          "name": "stdout",
          "text": [
            "0 : 1\n",
            "1 : 100\n",
            "2 : 5\n",
            "3 : 7\n"
          ]
        }
      ]
    },
    {
      "cell_type": "markdown",
      "source": [
        "# Exercises"
      ],
      "metadata": {
        "id": "vjlLrB08Uxjz"
      }
    },
    {
      "cell_type": "markdown",
      "source": [
        "Python에서 난수(random number) 생성: `random` 모듈을 import하고, `random` 모듈에 있는 함수들을 사용."
      ],
      "metadata": {
        "id": "Jsdky8PxVf9-"
      }
    },
    {
      "cell_type": "code",
      "source": [
        "import random  # random 모듈 임포트(사용)"
      ],
      "metadata": {
        "id": "Cw5_ajs3Ve2K"
      },
      "execution_count": 52,
      "outputs": []
    },
    {
      "cell_type": "code",
      "source": [
        "random.random()  # 0 <= x < 1 범위의 실수(float) 난수를 리턴."
      ],
      "metadata": {
        "colab": {
          "base_uri": "https://localhost:8080/"
        },
        "id": "Df0PBHjbVtX7",
        "outputId": "ebfd262d-da2c-4d3c-ab94-f8d26d97d1a4"
      },
      "execution_count": 53,
      "outputs": [
        {
          "output_type": "execute_result",
          "data": {
            "text/plain": [
              "0.33813977708699683"
            ]
          },
          "metadata": {},
          "execution_count": 53
        }
      ]
    },
    {
      "cell_type": "code",
      "source": [
        "random.randrange(1, 5)  # 1 <= x < 5 범위의 정수(int) 난수를 리턴."
      ],
      "metadata": {
        "colab": {
          "base_uri": "https://localhost:8080/"
        },
        "id": "jmyw5EQ6Wfez",
        "outputId": "17a0ffd0-df73-43f0-c497-5370cec584d5"
      },
      "execution_count": 54,
      "outputs": [
        {
          "output_type": "execute_result",
          "data": {
            "text/plain": [
              "2"
            ]
          },
          "metadata": {},
          "execution_count": 54
        }
      ]
    },
    {
      "cell_type": "code",
      "source": [
        "random.randrange(5)  # 0 <= x < 5 범위의 정수 난수를 리턴."
      ],
      "metadata": {
        "colab": {
          "base_uri": "https://localhost:8080/"
        },
        "id": "2Ci5TcrAXQDz",
        "outputId": "60d3721b-f55d-480b-a9d3-630d68a0a3e6"
      },
      "execution_count": 55,
      "outputs": [
        {
          "output_type": "execute_result",
          "data": {
            "text/plain": [
              "3"
            ]
          },
          "metadata": {},
          "execution_count": 55
        }
      ]
    },
    {
      "cell_type": "code",
      "source": [
        "random.randint(1, 5)  # 1 <= x <= 5 범위의 정수 난수를 리턴."
      ],
      "metadata": {
        "colab": {
          "base_uri": "https://localhost:8080/"
        },
        "id": "t4EtjOtEXtTZ",
        "outputId": "64a5138c-0404-4408-b371-007b33d57048"
      },
      "execution_count": 56,
      "outputs": [
        {
          "output_type": "execute_result",
          "data": {
            "text/plain": [
              "1"
            ]
          },
          "metadata": {},
          "execution_count": 56
        }
      ]
    },
    {
      "cell_type": "markdown",
      "source": [
        "## Ex 1.\n",
        "\n",
        "1. 빈 리스트를 생성.\n",
        "1. 1 이상 10 이하의 정수 난수 5개를 저장.\n",
        "1. 리스트에 저장된 모든 정수들의 합을 계산, 출력.\n",
        "1. 리스트에 저장된 모든 정수들의 평균을 계산, 출력."
      ],
      "metadata": {
        "id": "8EjcfSE5U2bj"
      }
    },
    {
      "cell_type": "code",
      "source": [
        "numbers = []\n",
        "numbers"
      ],
      "metadata": {
        "colab": {
          "base_uri": "https://localhost:8080/"
        },
        "id": "diGiywZCTaBc",
        "outputId": "a99a5b1b-b64c-4b9f-834b-66cf0188e634"
      },
      "execution_count": 57,
      "outputs": [
        {
          "output_type": "execute_result",
          "data": {
            "text/plain": [
              "[]"
            ]
          },
          "metadata": {},
          "execution_count": 57
        }
      ]
    },
    {
      "cell_type": "code",
      "source": [
        "for _ in range(5):\n",
        "    numbers.append(random.randrange(1, 11))\n",
        "    print(numbers)"
      ],
      "metadata": {
        "colab": {
          "base_uri": "https://localhost:8080/"
        },
        "id": "g-mSjRj5dwoz",
        "outputId": "be51497b-07eb-47ee-fea9-296138810a9c"
      },
      "execution_count": 58,
      "outputs": [
        {
          "output_type": "stream",
          "name": "stdout",
          "text": [
            "[4]\n",
            "[4, 1]\n",
            "[4, 1, 2]\n",
            "[4, 1, 2, 7]\n",
            "[4, 1, 2, 7, 3]\n"
          ]
        }
      ]
    },
    {
      "cell_type": "code",
      "source": [
        "sum(numbers)  # sum(iterable): iterable 타입 객체의 모든 원소들의 합을 리턴."
      ],
      "metadata": {
        "colab": {
          "base_uri": "https://localhost:8080/"
        },
        "id": "8pbh7IjDej5z",
        "outputId": "e2fcc888-b86e-44d0-9c3a-4205b3decbc4"
      },
      "execution_count": 59,
      "outputs": [
        {
          "output_type": "execute_result",
          "data": {
            "text/plain": [
              "17"
            ]
          },
          "metadata": {},
          "execution_count": 59
        }
      ]
    },
    {
      "cell_type": "code",
      "source": [
        "total = 0\n",
        "for x in numbers:\n",
        "    total += x\n",
        "\n",
        "total"
      ],
      "metadata": {
        "colab": {
          "base_uri": "https://localhost:8080/"
        },
        "id": "F7wC-U9Mewnj",
        "outputId": "096b8cbe-243e-4aeb-ba2a-d3f5538c9dd8"
      },
      "execution_count": 60,
      "outputs": [
        {
          "output_type": "execute_result",
          "data": {
            "text/plain": [
              "17"
            ]
          },
          "metadata": {},
          "execution_count": 60
        }
      ]
    },
    {
      "cell_type": "code",
      "source": [
        "total / len(numbers)"
      ],
      "metadata": {
        "colab": {
          "base_uri": "https://localhost:8080/"
        },
        "id": "2sLEcI9UfLsr",
        "outputId": "0ca71d84-197d-4923-9416-5ed679006126"
      },
      "execution_count": 61,
      "outputs": [
        {
          "output_type": "execute_result",
          "data": {
            "text/plain": [
              "3.4"
            ]
          },
          "metadata": {},
          "execution_count": 61
        }
      ]
    },
    {
      "cell_type": "markdown",
      "source": [
        "## Ex 2.\n",
        "\n",
        "1. 빈 리스트(numbers) 생성.\n",
        "1. `[10, 100)` 범위의 난수 10개를 빈 리스트 numbers에 저장.\n",
        "1. numbers에서 짝수들만 선택해서 evens 리스트에 저장.\n",
        "1. numnbers에서 홀수들만 선택해서 odds 리스트에 저장."
      ],
      "metadata": {
        "id": "zySieZ59gkD7"
      }
    },
    {
      "cell_type": "code",
      "source": [
        "numbers = []  # 빈 리스트 생성\n",
        "for _ in range(10):  # 10번 반복하면서\n",
        "    numbers.append(random.randrange(10, 100))  # 10 이상 100 미만의 난수를 리스트에 추가\n",
        "\n",
        "numbers  # 리스트 내용 출력"
      ],
      "metadata": {
        "colab": {
          "base_uri": "https://localhost:8080/"
        },
        "id": "aTBBmbqTfeOr",
        "outputId": "bcb3d619-b6bb-42c4-d1c6-9efc75ce9b3d"
      },
      "execution_count": 62,
      "outputs": [
        {
          "output_type": "execute_result",
          "data": {
            "text/plain": [
              "[96, 84, 15, 44, 68, 88, 63, 51, 87, 11]"
            ]
          },
          "metadata": {},
          "execution_count": 62
        }
      ]
    },
    {
      "cell_type": "code",
      "source": [
        "evens = []  # numbers의 짝수들을 저장할 리스트\n",
        "for x in numbers:  # 리스트 numbers의 원소들을 반복(iteration)하면서\n",
        "    if x % 2 == 0:  # numbers에서 꺼낸 원소가 짝수이면\n",
        "        evens.append(x)  # 리스트 evens에 추가\n",
        "\n",
        "evens"
      ],
      "metadata": {
        "colab": {
          "base_uri": "https://localhost:8080/"
        },
        "id": "BSILWDSgj9Ej",
        "outputId": "37734a11-6efd-4582-9390-0bac9b74d941"
      },
      "execution_count": 63,
      "outputs": [
        {
          "output_type": "execute_result",
          "data": {
            "text/plain": [
              "[96, 84, 44, 68, 88]"
            ]
          },
          "metadata": {},
          "execution_count": 63
        }
      ]
    },
    {
      "cell_type": "code",
      "source": [
        "odds = []  # numbers의 홀수들을 저장할 리스트\n",
        "for x in numbers:  # numbers의 원소들을 하나씩 반복하면서\n",
        "    if x % 2:  # numbers에서 꺼낸 원소가 홀수이면\n",
        "        odds.append(x)  # odds에 홀수를 추가\n",
        "\n",
        "odds"
      ],
      "metadata": {
        "colab": {
          "base_uri": "https://localhost:8080/"
        },
        "id": "IhxNSrKKk8zb",
        "outputId": "9ed0f746-d136-4007-f276-2f9ff2672b03"
      },
      "execution_count": 64,
      "outputs": [
        {
          "output_type": "execute_result",
          "data": {
            "text/plain": [
              "[15, 63, 51, 87, 11]"
            ]
          },
          "metadata": {},
          "execution_count": 64
        }
      ]
    },
    {
      "cell_type": "markdown",
      "source": [
        "## Ex 3.\n",
        "\n",
        "1. 빈 리스트(numbers)를 생성.\n",
        "1. `[-10, 10]` 범위의 난수 10개를 numbers에 저장.\n",
        "1. numbers의 원소가 양수이면 True, 그렇지 않으면 False를 저장하는 리스트 is_positives를 만들고 출력."
      ],
      "metadata": {
        "id": "2C2H0RzNlmfj"
      }
    },
    {
      "cell_type": "code",
      "source": [
        "numbers = []\n",
        "for _ in range(10):\n",
        "    numbers.append(random.randrange(-10, 11))\n",
        "print(numbers)\n",
        "\n",
        "is_positives = []\n",
        "for x in numbers:\n",
        "    if x > 0:\n",
        "        is_positives.append(True)\n",
        "    else:\n",
        "        is_positives.append(False)\n",
        "print(is_positives)"
      ],
      "metadata": {
        "colab": {
          "base_uri": "https://localhost:8080/"
        },
        "id": "j1L1l5NJleYK",
        "outputId": "250facc2-b976-4c8c-9e7e-72a420a790a6"
      },
      "execution_count": 65,
      "outputs": [
        {
          "output_type": "stream",
          "name": "stdout",
          "text": [
            "[-10, 7, 3, -7, 9, -1, -8, 1, -9, -4]\n",
            "[False, True, True, False, True, False, False, True, False, False]\n"
          ]
        }
      ]
    },
    {
      "cell_type": "code",
      "source": [
        "numbers = []\n",
        "is_positives = []\n",
        "\n",
        "for _ in range(10):  # 10번 반복하면서\n",
        "    rand_num = random.randrange(-10, 11)  # [-10, 11) 범위의 난수 생성\n",
        "    numbers.append(rand_num)  # 생성된 난수를 numbers에 추가\n",
        "    if rand_num > 0:  # 생성된 난수가 양수이면\n",
        "        is_positives.append(True)  # True를 is_positives에 추가.\n",
        "    else:  # 생성된 난수가 음수이면\n",
        "        is_positives.append(False)  # False를 is_positives에 추가.\n",
        "\n",
        "print(numbers)\n",
        "print(is_positives)"
      ],
      "metadata": {
        "colab": {
          "base_uri": "https://localhost:8080/"
        },
        "id": "Wizt8HVrt2Bj",
        "outputId": "e5fe5507-cd74-4378-ca3f-8145303da01e"
      },
      "execution_count": 66,
      "outputs": [
        {
          "output_type": "stream",
          "name": "stdout",
          "text": [
            "[3, -3, -8, -6, -9, 3, -2, 0, -10, -10]\n",
            "[True, False, False, False, False, True, False, False, False, False]\n"
          ]
        }
      ]
    },
    {
      "cell_type": "markdown",
      "source": [
        "## Ex 4.\n",
        "\n",
        "1. 빈 리스트 gender_codes를 생성.\n",
        "1. gender_codes에 0 또는 1을 랜덤하게 10번 저장.\n",
        "1. gender_codes의 값이 0이면 'Male', 1이면 'Female'을 저장하는 리스트 genders를 만들고 출력."
      ],
      "metadata": {
        "id": "cMEWl9DxoNUT"
      }
    },
    {
      "cell_type": "code",
      "source": [
        "gender_codes = []\n",
        "for _ in range(10):\n",
        "    gender_codes.append(random.randrange(0, 2))\n",
        "print(gender_codes)"
      ],
      "metadata": {
        "colab": {
          "base_uri": "https://localhost:8080/"
        },
        "id": "gr-ceGc4oqoa",
        "outputId": "c7eea056-7832-415b-a6ef-cb8644209e61"
      },
      "execution_count": 67,
      "outputs": [
        {
          "output_type": "stream",
          "name": "stdout",
          "text": [
            "[0, 0, 1, 0, 0, 0, 1, 1, 0, 1]\n"
          ]
        }
      ]
    },
    {
      "cell_type": "code",
      "source": [
        "genders = []\n",
        "for x in gender_codes:\n",
        "    if x == 0:\n",
        "        genders.append('Male')\n",
        "    else:\n",
        "        genders.append('Female')\n",
        "print(genders)"
      ],
      "metadata": {
        "colab": {
          "base_uri": "https://localhost:8080/"
        },
        "id": "eXqbFstZvjjy",
        "outputId": "f98ada85-8c1f-4a15-b78f-bcc8814136a4"
      },
      "execution_count": 68,
      "outputs": [
        {
          "output_type": "stream",
          "name": "stdout",
          "text": [
            "['Male', 'Male', 'Female', 'Male', 'Male', 'Male', 'Female', 'Female', 'Male', 'Female']\n"
          ]
        }
      ]
    },
    {
      "cell_type": "markdown",
      "source": [
        "# List Comprehension(리스트 내포)"
      ],
      "metadata": {
        "id": "n14ZF55mwCDb"
      }
    },
    {
      "cell_type": "markdown",
      "source": [
        "1 ~ 10까지 정수를 차례로 저장하고 있는 리스트: `[1, 2, 3, ..., 9, 10]`"
      ],
      "metadata": {
        "id": "33i4V3bEweQ3"
      }
    },
    {
      "cell_type": "code",
      "source": [
        "numbers = []\n",
        "for x in range(1, 11):\n",
        "    numbers.append(x)\n",
        "numbers"
      ],
      "metadata": {
        "colab": {
          "base_uri": "https://localhost:8080/"
        },
        "id": "uAFD5QYWvvrT",
        "outputId": "27fab3eb-59bc-4d84-9925-73a90f499a72"
      },
      "execution_count": 69,
      "outputs": [
        {
          "output_type": "execute_result",
          "data": {
            "text/plain": [
              "[1, 2, 3, 4, 5, 6, 7, 8, 9, 10]"
            ]
          },
          "metadata": {},
          "execution_count": 69
        }
      ]
    },
    {
      "cell_type": "code",
      "source": [
        "numbers = [x for x in range(1, 11)]\n",
        "numbers"
      ],
      "metadata": {
        "colab": {
          "base_uri": "https://localhost:8080/"
        },
        "id": "_B7VIJ0Lw20r",
        "outputId": "95b6543d-511d-481c-da85-d03739e273e5"
      },
      "execution_count": 70,
      "outputs": [
        {
          "output_type": "execute_result",
          "data": {
            "text/plain": [
              "[1, 2, 3, 4, 5, 6, 7, 8, 9, 10]"
            ]
          },
          "metadata": {},
          "execution_count": 70
        }
      ]
    },
    {
      "cell_type": "markdown",
      "source": [
        "1부터 10까지 정수들의 제곱을 저장하는 리스트: `[1, 4, 9, 16, ..., 64, 81, 100]`"
      ],
      "metadata": {
        "id": "wOL-LVnKxqUk"
      }
    },
    {
      "cell_type": "code",
      "source": [
        "squares = []\n",
        "for x in range(1, 11):\n",
        "    squares.append(x ** 2)\n",
        "squares"
      ],
      "metadata": {
        "colab": {
          "base_uri": "https://localhost:8080/"
        },
        "id": "Q892XVenxCDM",
        "outputId": "d0aff4e3-c23d-48da-f5cc-eb87fbe36964"
      },
      "execution_count": 71,
      "outputs": [
        {
          "output_type": "execute_result",
          "data": {
            "text/plain": [
              "[1, 4, 9, 16, 25, 36, 49, 64, 81, 100]"
            ]
          },
          "metadata": {},
          "execution_count": 71
        }
      ]
    },
    {
      "cell_type": "code",
      "source": [
        "squares2 = [x ** 2 for x in range(1, 11)]\n",
        "squares2"
      ],
      "metadata": {
        "colab": {
          "base_uri": "https://localhost:8080/"
        },
        "id": "jlsBKpsPy33z",
        "outputId": "02470fef-ca23-447d-af07-f36c76bd9264"
      },
      "execution_count": 72,
      "outputs": [
        {
          "output_type": "execute_result",
          "data": {
            "text/plain": [
              "[1, 4, 9, 16, 25, 36, 49, 64, 81, 100]"
            ]
          },
          "metadata": {},
          "execution_count": 72
        }
      ]
    },
    {
      "cell_type": "markdown",
      "source": [
        "0 이상 10 이하의 짝수들을 저장하는 리스트: `[0, 2, 4, 6, 8, 10]`"
      ],
      "metadata": {
        "id": "54PM2VYzzbfc"
      }
    },
    {
      "cell_type": "code",
      "source": [
        "evens = [x for x in range(0, 11, 2)]\n",
        "print(evens)"
      ],
      "metadata": {
        "colab": {
          "base_uri": "https://localhost:8080/"
        },
        "id": "29rr5_azzTdM",
        "outputId": "ad003820-c67a-4ac7-9e1b-1516ff9bdef6"
      },
      "execution_count": 73,
      "outputs": [
        {
          "output_type": "stream",
          "name": "stdout",
          "text": [
            "[0, 2, 4, 6, 8, 10]\n"
          ]
        }
      ]
    },
    {
      "cell_type": "markdown",
      "source": [
        "0 이상 10 이하의 홀수들을 저장하는 리스트: `[1, 3, 5, 7, 9]`"
      ],
      "metadata": {
        "id": "wLO66GKC0J0L"
      }
    },
    {
      "cell_type": "code",
      "source": [
        "odds = [x for x in range(1, 10, 2)]\n",
        "odds"
      ],
      "metadata": {
        "colab": {
          "base_uri": "https://localhost:8080/"
        },
        "id": "MAaRRh3N0ATk",
        "outputId": "20467123-fcca-4be6-e72f-54f9ac45028b"
      },
      "execution_count": 74,
      "outputs": [
        {
          "output_type": "execute_result",
          "data": {
            "text/plain": [
              "[1, 3, 5, 7, 9]"
            ]
          },
          "metadata": {},
          "execution_count": 74
        }
      ]
    },
    {
      "cell_type": "code",
      "source": [
        "# 10 이상 100 미만의 정수 난수 10개를 저장하는 리스트\n",
        "numbers = [random.randrange(10, 100) for _ in range(10)]\n",
        "numbers"
      ],
      "metadata": {
        "colab": {
          "base_uri": "https://localhost:8080/"
        },
        "id": "srxsd7U90fHb",
        "outputId": "e1102def-3b05-4d78-f2bd-f3208317eb39"
      },
      "execution_count": 75,
      "outputs": [
        {
          "output_type": "execute_result",
          "data": {
            "text/plain": [
              "[98, 59, 36, 43, 79, 53, 85, 33, 46, 91]"
            ]
          },
          "metadata": {},
          "execution_count": 75
        }
      ]
    },
    {
      "cell_type": "code",
      "source": [
        "# numbers에서 짝수들만 선택해서 저장한 리스트\n",
        "evens = [x for x in numbers if x % 2 == 0]\n",
        "evens"
      ],
      "metadata": {
        "colab": {
          "base_uri": "https://localhost:8080/"
        },
        "id": "psUMNNXG5Str",
        "outputId": "f5cec40b-b5a6-4a85-fed0-f9ad4df8f7fd"
      },
      "execution_count": 76,
      "outputs": [
        {
          "output_type": "execute_result",
          "data": {
            "text/plain": [
              "[98, 36, 46]"
            ]
          },
          "metadata": {},
          "execution_count": 76
        }
      ]
    },
    {
      "cell_type": "code",
      "source": [
        "# numbers에서 홀수들만 선택해서 저장한 리스트\n",
        "odds = [x for x in numbers if x % 2]\n",
        "odds"
      ],
      "metadata": {
        "colab": {
          "base_uri": "https://localhost:8080/"
        },
        "id": "h15xaoOE5nw9",
        "outputId": "bcf4eb36-5e13-4535-d4b8-212b7c6858f7"
      },
      "execution_count": 77,
      "outputs": [
        {
          "output_type": "execute_result",
          "data": {
            "text/plain": [
              "[59, 43, 79, 53, 85, 33, 91]"
            ]
          },
          "metadata": {},
          "execution_count": 77
        }
      ]
    },
    {
      "cell_type": "code",
      "source": [
        "# numbers의 숫자가 짝수이면 'even', 홀수이면 'odd'을 저장하는 리스트\n",
        "is_even = ['even' if x % 2 == 0 else 'odd' \n",
        "           for x in numbers]\n",
        "is_even"
      ],
      "metadata": {
        "colab": {
          "base_uri": "https://localhost:8080/"
        },
        "id": "tPLgY5EM6gOT",
        "outputId": "ab9f3b4b-892d-4528-dc13-21ac3a95e729"
      },
      "execution_count": 78,
      "outputs": [
        {
          "output_type": "execute_result",
          "data": {
            "text/plain": [
              "['even', 'odd', 'even', 'odd', 'odd', 'odd', 'odd', 'odd', 'even', 'odd']"
            ]
          },
          "metadata": {},
          "execution_count": 78
        }
      ]
    },
    {
      "cell_type": "code",
      "source": [
        "x = -100\n",
        "is_positive = True if x > 0 else False  # if-else 표현식: Java의 삼항 연산자(if 조건 ? 값1 : 값2)\n",
        "is_positive"
      ],
      "metadata": {
        "colab": {
          "base_uri": "https://localhost:8080/"
        },
        "id": "zITADn0X7UBE",
        "outputId": "6aa3f3b2-d0d0-4f22-f218-31f765767fdd"
      },
      "execution_count": 79,
      "outputs": [
        {
          "output_type": "execute_result",
          "data": {
            "text/plain": [
              "False"
            ]
          },
          "metadata": {},
          "execution_count": 79
        }
      ]
    },
    {
      "cell_type": "code",
      "source": [
        "# -10 이상 10 이하의 정수 난수 10개를 저장하는 리스트\n",
        "numbers = [random.randrange(-10, 11) for _ in range(10)]\n",
        "numbers"
      ],
      "metadata": {
        "colab": {
          "base_uri": "https://localhost:8080/"
        },
        "id": "O9ACE7ZT9E4r",
        "outputId": "12dd8745-3fcc-4687-b7a4-c855aae2f29f"
      },
      "execution_count": 80,
      "outputs": [
        {
          "output_type": "execute_result",
          "data": {
            "text/plain": [
              "[8, -6, 8, -10, -9, 4, 1, 0, -10, 8]"
            ]
          },
          "metadata": {},
          "execution_count": 80
        }
      ]
    },
    {
      "cell_type": "code",
      "source": [
        "# numbers의 원소들 중에서 양수들만 저장하는 리스트\n",
        "positives = [x for x in numbers if x > 0]\n",
        "positives"
      ],
      "metadata": {
        "colab": {
          "base_uri": "https://localhost:8080/"
        },
        "id": "pMcATLh4-frO",
        "outputId": "8325eb22-5483-4892-a7fd-22de6bef3bf4"
      },
      "execution_count": 81,
      "outputs": [
        {
          "output_type": "execute_result",
          "data": {
            "text/plain": [
              "[8, 8, 4, 1, 8]"
            ]
          },
          "metadata": {},
          "execution_count": 81
        }
      ]
    },
    {
      "cell_type": "code",
      "source": [
        "# numbers의 원소들 중에서 양수가 아닌(음수 또는 0) 숫자들만 저장하는 리스트\n",
        "not_positives = [x for x in numbers if x <= 0]\n",
        "not_positives"
      ],
      "metadata": {
        "colab": {
          "base_uri": "https://localhost:8080/"
        },
        "id": "gcZVJZX2-lY7",
        "outputId": "4d419b53-5de7-4db5-9961-07a9441bc289"
      },
      "execution_count": 82,
      "outputs": [
        {
          "output_type": "execute_result",
          "data": {
            "text/plain": [
              "[-6, -10, -9, 0, -10]"
            ]
          },
          "metadata": {},
          "execution_count": 82
        }
      ]
    },
    {
      "cell_type": "code",
      "source": [
        "# numbers의 원소가 양수이면 True, 그렇지 않으면 False를 저장하는 리스트\n",
        "is_positives = [True if x > 0 else False\n",
        "                for x in numbers]\n",
        "is_positives"
      ],
      "metadata": {
        "colab": {
          "base_uri": "https://localhost:8080/"
        },
        "id": "hNVdXLkz-wc7",
        "outputId": "ae441d50-2a49-4d53-826a-59f8d7cf9cfe"
      },
      "execution_count": 83,
      "outputs": [
        {
          "output_type": "execute_result",
          "data": {
            "text/plain": [
              "[True, False, True, False, False, True, True, False, False, True]"
            ]
          },
          "metadata": {},
          "execution_count": 83
        }
      ]
    },
    {
      "cell_type": "markdown",
      "source": [
        "# List Comprehension 연습"
      ],
      "metadata": {
        "id": "vJL6Gw7MD599"
      }
    },
    {
      "cell_type": "markdown",
      "source": [
        "## Ex 1.\n",
        "\n",
        "1. 0 또는 1을 랜덤하게 10개를 저장하는 리스트 gender_codes를 만들고 출력.\n",
        "1. gender_codes의 값이 0이면 'Male', 1이면 'Female'을 저장하는 리스트 genders를 만들고 출력"
      ],
      "metadata": {
        "id": "SYfRXovTEBOr"
      }
    },
    {
      "cell_type": "code",
      "source": [
        "gender_codes = [random.randrange(0, 2) for _ in range(10)]\n",
        "gender_codes"
      ],
      "metadata": {
        "id": "MPJnzM16Bp5D",
        "colab": {
          "base_uri": "https://localhost:8080/"
        },
        "outputId": "8d69cc31-51dc-4db4-817b-fbefd001af7e"
      },
      "execution_count": 85,
      "outputs": [
        {
          "output_type": "execute_result",
          "data": {
            "text/plain": [
              "[1, 0, 0, 1, 0, 0, 0, 1, 1, 0]"
            ]
          },
          "metadata": {},
          "execution_count": 85
        }
      ]
    },
    {
      "cell_type": "code",
      "source": [
        "genders = ['Male' if x == 0 else 'Female'\n",
        "            for x in gender_codes]\n",
        "genders"
      ],
      "metadata": {
        "colab": {
          "base_uri": "https://localhost:8080/"
        },
        "id": "pKbJ44R818WE",
        "outputId": "b0b0f6e3-c2c3-4a13-f8b6-d7a032fbe3e1"
      },
      "execution_count": 86,
      "outputs": [
        {
          "output_type": "execute_result",
          "data": {
            "text/plain": [
              "['Female',\n",
              " 'Male',\n",
              " 'Male',\n",
              " 'Female',\n",
              " 'Male',\n",
              " 'Male',\n",
              " 'Male',\n",
              " 'Female',\n",
              " 'Female',\n",
              " 'Male']"
            ]
          },
          "metadata": {},
          "execution_count": 86
        }
      ]
    },
    {
      "cell_type": "markdown",
      "source": [
        "## Ex 2.\n",
        "\n",
        "1. 0, 1, 2를 랜덤하게 10개 저장하는 리스트 gender_codes를 만들고 출력.\n",
        "1. gender_codes의 값이 0이면 'Male', 1이면 'Female', 2이면 'Unknown'을 저장하는 리스트 genders를 만들고 출력."
      ],
      "metadata": {
        "id": "PniccpbwEUYl"
      }
    },
    {
      "cell_type": "code",
      "source": [
        "gender_codes = [random.randrange(0, 3) for _ in range(10)]\n",
        "gender_codes"
      ],
      "metadata": {
        "id": "v-WWyUUREvDj",
        "colab": {
          "base_uri": "https://localhost:8080/"
        },
        "outputId": "fe585366-5182-4daa-c729-25e7dc1a0d82"
      },
      "execution_count": 87,
      "outputs": [
        {
          "output_type": "execute_result",
          "data": {
            "text/plain": [
              "[0, 1, 0, 2, 1, 1, 2, 1, 0, 0]"
            ]
          },
          "metadata": {},
          "execution_count": 87
        }
      ]
    },
    {
      "cell_type": "code",
      "source": [
        "genders = ['Male' if x == 0 else ('Female' if x == 1 else 'Unknown')\n",
        "            for x in gender_codes]\n",
        "genders"
      ],
      "metadata": {
        "colab": {
          "base_uri": "https://localhost:8080/"
        },
        "id": "HIKgqZA125Wx",
        "outputId": "09bbde09-bbbf-4f66-b8b0-fae59ef2d98d"
      },
      "execution_count": 88,
      "outputs": [
        {
          "output_type": "execute_result",
          "data": {
            "text/plain": [
              "['Male',\n",
              " 'Female',\n",
              " 'Male',\n",
              " 'Unknown',\n",
              " 'Female',\n",
              " 'Female',\n",
              " 'Unknown',\n",
              " 'Female',\n",
              " 'Male',\n",
              " 'Male']"
            ]
          },
          "metadata": {},
          "execution_count": 88
        }
      ]
    },
    {
      "cell_type": "markdown",
      "source": [
        "## Ex 3.\n",
        "\n",
        "1. 0 이상 10 미만의 정수 난수 10개를 저장하는 리스트 numbers1을 만들고 출력.\n",
        "1. 0 이상 10 미만의 정수 난수 10개를 저장하는 리스트 numbers2을 만들고 출력.\n",
        "1. numbers1과 numbers2에서 같은 인덱스의 원소들끼리의 합을 저장하는 리스트 adds를 만들고 출력.\n",
        "1. numbers1과 numbers2에서 같은 인덱스의 원소들끼리의 곱을 저장하는 리스트 mutiplicatoins를 만들고 출력.\n",
        "1. mutiplications의 모든 원소들의 합을 계산하고 출력."
      ],
      "metadata": {
        "id": "vGF7cSxXExAz"
      }
    },
    {
      "cell_type": "code",
      "source": [
        "numbers1 = [random.randrange(0, 10) for _ in range(10)]\n",
        "numbers1"
      ],
      "metadata": {
        "id": "26mxvmR5FjRr",
        "colab": {
          "base_uri": "https://localhost:8080/"
        },
        "outputId": "dc4382f7-2320-476b-d83b-bf6a556fe13d"
      },
      "execution_count": 89,
      "outputs": [
        {
          "output_type": "execute_result",
          "data": {
            "text/plain": [
              "[5, 0, 6, 7, 2, 2, 5, 2, 2, 2]"
            ]
          },
          "metadata": {},
          "execution_count": 89
        }
      ]
    },
    {
      "cell_type": "code",
      "source": [
        "numbers2 = [random.randrange(0, 10) for _ in range(10)]\n",
        "numbers2"
      ],
      "metadata": {
        "colab": {
          "base_uri": "https://localhost:8080/"
        },
        "id": "mjpNZcAZ4h1L",
        "outputId": "edfea1cf-775e-4631-9033-a5ddb78be107"
      },
      "execution_count": 90,
      "outputs": [
        {
          "output_type": "execute_result",
          "data": {
            "text/plain": [
              "[1, 9, 2, 5, 6, 7, 5, 1, 6, 3]"
            ]
          },
          "metadata": {},
          "execution_count": 90
        }
      ]
    },
    {
      "cell_type": "code",
      "source": [
        "adds = [numbers1[i] + numbers2[i] for i in range(10)]\n",
        "adds"
      ],
      "metadata": {
        "colab": {
          "base_uri": "https://localhost:8080/"
        },
        "id": "E1cjWzlQ4uy5",
        "outputId": "4ab24347-4361-48d3-d9e0-a8f0a1bd4295"
      },
      "execution_count": 91,
      "outputs": [
        {
          "output_type": "execute_result",
          "data": {
            "text/plain": [
              "[6, 9, 8, 12, 8, 9, 10, 3, 8, 5]"
            ]
          },
          "metadata": {},
          "execution_count": 91
        }
      ]
    },
    {
      "cell_type": "code",
      "source": [
        "adds = [x + y for x, y in zip(numbers1, numbers2)]\n",
        "adds"
      ],
      "metadata": {
        "colab": {
          "base_uri": "https://localhost:8080/"
        },
        "id": "V83-eBuO5mWF",
        "outputId": "5a7022f9-732e-4d69-82c8-45cc9e05cbf7"
      },
      "execution_count": 92,
      "outputs": [
        {
          "output_type": "execute_result",
          "data": {
            "text/plain": [
              "[6, 9, 8, 12, 8, 9, 10, 3, 8, 5]"
            ]
          },
          "metadata": {},
          "execution_count": 92
        }
      ]
    },
    {
      "cell_type": "code",
      "source": [
        "multiplications = [x * y for x, y in zip(numbers1, numbers2)]\n",
        "multiplications"
      ],
      "metadata": {
        "colab": {
          "base_uri": "https://localhost:8080/"
        },
        "id": "JPKkiIT_63Nr",
        "outputId": "d8e02d09-ad00-4f67-f92c-6712e9b51e15"
      },
      "execution_count": 93,
      "outputs": [
        {
          "output_type": "execute_result",
          "data": {
            "text/plain": [
              "[5, 0, 12, 35, 12, 14, 25, 2, 12, 6]"
            ]
          },
          "metadata": {},
          "execution_count": 93
        }
      ]
    },
    {
      "cell_type": "code",
      "source": [
        "sum(multiplications)"
      ],
      "metadata": {
        "colab": {
          "base_uri": "https://localhost:8080/"
        },
        "id": "3FvoM3TA7Uew",
        "outputId": "b4b5a2e6-0c4e-43d5-b988-019c0de592c7"
      },
      "execution_count": 94,
      "outputs": [
        {
          "output_type": "execute_result",
          "data": {
            "text/plain": [
              "123"
            ]
          },
          "metadata": {},
          "execution_count": 94
        }
      ]
    },
    {
      "cell_type": "code",
      "source": [
        "total = 0\n",
        "for x in multiplications:\n",
        "    total += x\n",
        "\n",
        "total"
      ],
      "metadata": {
        "colab": {
          "base_uri": "https://localhost:8080/"
        },
        "id": "oi9zt3aY7o3Q",
        "outputId": "c9bd3758-6417-467e-bf5c-7701c6d62168"
      },
      "execution_count": 95,
      "outputs": [
        {
          "output_type": "execute_result",
          "data": {
            "text/plain": [
              "123"
            ]
          },
          "metadata": {},
          "execution_count": 95
        }
      ]
    },
    {
      "cell_type": "markdown",
      "source": [
        "# 다차원 리스트"
      ],
      "metadata": {
        "id": "o0mNaCQU8Mdr"
      }
    },
    {
      "cell_type": "code",
      "source": [
        "matrix = [ [1, 2, 3],\n",
        "          [4, 5, 6],\n",
        "          [7, 8, 9] ]\n",
        "matrix"
      ],
      "metadata": {
        "colab": {
          "base_uri": "https://localhost:8080/"
        },
        "id": "5mIILhQ270Iv",
        "outputId": "136afbfb-9ad7-41a8-9b03-d5bb30ec4922"
      },
      "execution_count": 96,
      "outputs": [
        {
          "output_type": "execute_result",
          "data": {
            "text/plain": [
              "[[1, 2, 3], [4, 5, 6], [7, 8, 9]]"
            ]
          },
          "metadata": {},
          "execution_count": 96
        }
      ]
    },
    {
      "cell_type": "markdown",
      "source": [
        "## 2차원 리스트의 indexing"
      ],
      "metadata": {
        "id": "lHTNaOih8uHy"
      }
    },
    {
      "cell_type": "code",
      "source": [
        "matrix[0]  #> 1차원 리스트"
      ],
      "metadata": {
        "colab": {
          "base_uri": "https://localhost:8080/"
        },
        "id": "AbShS9Px8jOz",
        "outputId": "d86b13e7-8d05-4840-b270-f3f009f45b5e"
      },
      "execution_count": 97,
      "outputs": [
        {
          "output_type": "execute_result",
          "data": {
            "text/plain": [
              "[1, 2, 3]"
            ]
          },
          "metadata": {},
          "execution_count": 97
        }
      ]
    },
    {
      "cell_type": "code",
      "source": [
        "matrix[0][0]"
      ],
      "metadata": {
        "colab": {
          "base_uri": "https://localhost:8080/"
        },
        "id": "kVtRGeWV86Hv",
        "outputId": "a8b03836-feaf-480d-f383-ff9df1ca423d"
      },
      "execution_count": 98,
      "outputs": [
        {
          "output_type": "execute_result",
          "data": {
            "text/plain": [
              "1"
            ]
          },
          "metadata": {},
          "execution_count": 98
        }
      ]
    },
    {
      "cell_type": "code",
      "source": [
        "matrix[1][2]  #> 6"
      ],
      "metadata": {
        "colab": {
          "base_uri": "https://localhost:8080/"
        },
        "id": "5RoGCMQM9KXC",
        "outputId": "06e9e2e4-b491-4e57-a58a-e9d94af41ff6"
      },
      "execution_count": 99,
      "outputs": [
        {
          "output_type": "execute_result",
          "data": {
            "text/plain": [
              "6"
            ]
          },
          "metadata": {},
          "execution_count": 99
        }
      ]
    },
    {
      "cell_type": "markdown",
      "source": [
        "## 2차원 리스트와 for 반복문"
      ],
      "metadata": {
        "id": "lZwjwNzt9nmt"
      }
    },
    {
      "cell_type": "code",
      "source": [
        "for row in matrix:\n",
        "    print(row)"
      ],
      "metadata": {
        "colab": {
          "base_uri": "https://localhost:8080/"
        },
        "id": "afiopMnk9i5J",
        "outputId": "97114831-f1aa-4a70-c7c8-7099c2951417"
      },
      "execution_count": 101,
      "outputs": [
        {
          "output_type": "stream",
          "name": "stdout",
          "text": [
            "[1, 2, 3]\n",
            "[4, 5, 6]\n",
            "[7, 8, 9]\n"
          ]
        }
      ]
    },
    {
      "cell_type": "code",
      "source": [
        "for row in matrix:\n",
        "    for x in row:\n",
        "        print(x)"
      ],
      "metadata": {
        "colab": {
          "base_uri": "https://localhost:8080/"
        },
        "id": "6iskYrYQ9x0r",
        "outputId": "16236289-29aa-4f7f-f86c-b186c7b1b36c"
      },
      "execution_count": 102,
      "outputs": [
        {
          "output_type": "stream",
          "name": "stdout",
          "text": [
            "1\n",
            "2\n",
            "3\n",
            "4\n",
            "5\n",
            "6\n",
            "7\n",
            "8\n",
            "9\n"
          ]
        }
      ]
    },
    {
      "cell_type": "code",
      "source": [
        "for row in matrix:\n",
        "    for x in row:\n",
        "        print(x, end=' ')\n",
        "    print()  # 줄바꿈"
      ],
      "metadata": {
        "colab": {
          "base_uri": "https://localhost:8080/"
        },
        "id": "t0vY3aQu-a5a",
        "outputId": "1883b5fd-ecc7-4cab-8188-cf6d0f65f7b6"
      },
      "execution_count": 104,
      "outputs": [
        {
          "output_type": "stream",
          "name": "stdout",
          "text": [
            "1 2 3 \n",
            "4 5 6 \n",
            "7 8 9 \n"
          ]
        }
      ]
    },
    {
      "cell_type": "markdown",
      "source": [
        "## 2차원 리스트와 list comprehension"
      ],
      "metadata": {
        "id": "6usF4bdfDRgS"
      }
    },
    {
      "cell_type": "code",
      "source": [
        "# 3x3 모양의 정수 난수 9개를 저장하는 2차원 리스트를 생성.\n",
        "matrix1 = []  # 빈 리스트 - 1차원 리스트들을 저장하기 위한 리스트.\n",
        "for _ in range(3):\n",
        "    row = []  # 빈 리스트 - 3개의 난수를 저장하기 위한 리스트.\n",
        "    for _ in range(3):\n",
        "        row.append(random.randrange(10))\n",
        "    matrix1.append(row)\n",
        "\n",
        "matrix1"
      ],
      "metadata": {
        "colab": {
          "base_uri": "https://localhost:8080/"
        },
        "id": "viCg6y_--2jd",
        "outputId": "8950163c-21e4-47f7-a09f-bcc29e791ff1"
      },
      "execution_count": 105,
      "outputs": [
        {
          "output_type": "execute_result",
          "data": {
            "text/plain": [
              "[[3, 0, 6], [1, 6, 8], [7, 2, 0]]"
            ]
          },
          "metadata": {},
          "execution_count": 105
        }
      ]
    },
    {
      "cell_type": "code",
      "source": [
        "matrix2 = []\n",
        "for _ in range(3):\n",
        "    row = [random.randrange(10) for _ in range(3)]\n",
        "    matrix2.append(row)\n",
        "\n",
        "matrix2"
      ],
      "metadata": {
        "colab": {
          "base_uri": "https://localhost:8080/"
        },
        "id": "fUtu_YPiEsb-",
        "outputId": "2fd9ad6a-c432-43e9-dc62-8103c3962ec7"
      },
      "execution_count": 106,
      "outputs": [
        {
          "output_type": "execute_result",
          "data": {
            "text/plain": [
              "[[1, 1, 3], [6, 4, 3], [7, 9, 9]]"
            ]
          },
          "metadata": {},
          "execution_count": 106
        }
      ]
    },
    {
      "cell_type": "code",
      "source": [
        "matrix3 = [ [random.randrange(10) for _ in range(3)] \n",
        "           for _ in range(3) ]\n",
        "\n",
        "matrix3"
      ],
      "metadata": {
        "colab": {
          "base_uri": "https://localhost:8080/"
        },
        "id": "WlRb4AP6GAMB",
        "outputId": "0debf1b7-44d8-4d25-ed0f-055e8d945027"
      },
      "execution_count": 107,
      "outputs": [
        {
          "output_type": "execute_result",
          "data": {
            "text/plain": [
              "[[1, 8, 8], [9, 0, 7], [0, 9, 0]]"
            ]
          },
          "metadata": {},
          "execution_count": 107
        }
      ]
    },
    {
      "cell_type": "code",
      "source": [
        "# matrix1, matrix2의 같은 인덱스에 있는 원소들끼리의 합을 원소로 갖는 리스트.\n",
        "adds = []  # 각 원소들끼리의 합을 저장할 (2차원) 리스트\n",
        "for row1, row2 in zip(matrix1, matrix2):\n",
        "    temp = []  # 각 행에 있는 원소들끼의 합을 저장할 (1차원) 리스트\n",
        "    for x, y in zip(row1, row2):\n",
        "        temp.append(x + y)\n",
        "    adds.append(temp)\n",
        "\n",
        "adds"
      ],
      "metadata": {
        "colab": {
          "base_uri": "https://localhost:8080/"
        },
        "id": "26iUphTDHAB2",
        "outputId": "46910bf1-e90c-4c98-966d-c22f21c8395e"
      },
      "execution_count": 108,
      "outputs": [
        {
          "output_type": "execute_result",
          "data": {
            "text/plain": [
              "[[4, 1, 9], [7, 10, 11], [14, 11, 9]]"
            ]
          },
          "metadata": {},
          "execution_count": 108
        }
      ]
    },
    {
      "cell_type": "code",
      "source": [
        "adds = []\n",
        "for row1, row2 in zip(matrix1, matrix2):\n",
        "    temp = [x + y for x, y in zip(row1, row2)]\n",
        "    adds.append(temp)\n",
        "\n",
        "adds"
      ],
      "metadata": {
        "colab": {
          "base_uri": "https://localhost:8080/"
        },
        "id": "noJf1ah2LEK5",
        "outputId": "44a2e5bb-c6d1-4494-ecd1-d359776c0b77"
      },
      "execution_count": 109,
      "outputs": [
        {
          "output_type": "execute_result",
          "data": {
            "text/plain": [
              "[[4, 1, 9], [7, 10, 11], [14, 11, 9]]"
            ]
          },
          "metadata": {},
          "execution_count": 109
        }
      ]
    },
    {
      "cell_type": "code",
      "source": [
        "adds = [ [ x + y for x, y in zip(row1, row2) ] \n",
        "        for row1, row2 in zip(matrix1, matrix2) ]\n",
        "\n",
        "adds"
      ],
      "metadata": {
        "colab": {
          "base_uri": "https://localhost:8080/"
        },
        "id": "93GDjf_JLiJo",
        "outputId": "c8e5d912-f49e-4d6a-ed6f-4ccd4b8b38ad"
      },
      "execution_count": 110,
      "outputs": [
        {
          "output_type": "execute_result",
          "data": {
            "text/plain": [
              "[[4, 1, 9], [7, 10, 11], [14, 11, 9]]"
            ]
          },
          "metadata": {},
          "execution_count": 110
        }
      ]
    }
  ]
}