{
  "cells": [
    {
      "cell_type": "markdown",
      "metadata": {
        "colab_type": "text",
        "id": "view-in-github"
      },
      "source": [
        "<a href=\"https://colab.research.google.com/github/JakeOh/202110_itw_lab_python/blob/main/ml03_train_test_scaling.ipynb\" target=\"_parent\"><img src=\"https://colab.research.google.com/assets/colab-badge.svg\" alt=\"Open In Colab\"/></a>"
      ]
    },
    {
      "cell_type": "markdown",
      "metadata": {
        "id": "gK0r4Xlz4X5H"
      },
      "source": [
        "* 머신 러닝의 과정\n",
        "    * 문제 정의 --> 데이터 준비 --> 데이터 탐색 --> 훈련 셋, 검증 셋, 테스트 셋 분리 --> 모델 선택, 훈련 --> 모델 평가 --> 모델 튜닝\n",
        "* 훈련 셋, 검증 셋, 테스트 셋으로 나누는 방법\n",
        "    * 순차 추출(sequential sampling)\n",
        "    * 임의 추출(random sampling)\n",
        "    * 층화 추출(stratified sampling)\n",
        "* 분류 모델 평가 지표\n",
        "    * 정확도(accuracy)\n",
        "    * 정밀도(precision)\n",
        "    * 재현율(recall)\n",
        "    * F1-score\n",
        "    * 민감도(sensitivity)\n",
        "    * 특이도\n",
        "* 특성 스케일링\n",
        "    * 표준화(standardization)\n",
        "    * 정규화(normalization)"
      ]
    },
    {
      "cell_type": "markdown",
      "metadata": {
        "id": "niqhLBD598dQ"
      },
      "source": [
        "# 필요한 모듈, 클래스, 함수들 import"
      ]
    },
    {
      "cell_type": "code",
      "execution_count": 109,
      "metadata": {
        "id": "VPwWXM7z4JOz"
      },
      "outputs": [],
      "source": [
        "import numpy as np  # ndarray(배열) 함수, 메서드\n",
        "import pandas as pd  # Series, DataFrame 함수, 메서드\n",
        "import matplotlib.pyplot as plt  # 시각화\n",
        "import seaborn as sns  # 시각화\n",
        "\n",
        "# Machine Learning\n",
        "# 머신 러닝 모델(알고리즘) - KNN 분류기\n",
        "from sklearn.neighbors import KNeighborsClassifier\n",
        "# 훈련/테스트 셋 분리 함수\n",
        "from sklearn.model_selection import train_test_split\n",
        "# 모델 평가 지표 함수\n",
        "from sklearn.metrics import confusion_matrix, classification_report\n",
        "from sklearn.metrics import accuracy_score, precision_score, recall_score, f1_score\n",
        "# 특성 스케일링 클래스\n",
        "from sklearn.preprocessing import StandardScaler, MinMaxScaler"
      ]
    },
    {
      "cell_type": "markdown",
      "metadata": {
        "id": "jLqYJ57HA1fW"
      },
      "source": [
        "# 데이터 준비\n",
        "\n",
        "* fish.csv 파일: 어종, 특성들(무게, 길이, ...)\n",
        "* 2진 분류(도미, 빙어)\n",
        "* 특성 2개(무게, 길이)만 사용\n"
      ]
    },
    {
      "cell_type": "code",
      "execution_count": 110,
      "metadata": {
        "id": "_awYZlksAhfn"
      },
      "outputs": [],
      "source": [
        "fish_csv = 'https://github.com/JakeOh/202110_itw_lab_python/raw/main/fish.csv'"
      ]
    },
    {
      "cell_type": "code",
      "execution_count": 111,
      "metadata": {
        "id": "ZWIfy3uREfAP"
      },
      "outputs": [],
      "source": [
        "fish = pd.read_csv(fish_csv)"
      ]
    },
    {
      "cell_type": "code",
      "execution_count": 112,
      "metadata": {
        "colab": {
          "base_uri": "https://localhost:8080/",
          "height": 206
        },
        "id": "oHOjlQyLEk4e",
        "outputId": "aa1555e5-ef2b-4a4a-dbc0-f114f3c29fef"
      },
      "outputs": [
        {
          "data": {
            "text/html": [
              "<div>\n",
              "<style scoped>\n",
              "    .dataframe tbody tr th:only-of-type {\n",
              "        vertical-align: middle;\n",
              "    }\n",
              "\n",
              "    .dataframe tbody tr th {\n",
              "        vertical-align: top;\n",
              "    }\n",
              "\n",
              "    .dataframe thead th {\n",
              "        text-align: right;\n",
              "    }\n",
              "</style>\n",
              "<table border=\"1\" class=\"dataframe\">\n",
              "  <thead>\n",
              "    <tr style=\"text-align: right;\">\n",
              "      <th></th>\n",
              "      <th>Species</th>\n",
              "      <th>Weight</th>\n",
              "      <th>Length</th>\n",
              "      <th>Diagonal</th>\n",
              "      <th>Height</th>\n",
              "      <th>Width</th>\n",
              "    </tr>\n",
              "  </thead>\n",
              "  <tbody>\n",
              "    <tr>\n",
              "      <th>0</th>\n",
              "      <td>Bream</td>\n",
              "      <td>242.0</td>\n",
              "      <td>25.4</td>\n",
              "      <td>30.0</td>\n",
              "      <td>11.5200</td>\n",
              "      <td>4.0200</td>\n",
              "    </tr>\n",
              "    <tr>\n",
              "      <th>1</th>\n",
              "      <td>Bream</td>\n",
              "      <td>290.0</td>\n",
              "      <td>26.3</td>\n",
              "      <td>31.2</td>\n",
              "      <td>12.4800</td>\n",
              "      <td>4.3056</td>\n",
              "    </tr>\n",
              "    <tr>\n",
              "      <th>2</th>\n",
              "      <td>Bream</td>\n",
              "      <td>340.0</td>\n",
              "      <td>26.5</td>\n",
              "      <td>31.1</td>\n",
              "      <td>12.3778</td>\n",
              "      <td>4.6961</td>\n",
              "    </tr>\n",
              "    <tr>\n",
              "      <th>3</th>\n",
              "      <td>Bream</td>\n",
              "      <td>363.0</td>\n",
              "      <td>29.0</td>\n",
              "      <td>33.5</td>\n",
              "      <td>12.7300</td>\n",
              "      <td>4.4555</td>\n",
              "    </tr>\n",
              "    <tr>\n",
              "      <th>4</th>\n",
              "      <td>Bream</td>\n",
              "      <td>430.0</td>\n",
              "      <td>29.0</td>\n",
              "      <td>34.0</td>\n",
              "      <td>12.4440</td>\n",
              "      <td>5.1340</td>\n",
              "    </tr>\n",
              "  </tbody>\n",
              "</table>\n",
              "</div>"
            ],
            "text/plain": [
              "  Species  Weight  Length  Diagonal   Height   Width\n",
              "0   Bream   242.0    25.4      30.0  11.5200  4.0200\n",
              "1   Bream   290.0    26.3      31.2  12.4800  4.3056\n",
              "2   Bream   340.0    26.5      31.1  12.3778  4.6961\n",
              "3   Bream   363.0    29.0      33.5  12.7300  4.4555\n",
              "4   Bream   430.0    29.0      34.0  12.4440  5.1340"
            ]
          },
          "execution_count": 112,
          "metadata": {},
          "output_type": "execute_result"
        }
      ],
      "source": [
        "fish.head()"
      ]
    },
    {
      "cell_type": "code",
      "execution_count": 113,
      "metadata": {
        "colab": {
          "base_uri": "https://localhost:8080/"
        },
        "id": "qAV4NYKfEmuF",
        "outputId": "51d0eac8-8d29-4e22-f1e8-ae3afdf7fd32"
      },
      "outputs": [
        {
          "name": "stdout",
          "output_type": "stream",
          "text": [
            "<class 'pandas.core.frame.DataFrame'>\n",
            "RangeIndex: 159 entries, 0 to 158\n",
            "Data columns (total 6 columns):\n",
            " #   Column    Non-Null Count  Dtype  \n",
            "---  ------    --------------  -----  \n",
            " 0   Species   159 non-null    object \n",
            " 1   Weight    159 non-null    float64\n",
            " 2   Length    159 non-null    float64\n",
            " 3   Diagonal  159 non-null    float64\n",
            " 4   Height    159 non-null    float64\n",
            " 5   Width     159 non-null    float64\n",
            "dtypes: float64(5), object(1)\n",
            "memory usage: 7.6+ KB\n"
          ]
        }
      ],
      "source": [
        "fish.info()"
      ]
    },
    {
      "cell_type": "code",
      "execution_count": 114,
      "metadata": {},
      "outputs": [
        {
          "data": {
            "text/html": [
              "<div>\n",
              "<style scoped>\n",
              "    .dataframe tbody tr th:only-of-type {\n",
              "        vertical-align: middle;\n",
              "    }\n",
              "\n",
              "    .dataframe tbody tr th {\n",
              "        vertical-align: top;\n",
              "    }\n",
              "\n",
              "    .dataframe thead th {\n",
              "        text-align: right;\n",
              "    }\n",
              "</style>\n",
              "<table border=\"1\" class=\"dataframe\">\n",
              "  <thead>\n",
              "    <tr style=\"text-align: right;\">\n",
              "      <th></th>\n",
              "      <th>Species</th>\n",
              "      <th>Weight</th>\n",
              "      <th>Length</th>\n",
              "      <th>Diagonal</th>\n",
              "      <th>Height</th>\n",
              "      <th>Width</th>\n",
              "    </tr>\n",
              "  </thead>\n",
              "  <tbody>\n",
              "    <tr>\n",
              "      <th>0</th>\n",
              "      <td>Bream</td>\n",
              "      <td>242.0</td>\n",
              "      <td>25.4</td>\n",
              "      <td>30.0</td>\n",
              "      <td>11.5200</td>\n",
              "      <td>4.0200</td>\n",
              "    </tr>\n",
              "    <tr>\n",
              "      <th>1</th>\n",
              "      <td>Bream</td>\n",
              "      <td>290.0</td>\n",
              "      <td>26.3</td>\n",
              "      <td>31.2</td>\n",
              "      <td>12.4800</td>\n",
              "      <td>4.3056</td>\n",
              "    </tr>\n",
              "    <tr>\n",
              "      <th>2</th>\n",
              "      <td>Bream</td>\n",
              "      <td>340.0</td>\n",
              "      <td>26.5</td>\n",
              "      <td>31.1</td>\n",
              "      <td>12.3778</td>\n",
              "      <td>4.6961</td>\n",
              "    </tr>\n",
              "    <tr>\n",
              "      <th>3</th>\n",
              "      <td>Bream</td>\n",
              "      <td>363.0</td>\n",
              "      <td>29.0</td>\n",
              "      <td>33.5</td>\n",
              "      <td>12.7300</td>\n",
              "      <td>4.4555</td>\n",
              "    </tr>\n",
              "    <tr>\n",
              "      <th>4</th>\n",
              "      <td>Bream</td>\n",
              "      <td>430.0</td>\n",
              "      <td>29.0</td>\n",
              "      <td>34.0</td>\n",
              "      <td>12.4440</td>\n",
              "      <td>5.1340</td>\n",
              "    </tr>\n",
              "    <tr>\n",
              "      <th>...</th>\n",
              "      <td>...</td>\n",
              "      <td>...</td>\n",
              "      <td>...</td>\n",
              "      <td>...</td>\n",
              "      <td>...</td>\n",
              "      <td>...</td>\n",
              "    </tr>\n",
              "    <tr>\n",
              "      <th>154</th>\n",
              "      <td>Smelt</td>\n",
              "      <td>12.2</td>\n",
              "      <td>12.2</td>\n",
              "      <td>13.4</td>\n",
              "      <td>2.0904</td>\n",
              "      <td>1.3936</td>\n",
              "    </tr>\n",
              "    <tr>\n",
              "      <th>155</th>\n",
              "      <td>Smelt</td>\n",
              "      <td>13.4</td>\n",
              "      <td>12.4</td>\n",
              "      <td>13.5</td>\n",
              "      <td>2.4300</td>\n",
              "      <td>1.2690</td>\n",
              "    </tr>\n",
              "    <tr>\n",
              "      <th>156</th>\n",
              "      <td>Smelt</td>\n",
              "      <td>12.2</td>\n",
              "      <td>13.0</td>\n",
              "      <td>13.8</td>\n",
              "      <td>2.2770</td>\n",
              "      <td>1.2558</td>\n",
              "    </tr>\n",
              "    <tr>\n",
              "      <th>157</th>\n",
              "      <td>Smelt</td>\n",
              "      <td>19.7</td>\n",
              "      <td>14.3</td>\n",
              "      <td>15.2</td>\n",
              "      <td>2.8728</td>\n",
              "      <td>2.0672</td>\n",
              "    </tr>\n",
              "    <tr>\n",
              "      <th>158</th>\n",
              "      <td>Smelt</td>\n",
              "      <td>19.9</td>\n",
              "      <td>15.0</td>\n",
              "      <td>16.2</td>\n",
              "      <td>2.9322</td>\n",
              "      <td>1.8792</td>\n",
              "    </tr>\n",
              "  </tbody>\n",
              "</table>\n",
              "<p>159 rows × 6 columns</p>\n",
              "</div>"
            ],
            "text/plain": [
              "    Species  Weight  Length  Diagonal   Height   Width\n",
              "0     Bream   242.0    25.4      30.0  11.5200  4.0200\n",
              "1     Bream   290.0    26.3      31.2  12.4800  4.3056\n",
              "2     Bream   340.0    26.5      31.1  12.3778  4.6961\n",
              "3     Bream   363.0    29.0      33.5  12.7300  4.4555\n",
              "4     Bream   430.0    29.0      34.0  12.4440  5.1340\n",
              "..      ...     ...     ...       ...      ...     ...\n",
              "154   Smelt    12.2    12.2      13.4   2.0904  1.3936\n",
              "155   Smelt    13.4    12.4      13.5   2.4300  1.2690\n",
              "156   Smelt    12.2    13.0      13.8   2.2770  1.2558\n",
              "157   Smelt    19.7    14.3      15.2   2.8728  2.0672\n",
              "158   Smelt    19.9    15.0      16.2   2.9322  1.8792\n",
              "\n",
              "[159 rows x 6 columns]"
            ]
          },
          "execution_count": 114,
          "metadata": {},
          "output_type": "execute_result"
        }
      ],
      "source": [
        "fish"
      ]
    },
    {
      "cell_type": "code",
      "execution_count": 210,
      "metadata": {
        "id": "19Op6NT6EsgW"
      },
      "outputs": [
        {
          "data": {
            "text/html": [
              "<div>\n",
              "<style scoped>\n",
              "    .dataframe tbody tr th:only-of-type {\n",
              "        vertical-align: middle;\n",
              "    }\n",
              "\n",
              "    .dataframe tbody tr th {\n",
              "        vertical-align: top;\n",
              "    }\n",
              "\n",
              "    .dataframe thead th {\n",
              "        text-align: right;\n",
              "    }\n",
              "</style>\n",
              "<table border=\"1\" class=\"dataframe\">\n",
              "  <thead>\n",
              "    <tr style=\"text-align: right;\">\n",
              "      <th></th>\n",
              "      <th>Species</th>\n",
              "      <th>Weight</th>\n",
              "      <th>Length</th>\n",
              "    </tr>\n",
              "  </thead>\n",
              "  <tbody>\n",
              "    <tr>\n",
              "      <th>0</th>\n",
              "      <td>Bream</td>\n",
              "      <td>242.0</td>\n",
              "      <td>25.4</td>\n",
              "    </tr>\n",
              "    <tr>\n",
              "      <th>1</th>\n",
              "      <td>Bream</td>\n",
              "      <td>290.0</td>\n",
              "      <td>26.3</td>\n",
              "    </tr>\n",
              "    <tr>\n",
              "      <th>2</th>\n",
              "      <td>Bream</td>\n",
              "      <td>340.0</td>\n",
              "      <td>26.5</td>\n",
              "    </tr>\n",
              "    <tr>\n",
              "      <th>3</th>\n",
              "      <td>Bream</td>\n",
              "      <td>363.0</td>\n",
              "      <td>29.0</td>\n",
              "    </tr>\n",
              "    <tr>\n",
              "      <th>4</th>\n",
              "      <td>Bream</td>\n",
              "      <td>430.0</td>\n",
              "      <td>29.0</td>\n",
              "    </tr>\n",
              "    <tr>\n",
              "      <th>5</th>\n",
              "      <td>Bream</td>\n",
              "      <td>450.0</td>\n",
              "      <td>29.7</td>\n",
              "    </tr>\n",
              "    <tr>\n",
              "      <th>6</th>\n",
              "      <td>Bream</td>\n",
              "      <td>500.0</td>\n",
              "      <td>29.7</td>\n",
              "    </tr>\n",
              "    <tr>\n",
              "      <th>7</th>\n",
              "      <td>Bream</td>\n",
              "      <td>390.0</td>\n",
              "      <td>30.0</td>\n",
              "    </tr>\n",
              "    <tr>\n",
              "      <th>8</th>\n",
              "      <td>Bream</td>\n",
              "      <td>450.0</td>\n",
              "      <td>30.0</td>\n",
              "    </tr>\n",
              "    <tr>\n",
              "      <th>9</th>\n",
              "      <td>Bream</td>\n",
              "      <td>500.0</td>\n",
              "      <td>30.7</td>\n",
              "    </tr>\n",
              "    <tr>\n",
              "      <th>10</th>\n",
              "      <td>Bream</td>\n",
              "      <td>475.0</td>\n",
              "      <td>31.0</td>\n",
              "    </tr>\n",
              "    <tr>\n",
              "      <th>11</th>\n",
              "      <td>Bream</td>\n",
              "      <td>500.0</td>\n",
              "      <td>31.0</td>\n",
              "    </tr>\n",
              "    <tr>\n",
              "      <th>12</th>\n",
              "      <td>Bream</td>\n",
              "      <td>500.0</td>\n",
              "      <td>31.5</td>\n",
              "    </tr>\n",
              "    <tr>\n",
              "      <th>13</th>\n",
              "      <td>Bream</td>\n",
              "      <td>340.0</td>\n",
              "      <td>32.0</td>\n",
              "    </tr>\n",
              "    <tr>\n",
              "      <th>14</th>\n",
              "      <td>Bream</td>\n",
              "      <td>600.0</td>\n",
              "      <td>32.0</td>\n",
              "    </tr>\n",
              "    <tr>\n",
              "      <th>15</th>\n",
              "      <td>Bream</td>\n",
              "      <td>600.0</td>\n",
              "      <td>32.0</td>\n",
              "    </tr>\n",
              "    <tr>\n",
              "      <th>16</th>\n",
              "      <td>Bream</td>\n",
              "      <td>700.0</td>\n",
              "      <td>33.0</td>\n",
              "    </tr>\n",
              "    <tr>\n",
              "      <th>17</th>\n",
              "      <td>Bream</td>\n",
              "      <td>700.0</td>\n",
              "      <td>33.0</td>\n",
              "    </tr>\n",
              "    <tr>\n",
              "      <th>18</th>\n",
              "      <td>Bream</td>\n",
              "      <td>610.0</td>\n",
              "      <td>33.5</td>\n",
              "    </tr>\n",
              "    <tr>\n",
              "      <th>19</th>\n",
              "      <td>Bream</td>\n",
              "      <td>650.0</td>\n",
              "      <td>33.5</td>\n",
              "    </tr>\n",
              "    <tr>\n",
              "      <th>20</th>\n",
              "      <td>Bream</td>\n",
              "      <td>575.0</td>\n",
              "      <td>34.0</td>\n",
              "    </tr>\n",
              "    <tr>\n",
              "      <th>21</th>\n",
              "      <td>Bream</td>\n",
              "      <td>685.0</td>\n",
              "      <td>34.0</td>\n",
              "    </tr>\n",
              "    <tr>\n",
              "      <th>22</th>\n",
              "      <td>Bream</td>\n",
              "      <td>620.0</td>\n",
              "      <td>34.5</td>\n",
              "    </tr>\n",
              "    <tr>\n",
              "      <th>23</th>\n",
              "      <td>Bream</td>\n",
              "      <td>680.0</td>\n",
              "      <td>35.0</td>\n",
              "    </tr>\n",
              "    <tr>\n",
              "      <th>24</th>\n",
              "      <td>Bream</td>\n",
              "      <td>700.0</td>\n",
              "      <td>35.0</td>\n",
              "    </tr>\n",
              "    <tr>\n",
              "      <th>25</th>\n",
              "      <td>Bream</td>\n",
              "      <td>725.0</td>\n",
              "      <td>35.0</td>\n",
              "    </tr>\n",
              "    <tr>\n",
              "      <th>26</th>\n",
              "      <td>Bream</td>\n",
              "      <td>720.0</td>\n",
              "      <td>35.0</td>\n",
              "    </tr>\n",
              "    <tr>\n",
              "      <th>27</th>\n",
              "      <td>Bream</td>\n",
              "      <td>714.0</td>\n",
              "      <td>36.0</td>\n",
              "    </tr>\n",
              "    <tr>\n",
              "      <th>28</th>\n",
              "      <td>Bream</td>\n",
              "      <td>850.0</td>\n",
              "      <td>36.0</td>\n",
              "    </tr>\n",
              "    <tr>\n",
              "      <th>29</th>\n",
              "      <td>Bream</td>\n",
              "      <td>1000.0</td>\n",
              "      <td>37.0</td>\n",
              "    </tr>\n",
              "    <tr>\n",
              "      <th>30</th>\n",
              "      <td>Bream</td>\n",
              "      <td>920.0</td>\n",
              "      <td>38.5</td>\n",
              "    </tr>\n",
              "    <tr>\n",
              "      <th>31</th>\n",
              "      <td>Bream</td>\n",
              "      <td>955.0</td>\n",
              "      <td>38.5</td>\n",
              "    </tr>\n",
              "    <tr>\n",
              "      <th>32</th>\n",
              "      <td>Bream</td>\n",
              "      <td>925.0</td>\n",
              "      <td>39.5</td>\n",
              "    </tr>\n",
              "    <tr>\n",
              "      <th>33</th>\n",
              "      <td>Bream</td>\n",
              "      <td>975.0</td>\n",
              "      <td>41.0</td>\n",
              "    </tr>\n",
              "    <tr>\n",
              "      <th>34</th>\n",
              "      <td>Bream</td>\n",
              "      <td>950.0</td>\n",
              "      <td>41.0</td>\n",
              "    </tr>\n",
              "    <tr>\n",
              "      <th>145</th>\n",
              "      <td>Smelt</td>\n",
              "      <td>6.7</td>\n",
              "      <td>9.8</td>\n",
              "    </tr>\n",
              "    <tr>\n",
              "      <th>146</th>\n",
              "      <td>Smelt</td>\n",
              "      <td>7.5</td>\n",
              "      <td>10.5</td>\n",
              "    </tr>\n",
              "    <tr>\n",
              "      <th>147</th>\n",
              "      <td>Smelt</td>\n",
              "      <td>7.0</td>\n",
              "      <td>10.6</td>\n",
              "    </tr>\n",
              "    <tr>\n",
              "      <th>148</th>\n",
              "      <td>Smelt</td>\n",
              "      <td>9.7</td>\n",
              "      <td>11.0</td>\n",
              "    </tr>\n",
              "    <tr>\n",
              "      <th>149</th>\n",
              "      <td>Smelt</td>\n",
              "      <td>9.8</td>\n",
              "      <td>11.2</td>\n",
              "    </tr>\n",
              "    <tr>\n",
              "      <th>150</th>\n",
              "      <td>Smelt</td>\n",
              "      <td>8.7</td>\n",
              "      <td>11.3</td>\n",
              "    </tr>\n",
              "    <tr>\n",
              "      <th>151</th>\n",
              "      <td>Smelt</td>\n",
              "      <td>10.0</td>\n",
              "      <td>11.8</td>\n",
              "    </tr>\n",
              "    <tr>\n",
              "      <th>152</th>\n",
              "      <td>Smelt</td>\n",
              "      <td>9.9</td>\n",
              "      <td>11.8</td>\n",
              "    </tr>\n",
              "    <tr>\n",
              "      <th>153</th>\n",
              "      <td>Smelt</td>\n",
              "      <td>9.8</td>\n",
              "      <td>12.0</td>\n",
              "    </tr>\n",
              "    <tr>\n",
              "      <th>154</th>\n",
              "      <td>Smelt</td>\n",
              "      <td>12.2</td>\n",
              "      <td>12.2</td>\n",
              "    </tr>\n",
              "    <tr>\n",
              "      <th>155</th>\n",
              "      <td>Smelt</td>\n",
              "      <td>13.4</td>\n",
              "      <td>12.4</td>\n",
              "    </tr>\n",
              "    <tr>\n",
              "      <th>156</th>\n",
              "      <td>Smelt</td>\n",
              "      <td>12.2</td>\n",
              "      <td>13.0</td>\n",
              "    </tr>\n",
              "    <tr>\n",
              "      <th>157</th>\n",
              "      <td>Smelt</td>\n",
              "      <td>19.7</td>\n",
              "      <td>14.3</td>\n",
              "    </tr>\n",
              "    <tr>\n",
              "      <th>158</th>\n",
              "      <td>Smelt</td>\n",
              "      <td>19.9</td>\n",
              "      <td>15.0</td>\n",
              "    </tr>\n",
              "  </tbody>\n",
              "</table>\n",
              "</div>"
            ],
            "text/plain": [
              "    Species  Weight  Length\n",
              "0     Bream   242.0    25.4\n",
              "1     Bream   290.0    26.3\n",
              "2     Bream   340.0    26.5\n",
              "3     Bream   363.0    29.0\n",
              "4     Bream   430.0    29.0\n",
              "5     Bream   450.0    29.7\n",
              "6     Bream   500.0    29.7\n",
              "7     Bream   390.0    30.0\n",
              "8     Bream   450.0    30.0\n",
              "9     Bream   500.0    30.7\n",
              "10    Bream   475.0    31.0\n",
              "11    Bream   500.0    31.0\n",
              "12    Bream   500.0    31.5\n",
              "13    Bream   340.0    32.0\n",
              "14    Bream   600.0    32.0\n",
              "15    Bream   600.0    32.0\n",
              "16    Bream   700.0    33.0\n",
              "17    Bream   700.0    33.0\n",
              "18    Bream   610.0    33.5\n",
              "19    Bream   650.0    33.5\n",
              "20    Bream   575.0    34.0\n",
              "21    Bream   685.0    34.0\n",
              "22    Bream   620.0    34.5\n",
              "23    Bream   680.0    35.0\n",
              "24    Bream   700.0    35.0\n",
              "25    Bream   725.0    35.0\n",
              "26    Bream   720.0    35.0\n",
              "27    Bream   714.0    36.0\n",
              "28    Bream   850.0    36.0\n",
              "29    Bream  1000.0    37.0\n",
              "30    Bream   920.0    38.5\n",
              "31    Bream   955.0    38.5\n",
              "32    Bream   925.0    39.5\n",
              "33    Bream   975.0    41.0\n",
              "34    Bream   950.0    41.0\n",
              "145   Smelt     6.7     9.8\n",
              "146   Smelt     7.5    10.5\n",
              "147   Smelt     7.0    10.6\n",
              "148   Smelt     9.7    11.0\n",
              "149   Smelt     9.8    11.2\n",
              "150   Smelt     8.7    11.3\n",
              "151   Smelt    10.0    11.8\n",
              "152   Smelt     9.9    11.8\n",
              "153   Smelt     9.8    12.0\n",
              "154   Smelt    12.2    12.2\n",
              "155   Smelt    13.4    12.4\n",
              "156   Smelt    12.2    13.0\n",
              "157   Smelt    19.7    14.3\n",
              "158   Smelt    19.9    15.0"
            ]
          },
          "execution_count": 210,
          "metadata": {},
          "output_type": "execute_result"
        }
      ],
      "source": [
        "df = fish.loc[fish['Species'].isin(['Bream', 'Smelt']), \n",
        "              ['Species', 'Weight', 'Length']]\n",
        "df"
      ]
    },
    {
      "cell_type": "code",
      "execution_count": 116,
      "metadata": {
        "colab": {
          "base_uri": "https://localhost:8080/",
          "height": 206
        },
        "id": "gmtMHYV-FPhn",
        "outputId": "d534dba9-9898-4618-bb55-6c3de276e4de"
      },
      "outputs": [
        {
          "data": {
            "text/html": [
              "<div>\n",
              "<style scoped>\n",
              "    .dataframe tbody tr th:only-of-type {\n",
              "        vertical-align: middle;\n",
              "    }\n",
              "\n",
              "    .dataframe tbody tr th {\n",
              "        vertical-align: top;\n",
              "    }\n",
              "\n",
              "    .dataframe thead th {\n",
              "        text-align: right;\n",
              "    }\n",
              "</style>\n",
              "<table border=\"1\" class=\"dataframe\">\n",
              "  <thead>\n",
              "    <tr style=\"text-align: right;\">\n",
              "      <th></th>\n",
              "      <th>Species</th>\n",
              "      <th>Weight</th>\n",
              "      <th>Length</th>\n",
              "    </tr>\n",
              "  </thead>\n",
              "  <tbody>\n",
              "    <tr>\n",
              "      <th>0</th>\n",
              "      <td>Bream</td>\n",
              "      <td>242.0</td>\n",
              "      <td>25.4</td>\n",
              "    </tr>\n",
              "    <tr>\n",
              "      <th>1</th>\n",
              "      <td>Bream</td>\n",
              "      <td>290.0</td>\n",
              "      <td>26.3</td>\n",
              "    </tr>\n",
              "    <tr>\n",
              "      <th>2</th>\n",
              "      <td>Bream</td>\n",
              "      <td>340.0</td>\n",
              "      <td>26.5</td>\n",
              "    </tr>\n",
              "    <tr>\n",
              "      <th>3</th>\n",
              "      <td>Bream</td>\n",
              "      <td>363.0</td>\n",
              "      <td>29.0</td>\n",
              "    </tr>\n",
              "    <tr>\n",
              "      <th>4</th>\n",
              "      <td>Bream</td>\n",
              "      <td>430.0</td>\n",
              "      <td>29.0</td>\n",
              "    </tr>\n",
              "  </tbody>\n",
              "</table>\n",
              "</div>"
            ],
            "text/plain": [
              "  Species  Weight  Length\n",
              "0   Bream   242.0    25.4\n",
              "1   Bream   290.0    26.3\n",
              "2   Bream   340.0    26.5\n",
              "3   Bream   363.0    29.0\n",
              "4   Bream   430.0    29.0"
            ]
          },
          "execution_count": 116,
          "metadata": {},
          "output_type": "execute_result"
        }
      ],
      "source": [
        "df.head()"
      ]
    },
    {
      "cell_type": "code",
      "execution_count": 117,
      "metadata": {
        "id": "newtZ0ovFQXG"
      },
      "outputs": [],
      "source": [
        "# DataFrame을 특성과 타겟으로 분리하고 ndarray(배열)로 변환.\n",
        "features = df.iloc[:, 1:].values\n",
        "target = df['Species'].values"
      ]
    },
    {
      "cell_type": "code",
      "execution_count": 118,
      "metadata": {},
      "outputs": [
        {
          "data": {
            "text/plain": [
              "array([[ 242. ,   25.4],\n",
              "       [ 290. ,   26.3],\n",
              "       [ 340. ,   26.5],\n",
              "       [ 363. ,   29. ],\n",
              "       [ 430. ,   29. ],\n",
              "       [ 450. ,   29.7],\n",
              "       [ 500. ,   29.7],\n",
              "       [ 390. ,   30. ],\n",
              "       [ 450. ,   30. ],\n",
              "       [ 500. ,   30.7],\n",
              "       [ 475. ,   31. ],\n",
              "       [ 500. ,   31. ],\n",
              "       [ 500. ,   31.5],\n",
              "       [ 340. ,   32. ],\n",
              "       [ 600. ,   32. ],\n",
              "       [ 600. ,   32. ],\n",
              "       [ 700. ,   33. ],\n",
              "       [ 700. ,   33. ],\n",
              "       [ 610. ,   33.5],\n",
              "       [ 650. ,   33.5],\n",
              "       [ 575. ,   34. ],\n",
              "       [ 685. ,   34. ],\n",
              "       [ 620. ,   34.5],\n",
              "       [ 680. ,   35. ],\n",
              "       [ 700. ,   35. ],\n",
              "       [ 725. ,   35. ],\n",
              "       [ 720. ,   35. ],\n",
              "       [ 714. ,   36. ],\n",
              "       [ 850. ,   36. ],\n",
              "       [1000. ,   37. ],\n",
              "       [ 920. ,   38.5],\n",
              "       [ 955. ,   38.5],\n",
              "       [ 925. ,   39.5],\n",
              "       [ 975. ,   41. ],\n",
              "       [ 950. ,   41. ],\n",
              "       [   6.7,    9.8],\n",
              "       [   7.5,   10.5],\n",
              "       [   7. ,   10.6],\n",
              "       [   9.7,   11. ],\n",
              "       [   9.8,   11.2],\n",
              "       [   8.7,   11.3],\n",
              "       [  10. ,   11.8],\n",
              "       [   9.9,   11.8],\n",
              "       [   9.8,   12. ],\n",
              "       [  12.2,   12.2],\n",
              "       [  13.4,   12.4],\n",
              "       [  12.2,   13. ],\n",
              "       [  19.7,   14.3],\n",
              "       [  19.9,   15. ]])"
            ]
          },
          "execution_count": 118,
          "metadata": {},
          "output_type": "execute_result"
        }
      ],
      "source": [
        "features"
      ]
    },
    {
      "cell_type": "code",
      "execution_count": 119,
      "metadata": {
        "colab": {
          "base_uri": "https://localhost:8080/"
        },
        "id": "cfjnlA7DF_v3",
        "outputId": "5fc9847d-233f-4f52-fea5-4904e875bb16"
      },
      "outputs": [
        {
          "data": {
            "text/plain": [
              "(49, 2)"
            ]
          },
          "execution_count": 119,
          "metadata": {},
          "output_type": "execute_result"
        }
      ],
      "source": [
        "features.shape  # (n_samples, n_features)"
      ]
    },
    {
      "cell_type": "code",
      "execution_count": 120,
      "metadata": {},
      "outputs": [
        {
          "data": {
            "text/plain": [
              "array(['Bream', 'Bream', 'Bream', 'Bream', 'Bream', 'Bream', 'Bream',\n",
              "       'Bream', 'Bream', 'Bream', 'Bream', 'Bream', 'Bream', 'Bream',\n",
              "       'Bream', 'Bream', 'Bream', 'Bream', 'Bream', 'Bream', 'Bream',\n",
              "       'Bream', 'Bream', 'Bream', 'Bream', 'Bream', 'Bream', 'Bream',\n",
              "       'Bream', 'Bream', 'Bream', 'Bream', 'Bream', 'Bream', 'Bream',\n",
              "       'Smelt', 'Smelt', 'Smelt', 'Smelt', 'Smelt', 'Smelt', 'Smelt',\n",
              "       'Smelt', 'Smelt', 'Smelt', 'Smelt', 'Smelt', 'Smelt', 'Smelt'],\n",
              "      dtype=object)"
            ]
          },
          "execution_count": 120,
          "metadata": {},
          "output_type": "execute_result"
        }
      ],
      "source": [
        "target"
      ]
    },
    {
      "cell_type": "code",
      "execution_count": 121,
      "metadata": {
        "colab": {
          "base_uri": "https://localhost:8080/"
        },
        "id": "sQCQ-8-wGCbW",
        "outputId": "93d8d713-7deb-4613-81c9-1ff1c34fef07"
      },
      "outputs": [
        {
          "data": {
            "text/plain": [
              "(49,)"
            ]
          },
          "execution_count": 121,
          "metadata": {},
          "output_type": "execute_result"
        }
      ],
      "source": [
        "target.shape  # (n_smaples,)"
      ]
    },
    {
      "cell_type": "code",
      "execution_count": 122,
      "metadata": {},
      "outputs": [
        {
          "name": "stdout",
          "output_type": "stream",
          "text": [
            "(49, 2)\n",
            "(49,)\n"
          ]
        }
      ],
      "source": [
        "print(features.shape)\n",
        "print(target.shape)"
      ]
    },
    {
      "cell_type": "code",
      "execution_count": 123,
      "metadata": {
        "colab": {
          "base_uri": "https://localhost:8080/"
        },
        "id": "9psFAk9_GIlV",
        "outputId": "bea76bee-4e1a-4edd-b7b3-dacef2d47d88"
      },
      "outputs": [
        {
          "data": {
            "text/plain": [
              "array([[242. ,  25.4],\n",
              "       [290. ,  26.3],\n",
              "       [340. ,  26.5],\n",
              "       [363. ,  29. ],\n",
              "       [430. ,  29. ]])"
            ]
          },
          "execution_count": 123,
          "metadata": {},
          "output_type": "execute_result"
        }
      ],
      "source": [
        "features[:5, :]"
      ]
    },
    {
      "cell_type": "code",
      "execution_count": 124,
      "metadata": {
        "colab": {
          "base_uri": "https://localhost:8080/"
        },
        "id": "p4CWI8mbGfXX",
        "outputId": "627a4890-f5ba-47d1-91df-ac2bec5e08a4"
      },
      "outputs": [
        {
          "data": {
            "text/plain": [
              "array(['Bream', 'Bream', 'Bream', 'Bream', 'Bream'], dtype=object)"
            ]
          },
          "execution_count": 124,
          "metadata": {},
          "output_type": "execute_result"
        }
      ],
      "source": [
        "target[:5]"
      ]
    },
    {
      "cell_type": "code",
      "execution_count": 125,
      "metadata": {
        "colab": {
          "base_uri": "https://localhost:8080/"
        },
        "id": "NOwXZUgzGqrG",
        "outputId": "82daf455-d5fa-44fe-de03-b3b0851b94ce"
      },
      "outputs": [
        {
          "data": {
            "text/plain": [
              "(array(['Bream', 'Smelt'], dtype=object), array([35, 14], dtype=int64))"
            ]
          },
          "execution_count": 125,
          "metadata": {},
          "output_type": "execute_result"
        }
      ],
      "source": [
        "np.unique(target, return_counts=True)"
      ]
    },
    {
      "cell_type": "markdown",
      "metadata": {
        "id": "YkXXQE6-HVoR"
      },
      "source": [
        "# 훈련 셋, 테스트 셋 분리\n",
        "\n",
        "훈련 셋:테스트 셋 = 7:3"
      ]
    },
    {
      "cell_type": "markdown",
      "metadata": {
        "id": "4bN1tvtNHaFG"
      },
      "source": [
        "## 순차 추출(sequential sampling)"
      ]
    },
    {
      "cell_type": "code",
      "execution_count": 126,
      "metadata": {
        "colab": {
          "base_uri": "https://localhost:8080/"
        },
        "id": "3_0R2dOUG1sW",
        "outputId": "0e5bc995-2f10-4bba-d4fe-436e930385f2"
      },
      "outputs": [
        {
          "data": {
            "text/plain": [
              "(34.3, 14.7)"
            ]
          },
          "execution_count": 126,
          "metadata": {},
          "output_type": "execute_result"
        }
      ],
      "source": [
        "49 * 0.7, 49 * 0.3"
      ]
    },
    {
      "cell_type": "code",
      "execution_count": 127,
      "metadata": {
        "id": "UxaGl7PhIKmO"
      },
      "outputs": [],
      "source": [
        "num_test = 35  # 훈련 셋의 샘플 개수 -> 테스트 셋의 샘플 개수: 48 - 35 = 14"
      ]
    },
    {
      "cell_type": "code",
      "execution_count": 128,
      "metadata": {
        "id": "kfiCJyusIXUH"
      },
      "outputs": [],
      "source": [
        "X_train = features[:num_test, :]  # 훈련 셋\n",
        "y_train = target[:num_test]       # 훈련 레이블\n",
        "X_test = features[num_test:, :]   # 테스트 셋\n",
        "y_test = target[num_test:]        # 테스트 레이블"
      ]
    },
    {
      "cell_type": "code",
      "execution_count": 129,
      "metadata": {
        "colab": {
          "base_uri": "https://localhost:8080/"
        },
        "id": "wE6tfjy-JiEX",
        "outputId": "4e45b01e-81b8-4a69-b9d5-41a16e1c7052"
      },
      "outputs": [
        {
          "data": {
            "text/plain": [
              "array(['Bream'], dtype=object)"
            ]
          },
          "execution_count": 129,
          "metadata": {},
          "output_type": "execute_result"
        }
      ],
      "source": [
        "np.unique(y_train)\n",
        "#> 훈련 셋에는 물고기의 종류가 모두 도미(Bream)만 있음."
      ]
    },
    {
      "cell_type": "code",
      "execution_count": 130,
      "metadata": {
        "colab": {
          "base_uri": "https://localhost:8080/"
        },
        "id": "zjOc5TBOJlTO",
        "outputId": "5891605f-fc89-43b5-b2b3-2ad74fe8144f"
      },
      "outputs": [
        {
          "data": {
            "text/plain": [
              "array(['Smelt'], dtype=object)"
            ]
          },
          "execution_count": 130,
          "metadata": {},
          "output_type": "execute_result"
        }
      ],
      "source": [
        "np.unique(y_test)\n",
        "#> 테스트 셋에는 모두 빙어(Smelt)만 있음."
      ]
    },
    {
      "cell_type": "code",
      "execution_count": 131,
      "metadata": {
        "id": "wzoP-25yKc3G"
      },
      "outputs": [],
      "source": [
        "# train_test_split 함수를 사용한 순차 추출\n",
        "X_train, X_test, y_train, y_test = train_test_split(features, target, \n",
        "                                                    train_size=35,  # 훈련 셋의 샘플 개수\n",
        "                                                    shuffle=False)  # 샘플을 섞지 않음 -> 순차 추출"
      ]
    },
    {
      "cell_type": "code",
      "execution_count": 132,
      "metadata": {
        "colab": {
          "base_uri": "https://localhost:8080/"
        },
        "id": "ndDFn1tKNaWZ",
        "outputId": "270dc402-369e-4435-f108-57b82ec7a01e"
      },
      "outputs": [
        {
          "data": {
            "text/plain": [
              "((35, 2), (14, 2))"
            ]
          },
          "execution_count": 132,
          "metadata": {},
          "output_type": "execute_result"
        }
      ],
      "source": [
        "X_train.shape, X_test.shape"
      ]
    },
    {
      "cell_type": "code",
      "execution_count": 133,
      "metadata": {
        "colab": {
          "base_uri": "https://localhost:8080/"
        },
        "id": "bo-tdeFwNdZH",
        "outputId": "fb607f34-1d2c-4913-bb90-73bc7ac401a5"
      },
      "outputs": [
        {
          "data": {
            "text/plain": [
              "((35,), (14,))"
            ]
          },
          "execution_count": 133,
          "metadata": {},
          "output_type": "execute_result"
        }
      ],
      "source": [
        "y_train.shape, y_test.shape"
      ]
    },
    {
      "cell_type": "code",
      "execution_count": 134,
      "metadata": {
        "colab": {
          "base_uri": "https://localhost:8080/"
        },
        "id": "6EiFeW4KNoMO",
        "outputId": "4020f675-1996-44ea-d2ef-e825a76bc410"
      },
      "outputs": [
        {
          "data": {
            "text/plain": [
              "array(['Bream'], dtype=object)"
            ]
          },
          "execution_count": 134,
          "metadata": {},
          "output_type": "execute_result"
        }
      ],
      "source": [
        "np.unique(y_train)"
      ]
    },
    {
      "cell_type": "code",
      "execution_count": 135,
      "metadata": {
        "colab": {
          "base_uri": "https://localhost:8080/"
        },
        "id": "oYJgSsS1N1vH",
        "outputId": "30c6c929-d3aa-4cf9-eccb-d93f176aed64"
      },
      "outputs": [
        {
          "data": {
            "text/plain": [
              "array(['Smelt'], dtype=object)"
            ]
          },
          "execution_count": 135,
          "metadata": {},
          "output_type": "execute_result"
        }
      ],
      "source": [
        "np.unique(y_test)"
      ]
    },
    {
      "cell_type": "markdown",
      "metadata": {
        "id": "ITQRjfOSmIJs"
      },
      "source": [
        "훈련 셋과 테스트 셋 시각화"
      ]
    },
    {
      "cell_type": "code",
      "execution_count": 136,
      "metadata": {
        "colab": {
          "base_uri": "https://localhost:8080/",
          "height": 279
        },
        "id": "XCjF0m8LmNxL",
        "outputId": "28b4ce2b-111e-4a14-abbe-e339b7419f40"
      },
      "outputs": [
        {
          "data": {
            "image/png": "[encoded data removed]",
            "text/plain": [
              "<Figure size 432x288 with 1 Axes>"
            ]
          },
          "metadata": {
            "needs_background": "light"
          },
          "output_type": "display_data"
        }
      ],
      "source": [
        "plt.scatter(x=X_train[:, 1], y=X_train[:, 0], label='train')  # 훈련 셋\n",
        "plt.scatter(x=X_test[:, 1], y=X_test[:, 1], label='test')  # 테스트 셋\n",
        "\n",
        "plt.xlabel('Length (cm)')\n",
        "plt.ylabel('Weight (g)')\n",
        "plt.legend()\n",
        "plt.show()"
      ]
    },
    {
      "cell_type": "markdown",
      "metadata": {
        "id": "Oo-FC5rknZ-j"
      },
      "source": [
        "### KNN 분류기 훈련, 예측, 평가"
      ]
    },
    {
      "cell_type": "code",
      "execution_count": 137,
      "metadata": {
        "id": "4sQxA-VAmr_z"
      },
      "outputs": [],
      "source": [
        "knn = KNeighborsClassifier()  # 머신 러닝 모델 생성"
      ]
    },
    {
      "cell_type": "code",
      "execution_count": 138,
      "metadata": {
        "colab": {
          "base_uri": "https://localhost:8080/"
        },
        "id": "qDNlkJcSn9PK",
        "outputId": "fcff39f6-dd95-487a-b0c1-b387117baf4b"
      },
      "outputs": [
        {
          "data": {
            "text/plain": [
              "KNeighborsClassifier()"
            ]
          },
          "execution_count": 138,
          "metadata": {},
          "output_type": "execute_result"
        }
      ],
      "source": [
        "knn.fit(X_train, y_train)  # 머신 러닝 모델 훈련"
      ]
    },
    {
      "cell_type": "code",
      "execution_count": 139,
      "metadata": {
        "colab": {
          "base_uri": "https://localhost:8080/"
        },
        "id": "QpJGoegPobQ5",
        "outputId": "ee1d2c29-24ea-4978-b11e-b221052f7e62"
      },
      "outputs": [
        {
          "data": {
            "text/plain": [
              "array(['Bream', 'Bream', 'Bream', 'Bream', 'Bream', 'Bream', 'Bream',\n",
              "       'Bream', 'Bream', 'Bream', 'Bream', 'Bream', 'Bream', 'Bream',\n",
              "       'Bream', 'Bream', 'Bream', 'Bream', 'Bream', 'Bream', 'Bream',\n",
              "       'Bream', 'Bream', 'Bream', 'Bream', 'Bream', 'Bream', 'Bream',\n",
              "       'Bream', 'Bream', 'Bream', 'Bream', 'Bream', 'Bream', 'Bream'],\n",
              "      dtype=object)"
            ]
          },
          "execution_count": 139,
          "metadata": {},
          "output_type": "execute_result"
        }
      ],
      "source": [
        "# 훈련 셋에서의 예측 결과 평가\n",
        "train_pred = knn.predict(X_train)\n",
        "train_pred"
      ]
    },
    {
      "cell_type": "code",
      "execution_count": 140,
      "metadata": {
        "colab": {
          "base_uri": "https://localhost:8080/"
        },
        "id": "SGJ8SOF_o3Vq",
        "outputId": "3643a343-5b7f-4b83-83db-4aa990611f0e"
      },
      "outputs": [
        {
          "data": {
            "text/plain": [
              "array(['Bream', 'Bream', 'Bream', 'Bream', 'Bream', 'Bream', 'Bream',\n",
              "       'Bream', 'Bream', 'Bream', 'Bream', 'Bream', 'Bream', 'Bream',\n",
              "       'Bream', 'Bream', 'Bream', 'Bream', 'Bream', 'Bream', 'Bream',\n",
              "       'Bream', 'Bream', 'Bream', 'Bream', 'Bream', 'Bream', 'Bream',\n",
              "       'Bream', 'Bream', 'Bream', 'Bream', 'Bream', 'Bream', 'Bream'],\n",
              "      dtype=object)"
            ]
          },
          "execution_count": 140,
          "metadata": {},
          "output_type": "execute_result"
        }
      ],
      "source": [
        "# 훈련 셋의 실젯값(훈련 레이블)\n",
        "y_train"
      ]
    },
    {
      "cell_type": "code",
      "execution_count": 141,
      "metadata": {
        "colab": {
          "base_uri": "https://localhost:8080/"
        },
        "id": "xmq7U9L3pCk6",
        "outputId": "5c3a703e-8c8b-4411-b98f-b8d9db850630"
      },
      "outputs": [
        {
          "data": {
            "text/plain": [
              "1.0"
            ]
          },
          "execution_count": 141,
          "metadata": {},
          "output_type": "execute_result"
        }
      ],
      "source": [
        "# 훈련 셋 정확도\n",
        "train_acc = np.mean(train_pred == y_train)\n",
        "train_acc"
      ]
    },
    {
      "cell_type": "code",
      "execution_count": 142,
      "metadata": {
        "colab": {
          "base_uri": "https://localhost:8080/"
        },
        "id": "ctmfYfyppVAT",
        "outputId": "1ff422c3-b960-4e88-dc2d-531dcb1fb89b"
      },
      "outputs": [
        {
          "data": {
            "text/plain": [
              "array(['Bream', 'Bream', 'Bream', 'Bream', 'Bream', 'Bream', 'Bream',\n",
              "       'Bream', 'Bream', 'Bream', 'Bream', 'Bream', 'Bream', 'Bream'],\n",
              "      dtype=object)"
            ]
          },
          "execution_count": 142,
          "metadata": {},
          "output_type": "execute_result"
        }
      ],
      "source": [
        "# 테스트 셋에서의 예측 결과 평가\n",
        "test_pred = knn.predict(X_test)\n",
        "test_pred"
      ]
    },
    {
      "cell_type": "code",
      "execution_count": 143,
      "metadata": {
        "colab": {
          "base_uri": "https://localhost:8080/"
        },
        "id": "BkH1Ff5IqtyC",
        "outputId": "89eb627e-909b-43ef-a7ac-f06953d1beeb"
      },
      "outputs": [
        {
          "data": {
            "text/plain": [
              "array(['Smelt', 'Smelt', 'Smelt', 'Smelt', 'Smelt', 'Smelt', 'Smelt',\n",
              "       'Smelt', 'Smelt', 'Smelt', 'Smelt', 'Smelt', 'Smelt', 'Smelt'],\n",
              "      dtype=object)"
            ]
          },
          "execution_count": 143,
          "metadata": {},
          "output_type": "execute_result"
        }
      ],
      "source": [
        "# 테스트 셋의 실젯값(테스트 레이블)\n",
        "y_test"
      ]
    },
    {
      "cell_type": "code",
      "execution_count": 144,
      "metadata": {
        "colab": {
          "base_uri": "https://localhost:8080/"
        },
        "id": "BCDaJKWLq-9Z",
        "outputId": "53bfed31-4446-4b18-d12b-24683a633f6f"
      },
      "outputs": [
        {
          "data": {
            "text/plain": [
              "0.0"
            ]
          },
          "execution_count": 144,
          "metadata": {},
          "output_type": "execute_result"
        }
      ],
      "source": [
        "# 테스트 셋 정확도\n",
        "test_acc = np.mean(test_pred == y_test)\n",
        "test_acc"
      ]
    },
    {
      "cell_type": "markdown",
      "metadata": {
        "id": "2ADv4f5JwNMq"
      },
      "source": [
        "## 임의 추출(Random Sampling)"
      ]
    },
    {
      "cell_type": "code",
      "execution_count": 145,
      "metadata": {
        "colab": {
          "base_uri": "https://localhost:8080/"
        },
        "id": "sw0O_9UjrI-R",
        "outputId": "b20b5548-75d1-4def-fa54-478c6110923a"
      },
      "outputs": [
        {
          "name": "stdout",
          "output_type": "stream",
          "text": [
            "[ 0  1  2  3  4  5  6  7  8  9 10 11 12 13 14 15 16 17 18 19 20 21 22 23\n",
            " 24 25 26 27 28 29 30 31 32 33 34 35 36 37 38 39 40 41 42 43 44 45 46 47\n",
            " 48]\n",
            "[20 30  3 17 48 21 46 32 29 31 36  4 23  6 45 18  5 34 11 24 42 16  7 28\n",
            " 27 10 37 25 33  1 39 44 26  8  0 35 13 38 41 40 15  9 14  2 43 19 22 12\n",
            " 47]\n"
          ]
        }
      ],
      "source": [
        "idx = np.arange(49)\n",
        "print(idx)\n",
        "np.random.shuffle(idx)\n",
        "print(idx)"
      ]
    },
    {
      "cell_type": "code",
      "execution_count": 146,
      "metadata": {
        "id": "-_KXqZwcwgAR"
      },
      "outputs": [],
      "source": [
        "# 훈련 셋/테스트 셋을 임의 추출 방식으로 분리\n",
        "X_train, X_test, y_train, y_test = train_test_split(features, target,\n",
        "                                                    train_size=35,    # 훈련 셋의 크기(샘플 개수)\n",
        "                                                    shuffle=True,     # 데이터를 무작위로 섞음. 기본값 True.\n",
        "                                                    random_state=42)  # 난수 seed 설정"
      ]
    },
    {
      "cell_type": "code",
      "execution_count": 147,
      "metadata": {
        "colab": {
          "base_uri": "https://localhost:8080/"
        },
        "id": "gXpow1ZFxzrB",
        "outputId": "94216c59-d954-461d-f4d7-e7debc170791"
      },
      "outputs": [
        {
          "data": {
            "text/plain": [
              "((35, 2), (14, 2))"
            ]
          },
          "execution_count": 147,
          "metadata": {},
          "output_type": "execute_result"
        }
      ],
      "source": [
        "# 훈련 셋, 테스트 셋의 shape\n",
        "X_train.shape, X_test.shape"
      ]
    },
    {
      "cell_type": "code",
      "execution_count": 148,
      "metadata": {
        "colab": {
          "base_uri": "https://localhost:8080/"
        },
        "id": "7AFl5YsCx9Do",
        "outputId": "73f49fda-ff45-47b6-91d5-f0df93e6108c"
      },
      "outputs": [
        {
          "data": {
            "text/plain": [
              "((35,), (14,))"
            ]
          },
          "execution_count": 148,
          "metadata": {},
          "output_type": "execute_result"
        }
      ],
      "source": [
        "# 훈련 레이블, 테스트 레이블의 shape\n",
        "y_train.shape, y_test.shape"
      ]
    },
    {
      "cell_type": "code",
      "execution_count": 149,
      "metadata": {
        "colab": {
          "base_uri": "https://localhost:8080/"
        },
        "id": "EIZR27EJyHio",
        "outputId": "d7104040-ba87-40d6-ecec-92a3ab281cf7"
      },
      "outputs": [
        {
          "data": {
            "text/plain": [
              "(array(['Bream', 'Smelt'], dtype=object), array([24, 11], dtype=int64))"
            ]
          },
          "execution_count": 149,
          "metadata": {},
          "output_type": "execute_result"
        }
      ],
      "source": [
        "# 훈련 레이블에서 도미(Bream)/빙어(Smelt)의 빈도수\n",
        "np.unique(y_train, return_counts=True)"
      ]
    },
    {
      "cell_type": "code",
      "execution_count": 150,
      "metadata": {
        "colab": {
          "base_uri": "https://localhost:8080/"
        },
        "id": "1_Hf11FZyWki",
        "outputId": "ac228d34-9ea9-41f8-e5db-0643aff95522"
      },
      "outputs": [
        {
          "data": {
            "text/plain": [
              "(array(['Bream', 'Smelt'], dtype=object), array([11,  3], dtype=int64))"
            ]
          },
          "execution_count": 150,
          "metadata": {},
          "output_type": "execute_result"
        }
      ],
      "source": [
        "# 테스트 레이블에서 도미/빙어의 빈도수\n",
        "np.unique(y_test, return_counts=True)"
      ]
    },
    {
      "cell_type": "code",
      "execution_count": 151,
      "metadata": {
        "colab": {
          "base_uri": "https://localhost:8080/",
          "height": 279
        },
        "id": "_KD931iEymuA",
        "outputId": "d88e480e-fee0-4fc8-9687-c985c7bc9a01"
      },
      "outputs": [
        {
          "data": {
            "image/png": "[encoded data removed]",
            "text/plain": [
              "<Figure size 432x288 with 1 Axes>"
            ]
          },
          "metadata": {
            "needs_background": "light"
          },
          "output_type": "display_data"
        }
      ],
      "source": [
        "# 훈련 셋/테스트 셋 시각화\n",
        "plt.scatter(X_train[:, 1], X_train[:, 0], label='train')  # 훈련 셋 산점도\n",
        "plt.scatter(X_test[:, 1], X_test[:, 0], label='test')  # 테스트 셋 산점도\n",
        "\n",
        "plt.xlabel('Length (cm)')\n",
        "plt.ylabel('Weight (g)')\n",
        "plt.legend()\n",
        "plt.show()"
      ]
    },
    {
      "cell_type": "markdown",
      "metadata": {
        "id": "DX5lIu3S0uMb"
      },
      "source": [
        "### KNN 모델 훈련, 예측, 평가"
      ]
    },
    {
      "cell_type": "code",
      "execution_count": 152,
      "metadata": {
        "id": "i55SHl74zVBB"
      },
      "outputs": [],
      "source": [
        "knn = KNeighborsClassifier()  # 모델 생성"
      ]
    },
    {
      "cell_type": "code",
      "execution_count": 153,
      "metadata": {
        "colab": {
          "base_uri": "https://localhost:8080/"
        },
        "id": "xwhoMxy003kA",
        "outputId": "3c4e3479-d49c-4d27-e275-c9e2ba49fa55"
      },
      "outputs": [
        {
          "data": {
            "text/plain": [
              "KNeighborsClassifier()"
            ]
          },
          "execution_count": 153,
          "metadata": {},
          "output_type": "execute_result"
        }
      ],
      "source": [
        "knn.fit(X_train, y_train)  # 모델 훈련"
      ]
    },
    {
      "cell_type": "code",
      "execution_count": 154,
      "metadata": {
        "colab": {
          "base_uri": "https://localhost:8080/"
        },
        "id": "3P7-C161080w",
        "outputId": "3d154891-cb47-4a3c-ce4c-5b1958b3bb71"
      },
      "outputs": [
        {
          "name": "stdout",
          "output_type": "stream",
          "text": [
            "['Bream' 'Bream' 'Smelt' 'Smelt' 'Smelt' 'Bream' 'Bream' 'Bream' 'Bream'\n",
            " 'Bream' 'Bream' 'Bream' 'Smelt' 'Bream' 'Bream' 'Bream' 'Bream' 'Smelt'\n",
            " 'Bream' 'Bream' 'Bream' 'Smelt' 'Smelt' 'Bream' 'Smelt' 'Bream' 'Bream'\n",
            " 'Bream' 'Smelt' 'Bream' 'Bream' 'Smelt' 'Bream' 'Bream' 'Smelt']\n"
          ]
        }
      ],
      "source": [
        "train_pred = knn.predict(X_train)  # 훈련 셋 예측값\n",
        "print(train_pred)"
      ]
    },
    {
      "cell_type": "code",
      "execution_count": 155,
      "metadata": {
        "colab": {
          "base_uri": "https://localhost:8080/"
        },
        "id": "S20YkDC-1I_I",
        "outputId": "3f920c1b-d75d-49dc-e50e-d5810a37db5c"
      },
      "outputs": [
        {
          "name": "stdout",
          "output_type": "stream",
          "text": [
            "['Bream' 'Bream' 'Smelt' 'Smelt' 'Smelt' 'Bream' 'Bream' 'Bream' 'Bream'\n",
            " 'Bream' 'Bream' 'Bream' 'Smelt' 'Bream' 'Bream' 'Bream' 'Bream' 'Smelt'\n",
            " 'Bream' 'Bream' 'Bream' 'Smelt' 'Smelt' 'Bream' 'Smelt' 'Bream' 'Bream'\n",
            " 'Bream' 'Smelt' 'Bream' 'Bream' 'Smelt' 'Bream' 'Bream' 'Smelt']\n"
          ]
        }
      ],
      "source": [
        "print(y_train)  # 실젯값(훈련 셋 레이블)"
      ]
    },
    {
      "cell_type": "code",
      "execution_count": 156,
      "metadata": {
        "colab": {
          "base_uri": "https://localhost:8080/"
        },
        "id": "AAchB-WK1WBB",
        "outputId": "a2a64fd7-84b3-4410-c8f1-4eaf130d88e9"
      },
      "outputs": [
        {
          "data": {
            "text/plain": [
              "1.0"
            ]
          },
          "execution_count": 156,
          "metadata": {},
          "output_type": "execute_result"
        }
      ],
      "source": [
        "train_acc = knn.score(X_train, y_train)  # 훈련 셋 정확도\n",
        "train_acc"
      ]
    },
    {
      "cell_type": "code",
      "execution_count": 157,
      "metadata": {
        "colab": {
          "base_uri": "https://localhost:8080/"
        },
        "id": "CDsGDqAk1ymB",
        "outputId": "5f4a8c22-70f3-42c5-d0be-d183424ac1ef"
      },
      "outputs": [
        {
          "name": "stdout",
          "output_type": "stream",
          "text": [
            "['Bream' 'Smelt' 'Smelt' 'Smelt' 'Bream' 'Bream' 'Bream' 'Bream' 'Bream'\n",
            " 'Bream' 'Bream' 'Bream' 'Bream' 'Bream']\n"
          ]
        }
      ],
      "source": [
        "test_pred = knn.predict(X_test)  # 테스트 셋의 예측값\n",
        "print(test_pred)"
      ]
    },
    {
      "cell_type": "code",
      "execution_count": 158,
      "metadata": {
        "colab": {
          "base_uri": "https://localhost:8080/"
        },
        "id": "wb2gW95W2rUA",
        "outputId": "ebfebf03-89f0-4be7-cfa2-7de6eaf828fe"
      },
      "outputs": [
        {
          "name": "stdout",
          "output_type": "stream",
          "text": [
            "['Bream' 'Smelt' 'Smelt' 'Smelt' 'Bream' 'Bream' 'Bream' 'Bream' 'Bream'\n",
            " 'Bream' 'Bream' 'Bream' 'Bream' 'Bream']\n"
          ]
        }
      ],
      "source": [
        "print(y_test)  # 테스트 셋 실젯값(테스트 레이블)"
      ]
    },
    {
      "cell_type": "code",
      "execution_count": 159,
      "metadata": {
        "colab": {
          "base_uri": "https://localhost:8080/"
        },
        "id": "7Ew8-WhW3Er4",
        "outputId": "a6873076-260a-4b75-b54a-a722bbacc385"
      },
      "outputs": [
        {
          "data": {
            "text/plain": [
              "1.0"
            ]
          },
          "execution_count": 159,
          "metadata": {},
          "output_type": "execute_result"
        }
      ],
      "source": [
        "test_acc = knn.score(X_test, y_test)  # 테스트 셋 정확도\n",
        "test_acc"
      ]
    },
    {
      "cell_type": "markdown",
      "metadata": {
        "id": "1YQRdBNY7obo"
      },
      "source": [
        "## 층화 추출(Stratified Sampling)\n",
        "\n",
        "데이터 셋에서 각 클래스의 비율이 훈련 셋과 테스트 셋에서 비슷하게 유지되도록 샘플링을 하는 방법."
      ]
    },
    {
      "cell_type": "code",
      "execution_count": 160,
      "metadata": {
        "id": "uetFFP8K3Lvo"
      },
      "outputs": [],
      "source": [
        "X_train, X_test, y_train, y_test = train_test_split(features, target,\n",
        "                                                    test_size=0.3,\n",
        "                                                    stratify=target,\n",
        "                                                    random_state=42)"
      ]
    },
    {
      "cell_type": "markdown",
      "metadata": {
        "id": "t3shTEeX-QSf"
      },
      "source": [
        "`train_test_split` 함수 파라미터 설명\n",
        "* train_size: 훈련 셋의 개수(비율), test_size: 테스트 셋의 개수(비율)\n",
        "    * train_size 또는 test_size 중 하나만 값(argument)을 전달하면 다른 하나는 자동으로 계산됨.\n",
        "    * 정수로 값을 전달한 경우는 훈련(테스트) 셋의 샘플 개수를 의미.\n",
        "    * 0 ~ 1 사이의 실수로 값을 전달한 경우에는, 전체 샘플 중 훈련(테스트) 셋의 비율을 의미.\n",
        "* stratify: 층화 추출의 기준이 되는(각 클래스의 비율을 알 수 있는) 1차원 배열.\n",
        "* random_state: 난수 생성 seed 설정.\n",
        "* shuffle: 샘플들을 섞을 지 말 지를 결정. 기본값은 True."
      ]
    },
    {
      "cell_type": "code",
      "execution_count": 161,
      "metadata": {
        "colab": {
          "base_uri": "https://localhost:8080/"
        },
        "id": "JsNtr5wp9s1Y",
        "outputId": "99e6552d-d27c-4cdc-f65e-939a22a2f93b"
      },
      "outputs": [
        {
          "data": {
            "text/plain": [
              "((34, 2), (15, 2))"
            ]
          },
          "execution_count": 161,
          "metadata": {},
          "output_type": "execute_result"
        }
      ],
      "source": [
        "X_train.shape, X_test.shape  # 훈련 셋의 shape, 테스트 셋의 shape"
      ]
    },
    {
      "cell_type": "code",
      "execution_count": 162,
      "metadata": {
        "colab": {
          "base_uri": "https://localhost:8080/"
        },
        "id": "12dm-pm1_8zX",
        "outputId": "b5d70018-410d-45de-e8eb-ed1f69e8f6ab"
      },
      "outputs": [
        {
          "data": {
            "text/plain": [
              "((34,), (15,))"
            ]
          },
          "execution_count": 162,
          "metadata": {},
          "output_type": "execute_result"
        }
      ],
      "source": [
        "y_train.shape, y_test.shape  # 훈련 레이블의 shape, 테스트 셋의 label"
      ]
    },
    {
      "cell_type": "code",
      "execution_count": 163,
      "metadata": {
        "colab": {
          "base_uri": "https://localhost:8080/"
        },
        "id": "XH1UxZejAG3e",
        "outputId": "b9656425-7d1a-4410-96d4-bc234f585604"
      },
      "outputs": [
        {
          "data": {
            "text/plain": [
              "(array(['Bream', 'Smelt'], dtype=object), array([24, 10], dtype=int64))"
            ]
          },
          "execution_count": 163,
          "metadata": {},
          "output_type": "execute_result"
        }
      ],
      "source": [
        "# 훈련 셋에서 도미(Bream)/빙어(Smelt)의 빈도수\n",
        "np.unique(y_train, return_counts=True)"
      ]
    },
    {
      "cell_type": "code",
      "execution_count": 164,
      "metadata": {
        "colab": {
          "base_uri": "https://localhost:8080/"
        },
        "id": "nQU_HuPtAfVA",
        "outputId": "58dfc686-9a68-4de4-9c5d-8f1f5df18a0a"
      },
      "outputs": [
        {
          "data": {
            "text/plain": [
              "(0.7058823529411765, 0.29411764705882354)"
            ]
          },
          "execution_count": 164,
          "metadata": {},
          "output_type": "execute_result"
        }
      ],
      "source": [
        "24/34, 10/34"
      ]
    },
    {
      "cell_type": "code",
      "execution_count": 165,
      "metadata": {
        "colab": {
          "base_uri": "https://localhost:8080/"
        },
        "id": "g8JAGvE4ArOg",
        "outputId": "b81642ea-5cea-4bc6-bcc0-c875da9c9900"
      },
      "outputs": [
        {
          "data": {
            "text/plain": [
              "(array(['Bream', 'Smelt'], dtype=object), array([11,  4], dtype=int64))"
            ]
          },
          "execution_count": 165,
          "metadata": {},
          "output_type": "execute_result"
        }
      ],
      "source": [
        "# 테스트 셋에서 도미/빙어 빈도수\n",
        "np.unique(y_test, return_counts=True)"
      ]
    },
    {
      "cell_type": "code",
      "execution_count": 166,
      "metadata": {
        "colab": {
          "base_uri": "https://localhost:8080/"
        },
        "id": "fsquz0-_AyDP",
        "outputId": "d2cea199-e541-4e1f-c2ba-fec8f84ad1a4"
      },
      "outputs": [
        {
          "data": {
            "text/plain": [
              "(0.7333333333333333, 0.26666666666666666)"
            ]
          },
          "execution_count": 166,
          "metadata": {},
          "output_type": "execute_result"
        }
      ],
      "source": [
        "11/15, 4/15"
      ]
    },
    {
      "cell_type": "markdown",
      "metadata": {
        "id": "x2pU-oceBF--"
      },
      "source": [
        "### KNN 모델 훈련, 예측, 평가"
      ]
    },
    {
      "cell_type": "code",
      "execution_count": 167,
      "metadata": {
        "id": "k3w_90zZBJYo"
      },
      "outputs": [],
      "source": [
        "knn = KNeighborsClassifier()  # 모델 생성"
      ]
    },
    {
      "cell_type": "code",
      "execution_count": 168,
      "metadata": {
        "colab": {
          "base_uri": "https://localhost:8080/"
        },
        "id": "iLhXYzGXBOCH",
        "outputId": "bea3cba9-74ed-457c-a8c6-b2ce80da755f"
      },
      "outputs": [
        {
          "data": {
            "text/plain": [
              "KNeighborsClassifier()"
            ]
          },
          "execution_count": 168,
          "metadata": {},
          "output_type": "execute_result"
        }
      ],
      "source": [
        "knn.fit(X_train, y_train)  # 모델 훈련"
      ]
    },
    {
      "cell_type": "code",
      "execution_count": 169,
      "metadata": {
        "colab": {
          "base_uri": "https://localhost:8080/"
        },
        "id": "Y6tGLQc9BWd_",
        "outputId": "f5fc81f5-51b8-42b2-a196-c155ce04080c"
      },
      "outputs": [
        {
          "name": "stdout",
          "output_type": "stream",
          "text": [
            "['Bream' 'Bream' 'Bream' 'Smelt' 'Bream' 'Smelt' 'Smelt' 'Bream' 'Bream'\n",
            " 'Bream' 'Bream' 'Bream' 'Bream' 'Smelt' 'Smelt' 'Bream' 'Smelt' 'Bream'\n",
            " 'Bream' 'Bream' 'Bream' 'Bream' 'Bream' 'Bream' 'Bream' 'Bream' 'Smelt'\n",
            " 'Bream' 'Smelt' 'Bream' 'Bream' 'Smelt' 'Smelt' 'Bream']\n"
          ]
        }
      ],
      "source": [
        "train_pred = knn.predict(X_train)  # 훈련 셋 예측값\n",
        "print(train_pred)"
      ]
    },
    {
      "cell_type": "code",
      "execution_count": 170,
      "metadata": {
        "colab": {
          "base_uri": "https://localhost:8080/"
        },
        "id": "2sIZADU4Blgu",
        "outputId": "45107fa7-e818-4f71-c035-456814afa569"
      },
      "outputs": [
        {
          "name": "stdout",
          "output_type": "stream",
          "text": [
            "['Bream' 'Bream' 'Bream' 'Smelt' 'Bream' 'Smelt' 'Smelt' 'Bream' 'Bream'\n",
            " 'Bream' 'Bream' 'Bream' 'Bream' 'Smelt' 'Smelt' 'Bream' 'Smelt' 'Bream'\n",
            " 'Bream' 'Bream' 'Bream' 'Bream' 'Bream' 'Bream' 'Bream' 'Bream' 'Smelt'\n",
            " 'Bream' 'Smelt' 'Bream' 'Bream' 'Smelt' 'Smelt' 'Bream']\n"
          ]
        }
      ],
      "source": [
        "print(y_train)  # 훈련 레이블"
      ]
    },
    {
      "cell_type": "code",
      "execution_count": 171,
      "metadata": {
        "colab": {
          "base_uri": "https://localhost:8080/"
        },
        "id": "YdcgEGYVBqQG",
        "outputId": "9ed4db7e-c3bb-4d05-da0c-376216082139"
      },
      "outputs": [
        {
          "data": {
            "text/plain": [
              "1.0"
            ]
          },
          "execution_count": 171,
          "metadata": {},
          "output_type": "execute_result"
        }
      ],
      "source": [
        "train_acc = knn.score(X_train, y_train)  # 훈련 셋에서의 정확도\n",
        "train_acc"
      ]
    },
    {
      "cell_type": "code",
      "execution_count": 172,
      "metadata": {
        "colab": {
          "base_uri": "https://localhost:8080/"
        },
        "id": "FjgSL_qIBz6w",
        "outputId": "3405aee0-c359-4fc3-efd9-91258888bc9d"
      },
      "outputs": [
        {
          "name": "stdout",
          "output_type": "stream",
          "text": [
            "['Smelt' 'Bream' 'Bream' 'Bream' 'Smelt' 'Smelt' 'Bream' 'Bream' 'Bream'\n",
            " 'Bream' 'Bream' 'Bream' 'Bream' 'Bream' 'Smelt']\n"
          ]
        }
      ],
      "source": [
        "test_pred = knn.predict(X_test)  # 테스트 셋 예측값\n",
        "print(test_pred)"
      ]
    },
    {
      "cell_type": "code",
      "execution_count": 173,
      "metadata": {
        "colab": {
          "base_uri": "https://localhost:8080/"
        },
        "id": "h0J9oGN6CDwn",
        "outputId": "680c68d2-6f45-42b1-c162-44c5d352cca4"
      },
      "outputs": [
        {
          "name": "stdout",
          "output_type": "stream",
          "text": [
            "['Smelt' 'Bream' 'Bream' 'Bream' 'Smelt' 'Smelt' 'Bream' 'Bream' 'Bream'\n",
            " 'Bream' 'Bream' 'Bream' 'Bream' 'Bream' 'Smelt']\n"
          ]
        }
      ],
      "source": [
        "print(y_test)  # 테스트 셋 실젯값(테스트 레이블)"
      ]
    },
    {
      "cell_type": "code",
      "execution_count": 174,
      "metadata": {
        "colab": {
          "base_uri": "https://localhost:8080/"
        },
        "id": "7XFoxhbFCLG_",
        "outputId": "c247cbf3-0a4a-4d4f-8c4d-898ccf05d35b"
      },
      "outputs": [
        {
          "data": {
            "text/plain": [
              "1.0"
            ]
          },
          "execution_count": 174,
          "metadata": {},
          "output_type": "execute_result"
        }
      ],
      "source": [
        "test_acc = knn.score(X_test, y_test)\n",
        "test_acc"
      ]
    },
    {
      "cell_type": "code",
      "execution_count": 175,
      "metadata": {
        "colab": {
          "base_uri": "https://localhost:8080/",
          "height": 279
        },
        "id": "YZCNRXtiCVZ4",
        "outputId": "4f1960e5-2776-4af2-9bf2-fcb2874bec28"
      },
      "outputs": [
        {
          "data": {
            "image/png": "[encoded data removed]",
            "text/plain": [
              "<Figure size 432x288 with 1 Axes>"
            ]
          },
          "metadata": {
            "needs_background": "light"
          },
          "output_type": "display_data"
        }
      ],
      "source": [
        "# 훈련 셋, 테스트 셋 시각화\n",
        "plt.scatter(X_train[:, 1], X_train[:, 0], label='train')\n",
        "plt.scatter(X_test[:, 1], X_test[:, 0], label='test')\n",
        "\n",
        "plt.xlabel('Length (cm)')\n",
        "plt.ylabel('Weight (g)')\n",
        "plt.legend()\n",
        "plt.show()"
      ]
    },
    {
      "cell_type": "markdown",
      "metadata": {
        "id": "GS77_vmoWfd8"
      },
      "source": [
        "# 분류 모델 평가 지표"
      ]
    },
    {
      "cell_type": "code",
      "execution_count": 176,
      "metadata": {
        "colab": {
          "base_uri": "https://localhost:8080/"
        },
        "id": "NhR1z27eCviP",
        "outputId": "24088365-bd84-40dd-b16d-d0385579b055"
      },
      "outputs": [
        {
          "data": {
            "text/plain": [
              "array([[11,  0],\n",
              "       [ 0,  4]], dtype=int64)"
            ]
          },
          "execution_count": 176,
          "metadata": {},
          "output_type": "execute_result"
        }
      ],
      "source": [
        "# 테스트 셋의 오차 행렬(confusion matrix, 혼동 행렬, 혼돈 행렬)\n",
        "confusion_matrix(y_true=y_test, y_pred=test_pred)"
      ]
    },
    {
      "cell_type": "markdown",
      "metadata": {
        "id": "UnTQrFAAYgLl"
      },
      "source": [
        "**Confusion Matrix**(오차/혼돈/혼동 행렬)\n",
        "\n",
        "<table>\n",
        "    <tr>\n",
        "        <th colspan=\"3\">예측값</th>\n",
        "    </tr>\n",
        "    <tr>\n",
        "        <th></th>\n",
        "        <th>Positive</th>\n",
        "        <th>Negative</th>\n",
        "    </tr>\n",
        "    <tr>\n",
        "        <th>Positive</th>\n",
        "        <td>TP</td>\n",
        "        <td>FN</td>\n",
        "    </tr>\n",
        "    <tr>\n",
        "        <th>Negative</th>\n",
        "        <td>FP</td>\n",
        "        <td>TN</td>\n",
        "    </tr>\n",
        "</table>\n",
        "\n",
        "* 용어 정리\n",
        "    * TP(True Positive, 진짜 양성): 실제로 양성인 것을 양성으로 맞게 예측한 것.\n",
        "    * FN(False Negative, 가짜 음성): 실제로 양성인 것을 음성으로 틀리게 예측한 것.\n",
        "    * FP(False Positive, 가짜 양성): 실제로 음성인 것을 양성으로 틀리게 예측한 것.\n",
        "    * TN(True Negative, 진짜 음성): 실제로 음성인 것은 음성으로 맞게 예측한 것.\n",
        "\n",
        "* 정확도(accuracy): 샘플들을 정확하게 분류한 비율. 전체 샘플에서 정답의 비율.\n",
        "> accuracy = (TP + TN) / (TP + FN + FP + TN)\n",
        "\n",
        "* 정밀도(precision): 양성 예측들 중에서 정답의 비율. 양성으로 예측한 샘플들 중에서 양성으로 맞게 예측한 샘플들의 비율.\n",
        "> precision = TP / (TP + FP)\n",
        "\n",
        "* 재현율(recall): 실제 양성 샘플들 중에서 정답의 비율. 실제로 양성인 샘플들 중에서 양성으로 맞게 예측한 샘플들의 비율.\n",
        "> recall = TP / (TP + FN)\n",
        "\n",
        "* F1-score: 정밀도와 재현율의 조화 평균(역수들의 평균의 역수)\n",
        "> f1-score = 2 / (1/precision) + (1/recall))\n"
      ]
    },
    {
      "cell_type": "code",
      "execution_count": 177,
      "metadata": {
        "colab": {
          "base_uri": "https://localhost:8080/"
        },
        "id": "GjFf0NhsX-Pl",
        "outputId": "1babe40e-25b6-4997-f46e-ac0bbde67494"
      },
      "outputs": [
        {
          "name": "stdout",
          "output_type": "stream",
          "text": [
            "              precision    recall  f1-score   support\n",
            "\n",
            "       Bream       1.00      1.00      1.00        11\n",
            "       Smelt       1.00      1.00      1.00         4\n",
            "\n",
            "    accuracy                           1.00        15\n",
            "   macro avg       1.00      1.00      1.00        15\n",
            "weighted avg       1.00      1.00      1.00        15\n",
            "\n"
          ]
        }
      ],
      "source": [
        "report = classification_report(y_true=y_test, y_pred=test_pred)\n",
        "print(report)"
      ]
    },
    {
      "cell_type": "markdown",
      "metadata": {
        "id": "vHCZ0wEBpFgr"
      },
      "source": [
        "# 특성 스케일링(feature scaling)\n",
        "\n",
        "* 표준화(standardization)\n",
        "    * 모든 특성의 평균이 0, 표준편차가 1이 되도록 스케일을 변환.\n",
        "    * x_scaled = (x - mu) / sigma\n",
        "    * StandardScaler\n",
        "\n",
        "* 정규화(normalization)\n",
        "    * 모든 특성의 최솟값이 0, 최댓값이 1이 되도록 스케일을 변환.\n",
        "    * x_scaled = (x - min) / (max - min)\n",
        "    * MinMaxScaler\n"
      ]
    },
    {
      "cell_type": "markdown",
      "metadata": {
        "id": "mQ1WDzZ-rFs6"
      },
      "source": [
        "## 특성 스케일링의 필요성\n",
        "\n",
        "`[150g, 25cm]` 특성을 갖는 가상의 물고기의 예측값?"
      ]
    },
    {
      "cell_type": "code",
      "execution_count": 178,
      "metadata": {
        "colab": {
          "base_uri": "https://localhost:8080/"
        },
        "id": "jWv67SaOrYoC",
        "outputId": "286bf32a-618b-41fb-9641-6996493d452b"
      },
      "outputs": [
        {
          "data": {
            "text/plain": [
              "array(['Smelt'], dtype=object)"
            ]
          },
          "execution_count": 178,
          "metadata": {},
          "output_type": "execute_result"
        }
      ],
      "source": [
        "test_fish = [[150, 25]]  # 150g, 25cm의 생선 - (1, 2) shape의 2차원 배열\n",
        "prediction = knn.predict(test_fish)\n",
        "prediction"
      ]
    },
    {
      "cell_type": "code",
      "execution_count": 179,
      "metadata": {
        "colab": {
          "base_uri": "https://localhost:8080/",
          "height": 279
        },
        "id": "ZTwrlT5psgcl",
        "outputId": "aba8ca36-9d1b-42e6-832d-d22b54ad7190"
      },
      "outputs": [
        {
          "data": {
            "image/png": "[encoded data removed]",
            "text/plain": [
              "<Figure size 432x288 with 1 Axes>"
            ]
          },
          "metadata": {
            "needs_background": "light"
          },
          "output_type": "display_data"
        }
      ],
      "source": [
        "# 훈련 셋, 가상의 테스트 물고기 시각화\n",
        "plt.scatter(X_train[:, 1], X_train[:, 0], label='train')  # 훈련 셋\n",
        "plt.scatter(x=25, y=150, label='unknown', marker='v', color='red')  # 테스트 물고기(25cm, 150g)\n",
        "\n",
        "plt.xlabel('Length (cm)')\n",
        "plt.ylabel('Weight (g)')\n",
        "plt.legend()\n",
        "plt.grid()\n",
        "plt.show()"
      ]
    },
    {
      "cell_type": "markdown",
      "metadata": {
        "id": "dKvGZoHnwdvq"
      },
      "source": [
        "* 생선의 두 특성(무게, 길이)은 서로 단위(g, cm)가 다르기 때문에 값의 범위 매우 다름.\n",
        "    * 길이: 0 ~ 50cm, 무게: 0 ~ 1000g\n",
        "    * 특성(변수)들의 스케일이 매우 다름.\n",
        "    * 가장 가까운 이웃을 찾기 위해서 거리를 계산할 때, 생선의 무게가 거리 계산에 더 큰 영향을 미치게 됨.\n",
        "    * 길이의 단위는 cm를 사용하고 무게의 단위를 kg을 사용하게 되면, 길이 스케일은 0 ~ 50cm이고 무게의 스케일은 0 ~ 1kg이 됨.\n",
        "        * 거리 계산에서 길이가 더 큰 영향을 미치게 됨.\n",
        "    * 따라서, 모든 특성(변수)들이 거리 계산에서 비슷하게 영향을 미칠 수 있도록 모든 특성들의 단위를 제거할 필요가 있음.\n",
        "\n",
        "* KNN과 같이 거리 기반의 머신 러닝 알고리즘에서는 모델을 훈련하기 전에 반드시 모든 특성(변수)들을 비슷한 스케일이 되도록 전처리(preprocessing)를 할 필요가 있음!\n",
        "    * 훈련 셋의 특성들을 사용해서, 훈련 셋과 테스트 셋을 함께 스케일을 변환해야 함.\n",
        "    * 표준화: __훈련 셋의 평균과 표준 편차__를 찾아서, 훈련 셋과 테스트 셋의 스케일을 변환.\n",
        "    * 정규화: __훈련 셋의 최댓값과 최솟값__을 찾아서, 훈련 셋과 테스트 셋의 스케일을 변환."
      ]
    },
    {
      "cell_type": "markdown",
      "metadata": {
        "id": "GrjugM3a9t-C"
      },
      "source": [
        "## 표준화(Standardization)"
      ]
    },
    {
      "cell_type": "code",
      "execution_count": 180,
      "metadata": {
        "id": "pbAjGDtUs7eT"
      },
      "outputs": [],
      "source": [
        "std_scaler = StandardScaler()  # 특성 스케일 변환기(표준화) 생성"
      ]
    },
    {
      "cell_type": "code",
      "execution_count": 181,
      "metadata": {
        "colab": {
          "base_uri": "https://localhost:8080/"
        },
        "id": "ac_VTI9C97O-",
        "outputId": "b4d5090a-8398-414c-e91b-0b787740b1bc"
      },
      "outputs": [
        {
          "data": {
            "text/plain": [
              "StandardScaler()"
            ]
          },
          "execution_count": 181,
          "metadata": {},
          "output_type": "execute_result"
        }
      ],
      "source": [
        "std_scaler.fit(X_train)  # fit: 훈련 셋(X_train)의 평균과 표준편차를 계산."
      ]
    },
    {
      "cell_type": "code",
      "execution_count": 182,
      "metadata": {
        "colab": {
          "base_uri": "https://localhost:8080/"
        },
        "id": "zfKz4eA--IsR",
        "outputId": "222b6a2f-45e0-4250-d09d-62e1cfb8aab4"
      },
      "outputs": [
        {
          "name": "stdout",
          "output_type": "stream",
          "text": [
            "[425.92352941  26.47352941]\n",
            "[1.04229779e+05 1.03194299e+02]\n"
          ]
        }
      ],
      "source": [
        "# scaler의 fit이 끝나면, mean_(평균), var_(분산) 변수가 생김.\n",
        "print(std_scaler.mean_)\n",
        "print(std_scaler.var_)"
      ]
    },
    {
      "cell_type": "code",
      "execution_count": 183,
      "metadata": {
        "colab": {
          "base_uri": "https://localhost:8080/"
        },
        "id": "OGT4ygAP-yap",
        "outputId": "d650d8e4-ae7f-42bb-a37e-06670217a1b8"
      },
      "outputs": [
        {
          "data": {
            "text/plain": [
              "array([425.92352941,  26.47352941])"
            ]
          },
          "execution_count": 183,
          "metadata": {},
          "output_type": "execute_result"
        }
      ],
      "source": [
        "np.mean(X_train, axis=0)"
      ]
    },
    {
      "cell_type": "code",
      "execution_count": 184,
      "metadata": {
        "colab": {
          "base_uri": "https://localhost:8080/"
        },
        "id": "0AhAxwB6-0ZA",
        "outputId": "28df9495-f63e-42ae-a69c-450cd0cca624"
      },
      "outputs": [
        {
          "data": {
            "text/plain": [
              "array([1.04229779e+05, 1.03194299e+02])"
            ]
          },
          "execution_count": 184,
          "metadata": {},
          "output_type": "execute_result"
        }
      ],
      "source": [
        "np.var(X_train, axis=0)"
      ]
    },
    {
      "cell_type": "code",
      "execution_count": 185,
      "metadata": {
        "id": "tN2q584g_RQB"
      },
      "outputs": [],
      "source": [
        "X_tr_scaled = std_scaler.transform(X_train)  # 훈련 셋의 특성들의 스케일을 변환."
      ]
    },
    {
      "cell_type": "code",
      "execution_count": 186,
      "metadata": {
        "colab": {
          "base_uri": "https://localhost:8080/"
        },
        "id": "AmI3C8Uk_dfI",
        "outputId": "7a1c5d9c-c87f-4a99-a84f-b4f5e8aa5a17"
      },
      "outputs": [
        {
          "data": {
            "text/plain": [
              "array([[ 0.89230202,  0.93778693],\n",
              "       [-0.19490239,  0.24870607],\n",
              "       [-0.56969366, -0.10567837],\n",
              "       [-1.28861145, -1.44446404],\n",
              "       [ 0.5391929 ,  0.54402644]])"
            ]
          },
          "execution_count": 186,
          "metadata": {},
          "output_type": "execute_result"
        }
      ],
      "source": [
        "X_tr_scaled[:5, :]"
      ]
    },
    {
      "cell_type": "code",
      "execution_count": 187,
      "metadata": {
        "colab": {
          "base_uri": "https://localhost:8080/"
        },
        "id": "mueyKmJ7_vyJ",
        "outputId": "9dad87a3-d69b-4f77-dc37-7932b34f21dc"
      },
      "outputs": [
        {
          "data": {
            "text/plain": [
              "array([-1.95921710e-16,  1.01226217e-16])"
            ]
          },
          "execution_count": 187,
          "metadata": {},
          "output_type": "execute_result"
        }
      ],
      "source": [
        "np.mean(X_tr_scaled, axis=0)"
      ]
    },
    {
      "cell_type": "code",
      "execution_count": 188,
      "metadata": {
        "colab": {
          "base_uri": "https://localhost:8080/"
        },
        "id": "D6UzcvKv_4dZ",
        "outputId": "113fed0e-8480-4d9f-b658-60009aab4334"
      },
      "outputs": [
        {
          "data": {
            "text/plain": [
              "array([1., 1.])"
            ]
          },
          "execution_count": 188,
          "metadata": {},
          "output_type": "execute_result"
        }
      ],
      "source": [
        "np.std(X_tr_scaled, axis=0)"
      ]
    },
    {
      "cell_type": "code",
      "execution_count": 189,
      "metadata": {
        "id": "67j_gbopBJ1v"
      },
      "outputs": [],
      "source": [
        "X_te_scaled = std_scaler.transform(X_test)  \n",
        "# \"훈련 셋의 평균과 표준편차\"를 사용해서 테스트 셋의 특성들의 스케일을 변환\n",
        "# 테스트 셋을 스케일 변환하기 위해서 fit 메서들 사용하지 않음!"
      ]
    },
    {
      "cell_type": "code",
      "execution_count": 190,
      "metadata": {
        "colab": {
          "base_uri": "https://localhost:8080/"
        },
        "id": "4yP61r16BYhx",
        "outputId": "fdfe1df1-aedb-4659-e4c4-62d9febb2a8e"
      },
      "outputs": [
        {
          "data": {
            "text/plain": [
              "array([[-1.25763696, -1.12945564],\n",
              "       [ 1.31355502,  0.93778693],\n",
              "       [ 1.63878711,  1.18388724],\n",
              "       [ 0.60114187,  0.79012675],\n",
              "       [-1.29759405, -1.56259218]])"
            ]
          },
          "execution_count": 190,
          "metadata": {},
          "output_type": "execute_result"
        }
      ],
      "source": [
        "X_te_scaled[:5, :]"
      ]
    },
    {
      "cell_type": "code",
      "execution_count": 191,
      "metadata": {
        "colab": {
          "base_uri": "https://localhost:8080/"
        },
        "id": "Hul49kbrDaJE",
        "outputId": "509a7caf-f4c3-4178-839a-153cf2e91a86"
      },
      "outputs": [
        {
          "name": "stdout",
          "output_type": "stream",
          "text": [
            "[[-0.85465892 -0.14505442]]\n"
          ]
        }
      ],
      "source": [
        "# [150g, 25cm] 가상의 물고기 데이터를 스케일 변환\n",
        "test_fish_scaled = std_scaler.transform(test_fish)\n",
        "print(test_fish_scaled)"
      ]
    },
    {
      "cell_type": "code",
      "execution_count": 192,
      "metadata": {
        "colab": {
          "base_uri": "https://localhost:8080/",
          "height": 279
        },
        "id": "2lut67QQCQ95",
        "outputId": "0ae8848e-bd70-4d00-d486-cf545a4d5c89"
      },
      "outputs": [
        {
          "data": {
            "image/png": "[encoded data removed]",
            "text/plain": [
              "<Figure size 432x288 with 1 Axes>"
            ]
          },
          "metadata": {
            "needs_background": "light"
          },
          "output_type": "display_data"
        }
      ],
      "source": [
        "# 스케일이 변환된 훈련 셋, 테스트 셋 시각화\n",
        "plt.scatter(X_tr_scaled[:, 1], X_tr_scaled[:, 0], label='train')  # 훈련 셋\n",
        "plt.scatter(X_te_scaled[:, 1], X_te_scaled[:, 0], label='test')   # 테스트 셋\n",
        "plt.scatter(test_fish_scaled[:, 1], test_fish_scaled[:, 0], label='unknown',\n",
        "            marker='v', color='red')  # 가상의 물고기\n",
        "\n",
        "plt.xlabel('Length')\n",
        "plt.ylabel('Weight')\n",
        "plt.legend()\n",
        "plt.grid()\n",
        "plt.show()"
      ]
    },
    {
      "cell_type": "markdown",
      "metadata": {
        "id": "0s58KrwLEuKY"
      },
      "source": [
        "### StandardScaler를 적용한 훈련 셋으로 훈련, 예측, 평가"
      ]
    },
    {
      "cell_type": "code",
      "execution_count": 193,
      "metadata": {
        "id": "xEjKRq1qEe6q"
      },
      "outputs": [],
      "source": [
        "knn = KNeighborsClassifier()  # 모델 생성"
      ]
    },
    {
      "cell_type": "code",
      "execution_count": 194,
      "metadata": {
        "colab": {
          "base_uri": "https://localhost:8080/"
        },
        "id": "71eEISX1E99Z",
        "outputId": "d48aeaf6-e96d-47a2-f3ba-2d2eff4d9820"
      },
      "outputs": [
        {
          "data": {
            "text/plain": [
              "KNeighborsClassifier()"
            ]
          },
          "execution_count": 194,
          "metadata": {},
          "output_type": "execute_result"
        }
      ],
      "source": [
        "knn.fit(X_tr_scaled, y_train)  # 모델 훈련"
      ]
    },
    {
      "cell_type": "code",
      "execution_count": 195,
      "metadata": {
        "colab": {
          "base_uri": "https://localhost:8080/"
        },
        "id": "mEzWP1k_FL1X",
        "outputId": "6e043ffb-af82-4277-b54b-92193fca2a17"
      },
      "outputs": [
        {
          "data": {
            "text/plain": [
              "1.0"
            ]
          },
          "execution_count": 195,
          "metadata": {},
          "output_type": "execute_result"
        }
      ],
      "source": [
        "knn.score(X_tr_scaled, y_train)  # 훈련 셋의 정확도"
      ]
    },
    {
      "cell_type": "code",
      "execution_count": 196,
      "metadata": {
        "colab": {
          "base_uri": "https://localhost:8080/"
        },
        "id": "vHUZFgKtFVFh",
        "outputId": "b68deece-1102-4fdd-9da5-63b2cd30fe71"
      },
      "outputs": [
        {
          "data": {
            "text/plain": [
              "1.0"
            ]
          },
          "execution_count": 196,
          "metadata": {},
          "output_type": "execute_result"
        }
      ],
      "source": [
        "knn.score(X_te_scaled, y_test)  # 테스트 셋의 정확도"
      ]
    },
    {
      "cell_type": "code",
      "execution_count": 197,
      "metadata": {
        "colab": {
          "base_uri": "https://localhost:8080/"
        },
        "id": "mScQpMjpFdd4",
        "outputId": "11ca0161-1e29-4abd-b572-9b50def1dddb"
      },
      "outputs": [
        {
          "data": {
            "text/plain": [
              "array(['Bream'], dtype=object)"
            ]
          },
          "execution_count": 197,
          "metadata": {},
          "output_type": "execute_result"
        }
      ],
      "source": [
        "# [150g, 25cm] 가상의 물고기의 예측값\n",
        "knn.predict(test_fish_scaled)"
      ]
    },
    {
      "cell_type": "markdown",
      "metadata": {
        "id": "z0u8QM5pJmOa"
      },
      "source": [
        "## 정규화(Normalization)"
      ]
    },
    {
      "cell_type": "code",
      "execution_count": 198,
      "metadata": {
        "id": "rm5ux3fiJsh_"
      },
      "outputs": [],
      "source": [
        "norm_scaler = MinMaxScaler()  # 정규화 변환기 생성"
      ]
    },
    {
      "cell_type": "code",
      "execution_count": 199,
      "metadata": {
        "id": "srl3mSkRJ0h5"
      },
      "outputs": [],
      "source": [
        "# 정규화를 하기 위해서 훈련 셋의 최솟값과 최댓값을 찾고, 훈련 셋의 특성들의 스케일을 변환\n",
        "# (1) norm_scaler.fit(X_train)\n",
        "# (2) norm_scaler.transform(X_train)\n",
        "X_tr_norm = norm_scaler.fit_transform(X_train)"
      ]
    },
    {
      "cell_type": "code",
      "execution_count": 200,
      "metadata": {
        "colab": {
          "base_uri": "https://localhost:8080/"
        },
        "id": "AYFGBaFEKcS-",
        "outputId": "fae724e1-50a9-4ea5-d676-d485391ebb83"
      },
      "outputs": [
        {
          "data": {
            "text/plain": [
              "array([1000.,   41.])"
            ]
          },
          "execution_count": 200,
          "metadata": {},
          "output_type": "execute_result"
        }
      ],
      "source": [
        "norm_scaler.data_max_  # 훈련 셋에서 찾은 [무게, 길이]의 최댓값"
      ]
    },
    {
      "cell_type": "code",
      "execution_count": 201,
      "metadata": {
        "colab": {
          "base_uri": "https://localhost:8080/"
        },
        "id": "ffvko-k3LauX",
        "outputId": "b2e3e507-3c4a-4ad9-fb76-2d1f7438179f"
      },
      "outputs": [
        {
          "data": {
            "text/plain": [
              "array([6.7, 9.8])"
            ]
          },
          "execution_count": 201,
          "metadata": {},
          "output_type": "execute_result"
        }
      ],
      "source": [
        "norm_scaler.data_min_  # 훈련 셋에서 찾은 [무게, 길이]의 최솟값"
      ]
    },
    {
      "cell_type": "code",
      "execution_count": 202,
      "metadata": {
        "id": "crNZIdkHMCYn"
      },
      "outputs": [],
      "source": [
        "# 훈련 셋에서 찾은 최댓값과 최솟값으로 테스트 셋을 정규화\n",
        "X_te_norm = norm_scaler.transform(X_test)"
      ]
    },
    {
      "cell_type": "code",
      "execution_count": 203,
      "metadata": {
        "id": "zLACKIz9MPv_"
      },
      "outputs": [],
      "source": [
        "# [150g, 25cm] 가상의 물고기 정규화\n",
        "test_fish_norm = norm_scaler.transform(test_fish)"
      ]
    },
    {
      "cell_type": "code",
      "execution_count": 204,
      "metadata": {
        "colab": {
          "base_uri": "https://localhost:8080/",
          "height": 279
        },
        "id": "zP3RP46LMb2e",
        "outputId": "50b1ce22-63c1-4342-8f9a-035dcb4040f1"
      },
      "outputs": [
        {
          "data": {
            "image/png": "[encoded data removed]",
            "text/plain": [
              "<Figure size 432x288 with 1 Axes>"
            ]
          },
          "metadata": {
            "needs_background": "light"
          },
          "output_type": "display_data"
        }
      ],
      "source": [
        "# 정규화된 훈련 셋, 테스트 셋 시각화\n",
        "plt.scatter(X_tr_norm[:, 1], X_tr_norm[:, 0], label='train')\n",
        "plt.scatter(X_te_norm[:, 1], X_te_norm[:, 0], label='test')\n",
        "plt.scatter(test_fish_norm[:, 1], test_fish_norm[:, 0], label='unknown',\n",
        "            marker='v', color='red')\n",
        "\n",
        "plt.xlabel('Length')\n",
        "plt.ylabel('Weight')\n",
        "plt.legend()\n",
        "plt.grid()\n",
        "plt.show()"
      ]
    },
    {
      "cell_type": "markdown",
      "metadata": {
        "id": "LWiQPOdYNjnI"
      },
      "source": [
        "### 정규화가 된 훈련 셋 훈련, 예측, 평가"
      ]
    },
    {
      "cell_type": "code",
      "execution_count": 205,
      "metadata": {
        "id": "HEkWs54wNprH"
      },
      "outputs": [],
      "source": [
        "knn = KNeighborsClassifier()  # 모델 생성"
      ]
    },
    {
      "cell_type": "code",
      "execution_count": 206,
      "metadata": {
        "colab": {
          "base_uri": "https://localhost:8080/"
        },
        "id": "qvmKPgcbNtWu",
        "outputId": "d6a5431b-f4ba-43c6-ee85-01091c891513"
      },
      "outputs": [
        {
          "data": {
            "text/plain": [
              "KNeighborsClassifier()"
            ]
          },
          "execution_count": 206,
          "metadata": {},
          "output_type": "execute_result"
        }
      ],
      "source": [
        "knn.fit(X_tr_norm, y_train)  # 정규화를 한 훈련 셋으로 모델을 훈련"
      ]
    },
    {
      "cell_type": "code",
      "execution_count": 207,
      "metadata": {
        "colab": {
          "base_uri": "https://localhost:8080/"
        },
        "id": "6FXPBYbGNzWw",
        "outputId": "796f559a-7cf2-4bbe-e348-a2624e1d4f67"
      },
      "outputs": [
        {
          "data": {
            "text/plain": [
              "1.0"
            ]
          },
          "execution_count": 207,
          "metadata": {},
          "output_type": "execute_result"
        }
      ],
      "source": [
        "knn.score(X_tr_norm, y_train)  # 훈련 셋 정확도"
      ]
    },
    {
      "cell_type": "code",
      "execution_count": 208,
      "metadata": {
        "colab": {
          "base_uri": "https://localhost:8080/"
        },
        "id": "rCnn57ikN36j",
        "outputId": "40f08a8a-3323-4508-cd5d-14962d2b7399"
      },
      "outputs": [
        {
          "data": {
            "text/plain": [
              "1.0"
            ]
          },
          "execution_count": 208,
          "metadata": {},
          "output_type": "execute_result"
        }
      ],
      "source": [
        "knn.score(X_te_norm, y_test)  # 테스트 셋 정확도"
      ]
    },
    {
      "cell_type": "code",
      "execution_count": 209,
      "metadata": {
        "colab": {
          "base_uri": "https://localhost:8080/"
        },
        "id": "WKVuZpNvOATe",
        "outputId": "b91f73fc-274d-4429-aeb1-7d2b53767eb9"
      },
      "outputs": [
        {
          "data": {
            "text/plain": [
              "array(['Bream'], dtype=object)"
            ]
          },
          "execution_count": 209,
          "metadata": {},
          "output_type": "execute_result"
        }
      ],
      "source": [
        "# 가상의 물고기 데이터의 예측값\n",
        "knn.predict(test_fish_norm)"
      ]
    },
    {
      "cell_type": "markdown",
      "metadata": {
        "id": "PKGRiss-P7AO"
      },
      "source": [
        "* scikit-learn 패키지의 iris 예제 데이터 셋을 로드.\n",
        "* iris 데이터 탐색\n",
        "* 데이터 셋을 훈련 셋과 테스트 셋으로 분리\n",
        "* KNN 분류기 생성\n",
        "* 모델 훈련\n",
        "* 훈련 셋 평가(정확도), 테스트 셋 평가(정확도)\n",
        "    * confusion matrix, 분류 리포트 출력\n",
        "* KNN 모델의 k값을 변화시키면서, 모델 훈련/평가를 반복.\n",
        "    * 테스트 셋에서 가장 좋은 결과를 주는 k값을 찾음."
      ]
    }
  ],
  "metadata": {
    "colab": {
      "authorship_tag": "ABX9TyOQvBMnvn0msoThsp22iHd4",
      "collapsed_sections": [],
      "include_colab_link": true,
      "name": "ml03_train_test_scaling.ipynb",
      "provenance": []
    },
    "kernelspec": {
      "display_name": "Python 3",
      "name": "python3"
    },
    "language_info": {
      "codemirror_mode": {
        "name": "ipython",
        "version": 3
      },
      "file_extension": ".py",
      "mimetype": "text/x-python",
      "name": "python",
      "nbconvert_exporter": "python",
      "pygments_lexer": "ipython3",
      "version": "3.9.7"
    }
  },
  "nbformat": 4,
  "nbformat_minor": 0
}
