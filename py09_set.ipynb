{
  "nbformat": 4,
  "nbformat_minor": 0,
  "metadata": {
    "colab": {
      "name": "py09_set.ipynb",
      "provenance": [],
      "collapsed_sections": [],
      "authorship_tag": "ABX9TyP6EDSLhUhIFB15KrmCfy5O",
      "include_colab_link": true
    },
    "kernelspec": {
      "name": "python3",
      "display_name": "Python 3"
    },
    "language_info": {
      "name": "python"
    }
  },
  "cells": [
    {
      "cell_type": "markdown",
      "metadata": {
        "id": "view-in-github",
        "colab_type": "text"
      },
      "source": [
        "<a href=\"https://colab.research.google.com/github/JakeOh/202110_itw_lab_python/blob/main/py09_set.ipynb\" target=\"_parent\"><img src=\"https://colab.research.google.com/assets/colab-badge.svg\" alt=\"Open In Colab\"/></a>"
      ]
    },
    {
      "cell_type": "markdown",
      "source": [
        "# 집합(set)\n",
        "\n",
        "* 중복된 데이터의 저장을 허용하지 않음. `{1, 2, 2, 3} = {1, 2, 3}`\n",
        "* 데이터가 저장되는 순서가 중요하지 않음.(인덱스를 사용하지 않음.) `{1, 3, 2} = {1, 2, 3}`\n"
      ],
      "metadata": {
        "id": "GG29BQbSG0kJ"
      }
    },
    {
      "cell_type": "code",
      "execution_count": 1,
      "metadata": {
        "colab": {
          "base_uri": "https://localhost:8080/"
        },
        "id": "vCti341eGjl7",
        "outputId": "81e56fe6-94f3-4386-96bd-1daa76ab81bf"
      },
      "outputs": [
        {
          "output_type": "execute_result",
          "data": {
            "text/plain": [
              "{1, 2, 3}"
            ]
          },
          "metadata": {},
          "execution_count": 1
        }
      ],
      "source": [
        "s1 = {1, 2, 2, 3, 3, 3}\n",
        "s1"
      ]
    },
    {
      "cell_type": "code",
      "source": [
        "type(s1)"
      ],
      "metadata": {
        "colab": {
          "base_uri": "https://localhost:8080/"
        },
        "id": "xbe97HxEHvNS",
        "outputId": "23241207-aefd-4267-b1a1-1a18199ddaf9"
      },
      "execution_count": 2,
      "outputs": [
        {
          "output_type": "execute_result",
          "data": {
            "text/plain": [
              "set"
            ]
          },
          "metadata": {},
          "execution_count": 2
        }
      ]
    },
    {
      "cell_type": "code",
      "source": [
        "s2 = {3, 1, 2}\n",
        "s2"
      ],
      "metadata": {
        "colab": {
          "base_uri": "https://localhost:8080/"
        },
        "id": "wrbP6sIlHxSg",
        "outputId": "20d01a9d-ba72-41ea-a712-c2f3d82bb4ae"
      },
      "execution_count": 3,
      "outputs": [
        {
          "output_type": "execute_result",
          "data": {
            "text/plain": [
              "{1, 2, 3}"
            ]
          },
          "metadata": {},
          "execution_count": 3
        }
      ]
    },
    {
      "cell_type": "code",
      "source": [
        "# s1[0]  #> set 객체는 인덱스를 사용할 수 없음!\n",
        "# for-in 구문을 사용해서 set 객체의 원소들을 하나씩 반복하면서 참조할 수 있음.\n",
        "for x in s1:\n",
        "    print(x)"
      ],
      "metadata": {
        "colab": {
          "base_uri": "https://localhost:8080/"
        },
        "id": "BCaRBrAAH38x",
        "outputId": "f26f0269-73f9-44db-cc9a-ae655328a313"
      },
      "execution_count": 5,
      "outputs": [
        {
          "output_type": "stream",
          "name": "stdout",
          "text": [
            "1\n",
            "2\n",
            "3\n"
          ]
        }
      ]
    },
    {
      "cell_type": "markdown",
      "source": [
        "# set의 기능(메서드)"
      ],
      "metadata": {
        "id": "rchZ92ofItA4"
      }
    },
    {
      "cell_type": "code",
      "source": [
        "s1 = {1, 2, 3, 4}\n",
        "s2 = {3, 4, 5}"
      ],
      "metadata": {
        "id": "hDebWS86IBK4"
      },
      "execution_count": 6,
      "outputs": []
    },
    {
      "cell_type": "code",
      "source": [
        "# 합집합(union)\n",
        "s1.union(s2)"
      ],
      "metadata": {
        "colab": {
          "base_uri": "https://localhost:8080/"
        },
        "id": "-XdQcLqSI6z-",
        "outputId": "16454c4f-8800-4c7c-8791-567f0f050323"
      },
      "execution_count": 7,
      "outputs": [
        {
          "output_type": "execute_result",
          "data": {
            "text/plain": [
              "{1, 2, 3, 4, 5}"
            ]
          },
          "metadata": {},
          "execution_count": 7
        }
      ]
    },
    {
      "cell_type": "code",
      "source": [
        "s1 | s2  #> |: 합집합 연산자"
      ],
      "metadata": {
        "colab": {
          "base_uri": "https://localhost:8080/"
        },
        "id": "dOAzN2EsJVLm",
        "outputId": "47b0e8f8-07e9-447b-9ebf-920c846417a2"
      },
      "execution_count": 9,
      "outputs": [
        {
          "output_type": "execute_result",
          "data": {
            "text/plain": [
              "{1, 2, 3, 4, 5}"
            ]
          },
          "metadata": {},
          "execution_count": 9
        }
      ]
    },
    {
      "cell_type": "code",
      "source": [
        "# 교집합(intersection)\n",
        "s1.intersection(s2)"
      ],
      "metadata": {
        "colab": {
          "base_uri": "https://localhost:8080/"
        },
        "id": "vkZ8e8LkJbug",
        "outputId": "8c4dfd74-7387-4dab-e079-b4953c128e4c"
      },
      "execution_count": 10,
      "outputs": [
        {
          "output_type": "execute_result",
          "data": {
            "text/plain": [
              "{3, 4}"
            ]
          },
          "metadata": {},
          "execution_count": 10
        }
      ]
    },
    {
      "cell_type": "code",
      "source": [
        "s1 & s2  #> &: 교집합 연산자"
      ],
      "metadata": {
        "colab": {
          "base_uri": "https://localhost:8080/"
        },
        "id": "FKQHmF80JtBQ",
        "outputId": "04479494-ccc9-411e-c127-3a85bad33071"
      },
      "execution_count": 11,
      "outputs": [
        {
          "output_type": "execute_result",
          "data": {
            "text/plain": [
              "{3, 4}"
            ]
          },
          "metadata": {},
          "execution_count": 11
        }
      ]
    },
    {
      "cell_type": "code",
      "source": [
        "# 차집합(difference)\n",
        "s1.difference(s2)"
      ],
      "metadata": {
        "colab": {
          "base_uri": "https://localhost:8080/"
        },
        "id": "DYdRprBxJ13C",
        "outputId": "00df58ab-2895-4e73-e5fb-e816882d104e"
      },
      "execution_count": 12,
      "outputs": [
        {
          "output_type": "execute_result",
          "data": {
            "text/plain": [
              "{1, 2}"
            ]
          },
          "metadata": {},
          "execution_count": 12
        }
      ]
    },
    {
      "cell_type": "code",
      "source": [
        "s1 - s2  #> -: 차집합 연산자"
      ],
      "metadata": {
        "colab": {
          "base_uri": "https://localhost:8080/"
        },
        "id": "-NklDO_VKIh_",
        "outputId": "1622874b-0a03-4e1e-af69-b9c3e9d61ced"
      },
      "execution_count": 13,
      "outputs": [
        {
          "output_type": "execute_result",
          "data": {
            "text/plain": [
              "{1, 2}"
            ]
          },
          "metadata": {},
          "execution_count": 13
        }
      ]
    },
    {
      "cell_type": "markdown",
      "source": [
        "```\n",
        "s1 | s2 = s2 | s1\n",
        "s1 & s2 = s2 & s1\n",
        "s1 - s2 != s2 - s1\n",
        "```"
      ],
      "metadata": {
        "id": "p0kp0IGaKfcD"
      }
    },
    {
      "cell_type": "code",
      "source": [
        "# set(arg): set 객체를 생성해서 리턴.\n",
        "numbers = [1, 2, 3, 1, 2, 1, 2, 3, 4]  #> 9개의 아이템을 갖는 리스트\n",
        "\n",
        "# numbers에서 중복되지 않는 값들\n",
        "number_set = set(numbers)\n",
        "print(number_set)\n",
        "\n",
        "# numbers에서 중복되지 않는 값들의 개수\n",
        "print(len(number_set))"
      ],
      "metadata": {
        "colab": {
          "base_uri": "https://localhost:8080/"
        },
        "id": "OCVEWZ_xKZre",
        "outputId": "e0259470-99fa-473d-ca1c-3a7edb8fd726"
      },
      "execution_count": 15,
      "outputs": [
        {
          "output_type": "stream",
          "name": "stdout",
          "text": [
            "{1, 2, 3, 4}\n",
            "4\n"
          ]
        }
      ]
    },
    {
      "cell_type": "code",
      "source": [
        "print(s1)\n",
        "\n",
        "# set에 원소 추가. 이미 존재하는 원소이면 중복 저장은 되지 않음.\n",
        "s1.add(100)\n",
        "print(s1)\n",
        "\n",
        "s1.add(1)\n",
        "print(s1)"
      ],
      "metadata": {
        "colab": {
          "base_uri": "https://localhost:8080/"
        },
        "id": "7nLRAwyQLwoz",
        "outputId": "43386045-bdc8-49d5-b6d1-43d2aafe1864"
      },
      "execution_count": 18,
      "outputs": [
        {
          "output_type": "stream",
          "name": "stdout",
          "text": [
            "{1, 2, 3, 100, 4}\n",
            "{1, 2, 3, 100, 4}\n",
            "{1, 2, 3, 100, 4}\n"
          ]
        }
      ]
    },
    {
      "cell_type": "code",
      "source": [
        "# set의 원소 삭제.\n",
        "s1.remove(100)\n",
        "print(s1)"
      ],
      "metadata": {
        "colab": {
          "base_uri": "https://localhost:8080/"
        },
        "id": "IkjuvBXvND6i",
        "outputId": "af4864ea-1739-46e0-ffc3-d4ebabbdbbd1"
      },
      "execution_count": 19,
      "outputs": [
        {
          "output_type": "stream",
          "name": "stdout",
          "text": [
            "{1, 2, 3, 4}\n"
          ]
        }
      ]
    }
  ]
}