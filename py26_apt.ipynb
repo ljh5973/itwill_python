{
  "cells": [
    {
      "cell_type": "markdown",
      "metadata": {
        "colab_type": "text",
        "id": "view-in-github"
      },
      "source": [
        "<a href=\"https://colab.research.google.com/github/JakeOh/202110_itw_lab_python/blob/main/py26_apt.ipynb\" target=\"_parent\"><img src=\"https://colab.research.google.com/assets/colab-badge.svg\" alt=\"Open In Colab\"/></a>"
      ]
    },
    {
      "cell_type": "markdown",
      "metadata": {
        "id": "fUgzY-XaK7-Q"
      },
      "source": [
        "## matplotlib의 폰트를 Nanum 폰트로 지정"
      ]
    },
    {
      "cell_type": "code",
      "execution_count": 232,
      "metadata": {
        "id": "gaGBLWP0LCZ6"
      },
      "outputs": [],
      "source": [
        "import matplotlib.pyplot as plt\n",
        "\n",
        "plt.rc('font', family='Malgun Gothic')"
      ]
    },
    {
      "cell_type": "markdown",
      "metadata": {
        "id": "vLsY-hiWQHPH"
      },
      "source": [
        "## 한글 폰트 테스트"
      ]
    },
    {
      "cell_type": "code",
      "execution_count": 233,
      "metadata": {
        "id": "HxyxIEnUIXEV"
      },
      "outputs": [],
      "source": [
        "import numpy as np\n",
        "import pandas as pd\n",
        "import matplotlib.pyplot as plt\n",
        "import seaborn as sns"
      ]
    },
    {
      "cell_type": "code",
      "execution_count": 234,
      "metadata": {
        "colab": {
          "base_uri": "https://localhost:8080/",
          "height": 112
        },
        "id": "g7RUOx_bH2Gb",
        "outputId": "54faf5eb-db2d-4c36-dd77-7675b2b2feaa"
      },
      "outputs": [
        {
          "data": {
            "text/html": [
              "<div>\n",
              "<style scoped>\n",
              "    .dataframe tbody tr th:only-of-type {\n",
              "        vertical-align: middle;\n",
              "    }\n",
              "\n",
              "    .dataframe tbody tr th {\n",
              "        vertical-align: top;\n",
              "    }\n",
              "\n",
              "    .dataframe thead th {\n",
              "        text-align: right;\n",
              "    }\n",
              "</style>\n",
              "<table border=\"1\" class=\"dataframe\">\n",
              "  <thead>\n",
              "    <tr style=\"text-align: right;\">\n",
              "      <th></th>\n",
              "      <th>구</th>\n",
              "      <th>가격</th>\n",
              "    </tr>\n",
              "  </thead>\n",
              "  <tbody>\n",
              "    <tr>\n",
              "      <th>0</th>\n",
              "      <td>강남구</td>\n",
              "      <td>100</td>\n",
              "    </tr>\n",
              "    <tr>\n",
              "      <th>1</th>\n",
              "      <td>서초구</td>\n",
              "      <td>150</td>\n",
              "    </tr>\n",
              "  </tbody>\n",
              "</table>\n",
              "</div>"
            ],
            "text/plain": [
              "     구   가격\n",
              "0  강남구  100\n",
              "1  서초구  150"
            ]
          },
          "execution_count": 234,
          "metadata": {},
          "output_type": "execute_result"
        }
      ],
      "source": [
        "df = pd.DataFrame(data={'구': ['강남구', '서초구'],\n",
        "                        '가격': [100, 150]})\n",
        "df"
      ]
    },
    {
      "cell_type": "code",
      "execution_count": 235,
      "metadata": {
        "colab": {
          "base_uri": "https://localhost:8080/",
          "height": 279
        },
        "id": "Alzqf2avIF1x",
        "outputId": "3c75aa55-45d3-41d2-a925-38b21e2d3aff"
      },
      "outputs": [
        {
          "data": {
            "image/png": "[encoded data removed]",
            "text/plain": [
              "<Figure size 432x288 with 1 Axes>"
            ]
          },
          "metadata": {
            "needs_background": "light"
          },
          "output_type": "display_data"
        }
      ],
      "source": [
        "sns.barplot(x='가격', y='구', data=df)\n",
        "plt.show()"
      ]
    },
    {
      "cell_type": "markdown",
      "metadata": {
        "id": "ADqjLSkjL5ZJ"
      },
      "source": [
        "# 아파트 매매가격 분석"
      ]
    },
    {
      "cell_type": "markdown",
      "metadata": {
        "id": "-QeyZtr7IbiO"
      },
      "source": [
        "*   [apt_201910.csv](https://github.com/JakeOh/202105_itw_bd26/raw/main/datasets/apt_201910.csv) 파일을 읽고 DataFrame 생성\n",
        "    *   encoding 파라미터 설정\n",
        "    *   '가격' 컬럼에는 숫자 자릿수를 구분하는 comma가 사용되고 있음(예: 10,000)\n",
        "        *   '가격' 컬럼은 숫자 타입이어야 함!\n",
        "*   데이터 프레임 파악\n",
        "    *   info, head, tail, describe, dtypes, ...\n",
        "*   '시군구' 컬럼의 값을 이용해서, 'province' 파생 변수(도, 광역시 이름) 만듦.\n",
        "    *   '강원도 강릉시 견소동' -> '강원도'\n",
        "*   '계약년월' 컬럼의 값을 이용해서, 'year(계약년도)', 'month(계약월)' 파생 변수 만듦.\n",
        "    *   201910 -> 2019, 10\n",
        "*    서울특별시 아파트들의 동별 아파트 가격의 개수, 평균, 최솟값, 최댓값\n",
        "*    도/광역시별 아파트 가격 개수, 평균, 최솟값, 최댓값\n",
        "*    면적이  $84 m^2$  이상  $100 m^2$  미만의 서울특별시 아파트들 중에서, 동별 아파트 가격 개수, 평균, 최솟값, 최댓값\n",
        "*    면적이 $84 m^2$ 이상 $100 m^2$ 미만의 아파트들 중에서, 도/광역시별 아파트 가격 개수, 평균, 최솟값, 최댓값\n",
        "    *   결과를 평균의 내림차순으로 정렬해서 출력\n",
        "    *   결과를 최댓값의 내림차순으로 정렬해서 출력\n",
        "    *   결과를 최솟값의 오름차순으로 정렬해서 출력"
      ]
    },
    {
      "cell_type": "markdown",
      "metadata": {
        "id": "h4n3JghyQO3n"
      },
      "source": [
        "## 데이터 준비"
      ]
    },
    {
      "cell_type": "code",
      "execution_count": 236,
      "metadata": {
        "id": "YSZ_OhRCMIYP"
      },
      "outputs": [],
      "source": [
        "# CSV 파일이 저장된 경로\n",
        "file_path = 'https://github.com/JakeOh/202110_itw_lab_python/raw/main/apt_201910.csv'"
      ]
    },
    {
      "cell_type": "code",
      "execution_count": 237,
      "metadata": {
        "id": "Fj-9LJ8EMTdJ"
      },
      "outputs": [],
      "source": [
        "# CSV 파일을 읽고 DataFrame 생성\n",
        "apt = pd.read_csv(file_path, encoding='cp949', thousands=',')\n",
        "#> thousands=',': 숫자의 1000자리 구분자로 ','가 사용됨."
      ]
    },
    {
      "cell_type": "markdown",
      "metadata": {
        "id": "SG1cHt0nM_Ao"
      },
      "source": [
        "파일 인코딩 타입\n",
        "\n",
        "* utf-8: Liux, MacOS 등 대부분의 OS에서 텍스트의 기본 인코딩\n",
        "* cp949: 한글 MS-Windows에서 텍스트의 기본 인코딩\n",
        "* cp1252: 영문 MS-Widnows에서 텍스트의 기본 인코딩"
      ]
    },
    {
      "cell_type": "code",
      "execution_count": 238,
      "metadata": {
        "colab": {
          "base_uri": "https://localhost:8080/",
          "height": 206
        },
        "id": "W9bviTx1MbTY",
        "outputId": "60c216f1-f807-4011-c5d1-4a6ae6225bb9"
      },
      "outputs": [
        {
          "data": {
            "text/html": [
              "<div>\n",
              "<style scoped>\n",
              "    .dataframe tbody tr th:only-of-type {\n",
              "        vertical-align: middle;\n",
              "    }\n",
              "\n",
              "    .dataframe tbody tr th {\n",
              "        vertical-align: top;\n",
              "    }\n",
              "\n",
              "    .dataframe thead th {\n",
              "        text-align: right;\n",
              "    }\n",
              "</style>\n",
              "<table border=\"1\" class=\"dataframe\">\n",
              "  <thead>\n",
              "    <tr style=\"text-align: right;\">\n",
              "      <th></th>\n",
              "      <th>시군구</th>\n",
              "      <th>번지</th>\n",
              "      <th>본번</th>\n",
              "      <th>부번</th>\n",
              "      <th>단지명</th>\n",
              "      <th>면적</th>\n",
              "      <th>계약년월</th>\n",
              "      <th>계약일</th>\n",
              "      <th>가격</th>\n",
              "      <th>층</th>\n",
              "      <th>건축년도</th>\n",
              "      <th>도로명</th>\n",
              "    </tr>\n",
              "  </thead>\n",
              "  <tbody>\n",
              "    <tr>\n",
              "      <th>0</th>\n",
              "      <td>강원도 강릉시 견소동</td>\n",
              "      <td>202</td>\n",
              "      <td>202</td>\n",
              "      <td>0</td>\n",
              "      <td>송정한신</td>\n",
              "      <td>59.800</td>\n",
              "      <td>201910</td>\n",
              "      <td>4</td>\n",
              "      <td>10900</td>\n",
              "      <td>5</td>\n",
              "      <td>1997</td>\n",
              "      <td>경강로2539번길 8</td>\n",
              "    </tr>\n",
              "    <tr>\n",
              "      <th>1</th>\n",
              "      <td>강원도 강릉시 견소동</td>\n",
              "      <td>202</td>\n",
              "      <td>202</td>\n",
              "      <td>0</td>\n",
              "      <td>송정한신</td>\n",
              "      <td>116.175</td>\n",
              "      <td>201910</td>\n",
              "      <td>31</td>\n",
              "      <td>18500</td>\n",
              "      <td>10</td>\n",
              "      <td>1997</td>\n",
              "      <td>경강로2539번길 8</td>\n",
              "    </tr>\n",
              "    <tr>\n",
              "      <th>2</th>\n",
              "      <td>강원도 강릉시 견소동</td>\n",
              "      <td>289</td>\n",
              "      <td>289</td>\n",
              "      <td>0</td>\n",
              "      <td>송정해변신도브래뉴아파트</td>\n",
              "      <td>84.990</td>\n",
              "      <td>201910</td>\n",
              "      <td>5</td>\n",
              "      <td>25000</td>\n",
              "      <td>6</td>\n",
              "      <td>2005</td>\n",
              "      <td>경강로2539번길 22</td>\n",
              "    </tr>\n",
              "    <tr>\n",
              "      <th>3</th>\n",
              "      <td>강원도 강릉시 견소동</td>\n",
              "      <td>289</td>\n",
              "      <td>289</td>\n",
              "      <td>0</td>\n",
              "      <td>송정해변신도브래뉴아파트</td>\n",
              "      <td>84.990</td>\n",
              "      <td>201910</td>\n",
              "      <td>12</td>\n",
              "      <td>20600</td>\n",
              "      <td>3</td>\n",
              "      <td>2005</td>\n",
              "      <td>경강로2539번길 22</td>\n",
              "    </tr>\n",
              "    <tr>\n",
              "      <th>4</th>\n",
              "      <td>강원도 강릉시 견소동</td>\n",
              "      <td>289</td>\n",
              "      <td>289</td>\n",
              "      <td>0</td>\n",
              "      <td>송정해변신도브래뉴아파트</td>\n",
              "      <td>84.990</td>\n",
              "      <td>201910</td>\n",
              "      <td>20</td>\n",
              "      <td>20500</td>\n",
              "      <td>1</td>\n",
              "      <td>2005</td>\n",
              "      <td>경강로2539번길 22</td>\n",
              "    </tr>\n",
              "  </tbody>\n",
              "</table>\n",
              "</div>"
            ],
            "text/plain": [
              "           시군구   번지   본번  부번           단지명       면적    계약년월  계약일     가격   층  \\\n",
              "0  강원도 강릉시 견소동  202  202   0          송정한신   59.800  201910    4  10900   5   \n",
              "1  강원도 강릉시 견소동  202  202   0          송정한신  116.175  201910   31  18500  10   \n",
              "2  강원도 강릉시 견소동  289  289   0  송정해변신도브래뉴아파트   84.990  201910    5  25000   6   \n",
              "3  강원도 강릉시 견소동  289  289   0  송정해변신도브래뉴아파트   84.990  201910   12  20600   3   \n",
              "4  강원도 강릉시 견소동  289  289   0  송정해변신도브래뉴아파트   84.990  201910   20  20500   1   \n",
              "\n",
              "   건축년도           도로명  \n",
              "0  1997   경강로2539번길 8  \n",
              "1  1997   경강로2539번길 8  \n",
              "2  2005  경강로2539번길 22  \n",
              "3  2005  경강로2539번길 22  \n",
              "4  2005  경강로2539번길 22  "
            ]
          },
          "execution_count": 238,
          "metadata": {},
          "output_type": "execute_result"
        }
      ],
      "source": [
        "apt.head()"
      ]
    },
    {
      "cell_type": "code",
      "execution_count": 239,
      "metadata": {
        "colab": {
          "base_uri": "https://localhost:8080/"
        },
        "id": "k1gw13tPOR2v",
        "outputId": "34941f56-0437-4d93-a5d4-6cd855b7f7bb"
      },
      "outputs": [
        {
          "name": "stdout",
          "output_type": "stream",
          "text": [
            "<class 'pandas.core.frame.DataFrame'>\n",
            "RangeIndex: 42758 entries, 0 to 42757\n",
            "Data columns (total 12 columns):\n",
            " #   Column  Non-Null Count  Dtype  \n",
            "---  ------  --------------  -----  \n",
            " 0   시군구     42758 non-null  object \n",
            " 1   번지      42758 non-null  object \n",
            " 2   본번      42758 non-null  object \n",
            " 3   부번      42758 non-null  int64  \n",
            " 4   단지명     42758 non-null  object \n",
            " 5   면적      42758 non-null  float64\n",
            " 6   계약년월    42758 non-null  int64  \n",
            " 7   계약일     42758 non-null  int64  \n",
            " 8   가격      42758 non-null  int64  \n",
            " 9   층       42758 non-null  int64  \n",
            " 10  건축년도    42758 non-null  int64  \n",
            " 11  도로명     42758 non-null  object \n",
            "dtypes: float64(1), int64(6), object(5)\n",
            "memory usage: 3.9+ MB\n"
          ]
        }
      ],
      "source": [
        "apt.info()"
      ]
    },
    {
      "cell_type": "code",
      "execution_count": 240,
      "metadata": {
        "colab": {
          "base_uri": "https://localhost:8080/",
          "height": 206
        },
        "id": "iRMDFD3dPG34",
        "outputId": "57031ae4-7d37-437f-f791-46cb9eccea91"
      },
      "outputs": [
        {
          "data": {
            "text/html": [
              "<div>\n",
              "<style scoped>\n",
              "    .dataframe tbody tr th:only-of-type {\n",
              "        vertical-align: middle;\n",
              "    }\n",
              "\n",
              "    .dataframe tbody tr th {\n",
              "        vertical-align: top;\n",
              "    }\n",
              "\n",
              "    .dataframe thead th {\n",
              "        text-align: right;\n",
              "    }\n",
              "</style>\n",
              "<table border=\"1\" class=\"dataframe\">\n",
              "  <thead>\n",
              "    <tr style=\"text-align: right;\">\n",
              "      <th></th>\n",
              "      <th>시군구</th>\n",
              "      <th>번지</th>\n",
              "      <th>본번</th>\n",
              "      <th>부번</th>\n",
              "      <th>단지명</th>\n",
              "      <th>면적</th>\n",
              "      <th>계약년월</th>\n",
              "      <th>계약일</th>\n",
              "      <th>가격</th>\n",
              "      <th>층</th>\n",
              "      <th>건축년도</th>\n",
              "      <th>도로명</th>\n",
              "    </tr>\n",
              "  </thead>\n",
              "  <tbody>\n",
              "    <tr>\n",
              "      <th>42753</th>\n",
              "      <td>충청북도 충주시 호암동</td>\n",
              "      <td>547-6</td>\n",
              "      <td>547</td>\n",
              "      <td>6</td>\n",
              "      <td>호반현대</td>\n",
              "      <td>59.76</td>\n",
              "      <td>201910</td>\n",
              "      <td>29</td>\n",
              "      <td>7000</td>\n",
              "      <td>3</td>\n",
              "      <td>1994</td>\n",
              "      <td>신촌2길 28</td>\n",
              "    </tr>\n",
              "    <tr>\n",
              "      <th>42754</th>\n",
              "      <td>충청북도 충주시 호암동</td>\n",
              "      <td>221-23</td>\n",
              "      <td>221</td>\n",
              "      <td>23</td>\n",
              "      <td>호암리버빌(1단지)</td>\n",
              "      <td>84.68</td>\n",
              "      <td>201910</td>\n",
              "      <td>5</td>\n",
              "      <td>12000</td>\n",
              "      <td>15</td>\n",
              "      <td>2002</td>\n",
              "      <td>원호암5길 32</td>\n",
              "    </tr>\n",
              "    <tr>\n",
              "      <th>42755</th>\n",
              "      <td>충청북도 충주시 호암동</td>\n",
              "      <td>221-23</td>\n",
              "      <td>221</td>\n",
              "      <td>23</td>\n",
              "      <td>호암리버빌(1단지)</td>\n",
              "      <td>84.68</td>\n",
              "      <td>201910</td>\n",
              "      <td>15</td>\n",
              "      <td>11000</td>\n",
              "      <td>7</td>\n",
              "      <td>2002</td>\n",
              "      <td>원호암5길 32</td>\n",
              "    </tr>\n",
              "    <tr>\n",
              "      <th>42756</th>\n",
              "      <td>충청북도 충주시 호암동</td>\n",
              "      <td>221-23</td>\n",
              "      <td>221</td>\n",
              "      <td>23</td>\n",
              "      <td>호암리버빌(1단지)</td>\n",
              "      <td>84.68</td>\n",
              "      <td>201910</td>\n",
              "      <td>17</td>\n",
              "      <td>12000</td>\n",
              "      <td>14</td>\n",
              "      <td>2002</td>\n",
              "      <td>원호암5길 32</td>\n",
              "    </tr>\n",
              "    <tr>\n",
              "      <th>42757</th>\n",
              "      <td>충청북도 충주시 호암동</td>\n",
              "      <td>221-23</td>\n",
              "      <td>221</td>\n",
              "      <td>23</td>\n",
              "      <td>호암리버빌(1단지)</td>\n",
              "      <td>84.68</td>\n",
              "      <td>201910</td>\n",
              "      <td>26</td>\n",
              "      <td>11200</td>\n",
              "      <td>11</td>\n",
              "      <td>2002</td>\n",
              "      <td>원호암5길 32</td>\n",
              "    </tr>\n",
              "  </tbody>\n",
              "</table>\n",
              "</div>"
            ],
            "text/plain": [
              "                시군구      번지   본번  부번         단지명     면적    계약년월  계약일     가격  \\\n",
              "42753  충청북도 충주시 호암동   547-6  547   6        호반현대  59.76  201910   29   7000   \n",
              "42754  충청북도 충주시 호암동  221-23  221  23  호암리버빌(1단지)  84.68  201910    5  12000   \n",
              "42755  충청북도 충주시 호암동  221-23  221  23  호암리버빌(1단지)  84.68  201910   15  11000   \n",
              "42756  충청북도 충주시 호암동  221-23  221  23  호암리버빌(1단지)  84.68  201910   17  12000   \n",
              "42757  충청북도 충주시 호암동  221-23  221  23  호암리버빌(1단지)  84.68  201910   26  11200   \n",
              "\n",
              "        층  건축년도       도로명  \n",
              "42753   3  1994   신촌2길 28  \n",
              "42754  15  2002  원호암5길 32  \n",
              "42755   7  2002  원호암5길 32  \n",
              "42756  14  2002  원호암5길 32  \n",
              "42757  11  2002  원호암5길 32  "
            ]
          },
          "execution_count": 240,
          "metadata": {},
          "output_type": "execute_result"
        }
      ],
      "source": [
        "apt.tail()"
      ]
    },
    {
      "cell_type": "markdown",
      "metadata": {
        "id": "EBWL8JXGU-qu"
      },
      "source": [
        "## 숫자 타입 변수들 기술 통계량"
      ]
    },
    {
      "cell_type": "code",
      "execution_count": 241,
      "metadata": {
        "colab": {
          "base_uri": "https://localhost:8080/",
          "height": 300
        },
        "id": "4uht6CwqVBCm",
        "outputId": "318b476c-bfcd-412f-f458-eef35390c99b"
      },
      "outputs": [
        {
          "data": {
            "text/html": [
              "<div>\n",
              "<style scoped>\n",
              "    .dataframe tbody tr th:only-of-type {\n",
              "        vertical-align: middle;\n",
              "    }\n",
              "\n",
              "    .dataframe tbody tr th {\n",
              "        vertical-align: top;\n",
              "    }\n",
              "\n",
              "    .dataframe thead th {\n",
              "        text-align: right;\n",
              "    }\n",
              "</style>\n",
              "<table border=\"1\" class=\"dataframe\">\n",
              "  <thead>\n",
              "    <tr style=\"text-align: right;\">\n",
              "      <th></th>\n",
              "      <th>면적</th>\n",
              "      <th>가격</th>\n",
              "      <th>층</th>\n",
              "      <th>건축년도</th>\n",
              "    </tr>\n",
              "  </thead>\n",
              "  <tbody>\n",
              "    <tr>\n",
              "      <th>count</th>\n",
              "      <td>42758.000000</td>\n",
              "      <td>42758.000000</td>\n",
              "      <td>42758.000000</td>\n",
              "      <td>42758.000000</td>\n",
              "    </tr>\n",
              "    <tr>\n",
              "      <th>mean</th>\n",
              "      <td>75.990614</td>\n",
              "      <td>31719.163946</td>\n",
              "      <td>9.614575</td>\n",
              "      <td>2002.652252</td>\n",
              "    </tr>\n",
              "    <tr>\n",
              "      <th>std</th>\n",
              "      <td>24.816118</td>\n",
              "      <td>26001.893045</td>\n",
              "      <td>6.582509</td>\n",
              "      <td>9.716009</td>\n",
              "    </tr>\n",
              "    <tr>\n",
              "      <th>min</th>\n",
              "      <td>10.020000</td>\n",
              "      <td>600.000000</td>\n",
              "      <td>-1.000000</td>\n",
              "      <td>1962.000000</td>\n",
              "    </tr>\n",
              "    <tr>\n",
              "      <th>25%</th>\n",
              "      <td>59.820000</td>\n",
              "      <td>15500.000000</td>\n",
              "      <td>4.000000</td>\n",
              "      <td>1995.000000</td>\n",
              "    </tr>\n",
              "    <tr>\n",
              "      <th>50%</th>\n",
              "      <td>82.536900</td>\n",
              "      <td>25400.000000</td>\n",
              "      <td>9.000000</td>\n",
              "      <td>2003.000000</td>\n",
              "    </tr>\n",
              "    <tr>\n",
              "      <th>75%</th>\n",
              "      <td>84.961200</td>\n",
              "      <td>40000.000000</td>\n",
              "      <td>13.000000</td>\n",
              "      <td>2011.000000</td>\n",
              "    </tr>\n",
              "    <tr>\n",
              "      <th>max</th>\n",
              "      <td>291.336000</td>\n",
              "      <td>485000.000000</td>\n",
              "      <td>70.000000</td>\n",
              "      <td>2019.000000</td>\n",
              "    </tr>\n",
              "  </tbody>\n",
              "</table>\n",
              "</div>"
            ],
            "text/plain": [
              "                 면적             가격             층          건축년도\n",
              "count  42758.000000   42758.000000  42758.000000  42758.000000\n",
              "mean      75.990614   31719.163946      9.614575   2002.652252\n",
              "std       24.816118   26001.893045      6.582509      9.716009\n",
              "min       10.020000     600.000000     -1.000000   1962.000000\n",
              "25%       59.820000   15500.000000      4.000000   1995.000000\n",
              "50%       82.536900   25400.000000      9.000000   2003.000000\n",
              "75%       84.961200   40000.000000     13.000000   2011.000000\n",
              "max      291.336000  485000.000000     70.000000   2019.000000"
            ]
          },
          "execution_count": 241,
          "metadata": {},
          "output_type": "execute_result"
        }
      ],
      "source": [
        "apt[['면적', '가격', '층', '건축년도']].describe()"
      ]
    },
    {
      "cell_type": "markdown",
      "metadata": {
        "id": "Tp1s0zjEWidG"
      },
      "source": [
        "## 기술 통계량 시각화"
      ]
    },
    {
      "cell_type": "code",
      "execution_count": 242,
      "metadata": {
        "colab": {
          "base_uri": "https://localhost:8080/",
          "height": 279
        },
        "id": "p_TKBNjZV_VV",
        "outputId": "ae533090-eef1-4f4c-f814-e09223cce72d"
      },
      "outputs": [
        {
          "data": {
            "image/png": "[encoded data removed]",
            "text/plain": [
              "<Figure size 432x288 with 1 Axes>"
            ]
          },
          "metadata": {
            "needs_background": "light"
          },
          "output_type": "display_data"
        }
      ],
      "source": [
        "# 아파트 면적 시각화\n",
        "sns.boxplot(x='면적', data=apt)\n",
        "plt.show()"
      ]
    },
    {
      "cell_type": "code",
      "execution_count": 243,
      "metadata": {
        "colab": {
          "base_uri": "https://localhost:8080/",
          "height": 279
        },
        "id": "GYkTPzZQXrDm",
        "outputId": "931f545d-c1fc-4f53-db81-5bb1ae01ec97"
      },
      "outputs": [
        {
          "data": {
            "image/png": "[encoded data removed]",
            "text/plain": [
              "<Figure size 432x288 with 1 Axes>"
            ]
          },
          "metadata": {
            "needs_background": "light"
          },
          "output_type": "display_data"
        }
      ],
      "source": [
        "sns.histplot(x='면적', data=apt, bins=20)  # 히스토그램\n",
        "plt.show()"
      ]
    },
    {
      "cell_type": "code",
      "execution_count": 244,
      "metadata": {
        "colab": {
          "base_uri": "https://localhost:8080/",
          "height": 279
        },
        "id": "W-L_UIeBXyPE",
        "outputId": "88b6ea17-e2e9-41cd-a343-0046cc3f25e5"
      },
      "outputs": [
        {
          "data": {
            "image/png": "[encoded data removed]",
            "text/plain": [
              "<Figure size 432x288 with 1 Axes>"
            ]
          },
          "metadata": {
            "needs_background": "light"
          },
          "output_type": "display_data"
        }
      ],
      "source": [
        "# 가격 시각화\n",
        "sns.boxplot(x='가격', data=apt)\n",
        "plt.show()"
      ]
    },
    {
      "cell_type": "code",
      "execution_count": 245,
      "metadata": {
        "colab": {
          "base_uri": "https://localhost:8080/",
          "height": 279
        },
        "id": "CdENt3KQY4f2",
        "outputId": "14e15d2d-4c17-4bc3-b99f-fafc79097136"
      },
      "outputs": [
        {
          "data": {
            "image/png": "[encoded data removed]",
            "text/plain": [
              "<Figure size 432x288 with 1 Axes>"
            ]
          },
          "metadata": {
            "needs_background": "light"
          },
          "output_type": "display_data"
        }
      ],
      "source": [
        "sns.histplot(x='가격', data=apt, bins=20)\n",
        "plt.show()"
      ]
    },
    {
      "cell_type": "markdown",
      "metadata": {
        "id": "ZGAaQo0zaQJ0"
      },
      "source": [
        "## 파생 변수 추가\n",
        "\n",
        "* province: 광역시도\n",
        "* year: 매매 연도\n",
        "* month: 매매 월"
      ]
    },
    {
      "cell_type": "code",
      "execution_count": 246,
      "metadata": {
        "id": "OYOHgNe9ZPec"
      },
      "outputs": [],
      "source": [
        "apt['province'] = apt['시군구'].str.split().str[0]"
      ]
    },
    {
      "cell_type": "code",
      "execution_count": 247,
      "metadata": {
        "colab": {
          "base_uri": "https://localhost:8080/",
          "height": 206
        },
        "id": "R1NwlLfpaytM",
        "outputId": "1562e245-f4ad-4d18-8ce3-4043d6b660a5"
      },
      "outputs": [
        {
          "data": {
            "text/html": [
              "<div>\n",
              "<style scoped>\n",
              "    .dataframe tbody tr th:only-of-type {\n",
              "        vertical-align: middle;\n",
              "    }\n",
              "\n",
              "    .dataframe tbody tr th {\n",
              "        vertical-align: top;\n",
              "    }\n",
              "\n",
              "    .dataframe thead th {\n",
              "        text-align: right;\n",
              "    }\n",
              "</style>\n",
              "<table border=\"1\" class=\"dataframe\">\n",
              "  <thead>\n",
              "    <tr style=\"text-align: right;\">\n",
              "      <th></th>\n",
              "      <th>시군구</th>\n",
              "      <th>번지</th>\n",
              "      <th>본번</th>\n",
              "      <th>부번</th>\n",
              "      <th>단지명</th>\n",
              "      <th>면적</th>\n",
              "      <th>계약년월</th>\n",
              "      <th>계약일</th>\n",
              "      <th>가격</th>\n",
              "      <th>층</th>\n",
              "      <th>건축년도</th>\n",
              "      <th>도로명</th>\n",
              "      <th>province</th>\n",
              "    </tr>\n",
              "  </thead>\n",
              "  <tbody>\n",
              "    <tr>\n",
              "      <th>0</th>\n",
              "      <td>강원도 강릉시 견소동</td>\n",
              "      <td>202</td>\n",
              "      <td>202</td>\n",
              "      <td>0</td>\n",
              "      <td>송정한신</td>\n",
              "      <td>59.800</td>\n",
              "      <td>201910</td>\n",
              "      <td>4</td>\n",
              "      <td>10900</td>\n",
              "      <td>5</td>\n",
              "      <td>1997</td>\n",
              "      <td>경강로2539번길 8</td>\n",
              "      <td>강원도</td>\n",
              "    </tr>\n",
              "    <tr>\n",
              "      <th>1</th>\n",
              "      <td>강원도 강릉시 견소동</td>\n",
              "      <td>202</td>\n",
              "      <td>202</td>\n",
              "      <td>0</td>\n",
              "      <td>송정한신</td>\n",
              "      <td>116.175</td>\n",
              "      <td>201910</td>\n",
              "      <td>31</td>\n",
              "      <td>18500</td>\n",
              "      <td>10</td>\n",
              "      <td>1997</td>\n",
              "      <td>경강로2539번길 8</td>\n",
              "      <td>강원도</td>\n",
              "    </tr>\n",
              "    <tr>\n",
              "      <th>2</th>\n",
              "      <td>강원도 강릉시 견소동</td>\n",
              "      <td>289</td>\n",
              "      <td>289</td>\n",
              "      <td>0</td>\n",
              "      <td>송정해변신도브래뉴아파트</td>\n",
              "      <td>84.990</td>\n",
              "      <td>201910</td>\n",
              "      <td>5</td>\n",
              "      <td>25000</td>\n",
              "      <td>6</td>\n",
              "      <td>2005</td>\n",
              "      <td>경강로2539번길 22</td>\n",
              "      <td>강원도</td>\n",
              "    </tr>\n",
              "    <tr>\n",
              "      <th>3</th>\n",
              "      <td>강원도 강릉시 견소동</td>\n",
              "      <td>289</td>\n",
              "      <td>289</td>\n",
              "      <td>0</td>\n",
              "      <td>송정해변신도브래뉴아파트</td>\n",
              "      <td>84.990</td>\n",
              "      <td>201910</td>\n",
              "      <td>12</td>\n",
              "      <td>20600</td>\n",
              "      <td>3</td>\n",
              "      <td>2005</td>\n",
              "      <td>경강로2539번길 22</td>\n",
              "      <td>강원도</td>\n",
              "    </tr>\n",
              "    <tr>\n",
              "      <th>4</th>\n",
              "      <td>강원도 강릉시 견소동</td>\n",
              "      <td>289</td>\n",
              "      <td>289</td>\n",
              "      <td>0</td>\n",
              "      <td>송정해변신도브래뉴아파트</td>\n",
              "      <td>84.990</td>\n",
              "      <td>201910</td>\n",
              "      <td>20</td>\n",
              "      <td>20500</td>\n",
              "      <td>1</td>\n",
              "      <td>2005</td>\n",
              "      <td>경강로2539번길 22</td>\n",
              "      <td>강원도</td>\n",
              "    </tr>\n",
              "  </tbody>\n",
              "</table>\n",
              "</div>"
            ],
            "text/plain": [
              "           시군구   번지   본번  부번           단지명       면적    계약년월  계약일     가격   층  \\\n",
              "0  강원도 강릉시 견소동  202  202   0          송정한신   59.800  201910    4  10900   5   \n",
              "1  강원도 강릉시 견소동  202  202   0          송정한신  116.175  201910   31  18500  10   \n",
              "2  강원도 강릉시 견소동  289  289   0  송정해변신도브래뉴아파트   84.990  201910    5  25000   6   \n",
              "3  강원도 강릉시 견소동  289  289   0  송정해변신도브래뉴아파트   84.990  201910   12  20600   3   \n",
              "4  강원도 강릉시 견소동  289  289   0  송정해변신도브래뉴아파트   84.990  201910   20  20500   1   \n",
              "\n",
              "   건축년도           도로명 province  \n",
              "0  1997   경강로2539번길 8      강원도  \n",
              "1  1997   경강로2539번길 8      강원도  \n",
              "2  2005  경강로2539번길 22      강원도  \n",
              "3  2005  경강로2539번길 22      강원도  \n",
              "4  2005  경강로2539번길 22      강원도  "
            ]
          },
          "execution_count": 247,
          "metadata": {},
          "output_type": "execute_result"
        }
      ],
      "source": [
        "apt.head()"
      ]
    },
    {
      "cell_type": "code",
      "execution_count": 248,
      "metadata": {
        "colab": {
          "base_uri": "https://localhost:8080/"
        },
        "id": "NnR59RJgbOks",
        "outputId": "5d1c1eb3-ea4b-4ed8-ca45-0ed2ed5760ef"
      },
      "outputs": [
        {
          "data": {
            "text/plain": [
              "array(['강원도', '경기도', '경상남도', '경상북도', '광주광역시', '대구광역시', '대전광역시', '부산광역시',\n",
              "       '서울특별시', '세종특별자치시', '울산광역시', '인천광역시', '전라남도', '전라북도', '제주특별자치도',\n",
              "       '충청남도', '충청북도'], dtype=object)"
            ]
          },
          "execution_count": 248,
          "metadata": {},
          "output_type": "execute_result"
        }
      ],
      "source": [
        "apt['province'].unique()"
      ]
    },
    {
      "cell_type": "code",
      "execution_count": 249,
      "metadata": {
        "colab": {
          "base_uri": "https://localhost:8080/"
        },
        "id": "k6zlSOoObWw0",
        "outputId": "199b8ee3-196e-41b3-a180-dadcf6cceb82"
      },
      "outputs": [
        {
          "data": {
            "text/plain": [
              "경기도        12126\n",
              "서울특별시       4701\n",
              "경상남도        2955\n",
              "인천광역시       2761\n",
              "부산광역시       2752\n",
              "대전광역시       2487\n",
              "충청남도        2045\n",
              "경상북도        1985\n",
              "대구광역시       1969\n",
              "광주광역시       1588\n",
              "충청북도        1576\n",
              "울산광역시       1562\n",
              "전라북도        1394\n",
              "전라남도        1234\n",
              "강원도         1143\n",
              "세종특별자치시      315\n",
              "제주특별자치도      165\n",
              "Name: province, dtype: int64"
            ]
          },
          "execution_count": 249,
          "metadata": {},
          "output_type": "execute_result"
        }
      ],
      "source": [
        "apt['province'].value_counts()"
      ]
    },
    {
      "cell_type": "code",
      "execution_count": 250,
      "metadata": {
        "colab": {
          "base_uri": "https://localhost:8080/",
          "height": 279
        },
        "id": "4ak9lf1ubyKr",
        "outputId": "c85f715a-d965-4948-e976-b67b6a447b16"
      },
      "outputs": [
        {
          "data": {
            "image/png": "[encoded data removed]",
            "text/plain": [
              "<Figure size 432x288 with 1 Axes>"
            ]
          },
          "metadata": {
            "needs_background": "light"
          },
          "output_type": "display_data"
        }
      ],
      "source": [
        "sns.countplot(y='province', data=apt)\n",
        "plt.show()"
      ]
    },
    {
      "cell_type": "code",
      "execution_count": 251,
      "metadata": {
        "id": "-MfBFeaEcjQk"
      },
      "outputs": [],
      "source": [
        "# 시/군/구 파생변수\n",
        "apt['county'] = apt['시군구'].str.split().str[1]"
      ]
    },
    {
      "cell_type": "code",
      "execution_count": 252,
      "metadata": {
        "colab": {
          "base_uri": "https://localhost:8080/",
          "height": 206
        },
        "id": "ZlDr6LiPgwwU",
        "outputId": "e30c4c10-fa80-4a0d-ffcf-4f58246ae696"
      },
      "outputs": [
        {
          "data": {
            "text/html": [
              "<div>\n",
              "<style scoped>\n",
              "    .dataframe tbody tr th:only-of-type {\n",
              "        vertical-align: middle;\n",
              "    }\n",
              "\n",
              "    .dataframe tbody tr th {\n",
              "        vertical-align: top;\n",
              "    }\n",
              "\n",
              "    .dataframe thead th {\n",
              "        text-align: right;\n",
              "    }\n",
              "</style>\n",
              "<table border=\"1\" class=\"dataframe\">\n",
              "  <thead>\n",
              "    <tr style=\"text-align: right;\">\n",
              "      <th></th>\n",
              "      <th>시군구</th>\n",
              "      <th>번지</th>\n",
              "      <th>본번</th>\n",
              "      <th>부번</th>\n",
              "      <th>단지명</th>\n",
              "      <th>면적</th>\n",
              "      <th>계약년월</th>\n",
              "      <th>계약일</th>\n",
              "      <th>가격</th>\n",
              "      <th>층</th>\n",
              "      <th>건축년도</th>\n",
              "      <th>도로명</th>\n",
              "      <th>province</th>\n",
              "      <th>county</th>\n",
              "    </tr>\n",
              "  </thead>\n",
              "  <tbody>\n",
              "    <tr>\n",
              "      <th>0</th>\n",
              "      <td>강원도 강릉시 견소동</td>\n",
              "      <td>202</td>\n",
              "      <td>202</td>\n",
              "      <td>0</td>\n",
              "      <td>송정한신</td>\n",
              "      <td>59.800</td>\n",
              "      <td>201910</td>\n",
              "      <td>4</td>\n",
              "      <td>10900</td>\n",
              "      <td>5</td>\n",
              "      <td>1997</td>\n",
              "      <td>경강로2539번길 8</td>\n",
              "      <td>강원도</td>\n",
              "      <td>강릉시</td>\n",
              "    </tr>\n",
              "    <tr>\n",
              "      <th>1</th>\n",
              "      <td>강원도 강릉시 견소동</td>\n",
              "      <td>202</td>\n",
              "      <td>202</td>\n",
              "      <td>0</td>\n",
              "      <td>송정한신</td>\n",
              "      <td>116.175</td>\n",
              "      <td>201910</td>\n",
              "      <td>31</td>\n",
              "      <td>18500</td>\n",
              "      <td>10</td>\n",
              "      <td>1997</td>\n",
              "      <td>경강로2539번길 8</td>\n",
              "      <td>강원도</td>\n",
              "      <td>강릉시</td>\n",
              "    </tr>\n",
              "    <tr>\n",
              "      <th>2</th>\n",
              "      <td>강원도 강릉시 견소동</td>\n",
              "      <td>289</td>\n",
              "      <td>289</td>\n",
              "      <td>0</td>\n",
              "      <td>송정해변신도브래뉴아파트</td>\n",
              "      <td>84.990</td>\n",
              "      <td>201910</td>\n",
              "      <td>5</td>\n",
              "      <td>25000</td>\n",
              "      <td>6</td>\n",
              "      <td>2005</td>\n",
              "      <td>경강로2539번길 22</td>\n",
              "      <td>강원도</td>\n",
              "      <td>강릉시</td>\n",
              "    </tr>\n",
              "    <tr>\n",
              "      <th>3</th>\n",
              "      <td>강원도 강릉시 견소동</td>\n",
              "      <td>289</td>\n",
              "      <td>289</td>\n",
              "      <td>0</td>\n",
              "      <td>송정해변신도브래뉴아파트</td>\n",
              "      <td>84.990</td>\n",
              "      <td>201910</td>\n",
              "      <td>12</td>\n",
              "      <td>20600</td>\n",
              "      <td>3</td>\n",
              "      <td>2005</td>\n",
              "      <td>경강로2539번길 22</td>\n",
              "      <td>강원도</td>\n",
              "      <td>강릉시</td>\n",
              "    </tr>\n",
              "    <tr>\n",
              "      <th>4</th>\n",
              "      <td>강원도 강릉시 견소동</td>\n",
              "      <td>289</td>\n",
              "      <td>289</td>\n",
              "      <td>0</td>\n",
              "      <td>송정해변신도브래뉴아파트</td>\n",
              "      <td>84.990</td>\n",
              "      <td>201910</td>\n",
              "      <td>20</td>\n",
              "      <td>20500</td>\n",
              "      <td>1</td>\n",
              "      <td>2005</td>\n",
              "      <td>경강로2539번길 22</td>\n",
              "      <td>강원도</td>\n",
              "      <td>강릉시</td>\n",
              "    </tr>\n",
              "  </tbody>\n",
              "</table>\n",
              "</div>"
            ],
            "text/plain": [
              "           시군구   번지   본번  부번           단지명       면적    계약년월  계약일     가격   층  \\\n",
              "0  강원도 강릉시 견소동  202  202   0          송정한신   59.800  201910    4  10900   5   \n",
              "1  강원도 강릉시 견소동  202  202   0          송정한신  116.175  201910   31  18500  10   \n",
              "2  강원도 강릉시 견소동  289  289   0  송정해변신도브래뉴아파트   84.990  201910    5  25000   6   \n",
              "3  강원도 강릉시 견소동  289  289   0  송정해변신도브래뉴아파트   84.990  201910   12  20600   3   \n",
              "4  강원도 강릉시 견소동  289  289   0  송정해변신도브래뉴아파트   84.990  201910   20  20500   1   \n",
              "\n",
              "   건축년도           도로명 province county  \n",
              "0  1997   경강로2539번길 8      강원도    강릉시  \n",
              "1  1997   경강로2539번길 8      강원도    강릉시  \n",
              "2  2005  경강로2539번길 22      강원도    강릉시  \n",
              "3  2005  경강로2539번길 22      강원도    강릉시  \n",
              "4  2005  경강로2539번길 22      강원도    강릉시  "
            ]
          },
          "execution_count": 252,
          "metadata": {},
          "output_type": "execute_result"
        }
      ],
      "source": [
        "apt.head()"
      ]
    },
    {
      "cell_type": "code",
      "execution_count": 253,
      "metadata": {
        "colab": {
          "base_uri": "https://localhost:8080/"
        },
        "id": "BwtPY1WTgsCS",
        "outputId": "94b254a2-5f36-484c-c112-09127eeb5a1d"
      },
      "outputs": [
        {
          "data": {
            "text/plain": [
              "array(['강릉시', '고성군', '동해시', '삼척시', '속초시', '양구군', '양양군', '영월군', '원주시',\n",
              "       '인제군', '정선군', '철원군', '춘천시', '태백시', '평창군', '홍천군', '화천군', '횡성군',\n",
              "       '가평군', '고양덕양구', '고양일산동구', '고양일산서구', '과천시', '광명시', '광주시', '구리시',\n",
              "       '군포시', '김포시', '남양주시', '동두천시', '부천시', '성남분당구', '성남수정구', '성남중원구',\n",
              "       '수원권선구', '수원영통구', '수원장안구', '수원팔달구', '시흥시', '안산단원구', '안산상록구', '안성시',\n",
              "       '안양동안구', '안양만안구', '양주시', '양평군', '여주시', '연천군', '오산시', '용인기흥구',\n",
              "       '용인수지구', '용인처인구', '의왕시', '의정부시', '이천시', '파주시', '평택시', '포천시', '하남시',\n",
              "       '화성시', '거제시', '거창군', '김해시', '남해군', '밀양시', '사천시', '산청군', '양산시',\n",
              "       '의령군', '진주시', '창녕군', '창원마산합포구', '창원마산회원구', '창원성산구', '창원의창구',\n",
              "       '창원진해구', '통영시', '하동군', '함안군', '함양군', '합천군', '경산시', '경주시', '고령군',\n",
              "       '구미시', '군위군', '김천시', '문경시', '봉화군', '상주시', '성주군', '안동시', '영덕군',\n",
              "       '영주시', '영천시', '예천군', '울릉군', '울진군', '의성군', '청도군', '청송군', '칠곡군',\n",
              "       '포항남구', '포항북구', '광산구', '남구', '동구', '북구', '서구', '달서구', '달성군', '수성구',\n",
              "       '중구', '대덕구', '유성구', '강서구', '금정구', '기장군', '동래구', '부산진구', '사상구',\n",
              "       '사하구', '수영구', '연제구', '영도구', '해운대구', '강남구', '강동구', '강북구', '관악구',\n",
              "       '광진구', '구로구', '금천구', '노원구', '도봉구', '동대문구', '동작구', '마포구', '서대문구',\n",
              "       '서초구', '성동구', '성북구', '송파구', '양천구', '영등포구', '용산구', '은평구', '종로구',\n",
              "       '중랑구', '고운동', '금남면', '나성동', '다정동', '대평동', '도담동', '보람동', '부강면',\n",
              "       '새롬동', '소담동', '아름동', '어진동', '연동면', '연서면', '전의면', '조치원읍', '종촌동',\n",
              "       '한솔동', '울주군', '강화군', '계양구', '남동구', '미추홀구', '부평구', '연수구', '강진군',\n",
              "       '고흥군', '곡성군', '광양시', '구례군', '나주시', '담양군', '목포시', '무안군', '보성군',\n",
              "       '순천시', '여수시', '영광군', '영암군', '완도군', '장성군', '장흥군', '진도군', '함평군',\n",
              "       '해남군', '화순군', '고창군', '군산시', '김제시', '남원시', '무주군', '부안군', '순창군',\n",
              "       '완주군', '익산시', '임실군', '장수군', '전주덕진구', '전주완산구', '정읍시', '진안군', '서귀포시',\n",
              "       '제주시', '계룡시', '공주시', '금산군', '논산시', '당진시', '보령시', '부여군', '서산시',\n",
              "       '서천군', '아산시', '예산군', '천안동남구', '천안서북구', '청양군', '태안군', '홍성군', '괴산군',\n",
              "       '단양군', '보은군', '영동군', '옥천군', '음성군', '제천시', '증평군', '진천군', '청주상당구',\n",
              "       '청주서원구', '청주청원구', '청주흥덕구', '충주시'], dtype=object)"
            ]
          },
          "execution_count": 253,
          "metadata": {},
          "output_type": "execute_result"
        }
      ],
      "source": [
        "apt['county'].unique()"
      ]
    },
    {
      "cell_type": "code",
      "execution_count": 254,
      "metadata": {
        "id": "RQGX5GBNgv6a"
      },
      "outputs": [],
      "source": [
        "apt['dong'] = apt['시군구'].str.split().str[2]"
      ]
    },
    {
      "cell_type": "code",
      "execution_count": 255,
      "metadata": {
        "colab": {
          "base_uri": "https://localhost:8080/",
          "height": 250
        },
        "id": "z3mDtarThWBK",
        "outputId": "731d4061-4e43-4eb8-cdea-b832e92588d6"
      },
      "outputs": [
        {
          "data": {
            "text/html": [
              "<div>\n",
              "<style scoped>\n",
              "    .dataframe tbody tr th:only-of-type {\n",
              "        vertical-align: middle;\n",
              "    }\n",
              "\n",
              "    .dataframe tbody tr th {\n",
              "        vertical-align: top;\n",
              "    }\n",
              "\n",
              "    .dataframe thead th {\n",
              "        text-align: right;\n",
              "    }\n",
              "</style>\n",
              "<table border=\"1\" class=\"dataframe\">\n",
              "  <thead>\n",
              "    <tr style=\"text-align: right;\">\n",
              "      <th></th>\n",
              "      <th>시군구</th>\n",
              "      <th>번지</th>\n",
              "      <th>본번</th>\n",
              "      <th>부번</th>\n",
              "      <th>단지명</th>\n",
              "      <th>면적</th>\n",
              "      <th>계약년월</th>\n",
              "      <th>계약일</th>\n",
              "      <th>가격</th>\n",
              "      <th>층</th>\n",
              "      <th>건축년도</th>\n",
              "      <th>도로명</th>\n",
              "      <th>province</th>\n",
              "      <th>county</th>\n",
              "      <th>dong</th>\n",
              "    </tr>\n",
              "  </thead>\n",
              "  <tbody>\n",
              "    <tr>\n",
              "      <th>0</th>\n",
              "      <td>강원도 강릉시 견소동</td>\n",
              "      <td>202</td>\n",
              "      <td>202</td>\n",
              "      <td>0</td>\n",
              "      <td>송정한신</td>\n",
              "      <td>59.800</td>\n",
              "      <td>201910</td>\n",
              "      <td>4</td>\n",
              "      <td>10900</td>\n",
              "      <td>5</td>\n",
              "      <td>1997</td>\n",
              "      <td>경강로2539번길 8</td>\n",
              "      <td>강원도</td>\n",
              "      <td>강릉시</td>\n",
              "      <td>견소동</td>\n",
              "    </tr>\n",
              "    <tr>\n",
              "      <th>1</th>\n",
              "      <td>강원도 강릉시 견소동</td>\n",
              "      <td>202</td>\n",
              "      <td>202</td>\n",
              "      <td>0</td>\n",
              "      <td>송정한신</td>\n",
              "      <td>116.175</td>\n",
              "      <td>201910</td>\n",
              "      <td>31</td>\n",
              "      <td>18500</td>\n",
              "      <td>10</td>\n",
              "      <td>1997</td>\n",
              "      <td>경강로2539번길 8</td>\n",
              "      <td>강원도</td>\n",
              "      <td>강릉시</td>\n",
              "      <td>견소동</td>\n",
              "    </tr>\n",
              "    <tr>\n",
              "      <th>2</th>\n",
              "      <td>강원도 강릉시 견소동</td>\n",
              "      <td>289</td>\n",
              "      <td>289</td>\n",
              "      <td>0</td>\n",
              "      <td>송정해변신도브래뉴아파트</td>\n",
              "      <td>84.990</td>\n",
              "      <td>201910</td>\n",
              "      <td>5</td>\n",
              "      <td>25000</td>\n",
              "      <td>6</td>\n",
              "      <td>2005</td>\n",
              "      <td>경강로2539번길 22</td>\n",
              "      <td>강원도</td>\n",
              "      <td>강릉시</td>\n",
              "      <td>견소동</td>\n",
              "    </tr>\n",
              "    <tr>\n",
              "      <th>3</th>\n",
              "      <td>강원도 강릉시 견소동</td>\n",
              "      <td>289</td>\n",
              "      <td>289</td>\n",
              "      <td>0</td>\n",
              "      <td>송정해변신도브래뉴아파트</td>\n",
              "      <td>84.990</td>\n",
              "      <td>201910</td>\n",
              "      <td>12</td>\n",
              "      <td>20600</td>\n",
              "      <td>3</td>\n",
              "      <td>2005</td>\n",
              "      <td>경강로2539번길 22</td>\n",
              "      <td>강원도</td>\n",
              "      <td>강릉시</td>\n",
              "      <td>견소동</td>\n",
              "    </tr>\n",
              "    <tr>\n",
              "      <th>4</th>\n",
              "      <td>강원도 강릉시 견소동</td>\n",
              "      <td>289</td>\n",
              "      <td>289</td>\n",
              "      <td>0</td>\n",
              "      <td>송정해변신도브래뉴아파트</td>\n",
              "      <td>84.990</td>\n",
              "      <td>201910</td>\n",
              "      <td>20</td>\n",
              "      <td>20500</td>\n",
              "      <td>1</td>\n",
              "      <td>2005</td>\n",
              "      <td>경강로2539번길 22</td>\n",
              "      <td>강원도</td>\n",
              "      <td>강릉시</td>\n",
              "      <td>견소동</td>\n",
              "    </tr>\n",
              "  </tbody>\n",
              "</table>\n",
              "</div>"
            ],
            "text/plain": [
              "           시군구   번지   본번  부번           단지명       면적    계약년월  계약일     가격   층  \\\n",
              "0  강원도 강릉시 견소동  202  202   0          송정한신   59.800  201910    4  10900   5   \n",
              "1  강원도 강릉시 견소동  202  202   0          송정한신  116.175  201910   31  18500  10   \n",
              "2  강원도 강릉시 견소동  289  289   0  송정해변신도브래뉴아파트   84.990  201910    5  25000   6   \n",
              "3  강원도 강릉시 견소동  289  289   0  송정해변신도브래뉴아파트   84.990  201910   12  20600   3   \n",
              "4  강원도 강릉시 견소동  289  289   0  송정해변신도브래뉴아파트   84.990  201910   20  20500   1   \n",
              "\n",
              "   건축년도           도로명 province county dong  \n",
              "0  1997   경강로2539번길 8      강원도    강릉시  견소동  \n",
              "1  1997   경강로2539번길 8      강원도    강릉시  견소동  \n",
              "2  2005  경강로2539번길 22      강원도    강릉시  견소동  \n",
              "3  2005  경강로2539번길 22      강원도    강릉시  견소동  \n",
              "4  2005  경강로2539번길 22      강원도    강릉시  견소동  "
            ]
          },
          "execution_count": 255,
          "metadata": {},
          "output_type": "execute_result"
        }
      ],
      "source": [
        "apt.head()"
      ]
    },
    {
      "cell_type": "code",
      "execution_count": 256,
      "metadata": {
        "colab": {
          "base_uri": "https://localhost:8080/"
        },
        "id": "mLjcq_vmhYGS",
        "outputId": "8051ee82-33e0-4c8c-8b61-df4da9ec4011"
      },
      "outputs": [
        {
          "data": {
            "text/plain": [
              "array(['견소동', '교동', '남문동', ..., '지현동', '칠금동', '호암동'], dtype=object)"
            ]
          },
          "execution_count": 256,
          "metadata": {},
          "output_type": "execute_result"
        }
      ],
      "source": [
        "apt['dong'].unique()"
      ]
    },
    {
      "cell_type": "code",
      "execution_count": 257,
      "metadata": {
        "id": "CleCVftehgiS"
      },
      "outputs": [],
      "source": [
        "apt['year'] = apt['계약년월'] // 100  # 몫\n",
        "apt['month'] = apt['계약년월'] % 100  # 나머지"
      ]
    },
    {
      "cell_type": "code",
      "execution_count": 258,
      "metadata": {
        "colab": {
          "base_uri": "https://localhost:8080/",
          "height": 354
        },
        "id": "czE8hgYhiDqC",
        "outputId": "17df8e66-016b-470c-8c45-fe84f0a8ba59"
      },
      "outputs": [
        {
          "data": {
            "text/html": [
              "<div>\n",
              "<style scoped>\n",
              "    .dataframe tbody tr th:only-of-type {\n",
              "        vertical-align: middle;\n",
              "    }\n",
              "\n",
              "    .dataframe tbody tr th {\n",
              "        vertical-align: top;\n",
              "    }\n",
              "\n",
              "    .dataframe thead th {\n",
              "        text-align: right;\n",
              "    }\n",
              "</style>\n",
              "<table border=\"1\" class=\"dataframe\">\n",
              "  <thead>\n",
              "    <tr style=\"text-align: right;\">\n",
              "      <th></th>\n",
              "      <th>시군구</th>\n",
              "      <th>번지</th>\n",
              "      <th>본번</th>\n",
              "      <th>부번</th>\n",
              "      <th>단지명</th>\n",
              "      <th>면적</th>\n",
              "      <th>계약년월</th>\n",
              "      <th>계약일</th>\n",
              "      <th>가격</th>\n",
              "      <th>층</th>\n",
              "      <th>건축년도</th>\n",
              "      <th>도로명</th>\n",
              "      <th>province</th>\n",
              "      <th>county</th>\n",
              "      <th>dong</th>\n",
              "      <th>year</th>\n",
              "      <th>month</th>\n",
              "    </tr>\n",
              "  </thead>\n",
              "  <tbody>\n",
              "    <tr>\n",
              "      <th>0</th>\n",
              "      <td>강원도 강릉시 견소동</td>\n",
              "      <td>202</td>\n",
              "      <td>202</td>\n",
              "      <td>0</td>\n",
              "      <td>송정한신</td>\n",
              "      <td>59.800</td>\n",
              "      <td>201910</td>\n",
              "      <td>4</td>\n",
              "      <td>10900</td>\n",
              "      <td>5</td>\n",
              "      <td>1997</td>\n",
              "      <td>경강로2539번길 8</td>\n",
              "      <td>강원도</td>\n",
              "      <td>강릉시</td>\n",
              "      <td>견소동</td>\n",
              "      <td>2019</td>\n",
              "      <td>10</td>\n",
              "    </tr>\n",
              "    <tr>\n",
              "      <th>1</th>\n",
              "      <td>강원도 강릉시 견소동</td>\n",
              "      <td>202</td>\n",
              "      <td>202</td>\n",
              "      <td>0</td>\n",
              "      <td>송정한신</td>\n",
              "      <td>116.175</td>\n",
              "      <td>201910</td>\n",
              "      <td>31</td>\n",
              "      <td>18500</td>\n",
              "      <td>10</td>\n",
              "      <td>1997</td>\n",
              "      <td>경강로2539번길 8</td>\n",
              "      <td>강원도</td>\n",
              "      <td>강릉시</td>\n",
              "      <td>견소동</td>\n",
              "      <td>2019</td>\n",
              "      <td>10</td>\n",
              "    </tr>\n",
              "    <tr>\n",
              "      <th>2</th>\n",
              "      <td>강원도 강릉시 견소동</td>\n",
              "      <td>289</td>\n",
              "      <td>289</td>\n",
              "      <td>0</td>\n",
              "      <td>송정해변신도브래뉴아파트</td>\n",
              "      <td>84.990</td>\n",
              "      <td>201910</td>\n",
              "      <td>5</td>\n",
              "      <td>25000</td>\n",
              "      <td>6</td>\n",
              "      <td>2005</td>\n",
              "      <td>경강로2539번길 22</td>\n",
              "      <td>강원도</td>\n",
              "      <td>강릉시</td>\n",
              "      <td>견소동</td>\n",
              "      <td>2019</td>\n",
              "      <td>10</td>\n",
              "    </tr>\n",
              "    <tr>\n",
              "      <th>3</th>\n",
              "      <td>강원도 강릉시 견소동</td>\n",
              "      <td>289</td>\n",
              "      <td>289</td>\n",
              "      <td>0</td>\n",
              "      <td>송정해변신도브래뉴아파트</td>\n",
              "      <td>84.990</td>\n",
              "      <td>201910</td>\n",
              "      <td>12</td>\n",
              "      <td>20600</td>\n",
              "      <td>3</td>\n",
              "      <td>2005</td>\n",
              "      <td>경강로2539번길 22</td>\n",
              "      <td>강원도</td>\n",
              "      <td>강릉시</td>\n",
              "      <td>견소동</td>\n",
              "      <td>2019</td>\n",
              "      <td>10</td>\n",
              "    </tr>\n",
              "    <tr>\n",
              "      <th>4</th>\n",
              "      <td>강원도 강릉시 견소동</td>\n",
              "      <td>289</td>\n",
              "      <td>289</td>\n",
              "      <td>0</td>\n",
              "      <td>송정해변신도브래뉴아파트</td>\n",
              "      <td>84.990</td>\n",
              "      <td>201910</td>\n",
              "      <td>20</td>\n",
              "      <td>20500</td>\n",
              "      <td>1</td>\n",
              "      <td>2005</td>\n",
              "      <td>경강로2539번길 22</td>\n",
              "      <td>강원도</td>\n",
              "      <td>강릉시</td>\n",
              "      <td>견소동</td>\n",
              "      <td>2019</td>\n",
              "      <td>10</td>\n",
              "    </tr>\n",
              "  </tbody>\n",
              "</table>\n",
              "</div>"
            ],
            "text/plain": [
              "           시군구   번지   본번  부번           단지명       면적    계약년월  계약일     가격   층  \\\n",
              "0  강원도 강릉시 견소동  202  202   0          송정한신   59.800  201910    4  10900   5   \n",
              "1  강원도 강릉시 견소동  202  202   0          송정한신  116.175  201910   31  18500  10   \n",
              "2  강원도 강릉시 견소동  289  289   0  송정해변신도브래뉴아파트   84.990  201910    5  25000   6   \n",
              "3  강원도 강릉시 견소동  289  289   0  송정해변신도브래뉴아파트   84.990  201910   12  20600   3   \n",
              "4  강원도 강릉시 견소동  289  289   0  송정해변신도브래뉴아파트   84.990  201910   20  20500   1   \n",
              "\n",
              "   건축년도           도로명 province county dong  year  month  \n",
              "0  1997   경강로2539번길 8      강원도    강릉시  견소동  2019     10  \n",
              "1  1997   경강로2539번길 8      강원도    강릉시  견소동  2019     10  \n",
              "2  2005  경강로2539번길 22      강원도    강릉시  견소동  2019     10  \n",
              "3  2005  경강로2539번길 22      강원도    강릉시  견소동  2019     10  \n",
              "4  2005  경강로2539번길 22      강원도    강릉시  견소동  2019     10  "
            ]
          },
          "execution_count": 258,
          "metadata": {},
          "output_type": "execute_result"
        }
      ],
      "source": [
        "apt.head()"
      ]
    },
    {
      "cell_type": "code",
      "execution_count": 259,
      "metadata": {
        "colab": {
          "base_uri": "https://localhost:8080/"
        },
        "id": "_Fl05YZ3iFFS",
        "outputId": "9d9db9a5-7d0b-4e31-a2b8-3a02e11512d7"
      },
      "outputs": [
        {
          "data": {
            "text/plain": [
              "array([2019], dtype=int64)"
            ]
          },
          "execution_count": 259,
          "metadata": {},
          "output_type": "execute_result"
        }
      ],
      "source": [
        "apt['year'].unique()"
      ]
    },
    {
      "cell_type": "code",
      "execution_count": 260,
      "metadata": {
        "colab": {
          "base_uri": "https://localhost:8080/"
        },
        "id": "P45BhEQ4iOZb",
        "outputId": "f2ec4a84-a25e-4f9f-8465-7bb50b80ec8d"
      },
      "outputs": [
        {
          "data": {
            "text/plain": [
              "array([10], dtype=int64)"
            ]
          },
          "execution_count": 260,
          "metadata": {},
          "output_type": "execute_result"
        }
      ],
      "source": [
        "apt['month'].unique()"
      ]
    },
    {
      "cell_type": "markdown",
      "metadata": {
        "id": "nTXDMKufixkq"
      },
      "source": [
        "## 광역시도별 분석"
      ]
    },
    {
      "cell_type": "code",
      "execution_count": 261,
      "metadata": {
        "id": "_wI9V6yPiVcq"
      },
      "outputs": [],
      "source": [
        "# 광역시도별 아파트 매매가격의 개수, 평균, 최솟값, 최댓값\n",
        "result = apt.groupby(by='province')['가격'].agg(['count', 'mean', 'min', 'max'])"
      ]
    },
    {
      "cell_type": "code",
      "execution_count": 262,
      "metadata": {
        "colab": {
          "base_uri": "https://localhost:8080/",
          "height": 394
        },
        "id": "WIpUNXS8kVhi",
        "outputId": "ed9a0317-6cf2-4ce0-fde7-5e8abb36e6c0"
      },
      "outputs": [
        {
          "data": {
            "text/html": [
              "<div>\n",
              "<style scoped>\n",
              "    .dataframe tbody tr th:only-of-type {\n",
              "        vertical-align: middle;\n",
              "    }\n",
              "\n",
              "    .dataframe tbody tr th {\n",
              "        vertical-align: top;\n",
              "    }\n",
              "\n",
              "    .dataframe thead th {\n",
              "        text-align: right;\n",
              "    }\n",
              "</style>\n",
              "<table border=\"1\" class=\"dataframe\">\n",
              "  <thead>\n",
              "    <tr style=\"text-align: right;\">\n",
              "      <th></th>\n",
              "      <th>count</th>\n",
              "      <th>mean</th>\n",
              "      <th>min</th>\n",
              "      <th>max</th>\n",
              "    </tr>\n",
              "    <tr>\n",
              "      <th>province</th>\n",
              "      <th></th>\n",
              "      <th></th>\n",
              "      <th></th>\n",
              "      <th></th>\n",
              "    </tr>\n",
              "  </thead>\n",
              "  <tbody>\n",
              "    <tr>\n",
              "      <th>서울특별시</th>\n",
              "      <td>4701</td>\n",
              "      <td>69302.919166</td>\n",
              "      <td>8500</td>\n",
              "      <td>485000</td>\n",
              "    </tr>\n",
              "    <tr>\n",
              "      <th>경기도</th>\n",
              "      <td>12126</td>\n",
              "      <td>36447.593765</td>\n",
              "      <td>2700</td>\n",
              "      <td>262000</td>\n",
              "    </tr>\n",
              "    <tr>\n",
              "      <th>세종특별자치시</th>\n",
              "      <td>315</td>\n",
              "      <td>33577.206349</td>\n",
              "      <td>2880</td>\n",
              "      <td>82200</td>\n",
              "    </tr>\n",
              "    <tr>\n",
              "      <th>인천광역시</th>\n",
              "      <td>2761</td>\n",
              "      <td>30196.960884</td>\n",
              "      <td>4000</td>\n",
              "      <td>300000</td>\n",
              "    </tr>\n",
              "    <tr>\n",
              "      <th>부산광역시</th>\n",
              "      <td>2752</td>\n",
              "      <td>29593.587209</td>\n",
              "      <td>1500</td>\n",
              "      <td>376640</td>\n",
              "    </tr>\n",
              "    <tr>\n",
              "      <th>대구광역시</th>\n",
              "      <td>1969</td>\n",
              "      <td>28031.251397</td>\n",
              "      <td>1500</td>\n",
              "      <td>173500</td>\n",
              "    </tr>\n",
              "    <tr>\n",
              "      <th>대전광역시</th>\n",
              "      <td>2487</td>\n",
              "      <td>27591.418979</td>\n",
              "      <td>2400</td>\n",
              "      <td>150000</td>\n",
              "    </tr>\n",
              "    <tr>\n",
              "      <th>울산광역시</th>\n",
              "      <td>1562</td>\n",
              "      <td>26581.768246</td>\n",
              "      <td>4000</td>\n",
              "      <td>81000</td>\n",
              "    </tr>\n",
              "    <tr>\n",
              "      <th>제주특별자치도</th>\n",
              "      <td>165</td>\n",
              "      <td>25878.181818</td>\n",
              "      <td>6000</td>\n",
              "      <td>76500</td>\n",
              "    </tr>\n",
              "    <tr>\n",
              "      <th>광주광역시</th>\n",
              "      <td>1588</td>\n",
              "      <td>21786.904282</td>\n",
              "      <td>4150</td>\n",
              "      <td>115000</td>\n",
              "    </tr>\n",
              "  </tbody>\n",
              "</table>\n",
              "</div>"
            ],
            "text/plain": [
              "          count          mean   min     max\n",
              "province                                   \n",
              "서울특별시      4701  69302.919166  8500  485000\n",
              "경기도       12126  36447.593765  2700  262000\n",
              "세종특별자치시     315  33577.206349  2880   82200\n",
              "인천광역시      2761  30196.960884  4000  300000\n",
              "부산광역시      2752  29593.587209  1500  376640\n",
              "대구광역시      1969  28031.251397  1500  173500\n",
              "대전광역시      2487  27591.418979  2400  150000\n",
              "울산광역시      1562  26581.768246  4000   81000\n",
              "제주특별자치도     165  25878.181818  6000   76500\n",
              "광주광역시      1588  21786.904282  4150  115000"
            ]
          },
          "execution_count": 262,
          "metadata": {},
          "output_type": "execute_result"
        }
      ],
      "source": [
        "# 결과를 매매가격 평균의 내림차순 정렬\n",
        "top10 = result.sort_values(by='mean', ascending=False).head(n=10)\n",
        "top10"
      ]
    },
    {
      "cell_type": "code",
      "execution_count": 263,
      "metadata": {
        "colab": {
          "base_uri": "https://localhost:8080/",
          "height": 279
        },
        "id": "wJWCC0vpknUx",
        "outputId": "f7ed6e4b-4828-4574-c219-583977ab6153"
      },
      "outputs": [
        {
          "data": {
            "image/png": "[encoded data removed]",
            "text/plain": [
              "<Figure size 432x288 with 1 Axes>"
            ]
          },
          "metadata": {
            "needs_background": "light"
          },
          "output_type": "display_data"
        }
      ],
      "source": [
        "sns.barplot(x='mean', y=top10.index, data=top10)\n",
        "plt.show()"
      ]
    },
    {
      "cell_type": "code",
      "execution_count": 264,
      "metadata": {
        "colab": {
          "base_uri": "https://localhost:8080/",
          "height": 394
        },
        "id": "XjDj_skHmQPJ",
        "outputId": "586130cb-cece-4f40-a621-5d94e2934f8e"
      },
      "outputs": [
        {
          "data": {
            "text/html": [
              "<div>\n",
              "<style scoped>\n",
              "    .dataframe tbody tr th:only-of-type {\n",
              "        vertical-align: middle;\n",
              "    }\n",
              "\n",
              "    .dataframe tbody tr th {\n",
              "        vertical-align: top;\n",
              "    }\n",
              "\n",
              "    .dataframe thead th {\n",
              "        text-align: right;\n",
              "    }\n",
              "</style>\n",
              "<table border=\"1\" class=\"dataframe\">\n",
              "  <thead>\n",
              "    <tr style=\"text-align: right;\">\n",
              "      <th></th>\n",
              "      <th>count</th>\n",
              "      <th>mean</th>\n",
              "      <th>min</th>\n",
              "      <th>max</th>\n",
              "    </tr>\n",
              "    <tr>\n",
              "      <th>province</th>\n",
              "      <th></th>\n",
              "      <th></th>\n",
              "      <th></th>\n",
              "      <th></th>\n",
              "    </tr>\n",
              "  </thead>\n",
              "  <tbody>\n",
              "    <tr>\n",
              "      <th>서울특별시</th>\n",
              "      <td>4701</td>\n",
              "      <td>69302.919166</td>\n",
              "      <td>8500</td>\n",
              "      <td>485000</td>\n",
              "    </tr>\n",
              "    <tr>\n",
              "      <th>부산광역시</th>\n",
              "      <td>2752</td>\n",
              "      <td>29593.587209</td>\n",
              "      <td>1500</td>\n",
              "      <td>376640</td>\n",
              "    </tr>\n",
              "    <tr>\n",
              "      <th>인천광역시</th>\n",
              "      <td>2761</td>\n",
              "      <td>30196.960884</td>\n",
              "      <td>4000</td>\n",
              "      <td>300000</td>\n",
              "    </tr>\n",
              "    <tr>\n",
              "      <th>경기도</th>\n",
              "      <td>12126</td>\n",
              "      <td>36447.593765</td>\n",
              "      <td>2700</td>\n",
              "      <td>262000</td>\n",
              "    </tr>\n",
              "    <tr>\n",
              "      <th>대구광역시</th>\n",
              "      <td>1969</td>\n",
              "      <td>28031.251397</td>\n",
              "      <td>1500</td>\n",
              "      <td>173500</td>\n",
              "    </tr>\n",
              "    <tr>\n",
              "      <th>대전광역시</th>\n",
              "      <td>2487</td>\n",
              "      <td>27591.418979</td>\n",
              "      <td>2400</td>\n",
              "      <td>150000</td>\n",
              "    </tr>\n",
              "    <tr>\n",
              "      <th>광주광역시</th>\n",
              "      <td>1588</td>\n",
              "      <td>21786.904282</td>\n",
              "      <td>4150</td>\n",
              "      <td>115000</td>\n",
              "    </tr>\n",
              "    <tr>\n",
              "      <th>충청북도</th>\n",
              "      <td>1576</td>\n",
              "      <td>18068.494289</td>\n",
              "      <td>1100</td>\n",
              "      <td>96000</td>\n",
              "    </tr>\n",
              "    <tr>\n",
              "      <th>충청남도</th>\n",
              "      <td>2045</td>\n",
              "      <td>17494.407824</td>\n",
              "      <td>1500</td>\n",
              "      <td>90000</td>\n",
              "    </tr>\n",
              "    <tr>\n",
              "      <th>경상남도</th>\n",
              "      <td>2955</td>\n",
              "      <td>20157.054484</td>\n",
              "      <td>2700</td>\n",
              "      <td>83200</td>\n",
              "    </tr>\n",
              "  </tbody>\n",
              "</table>\n",
              "</div>"
            ],
            "text/plain": [
              "          count          mean   min     max\n",
              "province                                   \n",
              "서울특별시      4701  69302.919166  8500  485000\n",
              "부산광역시      2752  29593.587209  1500  376640\n",
              "인천광역시      2761  30196.960884  4000  300000\n",
              "경기도       12126  36447.593765  2700  262000\n",
              "대구광역시      1969  28031.251397  1500  173500\n",
              "대전광역시      2487  27591.418979  2400  150000\n",
              "광주광역시      1588  21786.904282  4150  115000\n",
              "충청북도       1576  18068.494289  1100   96000\n",
              "충청남도       2045  17494.407824  1500   90000\n",
              "경상남도       2955  20157.054484  2700   83200"
            ]
          },
          "execution_count": 264,
          "metadata": {},
          "output_type": "execute_result"
        }
      ],
      "source": [
        "top10 = result.sort_values(by='max', ascending=False).head(n=10)\n",
        "top10"
      ]
    },
    {
      "cell_type": "code",
      "execution_count": 265,
      "metadata": {
        "colab": {
          "base_uri": "https://localhost:8080/",
          "height": 279
        },
        "id": "E9jFOkVtmSXI",
        "outputId": "c7b2eeb8-f0fa-43e4-b60a-73412206f2f1"
      },
      "outputs": [
        {
          "data": {
            "image/png": "[encoded data removed]",
            "text/plain": [
              "<Figure size 432x288 with 1 Axes>"
            ]
          },
          "metadata": {
            "needs_background": "light"
          },
          "output_type": "display_data"
        }
      ],
      "source": [
        "sns.barplot(x='max', y=top10.index, data=top10)\n",
        "plt.show()"
      ]
    },
    {
      "cell_type": "code",
      "execution_count": 266,
      "metadata": {
        "colab": {
          "base_uri": "https://localhost:8080/",
          "height": 394
        },
        "id": "c6QZluLBne2o",
        "outputId": "acbbecd1-efdd-40d5-d9af-390de00622d3"
      },
      "outputs": [
        {
          "data": {
            "text/html": [
              "<div>\n",
              "<style scoped>\n",
              "    .dataframe tbody tr th:only-of-type {\n",
              "        vertical-align: middle;\n",
              "    }\n",
              "\n",
              "    .dataframe tbody tr th {\n",
              "        vertical-align: top;\n",
              "    }\n",
              "\n",
              "    .dataframe thead th {\n",
              "        text-align: right;\n",
              "    }\n",
              "</style>\n",
              "<table border=\"1\" class=\"dataframe\">\n",
              "  <thead>\n",
              "    <tr style=\"text-align: right;\">\n",
              "      <th></th>\n",
              "      <th>count</th>\n",
              "      <th>mean</th>\n",
              "      <th>min</th>\n",
              "      <th>max</th>\n",
              "    </tr>\n",
              "    <tr>\n",
              "      <th>province</th>\n",
              "      <th></th>\n",
              "      <th></th>\n",
              "      <th></th>\n",
              "      <th></th>\n",
              "    </tr>\n",
              "  </thead>\n",
              "  <tbody>\n",
              "    <tr>\n",
              "      <th>경상북도</th>\n",
              "      <td>1985</td>\n",
              "      <td>15304.175819</td>\n",
              "      <td>600</td>\n",
              "      <td>50000</td>\n",
              "    </tr>\n",
              "    <tr>\n",
              "      <th>전라북도</th>\n",
              "      <td>1394</td>\n",
              "      <td>14655.274032</td>\n",
              "      <td>900</td>\n",
              "      <td>68700</td>\n",
              "    </tr>\n",
              "    <tr>\n",
              "      <th>강원도</th>\n",
              "      <td>1143</td>\n",
              "      <td>14305.559930</td>\n",
              "      <td>950</td>\n",
              "      <td>45800</td>\n",
              "    </tr>\n",
              "    <tr>\n",
              "      <th>충청북도</th>\n",
              "      <td>1576</td>\n",
              "      <td>18068.494289</td>\n",
              "      <td>1100</td>\n",
              "      <td>96000</td>\n",
              "    </tr>\n",
              "    <tr>\n",
              "      <th>전라남도</th>\n",
              "      <td>1234</td>\n",
              "      <td>14523.552674</td>\n",
              "      <td>1330</td>\n",
              "      <td>61800</td>\n",
              "    </tr>\n",
              "    <tr>\n",
              "      <th>대구광역시</th>\n",
              "      <td>1969</td>\n",
              "      <td>28031.251397</td>\n",
              "      <td>1500</td>\n",
              "      <td>173500</td>\n",
              "    </tr>\n",
              "    <tr>\n",
              "      <th>부산광역시</th>\n",
              "      <td>2752</td>\n",
              "      <td>29593.587209</td>\n",
              "      <td>1500</td>\n",
              "      <td>376640</td>\n",
              "    </tr>\n",
              "    <tr>\n",
              "      <th>충청남도</th>\n",
              "      <td>2045</td>\n",
              "      <td>17494.407824</td>\n",
              "      <td>1500</td>\n",
              "      <td>90000</td>\n",
              "    </tr>\n",
              "    <tr>\n",
              "      <th>대전광역시</th>\n",
              "      <td>2487</td>\n",
              "      <td>27591.418979</td>\n",
              "      <td>2400</td>\n",
              "      <td>150000</td>\n",
              "    </tr>\n",
              "    <tr>\n",
              "      <th>경기도</th>\n",
              "      <td>12126</td>\n",
              "      <td>36447.593765</td>\n",
              "      <td>2700</td>\n",
              "      <td>262000</td>\n",
              "    </tr>\n",
              "  </tbody>\n",
              "</table>\n",
              "</div>"
            ],
            "text/plain": [
              "          count          mean   min     max\n",
              "province                                   \n",
              "경상북도       1985  15304.175819   600   50000\n",
              "전라북도       1394  14655.274032   900   68700\n",
              "강원도        1143  14305.559930   950   45800\n",
              "충청북도       1576  18068.494289  1100   96000\n",
              "전라남도       1234  14523.552674  1330   61800\n",
              "대구광역시      1969  28031.251397  1500  173500\n",
              "부산광역시      2752  29593.587209  1500  376640\n",
              "충청남도       2045  17494.407824  1500   90000\n",
              "대전광역시      2487  27591.418979  2400  150000\n",
              "경기도       12126  36447.593765  2700  262000"
            ]
          },
          "execution_count": 266,
          "metadata": {},
          "output_type": "execute_result"
        }
      ],
      "source": [
        "bottom10= result.sort_values(by='min').head(n=10)  # ascending의 기본값은 True: 오름차순 정렬\n",
        "bottom10"
      ]
    },
    {
      "cell_type": "code",
      "execution_count": 267,
      "metadata": {
        "colab": {
          "base_uri": "https://localhost:8080/",
          "height": 279
        },
        "id": "pU-p1Xqpn3Vh",
        "outputId": "c682b203-d500-4351-ae9e-c4ba30a3a58e"
      },
      "outputs": [
        {
          "data": {
            "image/png": "[encoded data removed]",
            "text/plain": [
              "<Figure size 432x288 with 1 Axes>"
            ]
          },
          "metadata": {
            "needs_background": "light"
          },
          "output_type": "display_data"
        }
      ],
      "source": [
        "sns.barplot(x='min', y=bottom10.index, data=bottom10)\n",
        "plt.show()"
      ]
    },
    {
      "cell_type": "markdown",
      "metadata": {},
      "source": [
        "## 면적이 84㎡ 이상 100㎡ 미만인 아파트 거래 가격 분석"
      ]
    },
    {
      "cell_type": "code",
      "execution_count": 268,
      "metadata": {
        "id": "vCPdTxyfoku4"
      },
      "outputs": [
        {
          "data": {
            "text/html": [
              "<div>\n",
              "<style scoped>\n",
              "    .dataframe tbody tr th:only-of-type {\n",
              "        vertical-align: middle;\n",
              "    }\n",
              "\n",
              "    .dataframe tbody tr th {\n",
              "        vertical-align: top;\n",
              "    }\n",
              "\n",
              "    .dataframe thead th {\n",
              "        text-align: right;\n",
              "    }\n",
              "</style>\n",
              "<table border=\"1\" class=\"dataframe\">\n",
              "  <thead>\n",
              "    <tr style=\"text-align: right;\">\n",
              "      <th></th>\n",
              "      <th>시군구</th>\n",
              "      <th>번지</th>\n",
              "      <th>본번</th>\n",
              "      <th>부번</th>\n",
              "      <th>단지명</th>\n",
              "      <th>면적</th>\n",
              "      <th>계약년월</th>\n",
              "      <th>계약일</th>\n",
              "      <th>가격</th>\n",
              "      <th>층</th>\n",
              "      <th>건축년도</th>\n",
              "      <th>도로명</th>\n",
              "      <th>province</th>\n",
              "      <th>county</th>\n",
              "      <th>dong</th>\n",
              "      <th>year</th>\n",
              "      <th>month</th>\n",
              "    </tr>\n",
              "  </thead>\n",
              "  <tbody>\n",
              "    <tr>\n",
              "      <th>2</th>\n",
              "      <td>강원도 강릉시 견소동</td>\n",
              "      <td>289</td>\n",
              "      <td>289</td>\n",
              "      <td>0</td>\n",
              "      <td>송정해변신도브래뉴아파트</td>\n",
              "      <td>84.9900</td>\n",
              "      <td>201910</td>\n",
              "      <td>5</td>\n",
              "      <td>25000</td>\n",
              "      <td>6</td>\n",
              "      <td>2005</td>\n",
              "      <td>경강로2539번길 22</td>\n",
              "      <td>강원도</td>\n",
              "      <td>강릉시</td>\n",
              "      <td>견소동</td>\n",
              "      <td>2019</td>\n",
              "      <td>10</td>\n",
              "    </tr>\n",
              "    <tr>\n",
              "      <th>3</th>\n",
              "      <td>강원도 강릉시 견소동</td>\n",
              "      <td>289</td>\n",
              "      <td>289</td>\n",
              "      <td>0</td>\n",
              "      <td>송정해변신도브래뉴아파트</td>\n",
              "      <td>84.9900</td>\n",
              "      <td>201910</td>\n",
              "      <td>12</td>\n",
              "      <td>20600</td>\n",
              "      <td>3</td>\n",
              "      <td>2005</td>\n",
              "      <td>경강로2539번길 22</td>\n",
              "      <td>강원도</td>\n",
              "      <td>강릉시</td>\n",
              "      <td>견소동</td>\n",
              "      <td>2019</td>\n",
              "      <td>10</td>\n",
              "    </tr>\n",
              "    <tr>\n",
              "      <th>4</th>\n",
              "      <td>강원도 강릉시 견소동</td>\n",
              "      <td>289</td>\n",
              "      <td>289</td>\n",
              "      <td>0</td>\n",
              "      <td>송정해변신도브래뉴아파트</td>\n",
              "      <td>84.9900</td>\n",
              "      <td>201910</td>\n",
              "      <td>20</td>\n",
              "      <td>20500</td>\n",
              "      <td>1</td>\n",
              "      <td>2005</td>\n",
              "      <td>경강로2539번길 22</td>\n",
              "      <td>강원도</td>\n",
              "      <td>강릉시</td>\n",
              "      <td>견소동</td>\n",
              "      <td>2019</td>\n",
              "      <td>10</td>\n",
              "    </tr>\n",
              "    <tr>\n",
              "      <th>5</th>\n",
              "      <td>강원도 강릉시 교동</td>\n",
              "      <td>1984</td>\n",
              "      <td>1984</td>\n",
              "      <td>0</td>\n",
              "      <td>강릉 교동 풍림아이원 아파트</td>\n",
              "      <td>84.9964</td>\n",
              "      <td>201910</td>\n",
              "      <td>5</td>\n",
              "      <td>29200</td>\n",
              "      <td>14</td>\n",
              "      <td>2017</td>\n",
              "      <td>화부산로40번길 29</td>\n",
              "      <td>강원도</td>\n",
              "      <td>강릉시</td>\n",
              "      <td>교동</td>\n",
              "      <td>2019</td>\n",
              "      <td>10</td>\n",
              "    </tr>\n",
              "    <tr>\n",
              "      <th>9</th>\n",
              "      <td>강원도 강릉시 교동</td>\n",
              "      <td>1750</td>\n",
              "      <td>1750</td>\n",
              "      <td>0</td>\n",
              "      <td>교동1주공</td>\n",
              "      <td>84.8400</td>\n",
              "      <td>201910</td>\n",
              "      <td>18</td>\n",
              "      <td>21550</td>\n",
              "      <td>9</td>\n",
              "      <td>1999</td>\n",
              "      <td>가작로 78</td>\n",
              "      <td>강원도</td>\n",
              "      <td>강릉시</td>\n",
              "      <td>교동</td>\n",
              "      <td>2019</td>\n",
              "      <td>10</td>\n",
              "    </tr>\n",
              "  </tbody>\n",
              "</table>\n",
              "</div>"
            ],
            "text/plain": [
              "           시군구    번지    본번  부번              단지명       면적    계약년월  계약일     가격  \\\n",
              "2  강원도 강릉시 견소동   289   289   0     송정해변신도브래뉴아파트  84.9900  201910    5  25000   \n",
              "3  강원도 강릉시 견소동   289   289   0     송정해변신도브래뉴아파트  84.9900  201910   12  20600   \n",
              "4  강원도 강릉시 견소동   289   289   0     송정해변신도브래뉴아파트  84.9900  201910   20  20500   \n",
              "5   강원도 강릉시 교동  1984  1984   0  강릉 교동 풍림아이원 아파트  84.9964  201910    5  29200   \n",
              "9   강원도 강릉시 교동  1750  1750   0            교동1주공  84.8400  201910   18  21550   \n",
              "\n",
              "    층  건축년도           도로명 province county dong  year  month  \n",
              "2   6  2005  경강로2539번길 22      강원도    강릉시  견소동  2019     10  \n",
              "3   3  2005  경강로2539번길 22      강원도    강릉시  견소동  2019     10  \n",
              "4   1  2005  경강로2539번길 22      강원도    강릉시  견소동  2019     10  \n",
              "5  14  2017   화부산로40번길 29      강원도    강릉시   교동  2019     10  \n",
              "9   9  1999        가작로 78      강원도    강릉시   교동  2019     10  "
            ]
          },
          "execution_count": 268,
          "metadata": {},
          "output_type": "execute_result"
        }
      ],
      "source": [
        "apt_midsize=apt[(apt['면적']>=84) & (apt['면적']<100)]\n",
        "apt_midsize.shape\n",
        "apt_midsize.head()\n"
      ]
    },
    {
      "cell_type": "code",
      "execution_count": 269,
      "metadata": {},
      "outputs": [
        {
          "data": {
            "text/plain": [
              "15704"
            ]
          },
          "execution_count": 269,
          "metadata": {},
          "output_type": "execute_result"
        }
      ],
      "source": [
        "len(apt_midsize)"
      ]
    },
    {
      "cell_type": "code",
      "execution_count": 270,
      "metadata": {},
      "outputs": [],
      "source": [
        "result=apt_midsize.groupby(by='province')['가격'].agg(['count','mean','min','max'])"
      ]
    },
    {
      "cell_type": "code",
      "execution_count": 271,
      "metadata": {},
      "outputs": [],
      "source": [
        "top10=result.sort_values(by=\"count\", ascending=False).head(10)"
      ]
    },
    {
      "cell_type": "code",
      "execution_count": 272,
      "metadata": {},
      "outputs": [
        {
          "data": {
            "text/plain": [
              "<AxesSubplot:xlabel='count', ylabel='province'>"
            ]
          },
          "execution_count": 272,
          "metadata": {},
          "output_type": "execute_result"
        },
        {
          "data": {
            "image/png": "[encoded data removed]",
            "text/plain": [
              "<Figure size 432x288 with 1 Axes>"
            ]
          },
          "metadata": {
            "needs_background": "light"
          },
          "output_type": "display_data"
        }
      ],
      "source": [
        "sns.barplot(data=top10, x='count', y=top10.index)"
      ]
    },
    {
      "cell_type": "code",
      "execution_count": 273,
      "metadata": {},
      "outputs": [],
      "source": [
        "# 중간 크기 아파트의 매매가격 평균 순위\n",
        "top10=result.sort_values(by='mean', ascending=False).head(n=10)"
      ]
    },
    {
      "cell_type": "code",
      "execution_count": 274,
      "metadata": {},
      "outputs": [
        {
          "data": {
            "image/png": "[encoded data removed]",
            "text/plain": [
              "<Figure size 432x288 with 1 Axes>"
            ]
          },
          "metadata": {
            "needs_background": "light"
          },
          "output_type": "display_data"
        }
      ],
      "source": [
        "sns.barplot(data=top10, x='mean', y=top10.index)\n",
        "plt.show()"
      ]
    },
    {
      "cell_type": "code",
      "execution_count": 275,
      "metadata": {},
      "outputs": [],
      "source": [
        "# 광역시도별 매매 가격 최댓값\n",
        "top10=result.sort_values(by='max', ascending=False).head(10)"
      ]
    },
    {
      "cell_type": "code",
      "execution_count": 276,
      "metadata": {},
      "outputs": [
        {
          "data": {
            "text/plain": [
              "<AxesSubplot:xlabel='max', ylabel='province'>"
            ]
          },
          "execution_count": 276,
          "metadata": {},
          "output_type": "execute_result"
        },
        {
          "data": {
            "image/png": "[encoded data removed]",
            "text/plain": [
              "<Figure size 432x288 with 1 Axes>"
            ]
          },
          "metadata": {
            "needs_background": "light"
          },
          "output_type": "display_data"
        }
      ],
      "source": [
        "sns.barplot(data=top10, x='max', y=top10.index)"
      ]
    },
    {
      "cell_type": "markdown",
      "metadata": {},
      "source": [
        "## 서울 아파트 가격 분석"
      ]
    },
    {
      "cell_type": "code",
      "execution_count": 277,
      "metadata": {},
      "outputs": [
        {
          "data": {
            "text/html": [
              "<div>\n",
              "<style scoped>\n",
              "    .dataframe tbody tr th:only-of-type {\n",
              "        vertical-align: middle;\n",
              "    }\n",
              "\n",
              "    .dataframe tbody tr th {\n",
              "        vertical-align: top;\n",
              "    }\n",
              "\n",
              "    .dataframe thead th {\n",
              "        text-align: right;\n",
              "    }\n",
              "</style>\n",
              "<table border=\"1\" class=\"dataframe\">\n",
              "  <thead>\n",
              "    <tr style=\"text-align: right;\">\n",
              "      <th></th>\n",
              "      <th>시군구</th>\n",
              "      <th>번지</th>\n",
              "      <th>본번</th>\n",
              "      <th>부번</th>\n",
              "      <th>단지명</th>\n",
              "      <th>면적</th>\n",
              "      <th>계약년월</th>\n",
              "      <th>계약일</th>\n",
              "      <th>가격</th>\n",
              "      <th>층</th>\n",
              "      <th>건축년도</th>\n",
              "      <th>도로명</th>\n",
              "      <th>province</th>\n",
              "      <th>county</th>\n",
              "      <th>dong</th>\n",
              "      <th>year</th>\n",
              "      <th>month</th>\n",
              "    </tr>\n",
              "  </thead>\n",
              "  <tbody>\n",
              "    <tr>\n",
              "      <th>27005</th>\n",
              "      <td>서울특별시 강남구 개포동</td>\n",
              "      <td>141</td>\n",
              "      <td>141</td>\n",
              "      <td>0</td>\n",
              "      <td>개포주공 1단지</td>\n",
              "      <td>41.98</td>\n",
              "      <td>201910</td>\n",
              "      <td>1</td>\n",
              "      <td>180000</td>\n",
              "      <td>4</td>\n",
              "      <td>1982</td>\n",
              "      <td>개포로 310</td>\n",
              "      <td>서울특별시</td>\n",
              "      <td>강남구</td>\n",
              "      <td>개포동</td>\n",
              "      <td>2019</td>\n",
              "      <td>10</td>\n",
              "    </tr>\n",
              "    <tr>\n",
              "      <th>27006</th>\n",
              "      <td>서울특별시 강남구 개포동</td>\n",
              "      <td>141</td>\n",
              "      <td>141</td>\n",
              "      <td>0</td>\n",
              "      <td>개포주공 1단지</td>\n",
              "      <td>35.64</td>\n",
              "      <td>201910</td>\n",
              "      <td>2</td>\n",
              "      <td>153000</td>\n",
              "      <td>2</td>\n",
              "      <td>1982</td>\n",
              "      <td>개포로 310</td>\n",
              "      <td>서울특별시</td>\n",
              "      <td>강남구</td>\n",
              "      <td>개포동</td>\n",
              "      <td>2019</td>\n",
              "      <td>10</td>\n",
              "    </tr>\n",
              "    <tr>\n",
              "      <th>27007</th>\n",
              "      <td>서울특별시 강남구 개포동</td>\n",
              "      <td>141</td>\n",
              "      <td>141</td>\n",
              "      <td>0</td>\n",
              "      <td>개포주공 1단지</td>\n",
              "      <td>42.55</td>\n",
              "      <td>201910</td>\n",
              "      <td>3</td>\n",
              "      <td>205000</td>\n",
              "      <td>4</td>\n",
              "      <td>1982</td>\n",
              "      <td>개포로 310</td>\n",
              "      <td>서울특별시</td>\n",
              "      <td>강남구</td>\n",
              "      <td>개포동</td>\n",
              "      <td>2019</td>\n",
              "      <td>10</td>\n",
              "    </tr>\n",
              "    <tr>\n",
              "      <th>27008</th>\n",
              "      <td>서울특별시 강남구 개포동</td>\n",
              "      <td>141</td>\n",
              "      <td>141</td>\n",
              "      <td>0</td>\n",
              "      <td>개포주공 1단지</td>\n",
              "      <td>42.55</td>\n",
              "      <td>201910</td>\n",
              "      <td>4</td>\n",
              "      <td>207000</td>\n",
              "      <td>2</td>\n",
              "      <td>1982</td>\n",
              "      <td>개포로 310</td>\n",
              "      <td>서울특별시</td>\n",
              "      <td>강남구</td>\n",
              "      <td>개포동</td>\n",
              "      <td>2019</td>\n",
              "      <td>10</td>\n",
              "    </tr>\n",
              "    <tr>\n",
              "      <th>27009</th>\n",
              "      <td>서울특별시 강남구 개포동</td>\n",
              "      <td>141</td>\n",
              "      <td>141</td>\n",
              "      <td>0</td>\n",
              "      <td>개포주공 1단지</td>\n",
              "      <td>50.64</td>\n",
              "      <td>201910</td>\n",
              "      <td>12</td>\n",
              "      <td>270000</td>\n",
              "      <td>5</td>\n",
              "      <td>1982</td>\n",
              "      <td>개포로 310</td>\n",
              "      <td>서울특별시</td>\n",
              "      <td>강남구</td>\n",
              "      <td>개포동</td>\n",
              "      <td>2019</td>\n",
              "      <td>10</td>\n",
              "    </tr>\n",
              "    <tr>\n",
              "      <th>...</th>\n",
              "      <td>...</td>\n",
              "      <td>...</td>\n",
              "      <td>...</td>\n",
              "      <td>...</td>\n",
              "      <td>...</td>\n",
              "      <td>...</td>\n",
              "      <td>...</td>\n",
              "      <td>...</td>\n",
              "      <td>...</td>\n",
              "      <td>...</td>\n",
              "      <td>...</td>\n",
              "      <td>...</td>\n",
              "      <td>...</td>\n",
              "      <td>...</td>\n",
              "      <td>...</td>\n",
              "      <td>...</td>\n",
              "      <td>...</td>\n",
              "    </tr>\n",
              "    <tr>\n",
              "      <th>31701</th>\n",
              "      <td>서울특별시 중랑구 중화동</td>\n",
              "      <td>42</td>\n",
              "      <td>42</td>\n",
              "      <td>0</td>\n",
              "      <td>중화동건영아파트</td>\n",
              "      <td>59.94</td>\n",
              "      <td>201910</td>\n",
              "      <td>12</td>\n",
              "      <td>27000</td>\n",
              "      <td>12</td>\n",
              "      <td>1998</td>\n",
              "      <td>동일로140길 88</td>\n",
              "      <td>서울특별시</td>\n",
              "      <td>중랑구</td>\n",
              "      <td>중화동</td>\n",
              "      <td>2019</td>\n",
              "      <td>10</td>\n",
              "    </tr>\n",
              "    <tr>\n",
              "      <th>31702</th>\n",
              "      <td>서울특별시 중랑구 중화동</td>\n",
              "      <td>19-16</td>\n",
              "      <td>19</td>\n",
              "      <td>16</td>\n",
              "      <td>한솔e(A동)</td>\n",
              "      <td>71.34</td>\n",
              "      <td>201910</td>\n",
              "      <td>3</td>\n",
              "      <td>34000</td>\n",
              "      <td>3</td>\n",
              "      <td>2004</td>\n",
              "      <td>봉화산로27길 30</td>\n",
              "      <td>서울특별시</td>\n",
              "      <td>중랑구</td>\n",
              "      <td>중화동</td>\n",
              "      <td>2019</td>\n",
              "      <td>10</td>\n",
              "    </tr>\n",
              "    <tr>\n",
              "      <th>31703</th>\n",
              "      <td>서울특별시 중랑구 중화동</td>\n",
              "      <td>450</td>\n",
              "      <td>450</td>\n",
              "      <td>0</td>\n",
              "      <td>한신1차</td>\n",
              "      <td>59.76</td>\n",
              "      <td>201910</td>\n",
              "      <td>12</td>\n",
              "      <td>45500</td>\n",
              "      <td>25</td>\n",
              "      <td>1997</td>\n",
              "      <td>동일로 752</td>\n",
              "      <td>서울특별시</td>\n",
              "      <td>중랑구</td>\n",
              "      <td>중화동</td>\n",
              "      <td>2019</td>\n",
              "      <td>10</td>\n",
              "    </tr>\n",
              "    <tr>\n",
              "      <th>31704</th>\n",
              "      <td>서울특별시 중랑구 중화동</td>\n",
              "      <td>450</td>\n",
              "      <td>450</td>\n",
              "      <td>0</td>\n",
              "      <td>한신1차</td>\n",
              "      <td>59.76</td>\n",
              "      <td>201910</td>\n",
              "      <td>16</td>\n",
              "      <td>45700</td>\n",
              "      <td>24</td>\n",
              "      <td>1997</td>\n",
              "      <td>동일로 752</td>\n",
              "      <td>서울특별시</td>\n",
              "      <td>중랑구</td>\n",
              "      <td>중화동</td>\n",
              "      <td>2019</td>\n",
              "      <td>10</td>\n",
              "    </tr>\n",
              "    <tr>\n",
              "      <th>31705</th>\n",
              "      <td>서울특별시 중랑구 중화동</td>\n",
              "      <td>450</td>\n",
              "      <td>450</td>\n",
              "      <td>0</td>\n",
              "      <td>한신2</td>\n",
              "      <td>59.76</td>\n",
              "      <td>201910</td>\n",
              "      <td>21</td>\n",
              "      <td>44300</td>\n",
              "      <td>12</td>\n",
              "      <td>1998</td>\n",
              "      <td>동일로 752</td>\n",
              "      <td>서울특별시</td>\n",
              "      <td>중랑구</td>\n",
              "      <td>중화동</td>\n",
              "      <td>2019</td>\n",
              "      <td>10</td>\n",
              "    </tr>\n",
              "  </tbody>\n",
              "</table>\n",
              "<p>4701 rows × 17 columns</p>\n",
              "</div>"
            ],
            "text/plain": [
              "                 시군구     번지   본번  부번       단지명     면적    계약년월  계약일      가격  \\\n",
              "27005  서울특별시 강남구 개포동    141  141   0  개포주공 1단지  41.98  201910    1  180000   \n",
              "27006  서울특별시 강남구 개포동    141  141   0  개포주공 1단지  35.64  201910    2  153000   \n",
              "27007  서울특별시 강남구 개포동    141  141   0  개포주공 1단지  42.55  201910    3  205000   \n",
              "27008  서울특별시 강남구 개포동    141  141   0  개포주공 1단지  42.55  201910    4  207000   \n",
              "27009  서울특별시 강남구 개포동    141  141   0  개포주공 1단지  50.64  201910   12  270000   \n",
              "...              ...    ...  ...  ..       ...    ...     ...  ...     ...   \n",
              "31701  서울특별시 중랑구 중화동     42   42   0  중화동건영아파트  59.94  201910   12   27000   \n",
              "31702  서울특별시 중랑구 중화동  19-16   19  16   한솔e(A동)  71.34  201910    3   34000   \n",
              "31703  서울특별시 중랑구 중화동    450  450   0      한신1차  59.76  201910   12   45500   \n",
              "31704  서울특별시 중랑구 중화동    450  450   0      한신1차  59.76  201910   16   45700   \n",
              "31705  서울특별시 중랑구 중화동    450  450   0       한신2  59.76  201910   21   44300   \n",
              "\n",
              "        층  건축년도         도로명 province county dong  year  month  \n",
              "27005   4  1982     개포로 310    서울특별시    강남구  개포동  2019     10  \n",
              "27006   2  1982     개포로 310    서울특별시    강남구  개포동  2019     10  \n",
              "27007   4  1982     개포로 310    서울특별시    강남구  개포동  2019     10  \n",
              "27008   2  1982     개포로 310    서울특별시    강남구  개포동  2019     10  \n",
              "27009   5  1982     개포로 310    서울특별시    강남구  개포동  2019     10  \n",
              "...    ..   ...         ...      ...    ...  ...   ...    ...  \n",
              "31701  12  1998  동일로140길 88    서울특별시    중랑구  중화동  2019     10  \n",
              "31702   3  2004  봉화산로27길 30    서울특별시    중랑구  중화동  2019     10  \n",
              "31703  25  1997     동일로 752    서울특별시    중랑구  중화동  2019     10  \n",
              "31704  24  1997     동일로 752    서울특별시    중랑구  중화동  2019     10  \n",
              "31705  12  1998     동일로 752    서울특별시    중랑구  중화동  2019     10  \n",
              "\n",
              "[4701 rows x 17 columns]"
            ]
          },
          "execution_count": 277,
          "metadata": {},
          "output_type": "execute_result"
        }
      ],
      "source": [
        "seoul_apt=apt[apt['province'].str.contains('서울')]\n",
        "seoul_apt"
      ]
    },
    {
      "cell_type": "code",
      "execution_count": 278,
      "metadata": {},
      "outputs": [
        {
          "data": {
            "text/plain": [
              "array(['강남구', '강동구', '강북구', '강서구', '관악구', '광진구', '구로구', '금천구', '노원구',\n",
              "       '도봉구', '동대문구', '동작구', '마포구', '서대문구', '서초구', '성동구', '성북구', '송파구',\n",
              "       '양천구', '영등포구', '용산구', '은평구', '종로구', '중구', '중랑구'], dtype=object)"
            ]
          },
          "execution_count": 278,
          "metadata": {},
          "output_type": "execute_result"
        }
      ],
      "source": [
        "seoul_apt['county'].unique()"
      ]
    },
    {
      "cell_type": "code",
      "execution_count": 279,
      "metadata": {},
      "outputs": [
        {
          "data": {
            "text/plain": [
              "array(['개포동', '논현동', '대치동', '도곡동', '삼성동', '세곡동', '수서동', '신사동', '압구정동',\n",
              "       '역삼동', '일원동', '자곡동', '청담동', '강일동', '고덕동', '길동', '둔촌동', '명일동',\n",
              "       '상일동', '성내동', '암사동', '천호동', '미아동', '번동', '수유동', '우이동', '가양동',\n",
              "       '공항동', '내발산동', '등촌동', '마곡동', '방화동', '염창동', '화곡동', '남현동', '봉천동',\n",
              "       '신림동', '광장동', '구의동', '군자동', '자양동', '중곡동', '개봉동', '고척동', '구로동',\n",
              "       '궁동', '신도림동', '오류동', '온수동', '천왕동', '항동', '가산동', '독산동', '시흥동',\n",
              "       '공릉동', '상계동', '월계동', '중계동', '하계동', '도봉동', '방학동', '쌍문동', '창동',\n",
              "       '답십리동', '신설동', '용두동', '이문동', '장안동', '전농동', '제기동', '청량리동', '회기동',\n",
              "       '휘경동', '노량진동', '대방동', '동작동', '본동', '사당동', '상도동', '신대방동', '흑석동',\n",
              "       '공덕동', '노고산동', '대흥동', '도화동', '마포동', '망원동', '상수동', '상암동', '서교동',\n",
              "       '성산동', '신공덕동', '신정동', '아현동', '염리동', '용강동', '중동', '창전동', '합정동',\n",
              "       '현석동', '남가좌동', '대현동', '북가좌동', '북아현동', '연희동', '영천동', '창천동', '천연동',\n",
              "       '충정로3가', '합동', '현저동', '홍은동', '홍제동', '반포동', '방배동', '서초동', '양재동',\n",
              "       '우면동', '잠원동', '금호동1가', '금호동2가', '금호동3가', '금호동4가', '마장동', '상왕십리동',\n",
              "       '성수동1가', '성수동2가', '옥수동', '응봉동', '하왕십리동', '행당동', '홍익동', '길음동',\n",
              "       '돈암동', '동소문동6가', '동소문동7가', '보문동3가', '보문동4가', '보문동6가', '삼선동2가',\n",
              "       '삼선동3가', '삼선동4가', '상월곡동', '석관동', '안암동1가', '안암동3가', '장위동', '정릉동',\n",
              "       '종암동', '하월곡동', '가락동', '거여동', '마천동', '문정동', '방이동', '석촌동', '송파동',\n",
              "       '신천동', '오금동', '잠실동', '장지동', '풍납동', '목동', '신월동', '당산동', '당산동1가',\n",
              "       '당산동2가', '당산동3가', '당산동4가', '당산동5가', '당산동6가', '대림동', '도림동', '문래동3가',\n",
              "       '문래동4가', '문래동6가', '신길동', '양평동1가', '양평동2가', '양평동3가', '양평동4가',\n",
              "       '양평동5가', '양평동6가', '여의도동', '영등포동', '영등포동1가', '영등포동2가', '영등포동3가',\n",
              "       '영등포동5가', '영등포동7가', '영등포동8가', '도원동', '동자동', '문배동', '서빙고동', '신계동',\n",
              "       '용문동', '원효로1가', '원효로4가', '이촌동', '이태원동', '한강로1가', '한강로2가', '한강로3가',\n",
              "       '한남동', '효창동', '후암동', '갈현동', '구산동', '녹번동', '대조동', '불광동', '수색동',\n",
              "       '역촌동', '응암동', '증산동', '진관동', '교북동', '내수동', '당주동', '명륜1가', '명륜2가',\n",
              "       '명륜3가', '무악동', '사직동', '숭인동', '연건동', '인의동', '창신동', '평동', '평창동',\n",
              "       '홍파동', '순화동', '신당동', '인현동2가', '장충동2가', '중림동', '충무로4가', '충무로5가',\n",
              "       '황학동', '회현동1가', '망우동', '면목동', '묵동', '상봉동', '신내동', '중화동'],\n",
              "      dtype=object)"
            ]
          },
          "execution_count": 279,
          "metadata": {},
          "output_type": "execute_result"
        }
      ],
      "source": [
        "seoul_apt['dong'].unique()"
      ]
    },
    {
      "cell_type": "code",
      "execution_count": 280,
      "metadata": {},
      "outputs": [
        {
          "data": {
            "text/html": [
              "<div>\n",
              "<style scoped>\n",
              "    .dataframe tbody tr th:only-of-type {\n",
              "        vertical-align: middle;\n",
              "    }\n",
              "\n",
              "    .dataframe tbody tr th {\n",
              "        vertical-align: top;\n",
              "    }\n",
              "\n",
              "    .dataframe thead th {\n",
              "        text-align: right;\n",
              "    }\n",
              "</style>\n",
              "<table border=\"1\" class=\"dataframe\">\n",
              "  <thead>\n",
              "    <tr style=\"text-align: right;\">\n",
              "      <th></th>\n",
              "      <th>count</th>\n",
              "      <th>mean</th>\n",
              "      <th>min</th>\n",
              "      <th>max</th>\n",
              "    </tr>\n",
              "    <tr>\n",
              "      <th>county</th>\n",
              "      <th></th>\n",
              "      <th></th>\n",
              "      <th></th>\n",
              "      <th></th>\n",
              "    </tr>\n",
              "  </thead>\n",
              "  <tbody>\n",
              "    <tr>\n",
              "      <th>강남구</th>\n",
              "      <td>146</td>\n",
              "      <td>156752.739726</td>\n",
              "      <td>20500</td>\n",
              "      <td>461000</td>\n",
              "    </tr>\n",
              "    <tr>\n",
              "      <th>강동구</th>\n",
              "      <td>254</td>\n",
              "      <td>76776.259843</td>\n",
              "      <td>9000</td>\n",
              "      <td>175000</td>\n",
              "    </tr>\n",
              "    <tr>\n",
              "      <th>강북구</th>\n",
              "      <td>82</td>\n",
              "      <td>50530.487805</td>\n",
              "      <td>19500</td>\n",
              "      <td>88000</td>\n",
              "    </tr>\n",
              "    <tr>\n",
              "      <th>강서구</th>\n",
              "      <td>276</td>\n",
              "      <td>58559.420290</td>\n",
              "      <td>10200</td>\n",
              "      <td>133000</td>\n",
              "    </tr>\n",
              "    <tr>\n",
              "      <th>관악구</th>\n",
              "      <td>166</td>\n",
              "      <td>53410.228916</td>\n",
              "      <td>13000</td>\n",
              "      <td>89900</td>\n",
              "    </tr>\n",
              "    <tr>\n",
              "      <th>광진구</th>\n",
              "      <td>132</td>\n",
              "      <td>95781.060606</td>\n",
              "      <td>25500</td>\n",
              "      <td>185000</td>\n",
              "    </tr>\n",
              "    <tr>\n",
              "      <th>구로구</th>\n",
              "      <td>331</td>\n",
              "      <td>52736.495468</td>\n",
              "      <td>9500</td>\n",
              "      <td>136500</td>\n",
              "    </tr>\n",
              "    <tr>\n",
              "      <th>금천구</th>\n",
              "      <td>149</td>\n",
              "      <td>42771.664430</td>\n",
              "      <td>9000</td>\n",
              "      <td>93000</td>\n",
              "    </tr>\n",
              "    <tr>\n",
              "      <th>노원구</th>\n",
              "      <td>499</td>\n",
              "      <td>42058.597194</td>\n",
              "      <td>8500</td>\n",
              "      <td>97000</td>\n",
              "    </tr>\n",
              "    <tr>\n",
              "      <th>도봉구</th>\n",
              "      <td>214</td>\n",
              "      <td>37707.149533</td>\n",
              "      <td>14000</td>\n",
              "      <td>88000</td>\n",
              "    </tr>\n",
              "    <tr>\n",
              "      <th>동대문구</th>\n",
              "      <td>190</td>\n",
              "      <td>58520.526316</td>\n",
              "      <td>10000</td>\n",
              "      <td>130000</td>\n",
              "    </tr>\n",
              "    <tr>\n",
              "      <th>동작구</th>\n",
              "      <td>176</td>\n",
              "      <td>82646.988636</td>\n",
              "      <td>15780</td>\n",
              "      <td>140000</td>\n",
              "    </tr>\n",
              "    <tr>\n",
              "      <th>마포구</th>\n",
              "      <td>145</td>\n",
              "      <td>88194.482759</td>\n",
              "      <td>16500</td>\n",
              "      <td>198000</td>\n",
              "    </tr>\n",
              "    <tr>\n",
              "      <th>서대문구</th>\n",
              "      <td>165</td>\n",
              "      <td>66554.787879</td>\n",
              "      <td>16500</td>\n",
              "      <td>142000</td>\n",
              "    </tr>\n",
              "    <tr>\n",
              "      <th>서초구</th>\n",
              "      <td>121</td>\n",
              "      <td>150892.975207</td>\n",
              "      <td>22500</td>\n",
              "      <td>415000</td>\n",
              "    </tr>\n",
              "    <tr>\n",
              "      <th>성동구</th>\n",
              "      <td>167</td>\n",
              "      <td>93559.580838</td>\n",
              "      <td>49700</td>\n",
              "      <td>170300</td>\n",
              "    </tr>\n",
              "    <tr>\n",
              "      <th>성북구</th>\n",
              "      <td>353</td>\n",
              "      <td>58384.390935</td>\n",
              "      <td>12900</td>\n",
              "      <td>117000</td>\n",
              "    </tr>\n",
              "    <tr>\n",
              "      <th>송파구</th>\n",
              "      <td>226</td>\n",
              "      <td>98400.663717</td>\n",
              "      <td>16000</td>\n",
              "      <td>308000</td>\n",
              "    </tr>\n",
              "    <tr>\n",
              "      <th>양천구</th>\n",
              "      <td>209</td>\n",
              "      <td>70187.559809</td>\n",
              "      <td>17500</td>\n",
              "      <td>224000</td>\n",
              "    </tr>\n",
              "    <tr>\n",
              "      <th>영등포구</th>\n",
              "      <td>189</td>\n",
              "      <td>72392.433862</td>\n",
              "      <td>11500</td>\n",
              "      <td>259000</td>\n",
              "    </tr>\n",
              "    <tr>\n",
              "      <th>용산구</th>\n",
              "      <td>75</td>\n",
              "      <td>114156.640000</td>\n",
              "      <td>17000</td>\n",
              "      <td>485000</td>\n",
              "    </tr>\n",
              "    <tr>\n",
              "      <th>은평구</th>\n",
              "      <td>171</td>\n",
              "      <td>58847.801170</td>\n",
              "      <td>11000</td>\n",
              "      <td>109000</td>\n",
              "    </tr>\n",
              "    <tr>\n",
              "      <th>종로구</th>\n",
              "      <td>40</td>\n",
              "      <td>86017.500000</td>\n",
              "      <td>11500</td>\n",
              "      <td>194000</td>\n",
              "    </tr>\n",
              "    <tr>\n",
              "      <th>중구</th>\n",
              "      <td>65</td>\n",
              "      <td>74229.307692</td>\n",
              "      <td>8500</td>\n",
              "      <td>240000</td>\n",
              "    </tr>\n",
              "    <tr>\n",
              "      <th>중랑구</th>\n",
              "      <td>160</td>\n",
              "      <td>45616.125000</td>\n",
              "      <td>11000</td>\n",
              "      <td>91000</td>\n",
              "    </tr>\n",
              "  </tbody>\n",
              "</table>\n",
              "</div>"
            ],
            "text/plain": [
              "        count           mean    min     max\n",
              "county                                     \n",
              "강남구       146  156752.739726  20500  461000\n",
              "강동구       254   76776.259843   9000  175000\n",
              "강북구        82   50530.487805  19500   88000\n",
              "강서구       276   58559.420290  10200  133000\n",
              "관악구       166   53410.228916  13000   89900\n",
              "광진구       132   95781.060606  25500  185000\n",
              "구로구       331   52736.495468   9500  136500\n",
              "금천구       149   42771.664430   9000   93000\n",
              "노원구       499   42058.597194   8500   97000\n",
              "도봉구       214   37707.149533  14000   88000\n",
              "동대문구      190   58520.526316  10000  130000\n",
              "동작구       176   82646.988636  15780  140000\n",
              "마포구       145   88194.482759  16500  198000\n",
              "서대문구      165   66554.787879  16500  142000\n",
              "서초구       121  150892.975207  22500  415000\n",
              "성동구       167   93559.580838  49700  170300\n",
              "성북구       353   58384.390935  12900  117000\n",
              "송파구       226   98400.663717  16000  308000\n",
              "양천구       209   70187.559809  17500  224000\n",
              "영등포구      189   72392.433862  11500  259000\n",
              "용산구        75  114156.640000  17000  485000\n",
              "은평구       171   58847.801170  11000  109000\n",
              "종로구        40   86017.500000  11500  194000\n",
              "중구         65   74229.307692   8500  240000\n",
              "중랑구       160   45616.125000  11000   91000"
            ]
          },
          "execution_count": 280,
          "metadata": {},
          "output_type": "execute_result"
        }
      ],
      "source": [
        "# 서울시 구별 아파트 매매 건수 ,매매 가격 평균 ,최솟값, 최댓값\n",
        "result=seoul_apt.groupby('county')['가격'].agg(['count','mean','min','max'])\n",
        "result"
      ]
    },
    {
      "cell_type": "code",
      "execution_count": 281,
      "metadata": {},
      "outputs": [],
      "source": [
        "# 서울시 구별 아파트 매매 거래 수 순위\n",
        "top10=result.sort_values(by='count', ascending=False).head(10)\n"
      ]
    },
    {
      "cell_type": "code",
      "execution_count": 282,
      "metadata": {},
      "outputs": [
        {
          "data": {
            "text/plain": [
              "<AxesSubplot:xlabel='count', ylabel='county'>"
            ]
          },
          "execution_count": 282,
          "metadata": {},
          "output_type": "execute_result"
        },
        {
          "data": {
            "image/png": "[encoded data removed]",
            "text/plain": [
              "<Figure size 432x288 with 1 Axes>"
            ]
          },
          "metadata": {
            "needs_background": "light"
          },
          "output_type": "display_data"
        }
      ],
      "source": [
        "sns.barplot(data=top10, x='count', y=top10.index)"
      ]
    },
    {
      "cell_type": "code",
      "execution_count": 283,
      "metadata": {},
      "outputs": [],
      "source": [
        "# 서울시 구별 아파트 매매 가격 평균\n",
        "top10=result.sort_values(by=\"mean\", ascending=False).head(10)"
      ]
    },
    {
      "cell_type": "code",
      "execution_count": 284,
      "metadata": {},
      "outputs": [
        {
          "data": {
            "image/png": "[encoded data removed]",
            "text/plain": [
              "<Figure size 432x288 with 1 Axes>"
            ]
          },
          "metadata": {
            "needs_background": "light"
          },
          "output_type": "display_data"
        }
      ],
      "source": [
        "sns.barplot(data=top10, x='mean', y=top10.index)\n",
        "plt.show()"
      ]
    },
    {
      "cell_type": "code",
      "execution_count": 287,
      "metadata": {},
      "outputs": [],
      "source": [
        "top10=result.sort_values(by='max', ascending=False).head(10)"
      ]
    },
    {
      "cell_type": "code",
      "execution_count": 289,
      "metadata": {},
      "outputs": [
        {
          "data": {
            "text/plain": [
              "<AxesSubplot:xlabel='max', ylabel='county'>"
            ]
          },
          "execution_count": 289,
          "metadata": {},
          "output_type": "execute_result"
        },
        {
          "data": {
            "image/png": "[encoded data removed]",
            "text/plain": [
              "<Figure size 432x288 with 1 Axes>"
            ]
          },
          "metadata": {
            "needs_background": "light"
          },
          "output_type": "display_data"
        }
      ],
      "source": [
        "sns.barplot(data=top10, x='max', y=top10.index)"
      ]
    },
    {
      "cell_type": "markdown",
      "metadata": {},
      "source": [
        "## 서울시 동별 아파트 가격 분석"
      ]
    },
    {
      "cell_type": "code",
      "execution_count": 298,
      "metadata": {},
      "outputs": [
        {
          "data": {
            "text/html": [
              "<div>\n",
              "<style scoped>\n",
              "    .dataframe tbody tr th:only-of-type {\n",
              "        vertical-align: middle;\n",
              "    }\n",
              "\n",
              "    .dataframe tbody tr th {\n",
              "        vertical-align: top;\n",
              "    }\n",
              "\n",
              "    .dataframe thead th {\n",
              "        text-align: right;\n",
              "    }\n",
              "</style>\n",
              "<table border=\"1\" class=\"dataframe\">\n",
              "  <thead>\n",
              "    <tr style=\"text-align: right;\">\n",
              "      <th></th>\n",
              "      <th>count</th>\n",
              "      <th>mean</th>\n",
              "      <th>min</th>\n",
              "      <th>max</th>\n",
              "    </tr>\n",
              "    <tr>\n",
              "      <th>dong</th>\n",
              "      <th></th>\n",
              "      <th></th>\n",
              "      <th></th>\n",
              "      <th></th>\n",
              "    </tr>\n",
              "  </thead>\n",
              "  <tbody>\n",
              "    <tr>\n",
              "      <th>가락동</th>\n",
              "      <td>22</td>\n",
              "      <td>78695.454545</td>\n",
              "      <td>16000</td>\n",
              "      <td>110000</td>\n",
              "    </tr>\n",
              "    <tr>\n",
              "      <th>가산동</th>\n",
              "      <td>6</td>\n",
              "      <td>40550.000000</td>\n",
              "      <td>20300</td>\n",
              "      <td>53500</td>\n",
              "    </tr>\n",
              "    <tr>\n",
              "      <th>가양동</th>\n",
              "      <td>43</td>\n",
              "      <td>49988.372093</td>\n",
              "      <td>33500</td>\n",
              "      <td>114000</td>\n",
              "    </tr>\n",
              "    <tr>\n",
              "      <th>갈현동</th>\n",
              "      <td>5</td>\n",
              "      <td>38400.000000</td>\n",
              "      <td>27000</td>\n",
              "      <td>60000</td>\n",
              "    </tr>\n",
              "    <tr>\n",
              "      <th>강일동</th>\n",
              "      <td>19</td>\n",
              "      <td>67026.315789</td>\n",
              "      <td>58500</td>\n",
              "      <td>85000</td>\n",
              "    </tr>\n",
              "    <tr>\n",
              "      <th>...</th>\n",
              "      <td>...</td>\n",
              "      <td>...</td>\n",
              "      <td>...</td>\n",
              "      <td>...</td>\n",
              "    </tr>\n",
              "    <tr>\n",
              "      <th>회현동1가</th>\n",
              "      <td>3</td>\n",
              "      <td>125500.000000</td>\n",
              "      <td>113000</td>\n",
              "      <td>143500</td>\n",
              "    </tr>\n",
              "    <tr>\n",
              "      <th>효창동</th>\n",
              "      <td>6</td>\n",
              "      <td>87500.000000</td>\n",
              "      <td>59000</td>\n",
              "      <td>130000</td>\n",
              "    </tr>\n",
              "    <tr>\n",
              "      <th>후암동</th>\n",
              "      <td>3</td>\n",
              "      <td>78066.666667</td>\n",
              "      <td>30200</td>\n",
              "      <td>129000</td>\n",
              "    </tr>\n",
              "    <tr>\n",
              "      <th>휘경동</th>\n",
              "      <td>18</td>\n",
              "      <td>53711.111111</td>\n",
              "      <td>33000</td>\n",
              "      <td>81500</td>\n",
              "    </tr>\n",
              "    <tr>\n",
              "      <th>흑석동</th>\n",
              "      <td>14</td>\n",
              "      <td>105385.714286</td>\n",
              "      <td>55700</td>\n",
              "      <td>140000</td>\n",
              "    </tr>\n",
              "  </tbody>\n",
              "</table>\n",
              "<p>247 rows × 4 columns</p>\n",
              "</div>"
            ],
            "text/plain": [
              "       count           mean     min     max\n",
              "dong                                       \n",
              "가락동       22   78695.454545   16000  110000\n",
              "가산동        6   40550.000000   20300   53500\n",
              "가양동       43   49988.372093   33500  114000\n",
              "갈현동        5   38400.000000   27000   60000\n",
              "강일동       19   67026.315789   58500   85000\n",
              "...      ...            ...     ...     ...\n",
              "회현동1가      3  125500.000000  113000  143500\n",
              "효창동        6   87500.000000   59000  130000\n",
              "후암동        3   78066.666667   30200  129000\n",
              "휘경동       18   53711.111111   33000   81500\n",
              "흑석동       14  105385.714286   55700  140000\n",
              "\n",
              "[247 rows x 4 columns]"
            ]
          },
          "execution_count": 298,
          "metadata": {},
          "output_type": "execute_result"
        }
      ],
      "source": [
        "result=seoul_apt.groupby(by='dong')['가격'].agg(['count','mean','min','max'])\n",
        "result"
      ]
    },
    {
      "cell_type": "code",
      "execution_count": 306,
      "metadata": {},
      "outputs": [
        {
          "data": {
            "text/html": [
              "<div>\n",
              "<style scoped>\n",
              "    .dataframe tbody tr th:only-of-type {\n",
              "        vertical-align: middle;\n",
              "    }\n",
              "\n",
              "    .dataframe tbody tr th {\n",
              "        vertical-align: top;\n",
              "    }\n",
              "\n",
              "    .dataframe thead th {\n",
              "        text-align: right;\n",
              "    }\n",
              "</style>\n",
              "<table border=\"1\" class=\"dataframe\">\n",
              "  <thead>\n",
              "    <tr style=\"text-align: right;\">\n",
              "      <th></th>\n",
              "      <th>count</th>\n",
              "      <th>mean</th>\n",
              "      <th>min</th>\n",
              "      <th>max</th>\n",
              "    </tr>\n",
              "    <tr>\n",
              "      <th>dong</th>\n",
              "      <th></th>\n",
              "      <th></th>\n",
              "      <th></th>\n",
              "      <th></th>\n",
              "    </tr>\n",
              "  </thead>\n",
              "  <tbody>\n",
              "    <tr>\n",
              "      <th>상계동</th>\n",
              "      <td>198</td>\n",
              "      <td>40474.242424</td>\n",
              "      <td>23200</td>\n",
              "      <td>78000</td>\n",
              "    </tr>\n",
              "    <tr>\n",
              "      <th>구로동</th>\n",
              "      <td>120</td>\n",
              "      <td>47075.250000</td>\n",
              "      <td>9800</td>\n",
              "      <td>118000</td>\n",
              "    </tr>\n",
              "    <tr>\n",
              "      <th>중계동</th>\n",
              "      <td>108</td>\n",
              "      <td>46145.740741</td>\n",
              "      <td>16300</td>\n",
              "      <td>97000</td>\n",
              "    </tr>\n",
              "    <tr>\n",
              "      <th>시흥동</th>\n",
              "      <td>101</td>\n",
              "      <td>39634.435644</td>\n",
              "      <td>9000</td>\n",
              "      <td>86000</td>\n",
              "    </tr>\n",
              "    <tr>\n",
              "      <th>봉천동</th>\n",
              "      <td>97</td>\n",
              "      <td>56228.340206</td>\n",
              "      <td>13000</td>\n",
              "      <td>89900</td>\n",
              "    </tr>\n",
              "    <tr>\n",
              "      <th>신월동</th>\n",
              "      <td>78</td>\n",
              "      <td>41164.102564</td>\n",
              "      <td>17500</td>\n",
              "      <td>79000</td>\n",
              "    </tr>\n",
              "    <tr>\n",
              "      <th>공릉동</th>\n",
              "      <td>78</td>\n",
              "      <td>37887.179487</td>\n",
              "      <td>8500</td>\n",
              "      <td>71500</td>\n",
              "    </tr>\n",
              "    <tr>\n",
              "      <th>신정동</th>\n",
              "      <td>77</td>\n",
              "      <td>74342.207792</td>\n",
              "      <td>29950</td>\n",
              "      <td>176000</td>\n",
              "    </tr>\n",
              "    <tr>\n",
              "      <th>창동</th>\n",
              "      <td>76</td>\n",
              "      <td>44913.815789</td>\n",
              "      <td>18700</td>\n",
              "      <td>88000</td>\n",
              "    </tr>\n",
              "    <tr>\n",
              "      <th>화곡동</th>\n",
              "      <td>68</td>\n",
              "      <td>50479.411765</td>\n",
              "      <td>10200</td>\n",
              "      <td>133000</td>\n",
              "    </tr>\n",
              "  </tbody>\n",
              "</table>\n",
              "</div>"
            ],
            "text/plain": [
              "      count          mean    min     max\n",
              "dong                                    \n",
              "상계동     198  40474.242424  23200   78000\n",
              "구로동     120  47075.250000   9800  118000\n",
              "중계동     108  46145.740741  16300   97000\n",
              "시흥동     101  39634.435644   9000   86000\n",
              "봉천동      97  56228.340206  13000   89900\n",
              "신월동      78  41164.102564  17500   79000\n",
              "공릉동      78  37887.179487   8500   71500\n",
              "신정동      77  74342.207792  29950  176000\n",
              "창동       76  44913.815789  18700   88000\n",
              "화곡동      68  50479.411765  10200  133000"
            ]
          },
          "execution_count": 306,
          "metadata": {},
          "output_type": "execute_result"
        }
      ],
      "source": [
        "top10=result.sort_values(by='count', ascending=False).head(10)\n",
        "top10"
      ]
    },
    {
      "cell_type": "code",
      "execution_count": 307,
      "metadata": {},
      "outputs": [
        {
          "data": {
            "image/png": "[encoded data removed]",
            "text/plain": [
              "<Figure size 432x288 with 1 Axes>"
            ]
          },
          "metadata": {
            "needs_background": "light"
          },
          "output_type": "display_data"
        }
      ],
      "source": [
        "sns.barplot(data=top10, x='count', y=top10.index)\n",
        "plt.show()"
      ]
    },
    {
      "cell_type": "code",
      "execution_count": 315,
      "metadata": {},
      "outputs": [
        {
          "data": {
            "text/html": [
              "<div>\n",
              "<style scoped>\n",
              "    .dataframe tbody tr th:only-of-type {\n",
              "        vertical-align: middle;\n",
              "    }\n",
              "\n",
              "    .dataframe tbody tr th {\n",
              "        vertical-align: top;\n",
              "    }\n",
              "\n",
              "    .dataframe thead th {\n",
              "        text-align: right;\n",
              "    }\n",
              "</style>\n",
              "<table border=\"1\" class=\"dataframe\">\n",
              "  <thead>\n",
              "    <tr style=\"text-align: right;\">\n",
              "      <th></th>\n",
              "      <th>count</th>\n",
              "      <th>mean</th>\n",
              "      <th>min</th>\n",
              "      <th>max</th>\n",
              "    </tr>\n",
              "    <tr>\n",
              "      <th>dong</th>\n",
              "      <th></th>\n",
              "      <th></th>\n",
              "      <th></th>\n",
              "      <th></th>\n",
              "    </tr>\n",
              "  </thead>\n",
              "  <tbody>\n",
              "    <tr>\n",
              "      <th>압구정동</th>\n",
              "      <td>10</td>\n",
              "      <td>263250.000000</td>\n",
              "      <td>170000</td>\n",
              "      <td>355000</td>\n",
              "    </tr>\n",
              "    <tr>\n",
              "      <th>반포동</th>\n",
              "      <td>17</td>\n",
              "      <td>224200.000000</td>\n",
              "      <td>87700</td>\n",
              "      <td>415000</td>\n",
              "    </tr>\n",
              "    <tr>\n",
              "      <th>잠원동</th>\n",
              "      <td>15</td>\n",
              "      <td>194313.333333</td>\n",
              "      <td>109000</td>\n",
              "      <td>295000</td>\n",
              "    </tr>\n",
              "    <tr>\n",
              "      <th>대치동</th>\n",
              "      <td>22</td>\n",
              "      <td>192795.454545</td>\n",
              "      <td>30000</td>\n",
              "      <td>373000</td>\n",
              "    </tr>\n",
              "    <tr>\n",
              "      <th>잠실동</th>\n",
              "      <td>22</td>\n",
              "      <td>191459.090909</td>\n",
              "      <td>145000</td>\n",
              "      <td>308000</td>\n",
              "    </tr>\n",
              "    <tr>\n",
              "      <th>홍파동</th>\n",
              "      <td>2</td>\n",
              "      <td>176500.000000</td>\n",
              "      <td>159000</td>\n",
              "      <td>194000</td>\n",
              "    </tr>\n",
              "    <tr>\n",
              "      <th>한강로3가</th>\n",
              "      <td>1</td>\n",
              "      <td>175000.000000</td>\n",
              "      <td>175000</td>\n",
              "      <td>175000</td>\n",
              "    </tr>\n",
              "    <tr>\n",
              "      <th>여의도동</th>\n",
              "      <td>8</td>\n",
              "      <td>172562.500000</td>\n",
              "      <td>105000</td>\n",
              "      <td>259000</td>\n",
              "    </tr>\n",
              "    <tr>\n",
              "      <th>청담동</th>\n",
              "      <td>10</td>\n",
              "      <td>170200.000000</td>\n",
              "      <td>75000</td>\n",
              "      <td>300000</td>\n",
              "    </tr>\n",
              "    <tr>\n",
              "      <th>도곡동</th>\n",
              "      <td>23</td>\n",
              "      <td>169347.826087</td>\n",
              "      <td>31800</td>\n",
              "      <td>461000</td>\n",
              "    </tr>\n",
              "  </tbody>\n",
              "</table>\n",
              "</div>"
            ],
            "text/plain": [
              "       count           mean     min     max\n",
              "dong                                       \n",
              "압구정동      10  263250.000000  170000  355000\n",
              "반포동       17  224200.000000   87700  415000\n",
              "잠원동       15  194313.333333  109000  295000\n",
              "대치동       22  192795.454545   30000  373000\n",
              "잠실동       22  191459.090909  145000  308000\n",
              "홍파동        2  176500.000000  159000  194000\n",
              "한강로3가      1  175000.000000  175000  175000\n",
              "여의도동       8  172562.500000  105000  259000\n",
              "청담동       10  170200.000000   75000  300000\n",
              "도곡동       23  169347.826087   31800  461000"
            ]
          },
          "execution_count": 315,
          "metadata": {},
          "output_type": "execute_result"
        }
      ],
      "source": [
        "# 매매 가격 평균 순위\n",
        "result.sort_values(by='mean',ascending=False).head(10)\n"
      ]
    },
    {
      "cell_type": "code",
      "execution_count": 319,
      "metadata": {},
      "outputs": [
        {
          "data": {
            "text/html": [
              "<div>\n",
              "<style scoped>\n",
              "    .dataframe tbody tr th:only-of-type {\n",
              "        vertical-align: middle;\n",
              "    }\n",
              "\n",
              "    .dataframe tbody tr th {\n",
              "        vertical-align: top;\n",
              "    }\n",
              "\n",
              "    .dataframe thead th {\n",
              "        text-align: right;\n",
              "    }\n",
              "</style>\n",
              "<table border=\"1\" class=\"dataframe\">\n",
              "  <thead>\n",
              "    <tr style=\"text-align: right;\">\n",
              "      <th></th>\n",
              "      <th>count</th>\n",
              "      <th>mean</th>\n",
              "      <th>min</th>\n",
              "      <th>max</th>\n",
              "    </tr>\n",
              "    <tr>\n",
              "      <th>dong</th>\n",
              "      <th></th>\n",
              "      <th></th>\n",
              "      <th></th>\n",
              "      <th></th>\n",
              "    </tr>\n",
              "  </thead>\n",
              "  <tbody>\n",
              "    <tr>\n",
              "      <th>대치동</th>\n",
              "      <td>22</td>\n",
              "      <td>192795.454545</td>\n",
              "      <td>30000</td>\n",
              "      <td>373000</td>\n",
              "    </tr>\n",
              "    <tr>\n",
              "      <th>잠실동</th>\n",
              "      <td>22</td>\n",
              "      <td>191459.090909</td>\n",
              "      <td>145000</td>\n",
              "      <td>308000</td>\n",
              "    </tr>\n",
              "    <tr>\n",
              "      <th>도곡동</th>\n",
              "      <td>23</td>\n",
              "      <td>169347.826087</td>\n",
              "      <td>31800</td>\n",
              "      <td>461000</td>\n",
              "    </tr>\n",
              "    <tr>\n",
              "      <th>방배동</th>\n",
              "      <td>31</td>\n",
              "      <td>142812.903226</td>\n",
              "      <td>57000</td>\n",
              "      <td>250000</td>\n",
              "    </tr>\n",
              "    <tr>\n",
              "      <th>개포동</th>\n",
              "      <td>21</td>\n",
              "      <td>137223.809524</td>\n",
              "      <td>60700</td>\n",
              "      <td>270000</td>\n",
              "    </tr>\n",
              "    <tr>\n",
              "      <th>이촌동</th>\n",
              "      <td>20</td>\n",
              "      <td>136027.400000</td>\n",
              "      <td>25000</td>\n",
              "      <td>289998</td>\n",
              "    </tr>\n",
              "    <tr>\n",
              "      <th>서초동</th>\n",
              "      <td>45</td>\n",
              "      <td>131484.444444</td>\n",
              "      <td>22500</td>\n",
              "      <td>261000</td>\n",
              "    </tr>\n",
              "    <tr>\n",
              "      <th>역삼동</th>\n",
              "      <td>22</td>\n",
              "      <td>130213.636364</td>\n",
              "      <td>20500</td>\n",
              "      <td>245000</td>\n",
              "    </tr>\n",
              "    <tr>\n",
              "      <th>고덕동</th>\n",
              "      <td>23</td>\n",
              "      <td>106947.826087</td>\n",
              "      <td>52200</td>\n",
              "      <td>150000</td>\n",
              "    </tr>\n",
              "    <tr>\n",
              "      <th>둔촌동</th>\n",
              "      <td>51</td>\n",
              "      <td>106582.352941</td>\n",
              "      <td>38900</td>\n",
              "      <td>175000</td>\n",
              "    </tr>\n",
              "  </tbody>\n",
              "</table>\n",
              "</div>"
            ],
            "text/plain": [
              "      count           mean     min     max\n",
              "dong                                      \n",
              "대치동      22  192795.454545   30000  373000\n",
              "잠실동      22  191459.090909  145000  308000\n",
              "도곡동      23  169347.826087   31800  461000\n",
              "방배동      31  142812.903226   57000  250000\n",
              "개포동      21  137223.809524   60700  270000\n",
              "이촌동      20  136027.400000   25000  289998\n",
              "서초동      45  131484.444444   22500  261000\n",
              "역삼동      22  130213.636364   20500  245000\n",
              "고덕동      23  106947.826087   52200  150000\n",
              "둔촌동      51  106582.352941   38900  175000"
            ]
          },
          "execution_count": 319,
          "metadata": {},
          "output_type": "execute_result"
        }
      ],
      "source": [
        "# 매매 건수가 20건 이상인 동에서 매매 가격 평균 순위\n",
        "top10=result[result['count']>=20].sort_values(by=\"mean\", ascending=False).head(10)\n",
        "top10"
      ]
    },
    {
      "cell_type": "code",
      "execution_count": 320,
      "metadata": {},
      "outputs": [
        {
          "data": {
            "text/plain": [
              "<AxesSubplot:xlabel='mean', ylabel='dong'>"
            ]
          },
          "execution_count": 320,
          "metadata": {},
          "output_type": "execute_result"
        },
        {
          "data": {
            "image/png": "[encoded data removed]",
            "text/plain": [
              "<Figure size 432x288 with 1 Axes>"
            ]
          },
          "metadata": {
            "needs_background": "light"
          },
          "output_type": "display_data"
        }
      ],
      "source": [
        "sns.barplot(data=top10, x='mean', y=top10.index)"
      ]
    },
    {
      "cell_type": "code",
      "execution_count": 323,
      "metadata": {},
      "outputs": [
        {
          "data": {
            "text/html": [
              "<div>\n",
              "<style scoped>\n",
              "    .dataframe tbody tr th:only-of-type {\n",
              "        vertical-align: middle;\n",
              "    }\n",
              "\n",
              "    .dataframe tbody tr th {\n",
              "        vertical-align: top;\n",
              "    }\n",
              "\n",
              "    .dataframe thead th {\n",
              "        text-align: right;\n",
              "    }\n",
              "</style>\n",
              "<table border=\"1\" class=\"dataframe\">\n",
              "  <thead>\n",
              "    <tr style=\"text-align: right;\">\n",
              "      <th></th>\n",
              "      <th>count</th>\n",
              "      <th>mean</th>\n",
              "      <th>min</th>\n",
              "      <th>max</th>\n",
              "    </tr>\n",
              "    <tr>\n",
              "      <th>dong</th>\n",
              "      <th></th>\n",
              "      <th></th>\n",
              "      <th></th>\n",
              "      <th></th>\n",
              "    </tr>\n",
              "  </thead>\n",
              "  <tbody>\n",
              "    <tr>\n",
              "      <th>한남동</th>\n",
              "      <td>6</td>\n",
              "      <td>159666.666667</td>\n",
              "      <td>27000</td>\n",
              "      <td>485000</td>\n",
              "    </tr>\n",
              "    <tr>\n",
              "      <th>도곡동</th>\n",
              "      <td>23</td>\n",
              "      <td>169347.826087</td>\n",
              "      <td>31800</td>\n",
              "      <td>461000</td>\n",
              "    </tr>\n",
              "    <tr>\n",
              "      <th>반포동</th>\n",
              "      <td>17</td>\n",
              "      <td>224200.000000</td>\n",
              "      <td>87700</td>\n",
              "      <td>415000</td>\n",
              "    </tr>\n",
              "    <tr>\n",
              "      <th>대치동</th>\n",
              "      <td>22</td>\n",
              "      <td>192795.454545</td>\n",
              "      <td>30000</td>\n",
              "      <td>373000</td>\n",
              "    </tr>\n",
              "    <tr>\n",
              "      <th>압구정동</th>\n",
              "      <td>10</td>\n",
              "      <td>263250.000000</td>\n",
              "      <td>170000</td>\n",
              "      <td>355000</td>\n",
              "    </tr>\n",
              "    <tr>\n",
              "      <th>잠실동</th>\n",
              "      <td>22</td>\n",
              "      <td>191459.090909</td>\n",
              "      <td>145000</td>\n",
              "      <td>308000</td>\n",
              "    </tr>\n",
              "    <tr>\n",
              "      <th>청담동</th>\n",
              "      <td>10</td>\n",
              "      <td>170200.000000</td>\n",
              "      <td>75000</td>\n",
              "      <td>300000</td>\n",
              "    </tr>\n",
              "    <tr>\n",
              "      <th>잠원동</th>\n",
              "      <td>15</td>\n",
              "      <td>194313.333333</td>\n",
              "      <td>109000</td>\n",
              "      <td>295000</td>\n",
              "    </tr>\n",
              "    <tr>\n",
              "      <th>삼성동</th>\n",
              "      <td>7</td>\n",
              "      <td>168714.285714</td>\n",
              "      <td>103000</td>\n",
              "      <td>290000</td>\n",
              "    </tr>\n",
              "    <tr>\n",
              "      <th>이촌동</th>\n",
              "      <td>20</td>\n",
              "      <td>136027.400000</td>\n",
              "      <td>25000</td>\n",
              "      <td>289998</td>\n",
              "    </tr>\n",
              "  </tbody>\n",
              "</table>\n",
              "</div>"
            ],
            "text/plain": [
              "      count           mean     min     max\n",
              "dong                                      \n",
              "한남동       6  159666.666667   27000  485000\n",
              "도곡동      23  169347.826087   31800  461000\n",
              "반포동      17  224200.000000   87700  415000\n",
              "대치동      22  192795.454545   30000  373000\n",
              "압구정동     10  263250.000000  170000  355000\n",
              "잠실동      22  191459.090909  145000  308000\n",
              "청담동      10  170200.000000   75000  300000\n",
              "잠원동      15  194313.333333  109000  295000\n",
              "삼성동       7  168714.285714  103000  290000\n",
              "이촌동      20  136027.400000   25000  289998"
            ]
          },
          "execution_count": 323,
          "metadata": {},
          "output_type": "execute_result"
        }
      ],
      "source": [
        "top10=result.sort_values(by='max', ascending=False).head(n=10)\n",
        "top10\n"
      ]
    },
    {
      "cell_type": "code",
      "execution_count": 324,
      "metadata": {},
      "outputs": [
        {
          "data": {
            "text/plain": [
              "<AxesSubplot:xlabel='max', ylabel='dong'>"
            ]
          },
          "execution_count": 324,
          "metadata": {},
          "output_type": "execute_result"
        },
        {
          "data": {
            "image/png": "[encoded data removed]",
            "text/plain": [
              "<Figure size 432x288 with 1 Axes>"
            ]
          },
          "metadata": {
            "needs_background": "light"
          },
          "output_type": "display_data"
        }
      ],
      "source": [
        "sns.barplot(data=top10, x='max', y=top10.index)"
      ]
    },
    {
      "cell_type": "markdown",
      "metadata": {},
      "source": [
        "### 서울시 중형 크기의 아파트 가격 분석\n",
        "\n",
        "\n",
        "$ 84 m^2$ 이상 $100 m^2$ 미만"
      ]
    },
    {
      "cell_type": "code",
      "execution_count": 334,
      "metadata": {},
      "outputs": [
        {
          "data": {
            "text/html": [
              "<div>\n",
              "<style scoped>\n",
              "    .dataframe tbody tr th:only-of-type {\n",
              "        vertical-align: middle;\n",
              "    }\n",
              "\n",
              "    .dataframe tbody tr th {\n",
              "        vertical-align: top;\n",
              "    }\n",
              "\n",
              "    .dataframe thead th {\n",
              "        text-align: right;\n",
              "    }\n",
              "</style>\n",
              "<table border=\"1\" class=\"dataframe\">\n",
              "  <thead>\n",
              "    <tr style=\"text-align: right;\">\n",
              "      <th></th>\n",
              "      <th>시군구</th>\n",
              "      <th>번지</th>\n",
              "      <th>본번</th>\n",
              "      <th>부번</th>\n",
              "      <th>단지명</th>\n",
              "      <th>면적</th>\n",
              "      <th>계약년월</th>\n",
              "      <th>계약일</th>\n",
              "      <th>가격</th>\n",
              "      <th>층</th>\n",
              "      <th>건축년도</th>\n",
              "      <th>도로명</th>\n",
              "      <th>province</th>\n",
              "      <th>county</th>\n",
              "      <th>dong</th>\n",
              "      <th>year</th>\n",
              "      <th>month</th>\n",
              "    </tr>\n",
              "  </thead>\n",
              "  <tbody>\n",
              "    <tr>\n",
              "      <th>27027</th>\n",
              "      <td>서울특별시 강남구 논현동</td>\n",
              "      <td>80-13</td>\n",
              "      <td>80</td>\n",
              "      <td>13</td>\n",
              "      <td>프라임</td>\n",
              "      <td>97.8000</td>\n",
              "      <td>201910</td>\n",
              "      <td>1</td>\n",
              "      <td>93000</td>\n",
              "      <td>4</td>\n",
              "      <td>2004</td>\n",
              "      <td>도산대로30길 56</td>\n",
              "      <td>서울특별시</td>\n",
              "      <td>강남구</td>\n",
              "      <td>논현동</td>\n",
              "      <td>2019</td>\n",
              "      <td>10</td>\n",
              "    </tr>\n",
              "    <tr>\n",
              "      <th>27030</th>\n",
              "      <td>서울특별시 강남구 대치동</td>\n",
              "      <td>1014-3</td>\n",
              "      <td>1014</td>\n",
              "      <td>3</td>\n",
              "      <td>대치삼성</td>\n",
              "      <td>84.5800</td>\n",
              "      <td>201910</td>\n",
              "      <td>17</td>\n",
              "      <td>190000</td>\n",
              "      <td>3</td>\n",
              "      <td>2000</td>\n",
              "      <td>도곡로78길 22</td>\n",
              "      <td>서울특별시</td>\n",
              "      <td>강남구</td>\n",
              "      <td>대치동</td>\n",
              "      <td>2019</td>\n",
              "      <td>10</td>\n",
              "    </tr>\n",
              "    <tr>\n",
              "      <th>27033</th>\n",
              "      <td>서울특별시 강남구 대치동</td>\n",
              "      <td>988-4</td>\n",
              "      <td>988</td>\n",
              "      <td>4</td>\n",
              "      <td>대치효성</td>\n",
              "      <td>84.9100</td>\n",
              "      <td>201910</td>\n",
              "      <td>6</td>\n",
              "      <td>159000</td>\n",
              "      <td>5</td>\n",
              "      <td>1999</td>\n",
              "      <td>삼성로64길 12</td>\n",
              "      <td>서울특별시</td>\n",
              "      <td>강남구</td>\n",
              "      <td>대치동</td>\n",
              "      <td>2019</td>\n",
              "      <td>10</td>\n",
              "    </tr>\n",
              "    <tr>\n",
              "      <th>27037</th>\n",
              "      <td>서울특별시 강남구 대치동</td>\n",
              "      <td>1027</td>\n",
              "      <td>1027</td>\n",
              "      <td>0</td>\n",
              "      <td>래미안대치팰리스</td>\n",
              "      <td>84.9700</td>\n",
              "      <td>201910</td>\n",
              "      <td>14</td>\n",
              "      <td>277000</td>\n",
              "      <td>35</td>\n",
              "      <td>2015</td>\n",
              "      <td>삼성로51길 37</td>\n",
              "      <td>서울특별시</td>\n",
              "      <td>강남구</td>\n",
              "      <td>대치동</td>\n",
              "      <td>2019</td>\n",
              "      <td>10</td>\n",
              "    </tr>\n",
              "    <tr>\n",
              "      <th>27038</th>\n",
              "      <td>서울특별시 강남구 대치동</td>\n",
              "      <td>1027</td>\n",
              "      <td>1027</td>\n",
              "      <td>0</td>\n",
              "      <td>래미안대치팰리스</td>\n",
              "      <td>91.9300</td>\n",
              "      <td>201910</td>\n",
              "      <td>20</td>\n",
              "      <td>275000</td>\n",
              "      <td>23</td>\n",
              "      <td>2015</td>\n",
              "      <td>삼성로51길 35</td>\n",
              "      <td>서울특별시</td>\n",
              "      <td>강남구</td>\n",
              "      <td>대치동</td>\n",
              "      <td>2019</td>\n",
              "      <td>10</td>\n",
              "    </tr>\n",
              "    <tr>\n",
              "      <th>...</th>\n",
              "      <td>...</td>\n",
              "      <td>...</td>\n",
              "      <td>...</td>\n",
              "      <td>...</td>\n",
              "      <td>...</td>\n",
              "      <td>...</td>\n",
              "      <td>...</td>\n",
              "      <td>...</td>\n",
              "      <td>...</td>\n",
              "      <td>...</td>\n",
              "      <td>...</td>\n",
              "      <td>...</td>\n",
              "      <td>...</td>\n",
              "      <td>...</td>\n",
              "      <td>...</td>\n",
              "      <td>...</td>\n",
              "      <td>...</td>\n",
              "    </tr>\n",
              "    <tr>\n",
              "      <th>31691</th>\n",
              "      <td>서울특별시 중랑구 신내동</td>\n",
              "      <td>801</td>\n",
              "      <td>801</td>\n",
              "      <td>0</td>\n",
              "      <td>영풍마드레빌</td>\n",
              "      <td>84.8485</td>\n",
              "      <td>201910</td>\n",
              "      <td>12</td>\n",
              "      <td>55500</td>\n",
              "      <td>6</td>\n",
              "      <td>2004</td>\n",
              "      <td>용마산로129가길 41</td>\n",
              "      <td>서울특별시</td>\n",
              "      <td>중랑구</td>\n",
              "      <td>신내동</td>\n",
              "      <td>2019</td>\n",
              "      <td>10</td>\n",
              "    </tr>\n",
              "    <tr>\n",
              "      <th>31692</th>\n",
              "      <td>서울특별시 중랑구 신내동</td>\n",
              "      <td>479</td>\n",
              "      <td>479</td>\n",
              "      <td>0</td>\n",
              "      <td>중앙하이츠</td>\n",
              "      <td>84.9700</td>\n",
              "      <td>201910</td>\n",
              "      <td>7</td>\n",
              "      <td>41000</td>\n",
              "      <td>1</td>\n",
              "      <td>1996</td>\n",
              "      <td>봉화산로56길 123</td>\n",
              "      <td>서울특별시</td>\n",
              "      <td>중랑구</td>\n",
              "      <td>신내동</td>\n",
              "      <td>2019</td>\n",
              "      <td>10</td>\n",
              "    </tr>\n",
              "    <tr>\n",
              "      <th>31693</th>\n",
              "      <td>서울특별시 중랑구 신내동</td>\n",
              "      <td>479</td>\n",
              "      <td>479</td>\n",
              "      <td>0</td>\n",
              "      <td>중앙하이츠</td>\n",
              "      <td>84.9700</td>\n",
              "      <td>201910</td>\n",
              "      <td>7</td>\n",
              "      <td>43000</td>\n",
              "      <td>5</td>\n",
              "      <td>1996</td>\n",
              "      <td>봉화산로56길 145-1</td>\n",
              "      <td>서울특별시</td>\n",
              "      <td>중랑구</td>\n",
              "      <td>신내동</td>\n",
              "      <td>2019</td>\n",
              "      <td>10</td>\n",
              "    </tr>\n",
              "    <tr>\n",
              "      <th>31694</th>\n",
              "      <td>서울특별시 중랑구 신내동</td>\n",
              "      <td>479</td>\n",
              "      <td>479</td>\n",
              "      <td>0</td>\n",
              "      <td>중앙하이츠</td>\n",
              "      <td>84.9700</td>\n",
              "      <td>201910</td>\n",
              "      <td>11</td>\n",
              "      <td>44300</td>\n",
              "      <td>9</td>\n",
              "      <td>1996</td>\n",
              "      <td>봉화산로56길 123</td>\n",
              "      <td>서울특별시</td>\n",
              "      <td>중랑구</td>\n",
              "      <td>신내동</td>\n",
              "      <td>2019</td>\n",
              "      <td>10</td>\n",
              "    </tr>\n",
              "    <tr>\n",
              "      <th>31695</th>\n",
              "      <td>서울특별시 중랑구 신내동</td>\n",
              "      <td>479</td>\n",
              "      <td>479</td>\n",
              "      <td>0</td>\n",
              "      <td>중앙하이츠</td>\n",
              "      <td>84.9700</td>\n",
              "      <td>201910</td>\n",
              "      <td>12</td>\n",
              "      <td>46700</td>\n",
              "      <td>10</td>\n",
              "      <td>1996</td>\n",
              "      <td>봉화산로56길 145-1</td>\n",
              "      <td>서울특별시</td>\n",
              "      <td>중랑구</td>\n",
              "      <td>신내동</td>\n",
              "      <td>2019</td>\n",
              "      <td>10</td>\n",
              "    </tr>\n",
              "  </tbody>\n",
              "</table>\n",
              "<p>1511 rows × 17 columns</p>\n",
              "</div>"
            ],
            "text/plain": [
              "                 시군구      번지    본번  부번       단지명       면적    계약년월  계약일  \\\n",
              "27027  서울특별시 강남구 논현동   80-13    80  13       프라임  97.8000  201910    1   \n",
              "27030  서울특별시 강남구 대치동  1014-3  1014   3      대치삼성  84.5800  201910   17   \n",
              "27033  서울특별시 강남구 대치동   988-4   988   4      대치효성  84.9100  201910    6   \n",
              "27037  서울특별시 강남구 대치동    1027  1027   0  래미안대치팰리스  84.9700  201910   14   \n",
              "27038  서울특별시 강남구 대치동    1027  1027   0  래미안대치팰리스  91.9300  201910   20   \n",
              "...              ...     ...   ...  ..       ...      ...     ...  ...   \n",
              "31691  서울특별시 중랑구 신내동     801   801   0    영풍마드레빌  84.8485  201910   12   \n",
              "31692  서울특별시 중랑구 신내동     479   479   0     중앙하이츠  84.9700  201910    7   \n",
              "31693  서울특별시 중랑구 신내동     479   479   0     중앙하이츠  84.9700  201910    7   \n",
              "31694  서울특별시 중랑구 신내동     479   479   0     중앙하이츠  84.9700  201910   11   \n",
              "31695  서울특별시 중랑구 신내동     479   479   0     중앙하이츠  84.9700  201910   12   \n",
              "\n",
              "           가격   층  건축년도            도로명 province county dong  year  month  \n",
              "27027   93000   4  2004     도산대로30길 56    서울특별시    강남구  논현동  2019     10  \n",
              "27030  190000   3  2000      도곡로78길 22    서울특별시    강남구  대치동  2019     10  \n",
              "27033  159000   5  1999      삼성로64길 12    서울특별시    강남구  대치동  2019     10  \n",
              "27037  277000  35  2015      삼성로51길 37    서울특별시    강남구  대치동  2019     10  \n",
              "27038  275000  23  2015      삼성로51길 35    서울특별시    강남구  대치동  2019     10  \n",
              "...       ...  ..   ...            ...      ...    ...  ...   ...    ...  \n",
              "31691   55500   6  2004   용마산로129가길 41    서울특별시    중랑구  신내동  2019     10  \n",
              "31692   41000   1  1996    봉화산로56길 123    서울특별시    중랑구  신내동  2019     10  \n",
              "31693   43000   5  1996  봉화산로56길 145-1    서울특별시    중랑구  신내동  2019     10  \n",
              "31694   44300   9  1996    봉화산로56길 123    서울특별시    중랑구  신내동  2019     10  \n",
              "31695   46700  10  1996  봉화산로56길 145-1    서울특별시    중랑구  신내동  2019     10  \n",
              "\n",
              "[1511 rows x 17 columns]"
            ]
          },
          "execution_count": 334,
          "metadata": {},
          "output_type": "execute_result"
        }
      ],
      "source": [
        "seoul_midsize=seoul_apt[(seoul_apt['면적']>= 84) & (seoul_apt['면적']<100)]\n",
        "seoul_midsize"
      ]
    },
    {
      "cell_type": "code",
      "execution_count": 341,
      "metadata": {},
      "outputs": [
        {
          "data": {
            "text/html": [
              "<div>\n",
              "<style scoped>\n",
              "    .dataframe tbody tr th:only-of-type {\n",
              "        vertical-align: middle;\n",
              "    }\n",
              "\n",
              "    .dataframe tbody tr th {\n",
              "        vertical-align: top;\n",
              "    }\n",
              "\n",
              "    .dataframe thead th {\n",
              "        text-align: right;\n",
              "    }\n",
              "</style>\n",
              "<table border=\"1\" class=\"dataframe\">\n",
              "  <thead>\n",
              "    <tr style=\"text-align: right;\">\n",
              "      <th></th>\n",
              "      <th>count</th>\n",
              "      <th>mean</th>\n",
              "      <th>min</th>\n",
              "      <th>max</th>\n",
              "    </tr>\n",
              "    <tr>\n",
              "      <th>county</th>\n",
              "      <th></th>\n",
              "      <th></th>\n",
              "      <th></th>\n",
              "      <th></th>\n",
              "    </tr>\n",
              "  </thead>\n",
              "  <tbody>\n",
              "    <tr>\n",
              "      <th>강남구</th>\n",
              "      <td>35</td>\n",
              "      <td>156277.142857</td>\n",
              "      <td>93000</td>\n",
              "      <td>277000</td>\n",
              "    </tr>\n",
              "    <tr>\n",
              "      <th>강동구</th>\n",
              "      <td>104</td>\n",
              "      <td>86512.692308</td>\n",
              "      <td>40000</td>\n",
              "      <td>175000</td>\n",
              "    </tr>\n",
              "    <tr>\n",
              "      <th>강북구</th>\n",
              "      <td>25</td>\n",
              "      <td>56340.000000</td>\n",
              "      <td>38000</td>\n",
              "      <td>87000</td>\n",
              "    </tr>\n",
              "    <tr>\n",
              "      <th>강서구</th>\n",
              "      <td>83</td>\n",
              "      <td>75020.481928</td>\n",
              "      <td>36900</td>\n",
              "      <td>126500</td>\n",
              "    </tr>\n",
              "    <tr>\n",
              "      <th>관악구</th>\n",
              "      <td>51</td>\n",
              "      <td>62277.450980</td>\n",
              "      <td>40750</td>\n",
              "      <td>80500</td>\n",
              "    </tr>\n",
              "    <tr>\n",
              "      <th>광진구</th>\n",
              "      <td>54</td>\n",
              "      <td>99011.111111</td>\n",
              "      <td>48000</td>\n",
              "      <td>130000</td>\n",
              "    </tr>\n",
              "    <tr>\n",
              "      <th>구로구</th>\n",
              "      <td>106</td>\n",
              "      <td>62302.358491</td>\n",
              "      <td>35300</td>\n",
              "      <td>124800</td>\n",
              "    </tr>\n",
              "    <tr>\n",
              "      <th>금천구</th>\n",
              "      <td>41</td>\n",
              "      <td>55573.170732</td>\n",
              "      <td>34300</td>\n",
              "      <td>93000</td>\n",
              "    </tr>\n",
              "    <tr>\n",
              "      <th>노원구</th>\n",
              "      <td>72</td>\n",
              "      <td>56870.138889</td>\n",
              "      <td>28000</td>\n",
              "      <td>90000</td>\n",
              "    </tr>\n",
              "    <tr>\n",
              "      <th>도봉구</th>\n",
              "      <td>67</td>\n",
              "      <td>45629.850746</td>\n",
              "      <td>30000</td>\n",
              "      <td>74300</td>\n",
              "    </tr>\n",
              "    <tr>\n",
              "      <th>동대문구</th>\n",
              "      <td>69</td>\n",
              "      <td>67511.449275</td>\n",
              "      <td>35500</td>\n",
              "      <td>118000</td>\n",
              "    </tr>\n",
              "    <tr>\n",
              "      <th>동작구</th>\n",
              "      <td>77</td>\n",
              "      <td>90848.051948</td>\n",
              "      <td>44000</td>\n",
              "      <td>130000</td>\n",
              "    </tr>\n",
              "    <tr>\n",
              "      <th>마포구</th>\n",
              "      <td>53</td>\n",
              "      <td>96716.981132</td>\n",
              "      <td>55000</td>\n",
              "      <td>154000</td>\n",
              "    </tr>\n",
              "    <tr>\n",
              "      <th>서대문구</th>\n",
              "      <td>59</td>\n",
              "      <td>76928.644068</td>\n",
              "      <td>28500</td>\n",
              "      <td>142000</td>\n",
              "    </tr>\n",
              "    <tr>\n",
              "      <th>서초구</th>\n",
              "      <td>40</td>\n",
              "      <td>158377.500000</td>\n",
              "      <td>61800</td>\n",
              "      <td>340000</td>\n",
              "    </tr>\n",
              "    <tr>\n",
              "      <th>성동구</th>\n",
              "      <td>66</td>\n",
              "      <td>103028.030303</td>\n",
              "      <td>64900</td>\n",
              "      <td>150000</td>\n",
              "    </tr>\n",
              "    <tr>\n",
              "      <th>성북구</th>\n",
              "      <td>118</td>\n",
              "      <td>62274.576271</td>\n",
              "      <td>35200</td>\n",
              "      <td>95500</td>\n",
              "    </tr>\n",
              "    <tr>\n",
              "      <th>송파구</th>\n",
              "      <td>77</td>\n",
              "      <td>100422.077922</td>\n",
              "      <td>48500</td>\n",
              "      <td>195000</td>\n",
              "    </tr>\n",
              "    <tr>\n",
              "      <th>양천구</th>\n",
              "      <td>68</td>\n",
              "      <td>76108.088235</td>\n",
              "      <td>27500</td>\n",
              "      <td>160000</td>\n",
              "    </tr>\n",
              "    <tr>\n",
              "      <th>영등포구</th>\n",
              "      <td>55</td>\n",
              "      <td>82748.181818</td>\n",
              "      <td>50000</td>\n",
              "      <td>155000</td>\n",
              "    </tr>\n",
              "    <tr>\n",
              "      <th>용산구</th>\n",
              "      <td>20</td>\n",
              "      <td>122880.000000</td>\n",
              "      <td>66000</td>\n",
              "      <td>183000</td>\n",
              "    </tr>\n",
              "    <tr>\n",
              "      <th>은평구</th>\n",
              "      <td>72</td>\n",
              "      <td>63630.555556</td>\n",
              "      <td>29500</td>\n",
              "      <td>90000</td>\n",
              "    </tr>\n",
              "    <tr>\n",
              "      <th>종로구</th>\n",
              "      <td>21</td>\n",
              "      <td>94328.571429</td>\n",
              "      <td>59700</td>\n",
              "      <td>159000</td>\n",
              "    </tr>\n",
              "    <tr>\n",
              "      <th>중구</th>\n",
              "      <td>21</td>\n",
              "      <td>88495.238095</td>\n",
              "      <td>72000</td>\n",
              "      <td>124500</td>\n",
              "    </tr>\n",
              "    <tr>\n",
              "      <th>중랑구</th>\n",
              "      <td>57</td>\n",
              "      <td>54343.859649</td>\n",
              "      <td>32300</td>\n",
              "      <td>74300</td>\n",
              "    </tr>\n",
              "  </tbody>\n",
              "</table>\n",
              "</div>"
            ],
            "text/plain": [
              "        count           mean    min     max\n",
              "county                                     \n",
              "강남구        35  156277.142857  93000  277000\n",
              "강동구       104   86512.692308  40000  175000\n",
              "강북구        25   56340.000000  38000   87000\n",
              "강서구        83   75020.481928  36900  126500\n",
              "관악구        51   62277.450980  40750   80500\n",
              "광진구        54   99011.111111  48000  130000\n",
              "구로구       106   62302.358491  35300  124800\n",
              "금천구        41   55573.170732  34300   93000\n",
              "노원구        72   56870.138889  28000   90000\n",
              "도봉구        67   45629.850746  30000   74300\n",
              "동대문구       69   67511.449275  35500  118000\n",
              "동작구        77   90848.051948  44000  130000\n",
              "마포구        53   96716.981132  55000  154000\n",
              "서대문구       59   76928.644068  28500  142000\n",
              "서초구        40  158377.500000  61800  340000\n",
              "성동구        66  103028.030303  64900  150000\n",
              "성북구       118   62274.576271  35200   95500\n",
              "송파구        77  100422.077922  48500  195000\n",
              "양천구        68   76108.088235  27500  160000\n",
              "영등포구       55   82748.181818  50000  155000\n",
              "용산구        20  122880.000000  66000  183000\n",
              "은평구        72   63630.555556  29500   90000\n",
              "종로구        21   94328.571429  59700  159000\n",
              "중구         21   88495.238095  72000  124500\n",
              "중랑구        57   54343.859649  32300   74300"
            ]
          },
          "execution_count": 341,
          "metadata": {},
          "output_type": "execute_result"
        }
      ],
      "source": [
        "# 서울시 중형 아파트 구별\n",
        "result=seoul_midsize.groupby(by='county')['가격'].agg(['count','mean','min','max'])\n",
        "result"
      ]
    },
    {
      "cell_type": "code",
      "execution_count": 344,
      "metadata": {},
      "outputs": [],
      "source": [
        "# 매매 건수 상위 10개 구\n",
        "top10=result.sort_values(by='count', ascending=False).head(n=10)"
      ]
    },
    {
      "cell_type": "code",
      "execution_count": 345,
      "metadata": {},
      "outputs": [
        {
          "data": {
            "text/plain": [
              "<AxesSubplot:xlabel='count', ylabel='county'>"
            ]
          },
          "execution_count": 345,
          "metadata": {},
          "output_type": "execute_result"
        },
        {
          "data": {
            "image/png": "[encoded data removed]",
            "text/plain": [
              "<Figure size 432x288 with 1 Axes>"
            ]
          },
          "metadata": {
            "needs_background": "light"
          },
          "output_type": "display_data"
        }
      ],
      "source": [
        "sns.barplot(data=top10, x='count', y=top10.index)"
      ]
    },
    {
      "cell_type": "code",
      "execution_count": 350,
      "metadata": {},
      "outputs": [
        {
          "data": {
            "text/html": [
              "<div>\n",
              "<style scoped>\n",
              "    .dataframe tbody tr th:only-of-type {\n",
              "        vertical-align: middle;\n",
              "    }\n",
              "\n",
              "    .dataframe tbody tr th {\n",
              "        vertical-align: top;\n",
              "    }\n",
              "\n",
              "    .dataframe thead th {\n",
              "        text-align: right;\n",
              "    }\n",
              "</style>\n",
              "<table border=\"1\" class=\"dataframe\">\n",
              "  <thead>\n",
              "    <tr style=\"text-align: right;\">\n",
              "      <th></th>\n",
              "      <th>count</th>\n",
              "      <th>mean</th>\n",
              "      <th>min</th>\n",
              "      <th>max</th>\n",
              "    </tr>\n",
              "    <tr>\n",
              "      <th>county</th>\n",
              "      <th></th>\n",
              "      <th></th>\n",
              "      <th></th>\n",
              "      <th></th>\n",
              "    </tr>\n",
              "  </thead>\n",
              "  <tbody>\n",
              "    <tr>\n",
              "      <th>서초구</th>\n",
              "      <td>40</td>\n",
              "      <td>158377.500000</td>\n",
              "      <td>61800</td>\n",
              "      <td>340000</td>\n",
              "    </tr>\n",
              "    <tr>\n",
              "      <th>강남구</th>\n",
              "      <td>35</td>\n",
              "      <td>156277.142857</td>\n",
              "      <td>93000</td>\n",
              "      <td>277000</td>\n",
              "    </tr>\n",
              "    <tr>\n",
              "      <th>용산구</th>\n",
              "      <td>20</td>\n",
              "      <td>122880.000000</td>\n",
              "      <td>66000</td>\n",
              "      <td>183000</td>\n",
              "    </tr>\n",
              "    <tr>\n",
              "      <th>성동구</th>\n",
              "      <td>66</td>\n",
              "      <td>103028.030303</td>\n",
              "      <td>64900</td>\n",
              "      <td>150000</td>\n",
              "    </tr>\n",
              "    <tr>\n",
              "      <th>송파구</th>\n",
              "      <td>77</td>\n",
              "      <td>100422.077922</td>\n",
              "      <td>48500</td>\n",
              "      <td>195000</td>\n",
              "    </tr>\n",
              "    <tr>\n",
              "      <th>광진구</th>\n",
              "      <td>54</td>\n",
              "      <td>99011.111111</td>\n",
              "      <td>48000</td>\n",
              "      <td>130000</td>\n",
              "    </tr>\n",
              "    <tr>\n",
              "      <th>마포구</th>\n",
              "      <td>53</td>\n",
              "      <td>96716.981132</td>\n",
              "      <td>55000</td>\n",
              "      <td>154000</td>\n",
              "    </tr>\n",
              "    <tr>\n",
              "      <th>종로구</th>\n",
              "      <td>21</td>\n",
              "      <td>94328.571429</td>\n",
              "      <td>59700</td>\n",
              "      <td>159000</td>\n",
              "    </tr>\n",
              "    <tr>\n",
              "      <th>동작구</th>\n",
              "      <td>77</td>\n",
              "      <td>90848.051948</td>\n",
              "      <td>44000</td>\n",
              "      <td>130000</td>\n",
              "    </tr>\n",
              "    <tr>\n",
              "      <th>중구</th>\n",
              "      <td>21</td>\n",
              "      <td>88495.238095</td>\n",
              "      <td>72000</td>\n",
              "      <td>124500</td>\n",
              "    </tr>\n",
              "  </tbody>\n",
              "</table>\n",
              "</div>"
            ],
            "text/plain": [
              "        count           mean    min     max\n",
              "county                                     \n",
              "서초구        40  158377.500000  61800  340000\n",
              "강남구        35  156277.142857  93000  277000\n",
              "용산구        20  122880.000000  66000  183000\n",
              "성동구        66  103028.030303  64900  150000\n",
              "송파구        77  100422.077922  48500  195000\n",
              "광진구        54   99011.111111  48000  130000\n",
              "마포구        53   96716.981132  55000  154000\n",
              "종로구        21   94328.571429  59700  159000\n",
              "동작구        77   90848.051948  44000  130000\n",
              "중구         21   88495.238095  72000  124500"
            ]
          },
          "execution_count": 350,
          "metadata": {},
          "output_type": "execute_result"
        }
      ],
      "source": [
        "# 서울시 중형 아파트 구별 매매 가격 평균\n",
        "top10=result.sort_values(by='mean', ascending=False).head(n=10)\n",
        "top10"
      ]
    },
    {
      "cell_type": "code",
      "execution_count": 351,
      "metadata": {},
      "outputs": [
        {
          "data": {
            "text/plain": [
              "<AxesSubplot:xlabel='mean', ylabel='county'>"
            ]
          },
          "execution_count": 351,
          "metadata": {},
          "output_type": "execute_result"
        },
        {
          "data": {
            "image/png": "[encoded data removed]",
            "text/plain": [
              "<Figure size 432x288 with 1 Axes>"
            ]
          },
          "metadata": {
            "needs_background": "light"
          },
          "output_type": "display_data"
        }
      ],
      "source": [
        "sns.barplot(data=top10, x='mean', y=top10.index)"
      ]
    }
  ],
  "metadata": {
    "colab": {
      "authorship_tag": "ABX9TyNbYJYDYoe162o6+WBb8bQv",
      "collapsed_sections": [],
      "include_colab_link": true,
      "name": "py26_apt.ipynb",
      "provenance": []
    },
    "kernelspec": {
      "display_name": "Python 3",
      "name": "python3"
    },
    "language_info": {
      "name": "python",
      "version": "3.9.7"
    }
  },
  "nbformat": 4,
  "nbformat_minor": 0
}
