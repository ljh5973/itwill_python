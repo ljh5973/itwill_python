{
  "cells": [
    {
      "cell_type": "markdown",
      "metadata": {
        "colab_type": "text",
        "id": "view-in-github"
      },
      "source": [
        "<a href=\"https://colab.research.google.com/github/JakeOh/202110_itw_lab_python/blob/main/ml05_regression.ipynb\" target=\"_parent\"><img src=\"https://colab.research.google.com/assets/colab-badge.svg\" alt=\"Open In Colab\"/></a>"
      ]
    },
    {
      "cell_type": "markdown",
      "metadata": {
        "id": "FSuAjo01Rfiz"
      },
      "source": [
        "Machine Learning(기계 학습)\n",
        "\n",
        "* __지도 학습(supervised learning)__: 레이블이 있는 데이터로 모델을 훈련시키는 것.\n",
        "    * __분류(classification)__: 클래스를 분류.\n",
        "    * __회귀(regression)__: 숫자 값을 예측.\n",
        "* __비지도 학습(unsupervised learning)__: 레이블이 없는 데이터로 모델을 훈련시키는 것.\n",
        "* __강화 학습(reinforcement learning)__: 보상과 벌칙을 통해서 학습(훈련)."
      ]
    },
    {
      "cell_type": "markdown",
      "metadata": {
        "id": "s9fxT74fUzXb"
      },
      "source": [
        "# 문제 정의 \n",
        "\n",
        "fish 데이터 셋에서 농어(Perch)의 무게(Weight)를 예측.\n",
        "* 농어의 길이(Length)로만 무게(Weight)를 예측.\n",
        "* 농어의 여러가지 특성들(Length, Diagonal, ...)로 무게(Weight)를 예측"
      ]
    },
    {
      "cell_type": "markdown",
      "metadata": {
        "id": "dMS5vXaBWDbb"
      },
      "source": [
        "# imports"
      ]
    },
    {
      "cell_type": "code",
      "execution_count": 367,
      "metadata": {
        "id": "Ltx55_ItRYls"
      },
      "outputs": [],
      "source": [
        "import numpy as np\n",
        "import pandas as pd\n",
        "import matplotlib.pyplot as plt\n",
        "import seaborn as sns\n",
        "\n",
        "from sklearn.model_selection import train_test_split\n",
        "from sklearn.neighbors import KNeighborsRegressor  # KNN 알고리즘을 사용한 예측기\n",
        "from sklearn.linear_model import LinearRegression  # 선형회귀 알고리즘을 사용한 예측기\n",
        "from sklearn.metrics import mean_squared_error, mean_absolute_error, r2_score  # 회귀 문제에서의 평가 지표\n",
        "from sklearn.preprocessing import PolynomialFeatures, StandardScaler    # 전처리 변환기 클래스\n",
        "from sklearn.pipeline import Pipeline       # 변환기와 추정기(예측기)를 연결해 주는 클래스"
      ]
    },
    {
      "cell_type": "markdown",
      "metadata": {
        "id": "-uf_DzgZYc0r"
      },
      "source": [
        "# 데이터 준비"
      ]
    },
    {
      "cell_type": "code",
      "execution_count": 301,
      "metadata": {
        "id": "C0fQ1qn7YS2E"
      },
      "outputs": [],
      "source": [
        "fish_csv = 'https://github.com/JakeOh/202110_itw_lab_python/raw/main/fish.csv'"
      ]
    },
    {
      "cell_type": "code",
      "execution_count": 302,
      "metadata": {
        "id": "AGOi3kr9Yu5i"
      },
      "outputs": [],
      "source": [
        "fish = pd.read_csv(fish_csv)"
      ]
    },
    {
      "cell_type": "code",
      "execution_count": 303,
      "metadata": {
        "colab": {
          "base_uri": "https://localhost:8080/"
        },
        "id": "u8OHa5wAY2eS",
        "outputId": "3a8ef6d3-2cf4-4a5d-dfe7-fcc6a2618dbe"
      },
      "outputs": [
        {
          "name": "stdout",
          "output_type": "stream",
          "text": [
            "<class 'pandas.core.frame.DataFrame'>\n",
            "RangeIndex: 159 entries, 0 to 158\n",
            "Data columns (total 6 columns):\n",
            " #   Column    Non-Null Count  Dtype  \n",
            "---  ------    --------------  -----  \n",
            " 0   Species   159 non-null    object \n",
            " 1   Weight    159 non-null    float64\n",
            " 2   Length    159 non-null    float64\n",
            " 3   Diagonal  159 non-null    float64\n",
            " 4   Height    159 non-null    float64\n",
            " 5   Width     159 non-null    float64\n",
            "dtypes: float64(5), object(1)\n",
            "memory usage: 7.6+ KB\n"
          ]
        }
      ],
      "source": [
        "fish.info()"
      ]
    },
    {
      "cell_type": "code",
      "execution_count": 304,
      "metadata": {
        "colab": {
          "base_uri": "https://localhost:8080/",
          "height": 206
        },
        "id": "mukxlscAY4Nh",
        "outputId": "297a9822-1b18-40b2-c5ab-551651219a65"
      },
      "outputs": [
        {
          "data": {
            "text/html": [
              "<div>\n",
              "<style scoped>\n",
              "    .dataframe tbody tr th:only-of-type {\n",
              "        vertical-align: middle;\n",
              "    }\n",
              "\n",
              "    .dataframe tbody tr th {\n",
              "        vertical-align: top;\n",
              "    }\n",
              "\n",
              "    .dataframe thead th {\n",
              "        text-align: right;\n",
              "    }\n",
              "</style>\n",
              "<table border=\"1\" class=\"dataframe\">\n",
              "  <thead>\n",
              "    <tr style=\"text-align: right;\">\n",
              "      <th></th>\n",
              "      <th>Species</th>\n",
              "      <th>Weight</th>\n",
              "      <th>Length</th>\n",
              "      <th>Diagonal</th>\n",
              "      <th>Height</th>\n",
              "      <th>Width</th>\n",
              "    </tr>\n",
              "  </thead>\n",
              "  <tbody>\n",
              "    <tr>\n",
              "      <th>0</th>\n",
              "      <td>Bream</td>\n",
              "      <td>242.0</td>\n",
              "      <td>25.4</td>\n",
              "      <td>30.0</td>\n",
              "      <td>11.5200</td>\n",
              "      <td>4.0200</td>\n",
              "    </tr>\n",
              "    <tr>\n",
              "      <th>1</th>\n",
              "      <td>Bream</td>\n",
              "      <td>290.0</td>\n",
              "      <td>26.3</td>\n",
              "      <td>31.2</td>\n",
              "      <td>12.4800</td>\n",
              "      <td>4.3056</td>\n",
              "    </tr>\n",
              "    <tr>\n",
              "      <th>2</th>\n",
              "      <td>Bream</td>\n",
              "      <td>340.0</td>\n",
              "      <td>26.5</td>\n",
              "      <td>31.1</td>\n",
              "      <td>12.3778</td>\n",
              "      <td>4.6961</td>\n",
              "    </tr>\n",
              "    <tr>\n",
              "      <th>3</th>\n",
              "      <td>Bream</td>\n",
              "      <td>363.0</td>\n",
              "      <td>29.0</td>\n",
              "      <td>33.5</td>\n",
              "      <td>12.7300</td>\n",
              "      <td>4.4555</td>\n",
              "    </tr>\n",
              "    <tr>\n",
              "      <th>4</th>\n",
              "      <td>Bream</td>\n",
              "      <td>430.0</td>\n",
              "      <td>29.0</td>\n",
              "      <td>34.0</td>\n",
              "      <td>12.4440</td>\n",
              "      <td>5.1340</td>\n",
              "    </tr>\n",
              "  </tbody>\n",
              "</table>\n",
              "</div>"
            ],
            "text/plain": [
              "  Species  Weight  Length  Diagonal   Height   Width\n",
              "0   Bream   242.0    25.4      30.0  11.5200  4.0200\n",
              "1   Bream   290.0    26.3      31.2  12.4800  4.3056\n",
              "2   Bream   340.0    26.5      31.1  12.3778  4.6961\n",
              "3   Bream   363.0    29.0      33.5  12.7300  4.4555\n",
              "4   Bream   430.0    29.0      34.0  12.4440  5.1340"
            ]
          },
          "execution_count": 304,
          "metadata": {},
          "output_type": "execute_result"
        }
      ],
      "source": [
        "fish.head()"
      ]
    },
    {
      "cell_type": "code",
      "execution_count": 305,
      "metadata": {},
      "outputs": [
        {
          "data": {
            "text/html": [
              "<div>\n",
              "<style scoped>\n",
              "    .dataframe tbody tr th:only-of-type {\n",
              "        vertical-align: middle;\n",
              "    }\n",
              "\n",
              "    .dataframe tbody tr th {\n",
              "        vertical-align: top;\n",
              "    }\n",
              "\n",
              "    .dataframe thead th {\n",
              "        text-align: right;\n",
              "    }\n",
              "</style>\n",
              "<table border=\"1\" class=\"dataframe\">\n",
              "  <thead>\n",
              "    <tr style=\"text-align: right;\">\n",
              "      <th></th>\n",
              "      <th>Species</th>\n",
              "      <th>Weight</th>\n",
              "      <th>Length</th>\n",
              "      <th>Diagonal</th>\n",
              "      <th>Height</th>\n",
              "      <th>Width</th>\n",
              "    </tr>\n",
              "  </thead>\n",
              "  <tbody>\n",
              "    <tr>\n",
              "      <th>72</th>\n",
              "      <td>Perch</td>\n",
              "      <td>5.9</td>\n",
              "      <td>8.4</td>\n",
              "      <td>8.8</td>\n",
              "      <td>2.1120</td>\n",
              "      <td>1.4080</td>\n",
              "    </tr>\n",
              "    <tr>\n",
              "      <th>73</th>\n",
              "      <td>Perch</td>\n",
              "      <td>32.0</td>\n",
              "      <td>13.7</td>\n",
              "      <td>14.7</td>\n",
              "      <td>3.5280</td>\n",
              "      <td>1.9992</td>\n",
              "    </tr>\n",
              "    <tr>\n",
              "      <th>74</th>\n",
              "      <td>Perch</td>\n",
              "      <td>40.0</td>\n",
              "      <td>15.0</td>\n",
              "      <td>16.0</td>\n",
              "      <td>3.8240</td>\n",
              "      <td>2.4320</td>\n",
              "    </tr>\n",
              "    <tr>\n",
              "      <th>75</th>\n",
              "      <td>Perch</td>\n",
              "      <td>51.5</td>\n",
              "      <td>16.2</td>\n",
              "      <td>17.2</td>\n",
              "      <td>4.5924</td>\n",
              "      <td>2.6316</td>\n",
              "    </tr>\n",
              "    <tr>\n",
              "      <th>76</th>\n",
              "      <td>Perch</td>\n",
              "      <td>70.0</td>\n",
              "      <td>17.4</td>\n",
              "      <td>18.5</td>\n",
              "      <td>4.5880</td>\n",
              "      <td>2.9415</td>\n",
              "    </tr>\n",
              "    <tr>\n",
              "      <th>77</th>\n",
              "      <td>Perch</td>\n",
              "      <td>100.0</td>\n",
              "      <td>18.0</td>\n",
              "      <td>19.2</td>\n",
              "      <td>5.2224</td>\n",
              "      <td>3.3216</td>\n",
              "    </tr>\n",
              "    <tr>\n",
              "      <th>78</th>\n",
              "      <td>Perch</td>\n",
              "      <td>78.0</td>\n",
              "      <td>18.7</td>\n",
              "      <td>19.4</td>\n",
              "      <td>5.1992</td>\n",
              "      <td>3.1234</td>\n",
              "    </tr>\n",
              "    <tr>\n",
              "      <th>79</th>\n",
              "      <td>Perch</td>\n",
              "      <td>80.0</td>\n",
              "      <td>19.0</td>\n",
              "      <td>20.2</td>\n",
              "      <td>5.6358</td>\n",
              "      <td>3.0502</td>\n",
              "    </tr>\n",
              "    <tr>\n",
              "      <th>80</th>\n",
              "      <td>Perch</td>\n",
              "      <td>85.0</td>\n",
              "      <td>19.6</td>\n",
              "      <td>20.8</td>\n",
              "      <td>5.1376</td>\n",
              "      <td>3.0368</td>\n",
              "    </tr>\n",
              "    <tr>\n",
              "      <th>81</th>\n",
              "      <td>Perch</td>\n",
              "      <td>85.0</td>\n",
              "      <td>20.0</td>\n",
              "      <td>21.0</td>\n",
              "      <td>5.0820</td>\n",
              "      <td>2.7720</td>\n",
              "    </tr>\n",
              "    <tr>\n",
              "      <th>82</th>\n",
              "      <td>Perch</td>\n",
              "      <td>110.0</td>\n",
              "      <td>21.0</td>\n",
              "      <td>22.5</td>\n",
              "      <td>5.6925</td>\n",
              "      <td>3.5550</td>\n",
              "    </tr>\n",
              "    <tr>\n",
              "      <th>83</th>\n",
              "      <td>Perch</td>\n",
              "      <td>115.0</td>\n",
              "      <td>21.0</td>\n",
              "      <td>22.5</td>\n",
              "      <td>5.9175</td>\n",
              "      <td>3.3075</td>\n",
              "    </tr>\n",
              "    <tr>\n",
              "      <th>84</th>\n",
              "      <td>Perch</td>\n",
              "      <td>125.0</td>\n",
              "      <td>21.0</td>\n",
              "      <td>22.5</td>\n",
              "      <td>5.6925</td>\n",
              "      <td>3.6675</td>\n",
              "    </tr>\n",
              "    <tr>\n",
              "      <th>85</th>\n",
              "      <td>Perch</td>\n",
              "      <td>130.0</td>\n",
              "      <td>21.3</td>\n",
              "      <td>22.8</td>\n",
              "      <td>6.3840</td>\n",
              "      <td>3.5340</td>\n",
              "    </tr>\n",
              "    <tr>\n",
              "      <th>86</th>\n",
              "      <td>Perch</td>\n",
              "      <td>120.0</td>\n",
              "      <td>22.0</td>\n",
              "      <td>23.5</td>\n",
              "      <td>6.1100</td>\n",
              "      <td>3.4075</td>\n",
              "    </tr>\n",
              "    <tr>\n",
              "      <th>87</th>\n",
              "      <td>Perch</td>\n",
              "      <td>120.0</td>\n",
              "      <td>22.0</td>\n",
              "      <td>23.5</td>\n",
              "      <td>5.6400</td>\n",
              "      <td>3.5250</td>\n",
              "    </tr>\n",
              "    <tr>\n",
              "      <th>88</th>\n",
              "      <td>Perch</td>\n",
              "      <td>130.0</td>\n",
              "      <td>22.0</td>\n",
              "      <td>23.5</td>\n",
              "      <td>6.1100</td>\n",
              "      <td>3.5250</td>\n",
              "    </tr>\n",
              "    <tr>\n",
              "      <th>89</th>\n",
              "      <td>Perch</td>\n",
              "      <td>135.0</td>\n",
              "      <td>22.0</td>\n",
              "      <td>23.5</td>\n",
              "      <td>5.8750</td>\n",
              "      <td>3.5250</td>\n",
              "    </tr>\n",
              "    <tr>\n",
              "      <th>90</th>\n",
              "      <td>Perch</td>\n",
              "      <td>110.0</td>\n",
              "      <td>22.0</td>\n",
              "      <td>23.5</td>\n",
              "      <td>5.5225</td>\n",
              "      <td>3.9950</td>\n",
              "    </tr>\n",
              "    <tr>\n",
              "      <th>91</th>\n",
              "      <td>Perch</td>\n",
              "      <td>130.0</td>\n",
              "      <td>22.5</td>\n",
              "      <td>24.0</td>\n",
              "      <td>5.8560</td>\n",
              "      <td>3.6240</td>\n",
              "    </tr>\n",
              "    <tr>\n",
              "      <th>92</th>\n",
              "      <td>Perch</td>\n",
              "      <td>150.0</td>\n",
              "      <td>22.5</td>\n",
              "      <td>24.0</td>\n",
              "      <td>6.7920</td>\n",
              "      <td>3.6240</td>\n",
              "    </tr>\n",
              "    <tr>\n",
              "      <th>93</th>\n",
              "      <td>Perch</td>\n",
              "      <td>145.0</td>\n",
              "      <td>22.7</td>\n",
              "      <td>24.2</td>\n",
              "      <td>5.9532</td>\n",
              "      <td>3.6300</td>\n",
              "    </tr>\n",
              "    <tr>\n",
              "      <th>94</th>\n",
              "      <td>Perch</td>\n",
              "      <td>150.0</td>\n",
              "      <td>23.0</td>\n",
              "      <td>24.5</td>\n",
              "      <td>5.2185</td>\n",
              "      <td>3.6260</td>\n",
              "    </tr>\n",
              "    <tr>\n",
              "      <th>95</th>\n",
              "      <td>Perch</td>\n",
              "      <td>170.0</td>\n",
              "      <td>23.5</td>\n",
              "      <td>25.0</td>\n",
              "      <td>6.2750</td>\n",
              "      <td>3.7250</td>\n",
              "    </tr>\n",
              "    <tr>\n",
              "      <th>96</th>\n",
              "      <td>Perch</td>\n",
              "      <td>225.0</td>\n",
              "      <td>24.0</td>\n",
              "      <td>25.5</td>\n",
              "      <td>7.2930</td>\n",
              "      <td>3.7230</td>\n",
              "    </tr>\n",
              "    <tr>\n",
              "      <th>97</th>\n",
              "      <td>Perch</td>\n",
              "      <td>145.0</td>\n",
              "      <td>24.0</td>\n",
              "      <td>25.5</td>\n",
              "      <td>6.3750</td>\n",
              "      <td>3.8250</td>\n",
              "    </tr>\n",
              "    <tr>\n",
              "      <th>98</th>\n",
              "      <td>Perch</td>\n",
              "      <td>188.0</td>\n",
              "      <td>24.6</td>\n",
              "      <td>26.2</td>\n",
              "      <td>6.7334</td>\n",
              "      <td>4.1658</td>\n",
              "    </tr>\n",
              "    <tr>\n",
              "      <th>99</th>\n",
              "      <td>Perch</td>\n",
              "      <td>180.0</td>\n",
              "      <td>25.0</td>\n",
              "      <td>26.5</td>\n",
              "      <td>6.4395</td>\n",
              "      <td>3.6835</td>\n",
              "    </tr>\n",
              "    <tr>\n",
              "      <th>100</th>\n",
              "      <td>Perch</td>\n",
              "      <td>197.0</td>\n",
              "      <td>25.6</td>\n",
              "      <td>27.0</td>\n",
              "      <td>6.5610</td>\n",
              "      <td>4.2390</td>\n",
              "    </tr>\n",
              "    <tr>\n",
              "      <th>101</th>\n",
              "      <td>Perch</td>\n",
              "      <td>218.0</td>\n",
              "      <td>26.5</td>\n",
              "      <td>28.0</td>\n",
              "      <td>7.1680</td>\n",
              "      <td>4.1440</td>\n",
              "    </tr>\n",
              "    <tr>\n",
              "      <th>102</th>\n",
              "      <td>Perch</td>\n",
              "      <td>300.0</td>\n",
              "      <td>27.3</td>\n",
              "      <td>28.7</td>\n",
              "      <td>8.3230</td>\n",
              "      <td>5.1373</td>\n",
              "    </tr>\n",
              "    <tr>\n",
              "      <th>103</th>\n",
              "      <td>Perch</td>\n",
              "      <td>260.0</td>\n",
              "      <td>27.5</td>\n",
              "      <td>28.9</td>\n",
              "      <td>7.1672</td>\n",
              "      <td>4.3350</td>\n",
              "    </tr>\n",
              "    <tr>\n",
              "      <th>104</th>\n",
              "      <td>Perch</td>\n",
              "      <td>265.0</td>\n",
              "      <td>27.5</td>\n",
              "      <td>28.9</td>\n",
              "      <td>7.0516</td>\n",
              "      <td>4.3350</td>\n",
              "    </tr>\n",
              "    <tr>\n",
              "      <th>105</th>\n",
              "      <td>Perch</td>\n",
              "      <td>250.0</td>\n",
              "      <td>27.5</td>\n",
              "      <td>28.9</td>\n",
              "      <td>7.2828</td>\n",
              "      <td>4.5662</td>\n",
              "    </tr>\n",
              "    <tr>\n",
              "      <th>106</th>\n",
              "      <td>Perch</td>\n",
              "      <td>250.0</td>\n",
              "      <td>28.0</td>\n",
              "      <td>29.4</td>\n",
              "      <td>7.8204</td>\n",
              "      <td>4.2042</td>\n",
              "    </tr>\n",
              "    <tr>\n",
              "      <th>107</th>\n",
              "      <td>Perch</td>\n",
              "      <td>300.0</td>\n",
              "      <td>28.7</td>\n",
              "      <td>30.1</td>\n",
              "      <td>7.5852</td>\n",
              "      <td>4.6354</td>\n",
              "    </tr>\n",
              "    <tr>\n",
              "      <th>108</th>\n",
              "      <td>Perch</td>\n",
              "      <td>320.0</td>\n",
              "      <td>30.0</td>\n",
              "      <td>31.6</td>\n",
              "      <td>7.6156</td>\n",
              "      <td>4.7716</td>\n",
              "    </tr>\n",
              "    <tr>\n",
              "      <th>109</th>\n",
              "      <td>Perch</td>\n",
              "      <td>514.0</td>\n",
              "      <td>32.8</td>\n",
              "      <td>34.0</td>\n",
              "      <td>10.0300</td>\n",
              "      <td>6.0180</td>\n",
              "    </tr>\n",
              "    <tr>\n",
              "      <th>110</th>\n",
              "      <td>Perch</td>\n",
              "      <td>556.0</td>\n",
              "      <td>34.5</td>\n",
              "      <td>36.5</td>\n",
              "      <td>10.2565</td>\n",
              "      <td>6.3875</td>\n",
              "    </tr>\n",
              "    <tr>\n",
              "      <th>111</th>\n",
              "      <td>Perch</td>\n",
              "      <td>840.0</td>\n",
              "      <td>35.0</td>\n",
              "      <td>37.3</td>\n",
              "      <td>11.4884</td>\n",
              "      <td>7.7957</td>\n",
              "    </tr>\n",
              "    <tr>\n",
              "      <th>112</th>\n",
              "      <td>Perch</td>\n",
              "      <td>685.0</td>\n",
              "      <td>36.5</td>\n",
              "      <td>39.0</td>\n",
              "      <td>10.8810</td>\n",
              "      <td>6.8640</td>\n",
              "    </tr>\n",
              "    <tr>\n",
              "      <th>113</th>\n",
              "      <td>Perch</td>\n",
              "      <td>700.0</td>\n",
              "      <td>36.0</td>\n",
              "      <td>38.3</td>\n",
              "      <td>10.6091</td>\n",
              "      <td>6.7408</td>\n",
              "    </tr>\n",
              "    <tr>\n",
              "      <th>114</th>\n",
              "      <td>Perch</td>\n",
              "      <td>700.0</td>\n",
              "      <td>37.0</td>\n",
              "      <td>39.4</td>\n",
              "      <td>10.8350</td>\n",
              "      <td>6.2646</td>\n",
              "    </tr>\n",
              "    <tr>\n",
              "      <th>115</th>\n",
              "      <td>Perch</td>\n",
              "      <td>690.0</td>\n",
              "      <td>37.0</td>\n",
              "      <td>39.3</td>\n",
              "      <td>10.5717</td>\n",
              "      <td>6.3666</td>\n",
              "    </tr>\n",
              "    <tr>\n",
              "      <th>116</th>\n",
              "      <td>Perch</td>\n",
              "      <td>900.0</td>\n",
              "      <td>39.0</td>\n",
              "      <td>41.4</td>\n",
              "      <td>11.1366</td>\n",
              "      <td>7.4934</td>\n",
              "    </tr>\n",
              "    <tr>\n",
              "      <th>117</th>\n",
              "      <td>Perch</td>\n",
              "      <td>650.0</td>\n",
              "      <td>39.0</td>\n",
              "      <td>41.4</td>\n",
              "      <td>11.1366</td>\n",
              "      <td>6.0030</td>\n",
              "    </tr>\n",
              "    <tr>\n",
              "      <th>118</th>\n",
              "      <td>Perch</td>\n",
              "      <td>820.0</td>\n",
              "      <td>39.0</td>\n",
              "      <td>41.3</td>\n",
              "      <td>12.4313</td>\n",
              "      <td>7.3514</td>\n",
              "    </tr>\n",
              "    <tr>\n",
              "      <th>119</th>\n",
              "      <td>Perch</td>\n",
              "      <td>850.0</td>\n",
              "      <td>40.0</td>\n",
              "      <td>42.3</td>\n",
              "      <td>11.9286</td>\n",
              "      <td>7.1064</td>\n",
              "    </tr>\n",
              "    <tr>\n",
              "      <th>120</th>\n",
              "      <td>Perch</td>\n",
              "      <td>900.0</td>\n",
              "      <td>40.0</td>\n",
              "      <td>42.5</td>\n",
              "      <td>11.7300</td>\n",
              "      <td>7.2250</td>\n",
              "    </tr>\n",
              "    <tr>\n",
              "      <th>121</th>\n",
              "      <td>Perch</td>\n",
              "      <td>1015.0</td>\n",
              "      <td>40.0</td>\n",
              "      <td>42.4</td>\n",
              "      <td>12.3808</td>\n",
              "      <td>7.4624</td>\n",
              "    </tr>\n",
              "    <tr>\n",
              "      <th>122</th>\n",
              "      <td>Perch</td>\n",
              "      <td>820.0</td>\n",
              "      <td>40.0</td>\n",
              "      <td>42.5</td>\n",
              "      <td>11.1350</td>\n",
              "      <td>6.6300</td>\n",
              "    </tr>\n",
              "    <tr>\n",
              "      <th>123</th>\n",
              "      <td>Perch</td>\n",
              "      <td>1100.0</td>\n",
              "      <td>42.0</td>\n",
              "      <td>44.6</td>\n",
              "      <td>12.8002</td>\n",
              "      <td>6.8684</td>\n",
              "    </tr>\n",
              "    <tr>\n",
              "      <th>124</th>\n",
              "      <td>Perch</td>\n",
              "      <td>1000.0</td>\n",
              "      <td>43.0</td>\n",
              "      <td>45.2</td>\n",
              "      <td>11.9328</td>\n",
              "      <td>7.2772</td>\n",
              "    </tr>\n",
              "    <tr>\n",
              "      <th>125</th>\n",
              "      <td>Perch</td>\n",
              "      <td>1100.0</td>\n",
              "      <td>43.0</td>\n",
              "      <td>45.5</td>\n",
              "      <td>12.5125</td>\n",
              "      <td>7.4165</td>\n",
              "    </tr>\n",
              "    <tr>\n",
              "      <th>126</th>\n",
              "      <td>Perch</td>\n",
              "      <td>1000.0</td>\n",
              "      <td>43.5</td>\n",
              "      <td>46.0</td>\n",
              "      <td>12.6040</td>\n",
              "      <td>8.1420</td>\n",
              "    </tr>\n",
              "    <tr>\n",
              "      <th>127</th>\n",
              "      <td>Perch</td>\n",
              "      <td>1000.0</td>\n",
              "      <td>44.0</td>\n",
              "      <td>46.6</td>\n",
              "      <td>12.4888</td>\n",
              "      <td>7.5958</td>\n",
              "    </tr>\n",
              "  </tbody>\n",
              "</table>\n",
              "</div>"
            ],
            "text/plain": [
              "    Species  Weight  Length  Diagonal   Height   Width\n",
              "72    Perch     5.9     8.4       8.8   2.1120  1.4080\n",
              "73    Perch    32.0    13.7      14.7   3.5280  1.9992\n",
              "74    Perch    40.0    15.0      16.0   3.8240  2.4320\n",
              "75    Perch    51.5    16.2      17.2   4.5924  2.6316\n",
              "76    Perch    70.0    17.4      18.5   4.5880  2.9415\n",
              "77    Perch   100.0    18.0      19.2   5.2224  3.3216\n",
              "78    Perch    78.0    18.7      19.4   5.1992  3.1234\n",
              "79    Perch    80.0    19.0      20.2   5.6358  3.0502\n",
              "80    Perch    85.0    19.6      20.8   5.1376  3.0368\n",
              "81    Perch    85.0    20.0      21.0   5.0820  2.7720\n",
              "82    Perch   110.0    21.0      22.5   5.6925  3.5550\n",
              "83    Perch   115.0    21.0      22.5   5.9175  3.3075\n",
              "84    Perch   125.0    21.0      22.5   5.6925  3.6675\n",
              "85    Perch   130.0    21.3      22.8   6.3840  3.5340\n",
              "86    Perch   120.0    22.0      23.5   6.1100  3.4075\n",
              "87    Perch   120.0    22.0      23.5   5.6400  3.5250\n",
              "88    Perch   130.0    22.0      23.5   6.1100  3.5250\n",
              "89    Perch   135.0    22.0      23.5   5.8750  3.5250\n",
              "90    Perch   110.0    22.0      23.5   5.5225  3.9950\n",
              "91    Perch   130.0    22.5      24.0   5.8560  3.6240\n",
              "92    Perch   150.0    22.5      24.0   6.7920  3.6240\n",
              "93    Perch   145.0    22.7      24.2   5.9532  3.6300\n",
              "94    Perch   150.0    23.0      24.5   5.2185  3.6260\n",
              "95    Perch   170.0    23.5      25.0   6.2750  3.7250\n",
              "96    Perch   225.0    24.0      25.5   7.2930  3.7230\n",
              "97    Perch   145.0    24.0      25.5   6.3750  3.8250\n",
              "98    Perch   188.0    24.6      26.2   6.7334  4.1658\n",
              "99    Perch   180.0    25.0      26.5   6.4395  3.6835\n",
              "100   Perch   197.0    25.6      27.0   6.5610  4.2390\n",
              "101   Perch   218.0    26.5      28.0   7.1680  4.1440\n",
              "102   Perch   300.0    27.3      28.7   8.3230  5.1373\n",
              "103   Perch   260.0    27.5      28.9   7.1672  4.3350\n",
              "104   Perch   265.0    27.5      28.9   7.0516  4.3350\n",
              "105   Perch   250.0    27.5      28.9   7.2828  4.5662\n",
              "106   Perch   250.0    28.0      29.4   7.8204  4.2042\n",
              "107   Perch   300.0    28.7      30.1   7.5852  4.6354\n",
              "108   Perch   320.0    30.0      31.6   7.6156  4.7716\n",
              "109   Perch   514.0    32.8      34.0  10.0300  6.0180\n",
              "110   Perch   556.0    34.5      36.5  10.2565  6.3875\n",
              "111   Perch   840.0    35.0      37.3  11.4884  7.7957\n",
              "112   Perch   685.0    36.5      39.0  10.8810  6.8640\n",
              "113   Perch   700.0    36.0      38.3  10.6091  6.7408\n",
              "114   Perch   700.0    37.0      39.4  10.8350  6.2646\n",
              "115   Perch   690.0    37.0      39.3  10.5717  6.3666\n",
              "116   Perch   900.0    39.0      41.4  11.1366  7.4934\n",
              "117   Perch   650.0    39.0      41.4  11.1366  6.0030\n",
              "118   Perch   820.0    39.0      41.3  12.4313  7.3514\n",
              "119   Perch   850.0    40.0      42.3  11.9286  7.1064\n",
              "120   Perch   900.0    40.0      42.5  11.7300  7.2250\n",
              "121   Perch  1015.0    40.0      42.4  12.3808  7.4624\n",
              "122   Perch   820.0    40.0      42.5  11.1350  6.6300\n",
              "123   Perch  1100.0    42.0      44.6  12.8002  6.8684\n",
              "124   Perch  1000.0    43.0      45.2  11.9328  7.2772\n",
              "125   Perch  1100.0    43.0      45.5  12.5125  7.4165\n",
              "126   Perch  1000.0    43.5      46.0  12.6040  8.1420\n",
              "127   Perch  1000.0    44.0      46.6  12.4888  7.5958"
            ]
          },
          "execution_count": 305,
          "metadata": {},
          "output_type": "execute_result"
        }
      ],
      "source": [
        "fish[fish[\"Species\"]==\"Perch\"]"
      ]
    },
    {
      "cell_type": "code",
      "execution_count": 306,
      "metadata": {
        "id": "Fkg_3VocZQGj"
      },
      "outputs": [],
      "source": [
        "# fish 데이터프레임에서 Perch(농어)만 선택\n",
        "perch = fish[fish['Species'] == 'Perch']"
      ]
    },
    {
      "cell_type": "code",
      "execution_count": 307,
      "metadata": {
        "colab": {
          "base_uri": "https://localhost:8080/"
        },
        "id": "FUyXaYexZsXC",
        "outputId": "65970715-06f1-4b8a-a567-8d5f8998b00d"
      },
      "outputs": [
        {
          "name": "stdout",
          "output_type": "stream",
          "text": [
            "<class 'pandas.core.frame.DataFrame'>\n",
            "Int64Index: 56 entries, 72 to 127\n",
            "Data columns (total 6 columns):\n",
            " #   Column    Non-Null Count  Dtype  \n",
            "---  ------    --------------  -----  \n",
            " 0   Species   56 non-null     object \n",
            " 1   Weight    56 non-null     float64\n",
            " 2   Length    56 non-null     float64\n",
            " 3   Diagonal  56 non-null     float64\n",
            " 4   Height    56 non-null     float64\n",
            " 5   Width     56 non-null     float64\n",
            "dtypes: float64(5), object(1)\n",
            "memory usage: 3.1+ KB\n"
          ]
        }
      ],
      "source": [
        "perch.info()"
      ]
    },
    {
      "cell_type": "code",
      "execution_count": 308,
      "metadata": {
        "colab": {
          "base_uri": "https://localhost:8080/",
          "height": 206
        },
        "id": "m_VkyjK2ZthB",
        "outputId": "78768588-9623-4b7f-eacc-1f96eddbf72f"
      },
      "outputs": [
        {
          "data": {
            "text/html": [
              "<div>\n",
              "<style scoped>\n",
              "    .dataframe tbody tr th:only-of-type {\n",
              "        vertical-align: middle;\n",
              "    }\n",
              "\n",
              "    .dataframe tbody tr th {\n",
              "        vertical-align: top;\n",
              "    }\n",
              "\n",
              "    .dataframe thead th {\n",
              "        text-align: right;\n",
              "    }\n",
              "</style>\n",
              "<table border=\"1\" class=\"dataframe\">\n",
              "  <thead>\n",
              "    <tr style=\"text-align: right;\">\n",
              "      <th></th>\n",
              "      <th>Species</th>\n",
              "      <th>Weight</th>\n",
              "      <th>Length</th>\n",
              "      <th>Diagonal</th>\n",
              "      <th>Height</th>\n",
              "      <th>Width</th>\n",
              "    </tr>\n",
              "  </thead>\n",
              "  <tbody>\n",
              "    <tr>\n",
              "      <th>72</th>\n",
              "      <td>Perch</td>\n",
              "      <td>5.9</td>\n",
              "      <td>8.4</td>\n",
              "      <td>8.8</td>\n",
              "      <td>2.1120</td>\n",
              "      <td>1.4080</td>\n",
              "    </tr>\n",
              "    <tr>\n",
              "      <th>73</th>\n",
              "      <td>Perch</td>\n",
              "      <td>32.0</td>\n",
              "      <td>13.7</td>\n",
              "      <td>14.7</td>\n",
              "      <td>3.5280</td>\n",
              "      <td>1.9992</td>\n",
              "    </tr>\n",
              "    <tr>\n",
              "      <th>74</th>\n",
              "      <td>Perch</td>\n",
              "      <td>40.0</td>\n",
              "      <td>15.0</td>\n",
              "      <td>16.0</td>\n",
              "      <td>3.8240</td>\n",
              "      <td>2.4320</td>\n",
              "    </tr>\n",
              "    <tr>\n",
              "      <th>75</th>\n",
              "      <td>Perch</td>\n",
              "      <td>51.5</td>\n",
              "      <td>16.2</td>\n",
              "      <td>17.2</td>\n",
              "      <td>4.5924</td>\n",
              "      <td>2.6316</td>\n",
              "    </tr>\n",
              "    <tr>\n",
              "      <th>76</th>\n",
              "      <td>Perch</td>\n",
              "      <td>70.0</td>\n",
              "      <td>17.4</td>\n",
              "      <td>18.5</td>\n",
              "      <td>4.5880</td>\n",
              "      <td>2.9415</td>\n",
              "    </tr>\n",
              "  </tbody>\n",
              "</table>\n",
              "</div>"
            ],
            "text/plain": [
              "   Species  Weight  Length  Diagonal  Height   Width\n",
              "72   Perch     5.9     8.4       8.8  2.1120  1.4080\n",
              "73   Perch    32.0    13.7      14.7  3.5280  1.9992\n",
              "74   Perch    40.0    15.0      16.0  3.8240  2.4320\n",
              "75   Perch    51.5    16.2      17.2  4.5924  2.6316\n",
              "76   Perch    70.0    17.4      18.5  4.5880  2.9415"
            ]
          },
          "execution_count": 308,
          "metadata": {},
          "output_type": "execute_result"
        }
      ],
      "source": [
        "perch.head()"
      ]
    },
    {
      "cell_type": "markdown",
      "metadata": {
        "id": "vas-viVtd-uK"
      },
      "source": [
        "농어(perch)의 길이(Length)를 알면 무게(Weight)를 예측할 수 있을까?\n",
        "\n",
        "* 관심 변수, 종속 변수(label, target) - Weight --> 1차원 배열\n",
        "* 독립 변수, 특성(features) - Length --> (컬럼이 1개인) 2차원 배열"
      ]
    },
    {
      "cell_type": "code",
      "execution_count": 309,
      "metadata": {
        "colab": {
          "base_uri": "https://localhost:8080/"
        },
        "id": "5dFvjKrZff_3",
        "outputId": "7cfa6d5a-df13-48fc-86d1-02144a7a74a4"
      },
      "outputs": [
        {
          "data": {
            "text/plain": [
              "array([[ 8.4],\n",
              "       [13.7],\n",
              "       [15. ],\n",
              "       [16.2],\n",
              "       [17.4]])"
            ]
          },
          "execution_count": 309,
          "metadata": {},
          "output_type": "execute_result"
        }
      ],
      "source": [
        "X = perch[['Length']].values  # (컬럼이 1개인) 2차원 배열로 만들기 위해서\n",
        "X[:5, :]"
      ]
    },
    {
      "cell_type": "code",
      "execution_count": 310,
      "metadata": {
        "colab": {
          "base_uri": "https://localhost:8080/"
        },
        "id": "bCcXIJEpgR78",
        "outputId": "788bad37-7bff-4113-c6c7-a11384242b5b"
      },
      "outputs": [
        {
          "data": {
            "text/plain": [
              "array([ 5.9, 32. , 40. , 51.5, 70. ])"
            ]
          },
          "execution_count": 310,
          "metadata": {},
          "output_type": "execute_result"
        }
      ],
      "source": [
        "y = perch['Weight'].values  # 1차원 배열\n",
        "y[:5]"
      ]
    },
    {
      "cell_type": "markdown",
      "metadata": {
        "id": "OiVxuwcUgmfk"
      },
      "source": [
        "# 훈련/테스트 셋 분리"
      ]
    },
    {
      "cell_type": "code",
      "execution_count": 311,
      "metadata": {
        "id": "RkfgOroEgqDZ"
      },
      "outputs": [],
      "source": [
        "X_train, X_test, y_train, y_test = train_test_split(X, y,\n",
        "                                                    test_size=0.25,\n",
        "                                                    random_state=42)"
      ]
    },
    {
      "cell_type": "code",
      "execution_count": 312,
      "metadata": {
        "colab": {
          "base_uri": "https://localhost:8080/"
        },
        "id": "PldQziYehcLU",
        "outputId": "52e4cd21-b659-45bb-d85a-57841636ff20"
      },
      "outputs": [
        {
          "data": {
            "text/plain": [
              "((42, 1), (14, 1))"
            ]
          },
          "execution_count": 312,
          "metadata": {},
          "output_type": "execute_result"
        }
      ],
      "source": [
        "X_train.shape, X_test.shape"
      ]
    },
    {
      "cell_type": "code",
      "execution_count": 313,
      "metadata": {
        "colab": {
          "base_uri": "https://localhost:8080/"
        },
        "id": "eePvoLt0hf1x",
        "outputId": "9782c19d-a555-4c66-a50f-8310f968e5a7"
      },
      "outputs": [
        {
          "data": {
            "text/plain": [
              "((42,), (14,))"
            ]
          },
          "execution_count": 313,
          "metadata": {},
          "output_type": "execute_result"
        }
      ],
      "source": [
        "y_train.shape, y_test.shape"
      ]
    },
    {
      "cell_type": "markdown",
      "metadata": {
        "id": "_-Av4KkNh6BB"
      },
      "source": [
        "훈련 셋/테스트 셋 시각화(Weight ~ Length 산점도)"
      ]
    },
    {
      "cell_type": "code",
      "execution_count": 314,
      "metadata": {
        "colab": {
          "base_uri": "https://localhost:8080/",
          "height": 279
        },
        "id": "lrS36qitiAOx",
        "outputId": "7a69da19-6823-48de-e912-50c52e0bcc80"
      },
      "outputs": [
        {
          "data": {
            "image/png": "[encoded data removed]",
            "text/plain": [
              "<Figure size 432x288 with 1 Axes>"
            ]
          },
          "metadata": {
            "needs_background": "light"
          },
          "output_type": "display_data"
        }
      ],
      "source": [
        "plt.scatter(X_train, y_train, label='train', alpha=0.5)\n",
        "plt.scatter(X_test, y_test, label='test', alpha=0.5)\n",
        "\n",
        "plt.grid()\n",
        "plt.xlabel('Length (cm)')\n",
        "plt.ylabel('Weight (g)')\n",
        "plt.legend()\n",
        "plt.show()"
      ]
    },
    {
      "cell_type": "markdown",
      "metadata": {
        "id": "x5m3cn5pkNJh"
      },
      "source": [
        "# KNN Regressor 모델 훈련, 평가\n",
        "\n",
        "KNN Regressor: 가장 가까운 k개의 이웃들의 레이블(타겟)의 평균값으로 숫자를 예측."
      ]
    },
    {
      "cell_type": "code",
      "execution_count": 315,
      "metadata": {
        "id": "NVsaVSrTkfnB"
      },
      "outputs": [],
      "source": [
        "knn_reg = KNeighborsRegressor()  # k=5 인 모델 생성"
      ]
    },
    {
      "cell_type": "code",
      "execution_count": 316,
      "metadata": {
        "colab": {
          "base_uri": "https://localhost:8080/"
        },
        "id": "V3q3QZzHkwKB",
        "outputId": "1273ca53-4336-4b58-9573-b671ec9ee177"
      },
      "outputs": [
        {
          "data": {
            "text/plain": [
              "KNeighborsRegressor()"
            ]
          },
          "execution_count": 316,
          "metadata": {},
          "output_type": "execute_result"
        }
      ],
      "source": [
        "knn_reg.fit(X_train, y_train)  # 모델 학습"
      ]
    },
    {
      "cell_type": "code",
      "execution_count": 317,
      "metadata": {
        "colab": {
          "base_uri": "https://localhost:8080/"
        },
        "id": "FxnM3s-hk5xo",
        "outputId": "48306548-b8b7-4ec8-e39e-b5037eef2331"
      },
      "outputs": [
        {
          "data": {
            "text/plain": [
              "array([  88.6,  123. ,   79.6,   70.6,  723. ,  193. ,  847. ,  847. ,\n",
              "       1010. ,  123. ,   95. ,  123. ,  174. ,  248. , 1010. ,  847. ,\n",
              "        174. ,  113. ,  248. ,  847. ,  659. ,  224. ,  723. ,   60. ,\n",
              "        140. ,   60. ,  719. ,  694.2,  248. ,  167. ,  847. ,  113. ,\n",
              "        168. ,  123. , 1010. ,  136. ,   79.6,  719. ,  123. ,  193. ,\n",
              "        990. ,  659. ])"
            ]
          },
          "execution_count": 317,
          "metadata": {},
          "output_type": "execute_result"
        }
      ],
      "source": [
        "# 학습된 훈련 셋의 예측값\n",
        "train_pred = knn_reg.predict(X_train)\n",
        "train_pred"
      ]
    },
    {
      "cell_type": "code",
      "execution_count": 318,
      "metadata": {
        "colab": {
          "base_uri": "https://localhost:8080/"
        },
        "id": "FNE5kwqllGvp",
        "outputId": "3966b9f6-a54b-4ed9-962f-06bc5fdf4eca"
      },
      "outputs": [
        {
          "data": {
            "text/plain": [
              "array([  85.,  135.,   78.,   70.,  700.,  180.,  850.,  820., 1000.,\n",
              "        120.,   85.,  130.,  225.,  260., 1100.,  900.,  145.,  115.,\n",
              "        265., 1015.,  514.,  218.,  685.,   32.,  145.,   40.,  690.,\n",
              "        840.,  300.,  170.,  650.,  110.,  150.,  110., 1000.,  150.,\n",
              "         80.,  700.,  120.,  197., 1100.,  556.])"
            ]
          },
          "execution_count": 318,
          "metadata": {},
          "output_type": "execute_result"
        }
      ],
      "source": [
        "# 훈련 셋의 실젯값(레이블)\n",
        "y_train"
      ]
    },
    {
      "cell_type": "markdown",
      "metadata": {
        "id": "DL5C3E12mvcB"
      },
      "source": [
        "## 회귀 문제에서의 평가 지표:\n",
        "\n",
        "* 기호 정의\n",
        "    * $y_i$: $i$번째 샘플의 실젯값(label)\n",
        "    * $\\hat{y_i}$: $i$번째 샘플의 예측값\n",
        "    * $\\bar{y}$: 타겟의 평균값\n",
        "    * $n$: 샘플 개수\n",
        "\n",
        "* MSE(Mean Squared Errors): 오차들의 제곱의 평균\n",
        "$$\n",
        "MSE = \\frac{1}{n} \\sum_{i=1}^{n} (y_i - \\hat{y_i})^2\n",
        "$$\n",
        "\n",
        "* RMSE(Root Mean Squared Errors): MSE의 제곱근\n",
        "$$\n",
        "RMSE = \\sqrt{ \\frac{1}{n} \\sum_{i=1}^{n} (y_i - \\hat{y_i})^2 }\n",
        "$$\n",
        "\n",
        "* MAE(Mean Absolute Errors): 오차들의 절대값의 평균\n",
        "$$\n",
        "MAE = \\frac{1}{n} \\sum_{i=1}^{n} \\lvert y_i - \\hat{y_i} \\rvert\n",
        "$$\n",
        "\n",
        "* $R^2$ score(결정 계수, coefficient of determinant)\n",
        "$$\n",
        "R^2 = 1 - \\dfrac{ \\sum_{i=1}^{n} (y_i - \\hat{y_i})^2 }\n",
        "                { \\sum_{i=1}^{n} (y_i - \\bar{y})^2 }\n",
        "$$\n",
        "\n",
        "    * 일반적인 평가 지표는 점수가 높을 수록 좋은 모델, 점수가 낮을 수록 나쁜 모델.\n",
        "    * 그런데, 회귀 문제에서는 오차(MSE, MAE)는 작을 수록 좋은 모델이고, 오차가 클 수록 나쁜 모델.\n",
        "    * 회귀 문제에서도 점수가 높을 수록 좋은 모델이고 점수가 낮을 수록 나쁜 모델이라고 평가할 수 있는 지표가 필요. --> $R^2$ score(결정 계수)\n",
        "    * 결정 계수는 최댓값이 1이 되도록 만든 평가 지표.\n",
        "    * 모델이 타겟을 오차없이 정확하게 예측한다면 실제값 - 예측값 = 0 이므로, 결정 계수는 최댓값이 1이 됨.\n",
        "    * 모델이 타겟을 매우 비슷하게 예측한다면(즉, 오차가 매우 작다면) 분자가 0에 가까운 값이 되므로, 결정 계수는 1보다는 작지만 1에 가까운 값이 됨.\n",
        "    * 모델이 타겟의 평균으로만 예측하는 정도라면 분자 = 분모 이므로, 결정 계수는 0이 됨.\n",
        "    * 모델이 타겟의 평균 정도도 예측하지 못하는 모델이라면(오차가 매우 크다면), 분자 > 분모 일 수 있고, 그런 경우 결정 계수는 음수가 될 수 있음.\n",
        "    * 즉, 결정 계수는 1에 가까울 수록 오차가 작은 좋은 예측 모델이고, 숫자가 작아질 수록 오차가 큰 나쁜 예측 모델임."
      ]
    },
    {
      "cell_type": "code",
      "execution_count": 319,
      "metadata": {
        "colab": {
          "base_uri": "https://localhost:8080/"
        },
        "id": "Xp3nnhcllVm4",
        "outputId": "870e8abc-0e5d-434a-8ce2-1a0741dc4a47"
      },
      "outputs": [
        {
          "data": {
            "text/plain": [
              "60.96323638453089"
            ]
          },
          "execution_count": 319,
          "metadata": {},
          "output_type": "execute_result"
        }
      ],
      "source": [
        "# 훈련 셋의 MSE, RMSE\n",
        "train_mse = mean_squared_error(y_train, train_pred)\n",
        "train_rmse = np.sqrt(train_mse)\n",
        "train_rmse"
      ]
    },
    {
      "cell_type": "code",
      "execution_count": 320,
      "metadata": {
        "colab": {
          "base_uri": "https://localhost:8080/"
        },
        "id": "2yv5Si50oUa6",
        "outputId": "85691d47-117c-45f2-d3f8-e751e7da40f1"
      },
      "outputs": [
        {
          "data": {
            "text/plain": [
              "35.76190476190476"
            ]
          },
          "execution_count": 320,
          "metadata": {},
          "output_type": "execute_result"
        }
      ],
      "source": [
        "# 훈련 셋의 MAE\n",
        "mean_absolute_error(y_train, train_pred)"
      ]
    },
    {
      "cell_type": "code",
      "execution_count": 321,
      "metadata": {
        "colab": {
          "base_uri": "https://localhost:8080/"
        },
        "id": "qLTMGYiWosFw",
        "outputId": "23ad75f3-4033-4b45-80eb-3d3671804b7e"
      },
      "outputs": [
        {
          "name": "stdout",
          "output_type": "stream",
          "text": [
            "[  60.    79.6  248.   122.   136.   847.   311.4  183.4  847.   113.\n",
            " 1010.    60.   248.   248. ]\n",
            "[   5.9  100.   250.   130.   130.   820.   320.   188.   900.   125.\n",
            " 1000.    51.5  250.   300. ]\n",
            "26.865192562655704\n"
          ]
        }
      ],
      "source": [
        "# 테스트 셋의 예측값\n",
        "test_pred = knn_reg.predict(X_test)\n",
        "print(test_pred)\n",
        "print(y_test)  # 테스트 셋 실젯값\n",
        "\n",
        "# 테스트 셋의 RMSE\n",
        "test_mse = mean_squared_error(y_test, test_pred)\n",
        "test_rmse = np.sqrt(test_mse)\n",
        "print(test_rmse)"
      ]
    },
    {
      "cell_type": "code",
      "execution_count": 322,
      "metadata": {
        "colab": {
          "base_uri": "https://localhost:8080/"
        },
        "id": "Q0BkxTL4xvY4",
        "outputId": "498bfb2e-3822-4df7-8e1f-2978f4b4ad46"
      },
      "outputs": [
        {
          "name": "stdout",
          "output_type": "stream",
          "text": [
            "훈련 셋 R2: 0.9698823289099254\n",
            "테스트 셋 R2: 0.992809406101064\n"
          ]
        }
      ],
      "source": [
        "# 훈련 셋의 R^2(결정 계수)\n",
        "train_r2 = r2_score(y_train, train_pred)\n",
        "print('훈련 셋 R2:', train_r2)\n",
        "\n",
        "# 테스트 셋의 R^2\n",
        "test_r2 = r2_score(y_test, test_pred)\n",
        "print('테스트 셋 R2:', test_r2)"
      ]
    },
    {
      "cell_type": "code",
      "execution_count": 323,
      "metadata": {
        "colab": {
          "base_uri": "https://localhost:8080/"
        },
        "id": "X9n8PdNUzFlw",
        "outputId": "1f2cc6d8-1fec-42b8-d58e-95104731276f"
      },
      "outputs": [
        {
          "data": {
            "text/plain": [
              "0.992809406101064"
            ]
          },
          "execution_count": 323,
          "metadata": {},
          "output_type": "execute_result"
        }
      ],
      "source": [
        "knn_reg.score(X_test, y_test)"
      ]
    },
    {
      "cell_type": "markdown",
      "metadata": {},
      "source": [
        "# 모델 튜닝\n",
        "\n",
        "k값 변화에 따른 훈련 셋과 테스트 셋에서의 $R^2$ score 변화 시각화"
      ]
    },
    {
      "cell_type": "code",
      "execution_count": 324,
      "metadata": {
        "id": "Et64dkrg0xLA"
      },
      "outputs": [
        {
          "name": "stdout",
          "output_type": "stream",
          "text": [
            "[0.9852830341215901, 0.9828437127041165, 0.9804899950518966, 0.978211389719245, 0.9698823289099254, 0.9757140960298665, 0.9761170732051527, 0.9697604397763201, 0.9693310367551284, 0.96164569026043, 0.9515761381539326, 0.9467103631225754, 0.9413423450130075, 0.9429470576557883, 0.930201118360776]\n",
            "[0.991309195814175, 0.9725010241788556, 0.9746459963987609, 0.9840231023848637, 0.992809406101064, 0.9855001139899048, 0.9781383949643516, 0.9780541148735824, 0.9692647749722698, 0.9737908255822255, 0.970279643030474, 0.967703620310643, 0.9639044643206888, 0.9615046463124021, 0.9554827691127018]\n"
          ]
        }
      ],
      "source": [
        "k_values= np.arange(1, 16)\n",
        "train_scores= [] # 훈련 셋의 R^2 score를 저장할 리스트\n",
        "test_scores=[] # 테스트 셋의 R^2 score를 저장할 리스트\n",
        "\n",
        "for k in k_values:\n",
        "    knn=KNeighborsRegressor(n_neighbors=k)   # KNN 예측기 모델 생성\n",
        "    knn.fit(X_train, y_train)                       # 모델 훈련\n",
        "    train_r2=knn.score(X_train, y_train)\n",
        "    train_scores.append(train_r2)\n",
        "    test_r2=knn.score(X_test, y_test)\n",
        "    test_scores.append(test_r2)\n",
        "    \n",
        "\n",
        "print(train_scores)\n",
        "print(test_scores)\n",
        "    \n",
        "    "
      ]
    },
    {
      "cell_type": "code",
      "execution_count": 325,
      "metadata": {},
      "outputs": [
        {
          "data": {
            "image/png": "[encoded data removed]",
            "text/plain": [
              "<Figure size 432x288 with 1 Axes>"
            ]
          },
          "metadata": {
            "needs_background": "light"
          },
          "output_type": "display_data"
        }
      ],
      "source": [
        "# 시각화\n",
        "plt.plot(k_values,train_scores , \"bo-\", label=\"train $R^2$ score\")\n",
        "plt.plot(k_values, test_scores, 'ro:', label=\"test $R^2$ score\")\n",
        "plt.legend()\n",
        "plt.xlabel(\"k (# of nearest neighbors)\")\n",
        "plt.ylabel(\"$R^2$ score\")\n",
        "plt.show()"
      ]
    },
    {
      "cell_type": "markdown",
      "metadata": {},
      "source": [
        "# KNN Regressor 의 문제점"
      ]
    },
    {
      "cell_type": "code",
      "execution_count": 326,
      "metadata": {},
      "outputs": [
        {
          "data": {
            "image/png": "[encoded data removed]",
            "text/plain": [
              "<Figure size 432x288 with 1 Axes>"
            ]
          },
          "metadata": {
            "needs_background": "light"
          },
          "output_type": "display_data"
        }
      ],
      "source": [
        "# 훈련 셋 시각화\n",
        "plt.scatter(X_train, y_train, label=\"train set\", alpha=0.5)\n",
        "\n",
        "# 길이 50cm 무게 1500g인 가상의 농어 (Perch) 한 마리\n",
        "test_fish_length=[[50]] # 특성 배열: (n_sample, n_feature) shape의 2차원 배열\n",
        "test_fish_weight=[1500] # 레이블 배열: (n_sample) shape의 1차원 배열\n",
        "plt.scatter(test_fish_length, test_fish_weight, marker='v', color=\"red\" )\n",
        "\n",
        "\n",
        "plt.legend()\n",
        "plt.xlabel(\"length\")\n",
        "plt.ylabel(\"weight\")\n",
        "plt.grid()\n",
        "plt.show()"
      ]
    },
    {
      "cell_type": "code",
      "execution_count": 327,
      "metadata": {},
      "outputs": [
        {
          "name": "stdout",
          "output_type": "stream",
          "text": [
            "[1033.33333333]\n"
          ]
        }
      ],
      "source": [
        "knn=KNeighborsRegressor(n_neighbors=3)  # k=3 인 KNN regressor 생성\n",
        "knn.fit(X_train, y_train)               # 모델 생성\n",
        "prediction= knn.predict(test_fish_length)   # 길이 50cm인 가상의 농어의 무게 예측값\n",
        "print(prediction)\n",
        "\n",
        "\n"
      ]
    },
    {
      "cell_type": "markdown",
      "metadata": {},
      "source": [
        "* 머신 러닝 알고리즘\n",
        "    * 사례 기반 학습(instanc-based learning) KNN\n",
        "        * 샘플들의 다수결 또는 평균으로 예측하는 알고리즘.\n",
        "        * 특별한 수학적인 모델링이 사용되지 않는 알고리즘.\n",
        "        * 장점: 이해하기 쉽다.\n",
        "        * 단점: 이상치(outlier)에 대한 예측값은 매우 나쁘다.\n",
        "    * 모델 기반 학습(model-based learning)   Linear Regression\n",
        "        * 훈련 셋에서 수학적인 모델을 추론(공식)해서 예측하는 알고리즘"
      ]
    },
    {
      "cell_type": "markdown",
      "metadata": {},
      "source": [
        "# 선형 회귀(Linear Regression)"
      ]
    },
    {
      "cell_type": "code",
      "execution_count": 328,
      "metadata": {},
      "outputs": [],
      "source": [
        "lin_reg= LinearRegression()  # 선형 회귀 모델 생성\n"
      ]
    },
    {
      "cell_type": "code",
      "execution_count": 329,
      "metadata": {},
      "outputs": [
        {
          "data": {
            "text/plain": [
              "LinearRegression()"
            ]
          },
          "execution_count": 329,
          "metadata": {},
          "output_type": "execute_result"
        }
      ],
      "source": [
        "lin_reg.fit(X_train,y_train) # 모델 훈련"
      ]
    },
    {
      "cell_type": "markdown",
      "metadata": {},
      "source": [
        "선형 회귀 모델을 훈련 셋으로 학습시킨다라는 의미는 데이터들을 가장 잘 <br>\n",
        "설명할 수 있는(훈련 셋과 예측값들 사이의 오차가 적어지도록 하는) 직선(곡선)의 방정식을 찾는 과정.\n",
        "\n",
        "$$\n",
        "\\hat{y_i} =w_0 +w_1 \\times x_i\n",
        "$$\n",
        "\n",
        "\n",
        "* $w_0$ : 절편(intercept), 편향(bias)\n",
        "* $w_1$ : 계수(coefiicient), 기울기(slope)\n",
        "* 선형 회귀의 목적은 MSE(오차들의 제곱의 평균)이 가장 작아지는 절편($w_0$)과 계수($w_1$)들을 찾는 것."
      ]
    },
    {
      "cell_type": "code",
      "execution_count": 330,
      "metadata": {},
      "outputs": [
        {
          "data": {
            "text/plain": [
              "-709.0186449535477"
            ]
          },
          "execution_count": 330,
          "metadata": {},
          "output_type": "execute_result"
        }
      ],
      "source": [
        "lin_reg.intercept_ # 선형 회귀 모델을 훈련시킨 후 찾은 직선의 y 절편"
      ]
    },
    {
      "cell_type": "code",
      "execution_count": 331,
      "metadata": {},
      "outputs": [
        {
          "data": {
            "text/plain": [
              "array([39.01714496])"
            ]
          },
          "execution_count": 331,
          "metadata": {},
          "output_type": "execute_result"
        }
      ],
      "source": [
        "lin_reg.coef_ # 선형 회귀 모델을 훈련시킨 후 찾은 직선의 기울기(계수)"
      ]
    },
    {
      "cell_type": "markdown",
      "metadata": {},
      "source": [
        "선형 회귀 모델을 훈련시킨 후 찾은 수학적 모델(직선의 방정식)\n",
        "\n",
        "$$\n",
        "\\hat{y}= -709 + 39 \\times x\n",
        "$$"
      ]
    },
    {
      "cell_type": "code",
      "execution_count": 332,
      "metadata": {},
      "outputs": [
        {
          "data": {
            "text/plain": [
              "1241"
            ]
          },
          "execution_count": 332,
          "metadata": {},
          "output_type": "execute_result"
        }
      ],
      "source": [
        "-709+39*50"
      ]
    },
    {
      "cell_type": "code",
      "execution_count": 333,
      "metadata": {},
      "outputs": [
        {
          "data": {
            "image/png": "[encoded data removed]",
            "text/plain": [
              "<Figure size 432x288 with 1 Axes>"
            ]
          },
          "metadata": {
            "needs_background": "light"
          },
          "output_type": "display_data"
        }
      ],
      "source": [
        "# 훈련/테스트 셋 선형 회귀 모델(직선) 시각화\n",
        "plt.scatter(X_train, y_train, alpha=0.5, label=\"train\")\n",
        "plt.scatter(X_test,y_test,alpha=0.5, label=\"test\")\n",
        "\n",
        "# 직선(곡선) 시각화\n",
        "x=np.arange(0,45,0.001)\n",
        "w0= lin_reg.intercept_   # 직선의 y 절편\n",
        "w1=lin_reg.coef_[0] # 직선의 기울기\n",
        "y=w0+w1*x\n",
        "\n",
        "plt.plot(x,y, \"r-\", label=\"linear regression\")\n",
        "plt.grid()\n",
        "plt.legend()\n",
        "plt.xlabel(\"length (cm)\")\n",
        "plt.ylabel(\"weight (g)\")\n",
        "plt.show()"
      ]
    },
    {
      "cell_type": "code",
      "execution_count": 334,
      "metadata": {},
      "outputs": [
        {
          "data": {
            "text/plain": [
              "array([  55.71739633,  149.35854425,   20.60196587,  -30.12032259,\n",
              "        695.59857374,  266.40997914,  851.66715359,  812.65000863,\n",
              "        968.71858848,  149.35854425,   71.32425432,  149.35854425,\n",
              "        227.39283417,  363.95284155,  968.71858848,  851.66715359,\n",
              "        227.39283417,  110.34139928,  363.95284155,  851.66715359,\n",
              "        570.74370985,  324.93569658,  715.10714622, -174.48375895,\n",
              "        176.67054572, -123.7614705 ,  734.6157187 ,  656.58142877,\n",
              "        410.7734155 ,  207.88426169,  812.65000863,  110.34139928,\n",
              "        188.37568921,  149.35854425, 1007.73573345,  168.86711673,\n",
              "         32.30710936,  734.6157187 ,  149.35854425,  289.82026612,\n",
              "        929.70144352,  637.07285629])"
            ]
          },
          "execution_count": 334,
          "metadata": {},
          "output_type": "execute_result"
        }
      ],
      "source": [
        "# 훈련 셋에서의 예측값\n",
        "train_pred= lin_reg.predict(X_train)\n",
        "train_pred"
      ]
    },
    {
      "cell_type": "code",
      "execution_count": 335,
      "metadata": {},
      "outputs": [
        {
          "data": {
            "text/plain": [
              "array([  85.,  135.,   78.,   70.,  700.,  180.,  850.,  820., 1000.,\n",
              "        120.,   85.,  130.,  225.,  260., 1100.,  900.,  145.,  115.,\n",
              "        265., 1015.,  514.,  218.,  685.,   32.,  145.,   40.,  690.,\n",
              "        840.,  300.,  170.,  650.,  110.,  150.,  110., 1000.,  150.,\n",
              "         80.,  700.,  120.,  197., 1100.,  556.])"
            ]
          },
          "execution_count": 335,
          "metadata": {},
          "output_type": "execute_result"
        }
      ],
      "source": [
        "y_train"
      ]
    },
    {
      "cell_type": "code",
      "execution_count": 336,
      "metadata": {},
      "outputs": [
        {
          "data": {
            "text/plain": [
              "0.939846333997604"
            ]
          },
          "execution_count": 336,
          "metadata": {},
          "output_type": "execute_result"
        }
      ],
      "source": [
        "# 훈련 셋에서의 R^2 score\n",
        "lin_reg.score(X_train ,y_train)"
      ]
    },
    {
      "cell_type": "code",
      "execution_count": 337,
      "metadata": {},
      "outputs": [
        {
          "data": {
            "text/plain": [
              "0.8247503123313558"
            ]
          },
          "execution_count": 337,
          "metadata": {},
          "output_type": "execute_result"
        }
      ],
      "source": [
        "# 테스트 셋에서의 R^2 score\n",
        "lin_reg.score(X_test, y_test)"
      ]
    },
    {
      "cell_type": "markdown",
      "metadata": {},
      "source": [
        "# 2차 항(polymonial)을 포함하는 선형 회귀\n",
        "\n",
        "$$\n",
        "\\hat{y}= w_0 + w_1 \\times x + w_2 \\times x^2\n",
        "$$\n",
        "\n",
        "2차 함수에 의해서 계산된 MSE가 최소가 되는 절편과 계수들을 찾는 것."
      ]
    },
    {
      "cell_type": "code",
      "execution_count": 338,
      "metadata": {},
      "outputs": [
        {
          "data": {
            "text/plain": [
              "(42, 1)"
            ]
          },
          "execution_count": 338,
          "metadata": {},
          "output_type": "execute_result"
        }
      ],
      "source": [
        "X_train.shape # 훈련 셋의 shape"
      ]
    },
    {
      "cell_type": "code",
      "execution_count": 339,
      "metadata": {},
      "outputs": [
        {
          "data": {
            "text/plain": [
              "array([[19.6],\n",
              "       [22. ],\n",
              "       [18.7]])"
            ]
          },
          "execution_count": 339,
          "metadata": {},
          "output_type": "execute_result"
        }
      ],
      "source": [
        "X_train[:3, :]"
      ]
    },
    {
      "cell_type": "code",
      "execution_count": 340,
      "metadata": {},
      "outputs": [
        {
          "data": {
            "text/plain": [
              "(42, 2)"
            ]
          },
          "execution_count": 340,
          "metadata": {},
          "output_type": "execute_result"
        }
      ],
      "source": [
        "# 특성(feature) 배열에 2차항을 추가\n",
        "X_train_poly = np.c_[X_train,X_train**2]\n",
        "X_train_poly.shape"
      ]
    },
    {
      "cell_type": "code",
      "execution_count": 341,
      "metadata": {},
      "outputs": [
        {
          "data": {
            "text/plain": [
              "array([[ 19.6 , 384.16],\n",
              "       [ 22.  , 484.  ],\n",
              "       [ 18.7 , 349.69]])"
            ]
          },
          "execution_count": 341,
          "metadata": {},
          "output_type": "execute_result"
        }
      ],
      "source": [
        "X_train_poly[:3 , :]"
      ]
    },
    {
      "cell_type": "code",
      "execution_count": 342,
      "metadata": {},
      "outputs": [],
      "source": [
        "# 테스트 셋의 특성 배열에 2차항을 추가\n",
        "X_test_poly=np.c_[X_test, X_test**2]"
      ]
    },
    {
      "cell_type": "code",
      "execution_count": 343,
      "metadata": {},
      "outputs": [
        {
          "data": {
            "text/plain": [
              "(14, 2)"
            ]
          },
          "execution_count": 343,
          "metadata": {},
          "output_type": "execute_result"
        }
      ],
      "source": [
        "X_test_poly.shape"
      ]
    },
    {
      "cell_type": "code",
      "execution_count": 344,
      "metadata": {},
      "outputs": [
        {
          "data": {
            "text/plain": [
              "array([[  8.4 ,  70.56],\n",
              "       [ 18.  , 324.  ],\n",
              "       [ 27.5 , 756.25]])"
            ]
          },
          "execution_count": 344,
          "metadata": {},
          "output_type": "execute_result"
        }
      ],
      "source": [
        "X_test_poly[:3,:]"
      ]
    },
    {
      "cell_type": "code",
      "execution_count": 345,
      "metadata": {},
      "outputs": [],
      "source": [
        "lin_reg2=LinearRegression() # 선형 회귀 모델 생성"
      ]
    },
    {
      "cell_type": "code",
      "execution_count": 346,
      "metadata": {},
      "outputs": [
        {
          "data": {
            "text/plain": [
              "LinearRegression()"
            ]
          },
          "execution_count": 346,
          "metadata": {},
          "output_type": "execute_result"
        }
      ],
      "source": [
        "lin_reg2.fit(X_train_poly,y_train)  # 선형 회귀 모델 훈련"
      ]
    },
    {
      "cell_type": "code",
      "execution_count": 347,
      "metadata": {},
      "outputs": [
        {
          "name": "stdout",
          "output_type": "stream",
          "text": [
            "116.05021078278372\n",
            "[-21.55792498   1.01433211]\n"
          ]
        }
      ],
      "source": [
        "# 학습 결과 - 선형 회귀식에서 절편(intercept)과 계수들(coefficients)를 찾음.\n",
        "print(lin_reg2.intercept_)\n",
        "print(lin_reg2.coef_)"
      ]
    },
    {
      "cell_type": "markdown",
      "metadata": {},
      "source": [
        "$$\n",
        "\\hat{y} = 116 - 21.6 \\times x + 1.0 \\times x^2\n",
        "$$"
      ]
    },
    {
      "cell_type": "code",
      "execution_count": 348,
      "metadata": {},
      "outputs": [
        {
          "data": {
            "text/plain": [
              "1536.0"
            ]
          },
          "execution_count": 348,
          "metadata": {},
          "output_type": "execute_result"
        }
      ],
      "source": [
        "116 -21.6 * 50 + 1.0 *(50 **2)"
      ]
    },
    {
      "cell_type": "code",
      "execution_count": 349,
      "metadata": {},
      "outputs": [
        {
          "data": {
            "text/plain": [
              "array([  83.18070434,  132.71260219,   67.61880901,   48.04150559,\n",
              "        654.5393253 ,  211.05965467,  876.66458663,  818.09027497,\n",
              "       1064.55950693,  132.71260219,   90.62455496,  132.71260219,\n",
              "        182.91530629,  290.29593158, 1064.55950693,  876.66458663,\n",
              "        182.91530629,  110.65424646,  290.29593158,  876.66458663,\n",
              "        500.20932803,  257.07992265,  680.52990177,   11.08663218,\n",
              "        149.3605064 ,   20.90606071,  707.0276443 ,  604.07967051,\n",
              "        332.83297906,  169.60388118,  818.09027497,  110.65424646,\n",
              "        156.79962213,  132.71260219, 1131.24847547,  144.50252913,\n",
              "         72.62352767,  707.0276443 ,  132.71260219,  228.92002253,\n",
              "        999.89920261,  579.6105922 ])"
            ]
          },
          "execution_count": 349,
          "metadata": {},
          "output_type": "execute_result"
        }
      ],
      "source": [
        "# 훈련 셋의 예측값\n",
        "train_pred= lin_reg2.predict(X_train_poly)\n",
        "train_pred"
      ]
    },
    {
      "cell_type": "code",
      "execution_count": 350,
      "metadata": {},
      "outputs": [
        {
          "data": {
            "text/plain": [
              "array([  85.,  135.,   78.,   70.,  700.,  180.,  850.,  820., 1000.,\n",
              "        120.,   85.,  130.,  225.,  260., 1100.,  900.,  145.,  115.,\n",
              "        265., 1015.,  514.,  218.,  685.,   32.,  145.,   40.,  690.,\n",
              "        840.,  300.,  170.,  650.,  110.,  150.,  110., 1000.,  150.,\n",
              "         80.,  700.,  120.,  197., 1100.,  556.])"
            ]
          },
          "execution_count": 350,
          "metadata": {},
          "output_type": "execute_result"
        }
      ],
      "source": [
        "y_train"
      ]
    },
    {
      "cell_type": "code",
      "execution_count": 351,
      "metadata": {},
      "outputs": [
        {
          "data": {
            "text/plain": [
              "array([   6.5349146 ,   56.6511646 ,  290.29593158,  117.05874344,\n",
              "        144.50252913,  876.66458663,  382.21135986,  199.55847561,\n",
              "        818.09027497,  110.65424646, 1097.65040817,   33.01314491,\n",
              "        307.66468513,  283.49043666])"
            ]
          },
          "execution_count": 351,
          "metadata": {},
          "output_type": "execute_result"
        }
      ],
      "source": [
        "# 테스트 셋 예측값\n",
        "test_pred = lin_reg2.predict(X_test_poly)\n",
        "test_pred"
      ]
    },
    {
      "cell_type": "code",
      "execution_count": 352,
      "metadata": {},
      "outputs": [
        {
          "name": "stdout",
          "output_type": "stream",
          "text": [
            "[   5.9  100.   250.   130.   130.   820.   320.   188.   900.   125.\n",
            " 1000.    51.5  250.   300. ]\n"
          ]
        }
      ],
      "source": [
        "# 테스트 셋 실젯값\n",
        "print(y_test)"
      ]
    },
    {
      "cell_type": "code",
      "execution_count": 353,
      "metadata": {},
      "outputs": [
        {
          "data": {
            "text/plain": [
              "0.9706807451768623"
            ]
          },
          "execution_count": 353,
          "metadata": {},
          "output_type": "execute_result"
        }
      ],
      "source": [
        "# 훈련 셋 R^2 score\n",
        "lin_reg2.score(X_train_poly, y_train)"
      ]
    },
    {
      "cell_type": "code",
      "execution_count": 354,
      "metadata": {},
      "outputs": [
        {
          "data": {
            "text/plain": [
              "0.9775935108325123"
            ]
          },
          "execution_count": 354,
          "metadata": {},
          "output_type": "execute_result"
        }
      ],
      "source": [
        "# 테스트 셋 R^2 score\n",
        "lin_reg2.score(X_test_poly, y_test)"
      ]
    },
    {
      "cell_type": "code",
      "execution_count": 355,
      "metadata": {},
      "outputs": [
        {
          "data": {
            "image/png": "[encoded data removed]",
            "text/plain": [
              "<Figure size 432x288 with 1 Axes>"
            ]
          },
          "metadata": {
            "needs_background": "light"
          },
          "output_type": "display_data"
        }
      ],
      "source": [
        "# 훈련/ 테스트 셋, (다항) 선형 회귀 모델 시각화\n",
        "plt.scatter(X_train, y_train, alpha=0.5, label=\"train\")\n",
        "plt.scatter(X_test, y_test, alpha=0.5, label=\"test\")\n",
        "\n",
        "# 다항 선형 회귀 곡선 시각화\n",
        "x=np.arange(5, 50, 0.001)\n",
        "w0=lin_reg2.intercept_  # 2차 함수의 y절편\n",
        "w1,w2=lin_reg2.coef_    # 2차 함수의 1차항과 2차항의 계수들\n",
        "y= w0+ w1 * x +w2 * (x**2)\n",
        "\n",
        "plt.plot(x,y, \"r-\", label=\"regression\" )\n",
        "\n",
        "\n",
        "plt.grid()\n",
        "plt.legend()\n",
        "plt.xlabel(\"length (cm)\")\n",
        "plt.ylabel(\"weight (g)\")\n",
        "plt.show()\n"
      ]
    },
    {
      "cell_type": "markdown",
      "metadata": {},
      "source": [
        "# 행렬의 점곱(dot product), 내적(iner product)\n",
        "\n",
        "(n, k) @ (k, m) = (n, m)"
      ]
    },
    {
      "cell_type": "code",
      "execution_count": 356,
      "metadata": {},
      "outputs": [
        {
          "name": "stdout",
          "output_type": "stream",
          "text": [
            "[[1 2]\n",
            " [3 4]\n",
            " [5 6]]\n"
          ]
        }
      ],
      "source": [
        "A =np.arange(1,7).reshape((3,2))\n",
        "print(A) # (3,2)"
      ]
    },
    {
      "cell_type": "code",
      "execution_count": 357,
      "metadata": {},
      "outputs": [
        {
          "name": "stdout",
          "output_type": "stream",
          "text": [
            "[[0 1 2]\n",
            " [1 2 3]]\n"
          ]
        }
      ],
      "source": [
        "B= np.array([[0,1,2],\n",
        "             [1,2,3]])\n",
        "print(B)"
      ]
    },
    {
      "cell_type": "code",
      "execution_count": 358,
      "metadata": {},
      "outputs": [
        {
          "data": {
            "text/plain": [
              "array([[ 2,  5,  8],\n",
              "       [ 4, 11, 18],\n",
              "       [ 6, 17, 28]])"
            ]
          },
          "execution_count": 358,
          "metadata": {},
          "output_type": "execute_result"
        }
      ],
      "source": [
        "# A@B\n",
        "# A.dot(B)\n",
        "np.dot(A,B)"
      ]
    },
    {
      "cell_type": "code",
      "execution_count": 359,
      "metadata": {},
      "outputs": [
        {
          "data": {
            "text/plain": [
              "array([[13, 16],\n",
              "       [22, 28]])"
            ]
          },
          "execution_count": 359,
          "metadata": {},
          "output_type": "execute_result"
        }
      ],
      "source": [
        "B@A"
      ]
    },
    {
      "cell_type": "code",
      "execution_count": 360,
      "metadata": {},
      "outputs": [
        {
          "name": "stdout",
          "output_type": "stream",
          "text": [
            "[[0 1]\n",
            " [2 3]\n",
            " [4 5]]\n"
          ]
        }
      ],
      "source": [
        "A= np.arange(6).reshape((3,2))\n",
        "print(A)"
      ]
    },
    {
      "cell_type": "code",
      "execution_count": 361,
      "metadata": {},
      "outputs": [
        {
          "name": "stdout",
          "output_type": "stream",
          "text": [
            "[1 2]\n"
          ]
        }
      ],
      "source": [
        "w=np.array([1,2])\n",
        "print(w)"
      ]
    },
    {
      "cell_type": "code",
      "execution_count": 362,
      "metadata": {},
      "outputs": [
        {
          "data": {
            "text/plain": [
              "array([ 2,  8, 14])"
            ]
          },
          "execution_count": 362,
          "metadata": {},
          "output_type": "execute_result"
        }
      ],
      "source": [
        "A@w"
      ]
    },
    {
      "cell_type": "code",
      "execution_count": 363,
      "metadata": {},
      "outputs": [
        {
          "data": {
            "text/plain": [
              "((14, 2), (2,))"
            ]
          },
          "execution_count": 363,
          "metadata": {},
          "output_type": "execute_result"
        }
      ],
      "source": [
        "X_test_poly.shape, lin_reg2.coef_.shape"
      ]
    },
    {
      "cell_type": "code",
      "execution_count": 364,
      "metadata": {},
      "outputs": [
        {
          "data": {
            "text/plain": [
              "array([   6.5349146 ,   56.6511646 ,  290.29593158,  117.05874344,\n",
              "        144.50252913,  876.66458663,  382.21135986,  199.55847561,\n",
              "        818.09027497,  110.65424646, 1097.65040817,   33.01314491,\n",
              "        307.66468513,  283.49043666])"
            ]
          },
          "execution_count": 364,
          "metadata": {},
          "output_type": "execute_result"
        }
      ],
      "source": [
        "lin_reg2.intercept_ + X_test_poly @ lin_reg2.coef_  # w0+X*w1"
      ]
    },
    {
      "cell_type": "markdown",
      "metadata": {},
      "source": [
        "# PolynomialFeatures 변환기"
      ]
    },
    {
      "cell_type": "markdown",
      "metadata": {},
      "source": [
        "scikit-learn 클래스\n",
        "\n",
        "* Estimator(추정기, 예측기) 클래스\n",
        "    * 머신 러닝 알고리즘을 구현한 클래스\n",
        "    * `fit, predict, score` 메서드를 가지고 있음.\n",
        "    * `KNeighborsClassfier, KNeighborRegressor, LinearRegression`, ...\n",
        "\n",
        "* Transformer(변환기) 클래스\n",
        "    * 전처리(preprocessing) 과정에서(모델을 훈련시키기 전에) 훈련 셋과 테스트 셋의 데이터들을 변환할 때 사용하는 클래스.\n",
        "    * "
      ]
    }
  ],
  "metadata": {
    "colab": {
      "authorship_tag": "ABX9TyMIPaC5f6GA37Jxzc5KgKNh",
      "collapsed_sections": [],
      "include_colab_link": true,
      "name": "ml05_regression.ipynb",
      "provenance": []
    },
    "kernelspec": {
      "display_name": "Python 3",
      "name": "python3"
    },
    "language_info": {
      "codemirror_mode": {
        "name": "ipython",
        "version": 3
      },
      "file_extension": ".py",
      "mimetype": "text/x-python",
      "name": "python",
      "nbconvert_exporter": "python",
      "pygments_lexer": "ipython3",
      "version": "3.9.7"
    }
  },
  "nbformat": 4,
  "nbformat_minor": 0
}
