{
  "cells": [
    {
      "cell_type": "markdown",
      "metadata": {
        "colab_type": "text",
        "id": "view-in-github"
      },
      "source": [
        "<a href=\"https://colab.research.google.com/github/JakeOh/202110_itw_lab_python/blob/main/ml05_regression.ipynb\" target=\"_parent\"><img src=\"https://colab.research.google.com/assets/colab-badge.svg\" alt=\"Open In Colab\"/></a>"
      ]
    },
    {
      "cell_type": "markdown",
      "metadata": {
        "id": "FSuAjo01Rfiz"
      },
      "source": [
        "Machine Learning(기계 학습)\n",
        "\n",
        "* __지도 학습(supervised learning)__: 레이블이 있는 데이터로 모델을 훈련시키는 것.\n",
        "    * __분류(classification)__: 클래스를 분류.\n",
        "    * __회귀(regression)__: 숫자 값을 예측.\n",
        "* __비지도 학습(unsupervised learning)__: 레이블이 없는 데이터로 모델을 훈련시키는 것.\n",
        "* __강화 학습(reinforcement learning)__: 보상과 벌칙을 통해서 학습(훈련)."
      ]
    },
    {
      "cell_type": "markdown",
      "metadata": {
        "id": "s9fxT74fUzXb"
      },
      "source": [
        "# 문제 정의 \n",
        "\n",
        "fish 데이터 셋에서 농어(Perch)의 무게(Weight)를 예측.\n",
        "* 농어의 길이(Length)로만 무게(Weight)를 예측.\n",
        "* 농어의 여러가지 특성들(Length, Diagonal, ...)로 무게(Weight)를 예측"
      ]
    },
    {
      "cell_type": "markdown",
      "metadata": {
        "id": "dMS5vXaBWDbb"
      },
      "source": [
        "# imports"
      ]
    },
    {
      "cell_type": "code",
      "execution_count": 86,
      "metadata": {
        "id": "Ltx55_ItRYls"
      },
      "outputs": [],
      "source": [
        "import numpy as np\n",
        "import pandas as pd\n",
        "import matplotlib.pyplot as plt\n",
        "import seaborn as sns\n",
        "\n",
        "from sklearn.model_selection import train_test_split\n",
        "from sklearn.neighbors import KNeighborsRegressor  # KNN 알고리즘을 사용한 예측기\n",
        "from sklearn.linear_model import LinearRegression  # 선형회귀 알고리즘을 사용한 예측기\n",
        "from sklearn.metrics import mean_squared_error, mean_absolute_error, r2_score  # 회귀 문제에서의 평가 지표\n",
        "from sklearn.preprocessing import PolynomialFeatures, StandardScaler  # 전처리 변환기 클래스\n",
        "from sklearn.pipeline import Pipeline  # 변환기와 추정기(예측기)를 연결해 주는 클래스"
      ]
    },
    {
      "cell_type": "markdown",
      "metadata": {
        "id": "-uf_DzgZYc0r"
      },
      "source": [
        "# 데이터 준비"
      ]
    },
    {
      "cell_type": "code",
      "execution_count": 87,
      "metadata": {
        "id": "C0fQ1qn7YS2E"
      },
      "outputs": [],
      "source": [
        "fish_csv = 'https://github.com/JakeOh/202110_itw_lab_python/raw/main/fish.csv'"
      ]
    },
    {
      "cell_type": "code",
      "execution_count": 88,
      "metadata": {
        "id": "AGOi3kr9Yu5i"
      },
      "outputs": [],
      "source": [
        "fish = pd.read_csv(fish_csv)"
      ]
    },
    {
      "cell_type": "code",
      "execution_count": 89,
      "metadata": {
        "colab": {
          "base_uri": "https://localhost:8080/"
        },
        "id": "u8OHa5wAY2eS",
        "outputId": "b789a5ee-cfcc-4574-8bd3-9285582639b3"
      },
      "outputs": [
        {
          "name": "stdout",
          "output_type": "stream",
          "text": [
            "<class 'pandas.core.frame.DataFrame'>\n",
            "RangeIndex: 159 entries, 0 to 158\n",
            "Data columns (total 6 columns):\n",
            " #   Column    Non-Null Count  Dtype  \n",
            "---  ------    --------------  -----  \n",
            " 0   Species   159 non-null    object \n",
            " 1   Weight    159 non-null    float64\n",
            " 2   Length    159 non-null    float64\n",
            " 3   Diagonal  159 non-null    float64\n",
            " 4   Height    159 non-null    float64\n",
            " 5   Width     159 non-null    float64\n",
            "dtypes: float64(5), object(1)\n",
            "memory usage: 7.6+ KB\n"
          ]
        }
      ],
      "source": [
        "fish.info()"
      ]
    },
    {
      "cell_type": "code",
      "execution_count": 90,
      "metadata": {
        "colab": {
          "base_uri": "https://localhost:8080/",
          "height": 206
        },
        "id": "mukxlscAY4Nh",
        "outputId": "a21a12d5-9ca4-4bea-cba5-afdaf840d8cf"
      },
      "outputs": [
        {
          "data": {
            "text/html": [
              "<div>\n",
              "<style scoped>\n",
              "    .dataframe tbody tr th:only-of-type {\n",
              "        vertical-align: middle;\n",
              "    }\n",
              "\n",
              "    .dataframe tbody tr th {\n",
              "        vertical-align: top;\n",
              "    }\n",
              "\n",
              "    .dataframe thead th {\n",
              "        text-align: right;\n",
              "    }\n",
              "</style>\n",
              "<table border=\"1\" class=\"dataframe\">\n",
              "  <thead>\n",
              "    <tr style=\"text-align: right;\">\n",
              "      <th></th>\n",
              "      <th>Species</th>\n",
              "      <th>Weight</th>\n",
              "      <th>Length</th>\n",
              "      <th>Diagonal</th>\n",
              "      <th>Height</th>\n",
              "      <th>Width</th>\n",
              "    </tr>\n",
              "  </thead>\n",
              "  <tbody>\n",
              "    <tr>\n",
              "      <th>0</th>\n",
              "      <td>Bream</td>\n",
              "      <td>242.0</td>\n",
              "      <td>25.4</td>\n",
              "      <td>30.0</td>\n",
              "      <td>11.5200</td>\n",
              "      <td>4.0200</td>\n",
              "    </tr>\n",
              "    <tr>\n",
              "      <th>1</th>\n",
              "      <td>Bream</td>\n",
              "      <td>290.0</td>\n",
              "      <td>26.3</td>\n",
              "      <td>31.2</td>\n",
              "      <td>12.4800</td>\n",
              "      <td>4.3056</td>\n",
              "    </tr>\n",
              "    <tr>\n",
              "      <th>2</th>\n",
              "      <td>Bream</td>\n",
              "      <td>340.0</td>\n",
              "      <td>26.5</td>\n",
              "      <td>31.1</td>\n",
              "      <td>12.3778</td>\n",
              "      <td>4.6961</td>\n",
              "    </tr>\n",
              "    <tr>\n",
              "      <th>3</th>\n",
              "      <td>Bream</td>\n",
              "      <td>363.0</td>\n",
              "      <td>29.0</td>\n",
              "      <td>33.5</td>\n",
              "      <td>12.7300</td>\n",
              "      <td>4.4555</td>\n",
              "    </tr>\n",
              "    <tr>\n",
              "      <th>4</th>\n",
              "      <td>Bream</td>\n",
              "      <td>430.0</td>\n",
              "      <td>29.0</td>\n",
              "      <td>34.0</td>\n",
              "      <td>12.4440</td>\n",
              "      <td>5.1340</td>\n",
              "    </tr>\n",
              "  </tbody>\n",
              "</table>\n",
              "</div>"
            ],
            "text/plain": [
              "  Species  Weight  Length  Diagonal   Height   Width\n",
              "0   Bream   242.0    25.4      30.0  11.5200  4.0200\n",
              "1   Bream   290.0    26.3      31.2  12.4800  4.3056\n",
              "2   Bream   340.0    26.5      31.1  12.3778  4.6961\n",
              "3   Bream   363.0    29.0      33.5  12.7300  4.4555\n",
              "4   Bream   430.0    29.0      34.0  12.4440  5.1340"
            ]
          },
          "execution_count": 90,
          "metadata": {},
          "output_type": "execute_result"
        }
      ],
      "source": [
        "fish.head()"
      ]
    },
    {
      "cell_type": "code",
      "execution_count": 91,
      "metadata": {
        "id": "Fkg_3VocZQGj"
      },
      "outputs": [],
      "source": [
        "# fish 데이터프레임에서 Perch(농어)만 선택\n",
        "perch = fish[fish['Species'] == 'Perch']"
      ]
    },
    {
      "cell_type": "code",
      "execution_count": 92,
      "metadata": {
        "colab": {
          "base_uri": "https://localhost:8080/"
        },
        "id": "FUyXaYexZsXC",
        "outputId": "96b729c4-e4fd-4e35-86ee-768a24354977"
      },
      "outputs": [
        {
          "name": "stdout",
          "output_type": "stream",
          "text": [
            "<class 'pandas.core.frame.DataFrame'>\n",
            "Int64Index: 56 entries, 72 to 127\n",
            "Data columns (total 6 columns):\n",
            " #   Column    Non-Null Count  Dtype  \n",
            "---  ------    --------------  -----  \n",
            " 0   Species   56 non-null     object \n",
            " 1   Weight    56 non-null     float64\n",
            " 2   Length    56 non-null     float64\n",
            " 3   Diagonal  56 non-null     float64\n",
            " 4   Height    56 non-null     float64\n",
            " 5   Width     56 non-null     float64\n",
            "dtypes: float64(5), object(1)\n",
            "memory usage: 3.1+ KB\n"
          ]
        }
      ],
      "source": [
        "perch.info()"
      ]
    },
    {
      "cell_type": "code",
      "execution_count": 93,
      "metadata": {
        "colab": {
          "base_uri": "https://localhost:8080/",
          "height": 206
        },
        "id": "m_VkyjK2ZthB",
        "outputId": "fd9c499e-a1b8-4546-d2a7-c44bda166abc"
      },
      "outputs": [
        {
          "data": {
            "text/html": [
              "<div>\n",
              "<style scoped>\n",
              "    .dataframe tbody tr th:only-of-type {\n",
              "        vertical-align: middle;\n",
              "    }\n",
              "\n",
              "    .dataframe tbody tr th {\n",
              "        vertical-align: top;\n",
              "    }\n",
              "\n",
              "    .dataframe thead th {\n",
              "        text-align: right;\n",
              "    }\n",
              "</style>\n",
              "<table border=\"1\" class=\"dataframe\">\n",
              "  <thead>\n",
              "    <tr style=\"text-align: right;\">\n",
              "      <th></th>\n",
              "      <th>Species</th>\n",
              "      <th>Weight</th>\n",
              "      <th>Length</th>\n",
              "      <th>Diagonal</th>\n",
              "      <th>Height</th>\n",
              "      <th>Width</th>\n",
              "    </tr>\n",
              "  </thead>\n",
              "  <tbody>\n",
              "    <tr>\n",
              "      <th>72</th>\n",
              "      <td>Perch</td>\n",
              "      <td>5.9</td>\n",
              "      <td>8.4</td>\n",
              "      <td>8.8</td>\n",
              "      <td>2.1120</td>\n",
              "      <td>1.4080</td>\n",
              "    </tr>\n",
              "    <tr>\n",
              "      <th>73</th>\n",
              "      <td>Perch</td>\n",
              "      <td>32.0</td>\n",
              "      <td>13.7</td>\n",
              "      <td>14.7</td>\n",
              "      <td>3.5280</td>\n",
              "      <td>1.9992</td>\n",
              "    </tr>\n",
              "    <tr>\n",
              "      <th>74</th>\n",
              "      <td>Perch</td>\n",
              "      <td>40.0</td>\n",
              "      <td>15.0</td>\n",
              "      <td>16.0</td>\n",
              "      <td>3.8240</td>\n",
              "      <td>2.4320</td>\n",
              "    </tr>\n",
              "    <tr>\n",
              "      <th>75</th>\n",
              "      <td>Perch</td>\n",
              "      <td>51.5</td>\n",
              "      <td>16.2</td>\n",
              "      <td>17.2</td>\n",
              "      <td>4.5924</td>\n",
              "      <td>2.6316</td>\n",
              "    </tr>\n",
              "    <tr>\n",
              "      <th>76</th>\n",
              "      <td>Perch</td>\n",
              "      <td>70.0</td>\n",
              "      <td>17.4</td>\n",
              "      <td>18.5</td>\n",
              "      <td>4.5880</td>\n",
              "      <td>2.9415</td>\n",
              "    </tr>\n",
              "  </tbody>\n",
              "</table>\n",
              "</div>"
            ],
            "text/plain": [
              "   Species  Weight  Length  Diagonal  Height   Width\n",
              "72   Perch     5.9     8.4       8.8  2.1120  1.4080\n",
              "73   Perch    32.0    13.7      14.7  3.5280  1.9992\n",
              "74   Perch    40.0    15.0      16.0  3.8240  2.4320\n",
              "75   Perch    51.5    16.2      17.2  4.5924  2.6316\n",
              "76   Perch    70.0    17.4      18.5  4.5880  2.9415"
            ]
          },
          "execution_count": 93,
          "metadata": {},
          "output_type": "execute_result"
        }
      ],
      "source": [
        "perch.head()"
      ]
    },
    {
      "cell_type": "markdown",
      "metadata": {
        "id": "vas-viVtd-uK"
      },
      "source": [
        "농어(perch)의 길이(Length)를 알면 무게(Weight)를 예측할 수 있을까?\n",
        "\n",
        "* 관심 변수, 종속 변수(label, target) - Weight --> 1차원 배열\n",
        "* 독립 변수, 특성(features) - Length --> (컬럼이 1개인) 2차원 배열"
      ]
    },
    {
      "cell_type": "code",
      "execution_count": 94,
      "metadata": {
        "colab": {
          "base_uri": "https://localhost:8080/"
        },
        "id": "5dFvjKrZff_3",
        "outputId": "da1d1f92-cebb-4e3a-c90d-46710a168c7f"
      },
      "outputs": [
        {
          "data": {
            "text/plain": [
              "array([[ 8.4],\n",
              "       [13.7],\n",
              "       [15. ],\n",
              "       [16.2],\n",
              "       [17.4]])"
            ]
          },
          "execution_count": 94,
          "metadata": {},
          "output_type": "execute_result"
        }
      ],
      "source": [
        "X = perch[['Length']].values  # (컬럼이 1개인) 2차원 배열로 만들기 위해서\n",
        "X[:5, :]"
      ]
    },
    {
      "cell_type": "code",
      "execution_count": 95,
      "metadata": {
        "colab": {
          "base_uri": "https://localhost:8080/"
        },
        "id": "bCcXIJEpgR78",
        "outputId": "9d2a46e7-6750-4b18-984c-b6db9219bfeb"
      },
      "outputs": [
        {
          "data": {
            "text/plain": [
              "array([ 5.9, 32. , 40. , 51.5, 70. ])"
            ]
          },
          "execution_count": 95,
          "metadata": {},
          "output_type": "execute_result"
        }
      ],
      "source": [
        "y = perch['Weight'].values  # 1차원 배열\n",
        "y[:5]"
      ]
    },
    {
      "cell_type": "markdown",
      "metadata": {
        "id": "OiVxuwcUgmfk"
      },
      "source": [
        "# 훈련/테스트 셋 분리"
      ]
    },
    {
      "cell_type": "code",
      "execution_count": 96,
      "metadata": {
        "id": "RkfgOroEgqDZ"
      },
      "outputs": [],
      "source": [
        "X_train, X_test, y_train, y_test = train_test_split(X, y,\n",
        "                                                    test_size=0.25,\n",
        "                                                    random_state=42)"
      ]
    },
    {
      "cell_type": "code",
      "execution_count": 97,
      "metadata": {
        "colab": {
          "base_uri": "https://localhost:8080/"
        },
        "id": "PldQziYehcLU",
        "outputId": "13f72686-d26a-4daf-a342-675b6a6ffdc6"
      },
      "outputs": [
        {
          "data": {
            "text/plain": [
              "((42, 1), (14, 1))"
            ]
          },
          "execution_count": 97,
          "metadata": {},
          "output_type": "execute_result"
        }
      ],
      "source": [
        "X_train.shape, X_test.shape"
      ]
    },
    {
      "cell_type": "code",
      "execution_count": 98,
      "metadata": {
        "colab": {
          "base_uri": "https://localhost:8080/"
        },
        "id": "eePvoLt0hf1x",
        "outputId": "74a4eac6-65b7-461c-b2d6-7390ae247c93"
      },
      "outputs": [
        {
          "data": {
            "text/plain": [
              "((42,), (14,))"
            ]
          },
          "execution_count": 98,
          "metadata": {},
          "output_type": "execute_result"
        }
      ],
      "source": [
        "y_train.shape, y_test.shape"
      ]
    },
    {
      "cell_type": "markdown",
      "metadata": {
        "id": "_-Av4KkNh6BB"
      },
      "source": [
        "훈련 셋/테스트 셋 시각화(Weight ~ Length 산점도)"
      ]
    },
    {
      "cell_type": "code",
      "execution_count": 99,
      "metadata": {
        "colab": {
          "base_uri": "https://localhost:8080/",
          "height": 279
        },
        "id": "lrS36qitiAOx",
        "outputId": "146cdbba-41de-4301-c5d2-0cbe6eaa0b42"
      },
      "outputs": [
        {
          "data": {
            "image/png": "[encoded data removed]",
            "text/plain": [
              "<Figure size 432x288 with 1 Axes>"
            ]
          },
          "metadata": {
            "needs_background": "light"
          },
          "output_type": "display_data"
        }
      ],
      "source": [
        "plt.scatter(X_train, y_train, label='train', alpha=0.5)\n",
        "plt.scatter(X_test, y_test, label='test', alpha=0.5)\n",
        "\n",
        "plt.grid()\n",
        "plt.xlabel('Length (cm)')\n",
        "plt.ylabel('Weight (g)')\n",
        "plt.legend()\n",
        "plt.show()"
      ]
    },
    {
      "cell_type": "markdown",
      "metadata": {
        "id": "x5m3cn5pkNJh"
      },
      "source": [
        "# KNN Regressor 모델 훈련, 평가\n",
        "\n",
        "KNN Regressor: 가장 가까운 k개의 이웃들의 레이블(타겟)의 평균값으로 숫자를 예측."
      ]
    },
    {
      "cell_type": "code",
      "execution_count": 100,
      "metadata": {
        "id": "NVsaVSrTkfnB"
      },
      "outputs": [],
      "source": [
        "knn_reg = KNeighborsRegressor()  # k=5 인 모델 생성"
      ]
    },
    {
      "cell_type": "code",
      "execution_count": 101,
      "metadata": {
        "colab": {
          "base_uri": "https://localhost:8080/"
        },
        "id": "V3q3QZzHkwKB",
        "outputId": "d529d9b3-dcc0-4e04-b556-78b662c239a0"
      },
      "outputs": [
        {
          "data": {
            "text/plain": [
              "KNeighborsRegressor()"
            ]
          },
          "execution_count": 101,
          "metadata": {},
          "output_type": "execute_result"
        }
      ],
      "source": [
        "knn_reg.fit(X_train, y_train)  # 모델 학습"
      ]
    },
    {
      "cell_type": "code",
      "execution_count": 102,
      "metadata": {
        "colab": {
          "base_uri": "https://localhost:8080/"
        },
        "id": "FxnM3s-hk5xo",
        "outputId": "27eb3b57-4529-49bb-95e4-91e9c3cf9298"
      },
      "outputs": [
        {
          "data": {
            "text/plain": [
              "array([  88.6,  123. ,   79.6,   70.6,  723. ,  193. ,  847. ,  847. ,\n",
              "       1010. ,  123. ,   95. ,  123. ,  174. ,  248. , 1010. ,  847. ,\n",
              "        174. ,  113. ,  248. ,  847. ,  659. ,  224. ,  723. ,   60. ,\n",
              "        140. ,   60. ,  719. ,  694.2,  248. ,  167. ,  847. ,  113. ,\n",
              "        168. ,  123. , 1010. ,  136. ,   79.6,  719. ,  123. ,  193. ,\n",
              "        990. ,  659. ])"
            ]
          },
          "execution_count": 102,
          "metadata": {},
          "output_type": "execute_result"
        }
      ],
      "source": [
        "# 학습된 훈련 셋의 예측값\n",
        "train_pred = knn_reg.predict(X_train)\n",
        "train_pred"
      ]
    },
    {
      "cell_type": "code",
      "execution_count": 103,
      "metadata": {
        "colab": {
          "base_uri": "https://localhost:8080/"
        },
        "id": "FNE5kwqllGvp",
        "outputId": "519e5c40-15b0-4368-aa8d-4f44034900d1"
      },
      "outputs": [
        {
          "data": {
            "text/plain": [
              "array([  85.,  135.,   78.,   70.,  700.,  180.,  850.,  820., 1000.,\n",
              "        120.,   85.,  130.,  225.,  260., 1100.,  900.,  145.,  115.,\n",
              "        265., 1015.,  514.,  218.,  685.,   32.,  145.,   40.,  690.,\n",
              "        840.,  300.,  170.,  650.,  110.,  150.,  110., 1000.,  150.,\n",
              "         80.,  700.,  120.,  197., 1100.,  556.])"
            ]
          },
          "execution_count": 103,
          "metadata": {},
          "output_type": "execute_result"
        }
      ],
      "source": [
        "# 훈련 셋의 실젯값(레이블)\n",
        "y_train"
      ]
    },
    {
      "cell_type": "markdown",
      "metadata": {
        "id": "DL5C3E12mvcB"
      },
      "source": [
        "## 회귀 문제에서의 평가 지표:\n",
        "\n",
        "* 기호 정의\n",
        "    * $y_i$: $i$번째 샘플의 실젯값(label)\n",
        "    * $\\hat{y_i}$: $i$번째 샘플의 예측값\n",
        "    * $\\bar{y}$: 타겟의 평균값\n",
        "    * $n$: 샘플 개수\n",
        "\n",
        "* MSE(Mean Squared Errors): 오차들의 제곱의 평균\n",
        "$$\n",
        "MSE = \\frac{1}{n} \\sum_{i=1}^{n} (y_i - \\hat{y_i})^2\n",
        "$$\n",
        "\n",
        "* RMSE(Root Mean Squared Errors): MSE의 제곱근\n",
        "$$\n",
        "RMSE = \\sqrt{ \\frac{1}{n} \\sum_{i=1}^{n} (y_i - \\hat{y_i})^2 }\n",
        "$$\n",
        "\n",
        "* MAE(Mean Absolute Errors): 오차들의 절대값의 평균\n",
        "$$\n",
        "MAE = \\frac{1}{n} \\sum_{i=1}^{n} \\lvert y_i - \\hat{y_i} \\rvert\n",
        "$$\n",
        "\n",
        "* $R^2$ score(결정 계수, coefficient of determinant)\n",
        "$$\n",
        "R^2 = 1 - \\frac{ \\sum_{i=1}^{n} (y_i - \\hat{y_i})^2 }\n",
        "                { \\sum_{i=1}^{n} (y_i - \\bar{y})^2 }\n",
        "$$\n",
        "\n",
        "    * 일반적인 평가 지표는 점수가 높을 수록 좋은 모델, 점수가 낮을 수록 나쁜 모델.\n",
        "    * 그런데, 회귀 문제에서는 오차(MSE, MAE)는 작을 수록 좋은 모델이고, 오차가 클 수록 나쁜 모델.\n",
        "    * 회귀 문제에서도 점수가 높을 수록 좋은 모델이고 점수가 낮을 수록 나쁜 모델이라고 평가할 수 있는 지표가 필요. --> $R^2$ score(결정 계수)\n",
        "    * 결정 계수는 최댓값이 1이 되도록 만든 평가 지표.\n",
        "    * 모델이 타겟을 오차없이 정확하게 예측한다면 실제값 - 예측값 = 0 이므로, 결정 계수는 최댓값이 1이 됨.\n",
        "    * 모델이 타겟을 매우 비슷하게 예측한다면(즉, 오차가 매우 작다면) 분자가 0에 가까운 값이 되므로, 결정 계수는 1보다는 작지만 1에 가까운 값이 됨.\n",
        "    * 모델이 타겟의 평균으로만 예측하는 정도라면 분자 = 분모 이므로, 결정 계수는 0이 됨.\n",
        "    * 모델이 타겟의 평균 정도도 예측하지 못하는 모델이라면(오차가 매우 크다면), 분자 > 분모 일 수 있고, 그런 경우 결정 계수는 음수가 될 수 있음.\n",
        "    * 즉, 결정 계수는 1에 가까울 수록 오차가 작은 좋은 예측 모델이고, 숫자가 작아질 수록 오차가 큰 나쁜 예측 모델임."
      ]
    },
    {
      "cell_type": "code",
      "execution_count": 104,
      "metadata": {
        "colab": {
          "base_uri": "https://localhost:8080/"
        },
        "id": "Xp3nnhcllVm4",
        "outputId": "a4af6265-4b74-48b8-a8cf-72ebd316e6ca"
      },
      "outputs": [
        {
          "data": {
            "text/plain": [
              "60.96323638453089"
            ]
          },
          "execution_count": 104,
          "metadata": {},
          "output_type": "execute_result"
        }
      ],
      "source": [
        "# 훈련 셋의 MSE, RMSE\n",
        "train_mse = mean_squared_error(y_train, train_pred)\n",
        "train_rmse = np.sqrt(train_mse)\n",
        "train_rmse"
      ]
    },
    {
      "cell_type": "code",
      "execution_count": 105,
      "metadata": {
        "colab": {
          "base_uri": "https://localhost:8080/"
        },
        "id": "2yv5Si50oUa6",
        "outputId": "08b7b720-5cc0-4efb-ddcd-742977ad87e6"
      },
      "outputs": [
        {
          "data": {
            "text/plain": [
              "35.76190476190476"
            ]
          },
          "execution_count": 105,
          "metadata": {},
          "output_type": "execute_result"
        }
      ],
      "source": [
        "# 훈련 셋의 MAE\n",
        "mean_absolute_error(y_train, train_pred)"
      ]
    },
    {
      "cell_type": "code",
      "execution_count": 106,
      "metadata": {
        "colab": {
          "base_uri": "https://localhost:8080/"
        },
        "id": "qLTMGYiWosFw",
        "outputId": "aaa619a5-7afe-4615-eaef-fa717ba3808e"
      },
      "outputs": [
        {
          "name": "stdout",
          "output_type": "stream",
          "text": [
            "[  60.    79.6  248.   122.   136.   847.   311.4  183.4  847.   113.\n",
            " 1010.    60.   248.   248. ]\n",
            "[   5.9  100.   250.   130.   130.   820.   320.   188.   900.   125.\n",
            " 1000.    51.5  250.   300. ]\n",
            "26.865192562655704\n"
          ]
        }
      ],
      "source": [
        "# 테스트 셋의 예측값\n",
        "test_pred = knn_reg.predict(X_test)\n",
        "print(test_pred)\n",
        "print(y_test)  # 테스트 셋 실젯값\n",
        "\n",
        "# 테스트 셋의 RMSE\n",
        "test_mse = mean_squared_error(y_test, test_pred)\n",
        "test_rmse = np.sqrt(test_mse)\n",
        "print(test_rmse)"
      ]
    },
    {
      "cell_type": "code",
      "execution_count": 107,
      "metadata": {
        "colab": {
          "base_uri": "https://localhost:8080/"
        },
        "id": "Q0BkxTL4xvY4",
        "outputId": "159cc32b-b2b1-4feb-9dbf-ec305c50f00c"
      },
      "outputs": [
        {
          "name": "stdout",
          "output_type": "stream",
          "text": [
            "훈련 셋 R2: 0.9698823289099254\n",
            "테스트 셋 R2: 0.992809406101064\n"
          ]
        }
      ],
      "source": [
        "# 훈련 셋의 R^2(결정 계수)\n",
        "train_r2 = r2_score(y_train, train_pred)\n",
        "print('훈련 셋 R2:', train_r2)\n",
        "\n",
        "# 테스트 셋의 R^2\n",
        "test_r2 = r2_score(y_test, test_pred)\n",
        "print('테스트 셋 R2:', test_r2)"
      ]
    },
    {
      "cell_type": "code",
      "execution_count": 108,
      "metadata": {
        "colab": {
          "base_uri": "https://localhost:8080/"
        },
        "id": "X9n8PdNUzFlw",
        "outputId": "b59cc1cc-9599-49d6-b9d9-bf1b75f535c6"
      },
      "outputs": [
        {
          "data": {
            "text/plain": [
              "0.992809406101064"
            ]
          },
          "execution_count": 108,
          "metadata": {},
          "output_type": "execute_result"
        }
      ],
      "source": [
        "knn_reg.score(X_test, y_test)  #> score 메서드의 리턴값: R^2 score"
      ]
    },
    {
      "cell_type": "markdown",
      "metadata": {
        "id": "yF2yNUPLcwkY"
      },
      "source": [
        "# 모델 튜닝\n",
        "\n",
        "k값 변화에 따른 훈련 셋과 테스트 셋에서의 $R^2$ score 변화 시각화"
      ]
    },
    {
      "cell_type": "code",
      "execution_count": 109,
      "metadata": {
        "colab": {
          "base_uri": "https://localhost:8080/"
        },
        "id": "Et64dkrg0xLA",
        "outputId": "0b9307f9-da22-42ed-f186-ae81cfac6b43"
      },
      "outputs": [
        {
          "name": "stdout",
          "output_type": "stream",
          "text": [
            "[0.9852830341215901, 0.9828437127041165, 0.9804899950518966, 0.978211389719245, 0.9698823289099254, 0.9757140960298665, 0.9761170732051527, 0.9697604397763201, 0.9693310367551284, 0.96164569026043, 0.9515761381539326, 0.9467103631225754, 0.9413423450130075, 0.9429470576557883, 0.930201118360776]\n",
            "[0.991309195814175, 0.9725010241788556, 0.9746459963987609, 0.9840231023848637, 0.992809406101064, 0.9855001139899048, 0.9781383949643516, 0.9780541148735824, 0.9692647749722698, 0.9737908255822255, 0.970279643030474, 0.967703620310643, 0.9639044643206888, 0.9615046463124021, 0.9554827691127018]\n"
          ]
        }
      ],
      "source": [
        "k_values = np.arange(1, 16)\n",
        "train_scores = []  # 훈련 셋의 R^2 score를 저장할 리스트\n",
        "test_scores = []  # 테스트 셋의 R^2 score를 저장할 리스트\n",
        "\n",
        "for k in k_values:\n",
        "    knn = KNeighborsRegressor(n_neighbors=k)  # KNN 예측기 모델 생성\n",
        "    knn.fit(X_train, y_train)  # 모델 훈련\n",
        "    train_r2 = knn.score(X_train, y_train)  # 훈련 셋에서의 R^2 score\n",
        "    train_scores.append(train_r2)\n",
        "    test_r2 = knn.score(X_test, y_test)  # 테스트 셋에서의 R^2 score\n",
        "    test_scores.append(test_r2)\n",
        "\n",
        "print(train_scores)\n",
        "print(test_scores)"
      ]
    },
    {
      "cell_type": "code",
      "execution_count": 110,
      "metadata": {
        "colab": {
          "base_uri": "https://localhost:8080/",
          "height": 279
        },
        "id": "mNOZjF5zezny",
        "outputId": "6022d80b-a602-4220-c516-5162894689c2"
      },
      "outputs": [
        {
          "data": {
            "image/png": "[encoded data removed]",
            "text/plain": [
              "<Figure size 432x288 with 1 Axes>"
            ]
          },
          "metadata": {
            "needs_background": "light"
          },
          "output_type": "display_data"
        }
      ],
      "source": [
        "plt.plot(k_values, train_scores, 'bo-', label='train $R^2$ score')\n",
        "plt.plot(k_values, test_scores, 'ro:', label='test $R^2$ scores')\n",
        "\n",
        "plt.grid()\n",
        "plt.xlabel('k (# of nearest neighbors)')\n",
        "plt.ylabel('$R^2$ score')\n",
        "plt.legend()\n",
        "plt.show()"
      ]
    },
    {
      "cell_type": "markdown",
      "metadata": {
        "id": "-AS3cwVRk0uo"
      },
      "source": [
        "# KNN Regressor의 문제점"
      ]
    },
    {
      "cell_type": "code",
      "execution_count": 111,
      "metadata": {
        "colab": {
          "base_uri": "https://localhost:8080/",
          "height": 279
        },
        "id": "6r8zBbMdfreI",
        "outputId": "fb9adb6f-0171-4ede-fbe5-d1be29122917"
      },
      "outputs": [
        {
          "data": {
            "image/png": "[encoded data removed]",
            "text/plain": [
              "<Figure size 432x288 with 1 Axes>"
            ]
          },
          "metadata": {
            "needs_background": "light"
          },
          "output_type": "display_data"
        }
      ],
      "source": [
        "# 훈련 셋 시각화\n",
        "plt.scatter(X_train, y_train, label='train set', alpha=0.5)\n",
        "\n",
        "# 길이는 50cm, 무게가 1500g인 가상의 농어(perch) 한 마리\n",
        "test_fish_length = [[50]]  # 특성 배열: (n_sample, n_feature) shape의 2차원 배열\n",
        "test_fish_weight = [1500]  # 레이블 배열: (n_sample,) shape의 1차원 배열\n",
        "plt.scatter(test_fish_length, test_fish_weight, marker='v', color='red')\n",
        "\n",
        "plt.legend()\n",
        "plt.grid()\n",
        "plt.xlabel('Length(cm)')\n",
        "plt.ylabel('Weight(g)')\n",
        "plt.show()"
      ]
    },
    {
      "cell_type": "code",
      "execution_count": 112,
      "metadata": {
        "colab": {
          "base_uri": "https://localhost:8080/"
        },
        "id": "uP_9fNmunmYo",
        "outputId": "8227c99d-dae2-4fe0-f696-5cfa5688c551"
      },
      "outputs": [
        {
          "name": "stdout",
          "output_type": "stream",
          "text": [
            "[1033.33333333]\n"
          ]
        }
      ],
      "source": [
        "# k=3인 KNN regressor 생성, 훈련, 예측\n",
        "knn = KNeighborsRegressor(n_neighbors=3)  # 모델 생성\n",
        "knn.fit(X_train, y_train)  # 모델 훈련\n",
        "prediction = knn.predict(test_fish_length)  # 길이 50cm인 가상의 농어의 무게 예측값\n",
        "print(prediction)"
      ]
    },
    {
      "cell_type": "markdown",
      "metadata": {
        "id": "ckjnkjMrpEjv"
      },
      "source": [
        "* 머신 러닝 알고리즘\n",
        "    * 사례 기반 학습(instance-based learning): KNN\n",
        "        * 샘플들의 다수결 또는 평균으로 예측하는 알고리즘.\n",
        "        * 특별한 수학적인 모델링이 사용되지 않는 알고리즘.\n",
        "        * 장점: 이해하기 쉽다.\n",
        "        * 단점: 이상치(outlier)에 대한 예측값은 매우 나쁘다.\n",
        "    * 모델 기반 학습(model-based learning): Linear Regression\n",
        "        * 훈련 셋에서 수학적인 모델(공식)을 추론해서 예측하는 알고리즘."
      ]
    },
    {
      "cell_type": "markdown",
      "metadata": {
        "id": "C1e-q-uZ93jg"
      },
      "source": [
        "# 선형 회귀(Linear Regression)"
      ]
    },
    {
      "cell_type": "code",
      "execution_count": 113,
      "metadata": {
        "id": "D_ZF8Owz98uZ"
      },
      "outputs": [],
      "source": [
        "lin_reg = LinearRegression()  # 선형 회귀 모델 생성"
      ]
    },
    {
      "cell_type": "code",
      "execution_count": 114,
      "metadata": {
        "colab": {
          "base_uri": "https://localhost:8080/"
        },
        "id": "E6_nw7xd-MeU",
        "outputId": "4885f592-1921-4177-af0a-64342f7af418"
      },
      "outputs": [
        {
          "data": {
            "text/plain": [
              "LinearRegression()"
            ]
          },
          "execution_count": 114,
          "metadata": {},
          "output_type": "execute_result"
        }
      ],
      "source": [
        "lin_reg.fit(X_train, y_train)  # 모델 훈련"
      ]
    },
    {
      "cell_type": "markdown",
      "metadata": {
        "id": "1tT0dq9UAGhN"
      },
      "source": [
        "선형 회귀 모델을 훈련 셋으로 학습시킨다라는 의미는 데이터들을 가장 잘 설명할 수 있는(훈련 셋과 예측값들 사이의 오차가 적어지도록 하는) 직선(곡선)의 방정식을 찾는 과정.\n",
        "\n",
        "$$\n",
        "\\hat{y_i} = w_0 + w_1 \\times x_i\n",
        "$$\n",
        "\n",
        "* $w_0$: 절편(intercept), 편향(bias)\n",
        "* $w_1$: 계수(coefficient), 기울기(slope)\n",
        "* 선형 회귀의 목적은 MSE(오차들의 제곱의 평균)이 가장 작아지는 절편($w_0$)과 계수들($w_1$)을 찾는 것."
      ]
    },
    {
      "cell_type": "code",
      "execution_count": 115,
      "metadata": {
        "colab": {
          "base_uri": "https://localhost:8080/"
        },
        "id": "4GV21H02-Zql",
        "outputId": "566c3cc2-945c-4a67-e9e1-e22a58f7fc39"
      },
      "outputs": [
        {
          "data": {
            "text/plain": [
              "-709.0186449535477"
            ]
          },
          "execution_count": 115,
          "metadata": {},
          "output_type": "execute_result"
        }
      ],
      "source": [
        "lin_reg.intercept_  # 선형 회귀 모델을 훈련시킨 후 찾은 직선의 절편"
      ]
    },
    {
      "cell_type": "code",
      "execution_count": 116,
      "metadata": {
        "colab": {
          "base_uri": "https://localhost:8080/"
        },
        "id": "18f78CufB_dk",
        "outputId": "ea1d2ff9-041c-4b09-d4bd-fdf37dd05a09"
      },
      "outputs": [
        {
          "data": {
            "text/plain": [
              "array([39.01714496])"
            ]
          },
          "execution_count": 116,
          "metadata": {},
          "output_type": "execute_result"
        }
      ],
      "source": [
        "lin_reg.coef_  # 선형 회귀 모델을 훈련시킨 후 찾은 직선의 기울기"
      ]
    },
    {
      "cell_type": "markdown",
      "metadata": {
        "id": "ThQJ6ngeCtVE"
      },
      "source": [
        "선형 회귀 모델을 훈련시킨 후 찾은 수학적 모델(직선의 방정식)\n",
        "\n",
        "$$\n",
        "\\hat{y} = -709 + 39 \\times x\n",
        "$$"
      ]
    },
    {
      "cell_type": "code",
      "execution_count": 117,
      "metadata": {
        "colab": {
          "base_uri": "https://localhost:8080/"
        },
        "id": "PGOQ3eZGCVjb",
        "outputId": "7ca8e7e1-946f-4661-ec08-acccc61a51aa"
      },
      "outputs": [
        {
          "data": {
            "text/plain": [
              "1241"
            ]
          },
          "execution_count": 117,
          "metadata": {},
          "output_type": "execute_result"
        }
      ],
      "source": [
        "-709 + 39 * 50"
      ]
    },
    {
      "cell_type": "code",
      "execution_count": 118,
      "metadata": {
        "colab": {
          "base_uri": "https://localhost:8080/",
          "height": 279
        },
        "id": "1-7yxqCODsc7",
        "outputId": "34dd266b-6a04-4e26-a80e-6be7f00170da"
      },
      "outputs": [
        {
          "data": {
            "image/png": "[encoded data removed]",
            "text/plain": [
              "<Figure size 432x288 with 1 Axes>"
            ]
          },
          "metadata": {
            "needs_background": "light"
          },
          "output_type": "display_data"
        }
      ],
      "source": [
        "# 훈련 셋, 테스트 셋, 선형 회귀 모델(직선) 시각화\n",
        "plt.scatter(X_train, y_train, alpha=0.5, label='train')  # 훈련 셋\n",
        "plt.scatter(X_test, y_test, alpha=0.5, label='test')  # 테스트 셋\n",
        "\n",
        "# 직선(곡선) 시각화\n",
        "x = np.arange(5, 45, 0.001)\n",
        "w0 = lin_reg.intercept_  # 직선의 y절편\n",
        "w1 = lin_reg.coef_[0]  # 직선의 기울기\n",
        "y = w0 + w1 * x  # 직선의 방정식\n",
        "plt.plot(x, y, 'r-', label='linear regression')\n",
        "\n",
        "plt.grid()\n",
        "plt.legend()\n",
        "plt.xlabel('Length(cm)')\n",
        "plt.ylabel('Weight(g)')\n",
        "plt.show()"
      ]
    },
    {
      "cell_type": "code",
      "execution_count": 119,
      "metadata": {
        "colab": {
          "base_uri": "https://localhost:8080/"
        },
        "id": "3LRpyFRIGtEM",
        "outputId": "a6f497a3-2080-468a-dac3-92ff095ab525"
      },
      "outputs": [
        {
          "name": "stdout",
          "output_type": "stream",
          "text": [
            "[  55.71739633  149.35854425   20.60196587  -30.12032259  695.59857374\n",
            "  266.40997914  851.66715359  812.65000863  968.71858848  149.35854425\n",
            "   71.32425432  149.35854425  227.39283417  363.95284155  968.71858848\n",
            "  851.66715359  227.39283417  110.34139928  363.95284155  851.66715359\n",
            "  570.74370985  324.93569658  715.10714622 -174.48375895  176.67054572\n",
            " -123.7614705   734.6157187   656.58142877  410.7734155   207.88426169\n",
            "  812.65000863  110.34139928  188.37568921  149.35854425 1007.73573345\n",
            "  168.86711673   32.30710936  734.6157187   149.35854425  289.82026612\n",
            "  929.70144352  637.07285629]\n"
          ]
        }
      ],
      "source": [
        "# 훈련 셋에서의 예측값\n",
        "train_pred = lin_reg.predict(X_train)\n",
        "print(train_pred)"
      ]
    },
    {
      "cell_type": "code",
      "execution_count": 120,
      "metadata": {
        "colab": {
          "base_uri": "https://localhost:8080/"
        },
        "id": "HgDXRs4oHBoE",
        "outputId": "b3ea6a1f-4c93-40aa-83f0-a53f64934706"
      },
      "outputs": [
        {
          "name": "stdout",
          "output_type": "stream",
          "text": [
            "[  85.  135.   78.   70.  700.  180.  850.  820. 1000.  120.   85.  130.\n",
            "  225.  260. 1100.  900.  145.  115.  265. 1015.  514.  218.  685.   32.\n",
            "  145.   40.  690.  840.  300.  170.  650.  110.  150.  110. 1000.  150.\n",
            "   80.  700.  120.  197. 1100.  556.]\n"
          ]
        }
      ],
      "source": [
        "print(y_train)"
      ]
    },
    {
      "cell_type": "code",
      "execution_count": 121,
      "metadata": {
        "colab": {
          "base_uri": "https://localhost:8080/"
        },
        "id": "hFV8LeMcHDnL",
        "outputId": "25c6e515-789d-4695-e926-03b941933655"
      },
      "outputs": [
        {
          "data": {
            "text/plain": [
              "0.939846333997604"
            ]
          },
          "execution_count": 121,
          "metadata": {},
          "output_type": "execute_result"
        }
      ],
      "source": [
        "# 훈련 셋에서의 R^2 score\n",
        "lin_reg.score(X_train, y_train)"
      ]
    },
    {
      "cell_type": "code",
      "execution_count": 122,
      "metadata": {
        "colab": {
          "base_uri": "https://localhost:8080/"
        },
        "id": "7zUEiv9JHlsT",
        "outputId": "148ea298-5070-44b2-9801-ee2ba6f7a1fb"
      },
      "outputs": [
        {
          "data": {
            "text/plain": [
              "0.8247503123313558"
            ]
          },
          "execution_count": 122,
          "metadata": {},
          "output_type": "execute_result"
        }
      ],
      "source": [
        "# 테스트 셋에서의 R^2 score\n",
        "lin_reg.score(X_test, y_test)"
      ]
    },
    {
      "cell_type": "markdown",
      "metadata": {
        "id": "bg-cO_r5JFws"
      },
      "source": [
        "선형 회귀 모델은 훈련 셋과 테스트 셋에서 KNN Regressor보다 안 좋은 결과를 보여주고 있다. 하지만 50cm, 1500g의 가상의 농어(outlier 데이터)에 대해서는 KNN보다 오차가 적은 예측값을 준다."
      ]
    },
    {
      "cell_type": "markdown",
      "metadata": {
        "id": "P_LlZTXYPl_V"
      },
      "source": [
        "# 2차 항(polymonial)을 포함하는 선형 회귀\n",
        "\n",
        "$$\n",
        "\\hat{y} = w_0 + w_1 \\times x + w_2 \\times x^2\n",
        "$$\n",
        "\n",
        "2차 함수에 의해서 계산된 MSE가 최소가 되는 절편과 계수들을 찾는 것."
      ]
    },
    {
      "cell_type": "code",
      "execution_count": 123,
      "metadata": {
        "colab": {
          "base_uri": "https://localhost:8080/"
        },
        "id": "XGzEFQDLH6jD",
        "outputId": "ddc6a29a-904f-4f03-cf29-b03be954aa70"
      },
      "outputs": [
        {
          "data": {
            "text/plain": [
              "(42, 1)"
            ]
          },
          "execution_count": 123,
          "metadata": {},
          "output_type": "execute_result"
        }
      ],
      "source": [
        "X_train.shape  # 훈련 셋의 shape"
      ]
    },
    {
      "cell_type": "code",
      "execution_count": 124,
      "metadata": {
        "colab": {
          "base_uri": "https://localhost:8080/"
        },
        "id": "4A8sn7uRQles",
        "outputId": "b15fd003-0461-488d-afe2-a6a3b3b11cdd"
      },
      "outputs": [
        {
          "data": {
            "text/plain": [
              "array([[19.6],\n",
              "       [22. ],\n",
              "       [18.7]])"
            ]
          },
          "execution_count": 124,
          "metadata": {},
          "output_type": "execute_result"
        }
      ],
      "source": [
        "X_train[:3, :]"
      ]
    },
    {
      "cell_type": "code",
      "execution_count": 125,
      "metadata": {
        "id": "faIB0TWnQ6sR"
      },
      "outputs": [],
      "source": [
        "# 특성(feature) 배열에 2차항을 추가\n",
        "X_train_poly = np.c_[X_train, X_train ** 2]"
      ]
    },
    {
      "cell_type": "code",
      "execution_count": 126,
      "metadata": {
        "colab": {
          "base_uri": "https://localhost:8080/"
        },
        "id": "Efzj7lWgRQZx",
        "outputId": "150d15da-e7b5-403b-afec-aeb8e0b2f186"
      },
      "outputs": [
        {
          "data": {
            "text/plain": [
              "(42, 2)"
            ]
          },
          "execution_count": 126,
          "metadata": {},
          "output_type": "execute_result"
        }
      ],
      "source": [
        "X_train_poly.shape"
      ]
    },
    {
      "cell_type": "code",
      "execution_count": 127,
      "metadata": {
        "colab": {
          "base_uri": "https://localhost:8080/"
        },
        "id": "hXah1rXrRYwd",
        "outputId": "98cf0e3f-e8a7-46c1-f7e7-6d0891721112"
      },
      "outputs": [
        {
          "data": {
            "text/plain": [
              "array([[ 19.6 , 384.16],\n",
              "       [ 22.  , 484.  ],\n",
              "       [ 18.7 , 349.69]])"
            ]
          },
          "execution_count": 127,
          "metadata": {},
          "output_type": "execute_result"
        }
      ],
      "source": [
        "X_train_poly[:3, :]"
      ]
    },
    {
      "cell_type": "code",
      "execution_count": 128,
      "metadata": {
        "id": "Rzzvy0StRbPh"
      },
      "outputs": [],
      "source": [
        "# 테스트 셋의 특성 배열에 2차항을 추가\n",
        "X_test_poly = np.c_[X_test, X_test ** 2]"
      ]
    },
    {
      "cell_type": "code",
      "execution_count": 129,
      "metadata": {
        "colab": {
          "base_uri": "https://localhost:8080/"
        },
        "id": "E5r6e5RYSR6b",
        "outputId": "1889f3af-5351-4aba-c30a-98fcb660f82e"
      },
      "outputs": [
        {
          "data": {
            "text/plain": [
              "(14, 2)"
            ]
          },
          "execution_count": 129,
          "metadata": {},
          "output_type": "execute_result"
        }
      ],
      "source": [
        "X_test_poly.shape"
      ]
    },
    {
      "cell_type": "code",
      "execution_count": 130,
      "metadata": {
        "colab": {
          "base_uri": "https://localhost:8080/"
        },
        "id": "7yiSCIcySTHx",
        "outputId": "f7b26527-5465-4228-8366-26ec1a839890"
      },
      "outputs": [
        {
          "data": {
            "text/plain": [
              "array([[  8.4 ,  70.56],\n",
              "       [ 18.  , 324.  ],\n",
              "       [ 27.5 , 756.25]])"
            ]
          },
          "execution_count": 130,
          "metadata": {},
          "output_type": "execute_result"
        }
      ],
      "source": [
        "X_test_poly[:3, :]"
      ]
    },
    {
      "cell_type": "code",
      "execution_count": 131,
      "metadata": {
        "id": "1eui-kNnSfT6"
      },
      "outputs": [],
      "source": [
        "lin_reg2 = LinearRegression()  # 선형 회귀 모델 생성"
      ]
    },
    {
      "cell_type": "code",
      "execution_count": 132,
      "metadata": {
        "colab": {
          "base_uri": "https://localhost:8080/"
        },
        "id": "5gPFUNyySkaa",
        "outputId": "b0088f1f-d6c7-45ea-bec7-d75864275027"
      },
      "outputs": [
        {
          "data": {
            "text/plain": [
              "LinearRegression()"
            ]
          },
          "execution_count": 132,
          "metadata": {},
          "output_type": "execute_result"
        }
      ],
      "source": [
        "lin_reg2.fit(X_train_poly, y_train)  # 선형 회귀 모델 훈련"
      ]
    },
    {
      "cell_type": "code",
      "execution_count": 133,
      "metadata": {
        "colab": {
          "base_uri": "https://localhost:8080/"
        },
        "id": "SQfr6GkGSz4B",
        "outputId": "6efd64a3-7218-4108-95de-03b504a4d50c"
      },
      "outputs": [
        {
          "name": "stdout",
          "output_type": "stream",
          "text": [
            "116.05021078278372\n",
            "[-21.55792498   1.01433211]\n"
          ]
        }
      ],
      "source": [
        "# 학습 결과 - 선형 회귀식에서 절편(intercept)과 계수들(coefficients)을 찾음.\n",
        "print(lin_reg2.intercept_)\n",
        "print(lin_reg2.coef_)"
      ]
    },
    {
      "cell_type": "markdown",
      "metadata": {
        "id": "EdcdS6wjTg3V"
      },
      "source": [
        "$$\n",
        "\\hat{y} = 116 - 21.6 \\times x + 1.0 \\times x^2\n",
        "$$"
      ]
    },
    {
      "cell_type": "code",
      "execution_count": 134,
      "metadata": {
        "colab": {
          "base_uri": "https://localhost:8080/"
        },
        "id": "BCe8JADsTKkB",
        "outputId": "64d2fb7f-8363-4544-cab4-c351fc685b56"
      },
      "outputs": [
        {
          "data": {
            "text/plain": [
              "1536.0"
            ]
          },
          "execution_count": 134,
          "metadata": {},
          "output_type": "execute_result"
        }
      ],
      "source": [
        "116 - 21.6 * 50 + 1.0 * 50 ** 2"
      ]
    },
    {
      "cell_type": "code",
      "execution_count": 135,
      "metadata": {
        "colab": {
          "base_uri": "https://localhost:8080/"
        },
        "id": "-nk-rLF8UK-i",
        "outputId": "0a36023a-804d-40cb-c28d-56b75b5b7178"
      },
      "outputs": [
        {
          "data": {
            "text/plain": [
              "7.199999999999989"
            ]
          },
          "execution_count": 135,
          "metadata": {},
          "output_type": "execute_result"
        }
      ],
      "source": [
        "116 - 21.6 * 8 + 1.0 * 8 ** 2"
      ]
    },
    {
      "cell_type": "code",
      "execution_count": 136,
      "metadata": {
        "colab": {
          "base_uri": "https://localhost:8080/"
        },
        "id": "jdgWlmzmU0uy",
        "outputId": "f6709925-88bb-4b98-fb0a-29a744982030"
      },
      "outputs": [
        {
          "name": "stdout",
          "output_type": "stream",
          "text": [
            "[  83.18070434  132.71260219   67.61880901   48.04150559  654.5393253\n",
            "  211.05965467  876.66458663  818.09027497 1064.55950693  132.71260219\n",
            "   90.62455496  132.71260219  182.91530629  290.29593158 1064.55950693\n",
            "  876.66458663  182.91530629  110.65424646  290.29593158  876.66458663\n",
            "  500.20932803  257.07992265  680.52990177   11.08663218  149.3605064\n",
            "   20.90606071  707.0276443   604.07967051  332.83297906  169.60388118\n",
            "  818.09027497  110.65424646  156.79962213  132.71260219 1131.24847547\n",
            "  144.50252913   72.62352767  707.0276443   132.71260219  228.92002253\n",
            "  999.89920261  579.6105922 ]\n"
          ]
        }
      ],
      "source": [
        "# 훈련 셋의 예측값\n",
        "train_pred = lin_reg2.predict(X_train_poly)\n",
        "print(train_pred)"
      ]
    },
    {
      "cell_type": "code",
      "execution_count": 137,
      "metadata": {
        "colab": {
          "base_uri": "https://localhost:8080/"
        },
        "id": "pgXaC5N0VHaS",
        "outputId": "f0bca256-cb61-4bc5-9a07-3c9779536b17"
      },
      "outputs": [
        {
          "name": "stdout",
          "output_type": "stream",
          "text": [
            "[  85.  135.   78.   70.  700.  180.  850.  820. 1000.  120.   85.  130.\n",
            "  225.  260. 1100.  900.  145.  115.  265. 1015.  514.  218.  685.   32.\n",
            "  145.   40.  690.  840.  300.  170.  650.  110.  150.  110. 1000.  150.\n",
            "   80.  700.  120.  197. 1100.  556.]\n"
          ]
        }
      ],
      "source": [
        "# 훈렷 셋의 실젯값(레이블)\n",
        "print(y_train)"
      ]
    },
    {
      "cell_type": "code",
      "execution_count": 138,
      "metadata": {
        "colab": {
          "base_uri": "https://localhost:8080/"
        },
        "id": "XQL4l-6GVLZa",
        "outputId": "413bd17b-5986-4de9-9315-8ffe34ad48d1"
      },
      "outputs": [
        {
          "name": "stdout",
          "output_type": "stream",
          "text": [
            "[   6.5349146    56.6511646   290.29593158  117.05874344  144.50252913\n",
            "  876.66458663  382.21135986  199.55847561  818.09027497  110.65424646\n",
            " 1097.65040817   33.01314491  307.66468513  283.49043666]\n"
          ]
        }
      ],
      "source": [
        "# 테스트 셋 예측값\n",
        "test_pred = lin_reg2.predict(X_test_poly)\n",
        "print(test_pred)"
      ]
    },
    {
      "cell_type": "code",
      "execution_count": 139,
      "metadata": {
        "colab": {
          "base_uri": "https://localhost:8080/"
        },
        "id": "bmRdyrTDVn8B",
        "outputId": "518f4c04-a0e2-4fd2-81cb-0b2bbc87eda5"
      },
      "outputs": [
        {
          "name": "stdout",
          "output_type": "stream",
          "text": [
            "[   5.9  100.   250.   130.   130.   820.   320.   188.   900.   125.\n",
            " 1000.    51.5  250.   300. ]\n"
          ]
        }
      ],
      "source": [
        "# 테스트 셋 실젯값\n",
        "print(y_test)"
      ]
    },
    {
      "cell_type": "code",
      "execution_count": 140,
      "metadata": {
        "colab": {
          "base_uri": "https://localhost:8080/"
        },
        "id": "QVYdRfB_VqvJ",
        "outputId": "98813814-69a2-41d2-92e4-487d40eb79c7"
      },
      "outputs": [
        {
          "data": {
            "text/plain": [
              "0.9706807451768623"
            ]
          },
          "execution_count": 140,
          "metadata": {},
          "output_type": "execute_result"
        }
      ],
      "source": [
        "# 훈련 셋 R^2 score\n",
        "lin_reg2.score(X_train_poly, y_train)"
      ]
    },
    {
      "cell_type": "code",
      "execution_count": 141,
      "metadata": {
        "colab": {
          "base_uri": "https://localhost:8080/"
        },
        "id": "sFqkurdZV_Fo",
        "outputId": "98e2a829-9c63-4491-c7af-9380ec1c9894"
      },
      "outputs": [
        {
          "data": {
            "text/plain": [
              "0.9775935108325123"
            ]
          },
          "execution_count": 141,
          "metadata": {},
          "output_type": "execute_result"
        }
      ],
      "source": [
        "# 테스트 셋 R^2 score\n",
        "lin_reg2.score(X_test_poly, y_test)"
      ]
    },
    {
      "cell_type": "code",
      "execution_count": 142,
      "metadata": {
        "colab": {
          "base_uri": "https://localhost:8080/",
          "height": 279
        },
        "id": "SdF3tQ2WWGxI",
        "outputId": "916c57d5-f075-4f77-98a1-56bcc0ce6cfe"
      },
      "outputs": [
        {
          "data": {
            "image/png": "[encoded data removed]",
            "text/plain": [
              "<Figure size 432x288 with 1 Axes>"
            ]
          },
          "metadata": {
            "needs_background": "light"
          },
          "output_type": "display_data"
        }
      ],
      "source": [
        "# 훈련 셋, 테스트 셋, (다항) 선형 회귀 모델 시각화\n",
        "plt.scatter(X_train, y_train, alpha=0.5, label='train')  # 훈련 셋\n",
        "plt.scatter(X_test, y_test, alpha=0.5, label='test')  # 테스트 셋\n",
        "\n",
        "# 다항 선형 회귀 곡선 시각화\n",
        "x = np.arange(5, 50, 0.001)\n",
        "w0 = lin_reg2.intercept_  # 2차 함수의 y절편\n",
        "w1, w2 = lin_reg2.coef_  # 2차 함수의 1차항과 2차항의 계수들\n",
        "y = w0 + w1 * x + w2 * x **2\n",
        "plt.plot(x, y, 'r-', label='regression')\n",
        "\n",
        "plt.grid()\n",
        "plt.legend()\n",
        "plt.xlabel('Length(cm)')\n",
        "plt.ylabel('Weight(g)')\n",
        "plt.show()"
      ]
    },
    {
      "cell_type": "markdown",
      "metadata": {
        "id": "Q_mq9XSgeXpb"
      },
      "source": [
        "# 행렬의 점곱(dot product), 내적(inner product), 행렬 곱셈\n",
        "\n",
        "```\n",
        "(n, k) @ (k, m) = (n, m)\n",
        "```\n"
      ]
    },
    {
      "cell_type": "code",
      "execution_count": 143,
      "metadata": {
        "colab": {
          "base_uri": "https://localhost:8080/"
        },
        "id": "TtPMsRXafLbh",
        "outputId": "77655280-38fd-4a02-838f-69d24e02f88c"
      },
      "outputs": [
        {
          "name": "stdout",
          "output_type": "stream",
          "text": [
            "[[1 2]\n",
            " [3 4]\n",
            " [5 6]]\n"
          ]
        }
      ],
      "source": [
        "A = np.arange(1, 7).reshape((3, 2))\n",
        "print(A)  # (3, 2) shape"
      ]
    },
    {
      "cell_type": "code",
      "execution_count": 144,
      "metadata": {
        "colab": {
          "base_uri": "https://localhost:8080/"
        },
        "id": "iyzTNWZ-fjeY",
        "outputId": "27167422-a4ba-490b-c529-3441487c54ed"
      },
      "outputs": [
        {
          "name": "stdout",
          "output_type": "stream",
          "text": [
            "[[0 1 2]\n",
            " [1 2 3]]\n"
          ]
        }
      ],
      "source": [
        "B = np.array([[0, 1, 2],\n",
        "              [1, 2, 3]])\n",
        "print(B)  # (2, 3) shape"
      ]
    },
    {
      "cell_type": "code",
      "execution_count": 145,
      "metadata": {
        "colab": {
          "base_uri": "https://localhost:8080/"
        },
        "id": "s9ibGpcDf1Y3",
        "outputId": "7cdb8fc1-3902-4fdb-a5e0-e78ce55d9b62"
      },
      "outputs": [
        {
          "data": {
            "text/plain": [
              "array([[ 2,  5,  8],\n",
              "       [ 4, 11, 18],\n",
              "       [ 6, 17, 28]])"
            ]
          },
          "execution_count": 145,
          "metadata": {},
          "output_type": "execute_result"
        }
      ],
      "source": [
        "# A @ B\n",
        "# A.dot(B)\n",
        "np.dot(A, B)"
      ]
    },
    {
      "cell_type": "code",
      "execution_count": 146,
      "metadata": {
        "colab": {
          "base_uri": "https://localhost:8080/"
        },
        "id": "pIMQb1g7h-Po",
        "outputId": "0cb9e5d6-db64-44ff-a88e-c6f99a0fdd37"
      },
      "outputs": [
        {
          "data": {
            "text/plain": [
              "array([[13, 16],\n",
              "       [22, 28]])"
            ]
          },
          "execution_count": 146,
          "metadata": {},
          "output_type": "execute_result"
        }
      ],
      "source": [
        "B @ A"
      ]
    },
    {
      "cell_type": "code",
      "execution_count": 147,
      "metadata": {
        "colab": {
          "base_uri": "https://localhost:8080/"
        },
        "id": "w8zFvAQWiwmA",
        "outputId": "e36407ac-222c-469d-95e5-4dec7d17ffda"
      },
      "outputs": [
        {
          "name": "stdout",
          "output_type": "stream",
          "text": [
            "[[0 1]\n",
            " [2 3]\n",
            " [4 5]]\n"
          ]
        }
      ],
      "source": [
        "A = np.arange(6).reshape((3, 2))\n",
        "print(A)  # (3, 2)"
      ]
    },
    {
      "cell_type": "code",
      "execution_count": 148,
      "metadata": {
        "colab": {
          "base_uri": "https://localhost:8080/"
        },
        "id": "mN-JDRKdjNrn",
        "outputId": "f136fb36-4024-49b6-d6d2-5af8fc0bac7c"
      },
      "outputs": [
        {
          "name": "stdout",
          "output_type": "stream",
          "text": [
            "[1 2]\n"
          ]
        }
      ],
      "source": [
        "w = np.array([1, 2])\n",
        "print(w)  # (2,)"
      ]
    },
    {
      "cell_type": "code",
      "execution_count": 149,
      "metadata": {
        "colab": {
          "base_uri": "https://localhost:8080/"
        },
        "id": "AmRXo4FdjeMg",
        "outputId": "03e88a0a-1bcd-40d5-82db-59205a7121b6"
      },
      "outputs": [
        {
          "data": {
            "text/plain": [
              "array([ 2,  8, 14])"
            ]
          },
          "execution_count": 149,
          "metadata": {},
          "output_type": "execute_result"
        }
      ],
      "source": [
        "A @ w"
      ]
    },
    {
      "cell_type": "code",
      "execution_count": 150,
      "metadata": {
        "colab": {
          "base_uri": "https://localhost:8080/"
        },
        "id": "_OeifOKikCWi",
        "outputId": "54d5902e-3845-4ff7-9d49-586708346ee4"
      },
      "outputs": [
        {
          "data": {
            "text/plain": [
              "((42, 2), (2,))"
            ]
          },
          "execution_count": 150,
          "metadata": {},
          "output_type": "execute_result"
        }
      ],
      "source": [
        "X_train_poly.shape, lin_reg2.coef_.shape"
      ]
    },
    {
      "cell_type": "code",
      "execution_count": 151,
      "metadata": {
        "colab": {
          "base_uri": "https://localhost:8080/"
        },
        "id": "QkP7tvK_kEfm",
        "outputId": "273b3798-c419-4de3-cf0f-b20a896af9c1"
      },
      "outputs": [
        {
          "data": {
            "text/plain": [
              "((14, 2), (2,))"
            ]
          },
          "execution_count": 151,
          "metadata": {},
          "output_type": "execute_result"
        }
      ],
      "source": [
        "X_test_poly.shape, lin_reg2.coef_.shape"
      ]
    },
    {
      "cell_type": "code",
      "execution_count": 152,
      "metadata": {
        "colab": {
          "base_uri": "https://localhost:8080/"
        },
        "id": "NGqQoad_kkmH",
        "outputId": "b07e3035-1460-4d6c-c08e-8fc125589cd2"
      },
      "outputs": [
        {
          "data": {
            "text/plain": [
              "array([   6.5349146 ,   56.6511646 ,  290.29593158,  117.05874344,\n",
              "        144.50252913,  876.66458663,  382.21135986,  199.55847561,\n",
              "        818.09027497,  110.65424646, 1097.65040817,   33.01314491,\n",
              "        307.66468513,  283.49043666])"
            ]
          },
          "execution_count": 152,
          "metadata": {},
          "output_type": "execute_result"
        }
      ],
      "source": [
        "lin_reg2.intercept_ + X_test_poly @ lin_reg2.coef_  # w0 + X * w1"
      ]
    },
    {
      "cell_type": "code",
      "execution_count": 153,
      "metadata": {
        "colab": {
          "base_uri": "https://localhost:8080/"
        },
        "id": "8-j1MJnSk9J3",
        "outputId": "98ed228b-3e6e-457a-f558-d8ebb576b3c5"
      },
      "outputs": [
        {
          "data": {
            "text/plain": [
              "array([   6.5349146 ,   56.6511646 ,  290.29593158,  117.05874344,\n",
              "        144.50252913,  876.66458663,  382.21135986,  199.55847561,\n",
              "        818.09027497,  110.65424646, 1097.65040817,   33.01314491,\n",
              "        307.66468513,  283.49043666])"
            ]
          },
          "execution_count": 153,
          "metadata": {},
          "output_type": "execute_result"
        }
      ],
      "source": [
        "test_pred"
      ]
    },
    {
      "cell_type": "markdown",
      "metadata": {
        "id": "q5CkT4Zhs0Zh"
      },
      "source": [
        "# PolynomialFeatures 변환기"
      ]
    },
    {
      "cell_type": "markdown",
      "metadata": {
        "id": "zKa87wDis7EO"
      },
      "source": [
        "scikit-learn 클래스\n",
        "\n",
        "* Estimator(추정기, 예측기) 클래스\n",
        "    * 머신 러닝 알고리즘을 구현한 클래스\n",
        "    * `fit, predict, score` 메서드를 가지고 있음.\n",
        "    * 예: `KNeighborsClassifier, KNeighborsRegressor, LinearRegression, ` ...\n",
        "\n",
        "* Transformer(변환기) 클래스\n",
        "    * 전처리(preprocessing) 과정에서(모델을 훈련시키기 전에) 훈련 셋과 테스트 셋의 데이터들을 변환할 때 사용하는 클래스.\n",
        "    * `fit, transform, fit_transform` 메서드를 가지고 있음.\n",
        "    * `StandardScaler, MinMaxScaler, PolynomialFeatures, ` ...\n"
      ]
    },
    {
      "cell_type": "code",
      "execution_count": 154,
      "metadata": {
        "id": "SFBRhTd2lCwH"
      },
      "outputs": [],
      "source": [
        "# PolynomialFeatures 변환기 클래스의 인스턴스 생성\n",
        "poly = PolynomialFeatures(include_bias=False)  # 2차 다항식을 만들어 주는 변환기(degree의 기본값은 2)"
      ]
    },
    {
      "cell_type": "code",
      "execution_count": 155,
      "metadata": {
        "colab": {
          "base_uri": "https://localhost:8080/"
        },
        "id": "hHYtBUwcwNm-",
        "outputId": "497bf2b9-f89d-4401-a6a9-c4468e1ec542"
      },
      "outputs": [
        {
          "data": {
            "text/plain": [
              "array([[19.6],\n",
              "       [22. ],\n",
              "       [18.7],\n",
              "       [17.4],\n",
              "       [36. ]])"
            ]
          },
          "execution_count": 155,
          "metadata": {},
          "output_type": "execute_result"
        }
      ],
      "source": [
        "# 훈련 셋 출력\n",
        "X_train[:5, :]"
      ]
    },
    {
      "cell_type": "code",
      "execution_count": 156,
      "metadata": {
        "colab": {
          "base_uri": "https://localhost:8080/"
        },
        "id": "2LFw3WTKwXbV",
        "outputId": "d2f67365-03bb-413c-aad9-0fcae3098d05"
      },
      "outputs": [
        {
          "data": {
            "text/plain": [
              "array([[  19.6 ,  384.16],\n",
              "       [  22.  ,  484.  ],\n",
              "       [  18.7 ,  349.69],\n",
              "       [  17.4 ,  302.76],\n",
              "       [  36.  , 1296.  ]])"
            ]
          },
          "execution_count": 156,
          "metadata": {},
          "output_type": "execute_result"
        }
      ],
      "source": [
        "# 훈련 셋에서 2차항(Length**2)을 추가한 데이터 셋으로 변환\n",
        "X_train_2 = poly.fit_transform(X_train)\n",
        "X_train_2[:5, :]"
      ]
    },
    {
      "cell_type": "code",
      "execution_count": 157,
      "metadata": {
        "colab": {
          "base_uri": "https://localhost:8080/"
        },
        "id": "es8MAZVCwzeF",
        "outputId": "41120b92-0b0d-46a9-9e48-ee7eb6076f23"
      },
      "outputs": [
        {
          "data": {
            "text/plain": [
              "array([[  8.4 ,  70.56],\n",
              "       [ 18.  , 324.  ],\n",
              "       [ 27.5 , 756.25],\n",
              "       [ 21.3 , 453.69],\n",
              "       [ 22.5 , 506.25]])"
            ]
          },
          "execution_count": 157,
          "metadata": {},
          "output_type": "execute_result"
        }
      ],
      "source": [
        "# 테스트 셋에서 2차항을 추가\n",
        "X_test_2 = poly.transform(X_test)\n",
        "X_test_2[:5, :]"
      ]
    },
    {
      "cell_type": "code",
      "execution_count": 158,
      "metadata": {
        "id": "s3W7cX6ixSqW"
      },
      "outputs": [],
      "source": [
        "# 3차 다항식까지 생성하는 변환기 객체 생성.\n",
        "poly_3 = PolynomialFeatures(degree=3, include_bias=False)"
      ]
    },
    {
      "cell_type": "code",
      "execution_count": 159,
      "metadata": {
        "colab": {
          "base_uri": "https://localhost:8080/"
        },
        "id": "8c3Cv5aUx1ZO",
        "outputId": "6a65773a-01b8-4887-d789-689eb365041a"
      },
      "outputs": [
        {
          "data": {
            "text/plain": [
              "array([[1.960000e+01, 3.841600e+02, 7.529536e+03],\n",
              "       [2.200000e+01, 4.840000e+02, 1.064800e+04],\n",
              "       [1.870000e+01, 3.496900e+02, 6.539203e+03],\n",
              "       [1.740000e+01, 3.027600e+02, 5.268024e+03],\n",
              "       [3.600000e+01, 1.296000e+03, 4.665600e+04]])"
            ]
          },
          "execution_count": 159,
          "metadata": {},
          "output_type": "execute_result"
        }
      ],
      "source": [
        "X_train_3 = poly_3.fit_transform(X_train)\n",
        "X_train_3[:5, :]"
      ]
    },
    {
      "cell_type": "code",
      "execution_count": 160,
      "metadata": {
        "colab": {
          "base_uri": "https://localhost:8080/"
        },
        "id": "lI6smtfIx9cG",
        "outputId": "63929531-8e42-40e7-a8b3-60738be9c9f3"
      },
      "outputs": [
        {
          "data": {
            "text/plain": [
              "array([[8.4000000e+00, 7.0560000e+01, 5.9270400e+02],\n",
              "       [1.8000000e+01, 3.2400000e+02, 5.8320000e+03],\n",
              "       [2.7500000e+01, 7.5625000e+02, 2.0796875e+04],\n",
              "       [2.1300000e+01, 4.5369000e+02, 9.6635970e+03],\n",
              "       [2.2500000e+01, 5.0625000e+02, 1.1390625e+04]])"
            ]
          },
          "execution_count": 160,
          "metadata": {},
          "output_type": "execute_result"
        }
      ],
      "source": [
        "X_test_3 = poly_3.transform(X_test)\n",
        "X_test_3[:5, :]"
      ]
    },
    {
      "cell_type": "markdown",
      "metadata": {
        "id": "DBZNzj3O05tt"
      },
      "source": [
        "## PolynomialFeatures + StandardScaler\n",
        "\n",
        "* 다항 선형 회귀에서 차수(degree)가 커질 수록 고차항이 저차항에 비해서 예측값을 계산할 때 더 큰 영향을 미치게 됨.\n",
        "* 다항 선형 회귀에서 고차항을 포함시킬 때는 일반적으로 scaling(표준화)를 함께 사용하는 경우가 많음."
      ]
    },
    {
      "cell_type": "code",
      "execution_count": 161,
      "metadata": {
        "id": "cQPBmGl41dSm"
      },
      "outputs": [],
      "source": [
        "# 3차항까지 추가 -> 표준화\n",
        "poly = PolynomialFeatures(degree=3, include_bias=False)  # 다차항 추가 변환기\n",
        "scaler = StandardScaler()  # 표준화 변환기"
      ]
    },
    {
      "cell_type": "code",
      "execution_count": 162,
      "metadata": {
        "id": "Sb0_78mb2Fom"
      },
      "outputs": [],
      "source": [
        "# 훈련 셋 변환\n",
        "X_tr_poly = poly.fit_transform(X_train)  # 2차항, 3차항을 추가\n",
        "X_tr_poly_sc = scaler.fit_transform(X_tr_poly)  # 컬럼 별로 평균과 표준편차를 찾아서 스케일 변환"
      ]
    },
    {
      "cell_type": "code",
      "execution_count": 163,
      "metadata": {
        "colab": {
          "base_uri": "https://localhost:8080/"
        },
        "id": "YntHjeE62V1s",
        "outputId": "4c45081c-157b-4cf8-945f-a5db9ab9b5e5"
      },
      "outputs": [
        {
          "data": {
            "text/plain": [
              "array([[-1.01339619, -0.9549757 , -0.88757122],\n",
              "       [-0.73842893, -0.76472563, -0.76291014],\n",
              "       [-1.11650891, -1.02065999, -0.92715994],\n",
              "       [-1.26544951, -1.11008743, -0.97797552],\n",
              "       [ 0.86554673,  0.78258063,  0.67651527]])"
            ]
          },
          "execution_count": 163,
          "metadata": {},
          "output_type": "execute_result"
        }
      ],
      "source": [
        "X_tr_poly_sc[:5, :]"
      ]
    },
    {
      "cell_type": "code",
      "execution_count": 164,
      "metadata": {
        "id": "E8RdoSKb3Ikc"
      },
      "outputs": [],
      "source": [
        "# 테스트 셋 변환\n",
        "X_te_poly = poly.transform(X_test)\n",
        "X_te_poly_sc = scaler.transform(X_te_poly)"
      ]
    },
    {
      "cell_type": "code",
      "execution_count": 165,
      "metadata": {
        "colab": {
          "base_uri": "https://localhost:8080/"
        },
        "id": "PmAHESWS3gnF",
        "outputId": "43ad9cf2-5873-4311-db75-43598a27d81c"
      },
      "outputs": [
        {
          "data": {
            "text/plain": [
              "array([[-2.29657672, -1.55255604, -1.16487216],\n",
              "       [-1.1967077 , -1.06961356, -0.95543049],\n",
              "       [-0.10829564, -0.24593976, -0.35720728],\n",
              "       [-0.81862772, -0.82248284, -0.8022618 ],\n",
              "       [-0.68114409, -0.72232715, -0.73322359]])"
            ]
          },
          "execution_count": 165,
          "metadata": {},
          "output_type": "execute_result"
        }
      ],
      "source": [
        "X_te_poly_sc[:5, :]"
      ]
    },
    {
      "cell_type": "code",
      "execution_count": 166,
      "metadata": {
        "colab": {
          "base_uri": "https://localhost:8080/"
        },
        "id": "YWz7rA803328",
        "outputId": "fa04f1ff-f57f-4434-d3ff-e42f74da4030"
      },
      "outputs": [
        {
          "name": "stdout",
          "output_type": "stream",
          "text": [
            "[  76.11208213  121.32671907   64.43503022   53.03736922  676.51776072\n",
            "  203.64006744  883.41268054  831.17507632 1039.71479927  121.32671907\n",
            "   82.25658755  121.32671907  173.27607317  290.93930643 1039.71479927\n",
            "  883.41268054  173.27607317  100.09367224  290.93930643  883.41268054\n",
            "  519.14231311  254.17726522  701.95141826   59.18009181  138.11611752\n",
            "   50.17607368  727.55145991  626.2376762   338.00950138  159.158376\n",
            "  831.17507632  100.09367224  145.77957155  121.32671907 1091.09141922\n",
            "  133.16167938   67.9916215   727.55145991  121.32671907  223.16157937\n",
            "  987.85869851  601.43528834]\n"
          ]
        }
      ],
      "source": [
        "lin_reg = LinearRegression()  # 모델 생성\n",
        "lin_reg.fit(X_tr_poly_sc, y_train)  # 모델 훈련\n",
        "train_pred = lin_reg.predict(X_tr_poly_sc)  # 예측\n",
        "print(train_pred)"
      ]
    },
    {
      "cell_type": "code",
      "execution_count": 167,
      "metadata": {
        "colab": {
          "base_uri": "https://localhost:8080/"
        },
        "id": "S1tC8r3H4UmU",
        "outputId": "e951ce1d-e799-486a-d553-80860e3a87ab"
      },
      "outputs": [
        {
          "data": {
            "text/plain": [
              "0.9729178478354534"
            ]
          },
          "execution_count": 167,
          "metadata": {},
          "output_type": "execute_result"
        }
      ],
      "source": [
        "lin_reg.score(X_tr_poly_sc, y_train)  # 훈련 셋 결과 평가"
      ]
    },
    {
      "cell_type": "code",
      "execution_count": 168,
      "metadata": {
        "colab": {
          "base_uri": "https://localhost:8080/"
        },
        "id": "ng5iFm7d4o4X",
        "outputId": "b783fd6a-4915-4ffd-d862-47a09ec828df"
      },
      "outputs": [
        {
          "data": {
            "text/plain": [
              "0.9588363727422968"
            ]
          },
          "execution_count": 168,
          "metadata": {},
          "output_type": "execute_result"
        }
      ],
      "source": [
        "lin_reg.score(X_te_poly_sc, y_test)  # 테스트 셋 결과 평가"
      ]
    },
    {
      "cell_type": "markdown",
      "metadata": {
        "id": "wXDBLqgchUka"
      },
      "source": [
        "# 다항 회귀에서 과대적합(overfitting)\n",
        "\n",
        "60차항을 포함하는 선형 회귀\n",
        "\n",
        "$$\n",
        "\\hat{y} = w_0 + w_1 \\times x + w_2 \\times x^2 + ... + w_{60} \\times x^{60}\n",
        "        = w_0 + X \\cdot w\n",
        "$$\n"
      ]
    },
    {
      "cell_type": "code",
      "execution_count": 169,
      "metadata": {
        "id": "ABZX-M7l4uHM"
      },
      "outputs": [],
      "source": [
        "# Pipeline으로 연결할 변환기(Transformer), 예측기(Estimator) 객체들을 생성\n",
        "poly = PolynomialFeatures(degree=60, include_bias=False)  # 다차항 추가 변환기\n",
        "scaler = StandardScaler()  # 표준화 변환기\n",
        "reg = LinearRegression()  # 선형 회귀 알고리즘(모델) 예측기"
      ]
    },
    {
      "cell_type": "code",
      "execution_count": 170,
      "metadata": {
        "id": "O7tD6Q6kjlKK"
      },
      "outputs": [],
      "source": [
        "# 변환기와 예측기를 순서대로 연결하는 Pipeline 객체 생성\n",
        "model = Pipeline(steps=[('poly_feature', poly), \n",
        "                        ('std_scaler', scaler), \n",
        "                        ('lin_reg', reg)])"
      ]
    },
    {
      "cell_type": "code",
      "execution_count": 171,
      "metadata": {
        "colab": {
          "base_uri": "https://localhost:8080/"
        },
        "id": "uOx6Y2C_k4Zp",
        "outputId": "4ed281a8-d05a-4c10-96b7-b4e66fd53b67"
      },
      "outputs": [
        {
          "data": {
            "text/plain": [
              "Pipeline(steps=[('poly_feature',\n",
              "                 PolynomialFeatures(degree=60, include_bias=False)),\n",
              "                ('std_scaler', StandardScaler()),\n",
              "                ('lin_reg', LinearRegression())])"
            ]
          },
          "execution_count": 171,
          "metadata": {},
          "output_type": "execute_result"
        }
      ],
      "source": [
        "# 머신 러닝 모델을 훈련\n",
        "model.fit(X_train, y_train)\n",
        "#> X_train: (42, 1) shape의 2차원 배열. 훈련 셋 42마리 농어의 길이를 가지고 있는 특성 배열.\n",
        "#> (1) poly_feature의 fit_transform()을 호출 -> 길이의 100차항까지 가지는 2차원 배열 변환. (42, 60) 2차원 배열.\n",
        "#> (2) std_scaler의 fit_transform()을 호출 -> 모든 특성들(1~60차항)에 대해서 스케일링. (42, 60) 2차원 배열.\n",
        "#> (3) lin_reg의 fit()을 호출 -> 선형 회귀식을 찾음. intercept_, coef_을 찾음."
      ]
    },
    {
      "cell_type": "code",
      "execution_count": 172,
      "metadata": {
        "colab": {
          "base_uri": "https://localhost:8080/"
        },
        "id": "FdzW-p1bvTvn",
        "outputId": "faac0540-e8c2-4ba4-f91b-3e04c094fe9e"
      },
      "outputs": [
        {
          "data": {
            "text/plain": [
              "400.86448069851406"
            ]
          },
          "execution_count": 172,
          "metadata": {},
          "output_type": "execute_result"
        }
      ],
      "source": [
        "model.named_steps['lin_reg'].intercept_"
      ]
    },
    {
      "cell_type": "code",
      "execution_count": 173,
      "metadata": {
        "colab": {
          "base_uri": "https://localhost:8080/"
        },
        "id": "y_m7avXvv5tf",
        "outputId": "fe0f15d2-cdcf-49e4-ca20-e8732614992e"
      },
      "outputs": [
        {
          "data": {
            "text/plain": [
              "array([-2.28633990e+11,  3.36850082e+12, -2.28035254e+13,  9.06121828e+13,\n",
              "       -2.23108854e+14,  3.19549318e+14, -1.70956655e+14, -1.89172932e+14,\n",
              "        2.78460512e+14,  8.14017656e+13, -2.02286015e+14, -1.28852390e+14,\n",
              "        4.26722474e+13,  2.72709106e+14,  8.85586042e+13, -2.21492343e+14,\n",
              "       -2.26193344e+14, -1.69453764e+13,  1.70791976e+14,  2.20225068e+14,\n",
              "        1.22834416e+14, -1.39243258e+14, -2.21006249e+14, -1.69453223e+14,\n",
              "       -3.78185860e+13,  1.29877447e+14,  2.14565736e+14,  2.10852149e+14,\n",
              "        4.26359533e+13, -1.17979026e+14, -2.19976452e+14, -1.85114450e+14,\n",
              "       -1.16250043e+14,  9.97179140e+12,  1.47433246e+14,  2.20445330e+14,\n",
              "        2.14065128e+14,  7.98574088e+13, -2.90642487e+13, -1.64856514e+14,\n",
              "       -2.27129147e+14, -1.74361702e+14, -1.06014413e+14, -1.72560551e+13,\n",
              "        1.60179167e+14,  2.22285070e+14,  2.20069931e+14,  1.37009402e+14,\n",
              "        3.76324689e+11, -1.47017945e+14, -2.54430886e+14, -2.40049307e+14,\n",
              "       -1.24750600e+14,  8.08986150e+13,  2.42113755e+14,  3.05968012e+14,\n",
              "        1.26830428e+14, -2.23034606e+14, -4.04828547e+14,  2.65056736e+14])"
            ]
          },
          "execution_count": 173,
          "metadata": {},
          "output_type": "execute_result"
        }
      ],
      "source": [
        "model.named_steps['lin_reg'].coef_"
      ]
    },
    {
      "cell_type": "code",
      "execution_count": 174,
      "metadata": {
        "colab": {
          "base_uri": "https://localhost:8080/"
        },
        "id": "QrMvn4y6lCZ5",
        "outputId": "4fc6192e-b49d-4ce6-af4d-9a4f118e9fe9"
      },
      "outputs": [
        {
          "name": "stdout",
          "output_type": "stream",
          "text": [
            "[  84.2394807  125.7394807   76.4894807   68.8019807  701.0519807\n",
            "  188.9269807  921.7394807  735.4894807 1049.6144807  125.7394807\n",
            "   89.6769807  125.7394807  183.7707307  263.0519807 1049.6144807\n",
            "  921.7394807  183.7707307  108.0519807  263.0519807  921.7394807\n",
            "  513.7707307  218.6144807  685.9269807   32.4894807  144.2394807\n",
            "   39.6144807  695.0519807  840.6379182  299.6144807  170.6769807\n",
            "  735.4894807  108.0519807  154.0207307  125.7394807  997.1144807\n",
            "  138.0832307   79.4269807  695.0519807  125.7394807  190.7082307\n",
            " 1099.6769807  555.3488557]\n"
          ]
        }
      ],
      "source": [
        "train_pred = model.predict(X_train)  # 훈련된 모델로 훈련 셋 예측값 계산.\n",
        "#> (1) poly_features의 transform() 호출 -> (42, 60) 변환\n",
        "#> (2) std_scaler의 transform() 호출 -> 60개 특성들을 모두 스케일링.\n",
        "#> (3) lin_reg의 predict() 호출 -> 예측값 계산\n",
        "print(train_pred)"
      ]
    },
    {
      "cell_type": "code",
      "execution_count": 175,
      "metadata": {
        "colab": {
          "base_uri": "https://localhost:8080/"
        },
        "id": "Jm6UV3Cjpp93",
        "outputId": "03a7fc13-e926-4d7f-f268-fc7ab448f0e8"
      },
      "outputs": [
        {
          "data": {
            "text/plain": [
              "0.9927027057850766"
            ]
          },
          "execution_count": 175,
          "metadata": {},
          "output_type": "execute_result"
        }
      ],
      "source": [
        "r2_score(y_train, train_pred)  # 훈련 셋의 R^2 score"
      ]
    },
    {
      "cell_type": "code",
      "execution_count": 176,
      "metadata": {
        "colab": {
          "base_uri": "https://localhost:8080/"
        },
        "id": "LR5iMYuMyMM_",
        "outputId": "74573d2a-2d1e-49ce-a327-f1232937d703"
      },
      "outputs": [
        {
          "name": "stdout",
          "output_type": "stream",
          "text": [
            "[ 7.69874587e+07  6.49269807e+01  2.63051981e+02  1.13176981e+02\n",
            "  1.38083231e+02  9.21739481e+02  6.75864481e+02  1.89583231e+02\n",
            "  7.35489481e+02  1.08051981e+02 -2.87612474e+07  3.51426981e+02\n",
            "  2.73372293e+02  2.56411356e+02]\n"
          ]
        }
      ],
      "source": [
        "# 테스트 셋의 예측값\n",
        "test_pred = model.predict(X_test)\n",
        "print(test_pred)"
      ]
    },
    {
      "cell_type": "code",
      "execution_count": 177,
      "metadata": {
        "colab": {
          "base_uri": "https://localhost:8080/"
        },
        "id": "55Er3SdPyWJG",
        "outputId": "7bb5de36-8db5-4e54-8e8d-312710b19d9a"
      },
      "outputs": [
        {
          "data": {
            "text/plain": [
              "array([   5.9,  100. ,  250. ,  130. ,  130. ,  820. ,  320. ,  188. ,\n",
              "        900. ,  125. , 1000. ,   51.5,  250. ,  300. ])"
            ]
          },
          "execution_count": 177,
          "metadata": {},
          "output_type": "execute_result"
        }
      ],
      "source": [
        "y_test  # 테스트 셋의 실젯값"
      ]
    },
    {
      "cell_type": "code",
      "execution_count": 178,
      "metadata": {
        "colab": {
          "base_uri": "https://localhost:8080/"
        },
        "id": "cuonkdJbzEzO",
        "outputId": "9d666d5d-240d-4b31-e4e0-f7b9f87ba267"
      },
      "outputs": [
        {
          "data": {
            "text/plain": [
              "-4806615610.302916"
            ]
          },
          "execution_count": 178,
          "metadata": {},
          "output_type": "execute_result"
        }
      ],
      "source": [
        "r2_score(y_test, test_pred)"
      ]
    },
    {
      "cell_type": "code",
      "execution_count": 179,
      "metadata": {
        "colab": {
          "base_uri": "https://localhost:8080/",
          "height": 283
        },
        "id": "Zo5miyrRzZJF",
        "outputId": "617ceeec-4b97-416e-bca4-3463894fb525"
      },
      "outputs": [
        {
          "data": {
            "image/png": "[encoded data removed]",
            "text/plain": [
              "<Figure size 432x288 with 1 Axes>"
            ]
          },
          "metadata": {
            "needs_background": "light"
          },
          "output_type": "display_data"
        }
      ],
      "source": [
        "# 훈련 셋, 테스트 셋, 다항 선형 회귀 곡선 시각화\n",
        "plt.scatter(X_train, y_train, alpha=0.5, label='train')\n",
        "plt.scatter(X_test, y_test, alpha=0.5, label='test')\n",
        "\n",
        "# 60차 항을 포함하는 선형 회귀 곡선\n",
        "x = np.arange(5, 45, 0.001).reshape((-1, 1))  # (n_samples, 1) shape의 2차원 배열\n",
        "y = model.predict(x)\n",
        "plt.plot(x, y, 'r-', label='regression')\n",
        "\n",
        "plt.ylim((-200, 1600))\n",
        "plt.legend()\n",
        "plt.grid()\n",
        "plt.xlabel('Length(cm)')\n",
        "plt.ylabel('Weight(g)')\n",
        "plt.show()"
      ]
    }
  ],
  "metadata": {
    "colab": {
      "authorship_tag": "ABX9TyNTfqF/tGHpvZSBtA3Yqmtq",
      "collapsed_sections": [],
      "include_colab_link": true,
      "name": "ml05_regression.ipynb",
      "provenance": []
    },
    "kernelspec": {
      "display_name": "Python 3",
      "name": "python3"
    },
    "language_info": {
      "name": "python"
    }
  },
  "nbformat": 4,
  "nbformat_minor": 0
}
