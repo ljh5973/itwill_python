{
  "nbformat": 4,
  "nbformat_minor": 0,
  "metadata": {
    "colab": {
      "name": "py10_function.ipynb",
      "provenance": [],
      "collapsed_sections": [],
      "authorship_tag": "ABX9TyMk99HdqHsGggjTCONVQ2GD",
      "include_colab_link": true
    },
    "kernelspec": {
      "name": "python3",
      "display_name": "Python 3"
    },
    "language_info": {
      "name": "python"
    }
  },
  "cells": [
    {
      "cell_type": "markdown",
      "metadata": {
        "id": "view-in-github",
        "colab_type": "text"
      },
      "source": [
        "<a href=\"https://colab.research.google.com/github/JakeOh/202110_itw_lab_python/blob/main/py10_function.ipynb\" target=\"_parent\"><img src=\"https://colab.research.google.com/assets/colab-badge.svg\" alt=\"Open In Colab\"/></a>"
      ]
    },
    {
      "cell_type": "markdown",
      "source": [
        "# 함수(Function)\n",
        "\n",
        "*   **함수(function)**: 기능을 수행하는 코드 블록.\n",
        "*   **인수(argument)**: 함수를 호출할 때, 함수에게 전달하는 값(들).\n",
        "*   **매개변수(parameter)**: argument를 저장하기 위해서, 함수를 정의할 때 선언하는 (지역) 변수.\n",
        "*   **반환 값(return value)**: 함수가 기능 수행의 결과로 반환하는 값.\n",
        "    * 반환 값이 있는 함수\n",
        "    * 반환 값이 없는 함수"
      ],
      "metadata": {
        "id": "corBfnIWOK3s"
      }
    },
    {
      "cell_type": "code",
      "execution_count": 1,
      "metadata": {
        "id": "ikhsjiB7OAGz"
      },
      "outputs": [],
      "source": [
        "result = len([1, 2, 3, 4, 5])\n",
        "# function: len\n",
        "# argument: [1, 2, 3, 4, 5]\n",
        "# 함수 호출(call, invoke): len([1, 2, 3, 4, 5])\n",
        "# return value: 5"
      ]
    },
    {
      "cell_type": "code",
      "source": [
        "result"
      ],
      "metadata": {
        "colab": {
          "base_uri": "https://localhost:8080/"
        },
        "id": "wA9nB-ShQH9X",
        "outputId": "d70c9490-e0c2-4704-e9d6-da612e2934db"
      },
      "execution_count": 2,
      "outputs": [
        {
          "output_type": "execute_result",
          "data": {
            "text/plain": [
              "5"
            ]
          },
          "metadata": {},
          "execution_count": 2
        }
      ]
    },
    {
      "cell_type": "markdown",
      "source": [
        "# 함수 정의(선언) 방법\n",
        "\n",
        "```\n",
        "def function_name([param1, ...]):\n",
        "    [\"\"\"문서화 주석(documentaion comment): 함수에 대한 설명\"\"\"]\n",
        "    함수 기능 작성(코드)\n",
        "    [return 반환 값]\n",
        "```\n"
      ],
      "metadata": {
        "id": "RbIy7ICPUyBw"
      }
    },
    {
      "cell_type": "code",
      "source": [
        "def subtract(x, y):\n",
        "    \"\"\"숫자 2개(x, y)를 전달받아서, x - y를 반환하는 함수.\n",
        "    \"\"\"\n",
        "    return x - y"
      ],
      "metadata": {
        "id": "eSANItwuQJAl"
      },
      "execution_count": 3,
      "outputs": []
    },
    {
      "cell_type": "code",
      "source": [
        "result = subtract(1, 2)\n",
        "result"
      ],
      "metadata": {
        "colab": {
          "base_uri": "https://localhost:8080/"
        },
        "id": "lW-tK8SqXTQ9",
        "outputId": "f9098cb5-33e1-4503-b3a7-949cb335627b"
      },
      "execution_count": 4,
      "outputs": [
        {
          "output_type": "execute_result",
          "data": {
            "text/plain": [
              "-1"
            ]
          },
          "metadata": {},
          "execution_count": 4
        }
      ]
    },
    {
      "cell_type": "markdown",
      "source": [
        "파이썬은 2개 이상의 값을 반환하는 함수를 정의할 수 있음."
      ],
      "metadata": {
        "id": "g2ZaTR5WYjTk"
      }
    },
    {
      "cell_type": "code",
      "source": [
        "def plus_and_minus(x, y):\n",
        "    \"\"\"2개의 숫자 x, y를 전달받아서, x+y와 x-y를 반환하는 함수.\n",
        "    \"\"\"\n",
        "    return x + y, x - y"
      ],
      "metadata": {
        "id": "TMBr0uafX27Q"
      },
      "execution_count": 5,
      "outputs": []
    },
    {
      "cell_type": "code",
      "source": [
        "result = plus_and_minus(1, 2)\n",
        "result  #> tuple"
      ],
      "metadata": {
        "colab": {
          "base_uri": "https://localhost:8080/"
        },
        "id": "579jtoG8ZJLk",
        "outputId": "7178a4aa-252e-4fd9-e396-ed2006d35aaf"
      },
      "execution_count": 6,
      "outputs": [
        {
          "output_type": "execute_result",
          "data": {
            "text/plain": [
              "(3, -1)"
            ]
          },
          "metadata": {},
          "execution_count": 6
        }
      ]
    },
    {
      "cell_type": "code",
      "source": [
        "# tuple decomposition(분해): x, y = (3, -1)\n",
        "plus, minus = plus_and_minus(1, 2)\n",
        "print(plus)\n",
        "print(minus)"
      ],
      "metadata": {
        "colab": {
          "base_uri": "https://localhost:8080/"
        },
        "id": "U86tHQWSZgwt",
        "outputId": "a955514f-1e4b-4171-edc3-741e9dec256b"
      },
      "execution_count": 7,
      "outputs": [
        {
          "output_type": "stream",
          "name": "stdout",
          "text": [
            "3\n",
            "-1\n"
          ]
        }
      ]
    },
    {
      "cell_type": "markdown",
      "source": [
        "값을 반환하지 않는 함수"
      ],
      "metadata": {
        "id": "fgRlOCx_aosb"
      }
    },
    {
      "cell_type": "code",
      "source": [
        "def repeat_messages(message, n):\n",
        "    \"\"\"문자열 message와 양의 정수 n을 전달받아서,\n",
        "    전달받은 문자열을 n번 반복해서 출력하는 함수.\n",
        "    \"\"\"\n",
        "    for _ in range(n):\n",
        "        print(message)\n",
        "\n",
        "    # return None  # 반환 값이 없다는 것을 명시적으로 작성.\n",
        "    # 반환 값이 없는 경우 return None 문장을 보통 생략함."
      ],
      "metadata": {
        "id": "mQCQqLxqaNeZ"
      },
      "execution_count": 8,
      "outputs": []
    },
    {
      "cell_type": "code",
      "source": [
        "result = repeat_messages('안녕하세요', 3)"
      ],
      "metadata": {
        "colab": {
          "base_uri": "https://localhost:8080/"
        },
        "id": "cf6pQvT-bidd",
        "outputId": "ec1bc872-9f62-437b-d2d9-7e3d3527b403"
      },
      "execution_count": 9,
      "outputs": [
        {
          "output_type": "stream",
          "name": "stdout",
          "text": [
            "안녕하세요\n",
            "안녕하세요\n",
            "안녕하세요\n"
          ]
        }
      ]
    },
    {
      "cell_type": "code",
      "source": [
        "print(result)  #> None: 값이 없음."
      ],
      "metadata": {
        "colab": {
          "base_uri": "https://localhost:8080/"
        },
        "id": "MuODqTPtb-Ob",
        "outputId": "e60f7e72-6a94-4d5b-d357-1fbea70b7cec"
      },
      "execution_count": 10,
      "outputs": [
        {
          "output_type": "stream",
          "name": "stdout",
          "text": [
            "None\n"
          ]
        }
      ]
    },
    {
      "cell_type": "markdown",
      "source": [
        "# 함수 정의/호출 연습"
      ],
      "metadata": {
        "id": "E5d-XKDjc4VY"
      }
    },
    {
      "cell_type": "code",
      "source": [
        "import random  # 난수 관련 함수들을 사용하기 위해서\n",
        "import math  # 수학 함수들을 사용하기 위해서"
      ],
      "metadata": {
        "id": "5PhEJ8_3cE3g"
      },
      "execution_count": 11,
      "outputs": []
    },
    {
      "cell_type": "markdown",
      "source": [
        "## Ex 1.\n",
        "\n",
        "* 함수 이름: make_list\n",
        "* 기능: start 이상 end 미만의 정수 난수 n개를 갖는 리스트를 반환."
      ],
      "metadata": {
        "id": "jZRxh5EVdkjU"
      }
    },
    {
      "cell_type": "code",
      "source": [
        "def make_list(start, end, n):\n",
        "    # array = []  # 빈 리스트\n",
        "    # for _ in range(n):  # n번 반복하면서\n",
        "    #     array.append(random.randrange(start, end))  # 난수를 생성해서 리스트에 추가\n",
        "    # return array # 리스트를 리턴.\n",
        "\n",
        "    return [random.randrange(start, end) for _ in range(n)]"
      ],
      "metadata": {
        "id": "MUAP3i32c_Ks"
      },
      "execution_count": 17,
      "outputs": []
    },
    {
      "cell_type": "code",
      "source": [
        "num_list = make_list(-10, 10, 5)\n",
        "num_list"
      ],
      "metadata": {
        "colab": {
          "base_uri": "https://localhost:8080/"
        },
        "id": "pK-iJiUBAAiS",
        "outputId": "0c29a406-bec5-404e-c614-ad62f111041e"
      },
      "execution_count": 21,
      "outputs": [
        {
          "output_type": "execute_result",
          "data": {
            "text/plain": [
              "[3, -3, -4, -3, -6]"
            ]
          },
          "metadata": {},
          "execution_count": 21
        }
      ]
    },
    {
      "cell_type": "markdown",
      "source": [
        "## Ex 2.\n",
        "\n",
        "* 함수 이름: calc_sum\n",
        "* 기능: 숫자들을 저장하고 있는 리스트의 모든 원소들의 합을 반환."
      ],
      "metadata": {
        "id": "ieofApmvdzU2"
      }
    },
    {
      "cell_type": "code",
      "source": [
        "def calc_sum(numbers):\n",
        "    # return sum(numbers)\n",
        "    total = 0\n",
        "    for x in numbers:\n",
        "        total += x\n",
        "    return total"
      ],
      "metadata": {
        "id": "id1HFuH8BHrD"
      },
      "execution_count": 23,
      "outputs": []
    },
    {
      "cell_type": "code",
      "source": [
        "total = calc_sum(num_list)\n",
        "total"
      ],
      "metadata": {
        "colab": {
          "base_uri": "https://localhost:8080/"
        },
        "id": "Ailt4bGdBn60",
        "outputId": "4423375d-e9ba-4baf-fc1c-03164e6e0915"
      },
      "execution_count": 24,
      "outputs": [
        {
          "output_type": "execute_result",
          "data": {
            "text/plain": [
              "-13"
            ]
          },
          "metadata": {},
          "execution_count": 24
        }
      ]
    },
    {
      "cell_type": "markdown",
      "source": [
        "## Ex 3.\n",
        "\n",
        "* 함수 이름: calc_mean\n",
        "* 기능: 숫자들을 저장하고 있는 리스트의 모든 원소들의 평균을 반환."
      ],
      "metadata": {
        "id": "f3ayBvnKeKMU"
      }
    },
    {
      "cell_type": "code",
      "source": [
        "def calc_mean(numbers):\n",
        "    return calc_sum(numbers) / len(numbers)"
      ],
      "metadata": {
        "id": "xijUUNiNCEkc"
      },
      "execution_count": 25,
      "outputs": []
    },
    {
      "cell_type": "code",
      "source": [
        "mean = calc_mean(num_list)\n",
        "mean"
      ],
      "metadata": {
        "colab": {
          "base_uri": "https://localhost:8080/"
        },
        "id": "TDHoUIHBCVx8",
        "outputId": "e60ef8d0-b38a-43bf-93c6-8b635cb16ed3"
      },
      "execution_count": 26,
      "outputs": [
        {
          "output_type": "execute_result",
          "data": {
            "text/plain": [
              "-2.6"
            ]
          },
          "metadata": {},
          "execution_count": 26
        }
      ]
    },
    {
      "cell_type": "markdown",
      "source": [
        "## Ex 4.\n",
        "\n",
        "* 함수 이름: calc_variance\n",
        "* 기능: 숫자들을 저장하고 있는 리스트의 원소들의 분산을 반환."
      ],
      "metadata": {
        "id": "iJn8cQnJeTMz"
      }
    },
    {
      "cell_type": "code",
      "source": [
        "def calc_variance(numbers):\n",
        "    mean = calc_mean(numbers)  # 평균\n",
        "    squares = [(x - mean) ** 2 for x in numbers]\n",
        "    var = calc_sum(squares) / (len(numbers) - 1)\n",
        "    return var"
      ],
      "metadata": {
        "id": "4ZhcnLpNCq9T"
      },
      "execution_count": 27,
      "outputs": []
    },
    {
      "cell_type": "code",
      "source": [
        "var = calc_variance(num_list)\n",
        "var"
      ],
      "metadata": {
        "colab": {
          "base_uri": "https://localhost:8080/"
        },
        "id": "7oN30yMOFD1l",
        "outputId": "3bb51278-8353-456b-98ba-098c9e35f631"
      },
      "execution_count": 28,
      "outputs": [
        {
          "output_type": "execute_result",
          "data": {
            "text/plain": [
              "11.299999999999997"
            ]
          },
          "metadata": {},
          "execution_count": 28
        }
      ]
    },
    {
      "cell_type": "markdown",
      "source": [
        "## Ex 5.\n",
        "\n",
        "* 함수 이름: calc_stddev\n",
        "* 기능: 숫자들을 저장하고 있는 리스트의 원소들의 표준편차를 반환."
      ],
      "metadata": {
        "id": "KkASkmomefqn"
      }
    },
    {
      "cell_type": "code",
      "source": [
        "def calc_stddev(numbers):\n",
        "    return math.sqrt(calc_variance(numbers))"
      ],
      "metadata": {
        "id": "mqO44E9bFq_L"
      },
      "execution_count": 29,
      "outputs": []
    },
    {
      "cell_type": "code",
      "source": [
        "stddev = calc_stddev(num_list)\n",
        "stddev"
      ],
      "metadata": {
        "colab": {
          "base_uri": "https://localhost:8080/"
        },
        "id": "Sp48MLRcF4m1",
        "outputId": "e59dc47f-eff0-4b9c-8f58-f7e60ecf6813"
      },
      "execution_count": 30,
      "outputs": [
        {
          "output_type": "execute_result",
          "data": {
            "text/plain": [
              "3.3615472627943217"
            ]
          },
          "metadata": {},
          "execution_count": 30
        }
      ]
    },
    {
      "cell_type": "markdown",
      "source": [
        "## Ex 6.\n",
        "\n",
        "* 함수 이름: find_max_and_min\n",
        "* 기능: 숫자들을 저장하고 있는 리스트에서 최댓값과 최솟값을 반환."
      ],
      "metadata": {
        "id": "zJFy7EEGetFp"
      }
    },
    {
      "cell_type": "code",
      "source": [
        "def find_max_and_min(numbers):\n",
        "    # return max(numbers), min(numbers)\n",
        "    \n",
        "    max_numbers = numbers[0]\n",
        "    min_numbers = numbers[0]\n",
        "    for x in numbers:\n",
        "        if x > max_numbers:\n",
        "            max_numbers = x\n",
        "        if x < min_numbers:\n",
        "            min_numbers = x\n",
        "    return max_numbers, min_numbers"
      ],
      "metadata": {
        "id": "Jsi7W5nEeFjC"
      },
      "execution_count": 34,
      "outputs": []
    },
    {
      "cell_type": "code",
      "source": [
        "num_list"
      ],
      "metadata": {
        "colab": {
          "base_uri": "https://localhost:8080/"
        },
        "id": "EcGxSLrxGoEr",
        "outputId": "b2738f4a-c416-4f61-9b61-68f5b6a3cc4d"
      },
      "execution_count": 32,
      "outputs": [
        {
          "output_type": "execute_result",
          "data": {
            "text/plain": [
              "[3, -3, -4, -3, -6]"
            ]
          },
          "metadata": {},
          "execution_count": 32
        }
      ]
    },
    {
      "cell_type": "code",
      "source": [
        "find_max_and_min(num_list)"
      ],
      "metadata": {
        "colab": {
          "base_uri": "https://localhost:8080/"
        },
        "id": "l9LjxvHcGpLz",
        "outputId": "221049b3-2c6a-4468-eb7d-092539320422"
      },
      "execution_count": 35,
      "outputs": [
        {
          "output_type": "execute_result",
          "data": {
            "text/plain": [
              "(3, -6)"
            ]
          },
          "metadata": {},
          "execution_count": 35
        }
      ]
    },
    {
      "cell_type": "markdown",
      "source": [
        "# Default argument(기본 인수)\n",
        "\n",
        "* 함수를 정의할 때 파라미터(parameter)에 설정된 기본값.\n",
        "* 함수를 호출할 때 default argument를 갖는 파라미터에 값을 전달하지 않으면, default argument가 함수 내부에서 사용됨.\n",
        "* 함수를 호출할 때 default argument를 갖는 파라미터에 값을 전달하면, default argument는 무시되고 전달된 값이 함수 내부에서 사용됨.\n",
        "* **(주의)** 함수를 정의할 때, default parameter들은 반드시 default 값을 갖지 않는 파라미터들 뒤에 선언해야 함!"
      ],
      "metadata": {
        "id": "1ixSRTdPLmR8"
      }
    },
    {
      "cell_type": "code",
      "source": [
        "def repeat_messages(message, n=1):\n",
        "    for _ in range(n):\n",
        "        print(message)"
      ],
      "metadata": {
        "id": "_LTHDwSNMubC"
      },
      "execution_count": 36,
      "outputs": []
    },
    {
      "cell_type": "code",
      "source": [
        "repeat_messages('안녕하세요')\n",
        "# 파라미터 n에 값을 전달하지 않은 경우, n은 기본값 1을 갖게 됨."
      ],
      "metadata": {
        "colab": {
          "base_uri": "https://localhost:8080/"
        },
        "id": "JekFG86ENlCT",
        "outputId": "eebef083-11b8-4941-a662-865a5db3ea46"
      },
      "execution_count": 37,
      "outputs": [
        {
          "output_type": "stream",
          "name": "stdout",
          "text": [
            "안녕하세요\n"
          ]
        }
      ]
    },
    {
      "cell_type": "code",
      "source": [
        "repeat_messages('안녕하세요', 3)"
      ],
      "metadata": {
        "colab": {
          "base_uri": "https://localhost:8080/"
        },
        "id": "YgcwsWiZNq9r",
        "outputId": "b66220c4-60c9-4f62-81c0-3307bac5e0b9"
      },
      "execution_count": 38,
      "outputs": [
        {
          "output_type": "stream",
          "name": "stdout",
          "text": [
            "안녕하세요\n",
            "안녕하세요\n",
            "안녕하세요\n"
          ]
        }
      ]
    },
    {
      "cell_type": "markdown",
      "source": [
        "# argument 전달 방법:\n",
        "\n",
        "함수를 호출할 때, 함수에 값(argument)를 전달하는 방법:\n",
        "*   **positional argument**: 함수를 정의할 때 선언된 파라미터 순서대로 값을 전달하는 방식.\n",
        "*   **keyword argument**: `param_name=value`과 같은 형식으로 값을 전달하는 방식.\n",
        "    * keyword argument 방식으로 값을 전달할 때는 함수 정의의 파라미터 순서를 지키지 않아도 됨.\n",
        "*   **(주의)** 함수를 호출할 때 positional 방식과 keyword 방식을 함께 사용하는 경우에는 반드시 positional arguement가 먼저, keyword argument가 나중에 와야 함!\n"
      ],
      "metadata": {
        "id": "RVzmpc-lPU6r"
      }
    },
    {
      "cell_type": "code",
      "source": [
        "def minus(x, y):\n",
        "    return x - y"
      ],
      "metadata": {
        "id": "NbzRsB3cOEhT"
      },
      "execution_count": 42,
      "outputs": []
    },
    {
      "cell_type": "code",
      "source": [
        "# positional argument 방식의 함수 호출\n",
        "minus(1, 2)"
      ],
      "metadata": {
        "colab": {
          "base_uri": "https://localhost:8080/"
        },
        "id": "2DpKGFpuQzNS",
        "outputId": "c67b0957-7396-4233-d3bb-59b6cef1c38f"
      },
      "execution_count": 43,
      "outputs": [
        {
          "output_type": "execute_result",
          "data": {
            "text/plain": [
              "-1"
            ]
          },
          "metadata": {},
          "execution_count": 43
        }
      ]
    },
    {
      "cell_type": "code",
      "source": [
        "# keyword argument 방식의 함수 호출\n",
        "minus(x=1, y=2)"
      ],
      "metadata": {
        "colab": {
          "base_uri": "https://localhost:8080/"
        },
        "id": "GgXMVtroSD4E",
        "outputId": "f23a5915-e2c6-456b-a511-f983c66e5897"
      },
      "execution_count": 44,
      "outputs": [
        {
          "output_type": "execute_result",
          "data": {
            "text/plain": [
              "-1"
            ]
          },
          "metadata": {},
          "execution_count": 44
        }
      ]
    },
    {
      "cell_type": "code",
      "source": [
        "# keyword argument 방식의 함수 호출에서는 파라미터의 순서를 지키지 않아도 됨.\n",
        "minus(y=1, x=2)"
      ],
      "metadata": {
        "colab": {
          "base_uri": "https://localhost:8080/"
        },
        "id": "4Pigx6DwSJF6",
        "outputId": "9582c215-ebab-4cb4-8727-6fe32dada143"
      },
      "execution_count": 45,
      "outputs": [
        {
          "output_type": "execute_result",
          "data": {
            "text/plain": [
              "1"
            ]
          },
          "metadata": {},
          "execution_count": 45
        }
      ]
    },
    {
      "cell_type": "code",
      "source": [
        "minus(1, y=2)\n",
        "# positional argument를 먼저, keyword argument를 나중에 전달하는 것은 가능."
      ],
      "metadata": {
        "colab": {
          "base_uri": "https://localhost:8080/"
        },
        "id": "F6FF0sZ9ScZa",
        "outputId": "deb8ef06-ff39-4bd3-940d-8c5331aefdc1"
      },
      "execution_count": 46,
      "outputs": [
        {
          "output_type": "execute_result",
          "data": {
            "text/plain": [
              "-1"
            ]
          },
          "metadata": {},
          "execution_count": 46
        }
      ]
    },
    {
      "cell_type": "code",
      "source": [
        "# minus(x=1, 2)\n",
        "#> positional argument가 keyword argument보다 나중에 나오면 안됨!"
      ],
      "metadata": {
        "id": "UWs_YQkyTUhC"
      },
      "execution_count": null,
      "outputs": []
    },
    {
      "cell_type": "markdown",
      "source": [
        "# 가변길이 인수(variable-length arguments)"
      ],
      "metadata": {
        "id": "ksn8af0lTvkB"
      }
    },
    {
      "cell_type": "code",
      "source": [
        "print('hello')  # argument 1개"
      ],
      "metadata": {
        "colab": {
          "base_uri": "https://localhost:8080/"
        },
        "id": "522YrF9rT6xx",
        "outputId": "e4c8aa7b-8566-4129-ef3e-fb4760051c5d"
      },
      "execution_count": 47,
      "outputs": [
        {
          "output_type": "stream",
          "name": "stdout",
          "text": [
            "hello\n"
          ]
        }
      ]
    },
    {
      "cell_type": "code",
      "source": [
        "print('hello', 'python')  # argument 2개"
      ],
      "metadata": {
        "colab": {
          "base_uri": "https://localhost:8080/"
        },
        "id": "fKau1B0bUGcL",
        "outputId": "2cdf42d2-6fb3-47f4-cb5b-90841f6840bf"
      },
      "execution_count": 48,
      "outputs": [
        {
          "output_type": "stream",
          "name": "stdout",
          "text": [
            "hello python\n"
          ]
        }
      ]
    },
    {
      "cell_type": "code",
      "source": [
        "max([1, 2, 3])  # argument 1개"
      ],
      "metadata": {
        "colab": {
          "base_uri": "https://localhost:8080/"
        },
        "id": "j2Qv-QA9UL5K",
        "outputId": "168404a7-d720-4153-c512-804e88a4cddc"
      },
      "execution_count": 49,
      "outputs": [
        {
          "output_type": "execute_result",
          "data": {
            "text/plain": [
              "3"
            ]
          },
          "metadata": {},
          "execution_count": 49
        }
      ]
    },
    {
      "cell_type": "code",
      "source": [
        "max(1, 2, 3, 10, 5, 7)  # argument 6개"
      ],
      "metadata": {
        "colab": {
          "base_uri": "https://localhost:8080/"
        },
        "id": "9tKHSGwpUcgK",
        "outputId": "a9f34172-28e6-43f0-c50b-5534f2d9f048"
      },
      "execution_count": 50,
      "outputs": [
        {
          "output_type": "execute_result",
          "data": {
            "text/plain": [
              "10"
            ]
          },
          "metadata": {},
          "execution_count": 50
        }
      ]
    },
    {
      "cell_type": "markdown",
      "source": [
        "**가변길이 인수(variable-length argument)**\n",
        "\n",
        "* 함수를 호출할 때 전달하는 값(argument)의 개수가 임의로 변할 수 있는 것.\n",
        "    * argument 개수의 제한이 없다.\n",
        "    * argument를 전달하지 않아도 됨.\n",
        "* 함수를 정의할 때, 파라미터 이름 앞에 `*`를 사용하면 가변길이 인수를 전달받는 파라미터가 됨.\n",
        "* 함수 내부에서 가변길이 인수는 tuple로 취급.\n",
        "    * 가변길이 인수는 인덱스를 사용할 수 있음.\n",
        "    * 가변길이 인수는 for-in 구문에서 사용할 수 있음.\n",
        "* **(주의)**\n",
        "    * 가변길이 인수는 keyword argument 방식으로 전달할 수 없음.\n",
        "    * 함수를 선언할 때, 가변길이 인수를 갖는 파라미터는 **하나**만 선언할 수 있음."
      ],
      "metadata": {
        "id": "_ZYKyMjOYsGC"
      }
    },
    {
      "cell_type": "code",
      "source": [
        "def add_all(*values):\n",
        "    total = 0\n",
        "    for x in values:\n",
        "        total += x\n",
        "    return total"
      ],
      "metadata": {
        "id": "bCEXcXAMUioy"
      },
      "execution_count": 55,
      "outputs": []
    },
    {
      "cell_type": "code",
      "source": [
        "add_all(1)"
      ],
      "metadata": {
        "colab": {
          "base_uri": "https://localhost:8080/"
        },
        "id": "pBlX_QxJaV0i",
        "outputId": "36e56246-5f40-4632-fdac-e64c9d737e31"
      },
      "execution_count": 56,
      "outputs": [
        {
          "output_type": "execute_result",
          "data": {
            "text/plain": [
              "1"
            ]
          },
          "metadata": {},
          "execution_count": 56
        }
      ]
    },
    {
      "cell_type": "code",
      "source": [
        "add_all(1, 2, 3)"
      ],
      "metadata": {
        "colab": {
          "base_uri": "https://localhost:8080/"
        },
        "id": "7DSQt29naYBq",
        "outputId": "b7f31de1-f3a8-4b20-a32b-f996fed15c18"
      },
      "execution_count": 57,
      "outputs": [
        {
          "output_type": "execute_result",
          "data": {
            "text/plain": [
              "6"
            ]
          },
          "metadata": {},
          "execution_count": 57
        }
      ]
    },
    {
      "cell_type": "code",
      "source": [
        "add_all()"
      ],
      "metadata": {
        "colab": {
          "base_uri": "https://localhost:8080/"
        },
        "id": "ToThXx32ap0S",
        "outputId": "50d99433-46cc-489a-f27b-f51b1904b97c"
      },
      "execution_count": 58,
      "outputs": [
        {
          "output_type": "execute_result",
          "data": {
            "text/plain": [
              "0"
            ]
          },
          "metadata": {},
          "execution_count": 58
        }
      ]
    },
    {
      "cell_type": "code",
      "source": [
        "def test1(a, *b):\n",
        "    print('a = ', a)\n",
        "    print('b = ', b)"
      ],
      "metadata": {
        "id": "2Xh6yzDrbIfy"
      },
      "execution_count": 62,
      "outputs": []
    },
    {
      "cell_type": "code",
      "source": [
        "test1(1, 2)"
      ],
      "metadata": {
        "colab": {
          "base_uri": "https://localhost:8080/"
        },
        "id": "bz_0W6xKcknz",
        "outputId": "b9758cb8-71a4-435c-d699-03ccff7a22a1"
      },
      "execution_count": 63,
      "outputs": [
        {
          "output_type": "stream",
          "name": "stdout",
          "text": [
            "a =  1\n",
            "b =  (2,)\n"
          ]
        }
      ]
    },
    {
      "cell_type": "code",
      "source": [
        "test1(1, 2, 3)"
      ],
      "metadata": {
        "colab": {
          "base_uri": "https://localhost:8080/"
        },
        "id": "ydUMt2dBcqGR",
        "outputId": "1fd64e7a-1dd2-4975-e3ae-eb4833d2bbf9"
      },
      "execution_count": 64,
      "outputs": [
        {
          "output_type": "stream",
          "name": "stdout",
          "text": [
            "a =  1\n",
            "b =  (2, 3)\n"
          ]
        }
      ]
    },
    {
      "cell_type": "markdown",
      "source": [
        "`test1()` 함수는 positional argument 방식으로만 값을 전달할 수 있는 함수."
      ],
      "metadata": {
        "id": "dE7-b4-cdz9q"
      }
    },
    {
      "cell_type": "code",
      "source": [
        "def test2(*a, b):\n",
        "    print('a = ', a)\n",
        "    print('b = ', b)"
      ],
      "metadata": {
        "id": "UrVM6-W2c3xC"
      },
      "execution_count": 67,
      "outputs": []
    },
    {
      "cell_type": "code",
      "source": [
        "test2(1, 2, b=3)"
      ],
      "metadata": {
        "colab": {
          "base_uri": "https://localhost:8080/"
        },
        "id": "ZmghH3vbdOjy",
        "outputId": "e30cdd1a-7c23-4645-b43e-cc92f7ff39b1"
      },
      "execution_count": 71,
      "outputs": [
        {
          "output_type": "stream",
          "name": "stdout",
          "text": [
            "a =  (1, 2)\n",
            "b =  3\n"
          ]
        }
      ]
    },
    {
      "cell_type": "markdown",
      "source": [
        "`test2()` 함수에서 파라미터 b는 반드시 keyword argument 방식으로만 값을 전달할 수 있음."
      ],
      "metadata": {
        "id": "r6MQmouz0vF0"
      }
    },
    {
      "cell_type": "code",
      "source": [
        "def test3(*a, b=0):\n",
        "    print('a = ', a)\n",
        "    print('b = ', b)"
      ],
      "metadata": {
        "id": "kL-AfhheeRiK"
      },
      "execution_count": 72,
      "outputs": []
    },
    {
      "cell_type": "code",
      "source": [
        "test3(1)"
      ],
      "metadata": {
        "colab": {
          "base_uri": "https://localhost:8080/"
        },
        "id": "NxRYb0AvfvY6",
        "outputId": "e116ce4b-b868-451d-b6d5-66cdd56b74f7"
      },
      "execution_count": 73,
      "outputs": [
        {
          "output_type": "stream",
          "name": "stdout",
          "text": [
            "a =  (1,)\n",
            "b =  0\n"
          ]
        }
      ]
    },
    {
      "cell_type": "code",
      "source": [
        "test3(1, 2, 3)"
      ],
      "metadata": {
        "colab": {
          "base_uri": "https://localhost:8080/"
        },
        "id": "4CE-q9bAf1Yx",
        "outputId": "6eab20cc-0559-48e7-91cf-f3ae59545c21"
      },
      "execution_count": 74,
      "outputs": [
        {
          "output_type": "stream",
          "name": "stdout",
          "text": [
            "a =  (1, 2, 3)\n",
            "b =  0\n"
          ]
        }
      ]
    },
    {
      "cell_type": "code",
      "source": [
        "test3(1, 2, 3, b=100)"
      ],
      "metadata": {
        "colab": {
          "base_uri": "https://localhost:8080/"
        },
        "id": "4Ld0btU2f3FB",
        "outputId": "d7b1d838-071b-407c-de3e-21b53f742722"
      },
      "execution_count": 75,
      "outputs": [
        {
          "output_type": "stream",
          "name": "stdout",
          "text": [
            "a =  (1, 2, 3)\n",
            "b =  100\n"
          ]
        }
      ]
    },
    {
      "cell_type": "code",
      "source": [
        "def calculate(*values, op):\n",
        "    \"\"\"\n",
        "    values: 임의의 개수의 숫자들.\n",
        "    op: 문자열. ('+', 또는 '*')\n",
        "    op가 '+'인 경우에는 모든 값들의 합을 리턴. values에 전달된 값이 없으면 0을 리턴.\n",
        "    op가 '*'인 경우에는 모든 값들의 곱을 리턴. values에 전달된 값이 없으면 1을 리턴.\n",
        "    \"\"\"\n",
        "    if op == '+':\n",
        "        result = 0\n",
        "        for x in values:\n",
        "            result += x\n",
        "    elif op == '*':\n",
        "        result = 1\n",
        "        for x in values:\n",
        "            result *= x\n",
        "    else:\n",
        "        result = None\n",
        "    \n",
        "    return result"
      ],
      "metadata": {
        "id": "MU3dTEjff53R"
      },
      "execution_count": 77,
      "outputs": []
    },
    {
      "cell_type": "code",
      "source": [
        "calculate(1, 2, 3, 4, 5, op='+')"
      ],
      "metadata": {
        "colab": {
          "base_uri": "https://localhost:8080/"
        },
        "id": "XJyPEtJqhBJj",
        "outputId": "370c716b-5540-43cd-d803-b1dbb82069e8"
      },
      "execution_count": 81,
      "outputs": [
        {
          "output_type": "execute_result",
          "data": {
            "text/plain": [
              "15"
            ]
          },
          "metadata": {},
          "execution_count": 81
        }
      ]
    },
    {
      "cell_type": "code",
      "source": [
        "calculate(1, 2, 3, 4, 5, op='*')"
      ],
      "metadata": {
        "colab": {
          "base_uri": "https://localhost:8080/"
        },
        "id": "0uaZq-pyiuqj",
        "outputId": "c864f8e2-5d1b-4434-ac6c-c935a29f263e"
      },
      "execution_count": 82,
      "outputs": [
        {
          "output_type": "execute_result",
          "data": {
            "text/plain": [
              "120"
            ]
          },
          "metadata": {},
          "execution_count": 82
        }
      ]
    },
    {
      "cell_type": "code",
      "source": [
        "calculate(op='+')"
      ],
      "metadata": {
        "colab": {
          "base_uri": "https://localhost:8080/"
        },
        "id": "Q9wA1YiJix4q",
        "outputId": "9a092316-3748-48c0-8250-6b48b3a4307c"
      },
      "execution_count": 83,
      "outputs": [
        {
          "output_type": "execute_result",
          "data": {
            "text/plain": [
              "0"
            ]
          },
          "metadata": {},
          "execution_count": 83
        }
      ]
    },
    {
      "cell_type": "code",
      "source": [
        "calculate(op='*')"
      ],
      "metadata": {
        "colab": {
          "base_uri": "https://localhost:8080/"
        },
        "id": "IRJpkLM2i8sC",
        "outputId": "b5fa5681-2752-4e93-c024-d9ef4264875d"
      },
      "execution_count": 84,
      "outputs": [
        {
          "output_type": "execute_result",
          "data": {
            "text/plain": [
              "1"
            ]
          },
          "metadata": {},
          "execution_count": 84
        }
      ]
    },
    {
      "cell_type": "markdown",
      "source": [
        "# 가변길이 키워드 인수(variable-length keyword argument)\n",
        "\n",
        "* variable-length + keyword\n",
        "    * variable-length argument: 함수를 호출할 때, 임의의 개수의 argument를 전달할 수 있음.\n",
        "    * keyword argument: 함수를 호출할 때 반드시 `param_name=value` 형식으로 값을 전달.\n",
        "* 함수를 정의할 때, 파라미터 이름 앞에 `**`를 사용.\n",
        "* 함수를 호출할 때, 임의의 개수의 keyword argument를 전달하면 됨. \n",
        "    * 파라미터 이름 제한 없음.\n",
        "    * 값의 개수 제한 없음.\n",
        "* 함수 내부에서 가변길이 키워드 인수는 dict로 취급됨.\n",
        "    * 함수 호출할 때 사용한 파라미터 이름이 dict의 키(key)가 됨.\n",
        "    * 함수 호출할 때 파라미터에 전달한 값(argument)이 dict의 값(value)가 됨.\n",
        "* 가변길이 키워드 인수는 함수 정의에서 오직 한번만 가능."
      ],
      "metadata": {
        "id": "Jocu_NKI1xfy"
      }
    },
    {
      "cell_type": "code",
      "source": [
        "def test4(**kwargs):\n",
        "    print(kwargs)"
      ],
      "metadata": {
        "id": "yn1R2mayjBEi"
      },
      "execution_count": 85,
      "outputs": []
    },
    {
      "cell_type": "code",
      "source": [
        "test4()"
      ],
      "metadata": {
        "colab": {
          "base_uri": "https://localhost:8080/"
        },
        "id": "n3NWV3qp3hX8",
        "outputId": "0bcc6344-c396-436f-fcdf-27d189a193dd"
      },
      "execution_count": 86,
      "outputs": [
        {
          "output_type": "stream",
          "name": "stdout",
          "text": [
            "{}\n"
          ]
        }
      ]
    },
    {
      "cell_type": "code",
      "source": [
        "test4(a=1)"
      ],
      "metadata": {
        "colab": {
          "base_uri": "https://localhost:8080/"
        },
        "id": "loM2Hoa23j6C",
        "outputId": "0f720fcd-37bf-4e84-832b-ac2f947c5e46"
      },
      "execution_count": 88,
      "outputs": [
        {
          "output_type": "stream",
          "name": "stdout",
          "text": [
            "{'a': 1}\n"
          ]
        }
      ]
    },
    {
      "cell_type": "code",
      "source": [
        "test4(a=1, b='hello')"
      ],
      "metadata": {
        "colab": {
          "base_uri": "https://localhost:8080/"
        },
        "id": "-ADzldQL3xap",
        "outputId": "24b67fe3-6097-4dc4-d065-681eecbeae14"
      },
      "execution_count": 89,
      "outputs": [
        {
          "output_type": "stream",
          "name": "stdout",
          "text": [
            "{'a': 1, 'b': 'hello'}\n"
          ]
        }
      ]
    },
    {
      "cell_type": "code",
      "source": [
        "def test5(*args, **kwargs):\n",
        "    print('args =', args)      # args: 가변길이 인수 -> tuple\n",
        "    print('kwargs =', kwargs)  # kwargs: 가변길이 키워드 인수 -> dict"
      ],
      "metadata": {
        "id": "8b8ApaUv4VoJ"
      },
      "execution_count": 90,
      "outputs": []
    },
    {
      "cell_type": "code",
      "source": [
        "test5(1, 2, 'a', 'b')"
      ],
      "metadata": {
        "colab": {
          "base_uri": "https://localhost:8080/"
        },
        "id": "ZCmShtqv5EKe",
        "outputId": "633d9b89-f8c9-4bba-d73e-6c7cbd92fabf"
      },
      "execution_count": 91,
      "outputs": [
        {
          "output_type": "stream",
          "name": "stdout",
          "text": [
            "args = (1, 2, 'a', 'b')\n",
            "kwargs = {}\n"
          ]
        }
      ]
    },
    {
      "cell_type": "code",
      "source": [
        "test5(1, 2, a=100, b=200)"
      ],
      "metadata": {
        "colab": {
          "base_uri": "https://localhost:8080/"
        },
        "id": "25ZBmrDA5cOx",
        "outputId": "cba6b1df-ab2a-40dd-fd0d-123f630762e4"
      },
      "execution_count": 92,
      "outputs": [
        {
          "output_type": "stream",
          "name": "stdout",
          "text": [
            "args = (1, 2)\n",
            "kwargs = {'a': 100, 'b': 200}\n"
          ]
        }
      ]
    },
    {
      "cell_type": "code",
      "source": [
        "def make_employee(emp_no, emp_name, **kwargs):\n",
        "    emp = {'emp_no': emp_no, 'emp_name': emp_name}\n",
        "    for k, v in kwargs.items():\n",
        "        # kwargs의 키(파라미터 이름)이 email 또는 phone인 경우에만 dict에 추가.\n",
        "        # 그 이외의 파라미터들은 모두 무시.\n",
        "        if k == 'email' or k == 'phone':\n",
        "            emp[k] = v\n",
        "    return emp"
      ],
      "metadata": {
        "id": "Ft5i3ZF0504p"
      },
      "execution_count": 93,
      "outputs": []
    },
    {
      "cell_type": "code",
      "source": [
        "make_employee(101, 'Scott', tel='010-1111-2222')"
      ],
      "metadata": {
        "colab": {
          "base_uri": "https://localhost:8080/"
        },
        "id": "hB7QvTEA71t1",
        "outputId": "1967ed92-5339-40fe-f965-c6c97d822967"
      },
      "execution_count": 96,
      "outputs": [
        {
          "output_type": "execute_result",
          "data": {
            "text/plain": [
              "{'emp_name': 'Scott', 'emp_no': 101}"
            ]
          },
          "metadata": {},
          "execution_count": 96
        }
      ]
    },
    {
      "cell_type": "code",
      "source": [
        "make_employee(101, 'Scott', phone='010-1111-2222')"
      ],
      "metadata": {
        "colab": {
          "base_uri": "https://localhost:8080/"
        },
        "id": "i9qdRwM78HOJ",
        "outputId": "a86174a1-8871-4380-fd9f-cae809d10d79"
      },
      "execution_count": 97,
      "outputs": [
        {
          "output_type": "execute_result",
          "data": {
            "text/plain": [
              "{'emp_name': 'Scott', 'emp_no': 101, 'phone': '010-1111-2222'}"
            ]
          },
          "metadata": {},
          "execution_count": 97
        }
      ]
    },
    {
      "cell_type": "markdown",
      "source": [
        "# 재귀 함수(recursive function)\n",
        "\n",
        "함수 내부에서 자기 자신을 다시 호출하는 함수"
      ],
      "metadata": {
        "id": "OLCKN0fM9OwB"
      }
    },
    {
      "cell_type": "code",
      "source": [
        "def factorial(n):\n",
        "    \"\"\"\n",
        "    0! = 1 (정의)\n",
        "    1! = 1 = 0! x 1\n",
        "    2! = 1 x 2 = 2 = 1! x 2\n",
        "    3! = 1 x 2 x 3 = 6 = 2! x 3\n",
        "    ...\n",
        "    n! = 1 x 2 x ... x (n-1) x n = (n-1)! x n, n >= 1\n",
        "    \"\"\"\n",
        "    result = None\n",
        "    if n == 0:\n",
        "        result = 1\n",
        "    elif n > 0:\n",
        "        result = factorial(n - 1) * n\n",
        "    return result"
      ],
      "metadata": {
        "id": "seskTVhJ9gF6"
      },
      "execution_count": 98,
      "outputs": []
    },
    {
      "cell_type": "code",
      "source": [
        "for n in range(6):\n",
        "    print(factorial(n))"
      ],
      "metadata": {
        "colab": {
          "base_uri": "https://localhost:8080/"
        },
        "id": "S1xNdd-e-6J1",
        "outputId": "d31fc5c6-1954-476b-ff34-5661a5a79228"
      },
      "execution_count": 99,
      "outputs": [
        {
          "output_type": "stream",
          "name": "stdout",
          "text": [
            "1\n",
            "1\n",
            "2\n",
            "6\n",
            "24\n",
            "120\n"
          ]
        }
      ]
    }
  ]
}