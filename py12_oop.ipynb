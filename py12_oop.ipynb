{
  "nbformat": 4,
  "nbformat_minor": 0,
  "metadata": {
    "colab": {
      "name": "py12_oop.ipynb",
      "provenance": [],
      "collapsed_sections": [],
      "authorship_tag": "ABX9TyOKkAJlIK35EvayXa79nlTD",
      "include_colab_link": true
    },
    "kernelspec": {
      "name": "python3",
      "display_name": "Python 3"
    },
    "language_info": {
      "name": "python"
    }
  },
  "cells": [
    {
      "cell_type": "markdown",
      "metadata": {
        "id": "view-in-github",
        "colab_type": "text"
      },
      "source": [
        "<a href=\"https://colab.research.google.com/github/JakeOh/202110_itw_lab_python/blob/main/py12_oop.ipynb\" target=\"_parent\"><img src=\"https://colab.research.google.com/assets/colab-badge.svg\" alt=\"Open In Colab\"/></a>"
      ]
    },
    {
      "cell_type": "markdown",
      "source": [
        "# OOP(Object-Oriented Programming, 객체 지향 프로그래밍)의 배경\n"
      ],
      "metadata": {
        "id": "k7uWY_dEftbJ"
      }
    },
    {
      "cell_type": "markdown",
      "source": [
        "## list, dict 사용"
      ],
      "metadata": {
        "id": "aORRRg6sf9S4"
      }
    },
    {
      "cell_type": "code",
      "execution_count": 13,
      "metadata": {
        "id": "TvF2hjRyfKgZ"
      },
      "outputs": [],
      "source": [
        "students = [\n",
        "            {'name': 'aa', 'korean': 90, 'english': 95, 'math': 80},\n",
        "            {'name': 'bb', 'korean': 70, 'english': 80, 'math': 55},\n",
        "            {'name': 'cc', 'korean': 80, 'english': 95, 'math': 90},\n",
        "            {'name': 'dd', 'korean': 77, 'english': 99, 'math': 88},\n",
        "]"
      ]
    },
    {
      "cell_type": "code",
      "source": [
        "# 각 학생의 3과목 총점과 평균\n",
        "for s in students:\n",
        "    total = s['korean'] + s['english'] + s['math']\n",
        "    mean = total / 3\n",
        "    print(f'이름: {s[\"name\"]}, 총점: {total}, 평균: {mean}')"
      ],
      "metadata": {
        "colab": {
          "base_uri": "https://localhost:8080/"
        },
        "id": "rSalfv1WhBXg",
        "outputId": "e82d1a65-ef24-4b74-e5aa-4559739f6095"
      },
      "execution_count": 14,
      "outputs": [
        {
          "output_type": "stream",
          "name": "stdout",
          "text": [
            "이름: aa, 총점: 265, 평균: 88.33333333333333\n",
            "이름: bb, 총점: 205, 평균: 68.33333333333333\n",
            "이름: cc, 총점: 265, 평균: 88.33333333333333\n",
            "이름: dd, 총점: 264, 평균: 88.0\n"
          ]
        }
      ]
    },
    {
      "cell_type": "markdown",
      "source": [
        "## 함수형 프로그래밍(Functional Programming)"
      ],
      "metadata": {
        "id": "qmfGSVh5jyaI"
      }
    },
    {
      "cell_type": "code",
      "source": [
        "def create_student(name, korean, english, math):\n",
        "    student = {\n",
        "        'name': name,\n",
        "        'korean': korean,\n",
        "        'english': english,\n",
        "        'math': math,\n",
        "    }\n",
        "    return student"
      ],
      "metadata": {
        "id": "gx2p1Lf_iBr5"
      },
      "execution_count": 15,
      "outputs": []
    },
    {
      "cell_type": "code",
      "source": [
        "students = [\n",
        "            create_student(name='aa', korean=100, english=100, math=100),\n",
        "            create_student(name='bb', korean=90, english=100, math=100),\n",
        "            create_student(name='cc', korean=80, english=100, math=100),\n",
        "            create_student(name='dd', korean=77, english=100, math=100),\n",
        "]"
      ],
      "metadata": {
        "id": "ldI3FjTtkSvQ"
      },
      "execution_count": 16,
      "outputs": []
    },
    {
      "cell_type": "code",
      "source": [
        "def get_total(student):\n",
        "    return student['korean'] + student['english'] + student['math']"
      ],
      "metadata": {
        "id": "NP5-1oOmlKF_"
      },
      "execution_count": 17,
      "outputs": []
    },
    {
      "cell_type": "code",
      "source": [
        "def get_mean(student):\n",
        "    return get_total(student) / 3"
      ],
      "metadata": {
        "id": "2MnhhCralqJo"
      },
      "execution_count": 18,
      "outputs": []
    },
    {
      "cell_type": "code",
      "source": [
        "for s in students:\n",
        "    total = get_total(s)\n",
        "    mean = get_mean(s)\n",
        "    print(f'이름: {s[\"name\"]}, 총점: {total}, 평균: {mean}')"
      ],
      "metadata": {
        "colab": {
          "base_uri": "https://localhost:8080/"
        },
        "id": "th5ZNdX0lw2-",
        "outputId": "8ed60f6f-24db-488e-8442-392f3b9e844d"
      },
      "execution_count": 19,
      "outputs": [
        {
          "output_type": "stream",
          "name": "stdout",
          "text": [
            "이름: aa, 총점: 300, 평균: 100.0\n",
            "이름: bb, 총점: 290, 평균: 96.66666666666667\n",
            "이름: cc, 총점: 280, 평균: 93.33333333333333\n",
            "이름: dd, 총점: 277, 평균: 92.33333333333333\n"
          ]
        }
      ]
    },
    {
      "cell_type": "markdown",
      "source": [
        "## 객체 지향 프로그래밍(OOP)\n",
        "\n",
        "* 객체(object): 소프트웨어로 구현할 대상.\n",
        "* 클래스(class): 객체를 구현하기 위한 소스 코드.\n",
        "    * 속성(attribute, property): 객체가 가져야 하는 데이터. 변수들에 저장되는 값.\n",
        "    * 메서드(method): 객체가 가져야 하는 기능. 클래스 내부에서 정의하는 함수.\n",
        "* 인스턴스(instance): 클래스를 사용해서 메모리에 생성된 객체.\n",
        "* 인스턴스 생성(intantiate): 클래스의 객체를 메모리에 생성하는 것.\n",
        "* 생성자(constructor): 인스턴스를 생성하기 위해서 호출하는 함수. 클래스 이름과 동일한 함수."
      ],
      "metadata": {
        "id": "aVoiZmjInTKR"
      }
    },
    {
      "cell_type": "code",
      "source": [
        "# 클래스 정의\n",
        "class Student:\n",
        "    # 생성자 함수: 생성자가 호출됐을 때 자동으로 호출되는 함수. 속성들을 선언하고 초기화.\n",
        "    def __init__(self, name, korean, english, math):\n",
        "        self.name = name\n",
        "        self.korean = korean\n",
        "        self.english = english\n",
        "        self.math = math\n",
        "\n",
        "    # 메서드\n",
        "    def get_total(self):\n",
        "        return self.korean + self.english + self.math\n",
        "\n",
        "    def get_mean(self):\n",
        "        return self.get_total() / 3\n",
        "\n",
        "    def print_info(self):\n",
        "        print(f'이름: {self.name}, 총점: {self.get_total()}, 평균: {self.get_mean()}')"
      ],
      "metadata": {
        "id": "6C7ITbEmmDFX"
      },
      "execution_count": 20,
      "outputs": []
    },
    {
      "cell_type": "code",
      "source": [
        "stu1 = Student(name='홍길동', korean=100, english=80, math=70)"
      ],
      "metadata": {
        "id": "POWbVGLevmMf"
      },
      "execution_count": 21,
      "outputs": []
    },
    {
      "cell_type": "code",
      "source": [
        "stu1"
      ],
      "metadata": {
        "colab": {
          "base_uri": "https://localhost:8080/"
        },
        "id": "YsKQB_25v_Qm",
        "outputId": "f352e337-86b7-426b-f397-d3048edc7756"
      },
      "execution_count": 22,
      "outputs": [
        {
          "output_type": "execute_result",
          "data": {
            "text/plain": [
              "<__main__.Student at 0x7ff45a1b6910>"
            ]
          },
          "metadata": {},
          "execution_count": 22
        }
      ]
    },
    {
      "cell_type": "code",
      "source": [
        "stu1.get_total()"
      ],
      "metadata": {
        "colab": {
          "base_uri": "https://localhost:8080/"
        },
        "id": "g87tIR1XwALM",
        "outputId": "5743bb21-eda5-416f-fcff-91ec7434d867"
      },
      "execution_count": 23,
      "outputs": [
        {
          "output_type": "execute_result",
          "data": {
            "text/plain": [
              "250"
            ]
          },
          "metadata": {},
          "execution_count": 23
        }
      ]
    },
    {
      "cell_type": "code",
      "source": [
        "stu1.get_mean()"
      ],
      "metadata": {
        "colab": {
          "base_uri": "https://localhost:8080/"
        },
        "id": "6rEhdsSmxeNG",
        "outputId": "78b65fb1-1954-4edd-bca3-a4e9345fa684"
      },
      "execution_count": 24,
      "outputs": [
        {
          "output_type": "execute_result",
          "data": {
            "text/plain": [
              "83.33333333333333"
            ]
          },
          "metadata": {},
          "execution_count": 24
        }
      ]
    },
    {
      "cell_type": "code",
      "source": [
        "stu1.print_info()"
      ],
      "metadata": {
        "colab": {
          "base_uri": "https://localhost:8080/"
        },
        "id": "qTvAaFKVxh28",
        "outputId": "1008c248-76a9-403f-c853-5f9be5af10a9"
      },
      "execution_count": 25,
      "outputs": [
        {
          "output_type": "stream",
          "name": "stdout",
          "text": [
            "이름: 홍길동, 총점: 250, 평균: 83.33333333333333\n"
          ]
        }
      ]
    },
    {
      "cell_type": "code",
      "source": [
        "dir(stu1)  # 객체가 가지고 있는 멤버들(속성과 메서드)의 리스트"
      ],
      "metadata": {
        "colab": {
          "base_uri": "https://localhost:8080/"
        },
        "id": "-GHsBGBvxkw0",
        "outputId": "fd727080-bde7-436f-e6c3-c6cf3410d27c"
      },
      "execution_count": 26,
      "outputs": [
        {
          "output_type": "execute_result",
          "data": {
            "text/plain": [
              "['__class__',\n",
              " '__delattr__',\n",
              " '__dict__',\n",
              " '__dir__',\n",
              " '__doc__',\n",
              " '__eq__',\n",
              " '__format__',\n",
              " '__ge__',\n",
              " '__getattribute__',\n",
              " '__gt__',\n",
              " '__hash__',\n",
              " '__init__',\n",
              " '__init_subclass__',\n",
              " '__le__',\n",
              " '__lt__',\n",
              " '__module__',\n",
              " '__ne__',\n",
              " '__new__',\n",
              " '__reduce__',\n",
              " '__reduce_ex__',\n",
              " '__repr__',\n",
              " '__setattr__',\n",
              " '__sizeof__',\n",
              " '__str__',\n",
              " '__subclasshook__',\n",
              " '__weakref__',\n",
              " 'english',\n",
              " 'get_mean',\n",
              " 'get_total',\n",
              " 'korean',\n",
              " 'math',\n",
              " 'name',\n",
              " 'print_info']"
            ]
          },
          "metadata": {},
          "execution_count": 26
        }
      ]
    },
    {
      "cell_type": "markdown",
      "source": [
        "# class 작성 연습"
      ],
      "metadata": {
        "id": "OUGlpr1vJi_Z"
      }
    },
    {
      "cell_type": "code",
      "source": [
        "import math  # 수학 관련 함수들을 사용하기 위해서"
      ],
      "metadata": {
        "id": "kkvEMGTwJlAI"
      },
      "execution_count": 27,
      "outputs": []
    },
    {
      "cell_type": "code",
      "source": [
        "class Point:\n",
        "    \"\"\"2차원 평면의 점의 좌표를 표현하는 클래스\"\"\"\n",
        "    \n",
        "    def __init__(self, x=0, y=0):\n",
        "        self.x = x\n",
        "        self.y = y\n",
        "\n",
        "    def move(self, dx=0, dy=0):\n",
        "        \"\"\"점의 좌표를 원래 위치에 x축의 방향으로 dx만큼, y축의 방향으로 dy만큼 이동\"\"\"\n",
        "        self.x += dx\n",
        "        self.y += dy\n",
        "\n",
        "    def distance(self, other):\n",
        "        \"\"\"현재 점의 위치와 다른 점 other 사이의 거리를 리턴\"\"\"\n",
        "        return math.sqrt((self.x - other.x) ** 2 + (self.y - other.y) ** 2)"
      ],
      "metadata": {
        "id": "EkolxlshJrc4"
      },
      "execution_count": 28,
      "outputs": []
    },
    {
      "cell_type": "code",
      "source": [
        "pt1 = Point()  # 생성자 호출 -> Point 클래스의 인스턴스 생성"
      ],
      "metadata": {
        "id": "yPuwLSZKNnXo"
      },
      "execution_count": 29,
      "outputs": []
    },
    {
      "cell_type": "code",
      "source": [
        "print(pt1)"
      ],
      "metadata": {
        "colab": {
          "base_uri": "https://localhost:8080/"
        },
        "id": "bu4kncAiN7C4",
        "outputId": "b5553b91-8482-4f5c-d307-a196c5dba4c6"
      },
      "execution_count": 30,
      "outputs": [
        {
          "output_type": "stream",
          "name": "stdout",
          "text": [
            "<__main__.Point object at 0x7ff451ee6750>\n"
          ]
        }
      ]
    },
    {
      "cell_type": "code",
      "source": [
        "# 객체(인스턴스)의 속성들(멤버 변수들)\n",
        "print(pt1.x)\n",
        "print(pt1.y)"
      ],
      "metadata": {
        "colab": {
          "base_uri": "https://localhost:8080/"
        },
        "id": "xme0S-WaN78h",
        "outputId": "4b1d5649-b43a-4f13-985f-d28ef2853b3f"
      },
      "execution_count": 31,
      "outputs": [
        {
          "output_type": "stream",
          "name": "stdout",
          "text": [
            "0\n",
            "0\n"
          ]
        }
      ]
    },
    {
      "cell_type": "code",
      "source": [
        "pt2 = Point(3, 4)\n",
        "print(pt2)\n",
        "print(pt2.x)\n",
        "print(pt2.y)"
      ],
      "metadata": {
        "colab": {
          "base_uri": "https://localhost:8080/"
        },
        "id": "gP2MUjilONKn",
        "outputId": "5f1c4889-d23c-414c-8707-78382d288416"
      },
      "execution_count": 34,
      "outputs": [
        {
          "output_type": "stream",
          "name": "stdout",
          "text": [
            "<__main__.Point object at 0x7ff451ef7090>\n",
            "3\n",
            "4\n"
          ]
        }
      ]
    },
    {
      "cell_type": "code",
      "source": [
        "pt3 = Point(1)\n",
        "print(pt3)\n",
        "print(pt3.x, pt3.y)"
      ],
      "metadata": {
        "colab": {
          "base_uri": "https://localhost:8080/"
        },
        "id": "-GRSxMtJOvbi",
        "outputId": "e9b18d19-8cd6-4a55-ceeb-ed3d11b9cecf"
      },
      "execution_count": 35,
      "outputs": [
        {
          "output_type": "stream",
          "name": "stdout",
          "text": [
            "<__main__.Point object at 0x7ff451ee1410>\n",
            "1 0\n"
          ]
        }
      ]
    },
    {
      "cell_type": "code",
      "source": [
        "pt4 = Point(y=1)\n",
        "print(pt4)\n",
        "print(pt4.x, pt4.y)"
      ],
      "metadata": {
        "colab": {
          "base_uri": "https://localhost:8080/"
        },
        "id": "WbL5MsgrPmBH",
        "outputId": "804716a5-300d-44d3-f7b0-6025b02e55a1"
      },
      "execution_count": 36,
      "outputs": [
        {
          "output_type": "stream",
          "name": "stdout",
          "text": [
            "<__main__.Point object at 0x7ff451f14090>\n",
            "0 1\n"
          ]
        }
      ]
    },
    {
      "cell_type": "code",
      "source": [
        "# pt4를 x축의 방향으로 1만큼, y축의 방향으로 2만큼 이동\n",
        "pt4.move(dx=1, dy=2)\n",
        "print(pt4.x, pt4.y)"
      ],
      "metadata": {
        "colab": {
          "base_uri": "https://localhost:8080/"
        },
        "id": "4NHVYQ4PQt1_",
        "outputId": "e083384b-da3f-4bc1-c9fa-ecace8edcd7c"
      },
      "execution_count": 37,
      "outputs": [
        {
          "output_type": "stream",
          "name": "stdout",
          "text": [
            "1 3\n"
          ]
        }
      ]
    },
    {
      "cell_type": "code",
      "source": [
        "pt1.distance(pt2)"
      ],
      "metadata": {
        "colab": {
          "base_uri": "https://localhost:8080/"
        },
        "id": "HOqrlFxMQ8XB",
        "outputId": "bafb1c37-eba3-4ce7-a410-3724c055e59b"
      },
      "execution_count": 38,
      "outputs": [
        {
          "output_type": "execute_result",
          "data": {
            "text/plain": [
              "5.0"
            ]
          },
          "metadata": {},
          "execution_count": 38
        }
      ]
    },
    {
      "cell_type": "code",
      "source": [
        "class Rectangle:\n",
        "    \"\"\"직사각형: 꼭지점의 x좌표, 꼭지점의 y좌표, 가로길이, 세로길이, 둘레 길이 계산 기능, 넓이 계산 기능\"\"\"\n",
        "\n",
        "    def __init__(self, x=0, y=0, w=0, h=0):\n",
        "        self.x = x\n",
        "        self.y = y\n",
        "        self.width = w\n",
        "        self.height = h\n",
        "\n",
        "    def perimeter(self):\n",
        "        return 2 * (self.width + self.height)\n",
        "\n",
        "    def area(self):\n",
        "        return self.width * self.height"
      ],
      "metadata": {
        "id": "LYjCEYJfRfPi"
      },
      "execution_count": 39,
      "outputs": []
    },
    {
      "cell_type": "code",
      "source": [
        "# 꼭지점의 좌표가 원점(0, 0)이고, 가로 길이는 2, 세로 길이는 3인 직사각형\n",
        "rect1 = Rectangle(w=2, h=3)"
      ],
      "metadata": {
        "id": "FG5ikDfJZ4LX"
      },
      "execution_count": 40,
      "outputs": []
    },
    {
      "cell_type": "code",
      "source": [
        "rect1.perimeter()  # 2 * (2 + 3)"
      ],
      "metadata": {
        "colab": {
          "base_uri": "https://localhost:8080/"
        },
        "id": "XoQWcuEJal4-",
        "outputId": "86a891c4-a75a-401a-af16-251e8ec0046e"
      },
      "execution_count": 41,
      "outputs": [
        {
          "output_type": "execute_result",
          "data": {
            "text/plain": [
              "10"
            ]
          },
          "metadata": {},
          "execution_count": 41
        }
      ]
    },
    {
      "cell_type": "code",
      "source": [
        "rect1.area()  # 2 * 3"
      ],
      "metadata": {
        "colab": {
          "base_uri": "https://localhost:8080/"
        },
        "id": "C_JTIV-nattt",
        "outputId": "0995b4d9-1dc3-4e64-fd1c-ac2d200bfee7"
      },
      "execution_count": 42,
      "outputs": [
        {
          "output_type": "execute_result",
          "data": {
            "text/plain": [
              "6"
            ]
          },
          "metadata": {},
          "execution_count": 42
        }
      ]
    },
    {
      "cell_type": "code",
      "source": [
        "# 꼭지점의 좌표가 (1, 1)이고, 가로 길이는 4, 세로 길이는 3인 직사각형\n",
        "rect2 = Rectangle(x=1, y=1, w=4, h=3)"
      ],
      "metadata": {
        "id": "uRQmZF6sbISm"
      },
      "execution_count": 43,
      "outputs": []
    },
    {
      "cell_type": "code",
      "source": [
        "rect2.perimeter()"
      ],
      "metadata": {
        "colab": {
          "base_uri": "https://localhost:8080/"
        },
        "id": "eiXKtfvSbu-o",
        "outputId": "e5740d65-d7b6-4432-e021-02b8c4a1b6eb"
      },
      "execution_count": 44,
      "outputs": [
        {
          "output_type": "execute_result",
          "data": {
            "text/plain": [
              "14"
            ]
          },
          "metadata": {},
          "execution_count": 44
        }
      ]
    },
    {
      "cell_type": "code",
      "source": [
        "rect2.area()"
      ],
      "metadata": {
        "colab": {
          "base_uri": "https://localhost:8080/"
        },
        "id": "xc6M4AR0b_59",
        "outputId": "2894e4c9-ad96-4d4c-bcc9-93b4cbe29be6"
      },
      "execution_count": 45,
      "outputs": [
        {
          "output_type": "execute_result",
          "data": {
            "text/plain": [
              "12"
            ]
          },
          "metadata": {},
          "execution_count": 45
        }
      ]
    },
    {
      "cell_type": "markdown",
      "source": [
        "# magic method\n",
        "\n",
        "모든 클래스가 같은 이름으로 가지고 있는 메서드. 특별한 경우에 자동으로 호출되는 메서드.\n",
        "\n",
        "* `__init__(self)`: 생성자를 호출하면 자동으로 호출되는 메서드.\n",
        "* `__str__(self)`: `print()` 함수에서 자동으로 호출되는 메서드.\n",
        "* `__repr__(self)`: 식(expression)을 자동으로 출력할 때 호출되는 메서드.\n",
        "\n",
        "    * 클래스에서 `__str__`과 `__repr__` 메서드가 다르게 구현되어 있으면, print() 함수의 출력과 식을 출력하는 내용이 다름.\n",
        "    * `print` 함수는 `__str__` 메서드가 구현되어 있으면 `__str__`를 호출하고, `__str__` 함수가 구현되어 있지 않으면 `__repr__` 함수를 호출함.\n",
        "\n",
        "* `__eq__(self, o)`: `==` 연산자가 사용됐을 때 자동으로 호출되는 메서드.\n",
        "* `__add__(self, o)`: `+` 연산자가 사용됐을 때 자동으로 호출되는 메서드.\n",
        "* `__mul__(self, o)`: `*` 연산자가 사용됐을 때 자동으로 호출되는 메서드."
      ],
      "metadata": {
        "id": "TmXjaaiccLLt"
      }
    },
    {
      "cell_type": "code",
      "source": [
        "class Test:\n",
        "    def __init__(self):\n",
        "        print('Test 객체 생성됨')\n",
        "\n",
        "    # def __str__(self):\n",
        "    #     return 'Test 클래스 객체'\n",
        "\n",
        "    def __repr__(self):\n",
        "        return 'Test 인스턴스'"
      ],
      "metadata": {
        "id": "9DlXKYHYcCmd"
      },
      "execution_count": 61,
      "outputs": []
    },
    {
      "cell_type": "code",
      "source": [
        "test = Test()  # Test 클래스의 인스턴스 생성"
      ],
      "metadata": {
        "colab": {
          "base_uri": "https://localhost:8080/"
        },
        "id": "KyTBC0GEdnD3",
        "outputId": "2a7b843f-d6e5-4f78-9090-abf6fb76a8fc"
      },
      "execution_count": 62,
      "outputs": [
        {
          "output_type": "stream",
          "name": "stdout",
          "text": [
            "Test 객체 생성됨\n"
          ]
        }
      ]
    },
    {
      "cell_type": "code",
      "source": [
        "print(test)  # 문장(statement) - print 함수는 객체의 __str__() 메서드가 리턴하는 문자열을 출력\n",
        "test  # 식(exrpression) - 식이 자동으로 출력될 때는 객체의 __repr__() 메서드가 리턴하는 문자열을 출력"
      ],
      "metadata": {
        "colab": {
          "base_uri": "https://localhost:8080/"
        },
        "id": "6CFqAF-8doKd",
        "outputId": "95e9984d-12a5-4bab-b2c0-c3039941e82f"
      },
      "execution_count": 63,
      "outputs": [
        {
          "output_type": "stream",
          "name": "stdout",
          "text": [
            "Test 인스턴스\n"
          ]
        },
        {
          "output_type": "execute_result",
          "data": {
            "text/plain": [
              "Test 인스턴스"
            ]
          },
          "metadata": {},
          "execution_count": 63
        }
      ]
    },
    {
      "cell_type": "code",
      "source": [
        "numbers1 = [1, 2, 3]\n",
        "numbers2 = [1, 2, 3]\n",
        "numbers1 == numbers2  # == 연산자가 __eq__() 메서드를 호출: numbers1.__eq__(numbers2)"
      ],
      "metadata": {
        "colab": {
          "base_uri": "https://localhost:8080/"
        },
        "id": "DZcYDFqCdpNl",
        "outputId": "fa19de25-b009-4f85-9cfe-387b582229da"
      },
      "execution_count": 64,
      "outputs": [
        {
          "output_type": "execute_result",
          "data": {
            "text/plain": [
              "True"
            ]
          },
          "metadata": {},
          "execution_count": 64
        }
      ]
    },
    {
      "cell_type": "code",
      "source": [
        "id(numbers1)  # 리스트 numbers1의 주솟값"
      ],
      "metadata": {
        "colab": {
          "base_uri": "https://localhost:8080/"
        },
        "id": "8dLsViLzoPdF",
        "outputId": "571d2bfd-66c7-486a-b736-a69ba20b60cf"
      },
      "execution_count": 65,
      "outputs": [
        {
          "output_type": "execute_result",
          "data": {
            "text/plain": [
              "140687322651696"
            ]
          },
          "metadata": {},
          "execution_count": 65
        }
      ]
    },
    {
      "cell_type": "code",
      "source": [
        "id(numbers2)  # 리스트 numbers2의 주솟값"
      ],
      "metadata": {
        "colab": {
          "base_uri": "https://localhost:8080/"
        },
        "id": "8osuY8cRoa5k",
        "outputId": "40b6137b-2a4b-48f8-c1df-c615b48cc7ed"
      },
      "execution_count": 66,
      "outputs": [
        {
          "output_type": "execute_result",
          "data": {
            "text/plain": [
              "140687323283536"
            ]
          },
          "metadata": {},
          "execution_count": 66
        }
      ]
    },
    {
      "cell_type": "code",
      "source": [
        "class Test2:\n",
        "    def __init__(self, x):\n",
        "        self.x = x\n",
        "    \n",
        "    def __eq__(self, other):\n",
        "        if isinstance(other, Test2):\n",
        "            if self.x == other.x:\n",
        "                return True\n",
        "        return False"
      ],
      "metadata": {
        "id": "Ty-e_qx8ocJi"
      },
      "execution_count": 71,
      "outputs": []
    },
    {
      "cell_type": "code",
      "source": [
        "t1 = Test2(1)\n",
        "t2 = Test2(1)"
      ],
      "metadata": {
        "id": "G9Z9y3Z7pU9e"
      },
      "execution_count": 72,
      "outputs": []
    },
    {
      "cell_type": "code",
      "source": [
        "print(id(t1))\n",
        "print(id(t2))"
      ],
      "metadata": {
        "colab": {
          "base_uri": "https://localhost:8080/"
        },
        "id": "tOQkqdOtpdPj",
        "outputId": "91982838-37f4-40b2-f225-c94acc43f26b"
      },
      "execution_count": 73,
      "outputs": [
        {
          "output_type": "stream",
          "name": "stdout",
          "text": [
            "140687323628240\n",
            "140687323631504\n"
          ]
        }
      ]
    },
    {
      "cell_type": "code",
      "source": [
        "t1 == t2  # t1.__eq__(t2)의 결과"
      ],
      "metadata": {
        "colab": {
          "base_uri": "https://localhost:8080/"
        },
        "id": "zKj_0MRspj7L",
        "outputId": "d1dec684-60c2-4ed6-855a-6679a180b842"
      },
      "execution_count": 74,
      "outputs": [
        {
          "output_type": "execute_result",
          "data": {
            "text/plain": [
              "True"
            ]
          },
          "metadata": {},
          "execution_count": 74
        }
      ]
    },
    {
      "cell_type": "code",
      "source": [
        "numbers1 = [1, 2]\n",
        "numbers2 = [3, 4]\n",
        "numbers1 + numbers2  # numbers1.__add__(numbers2)"
      ],
      "metadata": {
        "colab": {
          "base_uri": "https://localhost:8080/"
        },
        "id": "riAh9uCspro7",
        "outputId": "91150cb9-6d78-400e-d07e-c5ccdb5a0327"
      },
      "execution_count": 75,
      "outputs": [
        {
          "output_type": "execute_result",
          "data": {
            "text/plain": [
              "[1, 2, 3, 4]"
            ]
          },
          "metadata": {},
          "execution_count": 75
        }
      ]
    },
    {
      "cell_type": "code",
      "source": [
        "numbers1 * 3  # numbers1.__mul__(3)"
      ],
      "metadata": {
        "colab": {
          "base_uri": "https://localhost:8080/"
        },
        "id": "zns6e4wKr0E1",
        "outputId": "d1a2bb8a-4431-477f-c625-6d7c1ddc1448"
      },
      "execution_count": 76,
      "outputs": [
        {
          "output_type": "execute_result",
          "data": {
            "text/plain": [
              "[1, 2, 1, 2, 1, 2]"
            ]
          },
          "metadata": {},
          "execution_count": 76
        }
      ]
    },
    {
      "cell_type": "markdown",
      "source": [
        "# class 작성 연습"
      ],
      "metadata": {
        "id": "ravPqusVs8n7"
      }
    },
    {
      "cell_type": "markdown",
      "source": [
        "## Ex 1. Score 클래스\n",
        "\n",
        "* 속성(attribute):\n",
        "    * 국어, 영어, 수학 점수\n",
        "    * 모든 과목의 기본값은 0\n",
        "* 기능(method):\n",
        "    * `__repr__`: Score{국어=100, 영어=100, 수학=100} 문자열 포맷을 리턴.\n",
        "    * `calc_sum`: 세 과목 총점을 리턴\n",
        "    * `calc_mean`: 세 과목 평균을 리턴"
      ],
      "metadata": {
        "id": "hx4MeUV9tAIC"
      }
    },
    {
      "cell_type": "code",
      "source": [
        "class Score:\n",
        "    def __init__(self, korean=0, english=0, math=0):\n",
        "        self.korean = korean\n",
        "        self.english = english\n",
        "        self.math = math\n",
        "\n",
        "    def __repr__(self):\n",
        "        return f'Score{{국어={self.korean}, 영어={self.english}, 수학={self.math}}}'\n",
        "\n",
        "    def calc_sum(self):\n",
        "        return self.korean + self.english + self.math\n",
        "\n",
        "    def calc_mean(self):\n",
        "        return self.calc_sum() / 3"
      ],
      "metadata": {
        "id": "zXfpif1xybt7"
      },
      "execution_count": 79,
      "outputs": []
    },
    {
      "cell_type": "code",
      "source": [
        "score1 = Score()\n",
        "score1"
      ],
      "metadata": {
        "colab": {
          "base_uri": "https://localhost:8080/"
        },
        "id": "sNSnpRXH0IU-",
        "outputId": "c1fb359b-ac9d-4f97-af92-f5857b9b60f2"
      },
      "execution_count": 80,
      "outputs": [
        {
          "output_type": "execute_result",
          "data": {
            "text/plain": [
              "Score{국어=0, 영어=0, 수학=0}"
            ]
          },
          "metadata": {},
          "execution_count": 80
        }
      ]
    },
    {
      "cell_type": "code",
      "source": [
        "score2 = Score(korean=90, english=80, math=70)\n",
        "print(score2.calc_sum())\n",
        "print(score2.calc_mean())"
      ],
      "metadata": {
        "colab": {
          "base_uri": "https://localhost:8080/"
        },
        "id": "epGlLAOj00Ei",
        "outputId": "ebd74a0c-02c2-4ca1-8292-989e68c7fe08"
      },
      "execution_count": 81,
      "outputs": [
        {
          "output_type": "stream",
          "name": "stdout",
          "text": [
            "240\n",
            "80.0\n"
          ]
        }
      ]
    },
    {
      "cell_type": "markdown",
      "source": [
        "# Ex 2. Student 클래스\n",
        "\n",
        "* 속성(attribute):\n",
        "    * 이름, Score 객체\n",
        "* 기능(method):\n",
        "    * `__repr__`: Studnet{이름: xxx, 점수: Score{국어=100, 영어=100, 수학=100}} 포맷의 문자열을 리턴."
      ],
      "metadata": {
        "id": "MOc529Yjtwfb"
      }
    },
    {
      "cell_type": "code",
      "source": [
        "class Student:\n",
        "    def __init__(self, name, korean=0, english=0, math=0):\n",
        "        self.name = name\n",
        "        self.score = Score(korean, english, math)\n",
        "\n",
        "    def __repr__(self):\n",
        "        return f'Student{{이름: {self.name}, 점수: {self.score}}}'"
      ],
      "metadata": {
        "id": "AZGq9lsusKVj"
      },
      "execution_count": 82,
      "outputs": []
    },
    {
      "cell_type": "code",
      "source": [
        "stu1 = Student('홍길동')\n",
        "stu1"
      ],
      "metadata": {
        "colab": {
          "base_uri": "https://localhost:8080/"
        },
        "id": "RKsZK7pW2CkD",
        "outputId": "544f7bcc-40cf-4362-cb61-41f0449dcb3d"
      },
      "execution_count": 83,
      "outputs": [
        {
          "output_type": "execute_result",
          "data": {
            "text/plain": [
              "Student{이름: 홍길동, 점수: Score{국어=0, 영어=0, 수학=0}}"
            ]
          },
          "metadata": {},
          "execution_count": 83
        }
      ]
    },
    {
      "cell_type": "code",
      "source": [
        "stu2 = Student('김길동', korean=100, english=90, math=50)\n",
        "stu2"
      ],
      "metadata": {
        "colab": {
          "base_uri": "https://localhost:8080/"
        },
        "id": "0NTbpMfR2MGQ",
        "outputId": "2eca85a5-7bf7-4775-f26a-81f5be1cb458"
      },
      "execution_count": 84,
      "outputs": [
        {
          "output_type": "execute_result",
          "data": {
            "text/plain": [
              "Student{이름: 김길동, 점수: Score{국어=100, 영어=90, 수학=50}}"
            ]
          },
          "metadata": {},
          "execution_count": 84
        }
      ]
    },
    {
      "cell_type": "code",
      "source": [
        "# stu2 객체의 점수 합계, 평균\n",
        "print('총점 =', stu2.score.calc_sum())\n",
        "print('평균 =', stu2.score.calc_mean())"
      ],
      "metadata": {
        "colab": {
          "base_uri": "https://localhost:8080/"
        },
        "id": "YleW24Nb2l-x",
        "outputId": "beeadda6-6cc6-4a74-bcf3-874ee49017e3"
      },
      "execution_count": 85,
      "outputs": [
        {
          "output_type": "stream",
          "name": "stdout",
          "text": [
            "총점 = 240\n",
            "평균 = 80.0\n"
          ]
        }
      ]
    },
    {
      "cell_type": "code",
      "source": [
        "class Student2:\n",
        "    def __init__(self, name, score):\n",
        "        self.name = name\n",
        "        self.score = score\n",
        "    \n",
        "    def __repr__(self):\n",
        "        return f'Student{{이름: {self.name}, 점수: {self.score}}}'"
      ],
      "metadata": {
        "id": "_r-mzzAw3UAZ"
      },
      "execution_count": 86,
      "outputs": []
    },
    {
      "cell_type": "code",
      "source": [
        "stu3 = Student2('abc', Score())\n",
        "print(stu3)"
      ],
      "metadata": {
        "colab": {
          "base_uri": "https://localhost:8080/"
        },
        "id": "TrVoxkFm4OCx",
        "outputId": "0476274f-e4b2-486b-81ba-ac9f8f8971df"
      },
      "execution_count": 87,
      "outputs": [
        {
          "output_type": "stream",
          "name": "stdout",
          "text": [
            "Student{이름: abc, 점수: Score{국어=0, 영어=0, 수학=0}}\n"
          ]
        }
      ]
    },
    {
      "cell_type": "code",
      "source": [
        "stu4 = Student2('def', Score(100, 90, 80))\n",
        "stu4"
      ],
      "metadata": {
        "colab": {
          "base_uri": "https://localhost:8080/"
        },
        "id": "5A-WGLPE4gOa",
        "outputId": "6a1675a4-3bc7-40ce-a151-e7fe538ee2ec"
      },
      "execution_count": 88,
      "outputs": [
        {
          "output_type": "execute_result",
          "data": {
            "text/plain": [
              "Student{이름: def, 점수: Score{국어=100, 영어=90, 수학=80}}"
            ]
          },
          "metadata": {},
          "execution_count": 88
        }
      ]
    },
    {
      "cell_type": "code",
      "source": [
        "print(stu4.score.calc_sum())\n",
        "print(stu4.score.calc_mean())"
      ],
      "metadata": {
        "colab": {
          "base_uri": "https://localhost:8080/"
        },
        "id": "dsWDW3xo4sZg",
        "outputId": "97112c23-d839-4742-d4d7-a60b07b3bc83"
      },
      "execution_count": 89,
      "outputs": [
        {
          "output_type": "stream",
          "name": "stdout",
          "text": [
            "270\n",
            "90.0\n"
          ]
        }
      ]
    }
  ]
}