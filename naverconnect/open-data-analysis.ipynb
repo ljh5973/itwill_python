{
 "cells": [
  {
   "cell_type": "code",
   "execution_count": 1,
   "metadata": {},
   "outputs": [
    {
     "name": "stderr",
     "output_type": "stream",
     "text": [
      "C:\\Users\\wlsgh\\AppData\\Local\\Temp/ipykernel_12944/2092777599.py:14: DeprecationWarning: `set_matplotlib_formats` is deprecated since IPython 7.23, directly use `matplotlib_inline.backend_inline.set_matplotlib_formats()`\n",
      "  set_matplotlib_formats('retina')\n"
     ]
    }
   ],
   "source": [
    "import pandas as pd\n",
    "import numpy as np\n",
    "import seaborn as sns\n",
    "import matplotlib.pyplot as plt\n",
    "plt.rc('axes', unicode_minus=False)\n",
    "from IPython.display import set_matplotlib_formats\n",
    "\n",
    "import matplotlib\n",
    "\n",
    "matplotlib.rcParams['font.family'] ='Malgun Gothic'\n",
    "\n",
    "matplotlib.rcParams['axes.unicode_minus'] =False\n",
    "\n",
    "set_matplotlib_formats('retina')"
   ]
  },
  {
   "cell_type": "code",
   "execution_count": 2,
   "metadata": {},
   "outputs": [
    {
     "data": {
      "text/plain": [
       "(91335, 39)"
      ]
     },
     "execution_count": 2,
     "metadata": {},
     "output_type": "execute_result"
    }
   ],
   "source": [
    "df=pd.read_csv('../data/소상공인시장진흥공단_상가업소정보_의료기관_201909.csv', low_memory=False)\n",
    "df.shape"
   ]
  },
  {
   "cell_type": "markdown",
   "metadata": {},
   "source": []
  },
  {
   "cell_type": "code",
   "execution_count": 3,
   "metadata": {},
   "outputs": [
    {
     "data": {
      "text/html": [
       "<div>\n",
       "<style scoped>\n",
       "    .dataframe tbody tr th:only-of-type {\n",
       "        vertical-align: middle;\n",
       "    }\n",
       "\n",
       "    .dataframe tbody tr th {\n",
       "        vertical-align: top;\n",
       "    }\n",
       "\n",
       "    .dataframe thead th {\n",
       "        text-align: right;\n",
       "    }\n",
       "</style>\n",
       "<table border=\"1\" class=\"dataframe\">\n",
       "  <thead>\n",
       "    <tr style=\"text-align: right;\">\n",
       "      <th></th>\n",
       "      <th>상호명</th>\n",
       "      <th>지점명</th>\n",
       "      <th>상권업종대분류코드</th>\n",
       "      <th>상권업종대분류명</th>\n",
       "      <th>상권업종중분류코드</th>\n",
       "      <th>상권업종중분류명</th>\n",
       "      <th>상권업종소분류코드</th>\n",
       "      <th>상권업종소분류명</th>\n",
       "      <th>표준산업분류코드</th>\n",
       "      <th>표준산업분류명</th>\n",
       "      <th>...</th>\n",
       "      <th>법정동명</th>\n",
       "      <th>대지구분명</th>\n",
       "      <th>지번주소</th>\n",
       "      <th>도로명</th>\n",
       "      <th>건물관리번호</th>\n",
       "      <th>건물명</th>\n",
       "      <th>도로명주소</th>\n",
       "      <th>동정보</th>\n",
       "      <th>층정보</th>\n",
       "      <th>호정보</th>\n",
       "    </tr>\n",
       "  </thead>\n",
       "  <tbody>\n",
       "    <tr>\n",
       "      <th>count</th>\n",
       "      <td>91335</td>\n",
       "      <td>1346</td>\n",
       "      <td>91335</td>\n",
       "      <td>91335</td>\n",
       "      <td>91335</td>\n",
       "      <td>91335</td>\n",
       "      <td>91335</td>\n",
       "      <td>91335</td>\n",
       "      <td>86413</td>\n",
       "      <td>86413</td>\n",
       "      <td>...</td>\n",
       "      <td>91280</td>\n",
       "      <td>91335</td>\n",
       "      <td>91335</td>\n",
       "      <td>91335</td>\n",
       "      <td>91335</td>\n",
       "      <td>46453</td>\n",
       "      <td>91335</td>\n",
       "      <td>7406</td>\n",
       "      <td>44044</td>\n",
       "      <td>15551</td>\n",
       "    </tr>\n",
       "    <tr>\n",
       "      <th>unique</th>\n",
       "      <td>56910</td>\n",
       "      <td>858</td>\n",
       "      <td>1</td>\n",
       "      <td>1</td>\n",
       "      <td>5</td>\n",
       "      <td>5</td>\n",
       "      <td>34</td>\n",
       "      <td>34</td>\n",
       "      <td>15</td>\n",
       "      <td>15</td>\n",
       "      <td>...</td>\n",
       "      <td>2822</td>\n",
       "      <td>2</td>\n",
       "      <td>53118</td>\n",
       "      <td>16610</td>\n",
       "      <td>54142</td>\n",
       "      <td>17946</td>\n",
       "      <td>54031</td>\n",
       "      <td>556</td>\n",
       "      <td>74</td>\n",
       "      <td>849</td>\n",
       "    </tr>\n",
       "    <tr>\n",
       "      <th>top</th>\n",
       "      <td>리원</td>\n",
       "      <td>장례식장</td>\n",
       "      <td>S</td>\n",
       "      <td>의료</td>\n",
       "      <td>S01</td>\n",
       "      <td>병원</td>\n",
       "      <td>S02A01</td>\n",
       "      <td>약국</td>\n",
       "      <td>Q86201</td>\n",
       "      <td>일반 의원</td>\n",
       "      <td>...</td>\n",
       "      <td>중동</td>\n",
       "      <td>대지</td>\n",
       "      <td>서울특별시 동대문구 제기동 965-1</td>\n",
       "      <td>서울특별시 강남구 강남대로</td>\n",
       "      <td>1123010300109650001031604</td>\n",
       "      <td>현대아파트</td>\n",
       "      <td>서울특별시 동대문구 약령중앙로8길 10</td>\n",
       "      <td>1</td>\n",
       "      <td>1</td>\n",
       "      <td>1</td>\n",
       "    </tr>\n",
       "    <tr>\n",
       "      <th>freq</th>\n",
       "      <td>152</td>\n",
       "      <td>97</td>\n",
       "      <td>91335</td>\n",
       "      <td>91335</td>\n",
       "      <td>60774</td>\n",
       "      <td>60774</td>\n",
       "      <td>18964</td>\n",
       "      <td>18964</td>\n",
       "      <td>22555</td>\n",
       "      <td>22555</td>\n",
       "      <td>...</td>\n",
       "      <td>874</td>\n",
       "      <td>91213</td>\n",
       "      <td>198</td>\n",
       "      <td>326</td>\n",
       "      <td>198</td>\n",
       "      <td>131</td>\n",
       "      <td>198</td>\n",
       "      <td>1571</td>\n",
       "      <td>15994</td>\n",
       "      <td>1286</td>\n",
       "    </tr>\n",
       "  </tbody>\n",
       "</table>\n",
       "<p>4 rows × 23 columns</p>\n",
       "</div>"
      ],
      "text/plain": [
       "          상호명   지점명 상권업종대분류코드 상권업종대분류명 상권업종중분류코드 상권업종중분류명 상권업종소분류코드 상권업종소분류명  \\\n",
       "count   91335  1346     91335    91335     91335    91335     91335    91335   \n",
       "unique  56910   858         1        1         5        5        34       34   \n",
       "top        리원  장례식장         S       의료       S01       병원    S02A01       약국   \n",
       "freq      152    97     91335    91335     60774    60774     18964    18964   \n",
       "\n",
       "       표준산업분류코드 표준산업분류명  ...   법정동명  대지구분명                  지번주소  \\\n",
       "count     86413   86413  ...  91280  91335                 91335   \n",
       "unique       15      15  ...   2822      2                 53118   \n",
       "top      Q86201   일반 의원  ...     중동     대지  서울특별시 동대문구 제기동 965-1   \n",
       "freq      22555   22555  ...    874  91213                   198   \n",
       "\n",
       "                   도로명                     건물관리번호    건물명  \\\n",
       "count            91335                      91335  46453   \n",
       "unique           16610                      54142  17946   \n",
       "top     서울특별시 강남구 강남대로  1123010300109650001031604  현대아파트   \n",
       "freq               326                        198    131   \n",
       "\n",
       "                        도로명주소   동정보    층정보    호정보  \n",
       "count                   91335  7406  44044  15551  \n",
       "unique                  54031   556     74    849  \n",
       "top     서울특별시 동대문구 약령중앙로8길 10     1      1      1  \n",
       "freq                      198  1571  15994   1286  \n",
       "\n",
       "[4 rows x 23 columns]"
      ]
     },
     "execution_count": 3,
     "metadata": {},
     "output_type": "execute_result"
    }
   ],
   "source": [
    "df.describe(include='object')"
   ]
  },
  {
   "cell_type": "code",
   "execution_count": 4,
   "metadata": {},
   "outputs": [
    {
     "data": {
      "text/plain": [
       "array(['의료'], dtype=object)"
      ]
     },
     "execution_count": 4,
     "metadata": {},
     "output_type": "execute_result"
    }
   ],
   "source": [
    "df[\"상권업종대분류명\"].unique()"
   ]
  },
  {
   "cell_type": "code",
   "execution_count": 5,
   "metadata": {},
   "outputs": [
    {
     "data": {
      "text/plain": [
       "1"
      ]
     },
     "execution_count": 5,
     "metadata": {},
     "output_type": "execute_result"
    }
   ],
   "source": [
    "df['상권업종대분류명'].nunique()"
   ]
  },
  {
   "cell_type": "code",
   "execution_count": 6,
   "metadata": {},
   "outputs": [
    {
     "data": {
      "text/plain": [
       "array(['병원', '약국/한약방', '수의업', '유사의료업', '의료관련서비스업'], dtype=object)"
      ]
     },
     "execution_count": 6,
     "metadata": {},
     "output_type": "execute_result"
    }
   ],
   "source": [
    "df['상권업종중분류명'].unique()"
   ]
  },
  {
   "cell_type": "code",
   "execution_count": 7,
   "metadata": {},
   "outputs": [
    {
     "data": {
      "text/plain": [
       "5"
      ]
     },
     "execution_count": 7,
     "metadata": {},
     "output_type": "execute_result"
    }
   ],
   "source": [
    "df['상권업종중분류명'].nunique()"
   ]
  },
  {
   "cell_type": "code",
   "execution_count": 8,
   "metadata": {},
   "outputs": [
    {
     "data": {
      "text/plain": [
       "0           산부인과\n",
       "1          내과/외과\n",
       "2           신경외과\n",
       "3           기타병원\n",
       "4             약국\n",
       "          ...   \n",
       "91330         약국\n",
       "91331      산후조리원\n",
       "91332    노인/치매병원\n",
       "91333        한의원\n",
       "91334       안과의원\n",
       "Name: 상권업종소분류명, Length: 91335, dtype: object"
      ]
     },
     "execution_count": 8,
     "metadata": {},
     "output_type": "execute_result"
    }
   ],
   "source": [
    "df['상권업종소분류명']"
   ]
  },
  {
   "cell_type": "code",
   "execution_count": 9,
   "metadata": {},
   "outputs": [
    {
     "data": {
      "text/html": [
       "<div>\n",
       "<style scoped>\n",
       "    .dataframe tbody tr th:only-of-type {\n",
       "        vertical-align: middle;\n",
       "    }\n",
       "\n",
       "    .dataframe tbody tr th {\n",
       "        vertical-align: top;\n",
       "    }\n",
       "\n",
       "    .dataframe thead th {\n",
       "        text-align: right;\n",
       "    }\n",
       "</style>\n",
       "<table border=\"1\" class=\"dataframe\">\n",
       "  <thead>\n",
       "    <tr style=\"text-align: right;\">\n",
       "      <th></th>\n",
       "      <th>상가업소번호</th>\n",
       "      <th>상호명</th>\n",
       "      <th>지점명</th>\n",
       "      <th>상권업종대분류코드</th>\n",
       "      <th>상권업종대분류명</th>\n",
       "      <th>상권업종중분류코드</th>\n",
       "      <th>상권업종중분류명</th>\n",
       "      <th>상권업종소분류코드</th>\n",
       "      <th>상권업종소분류명</th>\n",
       "      <th>표준산업분류코드</th>\n",
       "      <th>...</th>\n",
       "      <th>건물관리번호</th>\n",
       "      <th>건물명</th>\n",
       "      <th>도로명주소</th>\n",
       "      <th>구우편번호</th>\n",
       "      <th>신우편번호</th>\n",
       "      <th>동정보</th>\n",
       "      <th>층정보</th>\n",
       "      <th>호정보</th>\n",
       "      <th>경도</th>\n",
       "      <th>위도</th>\n",
       "    </tr>\n",
       "  </thead>\n",
       "  <tbody>\n",
       "    <tr>\n",
       "      <th>0</th>\n",
       "      <td>19956873</td>\n",
       "      <td>하나산부인과</td>\n",
       "      <td>NaN</td>\n",
       "      <td>S</td>\n",
       "      <td>의료</td>\n",
       "      <td>S01</td>\n",
       "      <td>병원</td>\n",
       "      <td>S01B10</td>\n",
       "      <td>산부인과</td>\n",
       "      <td>Q86201</td>\n",
       "      <td>...</td>\n",
       "      <td>4127310900110810000010857</td>\n",
       "      <td>산호한양아파트</td>\n",
       "      <td>경기도 안산시 단원구 달미로 10</td>\n",
       "      <td>425764.0</td>\n",
       "      <td>15236.0</td>\n",
       "      <td>NaN</td>\n",
       "      <td>NaN</td>\n",
       "      <td>NaN</td>\n",
       "      <td>126.814295</td>\n",
       "      <td>37.336344</td>\n",
       "    </tr>\n",
       "    <tr>\n",
       "      <th>1</th>\n",
       "      <td>20024149</td>\n",
       "      <td>타워광명내과의원</td>\n",
       "      <td>NaN</td>\n",
       "      <td>S</td>\n",
       "      <td>의료</td>\n",
       "      <td>S01</td>\n",
       "      <td>병원</td>\n",
       "      <td>S01B07</td>\n",
       "      <td>내과/외과</td>\n",
       "      <td>Q86201</td>\n",
       "      <td>...</td>\n",
       "      <td>1168011800104670014000001</td>\n",
       "      <td>NaN</td>\n",
       "      <td>서울특별시 강남구 언주로30길 39</td>\n",
       "      <td>135270.0</td>\n",
       "      <td>6292.0</td>\n",
       "      <td>NaN</td>\n",
       "      <td>4</td>\n",
       "      <td>NaN</td>\n",
       "      <td>127.053198</td>\n",
       "      <td>37.488742</td>\n",
       "    </tr>\n",
       "    <tr>\n",
       "      <th>2</th>\n",
       "      <td>20152277</td>\n",
       "      <td>조정현신경외과의원</td>\n",
       "      <td>NaN</td>\n",
       "      <td>S</td>\n",
       "      <td>의료</td>\n",
       "      <td>S01</td>\n",
       "      <td>병원</td>\n",
       "      <td>S01B15</td>\n",
       "      <td>신경외과</td>\n",
       "      <td>Q86201</td>\n",
       "      <td>...</td>\n",
       "      <td>4139013200117400001017064</td>\n",
       "      <td>한라프라자</td>\n",
       "      <td>경기도 시흥시 중심상가로 178</td>\n",
       "      <td>429450.0</td>\n",
       "      <td>15066.0</td>\n",
       "      <td>NaN</td>\n",
       "      <td>NaN</td>\n",
       "      <td>NaN</td>\n",
       "      <td>126.734841</td>\n",
       "      <td>37.344955</td>\n",
       "    </tr>\n",
       "    <tr>\n",
       "      <th>3</th>\n",
       "      <td>20350610</td>\n",
       "      <td>한귀원정신과의원</td>\n",
       "      <td>NaN</td>\n",
       "      <td>S</td>\n",
       "      <td>의료</td>\n",
       "      <td>S01</td>\n",
       "      <td>병원</td>\n",
       "      <td>S01B99</td>\n",
       "      <td>기타병원</td>\n",
       "      <td>NaN</td>\n",
       "      <td>...</td>\n",
       "      <td>2650010400100740001009932</td>\n",
       "      <td>NaN</td>\n",
       "      <td>부산광역시 수영구 수영로 688</td>\n",
       "      <td>613100.0</td>\n",
       "      <td>48266.0</td>\n",
       "      <td>NaN</td>\n",
       "      <td>5</td>\n",
       "      <td>NaN</td>\n",
       "      <td>129.115438</td>\n",
       "      <td>35.166872</td>\n",
       "    </tr>\n",
       "    <tr>\n",
       "      <th>4</th>\n",
       "      <td>20364049</td>\n",
       "      <td>더블유스토어수지점</td>\n",
       "      <td>수지점</td>\n",
       "      <td>S</td>\n",
       "      <td>의료</td>\n",
       "      <td>S02</td>\n",
       "      <td>약국/한약방</td>\n",
       "      <td>S02A01</td>\n",
       "      <td>약국</td>\n",
       "      <td>G47811</td>\n",
       "      <td>...</td>\n",
       "      <td>4146510100107120002026238</td>\n",
       "      <td>NaN</td>\n",
       "      <td>경기도 용인시 수지구 문정로 32</td>\n",
       "      <td>448170.0</td>\n",
       "      <td>16837.0</td>\n",
       "      <td>NaN</td>\n",
       "      <td>1</td>\n",
       "      <td>NaN</td>\n",
       "      <td>127.095522</td>\n",
       "      <td>37.323528</td>\n",
       "    </tr>\n",
       "    <tr>\n",
       "      <th>...</th>\n",
       "      <td>...</td>\n",
       "      <td>...</td>\n",
       "      <td>...</td>\n",
       "      <td>...</td>\n",
       "      <td>...</td>\n",
       "      <td>...</td>\n",
       "      <td>...</td>\n",
       "      <td>...</td>\n",
       "      <td>...</td>\n",
       "      <td>...</td>\n",
       "      <td>...</td>\n",
       "      <td>...</td>\n",
       "      <td>...</td>\n",
       "      <td>...</td>\n",
       "      <td>...</td>\n",
       "      <td>...</td>\n",
       "      <td>...</td>\n",
       "      <td>...</td>\n",
       "      <td>...</td>\n",
       "      <td>...</td>\n",
       "      <td>...</td>\n",
       "    </tr>\n",
       "    <tr>\n",
       "      <th>91330</th>\n",
       "      <td>16196725</td>\n",
       "      <td>온누리약국</td>\n",
       "      <td>베스트</td>\n",
       "      <td>S</td>\n",
       "      <td>의료</td>\n",
       "      <td>S02</td>\n",
       "      <td>약국/한약방</td>\n",
       "      <td>S02A01</td>\n",
       "      <td>약국</td>\n",
       "      <td>G47811</td>\n",
       "      <td>...</td>\n",
       "      <td>3017011200115070000021096</td>\n",
       "      <td>NaN</td>\n",
       "      <td>대전광역시 서구 문예로 67</td>\n",
       "      <td>302831.0</td>\n",
       "      <td>35240.0</td>\n",
       "      <td>NaN</td>\n",
       "      <td>NaN</td>\n",
       "      <td>NaN</td>\n",
       "      <td>127.389865</td>\n",
       "      <td>36.352728</td>\n",
       "    </tr>\n",
       "    <tr>\n",
       "      <th>91331</th>\n",
       "      <td>16192180</td>\n",
       "      <td>리원</td>\n",
       "      <td>봄산후조</td>\n",
       "      <td>S</td>\n",
       "      <td>의료</td>\n",
       "      <td>S07</td>\n",
       "      <td>의료관련서비스업</td>\n",
       "      <td>S07A07</td>\n",
       "      <td>산후조리원</td>\n",
       "      <td>S96993</td>\n",
       "      <td>...</td>\n",
       "      <td>4128112300111460000011715</td>\n",
       "      <td>청한프라자</td>\n",
       "      <td>경기도 고양시 덕양구 성신로 14</td>\n",
       "      <td>412827.0</td>\n",
       "      <td>10503.0</td>\n",
       "      <td>NaN</td>\n",
       "      <td>NaN</td>\n",
       "      <td>NaN</td>\n",
       "      <td>126.830144</td>\n",
       "      <td>37.627530</td>\n",
       "    </tr>\n",
       "    <tr>\n",
       "      <th>91332</th>\n",
       "      <td>16127538</td>\n",
       "      <td>참좋은요양병원</td>\n",
       "      <td>NaN</td>\n",
       "      <td>S</td>\n",
       "      <td>의료</td>\n",
       "      <td>S01</td>\n",
       "      <td>병원</td>\n",
       "      <td>S01B17</td>\n",
       "      <td>노인/치매병원</td>\n",
       "      <td>Q86102</td>\n",
       "      <td>...</td>\n",
       "      <td>2641010800105380001005572</td>\n",
       "      <td>한신시티빌</td>\n",
       "      <td>부산광역시 금정구 금강로 209</td>\n",
       "      <td>609841.0</td>\n",
       "      <td>46294.0</td>\n",
       "      <td>NaN</td>\n",
       "      <td>2</td>\n",
       "      <td>NaN</td>\n",
       "      <td>129.082790</td>\n",
       "      <td>35.227138</td>\n",
       "    </tr>\n",
       "    <tr>\n",
       "      <th>91333</th>\n",
       "      <td>16108681</td>\n",
       "      <td>경희중앙한의원</td>\n",
       "      <td>NaN</td>\n",
       "      <td>S</td>\n",
       "      <td>의료</td>\n",
       "      <td>S01</td>\n",
       "      <td>병원</td>\n",
       "      <td>S01B06</td>\n",
       "      <td>한의원</td>\n",
       "      <td>Q86203</td>\n",
       "      <td>...</td>\n",
       "      <td>1174010500103450009002392</td>\n",
       "      <td>NaN</td>\n",
       "      <td>서울특별시 강동구 천중로 213</td>\n",
       "      <td>134811.0</td>\n",
       "      <td>5303.0</td>\n",
       "      <td>NaN</td>\n",
       "      <td>NaN</td>\n",
       "      <td>NaN</td>\n",
       "      <td>127.143958</td>\n",
       "      <td>37.540993</td>\n",
       "    </tr>\n",
       "    <tr>\n",
       "      <th>91334</th>\n",
       "      <td>16109073</td>\n",
       "      <td>천안김안과천안역본점의원</td>\n",
       "      <td>NaN</td>\n",
       "      <td>S</td>\n",
       "      <td>의료</td>\n",
       "      <td>S01</td>\n",
       "      <td>병원</td>\n",
       "      <td>S01B13</td>\n",
       "      <td>안과의원</td>\n",
       "      <td>Q86201</td>\n",
       "      <td>...</td>\n",
       "      <td>4413110700102660017016314</td>\n",
       "      <td>김안과</td>\n",
       "      <td>충청남도 천안시 동남구 중앙로 92</td>\n",
       "      <td>330952.0</td>\n",
       "      <td>31127.0</td>\n",
       "      <td>NaN</td>\n",
       "      <td>NaN</td>\n",
       "      <td>NaN</td>\n",
       "      <td>127.152651</td>\n",
       "      <td>36.806640</td>\n",
       "    </tr>\n",
       "  </tbody>\n",
       "</table>\n",
       "<p>91335 rows × 39 columns</p>\n",
       "</div>"
      ],
      "text/plain": [
       "         상가업소번호           상호명   지점명 상권업종대분류코드 상권업종대분류명 상권업종중분류코드  상권업종중분류명  \\\n",
       "0      19956873        하나산부인과   NaN         S       의료       S01        병원   \n",
       "1      20024149      타워광명내과의원   NaN         S       의료       S01        병원   \n",
       "2      20152277     조정현신경외과의원   NaN         S       의료       S01        병원   \n",
       "3      20350610      한귀원정신과의원   NaN         S       의료       S01        병원   \n",
       "4      20364049     더블유스토어수지점   수지점         S       의료       S02    약국/한약방   \n",
       "...         ...           ...   ...       ...      ...       ...       ...   \n",
       "91330  16196725         온누리약국   베스트         S       의료       S02    약국/한약방   \n",
       "91331  16192180            리원  봄산후조         S       의료       S07  의료관련서비스업   \n",
       "91332  16127538       참좋은요양병원   NaN         S       의료       S01        병원   \n",
       "91333  16108681       경희중앙한의원   NaN         S       의료       S01        병원   \n",
       "91334  16109073  천안김안과천안역본점의원   NaN         S       의료       S01        병원   \n",
       "\n",
       "      상권업종소분류코드 상권업종소분류명 표준산업분류코드  ...                     건물관리번호      건물명  \\\n",
       "0        S01B10     산부인과   Q86201  ...  4127310900110810000010857  산호한양아파트   \n",
       "1        S01B07    내과/외과   Q86201  ...  1168011800104670014000001      NaN   \n",
       "2        S01B15     신경외과   Q86201  ...  4139013200117400001017064    한라프라자   \n",
       "3        S01B99     기타병원      NaN  ...  2650010400100740001009932      NaN   \n",
       "4        S02A01       약국   G47811  ...  4146510100107120002026238      NaN   \n",
       "...         ...      ...      ...  ...                        ...      ...   \n",
       "91330    S02A01       약국   G47811  ...  3017011200115070000021096      NaN   \n",
       "91331    S07A07    산후조리원   S96993  ...  4128112300111460000011715    청한프라자   \n",
       "91332    S01B17  노인/치매병원   Q86102  ...  2641010800105380001005572    한신시티빌   \n",
       "91333    S01B06      한의원   Q86203  ...  1174010500103450009002392      NaN   \n",
       "91334    S01B13     안과의원   Q86201  ...  4413110700102660017016314      김안과   \n",
       "\n",
       "                     도로명주소     구우편번호    신우편번호  동정보  층정보  호정보          경도  \\\n",
       "0       경기도 안산시 단원구 달미로 10  425764.0  15236.0  NaN  NaN  NaN  126.814295   \n",
       "1      서울특별시 강남구 언주로30길 39  135270.0   6292.0  NaN    4  NaN  127.053198   \n",
       "2        경기도 시흥시 중심상가로 178  429450.0  15066.0  NaN  NaN  NaN  126.734841   \n",
       "3        부산광역시 수영구 수영로 688  613100.0  48266.0  NaN    5  NaN  129.115438   \n",
       "4       경기도 용인시 수지구 문정로 32  448170.0  16837.0  NaN    1  NaN  127.095522   \n",
       "...                    ...       ...      ...  ...  ...  ...         ...   \n",
       "91330      대전광역시 서구 문예로 67  302831.0  35240.0  NaN  NaN  NaN  127.389865   \n",
       "91331   경기도 고양시 덕양구 성신로 14  412827.0  10503.0  NaN  NaN  NaN  126.830144   \n",
       "91332    부산광역시 금정구 금강로 209  609841.0  46294.0  NaN    2  NaN  129.082790   \n",
       "91333    서울특별시 강동구 천중로 213  134811.0   5303.0  NaN  NaN  NaN  127.143958   \n",
       "91334  충청남도 천안시 동남구 중앙로 92  330952.0  31127.0  NaN  NaN  NaN  127.152651   \n",
       "\n",
       "              위도  \n",
       "0      37.336344  \n",
       "1      37.488742  \n",
       "2      37.344955  \n",
       "3      35.166872  \n",
       "4      37.323528  \n",
       "...          ...  \n",
       "91330  36.352728  \n",
       "91331  37.627530  \n",
       "91332  35.227138  \n",
       "91333  37.540993  \n",
       "91334  36.806640  \n",
       "\n",
       "[91335 rows x 39 columns]"
      ]
     },
     "execution_count": 9,
     "metadata": {},
     "output_type": "execute_result"
    }
   ],
   "source": [
    "df"
   ]
  },
  {
   "cell_type": "code",
   "execution_count": 10,
   "metadata": {},
   "outputs": [
    {
     "data": {
      "text/plain": [
       "array(['산부인과', '내과/외과', '신경외과', '기타병원', '약국', '동물병원', '한약방', '탕제원',\n",
       "       '정형/성형외과', '소아과', '이비인후과의원', '노인/치매병원', '언어치료', '수의업-종합', '한의원',\n",
       "       '치과의원', '침구원', '일반병원', '안과의원', '조산원', '한방병원', '종합병원', '유사의료업기타',\n",
       "       '응급구조대', '혈액원', '치과병원', '척추교정치료', '피부과', '비뇨기과', '치과기공소', '산후조리원',\n",
       "       '접골원', '수의업-기타', '제대혈'], dtype=object)"
      ]
     },
     "execution_count": 10,
     "metadata": {},
     "output_type": "execute_result"
    }
   ],
   "source": [
    "df['상권업종소분류명'].unique()"
   ]
  },
  {
   "cell_type": "code",
   "execution_count": 11,
   "metadata": {},
   "outputs": [
    {
     "data": {
      "text/plain": [
       "34"
      ]
     },
     "execution_count": 11,
     "metadata": {},
     "output_type": "execute_result"
    }
   ],
   "source": [
    "df['상권업종소분류명'].nunique()"
   ]
  },
  {
   "cell_type": "code",
   "execution_count": 12,
   "metadata": {},
   "outputs": [
    {
     "data": {
      "text/plain": [
       "34"
      ]
     },
     "execution_count": 12,
     "metadata": {},
     "output_type": "execute_result"
    }
   ],
   "source": [
    "# nunique 대신 len 을 사용할 수도 있다.\n",
    "len(df[\"상권업종소분류명\"].unique())"
   ]
  },
  {
   "cell_type": "markdown",
   "metadata": {},
   "source": [
    "1.11.4 그룹화된 요약값 보기 - value_coutns\n",
    "    * value_counts 를 사용하면 카테고리 형태의 데이터 갯수를 세어볼 수 있습니다."
   ]
  },
  {
   "cell_type": "code",
   "execution_count": 13,
   "metadata": {},
   "outputs": [],
   "source": [
    "city=df['시도명'].value_counts()"
   ]
  },
  {
   "cell_type": "code",
   "execution_count": 14,
   "metadata": {},
   "outputs": [
    {
     "data": {
      "text/plain": [
       "경기도        0.234993\n",
       "서울특별시      0.208266\n",
       "부산광역시      0.071166\n",
       "경상남도       0.054675\n",
       "인천광역시      0.051915\n",
       "대구광역시      0.050541\n",
       "경상북도       0.045528\n",
       "전라북도       0.042812\n",
       "충청남도       0.039338\n",
       "전라남도       0.035446\n",
       "광주광역시      0.035336\n",
       "대전광역시      0.033720\n",
       "충청북도       0.029432\n",
       "강원도        0.028959\n",
       "울산광역시      0.021956\n",
       "제주특별자치도    0.012039\n",
       "세종특별자치시    0.003881\n",
       "Name: 시도명, dtype: float64"
      ]
     },
     "execution_count": 14,
     "metadata": {},
     "output_type": "execute_result"
    }
   ],
   "source": [
    "# nomalize_True 옵션을 사용하면 비율을 구할 수 있다.\n",
    "city_normalize=df[\"시도명\"].value_counts(normalize=True)\n",
    "city_normalize"
   ]
  },
  {
   "cell_type": "code",
   "execution_count": 15,
   "metadata": {},
   "outputs": [
    {
     "data": {
      "text/plain": [
       "<AxesSubplot:>"
      ]
     },
     "execution_count": 15,
     "metadata": {},
     "output_type": "execute_result"
    },
    {
     "data": {
      "image/png": "[encoded data removed]",
      "text/plain": [
       "<Figure size 432x288 with 1 Axes>"
      ]
     },
     "metadata": {
      "image/png": {
       "height": 249,
       "width": 426
      },
      "needs_background": "light"
     },
     "output_type": "display_data"
    }
   ],
   "source": [
    "# pandas 에는 plot 기능을 내장하고 있습니다.\n",
    "# 위에서 분석한 시도명 수를 막대그래프로 표현해 봅니다.\n",
    "city.plot.barh()"
   ]
  },
  {
   "cell_type": "code",
   "execution_count": 16,
   "metadata": {},
   "outputs": [
    {
     "name": "stderr",
     "output_type": "stream",
     "text": [
      "C:\\ProgramData\\Anaconda3\\lib\\site-packages\\pandas\\plotting\\_matplotlib\\core.py:1666: MatplotlibDeprecationWarning: normalize=None does not normalize if the sum is less than 1 but this behavior is deprecated since 3.3 until two minor releases later. After the deprecation period the default value will be normalize=True. To prevent normalization pass normalize=False \n",
      "  results = ax.pie(y, labels=blabels, **kwds)\n"
     ]
    },
    {
     "data": {
      "text/plain": [
       "<AxesSubplot:ylabel='시도명'>"
      ]
     },
     "execution_count": 16,
     "metadata": {},
     "output_type": "execute_result"
    },
    {
     "data": {
      "image/png": "[encoded data removed]",
      "text/plain": [
       "<Figure size 504x504 with 1 Axes>"
      ]
     },
     "metadata": {
      "image/png": {
       "height": 394,
       "width": 467
      }
     },
     "output_type": "display_data"
    }
   ],
   "source": [
    "# pandas의 plot.pie()를 사용해서 파이 그래프를 그려봅니다.\n",
    "city_normalize.plot.pie(figsize=(7,7))"
   ]
  },
  {
   "cell_type": "code",
   "execution_count": 17,
   "metadata": {},
   "outputs": [
    {
     "data": {
      "image/png": "[encoded data removed]",
      "text/plain": [
       "<Figure size 432x288 with 1 Axes>"
      ]
     },
     "metadata": {
      "image/png": {
       "height": 263,
       "width": 440
      },
      "needs_background": "light"
     },
     "output_type": "display_data"
    }
   ],
   "source": [
    "# seaborn 의 countplot 으로 그려 봅니다.\n",
    "c=sns.countplot(data=df,y='시도명')"
   ]
  },
  {
   "cell_type": "code",
   "execution_count": 18,
   "metadata": {},
   "outputs": [
    {
     "data": {
      "text/plain": [
       "의료    91335\n",
       "Name: 상권업종대분류명, dtype: int64"
      ]
     },
     "execution_count": 18,
     "metadata": {},
     "output_type": "execute_result"
    }
   ],
   "source": [
    "# 상권업종대분류명 으로 갯수 세어봅시다\n",
    "df['상권업종대분류명'].value_counts()"
   ]
  },
  {
   "cell_type": "code",
   "execution_count": 19,
   "metadata": {},
   "outputs": [],
   "source": [
    "# 중분류명\n",
    "c=df['상권업종중분류명'].value_counts()"
   ]
  },
  {
   "cell_type": "code",
   "execution_count": 20,
   "metadata": {},
   "outputs": [],
   "source": [
    "# normalize=True 는 비율 구하기\n",
    "n=df['상권업종중분류명'].value_counts(normalize=True)"
   ]
  },
  {
   "cell_type": "code",
   "execution_count": 21,
   "metadata": {},
   "outputs": [
    {
     "data": {
      "text/plain": [
       "<AxesSubplot:>"
      ]
     },
     "execution_count": 21,
     "metadata": {},
     "output_type": "execute_result"
    },
    {
     "data": {
      "image/png": "[encoded data removed]",
      "text/plain": [
       "<Figure size 432x288 with 1 Axes>"
      ]
     },
     "metadata": {
      "image/png": {
       "height": 249,
       "width": 390
      },
      "needs_background": "light"
     },
     "output_type": "display_data"
    }
   ],
   "source": [
    "# 판다스의 plot.bar() 막대그래프 쓰기  rot=0 레이블값을 얼마나 회전시킬지\n",
    "c.plot.bar(rot=0)"
   ]
  },
  {
   "cell_type": "code",
   "execution_count": 22,
   "metadata": {},
   "outputs": [
    {
     "data": {
      "text/plain": [
       "<AxesSubplot:ylabel='상권업종중분류명'>"
      ]
     },
     "execution_count": 22,
     "metadata": {},
     "output_type": "execute_result"
    },
    {
     "data": {
      "image/png": "[encoded data removed]",
      "text/plain": [
       "<Figure size 432x288 with 1 Axes>"
      ]
     },
     "metadata": {
      "image/png": {
       "height": 231,
       "width": 313
      }
     },
     "output_type": "display_data"
    }
   ],
   "source": [
    "# 판다스의 plot.pie()를 사용해서 파이그래프를 그려봅니다.\n",
    "n.plot.pie()"
   ]
  },
  {
   "cell_type": "code",
   "execution_count": 23,
   "metadata": {},
   "outputs": [],
   "source": [
    "# 상권업종소분류명 에 대한 그룹화 된 값을 카운트 합니다.\n",
    "c=df['상권업종소분류명'].value_counts()"
   ]
  },
  {
   "cell_type": "code",
   "execution_count": 24,
   "metadata": {},
   "outputs": [
    {
     "data": {
      "text/plain": [
       "<AxesSubplot:>"
      ]
     },
     "execution_count": 24,
     "metadata": {},
     "output_type": "execute_result"
    },
    {
     "data": {
      "image/png": "[encoded data removed]",
      "text/plain": [
       "<Figure size 504x576 with 1 Axes>"
      ]
     },
     "metadata": {
      "image/png": {
       "height": 466,
       "width": 481
      },
      "needs_background": "light"
     },
     "output_type": "display_data"
    }
   ],
   "source": [
    "# 상권업종소분류명으로 bar를 사용해서 막대그래프를 그려봅니다. grid는 격자를 생성해준다.\n",
    "c.plot.barh(figsize=(7,8), grid=True)"
   ]
  },
  {
   "cell_type": "markdown",
   "metadata": {},
   "source": [
    "1.12 데이터 색인하기\n",
    "    * 특정 데이터만 모아서 따로 봅니다."
   ]
  },
  {
   "cell_type": "code",
   "execution_count": 25,
   "metadata": {},
   "outputs": [
    {
     "data": {
      "text/html": [
       "<div>\n",
       "<style scoped>\n",
       "    .dataframe tbody tr th:only-of-type {\n",
       "        vertical-align: middle;\n",
       "    }\n",
       "\n",
       "    .dataframe tbody tr th {\n",
       "        vertical-align: top;\n",
       "    }\n",
       "\n",
       "    .dataframe thead th {\n",
       "        text-align: right;\n",
       "    }\n",
       "</style>\n",
       "<table border=\"1\" class=\"dataframe\">\n",
       "  <thead>\n",
       "    <tr style=\"text-align: right;\">\n",
       "      <th></th>\n",
       "      <th>상가업소번호</th>\n",
       "      <th>상호명</th>\n",
       "      <th>지점명</th>\n",
       "      <th>상권업종대분류코드</th>\n",
       "      <th>상권업종대분류명</th>\n",
       "      <th>상권업종중분류코드</th>\n",
       "      <th>상권업종중분류명</th>\n",
       "      <th>상권업종소분류코드</th>\n",
       "      <th>상권업종소분류명</th>\n",
       "      <th>표준산업분류코드</th>\n",
       "      <th>...</th>\n",
       "      <th>건물관리번호</th>\n",
       "      <th>건물명</th>\n",
       "      <th>도로명주소</th>\n",
       "      <th>구우편번호</th>\n",
       "      <th>신우편번호</th>\n",
       "      <th>동정보</th>\n",
       "      <th>층정보</th>\n",
       "      <th>호정보</th>\n",
       "      <th>경도</th>\n",
       "      <th>위도</th>\n",
       "    </tr>\n",
       "  </thead>\n",
       "  <tbody>\n",
       "    <tr>\n",
       "      <th>4</th>\n",
       "      <td>20364049</td>\n",
       "      <td>더블유스토어수지점</td>\n",
       "      <td>수지점</td>\n",
       "      <td>S</td>\n",
       "      <td>의료</td>\n",
       "      <td>S02</td>\n",
       "      <td>약국/한약방</td>\n",
       "      <td>S02A01</td>\n",
       "      <td>약국</td>\n",
       "      <td>G47811</td>\n",
       "      <td>...</td>\n",
       "      <td>4146510100107120002026238</td>\n",
       "      <td>NaN</td>\n",
       "      <td>경기도 용인시 수지구 문정로 32</td>\n",
       "      <td>448170.0</td>\n",
       "      <td>16837.0</td>\n",
       "      <td>NaN</td>\n",
       "      <td>1</td>\n",
       "      <td>NaN</td>\n",
       "      <td>127.095522</td>\n",
       "      <td>37.323528</td>\n",
       "    </tr>\n",
       "    <tr>\n",
       "      <th>6</th>\n",
       "      <td>20733252</td>\n",
       "      <td>춘산한약방</td>\n",
       "      <td>NaN</td>\n",
       "      <td>S</td>\n",
       "      <td>의료</td>\n",
       "      <td>S02</td>\n",
       "      <td>약국/한약방</td>\n",
       "      <td>S02A02</td>\n",
       "      <td>한약방</td>\n",
       "      <td>G47811</td>\n",
       "      <td>...</td>\n",
       "      <td>4211010500101000000023668</td>\n",
       "      <td>NaN</td>\n",
       "      <td>강원도 춘천시 낙원길 50</td>\n",
       "      <td>200042.0</td>\n",
       "      <td>24273.0</td>\n",
       "      <td>NaN</td>\n",
       "      <td>2</td>\n",
       "      <td>NaN</td>\n",
       "      <td>127.726905</td>\n",
       "      <td>37.880504</td>\n",
       "    </tr>\n",
       "  </tbody>\n",
       "</table>\n",
       "<p>2 rows × 39 columns</p>\n",
       "</div>"
      ],
      "text/plain": [
       "     상가업소번호        상호명  지점명 상권업종대분류코드 상권업종대분류명 상권업종중분류코드 상권업종중분류명 상권업종소분류코드  \\\n",
       "4  20364049  더블유스토어수지점  수지점         S       의료       S02   약국/한약방    S02A01   \n",
       "6  20733252      춘산한약방  NaN         S       의료       S02   약국/한약방    S02A02   \n",
       "\n",
       "  상권업종소분류명 표준산업분류코드  ...                     건물관리번호  건물명               도로명주소  \\\n",
       "4       약국   G47811  ...  4146510100107120002026238  NaN  경기도 용인시 수지구 문정로 32   \n",
       "6      한약방   G47811  ...  4211010500101000000023668  NaN      강원도 춘천시 낙원길 50   \n",
       "\n",
       "      구우편번호    신우편번호  동정보 층정보  호정보          경도         위도  \n",
       "4  448170.0  16837.0  NaN   1  NaN  127.095522  37.323528  \n",
       "6  200042.0  24273.0  NaN   2  NaN  127.726905  37.880504  \n",
       "\n",
       "[2 rows x 39 columns]"
      ]
     },
     "execution_count": 25,
     "metadata": {},
     "output_type": "execute_result"
    }
   ],
   "source": [
    "# '상권업종중분류명'이 약국/한약방 인 데이터만 가져와서\n",
    "# df_medical 이라는 변수에 담아봅니다.\n",
    "# 그리고 head()를 통해 미리보기를 합니다.\n",
    "# copy를 사용하게되면 df_medical(새로운 변수) 를 바꿔도 원래 변수는 바뀌지 않는다. copy를 사용하지 않으면 둘 다 바뀐다.\n",
    "df_medical=df[df[\"상권업종중분류명\"] == \"약국/한약방\"].copy()\n",
    "df_medical.head(2)\n"
   ]
  },
  {
   "cell_type": "code",
   "execution_count": 26,
   "metadata": {},
   "outputs": [
    {
     "data": {
      "text/plain": [
       "병원          60774\n",
       "약국/한약방      20923\n",
       "수의업          5323\n",
       "유사의료업        3774\n",
       "의료관련서비스업      541\n",
       "Name: 상권업종중분류명, dtype: int64"
      ]
     },
     "execution_count": 26,
     "metadata": {},
     "output_type": "execute_result"
    }
   ],
   "source": [
    "# \"상권업종대분류명\" 에서 \"의료\"만 가져옵니다.\n",
    "# df.loc를 사용하면 행, 열을 함께 가져올 수 있습니다.\n",
    "# 이 기능을 통해 \"상권업종중분류명\" 만 가져옵니다.\n",
    "# 그리고 가져온 결과를 value_counts 를 통해 중분류의 갯수를 세어봅니다.\n",
    "m=df['상권업종대분류명']== '의료'\n",
    "df.loc[m,'상권업종중분류명'].value_counts()"
   ]
  },
  {
   "cell_type": "code",
   "execution_count": 27,
   "metadata": {},
   "outputs": [
    {
     "data": {
      "text/plain": [
       "(3774, 39)"
      ]
     },
     "execution_count": 27,
     "metadata": {},
     "output_type": "execute_result"
    }
   ],
   "source": [
    "# 유사의료업만 따로 모아봅니다.\n",
    "df_medi=df[df['상권업종중분류명']=='유사의료업']\n",
    "df_medi.shape"
   ]
  },
  {
   "cell_type": "code",
   "execution_count": 28,
   "metadata": {},
   "outputs": [
    {
     "data": {
      "text/plain": [
       "리원       152\n",
       "온누리약국    149\n",
       "경희한의원    141\n",
       "우리약국     119\n",
       "중앙약국     111\n",
       "전자담배      98\n",
       "조은약국      95\n",
       "건강약국      87\n",
       "제일약국      79\n",
       "사랑약국      73\n",
       "Name: 상호명, dtype: int64"
      ]
     },
     "execution_count": 28,
     "metadata": {},
     "output_type": "execute_result"
    }
   ],
   "source": [
    "# 상호명을 그룹화해서 갯수를 세어봅니다.\n",
    "# value_counts 를 사용해서 상위 10개를 출력합니다.\n",
    "df['상호명'].value_counts().head(10)\n"
   ]
  },
  {
   "cell_type": "code",
   "execution_count": 29,
   "metadata": {},
   "outputs": [
    {
     "data": {
      "text/plain": [
       "리원          32\n",
       "고려수지침       22\n",
       "대한적십자사      17\n",
       "헌혈의집        12\n",
       "고려수지침학회     10\n",
       "수치과기공소      10\n",
       "제일치과기공소      9\n",
       "미소치과기공소      8\n",
       "아트치과기공소      8\n",
       "이사랑치과기공소     8\n",
       "Name: 상호명, dtype: int64"
      ]
     },
     "execution_count": 29,
     "metadata": {},
     "output_type": "execute_result"
    }
   ],
   "source": [
    "# 유사의료업만 df_medi 변수에 담겨져 있습니다.\n",
    "# df_medi 변수에 상효명으로 갯수를 세어봅니다.\n",
    "# 가장 많은 상호 상위 10개를 출력해 봅니다.\n",
    "df_medi['상호명'].value_counts().head(10)"
   ]
  },
  {
   "cell_type": "markdown",
   "metadata": {},
   "source": [
    "1.12.1 여러 조건으로 색인하기"
   ]
  },
  {
   "cell_type": "code",
   "execution_count": 30,
   "metadata": {},
   "outputs": [
    {
     "data": {
      "text/plain": [
       "3"
      ]
     },
     "execution_count": 30,
     "metadata": {},
     "output_type": "execute_result"
    }
   ],
   "source": [
    "1\n",
    "2\n",
    "3"
   ]
  },
  {
   "cell_type": "code",
   "execution_count": 31,
   "metadata": {},
   "outputs": [
    {
     "name": "stdout",
     "output_type": "stream",
     "text": [
      "(3579, 39)\n"
     ]
    },
    {
     "data": {
      "text/html": [
       "<div>\n",
       "<style scoped>\n",
       "    .dataframe tbody tr th:only-of-type {\n",
       "        vertical-align: middle;\n",
       "    }\n",
       "\n",
       "    .dataframe tbody tr th {\n",
       "        vertical-align: top;\n",
       "    }\n",
       "\n",
       "    .dataframe thead th {\n",
       "        text-align: right;\n",
       "    }\n",
       "</style>\n",
       "<table border=\"1\" class=\"dataframe\">\n",
       "  <thead>\n",
       "    <tr style=\"text-align: right;\">\n",
       "      <th></th>\n",
       "      <th>상가업소번호</th>\n",
       "      <th>상호명</th>\n",
       "      <th>지점명</th>\n",
       "      <th>상권업종대분류코드</th>\n",
       "      <th>상권업종대분류명</th>\n",
       "      <th>상권업종중분류코드</th>\n",
       "      <th>상권업종중분류명</th>\n",
       "      <th>상권업종소분류코드</th>\n",
       "      <th>상권업종소분류명</th>\n",
       "      <th>표준산업분류코드</th>\n",
       "      <th>...</th>\n",
       "      <th>건물관리번호</th>\n",
       "      <th>건물명</th>\n",
       "      <th>도로명주소</th>\n",
       "      <th>구우편번호</th>\n",
       "      <th>신우편번호</th>\n",
       "      <th>동정보</th>\n",
       "      <th>층정보</th>\n",
       "      <th>호정보</th>\n",
       "      <th>경도</th>\n",
       "      <th>위도</th>\n",
       "    </tr>\n",
       "  </thead>\n",
       "  <tbody>\n",
       "    <tr>\n",
       "      <th>33</th>\n",
       "      <td>20816709</td>\n",
       "      <td>이즈타워약</td>\n",
       "      <td>NaN</td>\n",
       "      <td>S</td>\n",
       "      <td>의료</td>\n",
       "      <td>S02</td>\n",
       "      <td>약국/한약방</td>\n",
       "      <td>S02A01</td>\n",
       "      <td>약국</td>\n",
       "      <td>G47811</td>\n",
       "      <td>...</td>\n",
       "      <td>1168010100108210001000001</td>\n",
       "      <td>이즈타워</td>\n",
       "      <td>서울특별시 강남구 테헤란로 101</td>\n",
       "      <td>135080.0</td>\n",
       "      <td>6134.0</td>\n",
       "      <td>NaN</td>\n",
       "      <td>1</td>\n",
       "      <td>NaN</td>\n",
       "      <td>127.028023</td>\n",
       "      <td>37.498656</td>\n",
       "    </tr>\n",
       "    <tr>\n",
       "      <th>51</th>\n",
       "      <td>20855710</td>\n",
       "      <td>진흥약국</td>\n",
       "      <td>NaN</td>\n",
       "      <td>S</td>\n",
       "      <td>의료</td>\n",
       "      <td>S02</td>\n",
       "      <td>약국/한약방</td>\n",
       "      <td>S02A01</td>\n",
       "      <td>약국</td>\n",
       "      <td>G47811</td>\n",
       "      <td>...</td>\n",
       "      <td>1174010600106090000000001</td>\n",
       "      <td>둔촌푸르지오아파트</td>\n",
       "      <td>서울특별시 강동구 명일로 172</td>\n",
       "      <td>134767.0</td>\n",
       "      <td>5360.0</td>\n",
       "      <td>NaN</td>\n",
       "      <td>NaN</td>\n",
       "      <td>NaN</td>\n",
       "      <td>127.145055</td>\n",
       "      <td>37.534135</td>\n",
       "    </tr>\n",
       "    <tr>\n",
       "      <th>130</th>\n",
       "      <td>21589838</td>\n",
       "      <td>신세계약국</td>\n",
       "      <td>NaN</td>\n",
       "      <td>S</td>\n",
       "      <td>의료</td>\n",
       "      <td>S02</td>\n",
       "      <td>약국/한약방</td>\n",
       "      <td>S02A01</td>\n",
       "      <td>약국</td>\n",
       "      <td>G47811</td>\n",
       "      <td>...</td>\n",
       "      <td>1126010600106460000000300</td>\n",
       "      <td>금강리빙스텔</td>\n",
       "      <td>서울특별시 중랑구 신내로 211</td>\n",
       "      <td>131130.0</td>\n",
       "      <td>2024.0</td>\n",
       "      <td>NaN</td>\n",
       "      <td>1</td>\n",
       "      <td>NaN</td>\n",
       "      <td>127.092597</td>\n",
       "      <td>37.616424</td>\n",
       "    </tr>\n",
       "    <tr>\n",
       "      <th>136</th>\n",
       "      <td>22388303</td>\n",
       "      <td>메디팜한솔약국</td>\n",
       "      <td>NaN</td>\n",
       "      <td>S</td>\n",
       "      <td>의료</td>\n",
       "      <td>S02</td>\n",
       "      <td>약국/한약방</td>\n",
       "      <td>S02A01</td>\n",
       "      <td>약국</td>\n",
       "      <td>G47811</td>\n",
       "      <td>...</td>\n",
       "      <td>1120010700103460012016935</td>\n",
       "      <td>한진노변상가</td>\n",
       "      <td>서울특별시 성동구 행당로 82</td>\n",
       "      <td>133777.0</td>\n",
       "      <td>4717.0</td>\n",
       "      <td>NaN</td>\n",
       "      <td>1</td>\n",
       "      <td>NaN</td>\n",
       "      <td>127.027513</td>\n",
       "      <td>37.556238</td>\n",
       "    </tr>\n",
       "    <tr>\n",
       "      <th>141</th>\n",
       "      <td>22412563</td>\n",
       "      <td>명약국</td>\n",
       "      <td>NaN</td>\n",
       "      <td>S</td>\n",
       "      <td>의료</td>\n",
       "      <td>S02</td>\n",
       "      <td>약국/한약방</td>\n",
       "      <td>S02A01</td>\n",
       "      <td>약국</td>\n",
       "      <td>G47811</td>\n",
       "      <td>...</td>\n",
       "      <td>1123010900102860121007257</td>\n",
       "      <td>NaN</td>\n",
       "      <td>서울특별시 동대문구 망우로18나길 3</td>\n",
       "      <td>130090.0</td>\n",
       "      <td>2498.0</td>\n",
       "      <td>NaN</td>\n",
       "      <td>1</td>\n",
       "      <td>NaN</td>\n",
       "      <td>127.060556</td>\n",
       "      <td>37.587349</td>\n",
       "    </tr>\n",
       "  </tbody>\n",
       "</table>\n",
       "<p>5 rows × 39 columns</p>\n",
       "</div>"
      ],
      "text/plain": [
       "       상가업소번호      상호명  지점명 상권업종대분류코드 상권업종대분류명 상권업종중분류코드 상권업종중분류명 상권업종소분류코드  \\\n",
       "33   20816709    이즈타워약  NaN         S       의료       S02   약국/한약방    S02A01   \n",
       "51   20855710     진흥약국  NaN         S       의료       S02   약국/한약방    S02A01   \n",
       "130  21589838    신세계약국  NaN         S       의료       S02   약국/한약방    S02A01   \n",
       "136  22388303  메디팜한솔약국  NaN         S       의료       S02   약국/한약방    S02A01   \n",
       "141  22412563      명약국  NaN         S       의료       S02   약국/한약방    S02A01   \n",
       "\n",
       "    상권업종소분류명 표준산업분류코드  ...                     건물관리번호        건물명  \\\n",
       "33        약국   G47811  ...  1168010100108210001000001       이즈타워   \n",
       "51        약국   G47811  ...  1174010600106090000000001  둔촌푸르지오아파트   \n",
       "130       약국   G47811  ...  1126010600106460000000300     금강리빙스텔   \n",
       "136       약국   G47811  ...  1120010700103460012016935     한진노변상가   \n",
       "141       약국   G47811  ...  1123010900102860121007257        NaN   \n",
       "\n",
       "                    도로명주소     구우편번호   신우편번호  동정보  층정보  호정보          경도  \\\n",
       "33     서울특별시 강남구 테헤란로 101  135080.0  6134.0  NaN    1  NaN  127.028023   \n",
       "51      서울특별시 강동구 명일로 172  134767.0  5360.0  NaN  NaN  NaN  127.145055   \n",
       "130     서울특별시 중랑구 신내로 211  131130.0  2024.0  NaN    1  NaN  127.092597   \n",
       "136      서울특별시 성동구 행당로 82  133777.0  4717.0  NaN    1  NaN  127.027513   \n",
       "141  서울특별시 동대문구 망우로18나길 3  130090.0  2498.0  NaN    1  NaN  127.060556   \n",
       "\n",
       "            위도  \n",
       "33   37.498656  \n",
       "51   37.534135  \n",
       "130  37.616424  \n",
       "136  37.556238  \n",
       "141  37.587349  \n",
       "\n",
       "[5 rows x 39 columns]"
      ]
     },
     "execution_count": 31,
     "metadata": {},
     "output_type": "execute_result"
    }
   ],
   "source": [
    "# '상권업종소분류명'이 '약국'인 것과\n",
    "# '시도명' 이 \"서울특별시\"인 데이터만 가져옵니다.\n",
    "# 소괄호로 안묶어주면 연산자 우선순위 때문에 에러가난다.\n",
    "df_seoul_drug=df[(df['상권업종소분류명']==\"약국\") & (df[\"시도명\"]== \"서울특별시\")]\n",
    "print(df_seoul_drug.shape)\n",
    "df_seoul_drug.head()\n"
   ]
  },
  {
   "cell_type": "markdown",
   "metadata": {},
   "source": [
    "1.12.2 구별로 보기"
   ]
  },
  {
   "cell_type": "code",
   "execution_count": 36,
   "metadata": {},
   "outputs": [
    {
     "data": {
      "text/plain": [
       "강남구     374\n",
       "동대문구    261\n",
       "광진구     212\n",
       "서초구     191\n",
       "송파구     188\n",
       "Name: 시군구명, dtype: int64"
      ]
     },
     "execution_count": 36,
     "metadata": {},
     "output_type": "execute_result"
    }
   ],
   "source": [
    "# 위에서 색인한 데이터로 \"시군구명\"으로 그룹화해서 갯수를 세어봅니다.\n",
    "# 구별로 약국이 몇개가 있는지 확인해 봅니다,\n",
    "c= df_seoul_drug[\"시군구명\"].value_counts()\n",
    "c.head()"
   ]
  },
  {
   "cell_type": "code",
   "execution_count": 41,
   "metadata": {},
   "outputs": [
    {
     "data": {
      "text/plain": [
       "강남구     0.104498\n",
       "동대문구    0.072925\n",
       "광진구     0.059234\n",
       "서초구     0.053367\n",
       "송파구     0.052529\n",
       "Name: 시군구명, dtype: float64"
      ]
     },
     "execution_count": 41,
     "metadata": {},
     "output_type": "execute_result"
    }
   ],
   "source": [
    "# normalize=True 를 통해 비율을 구해봅시다.\n",
    "n=df_seoul_drug[\"시군구명\"].value_counts(normalize=True)\n",
    "n.head()"
   ]
  },
  {
   "cell_type": "code",
   "execution_count": 46,
   "metadata": {},
   "outputs": [
    {
     "data": {
      "text/plain": [
       "<AxesSubplot:>"
      ]
     },
     "execution_count": 46,
     "metadata": {},
     "output_type": "execute_result"
    },
    {
     "data": {
      "image/png": "[encoded data removed]",
      "text/plain": [
       "<Figure size 432x288 with 1 Axes>"
      ]
     },
     "metadata": {
      "image/png": {
       "height": 278,
       "width": 378
      },
      "needs_background": "light"
     },
     "output_type": "display_data"
    }
   ],
   "source": [
    "# 위에서 구한 결과를 판다스의 plot.bar()를 활용해 막대그래프로 그립니다.\n",
    "c.plot.bar(rot=60)"
   ]
  },
  {
   "cell_type": "code",
   "execution_count": 51,
   "metadata": {},
   "outputs": [
    {
     "data": {
      "text/html": [
       "<div>\n",
       "<style scoped>\n",
       "    .dataframe tbody tr th:only-of-type {\n",
       "        vertical-align: middle;\n",
       "    }\n",
       "\n",
       "    .dataframe tbody tr th {\n",
       "        vertical-align: top;\n",
       "    }\n",
       "\n",
       "    .dataframe thead th {\n",
       "        text-align: right;\n",
       "    }\n",
       "</style>\n",
       "<table border=\"1\" class=\"dataframe\">\n",
       "  <thead>\n",
       "    <tr style=\"text-align: right;\">\n",
       "      <th></th>\n",
       "      <th>상가업소번호</th>\n",
       "      <th>상호명</th>\n",
       "      <th>지점명</th>\n",
       "      <th>상권업종대분류코드</th>\n",
       "      <th>상권업종대분류명</th>\n",
       "      <th>상권업종중분류코드</th>\n",
       "      <th>상권업종중분류명</th>\n",
       "      <th>상권업종소분류코드</th>\n",
       "      <th>상권업종소분류명</th>\n",
       "      <th>표준산업분류코드</th>\n",
       "      <th>...</th>\n",
       "      <th>건물관리번호</th>\n",
       "      <th>건물명</th>\n",
       "      <th>도로명주소</th>\n",
       "      <th>구우편번호</th>\n",
       "      <th>신우편번호</th>\n",
       "      <th>동정보</th>\n",
       "      <th>층정보</th>\n",
       "      <th>호정보</th>\n",
       "      <th>경도</th>\n",
       "      <th>위도</th>\n",
       "    </tr>\n",
       "  </thead>\n",
       "  <tbody>\n",
       "    <tr>\n",
       "      <th>305</th>\n",
       "      <td>25155642</td>\n",
       "      <td>대진의료재단</td>\n",
       "      <td>NaN</td>\n",
       "      <td>S</td>\n",
       "      <td>의료</td>\n",
       "      <td>S01</td>\n",
       "      <td>병원</td>\n",
       "      <td>S01B01</td>\n",
       "      <td>종합병원</td>\n",
       "      <td>Q86101</td>\n",
       "      <td>...</td>\n",
       "      <td>1121510100100580025000733</td>\n",
       "      <td>재단법인대순진리회</td>\n",
       "      <td>서울특별시 광진구 긴고랑로 119</td>\n",
       "      <td>143220.0</td>\n",
       "      <td>4944.0</td>\n",
       "      <td>NaN</td>\n",
       "      <td>NaN</td>\n",
       "      <td>NaN</td>\n",
       "      <td>127.088279</td>\n",
       "      <td>37.559048</td>\n",
       "    </tr>\n",
       "    <tr>\n",
       "      <th>353</th>\n",
       "      <td>20471487</td>\n",
       "      <td>홍익병원별관</td>\n",
       "      <td>NaN</td>\n",
       "      <td>S</td>\n",
       "      <td>의료</td>\n",
       "      <td>S01</td>\n",
       "      <td>병원</td>\n",
       "      <td>S01B01</td>\n",
       "      <td>종합병원</td>\n",
       "      <td>Q86101</td>\n",
       "      <td>...</td>\n",
       "      <td>1147010100108970013001044</td>\n",
       "      <td>홍익병원별관</td>\n",
       "      <td>서울특별시 양천구 국회대로 250</td>\n",
       "      <td>158070.0</td>\n",
       "      <td>7937.0</td>\n",
       "      <td>NaN</td>\n",
       "      <td>1</td>\n",
       "      <td>NaN</td>\n",
       "      <td>126.862805</td>\n",
       "      <td>37.529213</td>\n",
       "    </tr>\n",
       "    <tr>\n",
       "      <th>385</th>\n",
       "      <td>20737057</td>\n",
       "      <td>SNUH</td>\n",
       "      <td>NaN</td>\n",
       "      <td>S</td>\n",
       "      <td>의료</td>\n",
       "      <td>S01</td>\n",
       "      <td>병원</td>\n",
       "      <td>S01B01</td>\n",
       "      <td>종합병원</td>\n",
       "      <td>Q86101</td>\n",
       "      <td>...</td>\n",
       "      <td>1168010100107360055027688</td>\n",
       "      <td>성보빌딩</td>\n",
       "      <td>서울특별시 강남구 테헤란로26길 10</td>\n",
       "      <td>135080.0</td>\n",
       "      <td>6236.0</td>\n",
       "      <td>NaN</td>\n",
       "      <td>4</td>\n",
       "      <td>NaN</td>\n",
       "      <td>127.035825</td>\n",
       "      <td>37.499630</td>\n",
       "    </tr>\n",
       "    <tr>\n",
       "      <th>1917</th>\n",
       "      <td>23210677</td>\n",
       "      <td>평화드림여의도성모병원의료기매장</td>\n",
       "      <td>NaN</td>\n",
       "      <td>S</td>\n",
       "      <td>의료</td>\n",
       "      <td>S01</td>\n",
       "      <td>병원</td>\n",
       "      <td>S01B01</td>\n",
       "      <td>종합병원</td>\n",
       "      <td>Q86101</td>\n",
       "      <td>...</td>\n",
       "      <td>1156011000100620000031477</td>\n",
       "      <td>여의도성모병원</td>\n",
       "      <td>서울특별시 영등포구 63로 10</td>\n",
       "      <td>150713.0</td>\n",
       "      <td>7345.0</td>\n",
       "      <td>NaN</td>\n",
       "      <td>1</td>\n",
       "      <td>NaN</td>\n",
       "      <td>126.936693</td>\n",
       "      <td>37.518296</td>\n",
       "    </tr>\n",
       "    <tr>\n",
       "      <th>2461</th>\n",
       "      <td>20024045</td>\n",
       "      <td>한양</td>\n",
       "      <td>NaN</td>\n",
       "      <td>S</td>\n",
       "      <td>의료</td>\n",
       "      <td>S01</td>\n",
       "      <td>병원</td>\n",
       "      <td>S01B01</td>\n",
       "      <td>종합병원</td>\n",
       "      <td>Q86101</td>\n",
       "      <td>...</td>\n",
       "      <td>1120010700100150001019623</td>\n",
       "      <td>한대동문회관</td>\n",
       "      <td>서울특별시 성동구 마조로 22-2</td>\n",
       "      <td>133070.0</td>\n",
       "      <td>4763.0</td>\n",
       "      <td>NaN</td>\n",
       "      <td>4</td>\n",
       "      <td>NaN</td>\n",
       "      <td>127.041325</td>\n",
       "      <td>37.559469</td>\n",
       "    </tr>\n",
       "    <tr>\n",
       "      <th>...</th>\n",
       "      <td>...</td>\n",
       "      <td>...</td>\n",
       "      <td>...</td>\n",
       "      <td>...</td>\n",
       "      <td>...</td>\n",
       "      <td>...</td>\n",
       "      <td>...</td>\n",
       "      <td>...</td>\n",
       "      <td>...</td>\n",
       "      <td>...</td>\n",
       "      <td>...</td>\n",
       "      <td>...</td>\n",
       "      <td>...</td>\n",
       "      <td>...</td>\n",
       "      <td>...</td>\n",
       "      <td>...</td>\n",
       "      <td>...</td>\n",
       "      <td>...</td>\n",
       "      <td>...</td>\n",
       "      <td>...</td>\n",
       "      <td>...</td>\n",
       "    </tr>\n",
       "    <tr>\n",
       "      <th>71991</th>\n",
       "      <td>28505952</td>\n",
       "      <td>서울성모병원응급의료센터</td>\n",
       "      <td>응급의료센터</td>\n",
       "      <td>S</td>\n",
       "      <td>의료</td>\n",
       "      <td>S01</td>\n",
       "      <td>병원</td>\n",
       "      <td>S01B01</td>\n",
       "      <td>종합병원</td>\n",
       "      <td>Q86101</td>\n",
       "      <td>...</td>\n",
       "      <td>1165010700101230000017226</td>\n",
       "      <td>가톨릭대학교성의교정</td>\n",
       "      <td>서울특별시 서초구 반포대로 222</td>\n",
       "      <td>137701.0</td>\n",
       "      <td>6591.0</td>\n",
       "      <td>NaN</td>\n",
       "      <td>1</td>\n",
       "      <td>NaN</td>\n",
       "      <td>127.005841</td>\n",
       "      <td>37.502382</td>\n",
       "    </tr>\n",
       "    <tr>\n",
       "      <th>76508</th>\n",
       "      <td>12292992</td>\n",
       "      <td>라마르의원</td>\n",
       "      <td>NaN</td>\n",
       "      <td>S</td>\n",
       "      <td>의료</td>\n",
       "      <td>S01</td>\n",
       "      <td>병원</td>\n",
       "      <td>S01B01</td>\n",
       "      <td>종합병원</td>\n",
       "      <td>Q86101</td>\n",
       "      <td>...</td>\n",
       "      <td>1174010900104530021010314</td>\n",
       "      <td>원방빌딩</td>\n",
       "      <td>서울특별시 강동구 천호대로157길 18</td>\n",
       "      <td>134864.0</td>\n",
       "      <td>5335.0</td>\n",
       "      <td>NaN</td>\n",
       "      <td>NaN</td>\n",
       "      <td>NaN</td>\n",
       "      <td>127.127466</td>\n",
       "      <td>37.538485</td>\n",
       "    </tr>\n",
       "    <tr>\n",
       "      <th>90492</th>\n",
       "      <td>16031909</td>\n",
       "      <td>가톨릭대학교여의도성모병원</td>\n",
       "      <td>NaN</td>\n",
       "      <td>S</td>\n",
       "      <td>의료</td>\n",
       "      <td>S01</td>\n",
       "      <td>병원</td>\n",
       "      <td>S01B01</td>\n",
       "      <td>종합병원</td>\n",
       "      <td>Q86101</td>\n",
       "      <td>...</td>\n",
       "      <td>1114012700100010001019574</td>\n",
       "      <td>명동성당</td>\n",
       "      <td>서울특별시 중구 명동길 74</td>\n",
       "      <td>100809.0</td>\n",
       "      <td>4537.0</td>\n",
       "      <td>NaN</td>\n",
       "      <td>NaN</td>\n",
       "      <td>NaN</td>\n",
       "      <td>126.986758</td>\n",
       "      <td>37.563662</td>\n",
       "    </tr>\n",
       "    <tr>\n",
       "      <th>90581</th>\n",
       "      <td>16332576</td>\n",
       "      <td>씨엠병원</td>\n",
       "      <td>NaN</td>\n",
       "      <td>S</td>\n",
       "      <td>의료</td>\n",
       "      <td>S01</td>\n",
       "      <td>병원</td>\n",
       "      <td>S01B01</td>\n",
       "      <td>종합병원</td>\n",
       "      <td>Q86101</td>\n",
       "      <td>...</td>\n",
       "      <td>1156010500100900000035097</td>\n",
       "      <td>충무병원</td>\n",
       "      <td>서울특별시 영등포구 영등포로36길 13</td>\n",
       "      <td>150030.0</td>\n",
       "      <td>7301.0</td>\n",
       "      <td>NaN</td>\n",
       "      <td>NaN</td>\n",
       "      <td>NaN</td>\n",
       "      <td>126.903857</td>\n",
       "      <td>37.518807</td>\n",
       "    </tr>\n",
       "    <tr>\n",
       "      <th>90788</th>\n",
       "      <td>16162338</td>\n",
       "      <td>성베드로병원</td>\n",
       "      <td>NaN</td>\n",
       "      <td>S</td>\n",
       "      <td>의료</td>\n",
       "      <td>S01</td>\n",
       "      <td>병원</td>\n",
       "      <td>S01B01</td>\n",
       "      <td>종합병원</td>\n",
       "      <td>Q86101</td>\n",
       "      <td>...</td>\n",
       "      <td>1168011800109100027000895</td>\n",
       "      <td>베드로병원</td>\n",
       "      <td>서울특별시 강남구 남부순환로 2649</td>\n",
       "      <td>135859.0</td>\n",
       "      <td>6271.0</td>\n",
       "      <td>NaN</td>\n",
       "      <td>NaN</td>\n",
       "      <td>NaN</td>\n",
       "      <td>127.039567</td>\n",
       "      <td>37.485604</td>\n",
       "    </tr>\n",
       "  </tbody>\n",
       "</table>\n",
       "<p>91 rows × 39 columns</p>\n",
       "</div>"
      ],
      "text/plain": [
       "         상가업소번호               상호명     지점명 상권업종대분류코드 상권업종대분류명 상권업종중분류코드  \\\n",
       "305    25155642            대진의료재단     NaN         S       의료       S01   \n",
       "353    20471487            홍익병원별관     NaN         S       의료       S01   \n",
       "385    20737057              SNUH     NaN         S       의료       S01   \n",
       "1917   23210677  평화드림여의도성모병원의료기매장     NaN         S       의료       S01   \n",
       "2461   20024045                한양     NaN         S       의료       S01   \n",
       "...         ...               ...     ...       ...      ...       ...   \n",
       "71991  28505952      서울성모병원응급의료센터  응급의료센터         S       의료       S01   \n",
       "76508  12292992             라마르의원     NaN         S       의료       S01   \n",
       "90492  16031909     가톨릭대학교여의도성모병원     NaN         S       의료       S01   \n",
       "90581  16332576              씨엠병원     NaN         S       의료       S01   \n",
       "90788  16162338            성베드로병원     NaN         S       의료       S01   \n",
       "\n",
       "      상권업종중분류명 상권업종소분류코드 상권업종소분류명 표준산업분류코드  ...                     건물관리번호  \\\n",
       "305         병원    S01B01     종합병원   Q86101  ...  1121510100100580025000733   \n",
       "353         병원    S01B01     종합병원   Q86101  ...  1147010100108970013001044   \n",
       "385         병원    S01B01     종합병원   Q86101  ...  1168010100107360055027688   \n",
       "1917        병원    S01B01     종합병원   Q86101  ...  1156011000100620000031477   \n",
       "2461        병원    S01B01     종합병원   Q86101  ...  1120010700100150001019623   \n",
       "...        ...       ...      ...      ...  ...                        ...   \n",
       "71991       병원    S01B01     종합병원   Q86101  ...  1165010700101230000017226   \n",
       "76508       병원    S01B01     종합병원   Q86101  ...  1174010900104530021010314   \n",
       "90492       병원    S01B01     종합병원   Q86101  ...  1114012700100010001019574   \n",
       "90581       병원    S01B01     종합병원   Q86101  ...  1156010500100900000035097   \n",
       "90788       병원    S01B01     종합병원   Q86101  ...  1168011800109100027000895   \n",
       "\n",
       "              건물명                  도로명주소     구우편번호   신우편번호  동정보  층정보  호정보  \\\n",
       "305     재단법인대순진리회     서울특별시 광진구 긴고랑로 119  143220.0  4944.0  NaN  NaN  NaN   \n",
       "353        홍익병원별관     서울특별시 양천구 국회대로 250  158070.0  7937.0  NaN    1  NaN   \n",
       "385          성보빌딩   서울특별시 강남구 테헤란로26길 10  135080.0  6236.0  NaN    4  NaN   \n",
       "1917      여의도성모병원      서울특별시 영등포구 63로 10  150713.0  7345.0  NaN    1  NaN   \n",
       "2461       한대동문회관     서울특별시 성동구 마조로 22-2  133070.0  4763.0  NaN    4  NaN   \n",
       "...           ...                    ...       ...     ...  ...  ...  ...   \n",
       "71991  가톨릭대학교성의교정     서울특별시 서초구 반포대로 222  137701.0  6591.0  NaN    1  NaN   \n",
       "76508        원방빌딩  서울특별시 강동구 천호대로157길 18  134864.0  5335.0  NaN  NaN  NaN   \n",
       "90492        명동성당        서울특별시 중구 명동길 74  100809.0  4537.0  NaN  NaN  NaN   \n",
       "90581        충무병원  서울특별시 영등포구 영등포로36길 13  150030.0  7301.0  NaN  NaN  NaN   \n",
       "90788       베드로병원   서울특별시 강남구 남부순환로 2649  135859.0  6271.0  NaN  NaN  NaN   \n",
       "\n",
       "               경도         위도  \n",
       "305    127.088279  37.559048  \n",
       "353    126.862805  37.529213  \n",
       "385    127.035825  37.499630  \n",
       "1917   126.936693  37.518296  \n",
       "2461   127.041325  37.559469  \n",
       "...           ...        ...  \n",
       "71991  127.005841  37.502382  \n",
       "76508  127.127466  37.538485  \n",
       "90492  126.986758  37.563662  \n",
       "90581  126.903857  37.518807  \n",
       "90788  127.039567  37.485604  \n",
       "\n",
       "[91 rows x 39 columns]"
      ]
     },
     "execution_count": 51,
     "metadata": {},
     "output_type": "execute_result"
    }
   ],
   "source": [
    "# \"상권업종소분류명\"이 \"종합병원\" 인 것과\n",
    "# \"시도명\" 이 \"서울특별시\" 인 데이터만 가져옵니다.\n",
    "# 결과를 df_seoul_hospital 에 할당해서 재사용합니다.\n",
    "df_seoul_hospital=df[(df[\"상권업종소분류명\"] == \"종합병원\") & (df[\"시도명\"]== \"서울특별시\")].copy()\n",
    "df_seoul_hospital\n"
   ]
  },
  {
   "cell_type": "code",
   "execution_count": 52,
   "metadata": {},
   "outputs": [
    {
     "data": {
      "text/plain": [
       "강남구     15\n",
       "영등포구     8\n",
       "광진구      6\n",
       "서초구      6\n",
       "강동구      5\n",
       "중구       5\n",
       "송파구      5\n",
       "강북구      4\n",
       "도봉구      4\n",
       "서대문구     4\n",
       "양천구      4\n",
       "성북구      3\n",
       "강서구      2\n",
       "중랑구      2\n",
       "종로구      2\n",
       "동대문구     2\n",
       "구로구      2\n",
       "노원구      2\n",
       "금천구      2\n",
       "성동구      2\n",
       "관악구      2\n",
       "동작구      1\n",
       "마포구      1\n",
       "용산구      1\n",
       "은평구      1\n",
       "Name: 시군구명, dtype: int64"
      ]
     },
     "execution_count": 52,
     "metadata": {},
     "output_type": "execute_result"
    }
   ],
   "source": [
    "# \"시군구명\"으로 그룹화 해서 구별로 종합병원의 수를 세어봅니다.\n",
    "df_seoul_hospital[\"시군구명\"].value_counts()"
   ]
  },
  {
   "cell_type": "markdown",
   "metadata": {},
   "source": [
    "1.12.3 텍스트 데이터 색인하기"
   ]
  },
  {
   "cell_type": "code",
   "execution_count": 62,
   "metadata": {},
   "outputs": [
    {
     "data": {
      "text/plain": [
       "array(['대진의료재단', '홍익병원별관', 'SNUH', '평화드림여의도성모병원의료기매장', '한양', '백산의료재단친구병원',\n",
       "       '서울보훈병원', '서울성모병원장례식장꽃배달', '서울대학교병원', '알콜중독및정신질환상담소',\n",
       "       '강남성모병원장례식장꽃배달', '제일병원', '이랜드클리닉', '사랑나눔의료재단', '우울증센터', '성심의료재단',\n",
       "       '다나의료재단', '서울아산병원신관', '원자력병원장례식장', '국민의원', '고려대학교구로병원', '학교법인일송학원',\n",
       "       '삼성의료원장례식장', '희명스포츠의학센터인공신장실', '연세대학교의과대학강남세브란스', '국립정신병원',\n",
       "       '코아클리닉', '수서제일의원', '사랑의의원', '한국전력공사부속한일병원', '신촌연세병원', '창동제일의원',\n",
       "       '영동세브란스병원', '제일성심의원', '삼성의료재단강북삼성태', '서울시립보라매병원', '서울이의원',\n",
       "       '서울대학교병원비상계획외래', '평화드림서울성모병원의료', '홍익병원', '사랑나눔의료재단서', '독일의원',\n",
       "       '서울연합의원', '우신향병원', '동부제일병원', '아산재단금강병원', '명곡안연구소', '아산재단서울중앙병원',\n",
       "       '메디힐특수여객', '삼성생명공익재단삼성서', '성광의료재단차병원', '한국건강관리협회서울특',\n",
       "       '정해복지부설한신메디피아', '성베드로병원', '성애의료재단', '실로암의원', 'Y&T성모마취과', '광진성모의원',\n",
       "       '서울현대의원', '이노신경과의원', '송정훼밀리의원', '서울중앙의원', '영남의료재단', '인제대학교서울백병원',\n",
       "       '한국필의료재단', '세브란스의원', '가톨릭대학교성바오로병원장례식장', '서울연세의원', '사랑의병원',\n",
       "       '성삼의료재단미즈메디병원', '씨엠충무병원', '성신의원', '원진재단부설녹색병원', '송파제일의원',\n",
       "       '카톨릭성모의원', '한양성심의원', '관악성모의원', '강남센트럴병원', '우이한솔의원', '우리들병원',\n",
       "       '서울성모병원어린이집', '건국대학교병원', '서울적십자병원', '북부성모의원', '한림대학교부속한강성심병원장례식장',\n",
       "       '서울성모병원응급의료센터', '라마르의원', '가톨릭대학교여의도성모병원', '씨엠병원'], dtype=object)"
      ]
     },
     "execution_count": 62,
     "metadata": {},
     "output_type": "execute_result"
    }
   ],
   "source": [
    "# 색인하기 전에 상효명 중에 종합병원이 아닌 데이터를 찾아봅니다.\n",
    "# ~를 사용하면 아닌것들만 가져올 수 있다.\n",
    "df_seoul_hospital.loc[~df_seoul_hospital[\"상호명\"].str.contains(\"종합병원\"), \"상호명\"].unique()"
   ]
  },
  {
   "cell_type": "code",
   "execution_count": 67,
   "metadata": {},
   "outputs": [
    {
     "data": {
      "text/plain": [
       "Int64Index([1917, 2803, 4431, 4644, 7938, 10283, 47008, 60645, 70177], dtype='int64')"
      ]
     },
     "execution_count": 67,
     "metadata": {},
     "output_type": "execute_result"
    }
   ],
   "source": [
    "# 상호명에서 특정 단어가 들어가는 데이터만 가져옵니다. - 꽃배달\n",
    "df_seoul_hospital[df_seoul_hospital[\"상호명\"].str.contains(\"꽃배달\")]"
   ]
  },
  {
   "cell_type": "code",
   "execution_count": 75,
   "metadata": {},
   "outputs": [
    {
     "data": {
      "text/plain": [
       "[1917, 2803, 4431, 4644, 7938, 10283, 47008, 60645, 70177]"
      ]
     },
     "execution_count": 75,
     "metadata": {},
     "output_type": "execute_result"
    }
   ],
   "source": [
    "# \"꽃배달|의료기|장례식장|상담소|어린이집\" 은 종합병원과 무관하기 때문에\n",
    "# 전처리를 위해 해당 텍스트를 한 번에 검색합니다.\n",
    "# 제거할 데이터의 인덱스만 drop_row에 담아주고 list 형태로 변환합니다.\n",
    "drop_row=df_seoul_hospital[df_seoul_hospital[\"상호명\"].str.contains(\"꽃배달|의료기|장례식장|상담소|어린이집\")].index\n",
    "drop_row= drop_row.tolist()\n",
    "drop_row"
   ]
  },
  {
   "cell_type": "code",
   "execution_count": null,
   "metadata": {},
   "outputs": [],
   "source": [
    "# 의원으로 끝나는 데이터도 종합병원으로 볼 수 없기 때문에 인덱스를 찾아서\n",
    "# drop_row2에 담아주고 list 형태로 변환합니다.\n",
    "df_seoul_hospital[\"상호명\"].str.endswith(\"의원\")"
   ]
  }
 ],
 "metadata": {
  "interpreter": {
   "hash": "d0f9845a7141579fa4b5b9070f31a68fd540e27004ffc322125bddaa19eac1c5"
  },
  "kernelspec": {
   "display_name": "Python 3.9.7 ('python3.9')",
   "language": "python",
   "name": "python3"
  },
  "language_info": {
   "codemirror_mode": {
    "name": "ipython",
    "version": 3
   },
   "file_extension": ".py",
   "mimetype": "text/x-python",
   "name": "python",
   "nbconvert_exporter": "python",
   "pygments_lexer": "ipython3",
   "version": "3.9.7"
  },
  "orig_nbformat": 4
 },
 "nbformat": 4,
 "nbformat_minor": 2
}
