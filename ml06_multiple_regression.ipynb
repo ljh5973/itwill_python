{
 "cells": [
  {
   "cell_type": "markdown",
   "metadata": {},
   "source": [
    "# 다중 선형 회귀\n",
    "\n",
    "특성(독립 변수)들이 여러개인 선형 회귀 모델\n",
    "* 1차항만 고려한 선형 회귀\n",
    "* 고차항들을 추가한 다항 선형 회귀"
   ]
  },
  {
   "cell_type": "code",
   "execution_count": 1,
   "metadata": {},
   "outputs": [],
   "source": [
    "import numpy as np\n",
    "import pandas as pd\n",
    "import seaborn as sns\n",
    "import matplotlib.pyplot as plt\n",
    "\n",
    "from sklearn.model_selection  import train_test_split\n",
    "from sklearn.preprocessing import PolynomialFeatures, StandardScaler\n",
    "from sklearn.pipeline import Pipeline\n",
    "from sklearn.linear_model import LinearRegression\n",
    "from sklearn.metrics import mean_squared_error, r2_score\n"
   ]
  },
  {
   "cell_type": "code",
   "execution_count": 2,
   "metadata": {},
   "outputs": [],
   "source": [
    "fish_csv='https://github.com/JakeOh/202110_itw_lab_python/raw/main/fish.csv'"
   ]
  },
  {
   "cell_type": "code",
   "execution_count": 3,
   "metadata": {},
   "outputs": [],
   "source": [
    "fish=pd.read_csv(fish_csv)"
   ]
  },
  {
   "cell_type": "code",
   "execution_count": 4,
   "metadata": {},
   "outputs": [
    {
     "name": "stdout",
     "output_type": "stream",
     "text": [
      "<class 'pandas.core.frame.DataFrame'>\n",
      "RangeIndex: 159 entries, 0 to 158\n",
      "Data columns (total 6 columns):\n",
      " #   Column    Non-Null Count  Dtype  \n",
      "---  ------    --------------  -----  \n",
      " 0   Species   159 non-null    object \n",
      " 1   Weight    159 non-null    float64\n",
      " 2   Length    159 non-null    float64\n",
      " 3   Diagonal  159 non-null    float64\n",
      " 4   Height    159 non-null    float64\n",
      " 5   Width     159 non-null    float64\n",
      "dtypes: float64(5), object(1)\n",
      "memory usage: 7.6+ KB\n"
     ]
    }
   ],
   "source": [
    "fish.info()"
   ]
  },
  {
   "cell_type": "code",
   "execution_count": 5,
   "metadata": {},
   "outputs": [
    {
     "data": {
      "text/html": [
       "<div>\n",
       "<style scoped>\n",
       "    .dataframe tbody tr th:only-of-type {\n",
       "        vertical-align: middle;\n",
       "    }\n",
       "\n",
       "    .dataframe tbody tr th {\n",
       "        vertical-align: top;\n",
       "    }\n",
       "\n",
       "    .dataframe thead th {\n",
       "        text-align: right;\n",
       "    }\n",
       "</style>\n",
       "<table border=\"1\" class=\"dataframe\">\n",
       "  <thead>\n",
       "    <tr style=\"text-align: right;\">\n",
       "      <th></th>\n",
       "      <th>Species</th>\n",
       "      <th>Weight</th>\n",
       "      <th>Length</th>\n",
       "      <th>Diagonal</th>\n",
       "      <th>Height</th>\n",
       "      <th>Width</th>\n",
       "    </tr>\n",
       "  </thead>\n",
       "  <tbody>\n",
       "    <tr>\n",
       "      <th>0</th>\n",
       "      <td>Bream</td>\n",
       "      <td>242.0</td>\n",
       "      <td>25.4</td>\n",
       "      <td>30.0</td>\n",
       "      <td>11.5200</td>\n",
       "      <td>4.0200</td>\n",
       "    </tr>\n",
       "    <tr>\n",
       "      <th>1</th>\n",
       "      <td>Bream</td>\n",
       "      <td>290.0</td>\n",
       "      <td>26.3</td>\n",
       "      <td>31.2</td>\n",
       "      <td>12.4800</td>\n",
       "      <td>4.3056</td>\n",
       "    </tr>\n",
       "    <tr>\n",
       "      <th>2</th>\n",
       "      <td>Bream</td>\n",
       "      <td>340.0</td>\n",
       "      <td>26.5</td>\n",
       "      <td>31.1</td>\n",
       "      <td>12.3778</td>\n",
       "      <td>4.6961</td>\n",
       "    </tr>\n",
       "    <tr>\n",
       "      <th>3</th>\n",
       "      <td>Bream</td>\n",
       "      <td>363.0</td>\n",
       "      <td>29.0</td>\n",
       "      <td>33.5</td>\n",
       "      <td>12.7300</td>\n",
       "      <td>4.4555</td>\n",
       "    </tr>\n",
       "    <tr>\n",
       "      <th>4</th>\n",
       "      <td>Bream</td>\n",
       "      <td>430.0</td>\n",
       "      <td>29.0</td>\n",
       "      <td>34.0</td>\n",
       "      <td>12.4440</td>\n",
       "      <td>5.1340</td>\n",
       "    </tr>\n",
       "  </tbody>\n",
       "</table>\n",
       "</div>"
      ],
      "text/plain": [
       "  Species  Weight  Length  Diagonal   Height   Width\n",
       "0   Bream   242.0    25.4      30.0  11.5200  4.0200\n",
       "1   Bream   290.0    26.3      31.2  12.4800  4.3056\n",
       "2   Bream   340.0    26.5      31.1  12.3778  4.6961\n",
       "3   Bream   363.0    29.0      33.5  12.7300  4.4555\n",
       "4   Bream   430.0    29.0      34.0  12.4440  5.1340"
      ]
     },
     "execution_count": 5,
     "metadata": {},
     "output_type": "execute_result"
    }
   ],
   "source": [
    "fish.head()"
   ]
  },
  {
   "cell_type": "code",
   "execution_count": 8,
   "metadata": {},
   "outputs": [
    {
     "data": {
      "text/html": [
       "<div>\n",
       "<style scoped>\n",
       "    .dataframe tbody tr th:only-of-type {\n",
       "        vertical-align: middle;\n",
       "    }\n",
       "\n",
       "    .dataframe tbody tr th {\n",
       "        vertical-align: top;\n",
       "    }\n",
       "\n",
       "    .dataframe thead th {\n",
       "        text-align: right;\n",
       "    }\n",
       "</style>\n",
       "<table border=\"1\" class=\"dataframe\">\n",
       "  <thead>\n",
       "    <tr style=\"text-align: right;\">\n",
       "      <th></th>\n",
       "      <th>Species</th>\n",
       "      <th>Weight</th>\n",
       "      <th>Length</th>\n",
       "      <th>Diagonal</th>\n",
       "      <th>Height</th>\n",
       "      <th>Width</th>\n",
       "    </tr>\n",
       "  </thead>\n",
       "  <tbody>\n",
       "    <tr>\n",
       "      <th>72</th>\n",
       "      <td>Perch</td>\n",
       "      <td>5.9</td>\n",
       "      <td>8.4</td>\n",
       "      <td>8.8</td>\n",
       "      <td>2.1120</td>\n",
       "      <td>1.4080</td>\n",
       "    </tr>\n",
       "    <tr>\n",
       "      <th>73</th>\n",
       "      <td>Perch</td>\n",
       "      <td>32.0</td>\n",
       "      <td>13.7</td>\n",
       "      <td>14.7</td>\n",
       "      <td>3.5280</td>\n",
       "      <td>1.9992</td>\n",
       "    </tr>\n",
       "    <tr>\n",
       "      <th>74</th>\n",
       "      <td>Perch</td>\n",
       "      <td>40.0</td>\n",
       "      <td>15.0</td>\n",
       "      <td>16.0</td>\n",
       "      <td>3.8240</td>\n",
       "      <td>2.4320</td>\n",
       "    </tr>\n",
       "    <tr>\n",
       "      <th>75</th>\n",
       "      <td>Perch</td>\n",
       "      <td>51.5</td>\n",
       "      <td>16.2</td>\n",
       "      <td>17.2</td>\n",
       "      <td>4.5924</td>\n",
       "      <td>2.6316</td>\n",
       "    </tr>\n",
       "    <tr>\n",
       "      <th>76</th>\n",
       "      <td>Perch</td>\n",
       "      <td>70.0</td>\n",
       "      <td>17.4</td>\n",
       "      <td>18.5</td>\n",
       "      <td>4.5880</td>\n",
       "      <td>2.9415</td>\n",
       "    </tr>\n",
       "  </tbody>\n",
       "</table>\n",
       "</div>"
      ],
      "text/plain": [
       "   Species  Weight  Length  Diagonal  Height   Width\n",
       "72   Perch     5.9     8.4       8.8  2.1120  1.4080\n",
       "73   Perch    32.0    13.7      14.7  3.5280  1.9992\n",
       "74   Perch    40.0    15.0      16.0  3.8240  2.4320\n",
       "75   Perch    51.5    16.2      17.2  4.5924  2.6316\n",
       "76   Perch    70.0    17.4      18.5  4.5880  2.9415"
      ]
     },
     "execution_count": 8,
     "metadata": {},
     "output_type": "execute_result"
    }
   ],
   "source": [
    "perch=fish[fish[\"Species\"]==\"Perch\"]\n",
    "perch.head()"
   ]
  },
  {
   "cell_type": "code",
   "execution_count": 15,
   "metadata": {},
   "outputs": [],
   "source": [
    "X=perch.iloc[:,2:].values   #> 2차원 배열   - 특성 행렬     문제\n",
    "y=perch[\"Weight\"].values    #> 1차원 배열   - 레이블(타겟)  정답"
   ]
  },
  {
   "cell_type": "code",
   "execution_count": 21,
   "metadata": {},
   "outputs": [
    {
     "data": {
      "text/plain": [
       "array([[ 8.4   ,  8.8   ,  2.112 ,  1.408 ],\n",
       "       [13.7   , 14.7   ,  3.528 ,  1.9992],\n",
       "       [15.    , 16.    ,  3.824 ,  2.432 ],\n",
       "       [16.2   , 17.2   ,  4.5924,  2.6316],\n",
       "       [17.4   , 18.5   ,  4.588 ,  2.9415]])"
      ]
     },
     "execution_count": 21,
     "metadata": {},
     "output_type": "execute_result"
    }
   ],
   "source": [
    "X[:5,:]"
   ]
  },
  {
   "cell_type": "code",
   "execution_count": 23,
   "metadata": {},
   "outputs": [
    {
     "data": {
      "text/plain": [
       "array([ 5.9, 32. , 40. , 51.5, 70. ])"
      ]
     },
     "execution_count": 23,
     "metadata": {},
     "output_type": "execute_result"
    }
   ],
   "source": [
    "y[:5]"
   ]
  },
  {
   "cell_type": "markdown",
   "metadata": {},
   "source": [
    "# 훈련/테스트 셋 분리"
   ]
  },
  {
   "cell_type": "code",
   "execution_count": 24,
   "metadata": {},
   "outputs": [],
   "source": [
    "X_train, X_test, y_train, y_test = train_test_split(X,y,\n",
    "                                                    test_size=0.25,\n",
    "                                                    random_state=42)"
   ]
  },
  {
   "cell_type": "code",
   "execution_count": 25,
   "metadata": {},
   "outputs": [
    {
     "data": {
      "text/plain": [
       "((42, 4), (42,))"
      ]
     },
     "execution_count": 25,
     "metadata": {},
     "output_type": "execute_result"
    }
   ],
   "source": [
    "X_train.shape, y_train.shape"
   ]
  },
  {
   "cell_type": "code",
   "execution_count": 26,
   "metadata": {},
   "outputs": [
    {
     "data": {
      "text/plain": [
       "((14, 4), (14,))"
      ]
     },
     "execution_count": 26,
     "metadata": {},
     "output_type": "execute_result"
    }
   ],
   "source": [
    "X_test.shape, y_test.shape"
   ]
  },
  {
   "cell_type": "code",
   "execution_count": 27,
   "metadata": {},
   "outputs": [
    {
     "data": {
      "text/plain": [
       "array([[19.6   , 20.8   ,  5.1376,  3.0368],\n",
       "       [22.    , 23.5   ,  5.875 ,  3.525 ],\n",
       "       [18.7   , 19.4   ,  5.1992,  3.1234],\n",
       "       [17.4   , 18.5   ,  4.588 ,  2.9415],\n",
       "       [36.    , 38.3   , 10.6091,  6.7408]])"
      ]
     },
     "execution_count": 27,
     "metadata": {},
     "output_type": "execute_result"
    }
   ],
   "source": [
    "X_train[:5, :]"
   ]
  },
  {
   "cell_type": "code",
   "execution_count": 30,
   "metadata": {},
   "outputs": [
    {
     "data": {
      "text/plain": [
       "array([ 85., 135.,  78.,  70., 700.])"
      ]
     },
     "execution_count": 30,
     "metadata": {},
     "output_type": "execute_result"
    }
   ],
   "source": [
    "y_train[:5]"
   ]
  },
  {
   "cell_type": "markdown",
   "metadata": {},
   "source": [
    "# 1차항만 고려하는 선형 회귀\n",
    "\n",
    "$$\n",
    "\\hat{y} = w_0 + w_1 \\times x_1 + w_2 \\times x_2 + w_3 \\times x_3 + w_4 \\times x_4 = w_0 + X \\cdot w\n",
    "$$"
   ]
  },
  {
   "cell_type": "code",
   "execution_count": 31,
   "metadata": {},
   "outputs": [],
   "source": [
    "lin_reg=LinearRegression() # 선형 회귀 모델 생성"
   ]
  },
  {
   "cell_type": "code",
   "execution_count": 32,
   "metadata": {},
   "outputs": [
    {
     "data": {
      "text/plain": [
       "LinearRegression()"
      ]
     },
     "execution_count": 32,
     "metadata": {},
     "output_type": "execute_result"
    }
   ],
   "source": [
    "lin_reg.fit(X_train, y_train)   # 훈련 셋과 훈련 레이블로 모델을 학습시킴"
   ]
  },
  {
   "cell_type": "code",
   "execution_count": 36,
   "metadata": {},
   "outputs": [
    {
     "name": "stdout",
     "output_type": "stream",
     "text": [
      "-610.0275364260519\n",
      "[-40.18338554  47.80681727  67.34086612  35.34904264]\n"
     ]
    }
   ],
   "source": [
    "# 선형 회귀의 훈련 결과 - > 절편, 계수들을 찾음.\n",
    "print(lin_reg.intercept_)   #> 숫자 1개\n",
    "print(lin_reg.coef_)        #> 숫자 4개를 갖는 1차원 배열"
   ]
  },
  {
   "cell_type": "code",
   "execution_count": 40,
   "metadata": {},
   "outputs": [
    {
     "data": {
      "text/plain": [
       "array([  50.07831254,  149.63115115,   26.52323981,  -11.85322276,\n",
       "        727.07849472,  216.11818851,  859.35210445,  894.24144157,\n",
       "        883.76216601,  133.80604761,   30.46174313,  165.45625469,\n",
       "        267.36647321,  302.42993565,  942.06583292,  859.73196835,\n",
       "        209.15316045,  137.18128947,  294.64533152,  907.16858502,\n",
       "        585.54863062,  292.8893912 ,  763.11655759, -149.53132283,\n",
       "        163.94525857, -104.38889956,  718.95576629,  815.95759166,\n",
       "        350.34538816,  195.07245372,  764.17125484,  130.77848264,\n",
       "        116.61555757,  142.50754589,  959.21205119,  218.69399647,\n",
       "         79.52715018,  737.86169572,  161.30274218,  243.72987423,\n",
       "        939.22223984,  665.0680958 ])"
      ]
     },
     "execution_count": 40,
     "metadata": {},
     "output_type": "execute_result"
    }
   ],
   "source": [
    "# 훈련 셋의 예측값\n",
    "train_pred=lin_reg.predict(X_train)\n",
    "train_pred"
   ]
  },
  {
   "cell_type": "code",
   "execution_count": 41,
   "metadata": {},
   "outputs": [
    {
     "data": {
      "text/plain": [
       "0.9567246116638569"
      ]
     },
     "execution_count": 41,
     "metadata": {},
     "output_type": "execute_result"
    }
   ],
   "source": [
    "# 훈련 셋의 평가 점수 - 훈련이 끝난 모델의 score 함수를 사용\n",
    "lin_reg.score(X_train, y_train)\n"
   ]
  },
  {
   "cell_type": "code",
   "execution_count": 43,
   "metadata": {},
   "outputs": [
    {
     "name": "stdout",
     "output_type": "stream",
     "text": [
      "R^2 0.9567246116638569\n",
      "MSE 5340.176566753986\n"
     ]
    }
   ],
   "source": [
    "# 훈련 셋 평가 -metrics 모듈의 함수들 사용\n",
    "print(\"R^2\", r2_score(y_train, train_pred))\n",
    "print(\"MSE\", mean_squared_error(y_train, train_pred))"
   ]
  },
  {
   "cell_type": "code",
   "execution_count": 44,
   "metadata": {},
   "outputs": [
    {
     "data": {
      "text/plain": [
       "73.07651173088372"
      ]
     },
     "execution_count": 44,
     "metadata": {},
     "output_type": "execute_result"
    }
   ],
   "source": [
    "# RMSE\n",
    "np.sqrt(mean_squared_error(y_train, train_pred))\n"
   ]
  },
  {
   "cell_type": "code",
   "execution_count": 47,
   "metadata": {},
   "outputs": [
    {
     "data": {
      "text/plain": [
       "array([-334.87262176,   53.65873458,  318.38723843,  178.88939119,\n",
       "        155.66294578,  798.63147263,  376.67891479,  254.68982136,\n",
       "        816.85546798,  134.75524994,  977.68496847,  -36.44039106,\n",
       "        345.60505048,  407.09835927])"
      ]
     },
     "execution_count": 47,
     "metadata": {},
     "output_type": "execute_result"
    }
   ],
   "source": [
    "# 테스트 셋 예측값\n",
    "test_pred= lin_reg.predict(X_test)\n",
    "test_pred"
   ]
  },
  {
   "cell_type": "code",
   "execution_count": 49,
   "metadata": {},
   "outputs": [
    {
     "data": {
      "text/plain": [
       "array([   5.9,  100. ,  250. ,  130. ,  130. ,  820. ,  320. ,  188. ,\n",
       "        900. ,  125. , 1000. ,   51.5,  250. ,  300. ])"
      ]
     },
     "execution_count": 49,
     "metadata": {},
     "output_type": "execute_result"
    }
   ],
   "source": [
    "y_test  # 테스트 셋 실젯값"
   ]
  },
  {
   "cell_type": "code",
   "execution_count": 50,
   "metadata": {},
   "outputs": [
    {
     "data": {
      "text/plain": [
       "0.8790465615990272"
      ]
     },
     "execution_count": 50,
     "metadata": {},
     "output_type": "execute_result"
    }
   ],
   "source": [
    "lin_reg.score(X_test, y_test)"
   ]
  },
  {
   "cell_type": "code",
   "execution_count": 51,
   "metadata": {},
   "outputs": [
    {
     "data": {
      "text/plain": [
       "0.8790465615990272"
      ]
     },
     "execution_count": 51,
     "metadata": {},
     "output_type": "execute_result"
    }
   ],
   "source": [
    "r2_score(y_test, test_pred)"
   ]
  },
  {
   "cell_type": "code",
   "execution_count": 52,
   "metadata": {},
   "outputs": [
    {
     "data": {
      "text/plain": [
       "110.18353109019905"
      ]
     },
     "execution_count": 52,
     "metadata": {},
     "output_type": "execute_result"
    }
   ],
   "source": [
    "#RMSE\n",
    "np.sqrt(mean_squared_error(y_test, test_pred))"
   ]
  },
  {
   "cell_type": "markdown",
   "metadata": {},
   "source": [
    "# 2차항까지 추가한 선형 회귀\n",
    "\n",
    "\n",
    "$$\n",
    "\\hat{y} = w_0 + w_1 \\times x_1 + ... + w_4 \\times x_4 + w_5 \\times x_1^2 + w_6 \\times x_1 x_2 + w_7 \\times x_1 x_3\n",
    "$$"
   ]
  },
  {
   "cell_type": "code",
   "execution_count": 53,
   "metadata": {},
   "outputs": [],
   "source": [
    "poly = PolynomialFeatures(include_bias=False)\n",
    "scaler= StandardScaler()\n",
    "reg= LinearRegression()"
   ]
  },
  {
   "cell_type": "code",
   "execution_count": 83,
   "metadata": {},
   "outputs": [],
   "source": [
    "# 변환기와 예측기를 연결한 머신 러닝 모델 생성\n",
    "model = Pipeline(steps=[(\"poly\", poly),\n",
    "                        (\"scaler\", scaler),\n",
    "                        (\"reg\",reg)])"
   ]
  },
  {
   "cell_type": "code",
   "execution_count": 112,
   "metadata": {},
   "outputs": [
    {
     "data": {
      "text/plain": [
       "Pipeline(steps=[('poly', PolynomialFeatures(include_bias=False)),\n",
       "                ('scaler', StandardScaler()), ('reg', LinearRegression())])"
      ]
     },
     "execution_count": 112,
     "metadata": {},
     "output_type": "execute_result"
    }
   ],
   "source": [
    "# 모델 훈련 : \n",
    "# (1) 다차항 추가 --> (2) 각 특성들의 평균, 표준편차를 찾고 스케일 변환 --> (3) 변환된 데이터로 훈련\n",
    "# (1) poly.fit_transform() --> (2) scaler.fit_transform() --> (3) reg.fit()\n",
    "model.fit(X_train, y_train)"
   ]
  },
  {
   "cell_type": "code",
   "execution_count": 88,
   "metadata": {},
   "outputs": [
    {
     "data": {
      "text/plain": [
       "400.833333333325"
      ]
     },
     "execution_count": 88,
     "metadata": {},
     "output_type": "execute_result"
    }
   ],
   "source": [
    "# 선형 회귀 모델 훈련 결과 - 선형 회귀식 절편\n",
    "model.named_steps[\"reg\"].intercept_"
   ]
  },
  {
   "cell_type": "code",
   "execution_count": 107,
   "metadata": {},
   "outputs": [
    {
     "data": {
      "text/plain": [
       "array([   -443.26816038,    1150.91134799,    -650.22360319,\n",
       "          -368.62831244,  115424.97558515, -210083.78541667,\n",
       "        -49872.08633922,   29100.85132272,   91656.18352507,\n",
       "         53699.90248991,  -27521.03052328,    1226.11352267,\n",
       "         -5243.73927459,    2288.55011685])"
      ]
     },
     "execution_count": 107,
     "metadata": {},
     "output_type": "execute_result"
    }
   ],
   "source": [
    "# 선형 회귀 모델 훈련 결과 - 선형 회귀식 계수들\n",
    "model.named_steps[\"reg\"].coef_"
   ]
  },
  {
   "cell_type": "code",
   "execution_count": 106,
   "metadata": {},
   "outputs": [
    {
     "data": {
      "text/plain": [
       "['x0',\n",
       " 'x1',\n",
       " 'x2',\n",
       " 'x3',\n",
       " 'x0^2',\n",
       " 'x0 x1',\n",
       " 'x0 x2',\n",
       " 'x0 x3',\n",
       " 'x1^2',\n",
       " 'x1 x2',\n",
       " 'x1 x3',\n",
       " 'x2^2',\n",
       " 'x2 x3',\n",
       " 'x3^2']"
      ]
     },
     "execution_count": 106,
     "metadata": {},
     "output_type": "execute_result"
    }
   ],
   "source": [
    "model.named_steps[\"poly\"].get_feature_names()"
   ]
  },
  {
   "cell_type": "code",
   "execution_count": 113,
   "metadata": {},
   "outputs": [
    {
     "name": "stdout",
     "output_type": "stream",
     "text": [
      "[  86.22462498  117.8371985    65.36623277   51.32036181  688.61814191\n",
      "  166.09437243  880.6739519   900.30918145  991.55155076  111.61287566\n",
      "  111.82615306  126.79630184  203.74163857  256.18282041 1018.52857265\n",
      "  889.87606202  151.71744742  128.8552342   262.18048814  958.88194506\n",
      "  509.75756107  209.09874055  732.73599683   63.71933794  126.00056859\n",
      "   43.36490993  648.48671444  818.10553377  311.20892879  143.06230598\n",
      "  721.921373     96.56262516  125.94007862  142.94478702 1050.25814685\n",
      "  158.62005849   60.19799201  683.20753036  139.33275961  226.26744371\n",
      " 1060.55561024  595.45584151]\n"
     ]
    }
   ],
   "source": [
    "# 훈련 셋 예측값\n",
    "# (1) 훈련 셋 다차항 추가 --> (2) 모든 특성들 스케일 변환 --> (3) 선형 회귀 모델에서 predict()\n",
    "# (1) poly.transform() --> (2) scaler.transform() --> (3) reg.predict()\n",
    "train_pred= model.predict(X_train)\n",
    "print(train_pred)"
   ]
  },
  {
   "cell_type": "code",
   "execution_count": 114,
   "metadata": {},
   "outputs": [
    {
     "data": {
      "text/plain": [
       "array([  85.,  135.,   78.,   70.,  700.,  180.,  850.,  820., 1000.,\n",
       "        120.,   85.,  130.,  225.,  260., 1100.,  900.,  145.,  115.,\n",
       "        265., 1015.,  514.,  218.,  685.,   32.,  145.,   40.,  690.,\n",
       "        840.,  300.,  170.,  650.,  110.,  150.,  110., 1000.,  150.,\n",
       "         80.,  700.,  120.,  197., 1100.,  556.])"
      ]
     },
     "execution_count": 114,
     "metadata": {},
     "output_type": "execute_result"
    }
   ],
   "source": [
    "y_train"
   ]
  },
  {
   "cell_type": "code",
   "execution_count": 116,
   "metadata": {},
   "outputs": [
    {
     "name": "stdout",
     "output_type": "stream",
     "text": [
      "R^2 0.9920055538341112\n",
      "RMSE 31.40881218834866\n"
     ]
    }
   ],
   "source": [
    "# 훈련 셋 평가 점수 : \n",
    "print(\"R^2\" , r2_score(y_train, train_pred))\n",
    "print(\"RMSE\", np.sqrt(mean_squared_error(y_train, train_pred)))\n"
   ]
  },
  {
   "cell_type": "code",
   "execution_count": 120,
   "metadata": {},
   "outputs": [
    {
     "data": {
      "text/plain": [
       "array([  23.11093892,   16.86703258,  283.14558245,  126.83444969,\n",
       "        121.43654058,  735.72232422,  321.38687695,  167.93520462,\n",
       "        934.45200382,   93.33407336, 1221.49026679,   20.19532502,\n",
       "        247.09413925,  243.72607029])"
      ]
     },
     "execution_count": 120,
     "metadata": {},
     "output_type": "execute_result"
    }
   ],
   "source": [
    "# 테스트 셋 예측값\n",
    "test_pred = model.predict(X_test)\n",
    "test_pred"
   ]
  },
  {
   "cell_type": "code",
   "execution_count": 121,
   "metadata": {},
   "outputs": [
    {
     "data": {
      "text/plain": [
       "array([   5.9,  100. ,  250. ,  130. ,  130. ,  820. ,  320. ,  188. ,\n",
       "        900. ,  125. , 1000. ,   51.5,  250. ,  300. ])"
      ]
     },
     "execution_count": 121,
     "metadata": {},
     "output_type": "execute_result"
    }
   ],
   "source": [
    "y_test"
   ]
  },
  {
   "cell_type": "code",
   "execution_count": 119,
   "metadata": {},
   "outputs": [
    {
     "name": "stdout",
     "output_type": "stream",
     "text": [
      "R^2 0.9492609601553015\n",
      "RMSE 71.36392024372782\n"
     ]
    }
   ],
   "source": [
    "# 테스트 셋 평가 점수:\n",
    "print(\"R^2\", r2_score(y_test, test_pred))\n",
    "print(\"RMSE\", np.sqrt(mean_squared_error(y_test, test_pred)))"
   ]
  },
  {
   "cell_type": "markdown",
   "metadata": {},
   "source": [
    "# 고차항에 추가에 따른 $R^2$ score\n",
    "\n",
    "1차항, 2차항, 3차항, 4차항, 5차항, 50차항 선형회귀 모델 훈련시키고, 훈련 셋과 테스트 셋에서의 $R^2$ score를 계산하고 시각화."
   ]
  },
  {
   "cell_type": "code",
   "execution_count": 128,
   "metadata": {},
   "outputs": [],
   "source": [
    "degrees=[1,2,3,4,5,50]"
   ]
  },
  {
   "cell_type": "code",
   "execution_count": 123,
   "metadata": {},
   "outputs": [
    {
     "data": {
      "text/plain": [
       "array([ 1,  2,  3,  4,  5,  6,  7,  8,  9, 10, 11, 12, 13, 14, 15, 16, 17,\n",
       "       18, 19, 20, 21, 22, 23, 24, 25, 26, 27, 28, 29, 30, 31, 32, 33, 34,\n",
       "       35, 36, 37, 38, 39, 40, 41, 42, 43, 44, 45, 46, 47, 48, 49])"
      ]
     },
     "execution_count": 123,
     "metadata": {},
     "output_type": "execute_result"
    }
   ],
   "source": [
    "degrees"
   ]
  },
  {
   "cell_type": "code",
   "execution_count": 153,
   "metadata": {},
   "outputs": [
    {
     "ename": "NameError",
     "evalue": "name 'degrees' is not defined",
     "output_type": "error",
     "traceback": [
      "\u001b[1;31m---------------------------------------------------------------------------\u001b[0m",
      "\u001b[1;31mNameError\u001b[0m                                 Traceback (most recent call last)",
      "\u001b[1;32m~\\AppData\\Local\\Temp/ipykernel_50220/413990151.py\u001b[0m in \u001b[0;36m<module>\u001b[1;34m\u001b[0m\n\u001b[0;32m      1\u001b[0m \u001b[0mtrain\u001b[0m\u001b[1;33m=\u001b[0m\u001b[1;33m[\u001b[0m\u001b[1;33m]\u001b[0m\u001b[1;33m\u001b[0m\u001b[1;33m\u001b[0m\u001b[0m\n\u001b[0;32m      2\u001b[0m \u001b[0mtest\u001b[0m\u001b[1;33m=\u001b[0m\u001b[1;33m[\u001b[0m\u001b[1;33m]\u001b[0m\u001b[1;33m\u001b[0m\u001b[1;33m\u001b[0m\u001b[0m\n\u001b[1;32m----> 3\u001b[1;33m \u001b[1;32mfor\u001b[0m \u001b[0mn\u001b[0m \u001b[1;32min\u001b[0m \u001b[0mdegrees\u001b[0m\u001b[1;33m:\u001b[0m\u001b[1;33m\u001b[0m\u001b[1;33m\u001b[0m\u001b[0m\n\u001b[0m\u001b[0;32m      4\u001b[0m     \u001b[0mpoly\u001b[0m\u001b[1;33m=\u001b[0m\u001b[0mPolynomialFeatures\u001b[0m\u001b[1;33m(\u001b[0m\u001b[0mdegree\u001b[0m\u001b[1;33m=\u001b[0m\u001b[0mn\u001b[0m\u001b[1;33m,\u001b[0m \u001b[0minclude_bias\u001b[0m\u001b[1;33m=\u001b[0m\u001b[1;32mFalse\u001b[0m\u001b[1;33m)\u001b[0m\u001b[1;33m\u001b[0m\u001b[1;33m\u001b[0m\u001b[0m\n\u001b[0;32m      5\u001b[0m     \u001b[0mscaler\u001b[0m\u001b[1;33m=\u001b[0m\u001b[0mStandardScaler\u001b[0m\u001b[1;33m(\u001b[0m\u001b[1;33m)\u001b[0m\u001b[1;33m\u001b[0m\u001b[1;33m\u001b[0m\u001b[0m\n",
      "\u001b[1;31mNameError\u001b[0m: name 'degrees' is not defined"
     ]
    }
   ],
   "source": [
    "train=[]    # 훈련 셋의 R^2 score를 저장할 리스트\n",
    "test=[]     # 테스트 셋의 R^2 score를 저장할 리스트\n",
    "for n in degrees:\n",
    "    poly=PolynomialFeatures(degree=n, include_bias=False)\n",
    "    scaler=StandardScaler()\n",
    "    reg=LinearRegression()\n",
    "    \n",
    "    model=Pipeline(steps=[(\"poly\", poly),\n",
    "                        (\"scaler\", scaler),\n",
    "                        (\"reg\",reg)])\n",
    "    \n",
    "    model.fit(X_train, y_train)\n",
    "    train_pred=model.predict(X_train)\n",
    "    train.append(r2_score(y_train, train_pred))\n",
    "    \n",
    "    test_pred=model.predict(X_test)\n",
    "    test.append(r2_score(y_test, test_pred))\n",
    "    print(k)\n",
    "print(train)\n",
    "print(test)"
   ]
  },
  {
   "cell_type": "code",
   "execution_count": 151,
   "metadata": {},
   "outputs": [
    {
     "data": {
      "text/plain": [
       "[<matplotlib.lines.Line2D at 0x1cd35a52fa0>]"
      ]
     },
     "execution_count": 151,
     "metadata": {},
     "output_type": "execute_result"
    },
    {
     "data": {
      "image/png": "[encoded data removed]",
      "text/plain": [
       "<Figure size 432x288 with 1 Axes>"
      ]
     },
     "metadata": {
      "needs_background": "light"
     },
     "output_type": "display_data"
    }
   ],
   "source": [
    "plt.plot(train)"
   ]
  },
  {
   "cell_type": "code",
   "execution_count": 152,
   "metadata": {},
   "outputs": [
    {
     "data": {
      "text/plain": [
       "[<matplotlib.lines.Line2D at 0x1cd35ab9a30>]"
      ]
     },
     "execution_count": 152,
     "metadata": {},
     "output_type": "execute_result"
    },
    {
     "data": {
      "image/png": "[encoded data removed]",
      "text/plain": [
       "<Figure size 432x288 with 1 Axes>"
      ]
     },
     "metadata": {
      "needs_background": "light"
     },
     "output_type": "display_data"
    }
   ],
   "source": [
    "plt.plot(test)"
   ]
  }
 ],
 "metadata": {
  "interpreter": {
   "hash": "b3ba2566441a7c06988d0923437866b63cedc61552a5af99d1f4fb67d367b25f"
  },
  "kernelspec": {
   "display_name": "Python 3.9.7 ('base')",
   "language": "python",
   "name": "python3"
  },
  "language_info": {
   "codemirror_mode": {
    "name": "ipython",
    "version": 3
   },
   "file_extension": ".py",
   "mimetype": "text/x-python",
   "name": "python",
   "nbconvert_exporter": "python",
   "pygments_lexer": "ipython3",
   "version": "3.9.7"
  },
  "orig_nbformat": 4
 },
 "nbformat": 4,
 "nbformat_minor": 2
}
