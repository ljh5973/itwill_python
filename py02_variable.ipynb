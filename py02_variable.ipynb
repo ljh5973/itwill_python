{
  "nbformat": 4,
  "nbformat_minor": 0,
  "metadata": {
    "colab": {
      "name": "py02_variable.ipynb",
      "provenance": [],
      "collapsed_sections": [],
      "authorship_tag": "ABX9TyMjmK39j5hF6TZer0odLHjt",
      "include_colab_link": true
    },
    "kernelspec": {
      "name": "python3",
      "display_name": "Python 3"
    },
    "language_info": {
      "name": "python"
    }
  },
  "cells": [
    {
      "cell_type": "markdown",
      "metadata": {
        "id": "view-in-github",
        "colab_type": "text"
      },
      "source": [
        "<a href=\"https://colab.research.google.com/github/JakeOh/202110_itw_lab_python/blob/main/py02_variable.ipynb\" target=\"_parent\"><img src=\"https://colab.research.google.com/assets/colab-badge.svg\" alt=\"Open In Colab\"/></a>"
      ]
    },
    {
      "cell_type": "markdown",
      "source": [
        "# Python Data Type(자료 타입)\n",
        "\n",
        "* 숫자 타입:\n",
        "    * int: 정수\n",
        "    * float: 실수\n",
        "* 문자열 타입: str\n",
        "* 논리 타입: bool (True/False)\n",
        "\n",
        "Python은 변수를 선언할 때 자료 타입을 명시하지 않음. 코드가 실행될 때 변수의 자료 타입이 결정."
      ],
      "metadata": {
        "id": "fr7bCATdqTpy"
      }
    },
    {
      "cell_type": "code",
      "execution_count": 1,
      "metadata": {
        "colab": {
          "base_uri": "https://localhost:8080/"
        },
        "id": "oqwBvyGKp9wn",
        "outputId": "5551a56d-be55-4424-b66d-bbd550824a3d"
      },
      "outputs": [
        {
          "output_type": "stream",
          "name": "stdout",
          "text": [
            "100\n",
            "<class 'int'>\n"
          ]
        }
      ],
      "source": [
        "# (주석, comment)\n",
        "# 변수 = 값\n",
        "n = 100\n",
        "print(n)\n",
        "print(type(n))  # type(arg): arg의 자료 타입을 리턴하는 함수."
      ]
    },
    {
      "cell_type": "markdown",
      "source": [
        "식(expression): 값, 변수, 리턴 값이 있는 함수 호출, 연산.\n",
        "\n",
        "ipynb 코드 셀에서 가장 마지막 줄에 있는 문장이 식(expression)인 경우, 식을 평가한 결과를 출력창에 출력해 줌."
      ],
      "metadata": {
        "id": "rOV5PlPHsNzA"
      }
    },
    {
      "cell_type": "code",
      "source": [
        "print(n)\n",
        "n + 1"
      ],
      "metadata": {
        "colab": {
          "base_uri": "https://localhost:8080/"
        },
        "id": "fohpes9rruGC",
        "outputId": "13b15054-48a5-4528-9d02-13b115b64fda"
      },
      "execution_count": 8,
      "outputs": [
        {
          "output_type": "stream",
          "name": "stdout",
          "text": [
            "100\n"
          ]
        },
        {
          "output_type": "execute_result",
          "data": {
            "text/plain": [
              "101"
            ]
          },
          "metadata": {},
          "execution_count": 8
        }
      ]
    },
    {
      "cell_type": "code",
      "source": [
        "pi = 3.14\n",
        "print(pi)\n",
        "type(pi)"
      ],
      "metadata": {
        "colab": {
          "base_uri": "https://localhost:8080/"
        },
        "id": "-K4GOYLZr6hZ",
        "outputId": "e84e6db2-46e6-4254-daa4-eec168c1b486"
      },
      "execution_count": 9,
      "outputs": [
        {
          "output_type": "stream",
          "name": "stdout",
          "text": [
            "3.14\n"
          ]
        },
        {
          "output_type": "execute_result",
          "data": {
            "text/plain": [
              "float"
            ]
          },
          "metadata": {},
          "execution_count": 9
        }
      ]
    },
    {
      "cell_type": "markdown",
      "source": [
        "## 명시적 타입 변환\n",
        "\n",
        "* `int(값)`: 값을 정수 타입으로 변환하는 함수.\n",
        "* `float(값)`: 값을 실수 타입으로 변환하는 함수.\n",
        "* `str(값)`: 값을 문자열 타입으로 변환하는 함수."
      ],
      "metadata": {
        "id": "yn7rpaTVtdQx"
      }
    },
    {
      "cell_type": "code",
      "source": [
        "# 콘솔 창에서 사용자 입력 받기\n",
        "n = input('정수 입력>>> ')"
      ],
      "metadata": {
        "colab": {
          "base_uri": "https://localhost:8080/"
        },
        "id": "MVE9XAcEtQ4o",
        "outputId": "b818ff96-a89d-406e-c93b-351755e03f97"
      },
      "execution_count": 10,
      "outputs": [
        {
          "name": "stdout",
          "output_type": "stream",
          "text": [
            "정수 입력>>> 123\n"
          ]
        }
      ]
    },
    {
      "cell_type": "code",
      "source": [
        "type(n)  #> str(문자열)"
      ],
      "metadata": {
        "colab": {
          "base_uri": "https://localhost:8080/"
        },
        "id": "ZhBB9g20ucH5",
        "outputId": "53d62ba4-1041-4209-f6b8-e60bba430e4b"
      },
      "execution_count": 11,
      "outputs": [
        {
          "output_type": "execute_result",
          "data": {
            "text/plain": [
              "str"
            ]
          },
          "metadata": {},
          "execution_count": 11
        }
      ]
    },
    {
      "cell_type": "code",
      "source": [
        "n = int(n)  # 변수 n의 타입을 정수 타입으로 변환해서 저장"
      ],
      "metadata": {
        "id": "WDi-yrrcueDI"
      },
      "execution_count": 12,
      "outputs": []
    },
    {
      "cell_type": "code",
      "source": [
        "type(n)"
      ],
      "metadata": {
        "colab": {
          "base_uri": "https://localhost:8080/"
        },
        "id": "zCwQSOKbutx4",
        "outputId": "0d0ca694-37d3-414a-8fc6-9b8a4093af7b"
      },
      "execution_count": 13,
      "outputs": [
        {
          "output_type": "execute_result",
          "data": {
            "text/plain": [
              "int"
            ]
          },
          "metadata": {},
          "execution_count": 13
        }
      ]
    },
    {
      "cell_type": "markdown",
      "source": [
        "# 산술 연산자\n",
        "\n",
        "* 산술 연산자: 숫자(int, float) 타입의 연산에 사용.\n",
        "* 산술 연산자 종류: `+`, `-`, `*`, `/`, `//`(몫), `%`(나머지), `**`(거듭제곱)"
      ],
      "metadata": {
        "id": "hW38jVe-vFa5"
      }
    },
    {
      "cell_type": "code",
      "source": [
        "x = 10\n",
        "y = 3"
      ],
      "metadata": {
        "id": "RMwSadnKuu5Y"
      },
      "execution_count": 14,
      "outputs": []
    },
    {
      "cell_type": "code",
      "source": [
        "print(f'{x} / {y} = {x / y}')\n",
        "print(f'{x} // {y} = {x // y}')\n",
        "print(f'{x} % {y} = {x % y}')\n",
        "print(f'{x} ^ 2 = {x ** 2}')\n",
        "print(f'{x} ^ -1 = {x ** -1}')"
      ],
      "metadata": {
        "colab": {
          "base_uri": "https://localhost:8080/"
        },
        "id": "t8TomjAbvz85",
        "outputId": "a3535063-3a35-4152-e125-7e2c29b0ba22"
      },
      "execution_count": 15,
      "outputs": [
        {
          "output_type": "stream",
          "name": "stdout",
          "text": [
            "10 / 3 = 3.3333333333333335\n",
            "10 // 3 = 3\n",
            "10 % 3 = 1\n",
            "10 ^ 2 = 100\n",
            "10 ^ -1 = 0.1\n"
          ]
        }
      ]
    },
    {
      "cell_type": "markdown",
      "source": [
        "## 문자열(str) 타입에서 사용할 수 있는 연산자\n",
        "\n",
        "* `+`: concatenate. 문자열 이어 붙이기.\n",
        "* `*`: replicate. 문자열 복제."
      ],
      "metadata": {
        "id": "wDNcjKi7xCA6"
      }
    },
    {
      "cell_type": "code",
      "source": [
        "'Hello' + 'Python'"
      ],
      "metadata": {
        "colab": {
          "base_uri": "https://localhost:8080/",
          "height": 36
        },
        "id": "nXGP0RKvwjeC",
        "outputId": "b6854262-fd4c-4c6d-9fd3-cb0bd4dddc93"
      },
      "execution_count": 16,
      "outputs": [
        {
          "output_type": "execute_result",
          "data": {
            "application/vnd.google.colaboratory.intrinsic+json": {
              "type": "string"
            },
            "text/plain": [
              "'HelloPython'"
            ]
          },
          "metadata": {},
          "execution_count": 16
        }
      ]
    },
    {
      "cell_type": "code",
      "source": [
        "'Hello' * 3"
      ],
      "metadata": {
        "colab": {
          "base_uri": "https://localhost:8080/",
          "height": 36
        },
        "id": "yUudUtA7xibi",
        "outputId": "6850f0da-648e-4685-c6be-20f9d774cfbf"
      },
      "execution_count": 17,
      "outputs": [
        {
          "output_type": "execute_result",
          "data": {
            "application/vnd.google.colaboratory.intrinsic+json": {
              "type": "string"
            },
            "text/plain": [
              "'HelloHelloHello'"
            ]
          },
          "metadata": {},
          "execution_count": 17
        }
      ]
    },
    {
      "cell_type": "code",
      "source": [
        ""
      ],
      "metadata": {
        "id": "1vw6pDkfxoE5"
      },
      "execution_count": null,
      "outputs": []
    }
  ]
}