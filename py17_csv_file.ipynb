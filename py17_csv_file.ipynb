{
  "nbformat": 4,
  "nbformat_minor": 0,
  "metadata": {
    "colab": {
      "name": "py17_csv_file.ipynb",
      "provenance": [],
      "collapsed_sections": [],
      "mount_file_id": "1nlNBSVlbMXFYvGZLfjqUk7CCzyITinH6",
      "authorship_tag": "ABX9TyMVMGhRIQxzuh/UAOWwpiF2",
      "include_colab_link": true
    },
    "kernelspec": {
      "name": "python3",
      "display_name": "Python 3"
    },
    "language_info": {
      "name": "python"
    }
  },
  "cells": [
    {
      "cell_type": "markdown",
      "metadata": {
        "id": "view-in-github",
        "colab_type": "text"
      },
      "source": [
        "<a href=\"https://colab.research.google.com/github/JakeOh/202110_itw_lab_python/blob/main/py17_csv_file.ipynb\" target=\"_parent\"><img src=\"https://colab.research.google.com/assets/colab-badge.svg\" alt=\"Open In Colab\"/></a>"
      ]
    },
    {
      "cell_type": "markdown",
      "source": [
        "* Colab 연결.\n",
        "* Google Drive 마운트(연결).\n",
        "* csv_exam.csv 파일을 Google Drive의 lab_python 폴더에 업로드."
      ],
      "metadata": {
        "id": "9KgKYaPE7qbR"
      }
    },
    {
      "cell_type": "code",
      "execution_count": 1,
      "metadata": {
        "id": "sYNeefN-6dwl"
      },
      "outputs": [],
      "source": [
        "# 업로드한 CSV 파일 경로\n",
        "file_path = '/content/drive/MyDrive/Colab Notebooks/lab_python/csv_exam.csv'"
      ]
    },
    {
      "cell_type": "markdown",
      "source": [
        "1. csv_exam.csv 파일을 읽기 모드로 오픈\n",
        "1. 파일의 첫번째 줄은 (컬럼 이름이기 때문에) 읽고 아무 동작 없이 건너뜀.\n",
        "1. 파일의 두번째 줄부터 마지막 줄까지 반복:\n",
        "    * 각 줄에서 읽은 내용을 쉼표(,)로 구분한 리스트들을 저장하는 리스트를 만듦.\n",
        "    ```\n",
        "    [['1', '1', '50', '98' , '50'], ['2', '1', '60', '97', '60'], ...]\n",
        "    ```\n",
        "1. 2차원 리스트의 모든 값들을 숫자로 변환.\n",
        "    ```\n",
        "    [[1, 1, 50, 98 , 50], [2, 1, 60, 97, 60], ...]\n",
        "    ```\n",
        "1. 2차원 리스트에서 수학 점수들로만 이루어진 1차원 리스트를 만듦.\n",
        "    ```\n",
        "    [50, 60, 45, ...]\n",
        "    ```\n",
        "1. 수학 점수의 평균, 최댓값, 최솟값을 찾음.\n",
        "1. 1반 학생들의 수학 점수의 총점, 평균, 최댓값, 최솟값 찾음."
      ],
      "metadata": {
        "id": "MvqeS8df8N2B"
      }
    },
    {
      "cell_type": "code",
      "source": [
        "exam = []  # 시험 성적을 저장할 리스트\n",
        "with open(file_path, mode='rt') as f:  # 파일을 read/text 모드로 오픈\n",
        "    f.readline()  # 파일의 첫번째 줄을 읽음.\n",
        "    for line in f:  # 파일의 두번째 줄부터 파일 끝까지 한줄씩 읽으면서\n",
        "        # (1) strip: 읽은 라인에서 앞위 공백 제거\n",
        "        # (2) split: 쉼표를 기준으로 자른 문자열들의 리스트를 생성 [...]\n",
        "        # (3) 1차원 리스트를 exam에 append(추가)\n",
        "        exam.append(line.strip().split(sep=','))"
      ],
      "metadata": {
        "id": "dxvwHghO8KPz"
      },
      "execution_count": 8,
      "outputs": []
    },
    {
      "cell_type": "code",
      "source": [
        "exam  # 20개의 1차원 리스트를 갖는 (2차원) 리스트"
      ],
      "metadata": {
        "colab": {
          "base_uri": "https://localhost:8080/"
        },
        "id": "XRcRbTYIIWEb",
        "outputId": "c4a0f55f-cab9-4afb-8535-47b252d3044a"
      },
      "execution_count": 9,
      "outputs": [
        {
          "output_type": "execute_result",
          "data": {
            "text/plain": [
              "[['1', '1', '50', '98', '50'],\n",
              " ['2', '1', '60', '97', '60'],\n",
              " ['3', '1', '45', '86', '78'],\n",
              " ['4', '1', '30', '98', '58'],\n",
              " ['5', '2', '25', '80', '65'],\n",
              " ['6', '2', '50', '89', '98'],\n",
              " ['7', '2', '80', '90', '45'],\n",
              " ['8', '2', '90', '78', '25'],\n",
              " ['9', '3', '20', '98', '15'],\n",
              " ['10', '3', '50', '98', '45'],\n",
              " ['11', '3', '65', '65', '65'],\n",
              " ['12', '3', '45', '85', '32'],\n",
              " ['13', '4', '46', '98', '65'],\n",
              " ['14', '4', '48', '87', '12'],\n",
              " ['15', '4', '75', '56', '78'],\n",
              " ['16', '4', '58', '98', '65'],\n",
              " ['17', '5', '65', '68', '98'],\n",
              " ['18', '5', '80', '78', '90'],\n",
              " ['19', '5', '89', '68', '87'],\n",
              " ['20', '5', '78', '83', '58']]"
            ]
          },
          "metadata": {},
          "execution_count": 9
        }
      ]
    },
    {
      "cell_type": "code",
      "source": [
        "for row in exam:\n",
        "    for i, x in enumerate(row):\n",
        "        row[i] = int(x)"
      ],
      "metadata": {
        "id": "B5yhVZryIta8"
      },
      "execution_count": 11,
      "outputs": []
    },
    {
      "cell_type": "code",
      "source": [
        "exam"
      ],
      "metadata": {
        "colab": {
          "base_uri": "https://localhost:8080/"
        },
        "id": "U7M-a-PCKbpL",
        "outputId": "d02e234c-5058-41ee-a549-9a102db40eab"
      },
      "execution_count": 12,
      "outputs": [
        {
          "output_type": "execute_result",
          "data": {
            "text/plain": [
              "[[1, 1, 50, 98, 50],\n",
              " [2, 1, 60, 97, 60],\n",
              " [3, 1, 45, 86, 78],\n",
              " [4, 1, 30, 98, 58],\n",
              " [5, 2, 25, 80, 65],\n",
              " [6, 2, 50, 89, 98],\n",
              " [7, 2, 80, 90, 45],\n",
              " [8, 2, 90, 78, 25],\n",
              " [9, 3, 20, 98, 15],\n",
              " [10, 3, 50, 98, 45],\n",
              " [11, 3, 65, 65, 65],\n",
              " [12, 3, 45, 85, 32],\n",
              " [13, 4, 46, 98, 65],\n",
              " [14, 4, 48, 87, 12],\n",
              " [15, 4, 75, 56, 78],\n",
              " [16, 4, 58, 98, 65],\n",
              " [17, 5, 65, 68, 98],\n",
              " [18, 5, 80, 78, 90],\n",
              " [19, 5, 89, 68, 87],\n",
              " [20, 5, 78, 83, 58]]"
            ]
          },
          "metadata": {},
          "execution_count": 12
        }
      ]
    },
    {
      "cell_type": "code",
      "source": [
        "math = []\n",
        "for row in exam:  # 2차원 리스트를 반복하면서\n",
        "    math.append(row[2])  # 1차원 리스트의 인덱스 2번 위치의 값이 수학"
      ],
      "metadata": {
        "id": "PhXO8jY2KwG7"
      },
      "execution_count": 13,
      "outputs": []
    },
    {
      "cell_type": "code",
      "source": [
        "print(math)"
      ],
      "metadata": {
        "colab": {
          "base_uri": "https://localhost:8080/"
        },
        "id": "_yxX1FWWLYIs",
        "outputId": "45dc7954-14f2-4a6b-9de9-f45bad7699b1"
      },
      "execution_count": 15,
      "outputs": [
        {
          "output_type": "stream",
          "name": "stdout",
          "text": [
            "[50, 60, 45, 30, 25, 50, 80, 90, 20, 50, 65, 45, 46, 48, 75, 58, 65, 80, 89, 78]\n"
          ]
        }
      ]
    },
    {
      "cell_type": "code",
      "source": [
        "# 평균\n",
        "sum(math) / len(math)"
      ],
      "metadata": {
        "colab": {
          "base_uri": "https://localhost:8080/"
        },
        "id": "9YiB6xYJLYfS",
        "outputId": "6340e089-674f-48c2-d5a0-555a71c80511"
      },
      "execution_count": 16,
      "outputs": [
        {
          "output_type": "execute_result",
          "data": {
            "text/plain": [
              "57.45"
            ]
          },
          "metadata": {},
          "execution_count": 16
        }
      ]
    },
    {
      "cell_type": "code",
      "source": [
        "max(math)  # 최댓값"
      ],
      "metadata": {
        "colab": {
          "base_uri": "https://localhost:8080/"
        },
        "id": "RuyX7I4MLkOj",
        "outputId": "11dc73e6-3fa2-465d-ee75-f0c9c79a5128"
      },
      "execution_count": 17,
      "outputs": [
        {
          "output_type": "execute_result",
          "data": {
            "text/plain": [
              "90"
            ]
          },
          "metadata": {},
          "execution_count": 17
        }
      ]
    },
    {
      "cell_type": "code",
      "source": [
        "min(math)  # 최솟값"
      ],
      "metadata": {
        "colab": {
          "base_uri": "https://localhost:8080/"
        },
        "id": "GbzBU0xdLuf6",
        "outputId": "9959d6a7-0f01-4249-823b-1222c243af06"
      },
      "execution_count": 18,
      "outputs": [
        {
          "output_type": "execute_result",
          "data": {
            "text/plain": [
              "20"
            ]
          },
          "metadata": {},
          "execution_count": 18
        }
      ]
    },
    {
      "cell_type": "code",
      "source": [
        "math_class1 = math[:4]\n",
        "math_class1"
      ],
      "metadata": {
        "colab": {
          "base_uri": "https://localhost:8080/"
        },
        "id": "gu7pXs5ALy8S",
        "outputId": "bc2ab881-3007-4637-9901-a57c9e1ecba6"
      },
      "execution_count": 19,
      "outputs": [
        {
          "output_type": "execute_result",
          "data": {
            "text/plain": [
              "[50, 60, 45, 30]"
            ]
          },
          "metadata": {},
          "execution_count": 19
        }
      ]
    },
    {
      "cell_type": "code",
      "source": [
        "sum(math_class1) / len(math_class1)"
      ],
      "metadata": {
        "colab": {
          "base_uri": "https://localhost:8080/"
        },
        "id": "MqdA_fy1MYA0",
        "outputId": "f05a0d14-4158-4123-8cc6-fdb1a07d6778"
      },
      "execution_count": 20,
      "outputs": [
        {
          "output_type": "execute_result",
          "data": {
            "text/plain": [
              "46.25"
            ]
          },
          "metadata": {},
          "execution_count": 20
        }
      ]
    },
    {
      "cell_type": "code",
      "source": [
        "max(math_class1)"
      ],
      "metadata": {
        "colab": {
          "base_uri": "https://localhost:8080/"
        },
        "id": "KSvlVq0jMdVC",
        "outputId": "41bc3964-85f7-4b7a-da41-036578327342"
      },
      "execution_count": 21,
      "outputs": [
        {
          "output_type": "execute_result",
          "data": {
            "text/plain": [
              "60"
            ]
          },
          "metadata": {},
          "execution_count": 21
        }
      ]
    },
    {
      "cell_type": "code",
      "source": [
        "min(math_class1)"
      ],
      "metadata": {
        "colab": {
          "base_uri": "https://localhost:8080/"
        },
        "id": "CXn07OaSMmS6",
        "outputId": "dfd2f7c5-8685-42f8-8bf3-326bc124ae6f"
      },
      "execution_count": 22,
      "outputs": [
        {
          "output_type": "execute_result",
          "data": {
            "text/plain": [
              "30"
            ]
          },
          "metadata": {},
          "execution_count": 22
        }
      ]
    },
    {
      "cell_type": "code",
      "source": [
        "with open(file_path) as f:\n",
        "    f.readline()\n",
        "    exam2 = [line.strip().split(sep=',')\n",
        "             for line in f]\n",
        "\n",
        "exam2"
      ],
      "metadata": {
        "colab": {
          "base_uri": "https://localhost:8080/"
        },
        "id": "-yyXz8VXMnkC",
        "outputId": "aeaee3eb-65a9-49e7-e902-9f6dd065c759"
      },
      "execution_count": 27,
      "outputs": [
        {
          "output_type": "execute_result",
          "data": {
            "text/plain": [
              "[['1', '1', '50', '98', '50'],\n",
              " ['2', '1', '60', '97', '60'],\n",
              " ['3', '1', '45', '86', '78'],\n",
              " ['4', '1', '30', '98', '58'],\n",
              " ['5', '2', '25', '80', '65'],\n",
              " ['6', '2', '50', '89', '98'],\n",
              " ['7', '2', '80', '90', '45'],\n",
              " ['8', '2', '90', '78', '25'],\n",
              " ['9', '3', '20', '98', '15'],\n",
              " ['10', '3', '50', '98', '45'],\n",
              " ['11', '3', '65', '65', '65'],\n",
              " ['12', '3', '45', '85', '32'],\n",
              " ['13', '4', '46', '98', '65'],\n",
              " ['14', '4', '48', '87', '12'],\n",
              " ['15', '4', '75', '56', '78'],\n",
              " ['16', '4', '58', '98', '65'],\n",
              " ['17', '5', '65', '68', '98'],\n",
              " ['18', '5', '80', '78', '90'],\n",
              " ['19', '5', '89', '68', '87'],\n",
              " ['20', '5', '78', '83', '58']]"
            ]
          },
          "metadata": {},
          "execution_count": 27
        }
      ]
    },
    {
      "cell_type": "code",
      "source": [
        ""
      ],
      "metadata": {
        "id": "JARZF50uNVG0"
      },
      "execution_count": null,
      "outputs": []
    }
  ]
}