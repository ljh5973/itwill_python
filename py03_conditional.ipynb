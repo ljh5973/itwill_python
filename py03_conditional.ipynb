{
  "nbformat": 4,
  "nbformat_minor": 0,
  "metadata": {
    "colab": {
      "name": "py03_conditional.ipynb",
      "provenance": [],
      "collapsed_sections": [],
      "toc_visible": true,
      "authorship_tag": "ABX9TyOmj35Q8FoamE9JMk5DHGwX",
      "include_colab_link": true
    },
    "kernelspec": {
      "name": "python3",
      "display_name": "Python 3"
    },
    "language_info": {
      "name": "python"
    }
  },
  "cells": [
    {
      "cell_type": "markdown",
      "metadata": {
        "id": "view-in-github",
        "colab_type": "text"
      },
      "source": [
        "<a href=\"https://colab.research.google.com/github/JakeOh/202110_itw_lab_python/blob/main/py03_conditional.ipynb\" target=\"_parent\"><img src=\"https://colab.research.google.com/assets/colab-badge.svg\" alt=\"Open In Colab\"/></a>"
      ]
    },
    {
      "cell_type": "markdown",
      "source": [
        "# 조건문(Conditional Statement)"
      ],
      "metadata": {
        "id": "0_shIl5vGsDF"
      }
    },
    {
      "cell_type": "markdown",
      "source": [
        "## else가 없는 조건문\n",
        "\n",
        "```\n",
        "if 조건식:\n",
        "    조건식을 만족할 때 실행할 코드(들)\n",
        "```\n",
        "\n",
        "* `if 조건식` 뒤에는 반드시 **콜론(:)**을 사용해야 함.\n",
        "* `if` 블록(조건식을 만족할 때 실행할 문장들)은 반드시 **들여쓰기(indentation)**을 해야 함.\n",
        "* 파이썬은 들여쓰기(indentation)이 제대로 되어 있지 않으면 문장이 실행되지 않음!\n"
      ],
      "metadata": {
        "id": "flRfRINxG0sD"
      }
    },
    {
      "cell_type": "code",
      "execution_count": 3,
      "metadata": {
        "id": "qr2-O5JpGbAM"
      },
      "outputs": [],
      "source": [
        "n = -100"
      ]
    },
    {
      "cell_type": "code",
      "source": [
        "if n > 0:\n",
        "    print(f'{n}은 양수입니다...')\n",
        "    print('if 블록 내부 끝')\n",
        "print('if 블록 바깥')"
      ],
      "metadata": {
        "colab": {
          "base_uri": "https://localhost:8080/"
        },
        "id": "qJ4yg2ZzIhh0",
        "outputId": "dd4d85f0-ef60-47ed-afeb-692bf7f2bf77"
      },
      "execution_count": 6,
      "outputs": [
        {
          "output_type": "stream",
          "name": "stdout",
          "text": [
            "if 블록 내부 끝\n",
            "if 블록 바깥\n"
          ]
        }
      ]
    },
    {
      "cell_type": "markdown",
      "source": [
        "## else 있는 조건문\n",
        "\n",
        "```\n",
        "if 조건식:\n",
        "    조건식을 만족할 때 실행할 문장(들)\n",
        "else:\n",
        "    조건식을 만족하지 못할 때 실행할 문장(들)\n",
        "```\n"
      ],
      "metadata": {
        "id": "0ubQ6S7ALAs1"
      }
    },
    {
      "cell_type": "code",
      "source": [
        "if n > 0:\n",
        "    print(f'{n}은 양수입니다...')\n",
        "else:\n",
        "    print(f'{n}은 양수가 아닙니다...')\n",
        "print('if-else 끝')"
      ],
      "metadata": {
        "colab": {
          "base_uri": "https://localhost:8080/"
        },
        "id": "6JWFfiYHI9Bl",
        "outputId": "7adc1171-a035-4d48-8615-2402f8fd727e"
      },
      "execution_count": 7,
      "outputs": [
        {
          "output_type": "stream",
          "name": "stdout",
          "text": [
            "-100은 양수가 아닙니다...\n",
            "if-else 끝\n"
          ]
        }
      ]
    },
    {
      "cell_type": "code",
      "source": [
        "# 정수를 입력받아서 짝수인지 홀수인지 출력\n",
        "number = int(input('정수 입력>>> '))\n",
        "if number % 2 == 0:\n",
        "    print(f'{number}: even')\n",
        "else:\n",
        "    print(f'{number}: odd')"
      ],
      "metadata": {
        "colab": {
          "base_uri": "https://localhost:8080/"
        },
        "id": "6EShJWHyMnaU",
        "outputId": "5fddfa23-67a4-4138-ed31-11694ae49684"
      },
      "execution_count": 9,
      "outputs": [
        {
          "output_type": "stream",
          "name": "stdout",
          "text": [
            "정수 입력>>> 21\n",
            "21: odd\n"
          ]
        }
      ]
    },
    {
      "cell_type": "markdown",
      "source": [
        "## chained conditional(if-elif-else)\n",
        "\n",
        "```\n",
        "if 조건식1:\n",
        "    조건식1을 만족할 때 실행할 문장(들)\n",
        "elif 조건식2:\n",
        "    조건식2을 만족할 때 실행할 문장(들)\n",
        "...\n",
        "else:\n",
        "    위의 모든 조건식을 만족하지 못할 때 실행할 문장(들)\n",
        "```\n"
      ],
      "metadata": {
        "id": "dvhF6dQ0SoHs"
      }
    },
    {
      "cell_type": "code",
      "source": [
        "# 정수를 입력받아서 양수인 지, 음수인 지, 0인 지를 출력\n",
        "number = int(input('정수 입력>>> '))\n",
        "if number > 0:\n",
        "    print('양수')\n",
        "elif number < 0:\n",
        "    print('음수')\n",
        "else:\n",
        "    print('zero')"
      ],
      "metadata": {
        "colab": {
          "base_uri": "https://localhost:8080/"
        },
        "id": "bk6FNaSZT8RV",
        "outputId": "1fca30a9-6c25-4eb8-edde-0aa3e9489e47"
      },
      "execution_count": 12,
      "outputs": [
        {
          "output_type": "stream",
          "name": "stdout",
          "text": [
            "정수 입력>>> 0\n",
            "zero\n"
          ]
        }
      ]
    },
    {
      "cell_type": "markdown",
      "source": [
        "## 중첩 조건문(nested conditional)\n",
        "\n",
        "* `if` 블록, `elif` 블록, `else` 블록 안에서 조건문을 사용하는 것.\n",
        "* 중첩 조건문은 `elif`를 사용하거나 논리 연산자(and, or)를 사용해서 중첩되지 않는 조건문으로 만들 수도 있음.\n",
        "* 중첩 조건문을 사용할 때는 들여쓰기(indentation)을 주의해야 함. 들여쓰기 방법에 따라서 완전히 다른 실행 코드(로직)이 될 수 있음.\n"
      ],
      "metadata": {
        "id": "pRZHZ1GpVtoF"
      }
    },
    {
      "cell_type": "code",
      "source": [
        "number = int(input('정수 입력>>> '))\n",
        "if number > 0:\n",
        "    print('양수')\n",
        "else:\n",
        "    if number < 0:\n",
        "        print('음수')\n",
        "    else:\n",
        "        print('영')"
      ],
      "metadata": {
        "colab": {
          "base_uri": "https://localhost:8080/"
        },
        "id": "W_FTdZXkUzvl",
        "outputId": "b4637ba7-f827-4be0-9e0a-59dabcd4991f"
      },
      "execution_count": 15,
      "outputs": [
        {
          "output_type": "stream",
          "name": "stdout",
          "text": [
            "정수 입력>>> 0\n",
            "영\n"
          ]
        }
      ]
    },
    {
      "cell_type": "markdown",
      "source": [
        "# 연습문제\n",
        "\n",
        "* 변수 3개에 정수 3개를 입력받고 저장\n",
        "* 입력받은 정수 3개의 평균을 계산\n",
        "* 평균이\n",
        "    * 90 이상이면 'A',\n",
        "    * 80 이상이면 'B',\n",
        "    * 70 이상이면 'C',\n",
        "    * 70 미만이면 'F'를 출력"
      ],
      "metadata": {
        "id": "BQ-QHw8XX9lt"
      }
    },
    {
      "cell_type": "code",
      "source": [
        "# 정수를 입력받고 변수에 저장\n",
        "x = int(input('정수 입력>>> '))\n",
        "y = int(input('정수 입력>>> '))\n",
        "z = int(input('정수 입력>>> '))\n",
        "\n",
        "# 세 정수의 평균 계산\n",
        "mean = (x + y + z) / 3\n",
        "print(f'평균 = {mean}')\n",
        "\n",
        "# A, B, C, F를 출력\n",
        "if mean >= 90:\n",
        "    print('A')\n",
        "elif mean >= 80:\n",
        "    print('B')\n",
        "elif mean >= 70:\n",
        "    print('C')\n",
        "else:\n",
        "    print('F')"
      ],
      "metadata": {
        "colab": {
          "base_uri": "https://localhost:8080/"
        },
        "id": "VJw6b_pHXQHV",
        "outputId": "292e25e0-c9c1-465a-c30d-e94d9d1c53a5"
      },
      "execution_count": 18,
      "outputs": [
        {
          "output_type": "stream",
          "name": "stdout",
          "text": [
            "정수 입력>>> 80\n",
            "정수 입력>>> 81\n",
            "정수 입력>>> 84\n",
            "평균 = 81.66666666666667\n",
            "B\n"
          ]
        }
      ]
    }
  ]
}